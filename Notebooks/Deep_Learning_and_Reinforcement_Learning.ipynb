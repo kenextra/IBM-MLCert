{
  "nbformat": 4,
  "nbformat_minor": 0,
  "metadata": {
    "colab": {
      "name": "Deep Learning and Reinforcement Learning.ipynb",
      "provenance": [],
      "collapsed_sections": [],
      "authorship_tag": "ABX9TyOr4HlNi/FoN/c+2wfFA855",
      "include_colab_link": true
    },
    "kernelspec": {
      "name": "python3",
      "display_name": "Python 3"
    },
    "language_info": {
      "name": "python"
    },
    "accelerator": "GPU"
  },
  "cells": [
    {
      "cell_type": "markdown",
      "metadata": {
        "id": "view-in-github",
        "colab_type": "text"
      },
      "source": [
        "<a href=\"https://colab.research.google.com/github/kenextra/IBM-MLCert/blob/main/Deep_Learning_and_Reinforcement_Learning.ipynb\" target=\"_parent\"><img src=\"https://colab.research.google.com/assets/colab-badge.svg\" alt=\"Open In Colab\"/></a>"
      ]
    },
    {
      "cell_type": "markdown",
      "metadata": {
        "id": "l8wUYLLrzGVI"
      },
      "source": [
        "# Deep Learning and Reinforcement Learning"
      ]
    },
    {
      "cell_type": "markdown",
      "metadata": {
        "id": "a-AlCE9eN64X"
      },
      "source": [
        "## Sections required in your report:\n",
        "\n",
        "1. Main objective of the analysis that also specifies whether your model will be focused on a specific type of Deep Learning or Reinforcement Learning algorithm and the benefits that your analysis brings to the business or stakeholders of this data. \n",
        "\n",
        "2. Brief description of the data set you chose, a summary of its attributes, and an outline of what you are trying to accomplish with this analysis. \n",
        "\n",
        "3. Brief summary of data exploration and actions taken for data cleaning or feature engineering. \n",
        "\n",
        "4. Summary of training at least three variations of the Deep Learning model you selected. For example, you can use different clustering techniques or different hyperparameters. \n",
        "\n",
        "5. A paragraph explaining which of your Deep Learning models you recommend as a final model that best fits your needs in terms of accuracy or explainability. \n",
        "\n",
        "6. Summary Key Findings and Insights, which walks your reader through the main findings of your modeling exercise. \n",
        "\n",
        "7. Suggestions for next steps in analyzing this data, which may include suggesting revisiting this model or adding specific data features to achieve a better model."
      ]
    },
    {
      "cell_type": "markdown",
      "metadata": {
        "id": "D4TSAbtKN64g"
      },
      "source": [
        "## The grading will center around 5 main points:\n",
        "\n",
        "1. Does the report include a section describing the data? \n",
        "\n",
        "2. Does the report include a paragraph detailing the main objective(s) of this analysis?  \n",
        "\n",
        "3. Does the report include a section with variations of a Deep Learning model and specifies which one is the model that best suits the main objective(s) of this analysis? \n",
        "\n",
        "4. Does the report include a clear and well presented section with key findings related to the main objective(s) of the analysis? \n",
        "\n",
        "5. Does the report highlight possible flaws in the model and a plan of action to revisit this analysis with additional data or different modeling techniques?"
      ]
    },
    {
      "cell_type": "markdown",
      "metadata": {
        "id": "S72rYuEBoKzx"
      },
      "source": [
        "# General Section"
      ]
    },
    {
      "cell_type": "code",
      "metadata": {
        "id": "T6ttYEXLodfs",
        "colab": {
          "base_uri": "https://localhost:8080/"
        },
        "outputId": "e2c2dab5-1ad8-44f0-e5e1-820f1b3a4b8d"
      },
      "source": [
        "%%bash\n",
        "pip install --upgrade pandas --quiet\n",
        "pip install --upgrade scikit-learn --quiet\n",
        "pip install --upgrade imbalanced-learn --quiet\n",
        "pip install pyproj --quiet"
      ],
      "execution_count": null,
      "outputs": [
        {
          "output_type": "stream",
          "text": [
            "ERROR: pip's dependency resolver does not currently take into account all the packages that are installed. This behaviour is the source of the following dependency conflicts.\n",
            "google-colab 1.0.0 requires pandas~=1.1.0; python_version >= \"3.0\", but you have pandas 1.3.2 which is incompatible.\n"
          ],
          "name": "stderr"
        }
      ]
    },
    {
      "cell_type": "markdown",
      "metadata": {
        "id": "6Fbt-P-uGVhz"
      },
      "source": [
        "## Import needed libraries"
      ]
    },
    {
      "cell_type": "code",
      "metadata": {
        "id": "40lk3RadryLN"
      },
      "source": [
        "import os\n",
        "import seaborn as sns\n",
        "from colorsetup import colors, palette\n",
        "sns.set_palette(palette)"
      ],
      "execution_count": null,
      "outputs": []
    },
    {
      "cell_type": "code",
      "metadata": {
        "id": "moyCFsf2zV9q"
      },
      "source": [
        "import matplotlib as mpl\n",
        "import matplotlib.pyplot as plt\n",
        "import matplotlib.patches as patches\n",
        "from matplotlib.patches import ConnectionPatch\n",
        "# from collections import OrderedDict\n",
        "from matplotlib.gridspec import GridSpec\n",
        "plt.rcParams[\"patch.force_edgecolor\"] = True\n",
        "plt.style.use('fivethirtyeight')\n",
        "mpl.rc('patch', edgecolor = 'dimgray', linewidth=1)\n",
        "from IPython.core.interactiveshell import InteractiveShell\n",
        "InteractiveShell.ast_node_interactivity = \"last_expr\"\n",
        "%matplotlib inline"
      ],
      "execution_count": null,
      "outputs": []
    },
    {
      "cell_type": "code",
      "metadata": {
        "colab": {
          "base_uri": "https://localhost:8080/",
          "height": 36
        },
        "id": "nKTHVn_WzV9s",
        "outputId": "3159a124-6e55-4112-d1d7-e80555545a8a"
      },
      "source": [
        "import os\n",
        "import pandas as pd\n",
        "import numpy as np\n",
        "import plotly.express as px\n",
        "pd.__version__"
      ],
      "execution_count": null,
      "outputs": [
        {
          "output_type": "execute_result",
          "data": {
            "application/vnd.google.colaboratory.intrinsic+json": {
              "type": "string"
            },
            "text/plain": [
              "'1.3.2'"
            ]
          },
          "metadata": {},
          "execution_count": 3
        }
      ]
    },
    {
      "cell_type": "code",
      "metadata": {
        "id": "CV92dkH2zV9v"
      },
      "source": [
        "import urllib.request\n",
        "from zipfile import ZipFile\n",
        "from pathlib import Path\n",
        "from import_dataset import (load_data, basic_preprocessing,\n",
        "                            add_dayof_week, add_timeof_day,\n",
        "                            add_crow_direction, add_avespeed,\n",
        "                            add_toll_source, add_toll_paid, filter_toll)"
      ],
      "execution_count": null,
      "outputs": []
    },
    {
      "cell_type": "markdown",
      "metadata": {
        "id": "jUEhWLEqGxkP"
      },
      "source": [
        "## Download Data"
      ]
    },
    {
      "cell_type": "code",
      "metadata": {
        "colab": {
          "base_uri": "https://localhost:8080/"
        },
        "id": "tj7Ef6Kg9Dgr",
        "outputId": "400a1f68-a608-4109-8daa-a2fe5c29c402"
      },
      "source": [
        "DATA_URL = \"https://www.mathworks.com/supportfiles/practicaldsmatlab/taxi/Taxi%20Data.zip\"\n",
        "DATA_NAME = \"TaxiData.zip\"\n",
        "urllib.request.urlretrieve(DATA_URL, DATA_NAME)"
      ],
      "execution_count": null,
      "outputs": [
        {
          "output_type": "execute_result",
          "data": {
            "text/plain": [
              "('TaxiData.zip', <http.client.HTTPMessage at 0x7f015a81d1d0>)"
            ]
          },
          "metadata": {},
          "execution_count": 5
        }
      ]
    },
    {
      "cell_type": "code",
      "metadata": {
        "id": "dITT8ccZGxPn"
      },
      "source": [
        "# Create a ZipFile Object and load data in it\n",
        "with ZipFile(DATA_NAME, 'r') as zipObj:\n",
        "   # Extract all the contents of zip file in current directory\n",
        "   zipObj.extractall()"
      ],
      "execution_count": null,
      "outputs": []
    },
    {
      "cell_type": "code",
      "metadata": {
        "colab": {
          "base_uri": "https://localhost:8080/"
        },
        "id": "X463HO7GHG9_",
        "outputId": "250059e2-e683-42f8-d5a8-2301cbdf0852"
      },
      "source": [
        "DATA_DIR = Path.cwd() / 'Taxi Data'\n",
        "DATA_DIR"
      ],
      "execution_count": null,
      "outputs": [
        {
          "output_type": "execute_result",
          "data": {
            "text/plain": [
              "PosixPath('/content/Taxi Data')"
            ]
          },
          "metadata": {},
          "execution_count": 7
        }
      ]
    },
    {
      "cell_type": "code",
      "metadata": {
        "id": "7gS4wGizzV91"
      },
      "source": [
        "IMAGES_PATH = Path.cwd() / 'images'\n",
        "os.makedirs(IMAGES_PATH, exist_ok=True)\n",
        "def save_fig(fig_id, tight_layout=True, fig_extension=\"png\", resolution=300):\n",
        "    path = os.path.join(IMAGES_PATH, fig_id + \".\" + fig_extension)\n",
        "    print(\"Saving figure\", fig_id)\n",
        "    if tight_layout:\n",
        "        plt.tight_layout()\n",
        "    plt.savefig(path, format=fig_extension, dpi=resolution)"
      ],
      "execution_count": null,
      "outputs": []
    },
    {
      "cell_type": "markdown",
      "metadata": {
        "id": "QPVlj2PPHDs9"
      },
      "source": [
        "## Import and Explore Data"
      ]
    },
    {
      "cell_type": "code",
      "metadata": {
        "id": "wVxjZ5JhHG-B"
      },
      "source": [
        "col_names = [\"Vendor\", \"PickupTime\", \"DropoffTime\", \"Passengers\", \"Distance\", \"PickupLon\", \"PickupLat\",\n",
        "             \"RateCode\", \"HeldFlag\", \"DropoffLon\", \"DropoffLat\", \"PayType\", \"Fare\", \"ExtraCharge\", \"Tax\",\n",
        "             \"Tip\", \"Tolls\", \"ImpSurcharge\", \"TotalCharge\"];"
      ],
      "execution_count": null,
      "outputs": []
    },
    {
      "cell_type": "code",
      "metadata": {
        "id": "HuwgL4ncHG-B"
      },
      "source": [
        "use_cols = ['VendorID',\n",
        " 'tpep_pickup_datetime',\n",
        " 'tpep_dropoff_datetime',\n",
        " 'passenger_count',\n",
        " 'trip_distance',\n",
        " 'pickup_longitude',\n",
        " 'pickup_latitude',\n",
        " 'RateCodeID',\n",
        " 'store_and_fwd_flag',\n",
        " 'dropoff_longitude',\n",
        " 'dropoff_latitude',\n",
        " 'payment_type',\n",
        " 'fare_amount',\n",
        " 'extra',\n",
        " 'mta_tax',\n",
        " 'tip_amount',\n",
        " 'tolls_amount',\n",
        " 'improvement_surcharge',\n",
        " 'total_amount']\n",
        "\n",
        "parse_dates = [\"tpep_pickup_datetime\", \"tpep_dropoff_datetime\"]"
      ],
      "execution_count": null,
      "outputs": []
    },
    {
      "cell_type": "code",
      "metadata": {
        "id": "XY1nhWzbHG-C"
      },
      "source": [
        "dtype = {'RateCodeID': str, 'payment_type': str, 'VendorID': str, 'RatecodeID': str,}  # , dtype=dtype"
      ],
      "execution_count": null,
      "outputs": []
    },
    {
      "cell_type": "code",
      "metadata": {
        "colab": {
          "base_uri": "https://localhost:8080/"
        },
        "id": "xEkw73Y_H3Tv",
        "outputId": "47622f7f-ede4-400d-b395-626f3f609c55"
      },
      "source": [
        "original = load_data(path_dir=DATA_DIR, parse_dates=parse_dates, \n",
        "                     usecols=use_cols, dtype=dtype,\n",
        "                      file_substr='yellow', skiprows=1, preprocess=True, )"
      ],
      "execution_count": null,
      "outputs": [
        {
          "output_type": "stream",
          "text": [
            "Loading all yellow*.csv in /content/Taxi Data folder...\n",
            "\n",
            "Converting categorical features to their corresponding values...\n",
            "\n",
            "Removing invalid charges...\n",
            "\n",
            "Removing invalid trip information...\n",
            "\n",
            "Keep trips with pickup and drop off locations inside the region of interest\n",
            "\n",
            "Adding new features: Duration...\n",
            "\n",
            "Only keep trips with typical values..\n",
            "\n"
          ],
          "name": "stdout"
        }
      ]
    },
    {
      "cell_type": "code",
      "metadata": {
        "id": "uZU3p__jH3Tx"
      },
      "source": [
        "df = original.copy(deep=True)"
      ],
      "execution_count": null,
      "outputs": []
    },
    {
      "cell_type": "code",
      "metadata": {
        "colab": {
          "base_uri": "https://localhost:8080/"
        },
        "id": "4X0ZzrQ6HG-D",
        "outputId": "a62b636b-d004-4224-f88f-8737f40653b7"
      },
      "source": [
        "df.info(show_counts=True)"
      ],
      "execution_count": null,
      "outputs": [
        {
          "output_type": "stream",
          "text": [
            "<class 'pandas.core.frame.DataFrame'>\n",
            "RangeIndex: 2823895 entries, 0 to 2823894\n",
            "Data columns (total 20 columns):\n",
            " #   Column                 Non-Null Count    Dtype         \n",
            "---  ------                 --------------    -----         \n",
            " 0   VendorID               2823895 non-null  object        \n",
            " 1   tpep_pickup_datetime   2823895 non-null  datetime64[ns]\n",
            " 2   tpep_dropoff_datetime  2823895 non-null  datetime64[ns]\n",
            " 3   passenger_count        2823895 non-null  int64         \n",
            " 4   trip_distance          2823895 non-null  float64       \n",
            " 5   pickup_longitude       2823895 non-null  float64       \n",
            " 6   pickup_latitude        2823895 non-null  float64       \n",
            " 7   RateCodeID             2823895 non-null  object        \n",
            " 8   store_and_fwd_flag     2823895 non-null  object        \n",
            " 9   dropoff_longitude      2823895 non-null  float64       \n",
            " 10  dropoff_latitude       2823895 non-null  float64       \n",
            " 11  payment_type           2823895 non-null  object        \n",
            " 12  fare_amount            2823895 non-null  float64       \n",
            " 13  extra                  2823895 non-null  float64       \n",
            " 14  mta_tax                2823895 non-null  float64       \n",
            " 15  tip_amount             2823895 non-null  float64       \n",
            " 16  tolls_amount           2823895 non-null  float64       \n",
            " 17  improvement_surcharge  2823895 non-null  float64       \n",
            " 18  total_amount           2823895 non-null  float64       \n",
            " 19  duration               2823895 non-null  float64       \n",
            "dtypes: datetime64[ns](2), float64(13), int64(1), object(4)\n",
            "memory usage: 430.9+ MB\n"
          ],
          "name": "stdout"
        }
      ]
    },
    {
      "cell_type": "code",
      "metadata": {
        "colab": {
          "base_uri": "https://localhost:8080/"
        },
        "id": "GaCpjyWh1qLF",
        "outputId": "d51e8383-1c77-4e20-a6fb-f9078d861b4b"
      },
      "source": [
        "df.shape"
      ],
      "execution_count": null,
      "outputs": [
        {
          "output_type": "execute_result",
          "data": {
            "text/plain": [
              "(2823895, 20)"
            ]
          },
          "metadata": {},
          "execution_count": 15
        }
      ]
    },
    {
      "cell_type": "code",
      "metadata": {
        "colab": {
          "base_uri": "https://localhost:8080/",
          "height": 417
        },
        "id": "VJsuX3d1HG-E",
        "outputId": "997e10da-788a-476c-8c9b-329b109052d9"
      },
      "source": [
        "df.head()"
      ],
      "execution_count": null,
      "outputs": [
        {
          "output_type": "execute_result",
          "data": {
            "text/html": [
              "<div>\n",
              "<style scoped>\n",
              "    .dataframe tbody tr th:only-of-type {\n",
              "        vertical-align: middle;\n",
              "    }\n",
              "\n",
              "    .dataframe tbody tr th {\n",
              "        vertical-align: top;\n",
              "    }\n",
              "\n",
              "    .dataframe thead th {\n",
              "        text-align: right;\n",
              "    }\n",
              "</style>\n",
              "<table border=\"1\" class=\"dataframe\">\n",
              "  <thead>\n",
              "    <tr style=\"text-align: right;\">\n",
              "      <th></th>\n",
              "      <th>VendorID</th>\n",
              "      <th>tpep_pickup_datetime</th>\n",
              "      <th>tpep_dropoff_datetime</th>\n",
              "      <th>passenger_count</th>\n",
              "      <th>trip_distance</th>\n",
              "      <th>pickup_longitude</th>\n",
              "      <th>pickup_latitude</th>\n",
              "      <th>RateCodeID</th>\n",
              "      <th>store_and_fwd_flag</th>\n",
              "      <th>dropoff_longitude</th>\n",
              "      <th>dropoff_latitude</th>\n",
              "      <th>payment_type</th>\n",
              "      <th>fare_amount</th>\n",
              "      <th>extra</th>\n",
              "      <th>mta_tax</th>\n",
              "      <th>tip_amount</th>\n",
              "      <th>tolls_amount</th>\n",
              "      <th>improvement_surcharge</th>\n",
              "      <th>total_amount</th>\n",
              "      <th>duration</th>\n",
              "    </tr>\n",
              "  </thead>\n",
              "  <tbody>\n",
              "    <tr>\n",
              "      <th>0</th>\n",
              "      <td>Creative Mobile Technologies, LLC</td>\n",
              "      <td>2015-04-04 18:38:47</td>\n",
              "      <td>2015-04-04 18:52:47</td>\n",
              "      <td>1</td>\n",
              "      <td>2.00</td>\n",
              "      <td>-73.987144</td>\n",
              "      <td>40.760750</td>\n",
              "      <td>Standard rate</td>\n",
              "      <td>N</td>\n",
              "      <td>-73.997025</td>\n",
              "      <td>40.737534</td>\n",
              "      <td>Credit card</td>\n",
              "      <td>10.5</td>\n",
              "      <td>0.0</td>\n",
              "      <td>0.5</td>\n",
              "      <td>2.25</td>\n",
              "      <td>0.0</td>\n",
              "      <td>0.3</td>\n",
              "      <td>13.55</td>\n",
              "      <td>14.000000</td>\n",
              "    </tr>\n",
              "    <tr>\n",
              "      <th>1</th>\n",
              "      <td>Creative Mobile Technologies, LLC</td>\n",
              "      <td>2015-04-15 19:35:14</td>\n",
              "      <td>2015-04-15 19:45:50</td>\n",
              "      <td>2</td>\n",
              "      <td>1.50</td>\n",
              "      <td>-73.971695</td>\n",
              "      <td>40.760284</td>\n",
              "      <td>Standard rate</td>\n",
              "      <td>N</td>\n",
              "      <td>-73.955284</td>\n",
              "      <td>40.768768</td>\n",
              "      <td>Credit card</td>\n",
              "      <td>8.5</td>\n",
              "      <td>1.0</td>\n",
              "      <td>0.5</td>\n",
              "      <td>2.05</td>\n",
              "      <td>0.0</td>\n",
              "      <td>0.3</td>\n",
              "      <td>12.35</td>\n",
              "      <td>10.600000</td>\n",
              "    </tr>\n",
              "    <tr>\n",
              "      <th>2</th>\n",
              "      <td>VeriFone Inc.</td>\n",
              "      <td>2015-04-10 16:15:53</td>\n",
              "      <td>2015-04-10 16:24:29</td>\n",
              "      <td>2</td>\n",
              "      <td>1.22</td>\n",
              "      <td>-73.981773</td>\n",
              "      <td>40.771370</td>\n",
              "      <td>Standard rate</td>\n",
              "      <td>N</td>\n",
              "      <td>-73.975090</td>\n",
              "      <td>40.787529</td>\n",
              "      <td>Cash</td>\n",
              "      <td>7.5</td>\n",
              "      <td>1.0</td>\n",
              "      <td>0.5</td>\n",
              "      <td>0.00</td>\n",
              "      <td>0.0</td>\n",
              "      <td>0.3</td>\n",
              "      <td>9.30</td>\n",
              "      <td>8.600000</td>\n",
              "    </tr>\n",
              "    <tr>\n",
              "      <th>3</th>\n",
              "      <td>Creative Mobile Technologies, LLC</td>\n",
              "      <td>2015-04-21 08:55:53</td>\n",
              "      <td>2015-04-21 09:08:24</td>\n",
              "      <td>1</td>\n",
              "      <td>1.60</td>\n",
              "      <td>-73.963989</td>\n",
              "      <td>40.770832</td>\n",
              "      <td>Standard rate</td>\n",
              "      <td>N</td>\n",
              "      <td>-73.976410</td>\n",
              "      <td>40.763741</td>\n",
              "      <td>Credit card</td>\n",
              "      <td>9.5</td>\n",
              "      <td>0.0</td>\n",
              "      <td>0.5</td>\n",
              "      <td>2.05</td>\n",
              "      <td>0.0</td>\n",
              "      <td>0.3</td>\n",
              "      <td>12.35</td>\n",
              "      <td>12.516667</td>\n",
              "    </tr>\n",
              "    <tr>\n",
              "      <th>4</th>\n",
              "      <td>VeriFone Inc.</td>\n",
              "      <td>2015-04-02 21:06:41</td>\n",
              "      <td>2015-04-02 21:13:17</td>\n",
              "      <td>1</td>\n",
              "      <td>1.29</td>\n",
              "      <td>-73.992554</td>\n",
              "      <td>40.758415</td>\n",
              "      <td>Standard rate</td>\n",
              "      <td>N</td>\n",
              "      <td>-73.995453</td>\n",
              "      <td>40.744347</td>\n",
              "      <td>Credit card</td>\n",
              "      <td>6.5</td>\n",
              "      <td>0.5</td>\n",
              "      <td>0.5</td>\n",
              "      <td>1.56</td>\n",
              "      <td>0.0</td>\n",
              "      <td>0.3</td>\n",
              "      <td>9.36</td>\n",
              "      <td>6.600000</td>\n",
              "    </tr>\n",
              "  </tbody>\n",
              "</table>\n",
              "</div>"
            ],
            "text/plain": [
              "                            VendorID  ...   duration\n",
              "0  Creative Mobile Technologies, LLC  ...  14.000000\n",
              "1  Creative Mobile Technologies, LLC  ...  10.600000\n",
              "2                      VeriFone Inc.  ...   8.600000\n",
              "3  Creative Mobile Technologies, LLC  ...  12.516667\n",
              "4                      VeriFone Inc.  ...   6.600000\n",
              "\n",
              "[5 rows x 20 columns]"
            ]
          },
          "metadata": {},
          "execution_count": 16
        }
      ]
    },
    {
      "cell_type": "code",
      "metadata": {
        "colab": {
          "base_uri": "https://localhost:8080/",
          "height": 487
        },
        "id": "H06jo2TRHG-F",
        "outputId": "36161181-39f8-4a16-83b3-05d85576d992"
      },
      "source": [
        "df.tail()"
      ],
      "execution_count": null,
      "outputs": [
        {
          "output_type": "execute_result",
          "data": {
            "text/html": [
              "<div>\n",
              "<style scoped>\n",
              "    .dataframe tbody tr th:only-of-type {\n",
              "        vertical-align: middle;\n",
              "    }\n",
              "\n",
              "    .dataframe tbody tr th {\n",
              "        vertical-align: top;\n",
              "    }\n",
              "\n",
              "    .dataframe thead th {\n",
              "        text-align: right;\n",
              "    }\n",
              "</style>\n",
              "<table border=\"1\" class=\"dataframe\">\n",
              "  <thead>\n",
              "    <tr style=\"text-align: right;\">\n",
              "      <th></th>\n",
              "      <th>VendorID</th>\n",
              "      <th>tpep_pickup_datetime</th>\n",
              "      <th>tpep_dropoff_datetime</th>\n",
              "      <th>passenger_count</th>\n",
              "      <th>trip_distance</th>\n",
              "      <th>pickup_longitude</th>\n",
              "      <th>pickup_latitude</th>\n",
              "      <th>RateCodeID</th>\n",
              "      <th>store_and_fwd_flag</th>\n",
              "      <th>dropoff_longitude</th>\n",
              "      <th>dropoff_latitude</th>\n",
              "      <th>payment_type</th>\n",
              "      <th>fare_amount</th>\n",
              "      <th>extra</th>\n",
              "      <th>mta_tax</th>\n",
              "      <th>tip_amount</th>\n",
              "      <th>tolls_amount</th>\n",
              "      <th>improvement_surcharge</th>\n",
              "      <th>total_amount</th>\n",
              "      <th>duration</th>\n",
              "    </tr>\n",
              "  </thead>\n",
              "  <tbody>\n",
              "    <tr>\n",
              "      <th>2823890</th>\n",
              "      <td>Creative Mobile Technologies, LLC</td>\n",
              "      <td>2015-09-30 23:59:45</td>\n",
              "      <td>2015-10-01 00:16:53</td>\n",
              "      <td>1</td>\n",
              "      <td>1.9</td>\n",
              "      <td>-73.972404</td>\n",
              "      <td>40.762554</td>\n",
              "      <td>Standard rate</td>\n",
              "      <td>N</td>\n",
              "      <td>-73.992828</td>\n",
              "      <td>40.754547</td>\n",
              "      <td>Cash</td>\n",
              "      <td>12.0</td>\n",
              "      <td>0.5</td>\n",
              "      <td>0.5</td>\n",
              "      <td>0.00</td>\n",
              "      <td>0.0</td>\n",
              "      <td>0.3</td>\n",
              "      <td>13.30</td>\n",
              "      <td>17.133333</td>\n",
              "    </tr>\n",
              "    <tr>\n",
              "      <th>2823891</th>\n",
              "      <td>Creative Mobile Technologies, LLC</td>\n",
              "      <td>2015-09-19 12:03:09</td>\n",
              "      <td>2015-09-19 12:11:54</td>\n",
              "      <td>1</td>\n",
              "      <td>1.2</td>\n",
              "      <td>-73.996628</td>\n",
              "      <td>40.737476</td>\n",
              "      <td>Standard rate</td>\n",
              "      <td>N</td>\n",
              "      <td>-73.994858</td>\n",
              "      <td>40.750084</td>\n",
              "      <td>Credit card</td>\n",
              "      <td>7.5</td>\n",
              "      <td>1.0</td>\n",
              "      <td>0.5</td>\n",
              "      <td>2.00</td>\n",
              "      <td>0.0</td>\n",
              "      <td>0.3</td>\n",
              "      <td>11.30</td>\n",
              "      <td>8.750000</td>\n",
              "    </tr>\n",
              "    <tr>\n",
              "      <th>2823892</th>\n",
              "      <td>Creative Mobile Technologies, LLC</td>\n",
              "      <td>2015-09-20 00:41:25</td>\n",
              "      <td>2015-09-20 00:53:23</td>\n",
              "      <td>1</td>\n",
              "      <td>1.7</td>\n",
              "      <td>-73.984802</td>\n",
              "      <td>40.745243</td>\n",
              "      <td>Standard rate</td>\n",
              "      <td>N</td>\n",
              "      <td>-73.964851</td>\n",
              "      <td>40.754166</td>\n",
              "      <td>Credit card</td>\n",
              "      <td>9.5</td>\n",
              "      <td>1.0</td>\n",
              "      <td>0.5</td>\n",
              "      <td>2.25</td>\n",
              "      <td>0.0</td>\n",
              "      <td>0.3</td>\n",
              "      <td>13.55</td>\n",
              "      <td>11.966667</td>\n",
              "    </tr>\n",
              "    <tr>\n",
              "      <th>2823893</th>\n",
              "      <td>Creative Mobile Technologies, LLC</td>\n",
              "      <td>2015-09-20 13:24:59</td>\n",
              "      <td>2015-09-20 13:31:28</td>\n",
              "      <td>1</td>\n",
              "      <td>1.2</td>\n",
              "      <td>-73.955750</td>\n",
              "      <td>40.779633</td>\n",
              "      <td>Standard rate</td>\n",
              "      <td>N</td>\n",
              "      <td>-73.970543</td>\n",
              "      <td>40.788414</td>\n",
              "      <td>Cash</td>\n",
              "      <td>6.5</td>\n",
              "      <td>0.0</td>\n",
              "      <td>0.5</td>\n",
              "      <td>0.00</td>\n",
              "      <td>0.0</td>\n",
              "      <td>0.3</td>\n",
              "      <td>7.30</td>\n",
              "      <td>6.483333</td>\n",
              "    </tr>\n",
              "    <tr>\n",
              "      <th>2823894</th>\n",
              "      <td>Creative Mobile Technologies, LLC</td>\n",
              "      <td>2015-09-20 23:13:08</td>\n",
              "      <td>2015-09-20 23:20:57</td>\n",
              "      <td>1</td>\n",
              "      <td>2.1</td>\n",
              "      <td>-73.983444</td>\n",
              "      <td>40.765400</td>\n",
              "      <td>Standard rate</td>\n",
              "      <td>N</td>\n",
              "      <td>-73.977379</td>\n",
              "      <td>40.788872</td>\n",
              "      <td>Cash</td>\n",
              "      <td>8.5</td>\n",
              "      <td>0.5</td>\n",
              "      <td>0.5</td>\n",
              "      <td>0.00</td>\n",
              "      <td>0.0</td>\n",
              "      <td>0.3</td>\n",
              "      <td>9.80</td>\n",
              "      <td>7.816667</td>\n",
              "    </tr>\n",
              "  </tbody>\n",
              "</table>\n",
              "</div>"
            ],
            "text/plain": [
              "                                  VendorID  ...   duration\n",
              "2823890  Creative Mobile Technologies, LLC  ...  17.133333\n",
              "2823891  Creative Mobile Technologies, LLC  ...   8.750000\n",
              "2823892  Creative Mobile Technologies, LLC  ...  11.966667\n",
              "2823893  Creative Mobile Technologies, LLC  ...   6.483333\n",
              "2823894  Creative Mobile Technologies, LLC  ...   7.816667\n",
              "\n",
              "[5 rows x 20 columns]"
            ]
          },
          "metadata": {},
          "execution_count": 17
        }
      ]
    },
    {
      "cell_type": "code",
      "metadata": {
        "id": "eTig70E1HG-G"
      },
      "source": [
        "# Add features\n",
        "df = add_timeof_day(df)\n",
        "df = add_dayof_week(df)\n",
        "df = add_avespeed(df)\n",
        "df = add_toll_paid(df)\n",
        "df = add_toll_source(df)"
      ],
      "execution_count": null,
      "outputs": []
    },
    {
      "cell_type": "code",
      "metadata": {
        "colab": {
          "base_uri": "https://localhost:8080/",
          "height": 175
        },
        "id": "JAPg_pvEIPBH",
        "outputId": "324a8dc1-961e-425e-a682-bbb171ab3678"
      },
      "source": [
        "df.describe(include=[object, bool], )"
      ],
      "execution_count": null,
      "outputs": [
        {
          "output_type": "execute_result",
          "data": {
            "text/html": [
              "<div>\n",
              "<style scoped>\n",
              "    .dataframe tbody tr th:only-of-type {\n",
              "        vertical-align: middle;\n",
              "    }\n",
              "\n",
              "    .dataframe tbody tr th {\n",
              "        vertical-align: top;\n",
              "    }\n",
              "\n",
              "    .dataframe thead th {\n",
              "        text-align: right;\n",
              "    }\n",
              "</style>\n",
              "<table border=\"1\" class=\"dataframe\">\n",
              "  <thead>\n",
              "    <tr style=\"text-align: right;\">\n",
              "      <th></th>\n",
              "      <th>VendorID</th>\n",
              "      <th>RateCodeID</th>\n",
              "      <th>store_and_fwd_flag</th>\n",
              "      <th>payment_type</th>\n",
              "      <th>day_of_week</th>\n",
              "      <th>toll_paid</th>\n",
              "      <th>toll_source</th>\n",
              "    </tr>\n",
              "  </thead>\n",
              "  <tbody>\n",
              "    <tr>\n",
              "      <th>count</th>\n",
              "      <td>2823701</td>\n",
              "      <td>2823701</td>\n",
              "      <td>2823701</td>\n",
              "      <td>2823701</td>\n",
              "      <td>2823701</td>\n",
              "      <td>2823701</td>\n",
              "      <td>2823701</td>\n",
              "    </tr>\n",
              "    <tr>\n",
              "      <th>unique</th>\n",
              "      <td>2</td>\n",
              "      <td>6</td>\n",
              "      <td>2</td>\n",
              "      <td>4</td>\n",
              "      <td>7</td>\n",
              "      <td>2</td>\n",
              "      <td>11</td>\n",
              "    </tr>\n",
              "    <tr>\n",
              "      <th>top</th>\n",
              "      <td>VeriFone Inc.</td>\n",
              "      <td>Standard rate</td>\n",
              "      <td>N</td>\n",
              "      <td>Credit card</td>\n",
              "      <td>Saturday</td>\n",
              "      <td>NoToll</td>\n",
              "      <td>NoToll</td>\n",
              "    </tr>\n",
              "    <tr>\n",
              "      <th>freq</th>\n",
              "      <td>1502987</td>\n",
              "      <td>2764846</td>\n",
              "      <td>2801375</td>\n",
              "      <td>1780318</td>\n",
              "      <td>435155</td>\n",
              "      <td>2682515</td>\n",
              "      <td>2682515</td>\n",
              "    </tr>\n",
              "  </tbody>\n",
              "</table>\n",
              "</div>"
            ],
            "text/plain": [
              "             VendorID     RateCodeID  ... toll_paid toll_source\n",
              "count         2823701        2823701  ...   2823701     2823701\n",
              "unique              2              6  ...         2          11\n",
              "top     VeriFone Inc.  Standard rate  ...    NoToll      NoToll\n",
              "freq          1502987        2764846  ...   2682515     2682515\n",
              "\n",
              "[4 rows x 7 columns]"
            ]
          },
          "metadata": {},
          "execution_count": 19
        }
      ]
    },
    {
      "cell_type": "code",
      "metadata": {
        "colab": {
          "base_uri": "https://localhost:8080/",
          "height": 394
        },
        "id": "zlAORtrLIPBJ",
        "outputId": "5baae0c8-4996-45dd-cbac-24273a10f056"
      },
      "source": [
        "df.toll_source.value_counts(normalize=True).to_frame()"
      ],
      "execution_count": null,
      "outputs": [
        {
          "output_type": "execute_result",
          "data": {
            "text/html": [
              "<div>\n",
              "<style scoped>\n",
              "    .dataframe tbody tr th:only-of-type {\n",
              "        vertical-align: middle;\n",
              "    }\n",
              "\n",
              "    .dataframe tbody tr th {\n",
              "        vertical-align: top;\n",
              "    }\n",
              "\n",
              "    .dataframe thead th {\n",
              "        text-align: right;\n",
              "    }\n",
              "</style>\n",
              "<table border=\"1\" class=\"dataframe\">\n",
              "  <thead>\n",
              "    <tr style=\"text-align: right;\">\n",
              "      <th></th>\n",
              "      <th>toll_source</th>\n",
              "    </tr>\n",
              "  </thead>\n",
              "  <tbody>\n",
              "    <tr>\n",
              "      <th>NoToll</th>\n",
              "      <td>0.950000</td>\n",
              "    </tr>\n",
              "    <tr>\n",
              "      <th>MTA_Other</th>\n",
              "      <td>0.048879</td>\n",
              "    </tr>\n",
              "    <tr>\n",
              "      <th>HH</th>\n",
              "      <td>0.000472</td>\n",
              "    </tr>\n",
              "    <tr>\n",
              "      <th>NYPA</th>\n",
              "      <td>0.000203</td>\n",
              "    </tr>\n",
              "    <tr>\n",
              "      <th>OtherToll</th>\n",
              "      <td>0.000176</td>\n",
              "    </tr>\n",
              "    <tr>\n",
              "      <th>VN</th>\n",
              "      <td>0.000112</td>\n",
              "    </tr>\n",
              "    <tr>\n",
              "      <th>VN_MTA_Other</th>\n",
              "      <td>0.000067</td>\n",
              "    </tr>\n",
              "    <tr>\n",
              "      <th>CBGH</th>\n",
              "      <td>0.000053</td>\n",
              "    </tr>\n",
              "    <tr>\n",
              "      <th>CBGH_MTA_Other</th>\n",
              "      <td>0.000016</td>\n",
              "    </tr>\n",
              "    <tr>\n",
              "      <th>NYPA_MTA_Other</th>\n",
              "      <td>0.000012</td>\n",
              "    </tr>\n",
              "    <tr>\n",
              "      <th>HH_MTA_Other</th>\n",
              "      <td>0.000008</td>\n",
              "    </tr>\n",
              "  </tbody>\n",
              "</table>\n",
              "</div>"
            ],
            "text/plain": [
              "                toll_source\n",
              "NoToll             0.950000\n",
              "MTA_Other          0.048879\n",
              "HH                 0.000472\n",
              "NYPA               0.000203\n",
              "OtherToll          0.000176\n",
              "VN                 0.000112\n",
              "VN_MTA_Other       0.000067\n",
              "CBGH               0.000053\n",
              "CBGH_MTA_Other     0.000016\n",
              "NYPA_MTA_Other     0.000012\n",
              "HH_MTA_Other       0.000008"
            ]
          },
          "metadata": {},
          "execution_count": 20
        }
      ]
    },
    {
      "cell_type": "code",
      "metadata": {
        "colab": {
          "base_uri": "https://localhost:8080/",
          "height": 112
        },
        "id": "VenBsPhJIPBM",
        "outputId": "2688973f-3042-4cdd-ab7f-c087b743aca2"
      },
      "source": [
        "df.toll_paid.value_counts(normalize=True).to_frame()"
      ],
      "execution_count": null,
      "outputs": [
        {
          "output_type": "execute_result",
          "data": {
            "text/html": [
              "<div>\n",
              "<style scoped>\n",
              "    .dataframe tbody tr th:only-of-type {\n",
              "        vertical-align: middle;\n",
              "    }\n",
              "\n",
              "    .dataframe tbody tr th {\n",
              "        vertical-align: top;\n",
              "    }\n",
              "\n",
              "    .dataframe thead th {\n",
              "        text-align: right;\n",
              "    }\n",
              "</style>\n",
              "<table border=\"1\" class=\"dataframe\">\n",
              "  <thead>\n",
              "    <tr style=\"text-align: right;\">\n",
              "      <th></th>\n",
              "      <th>toll_paid</th>\n",
              "    </tr>\n",
              "  </thead>\n",
              "  <tbody>\n",
              "    <tr>\n",
              "      <th>NoToll</th>\n",
              "      <td>0.95</td>\n",
              "    </tr>\n",
              "    <tr>\n",
              "      <th>Toll</th>\n",
              "      <td>0.05</td>\n",
              "    </tr>\n",
              "  </tbody>\n",
              "</table>\n",
              "</div>"
            ],
            "text/plain": [
              "        toll_paid\n",
              "NoToll       0.95\n",
              "Toll         0.05"
            ]
          },
          "metadata": {},
          "execution_count": 21
        }
      ]
    },
    {
      "cell_type": "code",
      "metadata": {
        "colab": {
          "base_uri": "https://localhost:8080/",
          "height": 112
        },
        "id": "4VHnJbSXIPBM",
        "outputId": "455002b1-6644-457e-df79-451fb7491ae7"
      },
      "source": [
        "df.toll_paid.value_counts().to_frame()"
      ],
      "execution_count": null,
      "outputs": [
        {
          "output_type": "execute_result",
          "data": {
            "text/html": [
              "<div>\n",
              "<style scoped>\n",
              "    .dataframe tbody tr th:only-of-type {\n",
              "        vertical-align: middle;\n",
              "    }\n",
              "\n",
              "    .dataframe tbody tr th {\n",
              "        vertical-align: top;\n",
              "    }\n",
              "\n",
              "    .dataframe thead th {\n",
              "        text-align: right;\n",
              "    }\n",
              "</style>\n",
              "<table border=\"1\" class=\"dataframe\">\n",
              "  <thead>\n",
              "    <tr style=\"text-align: right;\">\n",
              "      <th></th>\n",
              "      <th>toll_paid</th>\n",
              "    </tr>\n",
              "  </thead>\n",
              "  <tbody>\n",
              "    <tr>\n",
              "      <th>NoToll</th>\n",
              "      <td>2682515</td>\n",
              "    </tr>\n",
              "    <tr>\n",
              "      <th>Toll</th>\n",
              "      <td>141186</td>\n",
              "    </tr>\n",
              "  </tbody>\n",
              "</table>\n",
              "</div>"
            ],
            "text/plain": [
              "        toll_paid\n",
              "NoToll    2682515\n",
              "Toll       141186"
            ]
          },
          "metadata": {},
          "execution_count": 22
        }
      ]
    },
    {
      "cell_type": "markdown",
      "metadata": {
        "id": "rbN7SlV4Ihzg"
      },
      "source": [
        "### Visualize and Calculate metrics"
      ]
    },
    {
      "cell_type": "code",
      "metadata": {
        "id": "yZuRH0ckIhzh"
      },
      "source": [
        "# Extract features base on above correlation\n",
        "label = ['toll_paid']"
      ],
      "execution_count": null,
      "outputs": []
    },
    {
      "cell_type": "code",
      "metadata": {
        "colab": {
          "base_uri": "https://localhost:8080/",
          "height": 604
        },
        "id": "giUntmzvIhzh",
        "outputId": "0cc9e186-9a87-4a71-d290-eae50bf04217"
      },
      "source": [
        "bin_size = len(np.unique(df[label].values))\n",
        "df.toll_paid.hist(bins=bin_size, figsize=(12, 8), grid=True)\n",
        "save_fig('toll_paid_dist')"
      ],
      "execution_count": null,
      "outputs": [
        {
          "output_type": "stream",
          "text": [
            "Saving figure toll_paid_dist\n"
          ],
          "name": "stdout"
        },
        {
          "output_type": "display_data",
          "data": {
            "image/png": "[encoded data removed]",
            "text/plain": [
              "<Figure size 864x576 with 1 Axes>"
            ]
          },
          "metadata": {
            "needs_background": "light"
          }
        }
      ]
    },
    {
      "cell_type": "code",
      "metadata": {
        "colab": {
          "base_uri": "https://localhost:8080/",
          "height": 604
        },
        "id": "n594vSoNIhzi",
        "outputId": "41ded12a-8b8e-4eda-bcaf-7cac78c04940"
      },
      "source": [
        "df['toll_paid'].value_counts().plot(kind='bar', grid=False, figsize=(10, 8))\n",
        "save_fig('toll_paid_bar')"
      ],
      "execution_count": null,
      "outputs": [
        {
          "output_type": "stream",
          "text": [
            "Saving figure toll_paid_bar\n"
          ],
          "name": "stdout"
        },
        {
          "output_type": "display_data",
          "data": {
            "image/png": "[encoded data removed]",
            "text/plain": [
              "<Figure size 720x576 with 1 Axes>"
            ]
          },
          "metadata": {
            "needs_background": "light"
          }
        }
      ]
    },
    {
      "cell_type": "code",
      "metadata": {
        "id": "PFoIrH-dOQXL"
      },
      "source": [
        "# drop mta_tax and improvement_surchage\n",
        "df.drop(columns=['mta_tax', 'improvement_surcharge'], axis=1, inplace=True)"
      ],
      "execution_count": null,
      "outputs": []
    },
    {
      "cell_type": "code",
      "metadata": {
        "colab": {
          "base_uri": "https://localhost:8080/",
          "height": 488
        },
        "id": "NSGwGKI7HG-J",
        "outputId": "92393b79-7275-4c71-b808-ac12b83675ae"
      },
      "source": [
        "corr_matrix = df.corr()\n",
        "corr_matrix['duration'].sort_values(ascending=False).to_frame()"
      ],
      "execution_count": null,
      "outputs": [
        {
          "output_type": "execute_result",
          "data": {
            "text/html": [
              "<div>\n",
              "<style scoped>\n",
              "    .dataframe tbody tr th:only-of-type {\n",
              "        vertical-align: middle;\n",
              "    }\n",
              "\n",
              "    .dataframe tbody tr th {\n",
              "        vertical-align: top;\n",
              "    }\n",
              "\n",
              "    .dataframe thead th {\n",
              "        text-align: right;\n",
              "    }\n",
              "</style>\n",
              "<table border=\"1\" class=\"dataframe\">\n",
              "  <thead>\n",
              "    <tr style=\"text-align: right;\">\n",
              "      <th></th>\n",
              "      <th>duration</th>\n",
              "    </tr>\n",
              "  </thead>\n",
              "  <tbody>\n",
              "    <tr>\n",
              "      <th>duration</th>\n",
              "      <td>1.000000</td>\n",
              "    </tr>\n",
              "    <tr>\n",
              "      <th>fare_amount</th>\n",
              "      <td>0.888203</td>\n",
              "    </tr>\n",
              "    <tr>\n",
              "      <th>total_amount</th>\n",
              "      <td>0.862494</td>\n",
              "    </tr>\n",
              "    <tr>\n",
              "      <th>trip_distance</th>\n",
              "      <td>0.781401</td>\n",
              "    </tr>\n",
              "    <tr>\n",
              "      <th>tip_amount</th>\n",
              "      <td>0.493078</td>\n",
              "    </tr>\n",
              "    <tr>\n",
              "      <th>tolls_amount</th>\n",
              "      <td>0.457660</td>\n",
              "    </tr>\n",
              "    <tr>\n",
              "      <th>pickup_longitude</th>\n",
              "      <td>0.370568</td>\n",
              "    </tr>\n",
              "    <tr>\n",
              "      <th>dropoff_longitude</th>\n",
              "      <td>0.266498</td>\n",
              "    </tr>\n",
              "    <tr>\n",
              "      <th>ave_speed</th>\n",
              "      <td>0.159938</td>\n",
              "    </tr>\n",
              "    <tr>\n",
              "      <th>time_of_day</th>\n",
              "      <td>0.032376</td>\n",
              "    </tr>\n",
              "    <tr>\n",
              "      <th>passenger_count</th>\n",
              "      <td>0.015561</td>\n",
              "    </tr>\n",
              "    <tr>\n",
              "      <th>extra</th>\n",
              "      <td>-0.055389</td>\n",
              "    </tr>\n",
              "    <tr>\n",
              "      <th>dropoff_latitude</th>\n",
              "      <td>-0.179526</td>\n",
              "    </tr>\n",
              "    <tr>\n",
              "      <th>pickup_latitude</th>\n",
              "      <td>-0.233615</td>\n",
              "    </tr>\n",
              "  </tbody>\n",
              "</table>\n",
              "</div>"
            ],
            "text/plain": [
              "                   duration\n",
              "duration           1.000000\n",
              "fare_amount        0.888203\n",
              "total_amount       0.862494\n",
              "trip_distance      0.781401\n",
              "tip_amount         0.493078\n",
              "tolls_amount       0.457660\n",
              "pickup_longitude   0.370568\n",
              "dropoff_longitude  0.266498\n",
              "ave_speed          0.159938\n",
              "time_of_day        0.032376\n",
              "passenger_count    0.015561\n",
              "extra             -0.055389\n",
              "dropoff_latitude  -0.179526\n",
              "pickup_latitude   -0.233615"
            ]
          },
          "metadata": {},
          "execution_count": 27
        }
      ]
    },
    {
      "cell_type": "markdown",
      "metadata": {
        "id": "DF1id6PXHG-K"
      },
      "source": [
        "## Choose target and feature variables/columns"
      ]
    },
    {
      "cell_type": "code",
      "metadata": {
        "id": "PvXZVbfFHG-K"
      },
      "source": [
        "features = ['pickup_longitude', 'pickup_latitude', 'dropoff_longitude', 'dropoff_latitude', ]\n",
        "# 1. without amount\n",
        "features1 = ['trip_distance', 'pickup_longitude', 'pickup_latitude', 'dropoff_longitude', 'dropoff_latitude', ]\n",
        "# 2. without amount + 3 new features (1 categorical variable)\n",
        "features2 = ['trip_distance', 'pickup_longitude', 'pickup_latitude', 'dropoff_longitude', 'dropoff_latitude',\n",
        "             'time_of_day', 'day_of_week', 'ave_speed', ]\n",
        "# 3. Above abs(0.1)\n",
        "features3 = ['trip_distance', 'pickup_longitude', 'pickup_latitude', 'dropoff_longitude', 'dropoff_latitude',\n",
        "             'fare_amount', 'total_amount', 'tip_amount', 'tolls_amount', 'ave_speed',  ]\n",
        "# 4. Above abs(0.1) + 2 new features (1 categorical variable)\n",
        "features4 = ['trip_distance', 'pickup_longitude', 'pickup_latitude', 'dropoff_longitude', 'dropoff_latitude',\n",
        "             'fare_amount', 'total_amount', 'tip_amount', 'tolls_amount', 'extra',\n",
        "             'mta_tax', 'time_of_day', 'day_of_week', 'ave_speed', ]\n",
        "# 5. all features i.e 5 categorical features\n",
        "all_features = list(set(df.columns.to_list()) - set(label + ['tpep_pickup_datetime', 'tpep_dropoff_datetime',]))"
      ],
      "execution_count": null,
      "outputs": []
    },
    {
      "cell_type": "code",
      "metadata": {
        "id": "6mHzCgk0Rkts"
      },
      "source": [
        "features = ['trip_distance', 'pickup_longitude', 'pickup_latitude', 'dropoff_longitude', 'dropoff_latitude',\n",
        "             'fare_amount', 'total_amount', 'tip_amount', 'ave_speed',  'time_of_day', 'day_of_week', ]"
      ],
      "execution_count": null,
      "outputs": []
    },
    {
      "cell_type": "markdown",
      "metadata": {
        "id": "vU5uLKikPG0c"
      },
      "source": [
        "# General sklearn imports"
      ]
    },
    {
      "cell_type": "code",
      "metadata": {
        "id": "qpypKvwPPG0o"
      },
      "source": [
        "from sklearn import set_config\n",
        "set_config(display=\"diagram\")\n",
        "from sklearn.metrics import r2_score, mean_squared_error\n",
        "from sklearn.model_selection import train_test_split\n",
        "from sklearn.preprocessing import (StandardScaler, OrdinalEncoder, OneHotEncoder,\n",
        "                                   PolynomialFeatures, MinMaxScaler, LabelEncoder)"
      ],
      "execution_count": null,
      "outputs": []
    },
    {
      "cell_type": "markdown",
      "metadata": {
        "id": "JzUWxFATPG0r"
      },
      "source": [
        "# Transform target variable"
      ]
    },
    {
      "cell_type": "code",
      "metadata": {
        "colab": {
          "base_uri": "https://localhost:8080/"
        },
        "id": "ekzdXHOLLzjC",
        "outputId": "c9696bed-25b3-4b26-e94b-1c2289e5212d"
      },
      "source": [
        "df.shape"
      ],
      "execution_count": null,
      "outputs": [
        {
          "output_type": "execute_result",
          "data": {
            "text/plain": [
              "(2823701, 23)"
            ]
          },
          "metadata": {},
          "execution_count": 31
        }
      ]
    },
    {
      "cell_type": "code",
      "metadata": {
        "id": "OS-A93ZXPG0u"
      },
      "source": [
        "le = LabelEncoder()\n",
        "df[label[0]] = le.fit_transform(df[label].values.ravel())"
      ],
      "execution_count": null,
      "outputs": []
    },
    {
      "cell_type": "code",
      "metadata": {
        "colab": {
          "base_uri": "https://localhost:8080/"
        },
        "id": "TAziDRiqPG0v",
        "outputId": "bdc38a6b-ea2b-4dd4-b565-5977e595ec88"
      },
      "source": [
        "le.classes_"
      ],
      "execution_count": null,
      "outputs": [
        {
          "output_type": "execute_result",
          "data": {
            "text/plain": [
              "array(['NoToll', 'Toll'], dtype=object)"
            ]
          },
          "metadata": {},
          "execution_count": 33
        }
      ]
    },
    {
      "cell_type": "markdown",
      "metadata": {
        "id": "UPWTrJGwPG0w"
      },
      "source": [
        "# Train and Test, Split"
      ]
    },
    {
      "cell_type": "code",
      "metadata": {
        "id": "V1eZsZWzPG0y"
      },
      "source": [
        "from sklearn.model_selection import StratifiedKFold, StratifiedShuffleSplit, ShuffleSplit"
      ],
      "execution_count": null,
      "outputs": []
    },
    {
      "cell_type": "code",
      "metadata": {
        "id": "ZDo74WVgPG0z"
      },
      "source": [
        "y = df[label]\n",
        "X = df[features]"
      ],
      "execution_count": null,
      "outputs": []
    },
    {
      "cell_type": "code",
      "metadata": {
        "colab": {
          "base_uri": "https://localhost:8080/",
          "height": 226
        },
        "id": "34VLQhE2PG00",
        "outputId": "7535a21d-8873-4864-9bd1-d75678be35d0"
      },
      "source": [
        "X.head()"
      ],
      "execution_count": null,
      "outputs": [
        {
          "output_type": "execute_result",
          "data": {
            "text/html": [
              "<div>\n",
              "<style scoped>\n",
              "    .dataframe tbody tr th:only-of-type {\n",
              "        vertical-align: middle;\n",
              "    }\n",
              "\n",
              "    .dataframe tbody tr th {\n",
              "        vertical-align: top;\n",
              "    }\n",
              "\n",
              "    .dataframe thead th {\n",
              "        text-align: right;\n",
              "    }\n",
              "</style>\n",
              "<table border=\"1\" class=\"dataframe\">\n",
              "  <thead>\n",
              "    <tr style=\"text-align: right;\">\n",
              "      <th></th>\n",
              "      <th>trip_distance</th>\n",
              "      <th>pickup_longitude</th>\n",
              "      <th>pickup_latitude</th>\n",
              "      <th>dropoff_longitude</th>\n",
              "      <th>dropoff_latitude</th>\n",
              "      <th>fare_amount</th>\n",
              "      <th>total_amount</th>\n",
              "      <th>tip_amount</th>\n",
              "      <th>ave_speed</th>\n",
              "      <th>time_of_day</th>\n",
              "      <th>day_of_week</th>\n",
              "    </tr>\n",
              "  </thead>\n",
              "  <tbody>\n",
              "    <tr>\n",
              "      <th>0</th>\n",
              "      <td>2.00</td>\n",
              "      <td>-73.987144</td>\n",
              "      <td>40.760750</td>\n",
              "      <td>-73.997025</td>\n",
              "      <td>40.737534</td>\n",
              "      <td>10.5</td>\n",
              "      <td>13.55</td>\n",
              "      <td>2.25</td>\n",
              "      <td>8.571429</td>\n",
              "      <td>18.646389</td>\n",
              "      <td>Saturday</td>\n",
              "    </tr>\n",
              "    <tr>\n",
              "      <th>1</th>\n",
              "      <td>1.50</td>\n",
              "      <td>-73.971695</td>\n",
              "      <td>40.760284</td>\n",
              "      <td>-73.955284</td>\n",
              "      <td>40.768768</td>\n",
              "      <td>8.5</td>\n",
              "      <td>12.35</td>\n",
              "      <td>2.05</td>\n",
              "      <td>8.490566</td>\n",
              "      <td>19.587222</td>\n",
              "      <td>Wednesday</td>\n",
              "    </tr>\n",
              "    <tr>\n",
              "      <th>2</th>\n",
              "      <td>1.22</td>\n",
              "      <td>-73.981773</td>\n",
              "      <td>40.771370</td>\n",
              "      <td>-73.975090</td>\n",
              "      <td>40.787529</td>\n",
              "      <td>7.5</td>\n",
              "      <td>9.30</td>\n",
              "      <td>0.00</td>\n",
              "      <td>8.511628</td>\n",
              "      <td>16.264722</td>\n",
              "      <td>Friday</td>\n",
              "    </tr>\n",
              "    <tr>\n",
              "      <th>3</th>\n",
              "      <td>1.60</td>\n",
              "      <td>-73.963989</td>\n",
              "      <td>40.770832</td>\n",
              "      <td>-73.976410</td>\n",
              "      <td>40.763741</td>\n",
              "      <td>9.5</td>\n",
              "      <td>12.35</td>\n",
              "      <td>2.05</td>\n",
              "      <td>7.669774</td>\n",
              "      <td>8.931389</td>\n",
              "      <td>Tuesday</td>\n",
              "    </tr>\n",
              "    <tr>\n",
              "      <th>4</th>\n",
              "      <td>1.29</td>\n",
              "      <td>-73.992554</td>\n",
              "      <td>40.758415</td>\n",
              "      <td>-73.995453</td>\n",
              "      <td>40.744347</td>\n",
              "      <td>6.5</td>\n",
              "      <td>9.36</td>\n",
              "      <td>1.56</td>\n",
              "      <td>11.727273</td>\n",
              "      <td>21.111389</td>\n",
              "      <td>Thursday</td>\n",
              "    </tr>\n",
              "  </tbody>\n",
              "</table>\n",
              "</div>"
            ],
            "text/plain": [
              "   trip_distance  pickup_longitude  ...  time_of_day  day_of_week\n",
              "0           2.00        -73.987144  ...    18.646389     Saturday\n",
              "1           1.50        -73.971695  ...    19.587222    Wednesday\n",
              "2           1.22        -73.981773  ...    16.264722       Friday\n",
              "3           1.60        -73.963989  ...     8.931389      Tuesday\n",
              "4           1.29        -73.992554  ...    21.111389     Thursday\n",
              "\n",
              "[5 rows x 11 columns]"
            ]
          },
          "metadata": {},
          "execution_count": 36
        }
      ]
    },
    {
      "cell_type": "code",
      "metadata": {
        "colab": {
          "base_uri": "https://localhost:8080/"
        },
        "id": "Cs245h-ecFCR",
        "outputId": "a3a3c8ab-e1ac-45c3-e347-8acd68f6ad52"
      },
      "source": [
        "pd.DataFrame(le.inverse_transform(y.values.ravel())).value_counts()"
      ],
      "execution_count": null,
      "outputs": [
        {
          "output_type": "execute_result",
          "data": {
            "text/plain": [
              "NoToll    2682515\n",
              "Toll       141186\n",
              "dtype: int64"
            ]
          },
          "metadata": {},
          "execution_count": 37
        }
      ]
    },
    {
      "cell_type": "code",
      "metadata": {
        "colab": {
          "base_uri": "https://localhost:8080/",
          "height": 448
        },
        "id": "eBT6coIxPG01",
        "outputId": "485070c3-3d23-477c-9021-b1af33f0ee71"
      },
      "source": [
        "pd.DataFrame(le.inverse_transform(y.values.ravel())).value_counts().plot(kind='bar', grid=True, figsize=(6, 6),)"
      ],
      "execution_count": null,
      "outputs": [
        {
          "output_type": "execute_result",
          "data": {
            "text/plain": [
              "<matplotlib.axes._subplots.AxesSubplot at 0x7f014a37fed0>"
            ]
          },
          "metadata": {},
          "execution_count": 38
        },
        {
          "output_type": "display_data",
          "data": {
            "image/png": "[encoded data removed]",
            "text/plain": [
              "<Figure size 432x432 with 1 Axes>"
            ]
          },
          "metadata": {
            "needs_background": "light"
          }
        }
      ]
    },
    {
      "cell_type": "code",
      "metadata": {
        "colab": {
          "base_uri": "https://localhost:8080/"
        },
        "id": "qp9irsT4ZnzG",
        "outputId": "c5924e5a-dc3a-400a-a05d-5dad08d3082e"
      },
      "source": [
        "y.shape"
      ],
      "execution_count": null,
      "outputs": [
        {
          "output_type": "execute_result",
          "data": {
            "text/plain": [
              "(2823701, 1)"
            ]
          },
          "metadata": {},
          "execution_count": 39
        }
      ]
    },
    {
      "cell_type": "code",
      "metadata": {
        "id": "iOdL6sEjPG04"
      },
      "source": [
        "# Get the split indexes\n",
        "strat_split = StratifiedShuffleSplit(n_splits=1, test_size=0.03, random_state=42)\n",
        "\n",
        "train_idx, test_idx = next(strat_split.split(X, y))\n",
        "\n",
        "\n",
        "# Create the dataframes\n",
        "X_train_val = X.loc[train_idx, :]\n",
        "y_train_val = y.loc[train_idx, :]\n",
        "\n",
        "X_test  = X.loc[test_idx, :]\n",
        "y_test  = y.loc[test_idx, :]"
      ],
      "execution_count": null,
      "outputs": []
    },
    {
      "cell_type": "code",
      "metadata": {
        "id": "oCf1OEIxPG05"
      },
      "source": [
        "X_train_val.reset_index(inplace=True, drop=True)\n",
        "X_test.reset_index(inplace=True, drop=True)\n",
        "y_train_val.reset_index(inplace=True, drop=True)\n",
        "y_test.reset_index(inplace=True, drop=True)"
      ],
      "execution_count": null,
      "outputs": []
    },
    {
      "cell_type": "code",
      "metadata": {
        "colab": {
          "base_uri": "https://localhost:8080/"
        },
        "id": "PGgVoQwyPG0_",
        "outputId": "072a724f-95cd-4f98-d51a-eece5e163986"
      },
      "source": [
        "y_test.value_counts(normalize=True)"
      ],
      "execution_count": null,
      "outputs": [
        {
          "output_type": "execute_result",
          "data": {
            "text/plain": [
              "toll_paid\n",
              "0            0.949995\n",
              "1            0.050005\n",
              "dtype: float64"
            ]
          },
          "metadata": {},
          "execution_count": 42
        }
      ]
    },
    {
      "cell_type": "code",
      "metadata": {
        "colab": {
          "base_uri": "https://localhost:8080/"
        },
        "id": "214WRShtPG1A",
        "outputId": "71af6bbc-8e5e-4133-fb44-6975cd03064e"
      },
      "source": [
        "y_test.value_counts()"
      ],
      "execution_count": null,
      "outputs": [
        {
          "output_type": "execute_result",
          "data": {
            "text/plain": [
              "toll_paid\n",
              "0            80476\n",
              "1             4236\n",
              "dtype: int64"
            ]
          },
          "metadata": {},
          "execution_count": 43
        }
      ]
    },
    {
      "cell_type": "code",
      "metadata": {
        "colab": {
          "base_uri": "https://localhost:8080/"
        },
        "id": "MtQFvwxxPG1F",
        "outputId": "e4605743-60df-4d5f-da91-7c897c99f03a"
      },
      "source": [
        "print(f'Train/Val data shape: {X_train_val.shape}\\n')\n",
        "print(f'Test data shape: {X_test.shape}\\n')"
      ],
      "execution_count": null,
      "outputs": [
        {
          "output_type": "stream",
          "text": [
            "Train/Val data shape: (2738989, 11)\n",
            "\n",
            "Test data shape: (84712, 11)\n",
            "\n"
          ],
          "name": "stdout"
        }
      ]
    },
    {
      "cell_type": "markdown",
      "metadata": {
        "id": "j1gG3cujPG1G"
      },
      "source": [
        "# Preprocess Pipelines"
      ]
    },
    {
      "cell_type": "markdown",
      "metadata": {
        "id": "McVywjnFJDtH"
      },
      "source": [
        "## Undersample training data"
      ]
    },
    {
      "cell_type": "code",
      "metadata": {
        "id": "In-0xJo302Pi"
      },
      "source": [
        "from collections import Counter\n",
        "from imblearn.under_sampling import RandomUnderSampler"
      ],
      "execution_count": null,
      "outputs": []
    },
    {
      "cell_type": "code",
      "metadata": {
        "colab": {
          "base_uri": "https://localhost:8080/"
        },
        "id": "sv2Y_4he09Me",
        "outputId": "ebeddcd0-665c-40ac-b908-0b8f523ca885"
      },
      "source": [
        "Counter(y_train_val.values.ravel())"
      ],
      "execution_count": null,
      "outputs": [
        {
          "output_type": "execute_result",
          "data": {
            "text/plain": [
              "Counter({0: 2602039, 1: 136950})"
            ]
          },
          "metadata": {},
          "execution_count": 46
        }
      ]
    },
    {
      "cell_type": "code",
      "metadata": {
        "id": "-J4qJZhs1dDW"
      },
      "source": [
        "# undersample = RandomUnderSampler(sampling_strategy='majority', random_state=42, replacement=False)\n",
        "undersample = RandomUnderSampler(sampling_strategy=0.9, random_state=42, replacement=False)\n",
        "X_train_val, y_train_val = undersample.fit_resample(X_train_val, y_train_val)"
      ],
      "execution_count": null,
      "outputs": []
    },
    {
      "cell_type": "code",
      "metadata": {
        "colab": {
          "base_uri": "https://localhost:8080/"
        },
        "id": "47Z1bgZH3MJt",
        "outputId": "05e7cc9a-b74a-4b07-910e-8978d97b3188"
      },
      "source": [
        "Counter(y_train_val.values.ravel())"
      ],
      "execution_count": null,
      "outputs": [
        {
          "output_type": "execute_result",
          "data": {
            "text/plain": [
              "Counter({0: 152166, 1: 136950})"
            ]
          },
          "metadata": {},
          "execution_count": 48
        }
      ]
    },
    {
      "cell_type": "code",
      "metadata": {
        "colab": {
          "base_uri": "https://localhost:8080/",
          "height": 316
        },
        "id": "VKFHji1Q7ZeL",
        "outputId": "dafcba28-57da-4dc4-dc96-5f793418a712"
      },
      "source": [
        "y_train_val.hist(bins=2, )"
      ],
      "execution_count": null,
      "outputs": [
        {
          "output_type": "execute_result",
          "data": {
            "text/plain": [
              "array([[<matplotlib.axes._subplots.AxesSubplot object at 0x7f013d269450>]],\n",
              "      dtype=object)"
            ]
          },
          "metadata": {},
          "execution_count": 49
        },
        {
          "output_type": "display_data",
          "data": {
            "image/png": "[encoded data removed]",
            "text/plain": [
              "<Figure size 432x288 with 1 Axes>"
            ]
          },
          "metadata": {
            "needs_background": "light"
          }
        }
      ]
    },
    {
      "cell_type": "code",
      "metadata": {
        "colab": {
          "base_uri": "https://localhost:8080/",
          "height": 244
        },
        "id": "4AoirUdJjZdv",
        "outputId": "13246e1e-6a91-4262-d285-af05eb681655"
      },
      "source": [
        "pd.DataFrame(le.inverse_transform(y_train_val.values.ravel())).value_counts().plot(kind='bar', grid=True, figsize=(3, 3),)\n",
        "save_fig('balanced')"
      ],
      "execution_count": null,
      "outputs": [
        {
          "output_type": "stream",
          "text": [
            "Saving figure balanced\n"
          ],
          "name": "stdout"
        },
        {
          "output_type": "display_data",
          "data": {
            "image/png": "[encoded data removed]",
            "text/plain": [
              "<Figure size 216x216 with 1 Axes>"
            ]
          },
          "metadata": {
            "needs_background": "light"
          }
        }
      ]
    },
    {
      "cell_type": "code",
      "metadata": {
        "colab": {
          "base_uri": "https://localhost:8080/"
        },
        "id": "Gu8J6J5l4-Z4",
        "outputId": "55e4dcb4-8ce5-4c61-8254-9df5a46b968b"
      },
      "source": [
        "X_train_val.shape"
      ],
      "execution_count": null,
      "outputs": [
        {
          "output_type": "execute_result",
          "data": {
            "text/plain": [
              "(289116, 11)"
            ]
          },
          "metadata": {},
          "execution_count": 51
        }
      ]
    },
    {
      "cell_type": "markdown",
      "metadata": {
        "id": "MrDdh67QcDsv"
      },
      "source": [
        "## Training and validation data after sampling"
      ]
    },
    {
      "cell_type": "code",
      "metadata": {
        "id": "Ho_zOeyDPG08"
      },
      "source": [
        "strat_split = StratifiedShuffleSplit(n_splits=1, test_size=0.2, random_state=42)\n",
        "\n",
        "train_idx, val_idx = next(strat_split.split(X_train_val, y_train_val))\n",
        "\n",
        "\n",
        "# Create the dataframes\n",
        "X_train = X_train_val.loc[train_idx, :]\n",
        "y_train = y_train_val.loc[train_idx, :]\n",
        "\n",
        "X_val  = X_train_val.loc[val_idx, :]\n",
        "y_val  = y_train_val.loc[val_idx, :]"
      ],
      "execution_count": null,
      "outputs": []
    },
    {
      "cell_type": "code",
      "metadata": {
        "id": "Rl_ZE4EXPG09"
      },
      "source": [
        "X_train.reset_index(inplace=True, drop=True)\n",
        "X_val.reset_index(inplace=True, drop=True)\n",
        "y_train.reset_index(inplace=True, drop=True)\n",
        "y_val.reset_index(inplace=True, drop=True)"
      ],
      "execution_count": null,
      "outputs": []
    },
    {
      "cell_type": "code",
      "metadata": {
        "colab": {
          "base_uri": "https://localhost:8080/"
        },
        "id": "VO_kTLgUnOIG",
        "outputId": "324d1a0d-3c19-41c5-e647-26a89577c3cc"
      },
      "source": [
        "print(f'Train data shape: {X_train.shape}\\n')\n",
        "print(f'Validation data shape: {X_val.shape}\\n')\n",
        "print(f'Test data shape: {X_test.shape}\\n')"
      ],
      "execution_count": null,
      "outputs": [
        {
          "output_type": "stream",
          "text": [
            "Train data shape: (231292, 11)\n",
            "\n",
            "Validation data shape: (57824, 11)\n",
            "\n",
            "Test data shape: (84712, 11)\n",
            "\n"
          ],
          "name": "stdout"
        }
      ]
    },
    {
      "cell_type": "code",
      "metadata": {
        "colab": {
          "base_uri": "https://localhost:8080/"
        },
        "id": "0xZtYxUmG5Jb",
        "outputId": "9dc6c437-9734-4ba5-bd23-926b13d73075"
      },
      "source": [
        "Counter(y_test.values.ravel())"
      ],
      "execution_count": null,
      "outputs": [
        {
          "output_type": "execute_result",
          "data": {
            "text/plain": [
              "Counter({0: 80476, 1: 4236})"
            ]
          },
          "metadata": {},
          "execution_count": 184
        }
      ]
    },
    {
      "cell_type": "markdown",
      "metadata": {
        "id": "fbE2uX3RPG1H"
      },
      "source": [
        "## Build categorical and numerical pipeline\n",
        "\n"
      ]
    },
    {
      "cell_type": "code",
      "metadata": {
        "id": "SNtENJC-zsZ8"
      },
      "source": [
        "from sklearn.pipeline import Pipeline\n",
        "from sklearn.compose import ColumnTransformer"
      ],
      "execution_count": null,
      "outputs": []
    },
    {
      "cell_type": "code",
      "metadata": {
        "id": "qq0Z0PFl3NhT"
      },
      "source": [
        "numerical_cols = X.select_dtypes(include=['int64', 'float64']).columns\n",
        "categorical_cols = X.select_dtypes(include=['object', 'bool']).columns"
      ],
      "execution_count": null,
      "outputs": []
    },
    {
      "cell_type": "code",
      "metadata": {
        "colab": {
          "base_uri": "https://localhost:8080/"
        },
        "id": "KE91jgX93Uly",
        "outputId": "358f4899-d737-4b31-eb58-9574bfa0b6cf"
      },
      "source": [
        "numerical_cols, categorical_cols"
      ],
      "execution_count": null,
      "outputs": [
        {
          "output_type": "execute_result",
          "data": {
            "text/plain": [
              "(Index(['trip_distance', 'pickup_longitude', 'pickup_latitude',\n",
              "        'dropoff_longitude', 'dropoff_latitude', 'fare_amount', 'total_amount',\n",
              "        'tip_amount', 'ave_speed', 'time_of_day'],\n",
              "       dtype='object'), Index(['day_of_week'], dtype='object'))"
            ]
          },
          "metadata": {},
          "execution_count": 57
        }
      ]
    },
    {
      "cell_type": "code",
      "metadata": {
        "colab": {
          "base_uri": "https://localhost:8080/",
          "height": 80
        },
        "id": "kEwTi4TO4wNI",
        "outputId": "72c2cb4b-9f4f-4fcb-b1eb-3e211a81e5a8"
      },
      "source": [
        "num_pipeline = Pipeline([(\"num\", StandardScaler()),])\n",
        "num_pipeline"
      ],
      "execution_count": null,
      "outputs": [
        {
          "output_type": "execute_result",
          "data": {
            "text/html": [
              "<style>#sk-3e10fa39-d7d6-47b4-938e-6fdfac8e8dd6 {color: black;background-color: white;}#sk-3e10fa39-d7d6-47b4-938e-6fdfac8e8dd6 pre{padding: 0;}#sk-3e10fa39-d7d6-47b4-938e-6fdfac8e8dd6 div.sk-toggleable {background-color: white;}#sk-3e10fa39-d7d6-47b4-938e-6fdfac8e8dd6 label.sk-toggleable__label {cursor: pointer;display: block;width: 100%;margin-bottom: 0;padding: 0.2em 0.3em;box-sizing: border-box;text-align: center;}#sk-3e10fa39-d7d6-47b4-938e-6fdfac8e8dd6 div.sk-toggleable__content {max-height: 0;max-width: 0;overflow: hidden;text-align: left;background-color: #f0f8ff;}#sk-3e10fa39-d7d6-47b4-938e-6fdfac8e8dd6 div.sk-toggleable__content pre {margin: 0.2em;color: black;border-radius: 0.25em;background-color: #f0f8ff;}#sk-3e10fa39-d7d6-47b4-938e-6fdfac8e8dd6 input.sk-toggleable__control:checked~div.sk-toggleable__content {max-height: 200px;max-width: 100%;overflow: auto;}#sk-3e10fa39-d7d6-47b4-938e-6fdfac8e8dd6 div.sk-estimator input.sk-toggleable__control:checked~label.sk-toggleable__label {background-color: #d4ebff;}#sk-3e10fa39-d7d6-47b4-938e-6fdfac8e8dd6 div.sk-label input.sk-toggleable__control:checked~label.sk-toggleable__label {background-color: #d4ebff;}#sk-3e10fa39-d7d6-47b4-938e-6fdfac8e8dd6 input.sk-hidden--visually {border: 0;clip: rect(1px 1px 1px 1px);clip: rect(1px, 1px, 1px, 1px);height: 1px;margin: -1px;overflow: hidden;padding: 0;position: absolute;width: 1px;}#sk-3e10fa39-d7d6-47b4-938e-6fdfac8e8dd6 div.sk-estimator {font-family: monospace;background-color: #f0f8ff;margin: 0.25em 0.25em;border: 1px dotted black;border-radius: 0.25em;box-sizing: border-box;}#sk-3e10fa39-d7d6-47b4-938e-6fdfac8e8dd6 div.sk-estimator:hover {background-color: #d4ebff;}#sk-3e10fa39-d7d6-47b4-938e-6fdfac8e8dd6 div.sk-parallel-item::after {content: \"\";width: 100%;border-bottom: 1px solid gray;flex-grow: 1;}#sk-3e10fa39-d7d6-47b4-938e-6fdfac8e8dd6 div.sk-label:hover label.sk-toggleable__label {background-color: #d4ebff;}#sk-3e10fa39-d7d6-47b4-938e-6fdfac8e8dd6 div.sk-serial::before {content: \"\";position: absolute;border-left: 1px solid gray;box-sizing: border-box;top: 2em;bottom: 0;left: 50%;}#sk-3e10fa39-d7d6-47b4-938e-6fdfac8e8dd6 div.sk-serial {display: flex;flex-direction: column;align-items: center;background-color: white;}#sk-3e10fa39-d7d6-47b4-938e-6fdfac8e8dd6 div.sk-item {z-index: 1;}#sk-3e10fa39-d7d6-47b4-938e-6fdfac8e8dd6 div.sk-parallel {display: flex;align-items: stretch;justify-content: center;background-color: white;}#sk-3e10fa39-d7d6-47b4-938e-6fdfac8e8dd6 div.sk-parallel-item {display: flex;flex-direction: column;position: relative;background-color: white;}#sk-3e10fa39-d7d6-47b4-938e-6fdfac8e8dd6 div.sk-parallel-item:first-child::after {align-self: flex-end;width: 50%;}#sk-3e10fa39-d7d6-47b4-938e-6fdfac8e8dd6 div.sk-parallel-item:last-child::after {align-self: flex-start;width: 50%;}#sk-3e10fa39-d7d6-47b4-938e-6fdfac8e8dd6 div.sk-parallel-item:only-child::after {width: 0;}#sk-3e10fa39-d7d6-47b4-938e-6fdfac8e8dd6 div.sk-dashed-wrapped {border: 1px dashed gray;margin: 0.2em;box-sizing: border-box;padding-bottom: 0.1em;background-color: white;position: relative;}#sk-3e10fa39-d7d6-47b4-938e-6fdfac8e8dd6 div.sk-label label {font-family: monospace;font-weight: bold;background-color: white;display: inline-block;line-height: 1.2em;}#sk-3e10fa39-d7d6-47b4-938e-6fdfac8e8dd6 div.sk-label-container {position: relative;z-index: 2;text-align: center;}#sk-3e10fa39-d7d6-47b4-938e-6fdfac8e8dd6 div.sk-container {display: inline-block;position: relative;}</style><div id=\"sk-3e10fa39-d7d6-47b4-938e-6fdfac8e8dd6\" class\"sk-top-container\"><div class=\"sk-container\"><div class=\"sk-item sk-dashed-wrapped\"><div class=\"sk-label-container\"><div class=\"sk-label sk-toggleable\"><input class=\"sk-toggleable__control sk-hidden--visually\" id=\"de8b3d44-10e5-45fd-a4a3-0e83a7846ba2\" type=\"checkbox\" ><label class=\"sk-toggleable__label\" for=\"de8b3d44-10e5-45fd-a4a3-0e83a7846ba2\">Pipeline</label><div class=\"sk-toggleable__content\"><pre>Pipeline(steps=[('num', StandardScaler())])</pre></div></div></div><div class=\"sk-serial\"><div class=\"sk-item\"><div class=\"sk-estimator sk-toggleable\"><input class=\"sk-toggleable__control sk-hidden--visually\" id=\"cf4f7b20-f05b-469e-88d4-a3b64931a174\" type=\"checkbox\" ><label class=\"sk-toggleable__label\" for=\"cf4f7b20-f05b-469e-88d4-a3b64931a174\">StandardScaler</label><div class=\"sk-toggleable__content\"><pre>StandardScaler()</pre></div></div></div></div></div></div></div>"
            ],
            "text/plain": [
              "Pipeline(steps=[('num', StandardScaler())])"
            ]
          },
          "metadata": {},
          "execution_count": 58
        }
      ]
    },
    {
      "cell_type": "code",
      "metadata": {
        "colab": {
          "base_uri": "https://localhost:8080/",
          "height": 80
        },
        "id": "ETBdXbNelXxY",
        "outputId": "f62146dd-f797-4939-e414-fc107dc8e08e"
      },
      "source": [
        "cat_pipeline = Pipeline([(\"cat\", OrdinalEncoder()), ])\n",
        "cat_pipeline"
      ],
      "execution_count": null,
      "outputs": [
        {
          "output_type": "execute_result",
          "data": {
            "text/html": [
              "<style>#sk-a7abe2ea-657d-4798-aae4-c2930f43a128 {color: black;background-color: white;}#sk-a7abe2ea-657d-4798-aae4-c2930f43a128 pre{padding: 0;}#sk-a7abe2ea-657d-4798-aae4-c2930f43a128 div.sk-toggleable {background-color: white;}#sk-a7abe2ea-657d-4798-aae4-c2930f43a128 label.sk-toggleable__label {cursor: pointer;display: block;width: 100%;margin-bottom: 0;padding: 0.2em 0.3em;box-sizing: border-box;text-align: center;}#sk-a7abe2ea-657d-4798-aae4-c2930f43a128 div.sk-toggleable__content {max-height: 0;max-width: 0;overflow: hidden;text-align: left;background-color: #f0f8ff;}#sk-a7abe2ea-657d-4798-aae4-c2930f43a128 div.sk-toggleable__content pre {margin: 0.2em;color: black;border-radius: 0.25em;background-color: #f0f8ff;}#sk-a7abe2ea-657d-4798-aae4-c2930f43a128 input.sk-toggleable__control:checked~div.sk-toggleable__content {max-height: 200px;max-width: 100%;overflow: auto;}#sk-a7abe2ea-657d-4798-aae4-c2930f43a128 div.sk-estimator input.sk-toggleable__control:checked~label.sk-toggleable__label {background-color: #d4ebff;}#sk-a7abe2ea-657d-4798-aae4-c2930f43a128 div.sk-label input.sk-toggleable__control:checked~label.sk-toggleable__label {background-color: #d4ebff;}#sk-a7abe2ea-657d-4798-aae4-c2930f43a128 input.sk-hidden--visually {border: 0;clip: rect(1px 1px 1px 1px);clip: rect(1px, 1px, 1px, 1px);height: 1px;margin: -1px;overflow: hidden;padding: 0;position: absolute;width: 1px;}#sk-a7abe2ea-657d-4798-aae4-c2930f43a128 div.sk-estimator {font-family: monospace;background-color: #f0f8ff;margin: 0.25em 0.25em;border: 1px dotted black;border-radius: 0.25em;box-sizing: border-box;}#sk-a7abe2ea-657d-4798-aae4-c2930f43a128 div.sk-estimator:hover {background-color: #d4ebff;}#sk-a7abe2ea-657d-4798-aae4-c2930f43a128 div.sk-parallel-item::after {content: \"\";width: 100%;border-bottom: 1px solid gray;flex-grow: 1;}#sk-a7abe2ea-657d-4798-aae4-c2930f43a128 div.sk-label:hover label.sk-toggleable__label {background-color: #d4ebff;}#sk-a7abe2ea-657d-4798-aae4-c2930f43a128 div.sk-serial::before {content: \"\";position: absolute;border-left: 1px solid gray;box-sizing: border-box;top: 2em;bottom: 0;left: 50%;}#sk-a7abe2ea-657d-4798-aae4-c2930f43a128 div.sk-serial {display: flex;flex-direction: column;align-items: center;background-color: white;}#sk-a7abe2ea-657d-4798-aae4-c2930f43a128 div.sk-item {z-index: 1;}#sk-a7abe2ea-657d-4798-aae4-c2930f43a128 div.sk-parallel {display: flex;align-items: stretch;justify-content: center;background-color: white;}#sk-a7abe2ea-657d-4798-aae4-c2930f43a128 div.sk-parallel-item {display: flex;flex-direction: column;position: relative;background-color: white;}#sk-a7abe2ea-657d-4798-aae4-c2930f43a128 div.sk-parallel-item:first-child::after {align-self: flex-end;width: 50%;}#sk-a7abe2ea-657d-4798-aae4-c2930f43a128 div.sk-parallel-item:last-child::after {align-self: flex-start;width: 50%;}#sk-a7abe2ea-657d-4798-aae4-c2930f43a128 div.sk-parallel-item:only-child::after {width: 0;}#sk-a7abe2ea-657d-4798-aae4-c2930f43a128 div.sk-dashed-wrapped {border: 1px dashed gray;margin: 0.2em;box-sizing: border-box;padding-bottom: 0.1em;background-color: white;position: relative;}#sk-a7abe2ea-657d-4798-aae4-c2930f43a128 div.sk-label label {font-family: monospace;font-weight: bold;background-color: white;display: inline-block;line-height: 1.2em;}#sk-a7abe2ea-657d-4798-aae4-c2930f43a128 div.sk-label-container {position: relative;z-index: 2;text-align: center;}#sk-a7abe2ea-657d-4798-aae4-c2930f43a128 div.sk-container {display: inline-block;position: relative;}</style><div id=\"sk-a7abe2ea-657d-4798-aae4-c2930f43a128\" class\"sk-top-container\"><div class=\"sk-container\"><div class=\"sk-item sk-dashed-wrapped\"><div class=\"sk-label-container\"><div class=\"sk-label sk-toggleable\"><input class=\"sk-toggleable__control sk-hidden--visually\" id=\"1c2f92a9-b042-4e41-8296-19c058156303\" type=\"checkbox\" ><label class=\"sk-toggleable__label\" for=\"1c2f92a9-b042-4e41-8296-19c058156303\">Pipeline</label><div class=\"sk-toggleable__content\"><pre>Pipeline(steps=[('cat', OrdinalEncoder())])</pre></div></div></div><div class=\"sk-serial\"><div class=\"sk-item\"><div class=\"sk-estimator sk-toggleable\"><input class=\"sk-toggleable__control sk-hidden--visually\" id=\"173867c5-6629-4103-bdf0-e23f75c67eec\" type=\"checkbox\" ><label class=\"sk-toggleable__label\" for=\"173867c5-6629-4103-bdf0-e23f75c67eec\">OrdinalEncoder</label><div class=\"sk-toggleable__content\"><pre>OrdinalEncoder()</pre></div></div></div></div></div></div></div>"
            ],
            "text/plain": [
              "Pipeline(steps=[('cat', OrdinalEncoder())])"
            ]
          },
          "metadata": {},
          "execution_count": 59
        }
      ]
    },
    {
      "cell_type": "code",
      "metadata": {
        "colab": {
          "base_uri": "https://localhost:8080/",
          "height": 103
        },
        "id": "PFeK3CpeP7CU",
        "outputId": "c438ef60-afb3-4ea3-8582-1fcf3769ce46"
      },
      "source": [
        "transformer = ColumnTransformer([\n",
        "                 (\"num_pipe\", num_pipeline, numerical_cols),\n",
        "                 (\"cat_pipe\", cat_pipeline, categorical_cols),\n",
        "                 ])\n",
        "transformer"
      ],
      "execution_count": null,
      "outputs": [
        {
          "output_type": "execute_result",
          "data": {
            "text/html": [
              "<style>#sk-cb9b6ed6-902b-47dd-95cf-caf2b2e1e85f {color: black;background-color: white;}#sk-cb9b6ed6-902b-47dd-95cf-caf2b2e1e85f pre{padding: 0;}#sk-cb9b6ed6-902b-47dd-95cf-caf2b2e1e85f div.sk-toggleable {background-color: white;}#sk-cb9b6ed6-902b-47dd-95cf-caf2b2e1e85f label.sk-toggleable__label {cursor: pointer;display: block;width: 100%;margin-bottom: 0;padding: 0.2em 0.3em;box-sizing: border-box;text-align: center;}#sk-cb9b6ed6-902b-47dd-95cf-caf2b2e1e85f div.sk-toggleable__content {max-height: 0;max-width: 0;overflow: hidden;text-align: left;background-color: #f0f8ff;}#sk-cb9b6ed6-902b-47dd-95cf-caf2b2e1e85f div.sk-toggleable__content pre {margin: 0.2em;color: black;border-radius: 0.25em;background-color: #f0f8ff;}#sk-cb9b6ed6-902b-47dd-95cf-caf2b2e1e85f input.sk-toggleable__control:checked~div.sk-toggleable__content {max-height: 200px;max-width: 100%;overflow: auto;}#sk-cb9b6ed6-902b-47dd-95cf-caf2b2e1e85f div.sk-estimator input.sk-toggleable__control:checked~label.sk-toggleable__label {background-color: #d4ebff;}#sk-cb9b6ed6-902b-47dd-95cf-caf2b2e1e85f div.sk-label input.sk-toggleable__control:checked~label.sk-toggleable__label {background-color: #d4ebff;}#sk-cb9b6ed6-902b-47dd-95cf-caf2b2e1e85f input.sk-hidden--visually {border: 0;clip: rect(1px 1px 1px 1px);clip: rect(1px, 1px, 1px, 1px);height: 1px;margin: -1px;overflow: hidden;padding: 0;position: absolute;width: 1px;}#sk-cb9b6ed6-902b-47dd-95cf-caf2b2e1e85f div.sk-estimator {font-family: monospace;background-color: #f0f8ff;margin: 0.25em 0.25em;border: 1px dotted black;border-radius: 0.25em;box-sizing: border-box;}#sk-cb9b6ed6-902b-47dd-95cf-caf2b2e1e85f div.sk-estimator:hover {background-color: #d4ebff;}#sk-cb9b6ed6-902b-47dd-95cf-caf2b2e1e85f div.sk-parallel-item::after {content: \"\";width: 100%;border-bottom: 1px solid gray;flex-grow: 1;}#sk-cb9b6ed6-902b-47dd-95cf-caf2b2e1e85f div.sk-label:hover label.sk-toggleable__label {background-color: #d4ebff;}#sk-cb9b6ed6-902b-47dd-95cf-caf2b2e1e85f div.sk-serial::before {content: \"\";position: absolute;border-left: 1px solid gray;box-sizing: border-box;top: 2em;bottom: 0;left: 50%;}#sk-cb9b6ed6-902b-47dd-95cf-caf2b2e1e85f div.sk-serial {display: flex;flex-direction: column;align-items: center;background-color: white;}#sk-cb9b6ed6-902b-47dd-95cf-caf2b2e1e85f div.sk-item {z-index: 1;}#sk-cb9b6ed6-902b-47dd-95cf-caf2b2e1e85f div.sk-parallel {display: flex;align-items: stretch;justify-content: center;background-color: white;}#sk-cb9b6ed6-902b-47dd-95cf-caf2b2e1e85f div.sk-parallel-item {display: flex;flex-direction: column;position: relative;background-color: white;}#sk-cb9b6ed6-902b-47dd-95cf-caf2b2e1e85f div.sk-parallel-item:first-child::after {align-self: flex-end;width: 50%;}#sk-cb9b6ed6-902b-47dd-95cf-caf2b2e1e85f div.sk-parallel-item:last-child::after {align-self: flex-start;width: 50%;}#sk-cb9b6ed6-902b-47dd-95cf-caf2b2e1e85f div.sk-parallel-item:only-child::after {width: 0;}#sk-cb9b6ed6-902b-47dd-95cf-caf2b2e1e85f div.sk-dashed-wrapped {border: 1px dashed gray;margin: 0.2em;box-sizing: border-box;padding-bottom: 0.1em;background-color: white;position: relative;}#sk-cb9b6ed6-902b-47dd-95cf-caf2b2e1e85f div.sk-label label {font-family: monospace;font-weight: bold;background-color: white;display: inline-block;line-height: 1.2em;}#sk-cb9b6ed6-902b-47dd-95cf-caf2b2e1e85f div.sk-label-container {position: relative;z-index: 2;text-align: center;}#sk-cb9b6ed6-902b-47dd-95cf-caf2b2e1e85f div.sk-container {display: inline-block;position: relative;}</style><div id=\"sk-cb9b6ed6-902b-47dd-95cf-caf2b2e1e85f\" class\"sk-top-container\"><div class=\"sk-container\"><div class=\"sk-item sk-dashed-wrapped\"><div class=\"sk-label-container\"><div class=\"sk-label sk-toggleable\"><input class=\"sk-toggleable__control sk-hidden--visually\" id=\"ae871c83-ef16-497b-bfeb-8323db6eec77\" type=\"checkbox\" ><label class=\"sk-toggleable__label\" for=\"ae871c83-ef16-497b-bfeb-8323db6eec77\">ColumnTransformer</label><div class=\"sk-toggleable__content\"><pre>ColumnTransformer(transformers=[('num_pipe',\n",
              "                                 Pipeline(steps=[('num', StandardScaler())]),\n",
              "                                 Index(['trip_distance', 'pickup_longitude', 'pickup_latitude',\n",
              "       'dropoff_longitude', 'dropoff_latitude', 'fare_amount', 'total_amount',\n",
              "       'tip_amount', 'ave_speed', 'time_of_day'],\n",
              "      dtype='object')),\n",
              "                                ('cat_pipe',\n",
              "                                 Pipeline(steps=[('cat', OrdinalEncoder())]),\n",
              "                                 Index(['day_of_week'], dtype='object'))])</pre></div></div></div><div class=\"sk-parallel\"><div class=\"sk-parallel-item\"><div class=\"sk-item\"><div class=\"sk-label-container\"><div class=\"sk-label sk-toggleable\"><input class=\"sk-toggleable__control sk-hidden--visually\" id=\"7cf75b36-ebe3-4364-9de8-683f56efc40f\" type=\"checkbox\" ><label class=\"sk-toggleable__label\" for=\"7cf75b36-ebe3-4364-9de8-683f56efc40f\">num_pipe</label><div class=\"sk-toggleable__content\"><pre>Index(['trip_distance', 'pickup_longitude', 'pickup_latitude',\n",
              "       'dropoff_longitude', 'dropoff_latitude', 'fare_amount', 'total_amount',\n",
              "       'tip_amount', 'ave_speed', 'time_of_day'],\n",
              "      dtype='object')</pre></div></div></div><div class=\"sk-serial\"><div class=\"sk-item\"><div class=\"sk-serial\"><div class=\"sk-item\"><div class=\"sk-estimator sk-toggleable\"><input class=\"sk-toggleable__control sk-hidden--visually\" id=\"4c8c6838-fb6a-4499-9901-33b388b45958\" type=\"checkbox\" ><label class=\"sk-toggleable__label\" for=\"4c8c6838-fb6a-4499-9901-33b388b45958\">StandardScaler</label><div class=\"sk-toggleable__content\"><pre>StandardScaler()</pre></div></div></div></div></div></div></div></div><div class=\"sk-parallel-item\"><div class=\"sk-item\"><div class=\"sk-label-container\"><div class=\"sk-label sk-toggleable\"><input class=\"sk-toggleable__control sk-hidden--visually\" id=\"d311fb05-dc89-42ee-9bc6-d0f537d3fbe5\" type=\"checkbox\" ><label class=\"sk-toggleable__label\" for=\"d311fb05-dc89-42ee-9bc6-d0f537d3fbe5\">cat_pipe</label><div class=\"sk-toggleable__content\"><pre>Index(['day_of_week'], dtype='object')</pre></div></div></div><div class=\"sk-serial\"><div class=\"sk-item\"><div class=\"sk-serial\"><div class=\"sk-item\"><div class=\"sk-estimator sk-toggleable\"><input class=\"sk-toggleable__control sk-hidden--visually\" id=\"ed255625-8364-4484-9532-ebe15da19c74\" type=\"checkbox\" ><label class=\"sk-toggleable__label\" for=\"ed255625-8364-4484-9532-ebe15da19c74\">OrdinalEncoder</label><div class=\"sk-toggleable__content\"><pre>OrdinalEncoder()</pre></div></div></div></div></div></div></div></div></div></div></div></div>"
            ],
            "text/plain": [
              "ColumnTransformer(transformers=[('num_pipe',\n",
              "                                 Pipeline(steps=[('num', StandardScaler())]),\n",
              "                                 Index(['trip_distance', 'pickup_longitude', 'pickup_latitude',\n",
              "       'dropoff_longitude', 'dropoff_latitude', 'fare_amount', 'total_amount',\n",
              "       'tip_amount', 'ave_speed', 'time_of_day'],\n",
              "      dtype='object')),\n",
              "                                ('cat_pipe',\n",
              "                                 Pipeline(steps=[('cat', OrdinalEncoder())]),\n",
              "                                 Index(['day_of_week'], dtype='object'))])"
            ]
          },
          "metadata": {},
          "execution_count": 60
        }
      ]
    },
    {
      "cell_type": "markdown",
      "metadata": {
        "id": "0dxMoQ9Pbc3s"
      },
      "source": [
        "# Build and Train Models"
      ]
    },
    {
      "cell_type": "code",
      "metadata": {
        "id": "G56ZDL8z1gy3"
      },
      "source": [
        "models = dict()"
      ],
      "execution_count": null,
      "outputs": []
    },
    {
      "cell_type": "markdown",
      "metadata": {
        "id": "Zkq2IlW0B71T"
      },
      "source": [
        "## Base Model (Random Forest Classifier)"
      ]
    },
    {
      "cell_type": "code",
      "metadata": {
        "id": "vSC04nLHgCkh"
      },
      "source": [
        "from sklearn.ensemble import RandomForestClassifier"
      ],
      "execution_count": null,
      "outputs": []
    },
    {
      "cell_type": "code",
      "metadata": {
        "id": "0y4jJZR5gATm"
      },
      "source": [
        "rfc = RandomForestClassifier(random_state=42, n_estimators=100, verbose=1, n_jobs=1)\n",
        "rfc = Pipeline([('preparation', transformer), \n",
        "                     ('model', rfc)\n",
        "                     ])"
      ],
      "execution_count": null,
      "outputs": []
    },
    {
      "cell_type": "code",
      "metadata": {
        "colab": {
          "base_uri": "https://localhost:8080/",
          "height": 204
        },
        "id": "7gb7wtsEg9AO",
        "outputId": "411f43c1-f0e8-4343-a95e-4ee41b324339"
      },
      "source": [
        "rfc.fit(X_train_val, y_train_val.values.ravel())"
      ],
      "execution_count": null,
      "outputs": [
        {
          "output_type": "stream",
          "text": [
            "[Parallel(n_jobs=1)]: Using backend SequentialBackend with 1 concurrent workers.\n",
            "[Parallel(n_jobs=1)]: Done 100 out of 100 | elapsed:  1.5min finished\n"
          ],
          "name": "stderr"
        },
        {
          "output_type": "execute_result",
          "data": {
            "text/html": [
              "<style>#sk-b0444173-367b-460f-ad2f-0bd829bdef31 {color: black;background-color: white;}#sk-b0444173-367b-460f-ad2f-0bd829bdef31 pre{padding: 0;}#sk-b0444173-367b-460f-ad2f-0bd829bdef31 div.sk-toggleable {background-color: white;}#sk-b0444173-367b-460f-ad2f-0bd829bdef31 label.sk-toggleable__label {cursor: pointer;display: block;width: 100%;margin-bottom: 0;padding: 0.2em 0.3em;box-sizing: border-box;text-align: center;}#sk-b0444173-367b-460f-ad2f-0bd829bdef31 div.sk-toggleable__content {max-height: 0;max-width: 0;overflow: hidden;text-align: left;background-color: #f0f8ff;}#sk-b0444173-367b-460f-ad2f-0bd829bdef31 div.sk-toggleable__content pre {margin: 0.2em;color: black;border-radius: 0.25em;background-color: #f0f8ff;}#sk-b0444173-367b-460f-ad2f-0bd829bdef31 input.sk-toggleable__control:checked~div.sk-toggleable__content {max-height: 200px;max-width: 100%;overflow: auto;}#sk-b0444173-367b-460f-ad2f-0bd829bdef31 div.sk-estimator input.sk-toggleable__control:checked~label.sk-toggleable__label {background-color: #d4ebff;}#sk-b0444173-367b-460f-ad2f-0bd829bdef31 div.sk-label input.sk-toggleable__control:checked~label.sk-toggleable__label {background-color: #d4ebff;}#sk-b0444173-367b-460f-ad2f-0bd829bdef31 input.sk-hidden--visually {border: 0;clip: rect(1px 1px 1px 1px);clip: rect(1px, 1px, 1px, 1px);height: 1px;margin: -1px;overflow: hidden;padding: 0;position: absolute;width: 1px;}#sk-b0444173-367b-460f-ad2f-0bd829bdef31 div.sk-estimator {font-family: monospace;background-color: #f0f8ff;margin: 0.25em 0.25em;border: 1px dotted black;border-radius: 0.25em;box-sizing: border-box;}#sk-b0444173-367b-460f-ad2f-0bd829bdef31 div.sk-estimator:hover {background-color: #d4ebff;}#sk-b0444173-367b-460f-ad2f-0bd829bdef31 div.sk-parallel-item::after {content: \"\";width: 100%;border-bottom: 1px solid gray;flex-grow: 1;}#sk-b0444173-367b-460f-ad2f-0bd829bdef31 div.sk-label:hover label.sk-toggleable__label {background-color: #d4ebff;}#sk-b0444173-367b-460f-ad2f-0bd829bdef31 div.sk-serial::before {content: \"\";position: absolute;border-left: 1px solid gray;box-sizing: border-box;top: 2em;bottom: 0;left: 50%;}#sk-b0444173-367b-460f-ad2f-0bd829bdef31 div.sk-serial {display: flex;flex-direction: column;align-items: center;background-color: white;}#sk-b0444173-367b-460f-ad2f-0bd829bdef31 div.sk-item {z-index: 1;}#sk-b0444173-367b-460f-ad2f-0bd829bdef31 div.sk-parallel {display: flex;align-items: stretch;justify-content: center;background-color: white;}#sk-b0444173-367b-460f-ad2f-0bd829bdef31 div.sk-parallel-item {display: flex;flex-direction: column;position: relative;background-color: white;}#sk-b0444173-367b-460f-ad2f-0bd829bdef31 div.sk-parallel-item:first-child::after {align-self: flex-end;width: 50%;}#sk-b0444173-367b-460f-ad2f-0bd829bdef31 div.sk-parallel-item:last-child::after {align-self: flex-start;width: 50%;}#sk-b0444173-367b-460f-ad2f-0bd829bdef31 div.sk-parallel-item:only-child::after {width: 0;}#sk-b0444173-367b-460f-ad2f-0bd829bdef31 div.sk-dashed-wrapped {border: 1px dashed gray;margin: 0.2em;box-sizing: border-box;padding-bottom: 0.1em;background-color: white;position: relative;}#sk-b0444173-367b-460f-ad2f-0bd829bdef31 div.sk-label label {font-family: monospace;font-weight: bold;background-color: white;display: inline-block;line-height: 1.2em;}#sk-b0444173-367b-460f-ad2f-0bd829bdef31 div.sk-label-container {position: relative;z-index: 2;text-align: center;}#sk-b0444173-367b-460f-ad2f-0bd829bdef31 div.sk-container {display: inline-block;position: relative;}</style><div id=\"sk-b0444173-367b-460f-ad2f-0bd829bdef31\" class\"sk-top-container\"><div class=\"sk-container\"><div class=\"sk-item sk-dashed-wrapped\"><div class=\"sk-label-container\"><div class=\"sk-label sk-toggleable\"><input class=\"sk-toggleable__control sk-hidden--visually\" id=\"b432e886-8090-4372-8f77-0d344dbbb0d1\" type=\"checkbox\" ><label class=\"sk-toggleable__label\" for=\"b432e886-8090-4372-8f77-0d344dbbb0d1\">Pipeline</label><div class=\"sk-toggleable__content\"><pre>Pipeline(steps=[('preparation',\n",
              "                 ColumnTransformer(transformers=[('num_pipe',\n",
              "                                                  Pipeline(steps=[('num',\n",
              "                                                                   StandardScaler())]),\n",
              "                                                  Index(['trip_distance', 'pickup_longitude', 'pickup_latitude',\n",
              "       'dropoff_longitude', 'dropoff_latitude', 'fare_amount', 'total_amount',\n",
              "       'tip_amount', 'ave_speed', 'time_of_day'],\n",
              "      dtype='object')),\n",
              "                                                 ('cat_pipe',\n",
              "                                                  Pipeline(steps=[('cat',\n",
              "                                                                   OrdinalEncoder())]),\n",
              "                                                  Index(['day_of_week'], dtype='object'))])),\n",
              "                ('model',\n",
              "                 RandomForestClassifier(n_jobs=1, random_state=42, verbose=1))])</pre></div></div></div><div class=\"sk-serial\"><div class=\"sk-item sk-dashed-wrapped\"><div class=\"sk-label-container\"><div class=\"sk-label sk-toggleable\"><input class=\"sk-toggleable__control sk-hidden--visually\" id=\"9729bcca-6313-4983-b299-8ff64d091657\" type=\"checkbox\" ><label class=\"sk-toggleable__label\" for=\"9729bcca-6313-4983-b299-8ff64d091657\">preparation: ColumnTransformer</label><div class=\"sk-toggleable__content\"><pre>ColumnTransformer(transformers=[('num_pipe',\n",
              "                                 Pipeline(steps=[('num', StandardScaler())]),\n",
              "                                 Index(['trip_distance', 'pickup_longitude', 'pickup_latitude',\n",
              "       'dropoff_longitude', 'dropoff_latitude', 'fare_amount', 'total_amount',\n",
              "       'tip_amount', 'ave_speed', 'time_of_day'],\n",
              "      dtype='object')),\n",
              "                                ('cat_pipe',\n",
              "                                 Pipeline(steps=[('cat', OrdinalEncoder())]),\n",
              "                                 Index(['day_of_week'], dtype='object'))])</pre></div></div></div><div class=\"sk-parallel\"><div class=\"sk-parallel-item\"><div class=\"sk-item\"><div class=\"sk-label-container\"><div class=\"sk-label sk-toggleable\"><input class=\"sk-toggleable__control sk-hidden--visually\" id=\"b2de1cd1-c91d-4809-b541-345888155e98\" type=\"checkbox\" ><label class=\"sk-toggleable__label\" for=\"b2de1cd1-c91d-4809-b541-345888155e98\">num_pipe</label><div class=\"sk-toggleable__content\"><pre>Index(['trip_distance', 'pickup_longitude', 'pickup_latitude',\n",
              "       'dropoff_longitude', 'dropoff_latitude', 'fare_amount', 'total_amount',\n",
              "       'tip_amount', 'ave_speed', 'time_of_day'],\n",
              "      dtype='object')</pre></div></div></div><div class=\"sk-serial\"><div class=\"sk-item\"><div class=\"sk-serial\"><div class=\"sk-item\"><div class=\"sk-estimator sk-toggleable\"><input class=\"sk-toggleable__control sk-hidden--visually\" id=\"cff23e05-4667-40a8-b0c1-774a21901788\" type=\"checkbox\" ><label class=\"sk-toggleable__label\" for=\"cff23e05-4667-40a8-b0c1-774a21901788\">StandardScaler</label><div class=\"sk-toggleable__content\"><pre>StandardScaler()</pre></div></div></div></div></div></div></div></div><div class=\"sk-parallel-item\"><div class=\"sk-item\"><div class=\"sk-label-container\"><div class=\"sk-label sk-toggleable\"><input class=\"sk-toggleable__control sk-hidden--visually\" id=\"d357a900-52b2-4c56-94f4-ea47cd56ffd2\" type=\"checkbox\" ><label class=\"sk-toggleable__label\" for=\"d357a900-52b2-4c56-94f4-ea47cd56ffd2\">cat_pipe</label><div class=\"sk-toggleable__content\"><pre>Index(['day_of_week'], dtype='object')</pre></div></div></div><div class=\"sk-serial\"><div class=\"sk-item\"><div class=\"sk-serial\"><div class=\"sk-item\"><div class=\"sk-estimator sk-toggleable\"><input class=\"sk-toggleable__control sk-hidden--visually\" id=\"05d24022-ef6d-4b5c-8403-65ff22b0a2e4\" type=\"checkbox\" ><label class=\"sk-toggleable__label\" for=\"05d24022-ef6d-4b5c-8403-65ff22b0a2e4\">OrdinalEncoder</label><div class=\"sk-toggleable__content\"><pre>OrdinalEncoder()</pre></div></div></div></div></div></div></div></div></div></div><div class=\"sk-item\"><div class=\"sk-estimator sk-toggleable\"><input class=\"sk-toggleable__control sk-hidden--visually\" id=\"1d3ae038-3588-45db-b759-f5043da558eb\" type=\"checkbox\" ><label class=\"sk-toggleable__label\" for=\"1d3ae038-3588-45db-b759-f5043da558eb\">RandomForestClassifier</label><div class=\"sk-toggleable__content\"><pre>RandomForestClassifier(n_jobs=1, random_state=42, verbose=1)</pre></div></div></div></div></div></div></div>"
            ],
            "text/plain": [
              "Pipeline(steps=[('preparation',\n",
              "                 ColumnTransformer(transformers=[('num_pipe',\n",
              "                                                  Pipeline(steps=[('num',\n",
              "                                                                   StandardScaler())]),\n",
              "                                                  Index(['trip_distance', 'pickup_longitude', 'pickup_latitude',\n",
              "       'dropoff_longitude', 'dropoff_latitude', 'fare_amount', 'total_amount',\n",
              "       'tip_amount', 'ave_speed', 'time_of_day'],\n",
              "      dtype='object')),\n",
              "                                                 ('cat_pipe',\n",
              "                                                  Pipeline(steps=[('cat',\n",
              "                                                                   OrdinalEncoder())]),\n",
              "                                                  Index(['day_of_week'], dtype='object'))])),\n",
              "                ('model',\n",
              "                 RandomForestClassifier(n_jobs=1, random_state=42, verbose=1))])"
            ]
          },
          "metadata": {},
          "execution_count": 68
        }
      ]
    },
    {
      "cell_type": "code",
      "metadata": {
        "id": "4zwCzbDa4fRZ"
      },
      "source": [
        "models['base'] = rfc"
      ],
      "execution_count": null,
      "outputs": []
    },
    {
      "cell_type": "code",
      "metadata": {
        "colab": {
          "base_uri": "https://localhost:8080/"
        },
        "id": "Ozk7tdODZ3dE",
        "outputId": "ba5a3619-7679-41e1-d5fb-19594f9bacd8"
      },
      "source": [
        "# Make predictions on the train set - both \"hard\" predictions, and the scores\n",
        "y_pred_class_rf = rfc.predict(X_train_val)\n",
        "y_pred_prob_rf = rfc.predict_proba(X_train_val)\n",
        "\n",
        "\n",
        "print('accuracy is {:.3f}'.format(accuracy_score(y_train_val, y_pred_class_rf)))\n",
        "print('roc-auc is {:.3f}'.format(roc_auc_score(y_train_val, y_pred_prob_rf[:,1])))"
      ],
      "execution_count": null,
      "outputs": [
        {
          "output_type": "stream",
          "text": [
            "[Parallel(n_jobs=1)]: Using backend SequentialBackend with 1 concurrent workers.\n",
            "[Parallel(n_jobs=1)]: Done 100 out of 100 | elapsed:    4.5s finished\n",
            "[Parallel(n_jobs=1)]: Using backend SequentialBackend with 1 concurrent workers.\n"
          ],
          "name": "stderr"
        },
        {
          "output_type": "stream",
          "text": [
            "accuracy is 1.000\n",
            "roc-auc is 1.000\n"
          ],
          "name": "stdout"
        },
        {
          "output_type": "stream",
          "text": [
            "[Parallel(n_jobs=1)]: Done 100 out of 100 | elapsed:    4.4s finished\n"
          ],
          "name": "stderr"
        }
      ]
    },
    {
      "cell_type": "code",
      "metadata": {
        "colab": {
          "base_uri": "https://localhost:8080/"
        },
        "id": "Oq4cI9awZ5wS",
        "outputId": "91e0f362-6205-4e17-c349-e70b312947fe"
      },
      "source": [
        "# Make predictions on the val set - both \"hard\" predictions, and the scores\n",
        "y_pred_class_rf = rfc.predict(X_val)\n",
        "y_pred_prob_rf = rfc.predict_proba(X_val)\n",
        "\n",
        "\n",
        "print('accuracy is {:.3f}'.format(accuracy_score(y_val, y_pred_class_rf)))\n",
        "print('roc-auc is {:.3f}'.format(roc_auc_score(y_val, y_pred_prob_rf[:,1])))"
      ],
      "execution_count": null,
      "outputs": [
        {
          "output_type": "stream",
          "text": [
            "[Parallel(n_jobs=1)]: Using backend SequentialBackend with 1 concurrent workers.\n",
            "[Parallel(n_jobs=1)]: Done 100 out of 100 | elapsed:    1.0s finished\n",
            "[Parallel(n_jobs=1)]: Using backend SequentialBackend with 1 concurrent workers.\n"
          ],
          "name": "stderr"
        },
        {
          "output_type": "stream",
          "text": [
            "accuracy is 1.000\n",
            "roc-auc is 1.000\n"
          ],
          "name": "stdout"
        },
        {
          "output_type": "stream",
          "text": [
            "[Parallel(n_jobs=1)]: Done 100 out of 100 | elapsed:    1.0s finished\n"
          ],
          "name": "stderr"
        }
      ]
    },
    {
      "cell_type": "code",
      "metadata": {
        "colab": {
          "base_uri": "https://localhost:8080/"
        },
        "id": "s7qjBkylPG1N",
        "outputId": "9e69b122-fdf5-454f-a166-8ddf49d0df75"
      },
      "source": [
        "# Make predictions on the test set - both \"hard\" predictions, and the scores\n",
        "y_pred_class_rf = rfc.predict(X_test)\n",
        "y_pred_prob_rf = rfc.predict_proba(X_test)\n",
        "\n",
        "\n",
        "print('accuracy is {:.3f}'.format(accuracy_score(y_test,y_pred_class_rf)))\n",
        "print('roc-auc is {:.3f}'.format(roc_auc_score(y_test,y_pred_prob_rf[:,1])))"
      ],
      "execution_count": null,
      "outputs": [
        {
          "output_type": "stream",
          "text": [
            "[Parallel(n_jobs=1)]: Using backend SequentialBackend with 1 concurrent workers.\n",
            "[Parallel(n_jobs=1)]: Done 100 out of 100 | elapsed:    1.3s finished\n",
            "[Parallel(n_jobs=1)]: Using backend SequentialBackend with 1 concurrent workers.\n"
          ],
          "name": "stderr"
        },
        {
          "output_type": "stream",
          "text": [
            "accuracy is 0.993\n",
            "roc-auc is 1.000\n"
          ],
          "name": "stdout"
        },
        {
          "output_type": "stream",
          "text": [
            "[Parallel(n_jobs=1)]: Done 100 out of 100 | elapsed:    1.2s finished\n"
          ],
          "name": "stderr"
        }
      ]
    },
    {
      "cell_type": "markdown",
      "metadata": {
        "id": "tCsUTQa7Zr3x"
      },
      "source": [
        "## Train Deep Neural Network"
      ]
    },
    {
      "cell_type": "code",
      "metadata": {
        "id": "UmfrgcsJPG1P"
      },
      "source": [
        "## Import Keras objects for Deep Learning\n",
        "from tensorflow.keras.models  import Sequential\n",
        "from tensorflow.keras.layers import Input, Dense, Flatten, Dropout, BatchNormalization\n",
        "from tensorflow.keras.optimizers import Adam, SGD, RMSprop\n",
        "from tensorflow.keras.utils import plot_model\n",
        "from tensorflow.keras.callbacks import Callback"
      ],
      "execution_count": null,
      "outputs": []
    },
    {
      "cell_type": "code",
      "metadata": {
        "id": "oMVLDes-PG1Q"
      },
      "source": [
        "## First let's normalize the data\n",
        "## This aids the training of neural nets by providing numerical stability\n",
        "\n",
        "X_train_norm = transformer.fit_transform(X_train)\n",
        "X_val_norm = transformer.transform(X_val)\n",
        "X_test_norm = transformer.transform(X_test)"
      ],
      "execution_count": null,
      "outputs": []
    },
    {
      "cell_type": "code",
      "metadata": {
        "colab": {
          "base_uri": "https://localhost:8080/"
        },
        "id": "ZbaQb5KePG1R",
        "outputId": "4b383b7b-b80f-4e8d-b9c7-20ddbf5ef0bd"
      },
      "source": [
        "X_train_norm.dtype"
      ],
      "execution_count": null,
      "outputs": [
        {
          "output_type": "execute_result",
          "data": {
            "text/plain": [
              "dtype('float64')"
            ]
          },
          "metadata": {},
          "execution_count": 77
        }
      ]
    },
    {
      "cell_type": "code",
      "metadata": {
        "id": "6YN45iNPPG1R"
      },
      "source": [
        "X_train_norm = X_train_norm.astype(\"float32\")\n",
        "X_val_norm = X_val_norm.astype(\"float32\")\n",
        "X_test_norm = X_test_norm.astype(\"float32\")"
      ],
      "execution_count": null,
      "outputs": []
    },
    {
      "cell_type": "code",
      "metadata": {
        "colab": {
          "base_uri": "https://localhost:8080/"
        },
        "id": "1csAXWrXPG1S",
        "outputId": "c89adc69-5824-4dbb-e202-15be1cf03753"
      },
      "source": [
        "X_train_norm.shape"
      ],
      "execution_count": null,
      "outputs": [
        {
          "output_type": "execute_result",
          "data": {
            "text/plain": [
              "(231292, 11)"
            ]
          },
          "metadata": {},
          "execution_count": 79
        }
      ]
    },
    {
      "cell_type": "code",
      "metadata": {
        "colab": {
          "base_uri": "https://localhost:8080/"
        },
        "id": "elcljmSNPG1S",
        "outputId": "0bc4a91a-b745-4cdc-bcc7-6e539f373e3d"
      },
      "source": [
        "X_train_norm.dtype"
      ],
      "execution_count": null,
      "outputs": [
        {
          "output_type": "execute_result",
          "data": {
            "text/plain": [
              "dtype('float32')"
            ]
          },
          "metadata": {},
          "execution_count": 80
        }
      ]
    },
    {
      "cell_type": "code",
      "metadata": {
        "colab": {
          "base_uri": "https://localhost:8080/"
        },
        "id": "1_-_6NBePG1T",
        "outputId": "94cbc04c-cc71-4c29-d1e1-7c642f920962"
      },
      "source": [
        "y_train.dtypes"
      ],
      "execution_count": null,
      "outputs": [
        {
          "output_type": "execute_result",
          "data": {
            "text/plain": [
              "toll_paid    int64\n",
              "dtype: object"
            ]
          },
          "metadata": {},
          "execution_count": 81
        }
      ]
    },
    {
      "cell_type": "code",
      "metadata": {
        "id": "prPIOYRqPG1U"
      },
      "source": [
        "y_train = y_train.astype(\"int32\")\n",
        "y_val = y_val.astype(\"int32\")\n",
        "y_test = y_test.astype(\"int32\")"
      ],
      "execution_count": null,
      "outputs": []
    },
    {
      "cell_type": "code",
      "metadata": {
        "colab": {
          "base_uri": "https://localhost:8080/"
        },
        "id": "1HXLSDx2PG1V",
        "outputId": "f6ec50f4-936e-49bc-ee01-afa7fc73a54a"
      },
      "source": [
        "y_train.dtypes"
      ],
      "execution_count": null,
      "outputs": [
        {
          "output_type": "execute_result",
          "data": {
            "text/plain": [
              "toll_paid    int32\n",
              "dtype: object"
            ]
          },
          "metadata": {},
          "execution_count": 83
        }
      ]
    },
    {
      "cell_type": "code",
      "metadata": {
        "colab": {
          "base_uri": "https://localhost:8080/"
        },
        "id": "uPfknstsqm7y",
        "outputId": "405091fa-d792-469c-cfb3-a18e45d80a2e"
      },
      "source": [
        "X_train_norm[0:2]"
      ],
      "execution_count": null,
      "outputs": [
        {
          "output_type": "execute_result",
          "data": {
            "text/plain": [
              "array([[-0.65773875, -0.7174389 , -0.28982478, -0.1729205 ,  0.44040996,\n",
              "        -0.55141443, -0.677275  , -0.8499244 , -0.8096452 ,  0.89923614,\n",
              "         0.        ],\n",
              "       [-0.25075468, -0.4705136 , -0.01307502,  0.08948687, -0.74972564,\n",
              "        -0.31469765, -0.0545038 ,  0.35041627,  0.09687205,  0.14895587,\n",
              "         2.        ]], dtype=float32)"
            ]
          },
          "metadata": {},
          "execution_count": 84
        }
      ]
    },
    {
      "cell_type": "markdown",
      "metadata": {
        "id": "yWJ2OqCmozO1"
      },
      "source": [
        "### model 1"
      ]
    },
    {
      "cell_type": "code",
      "metadata": {
        "id": "zNMmBXafPG1Y"
      },
      "source": [
        "import tensorflow.keras.backend as K\n",
        "K.clear_session()"
      ],
      "execution_count": null,
      "outputs": []
    },
    {
      "cell_type": "code",
      "metadata": {
        "colab": {
          "base_uri": "https://localhost:8080/"
        },
        "id": "08AJt6R1Cid_",
        "outputId": "fed8ae36-01c8-476c-f344-bf6f8ad0a242"
      },
      "source": [
        "input_size = X_train_norm.shape[1]\n",
        "input_size"
      ],
      "execution_count": null,
      "outputs": [
        {
          "output_type": "execute_result",
          "data": {
            "text/plain": [
              "11"
            ]
          },
          "metadata": {},
          "execution_count": 92
        }
      ]
    },
    {
      "cell_type": "code",
      "metadata": {
        "id": "K1V6pWvQoK93"
      },
      "source": [
        "BATCH_SIZE = 256\n",
        "EPOCH = 10"
      ],
      "execution_count": null,
      "outputs": []
    },
    {
      "cell_type": "code",
      "metadata": {
        "id": "6Ir3UWI5pZqn"
      },
      "source": [
        "# Define a Callback class that stops training once accuracy reaches 99.9%\n",
        "class myCallback(Callback):\n",
        "    def on_epoch_end(self, epoch, logs={}):\n",
        "        if(logs.get('val_accuracy')>0.999):\n",
        "            print(\"\\nReached 99% accuracy so cancelling training!\")\n",
        "            self.model.stop_training = True"
      ],
      "execution_count": null,
      "outputs": []
    },
    {
      "cell_type": "code",
      "metadata": {
        "id": "w0ZupN28pdJS"
      },
      "source": [
        "callback = myCallback()"
      ],
      "execution_count": null,
      "outputs": []
    },
    {
      "cell_type": "code",
      "metadata": {
        "id": "-Jg9j9SUPG1Y"
      },
      "source": [
        "# Define the Model \n",
        "model_1 = Sequential()\n",
        "model_1.add(Dense(16,input_shape = (input_size,), activation = 'relu'))\n",
        "model_1.add(Dense(1,activation='sigmoid'))"
      ],
      "execution_count": null,
      "outputs": []
    },
    {
      "cell_type": "code",
      "metadata": {
        "colab": {
          "base_uri": "https://localhost:8080/"
        },
        "id": "czBFXAB9PG1Y",
        "outputId": "52e7d1b5-dc7c-42a6-fbf9-31aa9a7b8657"
      },
      "source": [
        "#  This is a nice tool to view the model you have created and count the parameters\n",
        "model_1.summary()"
      ],
      "execution_count": null,
      "outputs": [
        {
          "output_type": "stream",
          "text": [
            "Model: \"sequential\"\n",
            "_________________________________________________________________\n",
            "Layer (type)                 Output Shape              Param #   \n",
            "=================================================================\n",
            "dense (Dense)                (None, 16)                192       \n",
            "_________________________________________________________________\n",
            "dense_1 (Dense)              (None, 1)                 17        \n",
            "=================================================================\n",
            "Total params: 209\n",
            "Trainable params: 209\n",
            "Non-trainable params: 0\n",
            "_________________________________________________________________\n"
          ],
          "name": "stdout"
        }
      ]
    },
    {
      "cell_type": "code",
      "metadata": {
        "colab": {
          "base_uri": "https://localhost:8080/",
          "height": 331
        },
        "id": "_Yy0muAIzQXh",
        "outputId": "309eabb0-9ad1-4b86-f998-695b0d173cd3"
      },
      "source": [
        "# save model\n",
        "print(IMAGES_PATH)\n",
        "to_file = f\"{IMAGES_PATH}/model_1.png\"\n",
        "plot_model(model_1, to_file=to_file, show_shapes=True)"
      ],
      "execution_count": null,
      "outputs": [
        {
          "output_type": "stream",
          "text": [
            "/content/images\n"
          ],
          "name": "stdout"
        },
        {
          "output_type": "execute_result",
          "data": {
            "image/png": "[encoded data removed]",
            "text/plain": [
              "<IPython.core.display.Image object>"
            ]
          },
          "metadata": {},
          "execution_count": 98
        }
      ]
    },
    {
      "cell_type": "code",
      "metadata": {
        "colab": {
          "base_uri": "https://localhost:8080/"
        },
        "id": "coL4qvdBPG1Z",
        "outputId": "55dd4fd4-fa37-4533-ac02-9420e2aa78b4"
      },
      "source": [
        "# Fit(Train) the Model\n",
        "\n",
        "# Compile the model with Optimizer, Loss Function and Metrics\n",
        "model_1.compile(Adam(beta_1=0.85, beta_2=0.999), \"binary_crossentropy\", metrics=[\"accuracy\"])\n",
        "run_hist_1 = model_1.fit(X_train_norm, y_train,\n",
        "                         validation_data=(X_val_norm, y_val),\n",
        "                         epochs=EPOCH, batch_size=BATCH_SIZE,\n",
        "                         callbacks=[callback])"
      ],
      "execution_count": null,
      "outputs": [
        {
          "output_type": "stream",
          "text": [
            "Epoch 1/10\n",
            "904/904 [==============================] - 6s 4ms/step - loss: 0.1766 - accuracy: 0.9397 - val_loss: 0.1261 - val_accuracy: 0.9550\n",
            "Epoch 2/10\n",
            "904/904 [==============================] - 3s 3ms/step - loss: 0.1107 - accuracy: 0.9596 - val_loss: 0.0958 - val_accuracy: 0.9644\n",
            "Epoch 3/10\n",
            "904/904 [==============================] - 3s 4ms/step - loss: 0.0770 - accuracy: 0.9728 - val_loss: 0.0625 - val_accuracy: 0.9803\n",
            "Epoch 4/10\n",
            "904/904 [==============================] - 3s 4ms/step - loss: 0.0493 - accuracy: 0.9865 - val_loss: 0.0398 - val_accuracy: 0.9911\n",
            "Epoch 5/10\n",
            "904/904 [==============================] - 3s 4ms/step - loss: 0.0311 - accuracy: 0.9934 - val_loss: 0.0249 - val_accuracy: 0.9952\n",
            "Epoch 6/10\n",
            "904/904 [==============================] - 3s 4ms/step - loss: 0.0193 - accuracy: 0.9963 - val_loss: 0.0152 - val_accuracy: 0.9978\n",
            "Epoch 7/10\n",
            "904/904 [==============================] - 3s 4ms/step - loss: 0.0119 - accuracy: 0.9983 - val_loss: 0.0097 - val_accuracy: 0.9986\n",
            "Epoch 8/10\n",
            "904/904 [==============================] - 3s 4ms/step - loss: 0.0081 - accuracy: 0.9990 - val_loss: 0.0069 - val_accuracy: 0.9991\n",
            "\n",
            "Reached 99% accuracy so cancelling training!\n"
          ],
          "name": "stdout"
        }
      ]
    },
    {
      "cell_type": "code",
      "metadata": {
        "id": "C505PRtl7O9g"
      },
      "source": [
        "models['model1'] = model_1"
      ],
      "execution_count": null,
      "outputs": []
    },
    {
      "cell_type": "code",
      "metadata": {
        "colab": {
          "base_uri": "https://localhost:8080/"
        },
        "id": "KTUXfFbDVYWM",
        "outputId": "26ea2cd6-bf21-4d37-ac10-ba07607262fd"
      },
      "source": [
        "_, acc = model_1.evaluate(X_train_norm, y_train, batch_size=BATCH_SIZE, verbose=0)\n",
        "acc"
      ],
      "execution_count": null,
      "outputs": [
        {
          "output_type": "execute_result",
          "data": {
            "text/plain": [
              "0.9991612434387207"
            ]
          },
          "metadata": {},
          "execution_count": 100
        }
      ]
    },
    {
      "cell_type": "code",
      "metadata": {
        "id": "qy0gpGRQPG1b"
      },
      "source": [
        "## We generate two kinds of predictions\n",
        "#  One is a hard decision, the other is a probabilitistic score.\n",
        "y_pred_class_nn_1 = (model_1.predict(X_test_norm) > 0.5).astype(\"int32\")\n",
        "y_pred_prob_nn_1 = model_1.predict(X_test_norm)"
      ],
      "execution_count": null,
      "outputs": []
    },
    {
      "cell_type": "code",
      "metadata": {
        "colab": {
          "base_uri": "https://localhost:8080/"
        },
        "id": "qJcQAAhFPG1d",
        "outputId": "08569e78-9c48-4927-cec6-1b517fdbe1da"
      },
      "source": [
        "# Print model performance and plot the roc curve\n",
        "print('accuracy is {:.3f}'.format(accuracy_score(y_test,y_pred_class_nn_1)))\n",
        "print('roc-auc is {:.3f}'.format(roc_auc_score(y_test,y_pred_prob_nn_1)))"
      ],
      "execution_count": null,
      "outputs": [
        {
          "output_type": "stream",
          "text": [
            "accuracy is 1.000\n",
            "roc-auc is 1.000\n"
          ],
          "name": "stdout"
        }
      ]
    },
    {
      "cell_type": "code",
      "metadata": {
        "colab": {
          "base_uri": "https://localhost:8080/"
        },
        "id": "YuiEMAjCsl0P",
        "outputId": "ab6f4a79-1ffb-464c-b6d0-f684598e1cb2"
      },
      "source": [
        "run_hist_1.history.keys()"
      ],
      "execution_count": null,
      "outputs": [
        {
          "output_type": "execute_result",
          "data": {
            "text/plain": [
              "dict_keys(['loss', 'accuracy', 'val_loss', 'val_accuracy'])"
            ]
          },
          "metadata": {},
          "execution_count": 103
        }
      ]
    },
    {
      "cell_type": "code",
      "metadata": {
        "colab": {
          "base_uri": "https://localhost:8080/",
          "height": 407
        },
        "id": "tH-OYQUNJmlZ",
        "outputId": "c4089ae3-5bd7-458f-9afe-eed86adc107c"
      },
      "source": [
        "n = len(run_hist_1.history[\"loss\"])\n",
        "\n",
        "fig = plt.figure(figsize=(12, 6))\n",
        "ax = fig.add_subplot(1, 2, 1)\n",
        "ax.plot(range(n), (run_hist_1.history[\"loss\"]),'r', label=\"Train Loss\")\n",
        "ax.plot(range(n), (run_hist_1.history[\"val_loss\"]),'b', label=\"Validation Loss\")\n",
        "ax.legend()\n",
        "ax.set_title('Loss over iterations')\n",
        "\n",
        "ax = fig.add_subplot(1, 2, 2)\n",
        "ax.plot(range(n), (run_hist_1.history[\"accuracy\"]),'r', label=\"Train Acc\")\n",
        "ax.plot(range(n), (run_hist_1.history[\"val_accuracy\"]),'b', label=\"Validation Acc\")\n",
        "ax.legend(loc='lower right')\n",
        "ax.set_title('Accuracy over iterations')"
      ],
      "execution_count": null,
      "outputs": [
        {
          "output_type": "execute_result",
          "data": {
            "text/plain": [
              "Text(0.5, 1.0, 'Accuracy over iterations')"
            ]
          },
          "metadata": {},
          "execution_count": 189
        },
        {
          "output_type": "display_data",
          "data": {
            "image/png": "[encoded data removed]",
            "text/plain": [
              "<Figure size 864x432 with 2 Axes>"
            ]
          },
          "metadata": {
            "needs_background": "light"
          }
        }
      ]
    },
    {
      "cell_type": "markdown",
      "metadata": {
        "id": "a_CgGs8Gp2qR"
      },
      "source": [
        "### model 2"
      ]
    },
    {
      "cell_type": "code",
      "metadata": {
        "id": "T2-nUY5qPG1h"
      },
      "source": [
        "K.clear_session()"
      ],
      "execution_count": null,
      "outputs": []
    },
    {
      "cell_type": "code",
      "metadata": {
        "id": "kOyENEkdPG1h"
      },
      "source": [
        "model_2 = Sequential()\n",
        "model_2.add(Dense(16, input_shape=(input_size,), activation=\"relu\"))\n",
        "model_2.add(Dense(8,  activation=\"relu\"))\n",
        "model_2.add(Dense(1, activation=\"sigmoid\"))"
      ],
      "execution_count": null,
      "outputs": []
    },
    {
      "cell_type": "code",
      "metadata": {
        "colab": {
          "base_uri": "https://localhost:8080/"
        },
        "id": "OVBE-aGXPG1h",
        "outputId": "f7f388a0-1ef3-49c6-f844-c7f5bfeeba2c"
      },
      "source": [
        "model_2.summary()"
      ],
      "execution_count": null,
      "outputs": [
        {
          "output_type": "stream",
          "text": [
            "Model: \"sequential\"\n",
            "_________________________________________________________________\n",
            "Layer (type)                 Output Shape              Param #   \n",
            "=================================================================\n",
            "dense (Dense)                (None, 16)                192       \n",
            "_________________________________________________________________\n",
            "dense_1 (Dense)              (None, 8)                 136       \n",
            "_________________________________________________________________\n",
            "dense_2 (Dense)              (None, 1)                 9         \n",
            "=================================================================\n",
            "Total params: 337\n",
            "Trainable params: 337\n",
            "Non-trainable params: 0\n",
            "_________________________________________________________________\n"
          ],
          "name": "stdout"
        }
      ]
    },
    {
      "cell_type": "code",
      "metadata": {
        "colab": {
          "base_uri": "https://localhost:8080/",
          "height": 441
        },
        "id": "IJ0mPVS-x9Vr",
        "outputId": "8902606d-f1d7-4c70-9d6f-3764bddd3fee"
      },
      "source": [
        "# save model\n",
        "print(IMAGES_PATH)\n",
        "to_file = f\"{IMAGES_PATH}/model_2.png\"\n",
        "plot_model(model_2, to_file=to_file, show_shapes=True)"
      ],
      "execution_count": null,
      "outputs": [
        {
          "output_type": "stream",
          "text": [
            "/content/images\n"
          ],
          "name": "stdout"
        },
        {
          "output_type": "execute_result",
          "data": {
            "image/png": "[encoded data removed]",
            "text/plain": [
              "<IPython.core.display.Image object>"
            ]
          },
          "metadata": {},
          "execution_count": 110
        }
      ]
    },
    {
      "cell_type": "code",
      "metadata": {
        "colab": {
          "base_uri": "https://localhost:8080/"
        },
        "id": "267DHX1NPG1i",
        "outputId": "9ed274ac-c904-473d-e19c-1bc4dcbdb676"
      },
      "source": [
        "model_2.compile(Adam(beta_1=0.85, beta_2=0.999), \"binary_crossentropy\", metrics=[\"accuracy\"])\n",
        "run_hist_2 = model_2.fit(X_train_norm, y_train, validation_data=(X_val_norm, y_val),\n",
        "                         epochs=EPOCH, batch_size=BATCH_SIZE, callbacks=[callback])"
      ],
      "execution_count": null,
      "outputs": [
        {
          "output_type": "stream",
          "text": [
            "Epoch 1/10\n",
            "904/904 [==============================] - 4s 4ms/step - loss: 0.1931 - accuracy: 0.9262 - val_loss: 0.1185 - val_accuracy: 0.9574\n",
            "Epoch 2/10\n",
            "904/904 [==============================] - 3s 4ms/step - loss: 0.0893 - accuracy: 0.9676 - val_loss: 0.0641 - val_accuracy: 0.9786\n",
            "Epoch 3/10\n",
            "904/904 [==============================] - 3s 3ms/step - loss: 0.0380 - accuracy: 0.9900 - val_loss: 0.0206 - val_accuracy: 0.9958\n",
            "Epoch 4/10\n",
            "904/904 [==============================] - 3s 4ms/step - loss: 0.0131 - accuracy: 0.9976 - val_loss: 0.0087 - val_accuracy: 0.9985\n",
            "Epoch 5/10\n",
            "904/904 [==============================] - 3s 3ms/step - loss: 0.0066 - accuracy: 0.9990 - val_loss: 0.0052 - val_accuracy: 0.9992\n",
            "\n",
            "Reached 99% accuracy so cancelling training!\n"
          ],
          "name": "stdout"
        }
      ]
    },
    {
      "cell_type": "code",
      "metadata": {
        "id": "4EkNvRlT8b8c"
      },
      "source": [
        "models['model2'] = model_2"
      ],
      "execution_count": null,
      "outputs": []
    },
    {
      "cell_type": "code",
      "metadata": {
        "colab": {
          "base_uri": "https://localhost:8080/"
        },
        "id": "90jubazCTXuh",
        "outputId": "22c3fa06-6bab-4a30-8c05-557d9f3f790f"
      },
      "source": [
        "_, acc = model_2.evaluate(X_train_norm, y_train, batch_size=BATCH_SIZE, verbose=0)\n",
        "acc"
      ],
      "execution_count": null,
      "outputs": [
        {
          "output_type": "execute_result",
          "data": {
            "text/plain": [
              "0.9993471503257751"
            ]
          },
          "metadata": {},
          "execution_count": 112
        }
      ]
    },
    {
      "cell_type": "code",
      "metadata": {
        "id": "MgGNouvcPG1j"
      },
      "source": [
        "## We generate two kinds of predictions\n",
        "#  One is a hard decision, the other is a probabilitistic score.\n",
        "\n",
        "y_pred_class_nn_2 = (model_2.predict(X_test_norm) > 0.5).astype(\"int32\")\n",
        "y_pred_prob_nn_2 = model_2.predict(X_test_norm)"
      ],
      "execution_count": null,
      "outputs": []
    },
    {
      "cell_type": "code",
      "metadata": {
        "colab": {
          "base_uri": "https://localhost:8080/"
        },
        "id": "U65DUSFuPG1l",
        "outputId": "be734479-923f-48b0-96ac-2571a06bcf57"
      },
      "source": [
        "# Print model performance and plot the roc curve\n",
        "print('accuracy is {:.3f}'.format(accuracy_score(y_test,y_pred_class_nn_2)))\n",
        "print('roc-auc is {:.3f}'.format(roc_auc_score(y_test,y_pred_prob_nn_2)))"
      ],
      "execution_count": null,
      "outputs": [
        {
          "output_type": "stream",
          "text": [
            "accuracy is 1.000\n",
            "roc-auc is 1.000\n"
          ],
          "name": "stdout"
        }
      ]
    },
    {
      "cell_type": "code",
      "metadata": {
        "colab": {
          "base_uri": "https://localhost:8080/",
          "height": 407
        },
        "id": "CydPKfzTJN6H",
        "outputId": "b773e9e4-d94b-4f2f-b319-ede4d9914aa3"
      },
      "source": [
        "n = len(run_hist_2.history[\"loss\"])\n",
        "\n",
        "fig = plt.figure(figsize=(12, 6))\n",
        "ax = fig.add_subplot(1, 2, 1)\n",
        "ax.plot(range(n), (run_hist_2.history[\"loss\"]),'r', label=\"Train Loss\")\n",
        "ax.plot(range(n), (run_hist_2.history[\"val_loss\"]),'b', label=\"Validation Loss\")\n",
        "ax.legend()\n",
        "ax.set_title('Loss over iterations')\n",
        "\n",
        "ax = fig.add_subplot(1, 2, 2)\n",
        "ax.plot(range(n), (run_hist_2.history[\"accuracy\"]),'r', label=\"Train Acc\")\n",
        "ax.plot(range(n), (run_hist_2.history[\"val_accuracy\"]),'b', label=\"Validation Acc\")\n",
        "ax.legend(loc='lower right')\n",
        "ax.set_title('Accuracy over iterations')"
      ],
      "execution_count": null,
      "outputs": [
        {
          "output_type": "execute_result",
          "data": {
            "text/plain": [
              "Text(0.5, 1.0, 'Accuracy over iterations')"
            ]
          },
          "metadata": {},
          "execution_count": 188
        },
        {
          "output_type": "display_data",
          "data": {
            "image/png": "[encoded data removed]",
            "text/plain": [
              "<Figure size 864x432 with 2 Axes>"
            ]
          },
          "metadata": {
            "needs_background": "light"
          }
        }
      ]
    },
    {
      "cell_type": "markdown",
      "metadata": {
        "id": "msXIzMqBZdk_"
      },
      "source": [
        "### model3"
      ]
    },
    {
      "cell_type": "code",
      "metadata": {
        "id": "-DcguDuDZp5q"
      },
      "source": [
        "K.clear_session()\n",
        "model_3 = Sequential()\n",
        "model_3.add(Dense(16, input_shape=(input_size,), activation=\"relu\"))\n",
        "model_3.add(Dense(8,  activation=\"relu\"))\n",
        "model_3.add(Dense(4,  activation=\"relu\"))\n",
        "model_3.add(Dense(1, activation=\"sigmoid\"))"
      ],
      "execution_count": null,
      "outputs": []
    },
    {
      "cell_type": "code",
      "metadata": {
        "colab": {
          "base_uri": "https://localhost:8080/"
        },
        "id": "8pqq--m8Zp5t",
        "outputId": "29dd18f7-6433-475e-9210-4d69d7a2b7ce"
      },
      "source": [
        "model_3.summary()"
      ],
      "execution_count": null,
      "outputs": [
        {
          "output_type": "stream",
          "text": [
            "Model: \"sequential\"\n",
            "_________________________________________________________________\n",
            "Layer (type)                 Output Shape              Param #   \n",
            "=================================================================\n",
            "dense (Dense)                (None, 16)                192       \n",
            "_________________________________________________________________\n",
            "dense_1 (Dense)              (None, 8)                 136       \n",
            "_________________________________________________________________\n",
            "dense_2 (Dense)              (None, 4)                 36        \n",
            "_________________________________________________________________\n",
            "dense_3 (Dense)              (None, 1)                 5         \n",
            "=================================================================\n",
            "Total params: 369\n",
            "Trainable params: 369\n",
            "Non-trainable params: 0\n",
            "_________________________________________________________________\n"
          ],
          "name": "stdout"
        }
      ]
    },
    {
      "cell_type": "code",
      "metadata": {
        "colab": {
          "base_uri": "https://localhost:8080/",
          "height": 552
        },
        "id": "o_Yjac8Rzj3J",
        "outputId": "12a0ddbe-ddf0-442f-b440-c2811e501c78"
      },
      "source": [
        "# save model\n",
        "print(IMAGES_PATH)\n",
        "to_file = f\"{IMAGES_PATH}/model_3.png\"\n",
        "plot_model(model_3, to_file=to_file, show_shapes=True)"
      ],
      "execution_count": null,
      "outputs": [
        {
          "output_type": "stream",
          "text": [
            "/content/images\n"
          ],
          "name": "stdout"
        },
        {
          "output_type": "execute_result",
          "data": {
            "image/png": "[encoded data removed]",
            "text/plain": [
              "<IPython.core.display.Image object>"
            ]
          },
          "metadata": {},
          "execution_count": 120
        }
      ]
    },
    {
      "cell_type": "code",
      "metadata": {
        "colab": {
          "base_uri": "https://localhost:8080/"
        },
        "id": "tcAzW38NZp5w",
        "outputId": "8a26ec9c-36f9-4e34-c68b-11799192ddad"
      },
      "source": [
        "model_3.compile(Adam(beta_1=0.85, beta_2=0.999), \"binary_crossentropy\", metrics=[\"accuracy\"])\n",
        "run_hist_3 = model_3.fit(X_train_norm, y_train, validation_data=(X_val_norm, y_val),\n",
        "                         epochs=EPOCH, batch_size=BATCH_SIZE,\n",
        "                         callbacks=[callback])"
      ],
      "execution_count": null,
      "outputs": [
        {
          "output_type": "stream",
          "text": [
            "Epoch 1/10\n",
            "904/904 [==============================] - 4s 4ms/step - loss: 0.1832 - accuracy: 0.9336 - val_loss: 0.1134 - val_accuracy: 0.9578\n",
            "Epoch 2/10\n",
            "904/904 [==============================] - 3s 4ms/step - loss: 0.0708 - accuracy: 0.9759 - val_loss: 0.0298 - val_accuracy: 0.9926\n",
            "Epoch 3/10\n",
            "904/904 [==============================] - 3s 4ms/step - loss: 0.0153 - accuracy: 0.9969 - val_loss: 0.0074 - val_accuracy: 0.9987\n",
            "Epoch 4/10\n",
            "904/904 [==============================] - 4s 4ms/step - loss: 0.0056 - accuracy: 0.9991 - val_loss: 0.0044 - val_accuracy: 0.9992\n",
            "\n",
            "Reached 99% accuracy so cancelling training!\n"
          ],
          "name": "stdout"
        }
      ]
    },
    {
      "cell_type": "code",
      "metadata": {
        "id": "8nwJ-fIK8w1v"
      },
      "source": [
        "models['model3'] = model_3"
      ],
      "execution_count": null,
      "outputs": []
    },
    {
      "cell_type": "code",
      "metadata": {
        "colab": {
          "base_uri": "https://localhost:8080/"
        },
        "id": "8TIQbH-XZp5x",
        "outputId": "b1fd203b-ac58-4ba3-f749-ba049c02bcfb"
      },
      "source": [
        "_, acc = model_3.evaluate(X_train_norm, y_train, batch_size=BATCH_SIZE, verbose=0)\n",
        "acc"
      ],
      "execution_count": null,
      "outputs": [
        {
          "output_type": "execute_result",
          "data": {
            "text/plain": [
              "0.9993427991867065"
            ]
          },
          "metadata": {},
          "execution_count": 123
        }
      ]
    },
    {
      "cell_type": "code",
      "metadata": {
        "id": "bf7jUXzzZp5x"
      },
      "source": [
        "## We generate two kinds of predictions\n",
        "#  One is a hard decision, the other is a probabilitistic score.\n",
        "\n",
        "y_pred_class_nn_3 = (model_3.predict(X_test_norm) > 0.5).astype(\"int32\")\n",
        "y_pred_prob_nn_3 = model_3.predict(X_test_norm)"
      ],
      "execution_count": null,
      "outputs": []
    },
    {
      "cell_type": "code",
      "metadata": {
        "colab": {
          "base_uri": "https://localhost:8080/"
        },
        "id": "74u39qEcZp54",
        "outputId": "cd1ee26f-477d-4399-b398-55843ef387f2"
      },
      "source": [
        "# Print model performance and plot the roc curve\n",
        "print('accuracy is {:.3f}'.format(accuracy_score(y_test.values,y_pred_class_nn_3, )))\n",
        "print('roc-auc is {:.3f}'.format(roc_auc_score(y_test,y_pred_prob_nn_3)))"
      ],
      "execution_count": null,
      "outputs": [
        {
          "output_type": "stream",
          "text": [
            "accuracy is 1.000\n",
            "roc-auc is 1.000\n"
          ],
          "name": "stdout"
        }
      ]
    },
    {
      "cell_type": "code",
      "metadata": {
        "colab": {
          "base_uri": "https://localhost:8080/",
          "height": 407
        },
        "id": "KqhMPqSLI67S",
        "outputId": "13ba99b7-0d66-4030-f710-13168d163e56"
      },
      "source": [
        "n = len(run_hist_3.history[\"loss\"])\n",
        "\n",
        "fig = plt.figure(figsize=(12, 6))\n",
        "ax = fig.add_subplot(1, 2, 1)\n",
        "ax.plot(range(n), (run_hist_3.history[\"loss\"]),'r', label=\"Train Loss\")\n",
        "ax.plot(range(n), (run_hist_3.history[\"val_loss\"]),'b', label=\"Validation Loss\")\n",
        "ax.legend()\n",
        "ax.set_title('Loss over iterations')\n",
        "\n",
        "ax = fig.add_subplot(1, 2, 2)\n",
        "ax.plot(range(n), (run_hist_3.history[\"accuracy\"]),'r', label=\"Train Acc\")\n",
        "ax.plot(range(n), (run_hist_3.history[\"val_accuracy\"]),'b', label=\"Validation Acc\")\n",
        "ax.legend(loc='lower right')\n",
        "ax.set_title('Accuracy over iterations')"
      ],
      "execution_count": null,
      "outputs": [
        {
          "output_type": "execute_result",
          "data": {
            "text/plain": [
              "Text(0.5, 1.0, 'Accuracy over iterations')"
            ]
          },
          "metadata": {},
          "execution_count": 187
        },
        {
          "output_type": "display_data",
          "data": {
            "image/png": "[encoded data removed]",
            "text/plain": [
              "<Figure size 864x432 with 2 Axes>"
            ]
          },
          "metadata": {
            "needs_background": "light"
          }
        }
      ]
    },
    {
      "cell_type": "markdown",
      "metadata": {
        "id": "BuqVvDo9KyNC"
      },
      "source": [
        "# Evaluation metrics"
      ]
    },
    {
      "cell_type": "code",
      "metadata": {
        "colab": {
          "base_uri": "https://localhost:8080/",
          "height": 166
        },
        "id": "tvob8aNkuDF5",
        "outputId": "08c4912a-2d59-41be-bb05-ca4fea873170"
      },
      "source": [
        "models.get('base')"
      ],
      "execution_count": null,
      "outputs": [
        {
          "output_type": "execute_result",
          "data": {
            "text/html": [
              "<style>#sk-4182ab45-3985-4056-89d8-297f94962b6d {color: black;background-color: white;}#sk-4182ab45-3985-4056-89d8-297f94962b6d pre{padding: 0;}#sk-4182ab45-3985-4056-89d8-297f94962b6d div.sk-toggleable {background-color: white;}#sk-4182ab45-3985-4056-89d8-297f94962b6d label.sk-toggleable__label {cursor: pointer;display: block;width: 100%;margin-bottom: 0;padding: 0.2em 0.3em;box-sizing: border-box;text-align: center;}#sk-4182ab45-3985-4056-89d8-297f94962b6d div.sk-toggleable__content {max-height: 0;max-width: 0;overflow: hidden;text-align: left;background-color: #f0f8ff;}#sk-4182ab45-3985-4056-89d8-297f94962b6d div.sk-toggleable__content pre {margin: 0.2em;color: black;border-radius: 0.25em;background-color: #f0f8ff;}#sk-4182ab45-3985-4056-89d8-297f94962b6d input.sk-toggleable__control:checked~div.sk-toggleable__content {max-height: 200px;max-width: 100%;overflow: auto;}#sk-4182ab45-3985-4056-89d8-297f94962b6d div.sk-estimator input.sk-toggleable__control:checked~label.sk-toggleable__label {background-color: #d4ebff;}#sk-4182ab45-3985-4056-89d8-297f94962b6d div.sk-label input.sk-toggleable__control:checked~label.sk-toggleable__label {background-color: #d4ebff;}#sk-4182ab45-3985-4056-89d8-297f94962b6d input.sk-hidden--visually {border: 0;clip: rect(1px 1px 1px 1px);clip: rect(1px, 1px, 1px, 1px);height: 1px;margin: -1px;overflow: hidden;padding: 0;position: absolute;width: 1px;}#sk-4182ab45-3985-4056-89d8-297f94962b6d div.sk-estimator {font-family: monospace;background-color: #f0f8ff;margin: 0.25em 0.25em;border: 1px dotted black;border-radius: 0.25em;box-sizing: border-box;}#sk-4182ab45-3985-4056-89d8-297f94962b6d div.sk-estimator:hover {background-color: #d4ebff;}#sk-4182ab45-3985-4056-89d8-297f94962b6d div.sk-parallel-item::after {content: \"\";width: 100%;border-bottom: 1px solid gray;flex-grow: 1;}#sk-4182ab45-3985-4056-89d8-297f94962b6d div.sk-label:hover label.sk-toggleable__label {background-color: #d4ebff;}#sk-4182ab45-3985-4056-89d8-297f94962b6d div.sk-serial::before {content: \"\";position: absolute;border-left: 1px solid gray;box-sizing: border-box;top: 2em;bottom: 0;left: 50%;}#sk-4182ab45-3985-4056-89d8-297f94962b6d div.sk-serial {display: flex;flex-direction: column;align-items: center;background-color: white;}#sk-4182ab45-3985-4056-89d8-297f94962b6d div.sk-item {z-index: 1;}#sk-4182ab45-3985-4056-89d8-297f94962b6d div.sk-parallel {display: flex;align-items: stretch;justify-content: center;background-color: white;}#sk-4182ab45-3985-4056-89d8-297f94962b6d div.sk-parallel-item {display: flex;flex-direction: column;position: relative;background-color: white;}#sk-4182ab45-3985-4056-89d8-297f94962b6d div.sk-parallel-item:first-child::after {align-self: flex-end;width: 50%;}#sk-4182ab45-3985-4056-89d8-297f94962b6d div.sk-parallel-item:last-child::after {align-self: flex-start;width: 50%;}#sk-4182ab45-3985-4056-89d8-297f94962b6d div.sk-parallel-item:only-child::after {width: 0;}#sk-4182ab45-3985-4056-89d8-297f94962b6d div.sk-dashed-wrapped {border: 1px dashed gray;margin: 0.2em;box-sizing: border-box;padding-bottom: 0.1em;background-color: white;position: relative;}#sk-4182ab45-3985-4056-89d8-297f94962b6d div.sk-label label {font-family: monospace;font-weight: bold;background-color: white;display: inline-block;line-height: 1.2em;}#sk-4182ab45-3985-4056-89d8-297f94962b6d div.sk-label-container {position: relative;z-index: 2;text-align: center;}#sk-4182ab45-3985-4056-89d8-297f94962b6d div.sk-container {display: inline-block;position: relative;}</style><div id=\"sk-4182ab45-3985-4056-89d8-297f94962b6d\" class\"sk-top-container\"><div class=\"sk-container\"><div class=\"sk-item sk-dashed-wrapped\"><div class=\"sk-label-container\"><div class=\"sk-label sk-toggleable\"><input class=\"sk-toggleable__control sk-hidden--visually\" id=\"8d8cdf5b-21e8-4a09-a5eb-689e9c2d20f4\" type=\"checkbox\" ><label class=\"sk-toggleable__label\" for=\"8d8cdf5b-21e8-4a09-a5eb-689e9c2d20f4\">Pipeline</label><div class=\"sk-toggleable__content\"><pre>Pipeline(steps=[('preparation',\n",
              "                 ColumnTransformer(transformers=[('num_pipe',\n",
              "                                                  Pipeline(steps=[('num',\n",
              "                                                                   StandardScaler())]),\n",
              "                                                  Index(['trip_distance', 'pickup_longitude', 'pickup_latitude',\n",
              "       'dropoff_longitude', 'dropoff_latitude', 'fare_amount', 'total_amount',\n",
              "       'tip_amount', 'ave_speed', 'time_of_day'],\n",
              "      dtype='object')),\n",
              "                                                 ('cat_pipe',\n",
              "                                                  Pipeline(steps=[('cat',\n",
              "                                                                   OrdinalEncoder())]),\n",
              "                                                  Index(['day_of_week'], dtype='object'))])),\n",
              "                ('model',\n",
              "                 RandomForestClassifier(n_jobs=1, random_state=42, verbose=1))])</pre></div></div></div><div class=\"sk-serial\"><div class=\"sk-item sk-dashed-wrapped\"><div class=\"sk-label-container\"><div class=\"sk-label sk-toggleable\"><input class=\"sk-toggleable__control sk-hidden--visually\" id=\"cd27c4ba-17de-409e-9987-a8a5bd6a1d53\" type=\"checkbox\" ><label class=\"sk-toggleable__label\" for=\"cd27c4ba-17de-409e-9987-a8a5bd6a1d53\">preparation: ColumnTransformer</label><div class=\"sk-toggleable__content\"><pre>ColumnTransformer(transformers=[('num_pipe',\n",
              "                                 Pipeline(steps=[('num', StandardScaler())]),\n",
              "                                 Index(['trip_distance', 'pickup_longitude', 'pickup_latitude',\n",
              "       'dropoff_longitude', 'dropoff_latitude', 'fare_amount', 'total_amount',\n",
              "       'tip_amount', 'ave_speed', 'time_of_day'],\n",
              "      dtype='object')),\n",
              "                                ('cat_pipe',\n",
              "                                 Pipeline(steps=[('cat', OrdinalEncoder())]),\n",
              "                                 Index(['day_of_week'], dtype='object'))])</pre></div></div></div><div class=\"sk-parallel\"><div class=\"sk-parallel-item\"><div class=\"sk-item\"><div class=\"sk-label-container\"><div class=\"sk-label sk-toggleable\"><input class=\"sk-toggleable__control sk-hidden--visually\" id=\"9b13c277-0d94-40af-a031-745e197fc6cb\" type=\"checkbox\" ><label class=\"sk-toggleable__label\" for=\"9b13c277-0d94-40af-a031-745e197fc6cb\">num_pipe</label><div class=\"sk-toggleable__content\"><pre>Index(['trip_distance', 'pickup_longitude', 'pickup_latitude',\n",
              "       'dropoff_longitude', 'dropoff_latitude', 'fare_amount', 'total_amount',\n",
              "       'tip_amount', 'ave_speed', 'time_of_day'],\n",
              "      dtype='object')</pre></div></div></div><div class=\"sk-serial\"><div class=\"sk-item\"><div class=\"sk-serial\"><div class=\"sk-item\"><div class=\"sk-estimator sk-toggleable\"><input class=\"sk-toggleable__control sk-hidden--visually\" id=\"78abd9a8-864d-46a9-925c-d82df1eb3216\" type=\"checkbox\" ><label class=\"sk-toggleable__label\" for=\"78abd9a8-864d-46a9-925c-d82df1eb3216\">StandardScaler</label><div class=\"sk-toggleable__content\"><pre>StandardScaler()</pre></div></div></div></div></div></div></div></div><div class=\"sk-parallel-item\"><div class=\"sk-item\"><div class=\"sk-label-container\"><div class=\"sk-label sk-toggleable\"><input class=\"sk-toggleable__control sk-hidden--visually\" id=\"ff3c3e3b-ec76-4e49-b4a9-a5cccf5f238f\" type=\"checkbox\" ><label class=\"sk-toggleable__label\" for=\"ff3c3e3b-ec76-4e49-b4a9-a5cccf5f238f\">cat_pipe</label><div class=\"sk-toggleable__content\"><pre>Index(['day_of_week'], dtype='object')</pre></div></div></div><div class=\"sk-serial\"><div class=\"sk-item\"><div class=\"sk-serial\"><div class=\"sk-item\"><div class=\"sk-estimator sk-toggleable\"><input class=\"sk-toggleable__control sk-hidden--visually\" id=\"0e0b492c-77cb-42f3-b273-9e6856c9e89a\" type=\"checkbox\" ><label class=\"sk-toggleable__label\" for=\"0e0b492c-77cb-42f3-b273-9e6856c9e89a\">OrdinalEncoder</label><div class=\"sk-toggleable__content\"><pre>OrdinalEncoder()</pre></div></div></div></div></div></div></div></div></div></div><div class=\"sk-item\"><div class=\"sk-estimator sk-toggleable\"><input class=\"sk-toggleable__control sk-hidden--visually\" id=\"475c2235-d821-4a7d-85a3-511b0124958c\" type=\"checkbox\" ><label class=\"sk-toggleable__label\" for=\"475c2235-d821-4a7d-85a3-511b0124958c\">RandomForestClassifier</label><div class=\"sk-toggleable__content\"><pre>RandomForestClassifier(n_jobs=1, random_state=42, verbose=1)</pre></div></div></div></div></div></div></div>"
            ],
            "text/plain": [
              "Pipeline(steps=[('preparation',\n",
              "                 ColumnTransformer(transformers=[('num_pipe',\n",
              "                                                  Pipeline(steps=[('num',\n",
              "                                                                   StandardScaler())]),\n",
              "                                                  Index(['trip_distance', 'pickup_longitude', 'pickup_latitude',\n",
              "       'dropoff_longitude', 'dropoff_latitude', 'fare_amount', 'total_amount',\n",
              "       'tip_amount', 'ave_speed', 'time_of_day'],\n",
              "      dtype='object')),\n",
              "                                                 ('cat_pipe',\n",
              "                                                  Pipeline(steps=[('cat',\n",
              "                                                                   OrdinalEncoder())]),\n",
              "                                                  Index(['day_of_week'], dtype='object'))])),\n",
              "                ('model',\n",
              "                 RandomForestClassifier(n_jobs=1, random_state=42, verbose=1))])"
            ]
          },
          "metadata": {},
          "execution_count": 127
        }
      ]
    },
    {
      "cell_type": "code",
      "metadata": {
        "colab": {
          "base_uri": "https://localhost:8080/"
        },
        "id": "a7VGF6NrvW3R",
        "outputId": "b834da76-8dbc-4e1f-ff64-f0ae89d9c640"
      },
      "source": [
        "list(models.keys())"
      ],
      "execution_count": null,
      "outputs": [
        {
          "output_type": "execute_result",
          "data": {
            "text/plain": [
              "['base', 'model1', 'model2', 'model3']"
            ]
          },
          "metadata": {},
          "execution_count": 128
        }
      ]
    },
    {
      "cell_type": "code",
      "metadata": {
        "id": "B_cPZAV-rcBW"
      },
      "source": [
        "coeff_labels = list(models.keys())\n",
        "coeff_models = list(models.values())"
      ],
      "execution_count": null,
      "outputs": []
    },
    {
      "cell_type": "code",
      "metadata": {
        "id": "3JiYET8cKyND"
      },
      "source": [
        "from sklearn.metrics import precision_recall_fscore_support as score\n",
        "from sklearn.metrics import confusion_matrix, accuracy_score, roc_auc_score, classification_report, f1_score, precision_score, recall_score\n",
        "from sklearn.preprocessing import label_binarize"
      ],
      "execution_count": null,
      "outputs": []
    },
    {
      "cell_type": "code",
      "metadata": {
        "id": "A4pU73xEOSYd"
      },
      "source": [
        "def measure_error(y_true, y_pred, label):\n",
        "    return pd.Series({'accuracy':accuracy_score(y_true, y_pred),\n",
        "                      'precision': precision_score(y_true, y_pred, zero_division=0, average='binary'),\n",
        "                      'recall': recall_score(y_true, y_pred, zero_division=0, average='binary'),\n",
        "                      'f1': f1_score(y_true, y_pred, zero_division=0, average='binary'),\n",
        "                      'auc': roc_auc_score(y_true, y_pred)\n",
        "                      },\n",
        "                     name=label)"
      ],
      "execution_count": null,
      "outputs": []
    },
    {
      "cell_type": "code",
      "metadata": {
        "id": "Dki1N7gWKyNH",
        "colab": {
          "base_uri": "https://localhost:8080/",
          "height": 357
        },
        "outputId": "92fa01b9-3dd1-4dc8-9f13-b84902ee976f"
      },
      "source": [
        "evaluations = []\n",
        "predictions = dict()\n",
        "\n",
        "for lab, model in zip(coeff_labels, coeff_models):\n",
        "    if lab=='base':\n",
        "        print(lab)\n",
        "        y_pred_train = model.predict(X_train)\n",
        "        y_pred_val = model.predict(X_val)\n",
        "        y_pred_test = model.predict(X_test)\n",
        "    else:\n",
        "        y_pred_train = (model.predict(X_train_norm) > 0.5).astype(\"int32\")\n",
        "        y_pred_val = (model.predict(X_val_norm) > 0.5).astype(\"int32\")\n",
        "        y_pred_test = (model.predict(X_test_norm) > 0.5).astype(\"int32\")\n",
        "\n",
        "    evaluations.append(measure_error(y_train, y_pred_train, f\"{lab}_train\"))\n",
        "    evaluations.append(measure_error(y_val, y_pred_val, f\"{lab}_val\"))\n",
        "    evaluations.append(measure_error(y_test, y_pred_test, f\"{lab}_test\"))\n",
        "    predictions[lab] = [y_pred_train, y_pred_val, y_pred_test]\n",
        "\n",
        "metrics = pd.concat(evaluations, axis=1)\n",
        "metrics"
      ],
      "execution_count": null,
      "outputs": [
        {
          "output_type": "stream",
          "text": [
            "base\n"
          ],
          "name": "stdout"
        },
        {
          "output_type": "stream",
          "text": [
            "[Parallel(n_jobs=1)]: Using backend SequentialBackend with 1 concurrent workers.\n",
            "[Parallel(n_jobs=1)]: Done 100 out of 100 | elapsed:    3.8s finished\n",
            "[Parallel(n_jobs=1)]: Using backend SequentialBackend with 1 concurrent workers.\n",
            "[Parallel(n_jobs=1)]: Done 100 out of 100 | elapsed:    1.0s finished\n",
            "[Parallel(n_jobs=1)]: Using backend SequentialBackend with 1 concurrent workers.\n",
            "[Parallel(n_jobs=1)]: Done 100 out of 100 | elapsed:    1.2s finished\n"
          ],
          "name": "stderr"
        },
        {
          "output_type": "execute_result",
          "data": {
            "text/html": [
              "<div>\n",
              "<style scoped>\n",
              "    .dataframe tbody tr th:only-of-type {\n",
              "        vertical-align: middle;\n",
              "    }\n",
              "\n",
              "    .dataframe tbody tr th {\n",
              "        vertical-align: top;\n",
              "    }\n",
              "\n",
              "    .dataframe thead th {\n",
              "        text-align: right;\n",
              "    }\n",
              "</style>\n",
              "<table border=\"1\" class=\"dataframe\">\n",
              "  <thead>\n",
              "    <tr style=\"text-align: right;\">\n",
              "      <th></th>\n",
              "      <th>base_train</th>\n",
              "      <th>base_val</th>\n",
              "      <th>base_test</th>\n",
              "      <th>model1_train</th>\n",
              "      <th>model1_val</th>\n",
              "      <th>model1_test</th>\n",
              "      <th>model2_train</th>\n",
              "      <th>model2_val</th>\n",
              "      <th>model2_test</th>\n",
              "      <th>model3_train</th>\n",
              "      <th>model3_val</th>\n",
              "      <th>model3_test</th>\n",
              "    </tr>\n",
              "  </thead>\n",
              "  <tbody>\n",
              "    <tr>\n",
              "      <th>accuracy</th>\n",
              "      <td>0.999732</td>\n",
              "      <td>0.999706</td>\n",
              "      <td>0.992976</td>\n",
              "      <td>0.999161</td>\n",
              "      <td>0.999083</td>\n",
              "      <td>0.999669</td>\n",
              "      <td>0.999347</td>\n",
              "      <td>0.999187</td>\n",
              "      <td>0.999693</td>\n",
              "      <td>0.999343</td>\n",
              "      <td>0.999239</td>\n",
              "      <td>0.999847</td>\n",
              "    </tr>\n",
              "    <tr>\n",
              "      <th>precision</th>\n",
              "      <td>0.999854</td>\n",
              "      <td>0.999854</td>\n",
              "      <td>0.877306</td>\n",
              "      <td>0.999717</td>\n",
              "      <td>0.999671</td>\n",
              "      <td>0.994361</td>\n",
              "      <td>0.999808</td>\n",
              "      <td>0.999635</td>\n",
              "      <td>0.994596</td>\n",
              "      <td>0.999927</td>\n",
              "      <td>0.999781</td>\n",
              "      <td>0.997643</td>\n",
              "    </tr>\n",
              "    <tr>\n",
              "      <th>recall</th>\n",
              "      <td>0.999580</td>\n",
              "      <td>0.999525</td>\n",
              "      <td>0.999292</td>\n",
              "      <td>0.998512</td>\n",
              "      <td>0.998394</td>\n",
              "      <td>0.999056</td>\n",
              "      <td>0.998813</td>\n",
              "      <td>0.998649</td>\n",
              "      <td>0.999292</td>\n",
              "      <td>0.998686</td>\n",
              "      <td>0.998613</td>\n",
              "      <td>0.999292</td>\n",
              "    </tr>\n",
              "    <tr>\n",
              "      <th>f1</th>\n",
              "      <td>0.999717</td>\n",
              "      <td>0.999690</td>\n",
              "      <td>0.934334</td>\n",
              "      <td>0.999114</td>\n",
              "      <td>0.999032</td>\n",
              "      <td>0.996703</td>\n",
              "      <td>0.999311</td>\n",
              "      <td>0.999142</td>\n",
              "      <td>0.996938</td>\n",
              "      <td>0.999306</td>\n",
              "      <td>0.999196</td>\n",
              "      <td>0.998467</td>\n",
              "    </tr>\n",
              "    <tr>\n",
              "      <th>auc</th>\n",
              "      <td>0.999724</td>\n",
              "      <td>0.999697</td>\n",
              "      <td>0.995968</td>\n",
              "      <td>0.999129</td>\n",
              "      <td>0.999049</td>\n",
              "      <td>0.999379</td>\n",
              "      <td>0.999320</td>\n",
              "      <td>0.999160</td>\n",
              "      <td>0.999503</td>\n",
              "      <td>0.999310</td>\n",
              "      <td>0.999208</td>\n",
              "      <td>0.999584</td>\n",
              "    </tr>\n",
              "  </tbody>\n",
              "</table>\n",
              "</div>"
            ],
            "text/plain": [
              "           base_train  base_val  ...  model3_val  model3_test\n",
              "accuracy     0.999732  0.999706  ...    0.999239     0.999847\n",
              "precision    0.999854  0.999854  ...    0.999781     0.997643\n",
              "recall       0.999580  0.999525  ...    0.998613     0.999292\n",
              "f1           0.999717  0.999690  ...    0.999196     0.998467\n",
              "auc          0.999724  0.999697  ...    0.999208     0.999584\n",
              "\n",
              "[5 rows x 12 columns]"
            ]
          },
          "metadata": {},
          "execution_count": 175
        }
      ]
    },
    {
      "cell_type": "markdown",
      "metadata": {
        "id": "7CoHMVnEKI54"
      },
      "source": [
        "## Classification Report"
      ]
    },
    {
      "cell_type": "code",
      "metadata": {
        "id": "-ZQS7N88kf3h"
      },
      "source": [
        "from sklearn.metrics import precision_score, recall_score, f1_score, precision_recall_curve, roc_curve\n",
        "from sklearn.model_selection import cross_val_predict, cross_val_score"
      ],
      "execution_count": null,
      "outputs": []
    },
    {
      "cell_type": "markdown",
      "metadata": {
        "id": "eaeblJEBKTiD"
      },
      "source": [
        "### Training Classification Report"
      ]
    },
    {
      "cell_type": "code",
      "metadata": {
        "colab": {
          "base_uri": "https://localhost:8080/"
        },
        "id": "wyXiuGPvTV-n",
        "outputId": "3384afc5-a929-4dec-fc87-9f688c3741d5"
      },
      "source": [
        "for lab in coeff_labels:\n",
        "    print(f'Classification report for {lab} model Training:\\n\\n{classification_report(y_train, predictions.get(lab)[0], zero_division=0, target_names=le.classes_)}')"
      ],
      "execution_count": null,
      "outputs": [
        {
          "output_type": "stream",
          "text": [
            "Classification report for base model Training:\n",
            "\n",
            "              precision    recall  f1-score   support\n",
            "\n",
            "      NoToll       1.00      1.00      1.00    121732\n",
            "        Toll       1.00      1.00      1.00    109560\n",
            "\n",
            "    accuracy                           1.00    231292\n",
            "   macro avg       1.00      1.00      1.00    231292\n",
            "weighted avg       1.00      1.00      1.00    231292\n",
            "\n",
            "Classification report for model1 model Training:\n",
            "\n",
            "              precision    recall  f1-score   support\n",
            "\n",
            "      NoToll       1.00      1.00      1.00    121732\n",
            "        Toll       1.00      1.00      1.00    109560\n",
            "\n",
            "    accuracy                           1.00    231292\n",
            "   macro avg       1.00      1.00      1.00    231292\n",
            "weighted avg       1.00      1.00      1.00    231292\n",
            "\n",
            "Classification report for model2 model Training:\n",
            "\n",
            "              precision    recall  f1-score   support\n",
            "\n",
            "      NoToll       1.00      1.00      1.00    121732\n",
            "        Toll       1.00      1.00      1.00    109560\n",
            "\n",
            "    accuracy                           1.00    231292\n",
            "   macro avg       1.00      1.00      1.00    231292\n",
            "weighted avg       1.00      1.00      1.00    231292\n",
            "\n",
            "Classification report for model3 model Training:\n",
            "\n",
            "              precision    recall  f1-score   support\n",
            "\n",
            "      NoToll       1.00      1.00      1.00    121732\n",
            "        Toll       1.00      1.00      1.00    109560\n",
            "\n",
            "    accuracy                           1.00    231292\n",
            "   macro avg       1.00      1.00      1.00    231292\n",
            "weighted avg       1.00      1.00      1.00    231292\n",
            "\n"
          ],
          "name": "stdout"
        }
      ]
    },
    {
      "cell_type": "markdown",
      "metadata": {
        "id": "V28-oqXqATOg"
      },
      "source": [
        "### Validation Classification Report"
      ]
    },
    {
      "cell_type": "code",
      "metadata": {
        "colab": {
          "base_uri": "https://localhost:8080/"
        },
        "id": "bAurUfx1ATOl",
        "outputId": "1413c6aa-5d38-453b-982e-1cd117f5186e"
      },
      "source": [
        "for lab in coeff_labels:\n",
        "    print(f'Classification report for {lab} model Training:\\n\\n{classification_report(y_val, predictions.get(lab)[1], zero_division=0, target_names=le.classes_)}')"
      ],
      "execution_count": null,
      "outputs": [
        {
          "output_type": "stream",
          "text": [
            "Classification report for base model Training:\n",
            "\n",
            "              precision    recall  f1-score   support\n",
            "\n",
            "      NoToll       1.00      1.00      1.00     30434\n",
            "        Toll       1.00      1.00      1.00     27390\n",
            "\n",
            "    accuracy                           1.00     57824\n",
            "   macro avg       1.00      1.00      1.00     57824\n",
            "weighted avg       1.00      1.00      1.00     57824\n",
            "\n",
            "Classification report for model1 model Training:\n",
            "\n",
            "              precision    recall  f1-score   support\n",
            "\n",
            "      NoToll       1.00      1.00      1.00     30434\n",
            "        Toll       1.00      1.00      1.00     27390\n",
            "\n",
            "    accuracy                           1.00     57824\n",
            "   macro avg       1.00      1.00      1.00     57824\n",
            "weighted avg       1.00      1.00      1.00     57824\n",
            "\n",
            "Classification report for model2 model Training:\n",
            "\n",
            "              precision    recall  f1-score   support\n",
            "\n",
            "      NoToll       1.00      1.00      1.00     30434\n",
            "        Toll       1.00      1.00      1.00     27390\n",
            "\n",
            "    accuracy                           1.00     57824\n",
            "   macro avg       1.00      1.00      1.00     57824\n",
            "weighted avg       1.00      1.00      1.00     57824\n",
            "\n",
            "Classification report for model3 model Training:\n",
            "\n",
            "              precision    recall  f1-score   support\n",
            "\n",
            "      NoToll       1.00      1.00      1.00     30434\n",
            "        Toll       1.00      1.00      1.00     27390\n",
            "\n",
            "    accuracy                           1.00     57824\n",
            "   macro avg       1.00      1.00      1.00     57824\n",
            "weighted avg       1.00      1.00      1.00     57824\n",
            "\n"
          ],
          "name": "stdout"
        }
      ]
    },
    {
      "cell_type": "markdown",
      "metadata": {
        "id": "vxI37wleKZtm"
      },
      "source": [
        "### Test Classification Report"
      ]
    },
    {
      "cell_type": "code",
      "metadata": {
        "colab": {
          "base_uri": "https://localhost:8080/"
        },
        "id": "3d7r-SnvQw-Y",
        "outputId": "aeb80f89-cc09-4076-a2bc-fb3a090212c7"
      },
      "source": [
        "for lab in coeff_labels:\n",
        "    print(f'Classification report for {lab} model Testing:\\n\\n{classification_report(y_test, predictions.get(lab)[2], zero_division=0, target_names=le.classes_)}')"
      ],
      "execution_count": null,
      "outputs": [
        {
          "output_type": "stream",
          "text": [
            "Classification report for base model Testing:\n",
            "\n",
            "              precision    recall  f1-score   support\n",
            "\n",
            "      NoToll       1.00      0.99      1.00     80476\n",
            "        Toll       0.88      1.00      0.93      4236\n",
            "\n",
            "    accuracy                           0.99     84712\n",
            "   macro avg       0.94      1.00      0.97     84712\n",
            "weighted avg       0.99      0.99      0.99     84712\n",
            "\n",
            "Classification report for model1 model Testing:\n",
            "\n",
            "              precision    recall  f1-score   support\n",
            "\n",
            "      NoToll       1.00      1.00      1.00     80476\n",
            "        Toll       0.99      1.00      1.00      4236\n",
            "\n",
            "    accuracy                           1.00     84712\n",
            "   macro avg       1.00      1.00      1.00     84712\n",
            "weighted avg       1.00      1.00      1.00     84712\n",
            "\n",
            "Classification report for model2 model Testing:\n",
            "\n",
            "              precision    recall  f1-score   support\n",
            "\n",
            "      NoToll       1.00      1.00      1.00     80476\n",
            "        Toll       0.99      1.00      1.00      4236\n",
            "\n",
            "    accuracy                           1.00     84712\n",
            "   macro avg       1.00      1.00      1.00     84712\n",
            "weighted avg       1.00      1.00      1.00     84712\n",
            "\n",
            "Classification report for model3 model Testing:\n",
            "\n",
            "              precision    recall  f1-score   support\n",
            "\n",
            "      NoToll       1.00      1.00      1.00     80476\n",
            "        Toll       1.00      1.00      1.00      4236\n",
            "\n",
            "    accuracy                           1.00     84712\n",
            "   macro avg       1.00      1.00      1.00     84712\n",
            "weighted avg       1.00      1.00      1.00     84712\n",
            "\n"
          ],
          "name": "stdout"
        }
      ]
    },
    {
      "cell_type": "markdown",
      "metadata": {
        "id": "E_5fWeBIKuZ6"
      },
      "source": [
        "## Training Confusion Matrix"
      ]
    },
    {
      "cell_type": "code",
      "metadata": {
        "colab": {
          "base_uri": "https://localhost:8080/",
          "height": 585
        },
        "id": "_7mqNDcdSQ1b",
        "outputId": "b8462163-0790-4c91-826f-ef5fa327483f"
      },
      "source": [
        "fig, axList = plt.subplots(nrows=2, ncols=2)\n",
        "axList = axList.flatten()\n",
        "fig.set_size_inches(10, 8)\n",
        "\n",
        "axList[-1].axis('off')\n",
        "\n",
        "for ax,lab in zip(axList, coeff_labels):\n",
        "    sns.heatmap(confusion_matrix(y_train, predictions.get(lab)[0]),\n",
        "                ax=ax, annot=True, fmt='d', cmap=colors,\n",
        "                xticklabels=le.classes_, yticklabels=le.classes_)\n",
        "    ax.set(title=lab)\n",
        "    \n",
        "plt.tight_layout()"
      ],
      "execution_count": null,
      "outputs": [
        {
          "output_type": "display_data",
          "data": {
            "image/png": "[encoded data removed]",
            "text/plain": [
              "<Figure size 720x576 with 8 Axes>"
            ]
          },
          "metadata": {
            "needs_background": "light"
          }
        }
      ]
    },
    {
      "cell_type": "code",
      "metadata": {
        "colab": {
          "base_uri": "https://localhost:8080/",
          "height": 585
        },
        "id": "jAVR31alHBo5",
        "outputId": "cda62f0b-25ed-476c-f728-830698a2815d"
      },
      "source": [
        "fig, axList = plt.subplots(nrows=2, ncols=2)\n",
        "axList = axList.flatten()\n",
        "fig.set_size_inches(10, 8)\n",
        "\n",
        "axList[-1].axis('off')\n",
        "\n",
        "for ax,lab in zip(axList, coeff_labels):\n",
        "    cm = confusion_matrix(y_train, predictions.get(lab)[0])\n",
        "    cmn = cm.astype('float') / cm.sum(axis=1)[:, np.newaxis]\n",
        "    sns.heatmap(cmn,\n",
        "                ax=ax, annot=True, fmt='.2%', cmap=colors,\n",
        "                xticklabels=le.classes_, yticklabels=le.classes_)\n",
        "    ax.set(title=lab)\n",
        "    \n",
        "plt.tight_layout()"
      ],
      "execution_count": null,
      "outputs": [
        {
          "output_type": "display_data",
          "data": {
            "image/png": "[encoded data removed]",
            "text/plain": [
              "<Figure size 720x576 with 8 Axes>"
            ]
          },
          "metadata": {
            "needs_background": "light"
          }
        }
      ]
    },
    {
      "cell_type": "markdown",
      "metadata": {
        "id": "L8nD2NkjK1v5"
      },
      "source": [
        "## Validation Confusion Matrix"
      ]
    },
    {
      "cell_type": "code",
      "metadata": {
        "colab": {
          "base_uri": "https://localhost:8080/",
          "height": 585
        },
        "id": "9IVgYydj_qNJ",
        "outputId": "f4a05765-57fa-4a84-f6aa-97a3b4edc2ec"
      },
      "source": [
        "fig, axList = plt.subplots(nrows=2, ncols=2)\n",
        "axList = axList.flatten()\n",
        "fig.set_size_inches(10, 8)\n",
        "\n",
        "axList[-1].axis('off')\n",
        "\n",
        "for ax,lab in zip(axList, coeff_labels):\n",
        "    sns.heatmap(confusion_matrix(y_val, predictions.get(lab)[1]),\n",
        "                ax=ax, annot=True, fmt='d', cmap=colors,\n",
        "                xticklabels=le.classes_, yticklabels=le.classes_)\n",
        "    ax.set(title=lab)\n",
        "    \n",
        "plt.tight_layout()"
      ],
      "execution_count": null,
      "outputs": [
        {
          "output_type": "display_data",
          "data": {
            "image/png": "[encoded data removed]",
            "text/plain": [
              "<Figure size 720x576 with 8 Axes>"
            ]
          },
          "metadata": {
            "needs_background": "light"
          }
        }
      ]
    },
    {
      "cell_type": "code",
      "metadata": {
        "colab": {
          "base_uri": "https://localhost:8080/",
          "height": 585
        },
        "id": "e9UrQXEkoFiv",
        "outputId": "7559aea7-f705-4c28-aa70-f0631af6f4ea"
      },
      "source": [
        "fig, axList = plt.subplots(nrows=2, ncols=2)\n",
        "axList = axList.flatten()\n",
        "fig.set_size_inches(10, 8)\n",
        "\n",
        "axList[-1].axis('off')\n",
        "\n",
        "for ax,lab in zip(axList, coeff_labels):\n",
        "    cm = confusion_matrix(y_val, predictions.get(lab)[1])\n",
        "    cmn = cm.astype('float') / cm.sum(axis=1)[:, np.newaxis]\n",
        "    sns.heatmap(cmn,\n",
        "                ax=ax, annot=True, fmt='.2%', cmap=colors,\n",
        "                xticklabels=le.classes_, yticklabels=le.classes_)\n",
        "    ax.set(title=lab)\n",
        "    \n",
        "plt.tight_layout()"
      ],
      "execution_count": null,
      "outputs": [
        {
          "output_type": "display_data",
          "data": {
            "image/png": "[encoded data removed]",
            "text/plain": [
              "<Figure size 720x576 with 8 Axes>"
            ]
          },
          "metadata": {
            "needs_background": "light"
          }
        }
      ]
    },
    {
      "cell_type": "markdown",
      "metadata": {
        "id": "Zxl7FT5YB6Xy"
      },
      "source": [
        "## Test Confusion Matrix"
      ]
    },
    {
      "cell_type": "code",
      "metadata": {
        "colab": {
          "base_uri": "https://localhost:8080/",
          "height": 585
        },
        "id": "f8vZj8SRB6X1",
        "outputId": "ee8e9a93-087b-4c00-ff56-6ee7134c189d"
      },
      "source": [
        "fig, axList = plt.subplots(nrows=2, ncols=2)\n",
        "axList = axList.flatten()\n",
        "fig.set_size_inches(10, 8)\n",
        "\n",
        "# axList[-1].axis('off')\n",
        "\n",
        "for ax,lab in zip(axList, coeff_labels):\n",
        "    sns.heatmap(confusion_matrix(y_test, predictions.get(lab)[2]),\n",
        "                ax=ax, annot=True, fmt='d', cmap=colors,\n",
        "                xticklabels=le.classes_, yticklabels=le.classes_)\n",
        "    ax.set(title=lab)\n",
        "    \n",
        "plt.tight_layout()"
      ],
      "execution_count": null,
      "outputs": [
        {
          "output_type": "display_data",
          "data": {
            "image/png": "[encoded data removed]",
            "text/plain": [
              "<Figure size 720x576 with 8 Axes>"
            ]
          },
          "metadata": {
            "needs_background": "light"
          }
        }
      ]
    },
    {
      "cell_type": "code",
      "metadata": {
        "colab": {
          "base_uri": "https://localhost:8080/",
          "height": 585
        },
        "id": "9uEfB460B6X5",
        "outputId": "8c9aecc8-971d-4c0a-95e0-833040724530"
      },
      "source": [
        "fig, axList = plt.subplots(nrows=2, ncols=2)\n",
        "axList = axList.flatten()\n",
        "fig.set_size_inches(10, 8)\n",
        "\n",
        "# axList[-1].axis('off')\n",
        "\n",
        "for ax,lab in zip(axList, coeff_labels):\n",
        "    cm = confusion_matrix(y_test, predictions.get(lab)[2])\n",
        "    cmn = cm.astype('float') / cm.sum(axis=1)[:, np.newaxis]\n",
        "    sns.heatmap(cmn,\n",
        "                ax=ax, annot=True, fmt='.2%', cmap=colors,\n",
        "                xticklabels=le.classes_, yticklabels=le.classes_)\n",
        "    ax.set(title=lab)\n",
        "    \n",
        "plt.tight_layout()"
      ],
      "execution_count": null,
      "outputs": [
        {
          "output_type": "display_data",
          "data": {
            "image/png": "[encoded data removed]",
            "text/plain": [
              "<Figure size 720x576 with 8 Axes>"
            ]
          },
          "metadata": {
            "needs_background": "light"
          }
        }
      ]
    }
  ]
}