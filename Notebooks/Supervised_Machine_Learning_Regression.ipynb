{
  "nbformat": 4,
  "nbformat_minor": 0,
  "metadata": {
    "colab": {
      "name": "Supervised Machine Learning: Regression.ipynb",
      "provenance": [],
      "collapsed_sections": [
        "bVIk33dUF9Te",
        "S72rYuEBoKzx",
        "ZFDF1ngCGWVI",
        "aTe7YZuUGzcC",
        "QPVlj2PPHDs9",
        "dq712Zl576tw",
        "39G6aIuG983Z",
        "i7VKgvfE73Iy",
        "9OxgSlQ-I3LT",
        "CkhP7lCSQjhT",
        "xGxdRFkY8XyG",
        "DazANwxTPsLw",
        "oKwZwNrx8hIw",
        "tZT2-SOqL6pX",
        "hc42WnwaOuAY"
      ],
      "authorship_tag": "ABX9TyOEOqHAXgb0h/ag25FEH7i5",
      "include_colab_link": true
    },
    "kernelspec": {
      "name": "python3",
      "display_name": "Python 3"
    },
    "language_info": {
      "name": "python"
    }
  },
  "cells": [
    {
      "cell_type": "markdown",
      "metadata": {
        "id": "view-in-github",
        "colab_type": "text"
      },
      "source": [
        "<a href=\"https://colab.research.google.com/github/kenextra/IBM-MLCert/blob/main/Supervised_Machine_Learning_Regression.ipynb\" target=\"_parent\"><img src=\"https://colab.research.google.com/assets/colab-badge.svg\" alt=\"Open In Colab\"/></a>"
      ]
    },
    {
      "cell_type": "markdown",
      "metadata": {
        "id": "bVIk33dUF9Te"
      },
      "source": [
        "# Supervised Machine Learning: Regression"
      ]
    },
    {
      "cell_type": "markdown",
      "metadata": {
        "id": "d0FOfbqdmp3A"
      },
      "source": [
        "## Sections required in your report:\n",
        "\n",
        "1. Main objective of the analysis that specifies whether your model will be focused on prediction or interpretation.\n",
        "\n",
        "2. Brief description of the data set you chose and a summary of its attributes.\n",
        "\n",
        "3. Brief summary of data exploration and actions taken for data cleaning and feature engineering.\n",
        "\n",
        "4. Summary of training at least three linear regression models which should be variations that cover using a simple linear regression as a baseline, adding polynomial effects, and using a regularization regression. Preferably, all use the same training and test splits, or the same cross-validation method.\n",
        "\n",
        "5. A paragraph explaining which of your regressions you recommend as a final model that best fits your needs in terms of accuracy and explainability.\n",
        "\n",
        "6. Summary Key Findings and Insights, which walks your reader through the main drivers of your model and insights from your data derived from your linear regression model.\n",
        "\n",
        "7. Suggestions for next steps in analyzing this data, which may include suggesting revisiting this model adding specific data features to achieve a better explanation or a better prediction."
      ]
    },
    {
      "cell_type": "markdown",
      "metadata": {
        "id": "6wGY1QFunTjY"
      },
      "source": [
        "## The grading will center around 5 main points:\n",
        "\n",
        "1.    Does the report include a section describing the data?\n",
        "\n",
        "2.    Does the report include a paragraph detailing the main objective(s) of this analysis? \n",
        "\n",
        "3.    Does the report include a section with variations of linear regression models and specifies which one is the model that best suits the main objective(s) of this analysis.\n",
        "\n",
        "4.    Does the report include a clear and well presented section with key findings related to the main objective(s) of the analysis?\n",
        "\n",
        "5.    Does the report highlight possible flaws in the model and a plan of action to revisit this analysis with additional data or different predictive modeling techniques? "
      ]
    },
    {
      "cell_type": "markdown",
      "metadata": {
        "id": "S72rYuEBoKzx"
      },
      "source": [
        "# General Section"
      ]
    },
    {
      "cell_type": "code",
      "metadata": {
        "id": "T6ttYEXLodfs",
        "colab": {
          "base_uri": "https://localhost:8080/"
        },
        "outputId": "786e934f-bfa0-4968-9ebd-19c151e76e3b"
      },
      "source": [
        "# install and reset runtime\n",
        "!pip install --upgrade pandas --quiet\n",
        "!pip install --upgrade scikit-learn --quiet\n",
        "!pip install pyproj --quiet"
      ],
      "execution_count": 1,
      "outputs": [
        {
          "output_type": "stream",
          "text": [
            "\u001b[K     |████████████████████████████████| 11.3 MB 28 kB/s \n",
            "\u001b[31mERROR: pip's dependency resolver does not currently take into account all the packages that are installed. This behaviour is the source of the following dependency conflicts.\n",
            "google-colab 1.0.0 requires pandas~=1.1.0; python_version >= \"3.0\", but you have pandas 1.3.2 which is incompatible.\u001b[0m\n",
            "\u001b[K     |████████████████████████████████| 22.3 MB 1.3 MB/s \n",
            "\u001b[K     |████████████████████████████████| 6.6 MB 14.6 MB/s \n",
            "\u001b[?25h"
          ],
          "name": "stdout"
        }
      ]
    },
    {
      "cell_type": "markdown",
      "metadata": {
        "id": "ZFDF1ngCGWVI"
      },
      "source": [
        "## Import needed libraries"
      ]
    },
    {
      "cell_type": "code",
      "metadata": {
        "id": "93QQRIHSCSqo"
      },
      "source": [
        "import matplotlib as mpl\n",
        "import matplotlib.pyplot as plt\n",
        "import matplotlib.patches as patches\n",
        "from matplotlib.patches import ConnectionPatch\n",
        "# from collections import OrderedDict\n",
        "from matplotlib.gridspec import GridSpec\n",
        "plt.rcParams[\"patch.force_edgecolor\"] = True\n",
        "plt.style.use('fivethirtyeight')\n",
        "mpl.rc('patch', edgecolor = 'dimgray', linewidth=1)\n",
        "from IPython.core.interactiveshell import InteractiveShell\n",
        "InteractiveShell.ast_node_interactivity = \"last_expr\"\n",
        "%matplotlib inline"
      ],
      "execution_count": 1,
      "outputs": []
    },
    {
      "cell_type": "code",
      "metadata": {
        "id": "MOj-XQRWkiOL",
        "colab": {
          "base_uri": "https://localhost:8080/",
          "height": 36
        },
        "outputId": "06a1c63b-39e4-4ff7-9a77-3f46c4566806"
      },
      "source": [
        "import pandas as pd\n",
        "import numpy as np\n",
        "import plotly.express as px\n",
        "pd.__version__"
      ],
      "execution_count": 2,
      "outputs": [
        {
          "output_type": "execute_result",
          "data": {
            "application/vnd.google.colaboratory.intrinsic+json": {
              "type": "string"
            },
            "text/plain": [
              "'1.3.2'"
            ]
          },
          "metadata": {
            "tags": []
          },
          "execution_count": 2
        }
      ]
    },
    {
      "cell_type": "code",
      "metadata": {
        "id": "ZKNxrquNmrRv"
      },
      "source": [
        "import os\n",
        "import urllib.request\n",
        "from zipfile import ZipFile\n",
        "from pathlib import Path\n",
        "from import_dataset import (load_data, basic_preprocessing,\n",
        "                            add_dayof_week, add_timeof_day,\n",
        "                            add_crow_direction, add_avespeed)"
      ],
      "execution_count": 3,
      "outputs": []
    },
    {
      "cell_type": "markdown",
      "metadata": {
        "id": "aTe7YZuUGzcC"
      },
      "source": [
        "## Download Data"
      ]
    },
    {
      "cell_type": "code",
      "metadata": {
        "colab": {
          "base_uri": "https://localhost:8080/"
        },
        "id": "tj7Ef6Kg9Dgr",
        "outputId": "ffcf0575-4f83-4f81-d5f4-210c80d16727"
      },
      "source": [
        "DATA_URL = \"https://www.mathworks.com/supportfiles/practicaldsmatlab/taxi/Taxi%20Data.zip\"\n",
        "DATA_NAME = \"TaxiData.zip\"\n",
        "urllib.request.urlretrieve(DATA_URL, DATA_NAME)"
      ],
      "execution_count": 4,
      "outputs": [
        {
          "output_type": "execute_result",
          "data": {
            "text/plain": [
              "('TaxiData.zip', <http.client.HTTPMessage at 0x7fe1b301c9d0>)"
            ]
          },
          "metadata": {
            "tags": []
          },
          "execution_count": 4
        }
      ]
    },
    {
      "cell_type": "code",
      "metadata": {
        "id": "dITT8ccZGxPn"
      },
      "source": [
        "# Create a ZipFile Object and load data in it\n",
        "with ZipFile(DATA_NAME, 'r') as zipObj:\n",
        "   # Extract all the contents of zip file in current directory\n",
        "   zipObj.extractall()"
      ],
      "execution_count": 5,
      "outputs": []
    },
    {
      "cell_type": "code",
      "metadata": {
        "colab": {
          "base_uri": "https://localhost:8080/"
        },
        "id": "tiCNCifi4I7T",
        "outputId": "12612c1f-bb7b-47f0-af88-d738a1a6fcd7"
      },
      "source": [
        "DATA_DIR = Path.cwd() / 'Taxi Data'\n",
        "DATA_DIR"
      ],
      "execution_count": 6,
      "outputs": [
        {
          "output_type": "execute_result",
          "data": {
            "text/plain": [
              "PosixPath('/content/Taxi Data')"
            ]
          },
          "metadata": {
            "tags": []
          },
          "execution_count": 6
        }
      ]
    },
    {
      "cell_type": "markdown",
      "metadata": {
        "id": "QPVlj2PPHDs9"
      },
      "source": [
        "## Import and Explore Data"
      ]
    },
    {
      "cell_type": "code",
      "metadata": {
        "id": "PrlT0O7hGzdb"
      },
      "source": [
        "col_names = [\"Vendor\", \"PickupTime\", \"DropoffTime\", \"Passengers\", \"Distance\", \"PickupLon\", \"PickupLat\",\n",
        "             \"RateCode\", \"HeldFlag\", \"DropoffLon\", \"DropoffLat\", \"PayType\", \"Fare\", \"ExtraCharge\", \"Tax\",\n",
        "             \"Tip\", \"Tolls\", \"ImpSurcharge\", \"TotalCharge\"];"
      ],
      "execution_count": 7,
      "outputs": []
    },
    {
      "cell_type": "code",
      "metadata": {
        "id": "Ts6F7EoA7T3t"
      },
      "source": [
        "use_cols = ['VendorID',\n",
        " 'tpep_pickup_datetime',\n",
        " 'tpep_dropoff_datetime',\n",
        " 'passenger_count',\n",
        " 'trip_distance',\n",
        " 'pickup_longitude',\n",
        " 'pickup_latitude',\n",
        " 'RateCodeID',\n",
        " 'store_and_fwd_flag',\n",
        " 'dropoff_longitude',\n",
        " 'dropoff_latitude',\n",
        " 'payment_type',\n",
        " 'fare_amount',\n",
        " 'extra',\n",
        " 'mta_tax',\n",
        " 'tip_amount',\n",
        " 'tolls_amount',\n",
        " 'improvement_surcharge',\n",
        " 'total_amount']\n",
        "\n",
        "parse_dates = [\"tpep_pickup_datetime\", \"tpep_dropoff_datetime\"]"
      ],
      "execution_count": 8,
      "outputs": []
    },
    {
      "cell_type": "code",
      "metadata": {
        "id": "hS8OBqp3VSg5"
      },
      "source": [
        "dtype = {'RateCodeID': str, 'payment_type': str, 'VendorID': str, 'RatecodeID': str,}  # , dtype=dtype"
      ],
      "execution_count": 9,
      "outputs": []
    },
    {
      "cell_type": "code",
      "metadata": {
        "colab": {
          "base_uri": "https://localhost:8080/"
        },
        "id": "f3q7hCat4cUJ",
        "outputId": "721aff2e-1fc0-4aa8-b96d-18a226495bbb"
      },
      "source": [
        "df = load_data(path_dir=DATA_DIR, parse_dates=parse_dates, \n",
        "                     usecols=use_cols, dtype=dtype,\n",
        "                      file_substr='yellow', skiprows=1, preprocess=True)"
      ],
      "execution_count": 10,
      "outputs": [
        {
          "output_type": "stream",
          "text": [
            "Loading all yellow*.csv in /content/Taxi Data folder...\n",
            "\n",
            "Converting categorical features to their corresponding values...\n",
            "\n",
            "Removing invalid charges...\n",
            "\n",
            "Removing invalid trip information...\n",
            "\n",
            "Keep trips with pickup and drop off locations inside the region of interest\n",
            "\n",
            "Adding new features: Duration...\n",
            "\n",
            "Only keep trips with typical values..\n",
            "\n"
          ],
          "name": "stdout"
        }
      ]
    },
    {
      "cell_type": "code",
      "metadata": {
        "colab": {
          "base_uri": "https://localhost:8080/"
        },
        "id": "y0Ht_ips1eoo",
        "outputId": "d9d744c6-8bcd-435e-a627-3902e3cad4a2"
      },
      "source": [
        "df.info(show_counts=True)"
      ],
      "execution_count": 11,
      "outputs": [
        {
          "output_type": "stream",
          "text": [
            "<class 'pandas.core.frame.DataFrame'>\n",
            "RangeIndex: 2823895 entries, 0 to 2823894\n",
            "Data columns (total 20 columns):\n",
            " #   Column                 Non-Null Count    Dtype         \n",
            "---  ------                 --------------    -----         \n",
            " 0   VendorID               2823895 non-null  object        \n",
            " 1   tpep_pickup_datetime   2823895 non-null  datetime64[ns]\n",
            " 2   tpep_dropoff_datetime  2823895 non-null  datetime64[ns]\n",
            " 3   passenger_count        2823895 non-null  int64         \n",
            " 4   trip_distance          2823895 non-null  float64       \n",
            " 5   pickup_longitude       2823895 non-null  float64       \n",
            " 6   pickup_latitude        2823895 non-null  float64       \n",
            " 7   RateCodeID             2823895 non-null  object        \n",
            " 8   store_and_fwd_flag     2823895 non-null  object        \n",
            " 9   dropoff_longitude      2823895 non-null  float64       \n",
            " 10  dropoff_latitude       2823895 non-null  float64       \n",
            " 11  payment_type           2823895 non-null  object        \n",
            " 12  fare_amount            2823895 non-null  float64       \n",
            " 13  extra                  2823895 non-null  float64       \n",
            " 14  mta_tax                2823895 non-null  float64       \n",
            " 15  tip_amount             2823895 non-null  float64       \n",
            " 16  tolls_amount           2823895 non-null  float64       \n",
            " 17  improvement_surcharge  2823895 non-null  float64       \n",
            " 18  total_amount           2823895 non-null  float64       \n",
            " 19  duration               2823895 non-null  float64       \n",
            "dtypes: datetime64[ns](2), float64(13), int64(1), object(4)\n",
            "memory usage: 430.9+ MB\n"
          ],
          "name": "stdout"
        }
      ]
    },
    {
      "cell_type": "code",
      "metadata": {
        "colab": {
          "base_uri": "https://localhost:8080/"
        },
        "id": "GaCpjyWh1qLF",
        "outputId": "2e694848-dc22-4506-ef45-7923a033abd1"
      },
      "source": [
        "df.shape"
      ],
      "execution_count": 12,
      "outputs": [
        {
          "output_type": "execute_result",
          "data": {
            "text/plain": [
              "(2823895, 20)"
            ]
          },
          "metadata": {
            "tags": []
          },
          "execution_count": 12
        }
      ]
    },
    {
      "cell_type": "code",
      "metadata": {
        "colab": {
          "base_uri": "https://localhost:8080/",
          "height": 313
        },
        "id": "jsSAD3Cg5JOO",
        "outputId": "b83cd92f-e365-40d1-e222-e2b72143d632"
      },
      "source": [
        "df.head()"
      ],
      "execution_count": 13,
      "outputs": [
        {
          "output_type": "execute_result",
          "data": {
            "text/html": [
              "<div>\n",
              "<style scoped>\n",
              "    .dataframe tbody tr th:only-of-type {\n",
              "        vertical-align: middle;\n",
              "    }\n",
              "\n",
              "    .dataframe tbody tr th {\n",
              "        vertical-align: top;\n",
              "    }\n",
              "\n",
              "    .dataframe thead th {\n",
              "        text-align: right;\n",
              "    }\n",
              "</style>\n",
              "<table border=\"1\" class=\"dataframe\">\n",
              "  <thead>\n",
              "    <tr style=\"text-align: right;\">\n",
              "      <th></th>\n",
              "      <th>VendorID</th>\n",
              "      <th>tpep_pickup_datetime</th>\n",
              "      <th>tpep_dropoff_datetime</th>\n",
              "      <th>passenger_count</th>\n",
              "      <th>trip_distance</th>\n",
              "      <th>pickup_longitude</th>\n",
              "      <th>pickup_latitude</th>\n",
              "      <th>RateCodeID</th>\n",
              "      <th>store_and_fwd_flag</th>\n",
              "      <th>dropoff_longitude</th>\n",
              "      <th>dropoff_latitude</th>\n",
              "      <th>payment_type</th>\n",
              "      <th>fare_amount</th>\n",
              "      <th>extra</th>\n",
              "      <th>mta_tax</th>\n",
              "      <th>tip_amount</th>\n",
              "      <th>tolls_amount</th>\n",
              "      <th>improvement_surcharge</th>\n",
              "      <th>total_amount</th>\n",
              "      <th>duration</th>\n",
              "    </tr>\n",
              "  </thead>\n",
              "  <tbody>\n",
              "    <tr>\n",
              "      <th>0</th>\n",
              "      <td>VeriFone Inc.</td>\n",
              "      <td>2015-10-01 00:00:02</td>\n",
              "      <td>2015-10-01 00:17:37</td>\n",
              "      <td>2</td>\n",
              "      <td>5.68</td>\n",
              "      <td>-73.997597</td>\n",
              "      <td>40.756248</td>\n",
              "      <td>Standard rate</td>\n",
              "      <td>N</td>\n",
              "      <td>-73.941002</td>\n",
              "      <td>40.815140</td>\n",
              "      <td>Cash</td>\n",
              "      <td>18.5</td>\n",
              "      <td>0.5</td>\n",
              "      <td>0.5</td>\n",
              "      <td>0.00</td>\n",
              "      <td>0.0</td>\n",
              "      <td>0.3</td>\n",
              "      <td>19.80</td>\n",
              "      <td>17.583333</td>\n",
              "    </tr>\n",
              "    <tr>\n",
              "      <th>1</th>\n",
              "      <td>VeriFone Inc.</td>\n",
              "      <td>2015-10-01 00:00:23</td>\n",
              "      <td>2015-10-01 00:13:12</td>\n",
              "      <td>5</td>\n",
              "      <td>7.13</td>\n",
              "      <td>-74.016586</td>\n",
              "      <td>40.709816</td>\n",
              "      <td>Standard rate</td>\n",
              "      <td>N</td>\n",
              "      <td>-73.959991</td>\n",
              "      <td>40.766918</td>\n",
              "      <td>Cash</td>\n",
              "      <td>20.5</td>\n",
              "      <td>0.5</td>\n",
              "      <td>0.5</td>\n",
              "      <td>0.00</td>\n",
              "      <td>0.0</td>\n",
              "      <td>0.3</td>\n",
              "      <td>21.80</td>\n",
              "      <td>12.816667</td>\n",
              "    </tr>\n",
              "    <tr>\n",
              "      <th>2</th>\n",
              "      <td>VeriFone Inc.</td>\n",
              "      <td>2015-10-01 00:00:35</td>\n",
              "      <td>2015-10-01 00:12:17</td>\n",
              "      <td>2</td>\n",
              "      <td>1.72</td>\n",
              "      <td>-74.008247</td>\n",
              "      <td>40.714821</td>\n",
              "      <td>Standard rate</td>\n",
              "      <td>N</td>\n",
              "      <td>-73.984581</td>\n",
              "      <td>40.720299</td>\n",
              "      <td>Cash</td>\n",
              "      <td>9.5</td>\n",
              "      <td>0.5</td>\n",
              "      <td>0.5</td>\n",
              "      <td>0.00</td>\n",
              "      <td>0.0</td>\n",
              "      <td>0.3</td>\n",
              "      <td>10.80</td>\n",
              "      <td>11.700000</td>\n",
              "    </tr>\n",
              "    <tr>\n",
              "      <th>3</th>\n",
              "      <td>VeriFone Inc.</td>\n",
              "      <td>2015-10-01 00:00:36</td>\n",
              "      <td>2015-10-01 00:09:45</td>\n",
              "      <td>1</td>\n",
              "      <td>1.06</td>\n",
              "      <td>-73.992363</td>\n",
              "      <td>40.737640</td>\n",
              "      <td>Standard rate</td>\n",
              "      <td>N</td>\n",
              "      <td>-73.993813</td>\n",
              "      <td>40.745838</td>\n",
              "      <td>Credit card</td>\n",
              "      <td>7.5</td>\n",
              "      <td>0.5</td>\n",
              "      <td>0.5</td>\n",
              "      <td>1.76</td>\n",
              "      <td>0.0</td>\n",
              "      <td>0.3</td>\n",
              "      <td>10.56</td>\n",
              "      <td>9.150000</td>\n",
              "    </tr>\n",
              "    <tr>\n",
              "      <th>4</th>\n",
              "      <td>VeriFone Inc.</td>\n",
              "      <td>2015-10-14 10:23:37</td>\n",
              "      <td>2015-10-14 10:34:56</td>\n",
              "      <td>6</td>\n",
              "      <td>1.07</td>\n",
              "      <td>-74.001839</td>\n",
              "      <td>40.715561</td>\n",
              "      <td>Standard rate</td>\n",
              "      <td>N</td>\n",
              "      <td>-73.989189</td>\n",
              "      <td>40.714081</td>\n",
              "      <td>Credit card</td>\n",
              "      <td>8.5</td>\n",
              "      <td>0.0</td>\n",
              "      <td>0.5</td>\n",
              "      <td>1.00</td>\n",
              "      <td>0.0</td>\n",
              "      <td>0.3</td>\n",
              "      <td>10.30</td>\n",
              "      <td>11.316667</td>\n",
              "    </tr>\n",
              "  </tbody>\n",
              "</table>\n",
              "</div>"
            ],
            "text/plain": [
              "        VendorID tpep_pickup_datetime  ... total_amount   duration\n",
              "0  VeriFone Inc.  2015-10-01 00:00:02  ...        19.80  17.583333\n",
              "1  VeriFone Inc.  2015-10-01 00:00:23  ...        21.80  12.816667\n",
              "2  VeriFone Inc.  2015-10-01 00:00:35  ...        10.80  11.700000\n",
              "3  VeriFone Inc.  2015-10-01 00:00:36  ...        10.56   9.150000\n",
              "4  VeriFone Inc.  2015-10-14 10:23:37  ...        10.30  11.316667\n",
              "\n",
              "[5 rows x 20 columns]"
            ]
          },
          "metadata": {
            "tags": []
          },
          "execution_count": 13
        }
      ]
    },
    {
      "cell_type": "code",
      "metadata": {
        "colab": {
          "base_uri": "https://localhost:8080/",
          "height": 313
        },
        "id": "q1fzYcH26xbU",
        "outputId": "0d7b12a8-36b7-48ca-cf36-e177fe102af5"
      },
      "source": [
        "df.tail()"
      ],
      "execution_count": 14,
      "outputs": [
        {
          "output_type": "execute_result",
          "data": {
            "text/html": [
              "<div>\n",
              "<style scoped>\n",
              "    .dataframe tbody tr th:only-of-type {\n",
              "        vertical-align: middle;\n",
              "    }\n",
              "\n",
              "    .dataframe tbody tr th {\n",
              "        vertical-align: top;\n",
              "    }\n",
              "\n",
              "    .dataframe thead th {\n",
              "        text-align: right;\n",
              "    }\n",
              "</style>\n",
              "<table border=\"1\" class=\"dataframe\">\n",
              "  <thead>\n",
              "    <tr style=\"text-align: right;\">\n",
              "      <th></th>\n",
              "      <th>VendorID</th>\n",
              "      <th>tpep_pickup_datetime</th>\n",
              "      <th>tpep_dropoff_datetime</th>\n",
              "      <th>passenger_count</th>\n",
              "      <th>trip_distance</th>\n",
              "      <th>pickup_longitude</th>\n",
              "      <th>pickup_latitude</th>\n",
              "      <th>RateCodeID</th>\n",
              "      <th>store_and_fwd_flag</th>\n",
              "      <th>dropoff_longitude</th>\n",
              "      <th>dropoff_latitude</th>\n",
              "      <th>payment_type</th>\n",
              "      <th>fare_amount</th>\n",
              "      <th>extra</th>\n",
              "      <th>mta_tax</th>\n",
              "      <th>tip_amount</th>\n",
              "      <th>tolls_amount</th>\n",
              "      <th>improvement_surcharge</th>\n",
              "      <th>total_amount</th>\n",
              "      <th>duration</th>\n",
              "    </tr>\n",
              "  </thead>\n",
              "  <tbody>\n",
              "    <tr>\n",
              "      <th>2823890</th>\n",
              "      <td>VeriFone Inc.</td>\n",
              "      <td>2015-05-02 12:21:18</td>\n",
              "      <td>2015-05-02 12:39:20</td>\n",
              "      <td>1</td>\n",
              "      <td>2.34</td>\n",
              "      <td>-73.974800</td>\n",
              "      <td>40.759369</td>\n",
              "      <td>Standard rate</td>\n",
              "      <td>N</td>\n",
              "      <td>-73.981812</td>\n",
              "      <td>40.762482</td>\n",
              "      <td>Cash</td>\n",
              "      <td>10.5</td>\n",
              "      <td>0.0</td>\n",
              "      <td>0.5</td>\n",
              "      <td>0.00</td>\n",
              "      <td>0.0</td>\n",
              "      <td>0.3</td>\n",
              "      <td>11.30</td>\n",
              "      <td>18.033333</td>\n",
              "    </tr>\n",
              "    <tr>\n",
              "      <th>2823891</th>\n",
              "      <td>VeriFone Inc.</td>\n",
              "      <td>2015-05-10 23:48:29</td>\n",
              "      <td>2015-05-11 00:00:23</td>\n",
              "      <td>2</td>\n",
              "      <td>1.65</td>\n",
              "      <td>-73.991837</td>\n",
              "      <td>40.716179</td>\n",
              "      <td>Standard rate</td>\n",
              "      <td>N</td>\n",
              "      <td>-73.998413</td>\n",
              "      <td>40.717201</td>\n",
              "      <td>Credit card</td>\n",
              "      <td>8.0</td>\n",
              "      <td>0.5</td>\n",
              "      <td>0.5</td>\n",
              "      <td>0.75</td>\n",
              "      <td>0.0</td>\n",
              "      <td>0.3</td>\n",
              "      <td>10.05</td>\n",
              "      <td>11.900000</td>\n",
              "    </tr>\n",
              "    <tr>\n",
              "      <th>2823892</th>\n",
              "      <td>VeriFone Inc.</td>\n",
              "      <td>2015-05-02 10:24:23</td>\n",
              "      <td>2015-05-02 10:33:28</td>\n",
              "      <td>2</td>\n",
              "      <td>1.78</td>\n",
              "      <td>-73.999840</td>\n",
              "      <td>40.721970</td>\n",
              "      <td>Standard rate</td>\n",
              "      <td>N</td>\n",
              "      <td>-74.004539</td>\n",
              "      <td>40.740681</td>\n",
              "      <td>Credit card</td>\n",
              "      <td>8.5</td>\n",
              "      <td>0.0</td>\n",
              "      <td>0.5</td>\n",
              "      <td>1.86</td>\n",
              "      <td>0.0</td>\n",
              "      <td>0.3</td>\n",
              "      <td>11.16</td>\n",
              "      <td>9.083333</td>\n",
              "    </tr>\n",
              "    <tr>\n",
              "      <th>2823893</th>\n",
              "      <td>VeriFone Inc.</td>\n",
              "      <td>2015-05-08 15:02:24</td>\n",
              "      <td>2015-05-08 15:13:45</td>\n",
              "      <td>2</td>\n",
              "      <td>1.30</td>\n",
              "      <td>-74.007523</td>\n",
              "      <td>40.743206</td>\n",
              "      <td>Standard rate</td>\n",
              "      <td>N</td>\n",
              "      <td>-73.989426</td>\n",
              "      <td>40.742603</td>\n",
              "      <td>Cash</td>\n",
              "      <td>8.5</td>\n",
              "      <td>0.0</td>\n",
              "      <td>0.5</td>\n",
              "      <td>0.00</td>\n",
              "      <td>0.0</td>\n",
              "      <td>0.3</td>\n",
              "      <td>9.30</td>\n",
              "      <td>11.350000</td>\n",
              "    </tr>\n",
              "    <tr>\n",
              "      <th>2823894</th>\n",
              "      <td>VeriFone Inc.</td>\n",
              "      <td>2015-05-21 19:53:11</td>\n",
              "      <td>2015-05-21 20:05:18</td>\n",
              "      <td>1</td>\n",
              "      <td>2.23</td>\n",
              "      <td>-73.986984</td>\n",
              "      <td>40.770714</td>\n",
              "      <td>Standard rate</td>\n",
              "      <td>N</td>\n",
              "      <td>-73.967560</td>\n",
              "      <td>40.792850</td>\n",
              "      <td>Credit card</td>\n",
              "      <td>10.5</td>\n",
              "      <td>1.0</td>\n",
              "      <td>0.5</td>\n",
              "      <td>2.20</td>\n",
              "      <td>0.0</td>\n",
              "      <td>0.3</td>\n",
              "      <td>14.50</td>\n",
              "      <td>12.116667</td>\n",
              "    </tr>\n",
              "  </tbody>\n",
              "</table>\n",
              "</div>"
            ],
            "text/plain": [
              "              VendorID tpep_pickup_datetime  ... total_amount   duration\n",
              "2823890  VeriFone Inc.  2015-05-02 12:21:18  ...        11.30  18.033333\n",
              "2823891  VeriFone Inc.  2015-05-10 23:48:29  ...        10.05  11.900000\n",
              "2823892  VeriFone Inc.  2015-05-02 10:24:23  ...        11.16   9.083333\n",
              "2823893  VeriFone Inc.  2015-05-08 15:02:24  ...         9.30  11.350000\n",
              "2823894  VeriFone Inc.  2015-05-21 19:53:11  ...        14.50  12.116667\n",
              "\n",
              "[5 rows x 20 columns]"
            ]
          },
          "metadata": {
            "tags": []
          },
          "execution_count": 14
        }
      ]
    },
    {
      "cell_type": "code",
      "metadata": {
        "id": "wHC8iiqiNQf2"
      },
      "source": [
        "df = add_timeof_day(df)\n",
        "# df.head()"
      ],
      "execution_count": 15,
      "outputs": []
    },
    {
      "cell_type": "code",
      "metadata": {
        "id": "tDRElapGeO73"
      },
      "source": [
        "df = add_dayof_week(df)\n",
        "# df.head()"
      ],
      "execution_count": 16,
      "outputs": []
    },
    {
      "cell_type": "code",
      "metadata": {
        "id": "DbU1UBIow3P2"
      },
      "source": [
        "df = add_avespeed(df)\n",
        "# df.head()"
      ],
      "execution_count": 17,
      "outputs": []
    },
    {
      "cell_type": "code",
      "metadata": {
        "colab": {
          "base_uri": "https://localhost:8080/",
          "height": 551
        },
        "id": "1OKQ7bu50m-d",
        "outputId": "0559cafb-3d8a-4c4f-da46-17f1fb25d0b4"
      },
      "source": [
        "corr_matrix = df.corr()\n",
        "corr_matrix['duration'].sort_values(ascending=False).to_frame()"
      ],
      "execution_count": 18,
      "outputs": [
        {
          "output_type": "execute_result",
          "data": {
            "text/html": [
              "<div>\n",
              "<style scoped>\n",
              "    .dataframe tbody tr th:only-of-type {\n",
              "        vertical-align: middle;\n",
              "    }\n",
              "\n",
              "    .dataframe tbody tr th {\n",
              "        vertical-align: top;\n",
              "    }\n",
              "\n",
              "    .dataframe thead th {\n",
              "        text-align: right;\n",
              "    }\n",
              "</style>\n",
              "<table border=\"1\" class=\"dataframe\">\n",
              "  <thead>\n",
              "    <tr style=\"text-align: right;\">\n",
              "      <th></th>\n",
              "      <th>duration</th>\n",
              "    </tr>\n",
              "  </thead>\n",
              "  <tbody>\n",
              "    <tr>\n",
              "      <th>duration</th>\n",
              "      <td>1.000000</td>\n",
              "    </tr>\n",
              "    <tr>\n",
              "      <th>fare_amount</th>\n",
              "      <td>0.888203</td>\n",
              "    </tr>\n",
              "    <tr>\n",
              "      <th>total_amount</th>\n",
              "      <td>0.862494</td>\n",
              "    </tr>\n",
              "    <tr>\n",
              "      <th>trip_distance</th>\n",
              "      <td>0.781401</td>\n",
              "    </tr>\n",
              "    <tr>\n",
              "      <th>tip_amount</th>\n",
              "      <td>0.493078</td>\n",
              "    </tr>\n",
              "    <tr>\n",
              "      <th>tolls_amount</th>\n",
              "      <td>0.457660</td>\n",
              "    </tr>\n",
              "    <tr>\n",
              "      <th>pickup_longitude</th>\n",
              "      <td>0.370568</td>\n",
              "    </tr>\n",
              "    <tr>\n",
              "      <th>dropoff_longitude</th>\n",
              "      <td>0.266498</td>\n",
              "    </tr>\n",
              "    <tr>\n",
              "      <th>ave_speed</th>\n",
              "      <td>0.159938</td>\n",
              "    </tr>\n",
              "    <tr>\n",
              "      <th>time_of_day</th>\n",
              "      <td>0.032376</td>\n",
              "    </tr>\n",
              "    <tr>\n",
              "      <th>passenger_count</th>\n",
              "      <td>0.015561</td>\n",
              "    </tr>\n",
              "    <tr>\n",
              "      <th>extra</th>\n",
              "      <td>-0.055389</td>\n",
              "    </tr>\n",
              "    <tr>\n",
              "      <th>dropoff_latitude</th>\n",
              "      <td>-0.179526</td>\n",
              "    </tr>\n",
              "    <tr>\n",
              "      <th>pickup_latitude</th>\n",
              "      <td>-0.233615</td>\n",
              "    </tr>\n",
              "    <tr>\n",
              "      <th>mta_tax</th>\n",
              "      <td>NaN</td>\n",
              "    </tr>\n",
              "    <tr>\n",
              "      <th>improvement_surcharge</th>\n",
              "      <td>NaN</td>\n",
              "    </tr>\n",
              "  </tbody>\n",
              "</table>\n",
              "</div>"
            ],
            "text/plain": [
              "                       duration\n",
              "duration               1.000000\n",
              "fare_amount            0.888203\n",
              "total_amount           0.862494\n",
              "trip_distance          0.781401\n",
              "tip_amount             0.493078\n",
              "tolls_amount           0.457660\n",
              "pickup_longitude       0.370568\n",
              "dropoff_longitude      0.266498\n",
              "ave_speed              0.159938\n",
              "time_of_day            0.032376\n",
              "passenger_count        0.015561\n",
              "extra                 -0.055389\n",
              "dropoff_latitude      -0.179526\n",
              "pickup_latitude       -0.233615\n",
              "mta_tax                     NaN\n",
              "improvement_surcharge       NaN"
            ]
          },
          "metadata": {
            "tags": []
          },
          "execution_count": 18
        }
      ]
    },
    {
      "cell_type": "markdown",
      "metadata": {
        "id": "dq712Zl576tw"
      },
      "source": [
        "## Choose target and feature variables/columns"
      ]
    },
    {
      "cell_type": "code",
      "metadata": {
        "id": "38jkQ-CafeP0"
      },
      "source": [
        "# Extract features base on above correlation\n",
        "label = ['duration']\n",
        "# 1. without amount\n",
        "features1 = ['trip_distance', 'pickup_longitude', 'pickup_latitude', 'dropoff_longitude', 'dropoff_latitude', ]\n",
        "# 2. without amount + 3 new features (1 categorical variable)\n",
        "features2 = ['trip_distance', 'pickup_longitude', 'pickup_latitude', 'dropoff_longitude', 'dropoff_latitude',\n",
        "             'time_of_day', 'day_of_week', 'ave_speed', ]\n",
        "# 3. Above abs(0.1)\n",
        "features3 = ['trip_distance', 'pickup_longitude', 'pickup_latitude', 'dropoff_longitude', 'dropoff_latitude',\n",
        "             'fare_amount', 'total_amount', 'tip_amount', 'tolls_amount', 'ave_speed',  ]\n",
        "# 4. Above abs(0.1) + 2 new features (1 categorical variable)\n",
        "features4 = ['trip_distance', 'pickup_longitude', 'pickup_latitude', 'dropoff_longitude', 'dropoff_latitude',\n",
        "             'fare_amount', 'total_amount', 'tip_amount', 'tolls_amount', 'extra',\n",
        "             'mta_tax', 'time_of_day', 'day_of_week', 'ave_speed', ]\n",
        "# 5. all features i.e 5 categorical features\n",
        "all_features = list(set(df.columns.to_list()) - set(label + ['tpep_pickup_datetime', 'tpep_dropoff_datetime',]))"
      ],
      "execution_count": 19,
      "outputs": []
    },
    {
      "cell_type": "markdown",
      "metadata": {
        "id": "39G6aIuG983Z"
      },
      "source": [
        "# General sklearn imports"
      ]
    },
    {
      "cell_type": "code",
      "metadata": {
        "id": "yRVCd0Lt-Cse"
      },
      "source": [
        "from sklearn import set_config\n",
        "set_config(display=\"diagram\")\n",
        "from sklearn.metrics import r2_score, mean_squared_error\n",
        "from sklearn.model_selection import train_test_split\n",
        "from sklearn.preprocessing import StandardScaler, OrdinalEncoder, OneHotEncoder, PolynomialFeatures, MinMaxScaler"
      ],
      "execution_count": 20,
      "outputs": []
    },
    {
      "cell_type": "markdown",
      "metadata": {
        "id": "i7VKgvfE73Iy"
      },
      "source": [
        "# Train, Val, Split"
      ]
    },
    {
      "cell_type": "code",
      "metadata": {
        "id": "QMBR2m0JnTBy"
      },
      "source": [
        "y = df[label]\n",
        "X = df[features4]"
      ],
      "execution_count": 21,
      "outputs": []
    },
    {
      "cell_type": "code",
      "metadata": {
        "colab": {
          "base_uri": "https://localhost:8080/",
          "height": 206
        },
        "id": "5xiGzvPBngI2",
        "outputId": "4989ba19-9750-4e3e-be19-cdec6a3b602b"
      },
      "source": [
        "X.head()"
      ],
      "execution_count": 22,
      "outputs": [
        {
          "output_type": "execute_result",
          "data": {
            "text/html": [
              "<div>\n",
              "<style scoped>\n",
              "    .dataframe tbody tr th:only-of-type {\n",
              "        vertical-align: middle;\n",
              "    }\n",
              "\n",
              "    .dataframe tbody tr th {\n",
              "        vertical-align: top;\n",
              "    }\n",
              "\n",
              "    .dataframe thead th {\n",
              "        text-align: right;\n",
              "    }\n",
              "</style>\n",
              "<table border=\"1\" class=\"dataframe\">\n",
              "  <thead>\n",
              "    <tr style=\"text-align: right;\">\n",
              "      <th></th>\n",
              "      <th>trip_distance</th>\n",
              "      <th>pickup_longitude</th>\n",
              "      <th>pickup_latitude</th>\n",
              "      <th>dropoff_longitude</th>\n",
              "      <th>dropoff_latitude</th>\n",
              "      <th>fare_amount</th>\n",
              "      <th>total_amount</th>\n",
              "      <th>tip_amount</th>\n",
              "      <th>tolls_amount</th>\n",
              "      <th>extra</th>\n",
              "      <th>mta_tax</th>\n",
              "      <th>time_of_day</th>\n",
              "      <th>day_of_week</th>\n",
              "      <th>ave_speed</th>\n",
              "    </tr>\n",
              "  </thead>\n",
              "  <tbody>\n",
              "    <tr>\n",
              "      <th>0</th>\n",
              "      <td>5.68</td>\n",
              "      <td>-73.997597</td>\n",
              "      <td>40.756248</td>\n",
              "      <td>-73.941002</td>\n",
              "      <td>40.815140</td>\n",
              "      <td>18.5</td>\n",
              "      <td>19.80</td>\n",
              "      <td>0.00</td>\n",
              "      <td>0.0</td>\n",
              "      <td>0.5</td>\n",
              "      <td>0.5</td>\n",
              "      <td>0.000556</td>\n",
              "      <td>Thursday</td>\n",
              "      <td>19.381991</td>\n",
              "    </tr>\n",
              "    <tr>\n",
              "      <th>1</th>\n",
              "      <td>7.13</td>\n",
              "      <td>-74.016586</td>\n",
              "      <td>40.709816</td>\n",
              "      <td>-73.959991</td>\n",
              "      <td>40.766918</td>\n",
              "      <td>20.5</td>\n",
              "      <td>21.80</td>\n",
              "      <td>0.00</td>\n",
              "      <td>0.0</td>\n",
              "      <td>0.5</td>\n",
              "      <td>0.5</td>\n",
              "      <td>0.006389</td>\n",
              "      <td>Thursday</td>\n",
              "      <td>33.378414</td>\n",
              "    </tr>\n",
              "    <tr>\n",
              "      <th>2</th>\n",
              "      <td>1.72</td>\n",
              "      <td>-74.008247</td>\n",
              "      <td>40.714821</td>\n",
              "      <td>-73.984581</td>\n",
              "      <td>40.720299</td>\n",
              "      <td>9.5</td>\n",
              "      <td>10.80</td>\n",
              "      <td>0.00</td>\n",
              "      <td>0.0</td>\n",
              "      <td>0.5</td>\n",
              "      <td>0.5</td>\n",
              "      <td>0.009722</td>\n",
              "      <td>Thursday</td>\n",
              "      <td>8.820513</td>\n",
              "    </tr>\n",
              "    <tr>\n",
              "      <th>3</th>\n",
              "      <td>1.06</td>\n",
              "      <td>-73.992363</td>\n",
              "      <td>40.737640</td>\n",
              "      <td>-73.993813</td>\n",
              "      <td>40.745838</td>\n",
              "      <td>7.5</td>\n",
              "      <td>10.56</td>\n",
              "      <td>1.76</td>\n",
              "      <td>0.0</td>\n",
              "      <td>0.5</td>\n",
              "      <td>0.5</td>\n",
              "      <td>0.010000</td>\n",
              "      <td>Thursday</td>\n",
              "      <td>6.950820</td>\n",
              "    </tr>\n",
              "    <tr>\n",
              "      <th>4</th>\n",
              "      <td>1.07</td>\n",
              "      <td>-74.001839</td>\n",
              "      <td>40.715561</td>\n",
              "      <td>-73.989189</td>\n",
              "      <td>40.714081</td>\n",
              "      <td>8.5</td>\n",
              "      <td>10.30</td>\n",
              "      <td>1.00</td>\n",
              "      <td>0.0</td>\n",
              "      <td>0.0</td>\n",
              "      <td>0.5</td>\n",
              "      <td>10.393611</td>\n",
              "      <td>Wednesday</td>\n",
              "      <td>5.673049</td>\n",
              "    </tr>\n",
              "  </tbody>\n",
              "</table>\n",
              "</div>"
            ],
            "text/plain": [
              "   trip_distance  pickup_longitude  ...  day_of_week  ave_speed\n",
              "0           5.68        -73.997597  ...     Thursday  19.381991\n",
              "1           7.13        -74.016586  ...     Thursday  33.378414\n",
              "2           1.72        -74.008247  ...     Thursday   8.820513\n",
              "3           1.06        -73.992363  ...     Thursday   6.950820\n",
              "4           1.07        -74.001839  ...    Wednesday   5.673049\n",
              "\n",
              "[5 rows x 14 columns]"
            ]
          },
          "metadata": {
            "tags": []
          },
          "execution_count": 22
        }
      ]
    },
    {
      "cell_type": "code",
      "metadata": {
        "colab": {
          "base_uri": "https://localhost:8080/"
        },
        "id": "eHnfRVQW-oLn",
        "outputId": "b2228227-54d6-4158-9c71-e79f4abf3689"
      },
      "source": [
        "X_train, X_val_test, y_train, y_val_test = train_test_split(X, y, test_size=0.4, random_state=42)\n",
        "X_val, X_test, y_val, y_test = train_test_split(X_val_test, y_val_test, test_size=0.4, random_state=42)\n",
        "print(f'Train data shape: {X_train.shape}\\n')\n",
        "print(f'Validation data shape: {X_val.shape}\\n')\n",
        "print(f'Test data shape: {X_test.shape}\\n')"
      ],
      "execution_count": 23,
      "outputs": [
        {
          "output_type": "stream",
          "text": [
            "Train data shape: (1694220, 14)\n",
            "\n",
            "Validation data shape: (677688, 14)\n",
            "\n",
            "Test data shape: (451793, 14)\n",
            "\n"
          ],
          "name": "stdout"
        }
      ]
    },
    {
      "cell_type": "markdown",
      "metadata": {
        "id": "9OxgSlQ-I3LT"
      },
      "source": [
        "# General Transformers"
      ]
    },
    {
      "cell_type": "markdown",
      "metadata": {
        "id": "GN7CG8ekyeAe"
      },
      "source": [
        "## Build categorical and numerical pipeline\n",
        "## Preprocess Features --> Scaling and encoding\n",
        "\n"
      ]
    },
    {
      "cell_type": "code",
      "metadata": {
        "id": "SNtENJC-zsZ8"
      },
      "source": [
        "from sklearn.pipeline import Pipeline\n",
        "from sklearn.compose import ColumnTransformer"
      ],
      "execution_count": 24,
      "outputs": []
    },
    {
      "cell_type": "code",
      "metadata": {
        "id": "qq0Z0PFl3NhT"
      },
      "source": [
        "numerical_cols = X.select_dtypes(include=['int64', 'float64']).columns\n",
        "categorical_cols = X.select_dtypes(include=['object', 'bool']).columns"
      ],
      "execution_count": 25,
      "outputs": []
    },
    {
      "cell_type": "code",
      "metadata": {
        "colab": {
          "base_uri": "https://localhost:8080/"
        },
        "id": "KE91jgX93Uly",
        "outputId": "bd6c0986-0b90-4d66-f884-8076650e0580"
      },
      "source": [
        "numerical_cols"
      ],
      "execution_count": 26,
      "outputs": [
        {
          "output_type": "execute_result",
          "data": {
            "text/plain": [
              "Index(['trip_distance', 'pickup_longitude', 'pickup_latitude',\n",
              "       'dropoff_longitude', 'dropoff_latitude', 'fare_amount', 'total_amount',\n",
              "       'tip_amount', 'tolls_amount', 'extra', 'mta_tax', 'time_of_day',\n",
              "       'ave_speed'],\n",
              "      dtype='object')"
            ]
          },
          "metadata": {
            "tags": []
          },
          "execution_count": 26
        }
      ]
    },
    {
      "cell_type": "code",
      "metadata": {
        "colab": {
          "base_uri": "https://localhost:8080/"
        },
        "id": "liBSkngk3Ucq",
        "outputId": "4acd61b5-7cac-445b-dfa8-bdcacd15ae2f"
      },
      "source": [
        "categorical_cols"
      ],
      "execution_count": 27,
      "outputs": [
        {
          "output_type": "execute_result",
          "data": {
            "text/plain": [
              "Index(['day_of_week'], dtype='object')"
            ]
          },
          "metadata": {
            "tags": []
          },
          "execution_count": 27
        }
      ]
    },
    {
      "cell_type": "code",
      "metadata": {
        "colab": {
          "base_uri": "https://localhost:8080/",
          "height": 102
        },
        "id": "F9Mul6NkEkdw",
        "outputId": "ab014159-71f4-43a2-d138-f9062465b66e"
      },
      "source": [
        "transformer1 = ColumnTransformer([\n",
        "                                 (\"num\", StandardScaler(), numerical_cols),\n",
        "                                 (\"cat\", OrdinalEncoder(), categorical_cols)\n",
        "                                 ])\n",
        "transformer1"
      ],
      "execution_count": 28,
      "outputs": [
        {
          "output_type": "execute_result",
          "data": {
            "text/html": [
              "<style>#sk-e536a467-79ca-4592-9abf-571f158da66e {color: black;background-color: white;}#sk-e536a467-79ca-4592-9abf-571f158da66e pre{padding: 0;}#sk-e536a467-79ca-4592-9abf-571f158da66e div.sk-toggleable {background-color: white;}#sk-e536a467-79ca-4592-9abf-571f158da66e label.sk-toggleable__label {cursor: pointer;display: block;width: 100%;margin-bottom: 0;padding: 0.2em 0.3em;box-sizing: border-box;text-align: center;}#sk-e536a467-79ca-4592-9abf-571f158da66e div.sk-toggleable__content {max-height: 0;max-width: 0;overflow: hidden;text-align: left;background-color: #f0f8ff;}#sk-e536a467-79ca-4592-9abf-571f158da66e div.sk-toggleable__content pre {margin: 0.2em;color: black;border-radius: 0.25em;background-color: #f0f8ff;}#sk-e536a467-79ca-4592-9abf-571f158da66e input.sk-toggleable__control:checked~div.sk-toggleable__content {max-height: 200px;max-width: 100%;overflow: auto;}#sk-e536a467-79ca-4592-9abf-571f158da66e div.sk-estimator input.sk-toggleable__control:checked~label.sk-toggleable__label {background-color: #d4ebff;}#sk-e536a467-79ca-4592-9abf-571f158da66e div.sk-label input.sk-toggleable__control:checked~label.sk-toggleable__label {background-color: #d4ebff;}#sk-e536a467-79ca-4592-9abf-571f158da66e input.sk-hidden--visually {border: 0;clip: rect(1px 1px 1px 1px);clip: rect(1px, 1px, 1px, 1px);height: 1px;margin: -1px;overflow: hidden;padding: 0;position: absolute;width: 1px;}#sk-e536a467-79ca-4592-9abf-571f158da66e div.sk-estimator {font-family: monospace;background-color: #f0f8ff;margin: 0.25em 0.25em;border: 1px dotted black;border-radius: 0.25em;box-sizing: border-box;}#sk-e536a467-79ca-4592-9abf-571f158da66e div.sk-estimator:hover {background-color: #d4ebff;}#sk-e536a467-79ca-4592-9abf-571f158da66e div.sk-parallel-item::after {content: \"\";width: 100%;border-bottom: 1px solid gray;flex-grow: 1;}#sk-e536a467-79ca-4592-9abf-571f158da66e div.sk-label:hover label.sk-toggleable__label {background-color: #d4ebff;}#sk-e536a467-79ca-4592-9abf-571f158da66e div.sk-serial::before {content: \"\";position: absolute;border-left: 1px solid gray;box-sizing: border-box;top: 2em;bottom: 0;left: 50%;}#sk-e536a467-79ca-4592-9abf-571f158da66e div.sk-serial {display: flex;flex-direction: column;align-items: center;background-color: white;}#sk-e536a467-79ca-4592-9abf-571f158da66e div.sk-item {z-index: 1;}#sk-e536a467-79ca-4592-9abf-571f158da66e div.sk-parallel {display: flex;align-items: stretch;justify-content: center;background-color: white;}#sk-e536a467-79ca-4592-9abf-571f158da66e div.sk-parallel-item {display: flex;flex-direction: column;position: relative;background-color: white;}#sk-e536a467-79ca-4592-9abf-571f158da66e div.sk-parallel-item:first-child::after {align-self: flex-end;width: 50%;}#sk-e536a467-79ca-4592-9abf-571f158da66e div.sk-parallel-item:last-child::after {align-self: flex-start;width: 50%;}#sk-e536a467-79ca-4592-9abf-571f158da66e div.sk-parallel-item:only-child::after {width: 0;}#sk-e536a467-79ca-4592-9abf-571f158da66e div.sk-dashed-wrapped {border: 1px dashed gray;margin: 0.2em;box-sizing: border-box;padding-bottom: 0.1em;background-color: white;position: relative;}#sk-e536a467-79ca-4592-9abf-571f158da66e div.sk-label label {font-family: monospace;font-weight: bold;background-color: white;display: inline-block;line-height: 1.2em;}#sk-e536a467-79ca-4592-9abf-571f158da66e div.sk-label-container {position: relative;z-index: 2;text-align: center;}#sk-e536a467-79ca-4592-9abf-571f158da66e div.sk-container {display: inline-block;position: relative;}</style><div id=\"sk-e536a467-79ca-4592-9abf-571f158da66e\" class\"sk-top-container\"><div class=\"sk-container\"><div class=\"sk-item sk-dashed-wrapped\"><div class=\"sk-label-container\"><div class=\"sk-label sk-toggleable\"><input class=\"sk-toggleable__control sk-hidden--visually\" id=\"95bd568b-ecd9-4218-8d35-222d64030d47\" type=\"checkbox\" ><label class=\"sk-toggleable__label\" for=\"95bd568b-ecd9-4218-8d35-222d64030d47\">ColumnTransformer</label><div class=\"sk-toggleable__content\"><pre>ColumnTransformer(transformers=[('num', StandardScaler(),\n",
              "                                 Index(['trip_distance', 'pickup_longitude', 'pickup_latitude',\n",
              "       'dropoff_longitude', 'dropoff_latitude', 'fare_amount', 'total_amount',\n",
              "       'tip_amount', 'tolls_amount', 'extra', 'mta_tax', 'time_of_day',\n",
              "       'ave_speed'],\n",
              "      dtype='object')),\n",
              "                                ('cat', OrdinalEncoder(),\n",
              "                                 Index(['day_of_week'], dtype='object'))])</pre></div></div></div><div class=\"sk-parallel\"><div class=\"sk-parallel-item\"><div class=\"sk-item\"><div class=\"sk-label-container\"><div class=\"sk-label sk-toggleable\"><input class=\"sk-toggleable__control sk-hidden--visually\" id=\"7279aa34-2f0c-464a-b165-a75d35ffa9cc\" type=\"checkbox\" ><label class=\"sk-toggleable__label\" for=\"7279aa34-2f0c-464a-b165-a75d35ffa9cc\">num</label><div class=\"sk-toggleable__content\"><pre>Index(['trip_distance', 'pickup_longitude', 'pickup_latitude',\n",
              "       'dropoff_longitude', 'dropoff_latitude', 'fare_amount', 'total_amount',\n",
              "       'tip_amount', 'tolls_amount', 'extra', 'mta_tax', 'time_of_day',\n",
              "       'ave_speed'],\n",
              "      dtype='object')</pre></div></div></div><div class=\"sk-serial\"><div class=\"sk-item\"><div class=\"sk-estimator sk-toggleable\"><input class=\"sk-toggleable__control sk-hidden--visually\" id=\"3723b5fb-dd36-4ce2-b45c-4a10b09be59d\" type=\"checkbox\" ><label class=\"sk-toggleable__label\" for=\"3723b5fb-dd36-4ce2-b45c-4a10b09be59d\">StandardScaler</label><div class=\"sk-toggleable__content\"><pre>StandardScaler()</pre></div></div></div></div></div></div><div class=\"sk-parallel-item\"><div class=\"sk-item\"><div class=\"sk-label-container\"><div class=\"sk-label sk-toggleable\"><input class=\"sk-toggleable__control sk-hidden--visually\" id=\"e590a76b-3f38-423e-8733-f420da8e5de3\" type=\"checkbox\" ><label class=\"sk-toggleable__label\" for=\"e590a76b-3f38-423e-8733-f420da8e5de3\">cat</label><div class=\"sk-toggleable__content\"><pre>Index(['day_of_week'], dtype='object')</pre></div></div></div><div class=\"sk-serial\"><div class=\"sk-item\"><div class=\"sk-estimator sk-toggleable\"><input class=\"sk-toggleable__control sk-hidden--visually\" id=\"08f534e4-13bc-41ff-bd4f-f2ba7cefc838\" type=\"checkbox\" ><label class=\"sk-toggleable__label\" for=\"08f534e4-13bc-41ff-bd4f-f2ba7cefc838\">OrdinalEncoder</label><div class=\"sk-toggleable__content\"><pre>OrdinalEncoder()</pre></div></div></div></div></div></div></div></div></div></div>"
            ],
            "text/plain": [
              "ColumnTransformer(transformers=[('num', StandardScaler(),\n",
              "                                 Index(['trip_distance', 'pickup_longitude', 'pickup_latitude',\n",
              "       'dropoff_longitude', 'dropoff_latitude', 'fare_amount', 'total_amount',\n",
              "       'tip_amount', 'tolls_amount', 'extra', 'mta_tax', 'time_of_day',\n",
              "       'ave_speed'],\n",
              "      dtype='object')),\n",
              "                                ('cat', OrdinalEncoder(),\n",
              "                                 Index(['day_of_week'], dtype='object'))])"
            ]
          },
          "metadata": {
            "tags": []
          },
          "execution_count": 28
        }
      ]
    },
    {
      "cell_type": "code",
      "metadata": {
        "colab": {
          "base_uri": "https://localhost:8080/",
          "height": 102
        },
        "id": "gZpfztRA4PW4",
        "outputId": "3616fc81-b0c7-424d-fb38-803b9fe2c6b8"
      },
      "source": [
        "transformer2 = ColumnTransformer([\n",
        "                                 (\"poly\", PolynomialFeatures(degree=2), numerical_cols),\n",
        "                                 (\"num\", StandardScaler(), numerical_cols),\n",
        "                                 (\"cat\", OrdinalEncoder(), categorical_cols)\n",
        "                                 ])\n",
        "transformer2"
      ],
      "execution_count": 29,
      "outputs": [
        {
          "output_type": "execute_result",
          "data": {
            "text/html": [
              "<style>#sk-c7a4dfc3-749b-417d-adf7-2a618c295985 {color: black;background-color: white;}#sk-c7a4dfc3-749b-417d-adf7-2a618c295985 pre{padding: 0;}#sk-c7a4dfc3-749b-417d-adf7-2a618c295985 div.sk-toggleable {background-color: white;}#sk-c7a4dfc3-749b-417d-adf7-2a618c295985 label.sk-toggleable__label {cursor: pointer;display: block;width: 100%;margin-bottom: 0;padding: 0.2em 0.3em;box-sizing: border-box;text-align: center;}#sk-c7a4dfc3-749b-417d-adf7-2a618c295985 div.sk-toggleable__content {max-height: 0;max-width: 0;overflow: hidden;text-align: left;background-color: #f0f8ff;}#sk-c7a4dfc3-749b-417d-adf7-2a618c295985 div.sk-toggleable__content pre {margin: 0.2em;color: black;border-radius: 0.25em;background-color: #f0f8ff;}#sk-c7a4dfc3-749b-417d-adf7-2a618c295985 input.sk-toggleable__control:checked~div.sk-toggleable__content {max-height: 200px;max-width: 100%;overflow: auto;}#sk-c7a4dfc3-749b-417d-adf7-2a618c295985 div.sk-estimator input.sk-toggleable__control:checked~label.sk-toggleable__label {background-color: #d4ebff;}#sk-c7a4dfc3-749b-417d-adf7-2a618c295985 div.sk-label input.sk-toggleable__control:checked~label.sk-toggleable__label {background-color: #d4ebff;}#sk-c7a4dfc3-749b-417d-adf7-2a618c295985 input.sk-hidden--visually {border: 0;clip: rect(1px 1px 1px 1px);clip: rect(1px, 1px, 1px, 1px);height: 1px;margin: -1px;overflow: hidden;padding: 0;position: absolute;width: 1px;}#sk-c7a4dfc3-749b-417d-adf7-2a618c295985 div.sk-estimator {font-family: monospace;background-color: #f0f8ff;margin: 0.25em 0.25em;border: 1px dotted black;border-radius: 0.25em;box-sizing: border-box;}#sk-c7a4dfc3-749b-417d-adf7-2a618c295985 div.sk-estimator:hover {background-color: #d4ebff;}#sk-c7a4dfc3-749b-417d-adf7-2a618c295985 div.sk-parallel-item::after {content: \"\";width: 100%;border-bottom: 1px solid gray;flex-grow: 1;}#sk-c7a4dfc3-749b-417d-adf7-2a618c295985 div.sk-label:hover label.sk-toggleable__label {background-color: #d4ebff;}#sk-c7a4dfc3-749b-417d-adf7-2a618c295985 div.sk-serial::before {content: \"\";position: absolute;border-left: 1px solid gray;box-sizing: border-box;top: 2em;bottom: 0;left: 50%;}#sk-c7a4dfc3-749b-417d-adf7-2a618c295985 div.sk-serial {display: flex;flex-direction: column;align-items: center;background-color: white;}#sk-c7a4dfc3-749b-417d-adf7-2a618c295985 div.sk-item {z-index: 1;}#sk-c7a4dfc3-749b-417d-adf7-2a618c295985 div.sk-parallel {display: flex;align-items: stretch;justify-content: center;background-color: white;}#sk-c7a4dfc3-749b-417d-adf7-2a618c295985 div.sk-parallel-item {display: flex;flex-direction: column;position: relative;background-color: white;}#sk-c7a4dfc3-749b-417d-adf7-2a618c295985 div.sk-parallel-item:first-child::after {align-self: flex-end;width: 50%;}#sk-c7a4dfc3-749b-417d-adf7-2a618c295985 div.sk-parallel-item:last-child::after {align-self: flex-start;width: 50%;}#sk-c7a4dfc3-749b-417d-adf7-2a618c295985 div.sk-parallel-item:only-child::after {width: 0;}#sk-c7a4dfc3-749b-417d-adf7-2a618c295985 div.sk-dashed-wrapped {border: 1px dashed gray;margin: 0.2em;box-sizing: border-box;padding-bottom: 0.1em;background-color: white;position: relative;}#sk-c7a4dfc3-749b-417d-adf7-2a618c295985 div.sk-label label {font-family: monospace;font-weight: bold;background-color: white;display: inline-block;line-height: 1.2em;}#sk-c7a4dfc3-749b-417d-adf7-2a618c295985 div.sk-label-container {position: relative;z-index: 2;text-align: center;}#sk-c7a4dfc3-749b-417d-adf7-2a618c295985 div.sk-container {display: inline-block;position: relative;}</style><div id=\"sk-c7a4dfc3-749b-417d-adf7-2a618c295985\" class\"sk-top-container\"><div class=\"sk-container\"><div class=\"sk-item sk-dashed-wrapped\"><div class=\"sk-label-container\"><div class=\"sk-label sk-toggleable\"><input class=\"sk-toggleable__control sk-hidden--visually\" id=\"e9016c05-3505-4f47-906a-d45ffe5d8d4c\" type=\"checkbox\" ><label class=\"sk-toggleable__label\" for=\"e9016c05-3505-4f47-906a-d45ffe5d8d4c\">ColumnTransformer</label><div class=\"sk-toggleable__content\"><pre>ColumnTransformer(transformers=[('poly', PolynomialFeatures(),\n",
              "                                 Index(['trip_distance', 'pickup_longitude', 'pickup_latitude',\n",
              "       'dropoff_longitude', 'dropoff_latitude', 'fare_amount', 'total_amount',\n",
              "       'tip_amount', 'tolls_amount', 'extra', 'mta_tax', 'time_of_day',\n",
              "       'ave_speed'],\n",
              "      dtype='object')),\n",
              "                                ('num', StandardScaler(),\n",
              "                                 Index(['trip_distance', 'pickup_longitude', 'pickup_latitude',\n",
              "       'dropoff_longitude', 'dropoff_latitude', 'fare_amount', 'total_amount',\n",
              "       'tip_amount', 'tolls_amount', 'extra', 'mta_tax', 'time_of_day',\n",
              "       'ave_speed'],\n",
              "      dtype='object')),\n",
              "                                ('cat', OrdinalEncoder(),\n",
              "                                 Index(['day_of_week'], dtype='object'))])</pre></div></div></div><div class=\"sk-parallel\"><div class=\"sk-parallel-item\"><div class=\"sk-item\"><div class=\"sk-label-container\"><div class=\"sk-label sk-toggleable\"><input class=\"sk-toggleable__control sk-hidden--visually\" id=\"a9cf4cde-0510-4d4a-86e0-6f161de0805d\" type=\"checkbox\" ><label class=\"sk-toggleable__label\" for=\"a9cf4cde-0510-4d4a-86e0-6f161de0805d\">poly</label><div class=\"sk-toggleable__content\"><pre>Index(['trip_distance', 'pickup_longitude', 'pickup_latitude',\n",
              "       'dropoff_longitude', 'dropoff_latitude', 'fare_amount', 'total_amount',\n",
              "       'tip_amount', 'tolls_amount', 'extra', 'mta_tax', 'time_of_day',\n",
              "       'ave_speed'],\n",
              "      dtype='object')</pre></div></div></div><div class=\"sk-serial\"><div class=\"sk-item\"><div class=\"sk-estimator sk-toggleable\"><input class=\"sk-toggleable__control sk-hidden--visually\" id=\"40ec61bd-2098-4355-9627-59e1289aae91\" type=\"checkbox\" ><label class=\"sk-toggleable__label\" for=\"40ec61bd-2098-4355-9627-59e1289aae91\">PolynomialFeatures</label><div class=\"sk-toggleable__content\"><pre>PolynomialFeatures()</pre></div></div></div></div></div></div><div class=\"sk-parallel-item\"><div class=\"sk-item\"><div class=\"sk-label-container\"><div class=\"sk-label sk-toggleable\"><input class=\"sk-toggleable__control sk-hidden--visually\" id=\"7191e084-60b5-4eec-9f06-a0f8743e61a3\" type=\"checkbox\" ><label class=\"sk-toggleable__label\" for=\"7191e084-60b5-4eec-9f06-a0f8743e61a3\">num</label><div class=\"sk-toggleable__content\"><pre>Index(['trip_distance', 'pickup_longitude', 'pickup_latitude',\n",
              "       'dropoff_longitude', 'dropoff_latitude', 'fare_amount', 'total_amount',\n",
              "       'tip_amount', 'tolls_amount', 'extra', 'mta_tax', 'time_of_day',\n",
              "       'ave_speed'],\n",
              "      dtype='object')</pre></div></div></div><div class=\"sk-serial\"><div class=\"sk-item\"><div class=\"sk-estimator sk-toggleable\"><input class=\"sk-toggleable__control sk-hidden--visually\" id=\"866e8fa8-fdee-4577-9952-0e5211a66b9b\" type=\"checkbox\" ><label class=\"sk-toggleable__label\" for=\"866e8fa8-fdee-4577-9952-0e5211a66b9b\">StandardScaler</label><div class=\"sk-toggleable__content\"><pre>StandardScaler()</pre></div></div></div></div></div></div><div class=\"sk-parallel-item\"><div class=\"sk-item\"><div class=\"sk-label-container\"><div class=\"sk-label sk-toggleable\"><input class=\"sk-toggleable__control sk-hidden--visually\" id=\"5215a573-3692-49f5-803f-f3548bd5ca69\" type=\"checkbox\" ><label class=\"sk-toggleable__label\" for=\"5215a573-3692-49f5-803f-f3548bd5ca69\">cat</label><div class=\"sk-toggleable__content\"><pre>Index(['day_of_week'], dtype='object')</pre></div></div></div><div class=\"sk-serial\"><div class=\"sk-item\"><div class=\"sk-estimator sk-toggleable\"><input class=\"sk-toggleable__control sk-hidden--visually\" id=\"9305268d-e302-4d0b-ac5e-bd20f9a06b7d\" type=\"checkbox\" ><label class=\"sk-toggleable__label\" for=\"9305268d-e302-4d0b-ac5e-bd20f9a06b7d\">OrdinalEncoder</label><div class=\"sk-toggleable__content\"><pre>OrdinalEncoder()</pre></div></div></div></div></div></div></div></div></div></div>"
            ],
            "text/plain": [
              "ColumnTransformer(transformers=[('poly', PolynomialFeatures(),\n",
              "                                 Index(['trip_distance', 'pickup_longitude', 'pickup_latitude',\n",
              "       'dropoff_longitude', 'dropoff_latitude', 'fare_amount', 'total_amount',\n",
              "       'tip_amount', 'tolls_amount', 'extra', 'mta_tax', 'time_of_day',\n",
              "       'ave_speed'],\n",
              "      dtype='object')),\n",
              "                                ('num', StandardScaler(),\n",
              "                                 Index(['trip_distance', 'pickup_longitude', 'pickup_latitude',\n",
              "       'dropoff_longitude', 'dropoff_latitude', 'fare_amount', 'total_amount',\n",
              "       'tip_amount', 'tolls_amount', 'extra', 'mta_tax', 'time_of_day',\n",
              "       'ave_speed'],\n",
              "      dtype='object')),\n",
              "                                ('cat', OrdinalEncoder(),\n",
              "                                 Index(['day_of_week'], dtype='object'))])"
            ]
          },
          "metadata": {
            "tags": []
          },
          "execution_count": 29
        }
      ]
    },
    {
      "cell_type": "markdown",
      "metadata": {
        "id": "CkhP7lCSQjhT"
      },
      "source": [
        "# Build and Train Models"
      ]
    },
    {
      "cell_type": "markdown",
      "metadata": {
        "id": "XPp3eiZe9SHE"
      },
      "source": [
        "## Linear Regression Model"
      ]
    },
    {
      "cell_type": "markdown",
      "metadata": {
        "id": "xGxdRFkY8XyG"
      },
      "source": [
        "### Without ploynomial Features"
      ]
    },
    {
      "cell_type": "code",
      "metadata": {
        "id": "6aNbMYKQ9z-3"
      },
      "source": [
        "from sklearn.linear_model import LinearRegression, Lasso, Ridge"
      ],
      "execution_count": 30,
      "outputs": []
    },
    {
      "cell_type": "code",
      "metadata": {
        "id": "F9WVOZJnFWim"
      },
      "source": [
        "errors = list()\n",
        "scores = list()"
      ],
      "execution_count": 31,
      "outputs": []
    },
    {
      "cell_type": "code",
      "metadata": {
        "colab": {
          "base_uri": "https://localhost:8080/",
          "height": 165
        },
        "id": "2zyoUoM77kM6",
        "outputId": "15697eb4-04e3-4bd8-e5c9-936869fa8d8c"
      },
      "source": [
        "# Without ploynomial Features\n",
        "lr_estimator = Pipeline([('preparation', transformer1), \n",
        "                     ('model', LinearRegression(n_jobs=-1))\n",
        "                     ])\n",
        "lr_estimator.fit(X_train, y_train)"
      ],
      "execution_count": 32,
      "outputs": [
        {
          "output_type": "execute_result",
          "data": {
            "text/html": [
              "<style>#sk-ffd4a29e-c85c-447e-be85-4f1ac521c9e1 {color: black;background-color: white;}#sk-ffd4a29e-c85c-447e-be85-4f1ac521c9e1 pre{padding: 0;}#sk-ffd4a29e-c85c-447e-be85-4f1ac521c9e1 div.sk-toggleable {background-color: white;}#sk-ffd4a29e-c85c-447e-be85-4f1ac521c9e1 label.sk-toggleable__label {cursor: pointer;display: block;width: 100%;margin-bottom: 0;padding: 0.2em 0.3em;box-sizing: border-box;text-align: center;}#sk-ffd4a29e-c85c-447e-be85-4f1ac521c9e1 div.sk-toggleable__content {max-height: 0;max-width: 0;overflow: hidden;text-align: left;background-color: #f0f8ff;}#sk-ffd4a29e-c85c-447e-be85-4f1ac521c9e1 div.sk-toggleable__content pre {margin: 0.2em;color: black;border-radius: 0.25em;background-color: #f0f8ff;}#sk-ffd4a29e-c85c-447e-be85-4f1ac521c9e1 input.sk-toggleable__control:checked~div.sk-toggleable__content {max-height: 200px;max-width: 100%;overflow: auto;}#sk-ffd4a29e-c85c-447e-be85-4f1ac521c9e1 div.sk-estimator input.sk-toggleable__control:checked~label.sk-toggleable__label {background-color: #d4ebff;}#sk-ffd4a29e-c85c-447e-be85-4f1ac521c9e1 div.sk-label input.sk-toggleable__control:checked~label.sk-toggleable__label {background-color: #d4ebff;}#sk-ffd4a29e-c85c-447e-be85-4f1ac521c9e1 input.sk-hidden--visually {border: 0;clip: rect(1px 1px 1px 1px);clip: rect(1px, 1px, 1px, 1px);height: 1px;margin: -1px;overflow: hidden;padding: 0;position: absolute;width: 1px;}#sk-ffd4a29e-c85c-447e-be85-4f1ac521c9e1 div.sk-estimator {font-family: monospace;background-color: #f0f8ff;margin: 0.25em 0.25em;border: 1px dotted black;border-radius: 0.25em;box-sizing: border-box;}#sk-ffd4a29e-c85c-447e-be85-4f1ac521c9e1 div.sk-estimator:hover {background-color: #d4ebff;}#sk-ffd4a29e-c85c-447e-be85-4f1ac521c9e1 div.sk-parallel-item::after {content: \"\";width: 100%;border-bottom: 1px solid gray;flex-grow: 1;}#sk-ffd4a29e-c85c-447e-be85-4f1ac521c9e1 div.sk-label:hover label.sk-toggleable__label {background-color: #d4ebff;}#sk-ffd4a29e-c85c-447e-be85-4f1ac521c9e1 div.sk-serial::before {content: \"\";position: absolute;border-left: 1px solid gray;box-sizing: border-box;top: 2em;bottom: 0;left: 50%;}#sk-ffd4a29e-c85c-447e-be85-4f1ac521c9e1 div.sk-serial {display: flex;flex-direction: column;align-items: center;background-color: white;}#sk-ffd4a29e-c85c-447e-be85-4f1ac521c9e1 div.sk-item {z-index: 1;}#sk-ffd4a29e-c85c-447e-be85-4f1ac521c9e1 div.sk-parallel {display: flex;align-items: stretch;justify-content: center;background-color: white;}#sk-ffd4a29e-c85c-447e-be85-4f1ac521c9e1 div.sk-parallel-item {display: flex;flex-direction: column;position: relative;background-color: white;}#sk-ffd4a29e-c85c-447e-be85-4f1ac521c9e1 div.sk-parallel-item:first-child::after {align-self: flex-end;width: 50%;}#sk-ffd4a29e-c85c-447e-be85-4f1ac521c9e1 div.sk-parallel-item:last-child::after {align-self: flex-start;width: 50%;}#sk-ffd4a29e-c85c-447e-be85-4f1ac521c9e1 div.sk-parallel-item:only-child::after {width: 0;}#sk-ffd4a29e-c85c-447e-be85-4f1ac521c9e1 div.sk-dashed-wrapped {border: 1px dashed gray;margin: 0.2em;box-sizing: border-box;padding-bottom: 0.1em;background-color: white;position: relative;}#sk-ffd4a29e-c85c-447e-be85-4f1ac521c9e1 div.sk-label label {font-family: monospace;font-weight: bold;background-color: white;display: inline-block;line-height: 1.2em;}#sk-ffd4a29e-c85c-447e-be85-4f1ac521c9e1 div.sk-label-container {position: relative;z-index: 2;text-align: center;}#sk-ffd4a29e-c85c-447e-be85-4f1ac521c9e1 div.sk-container {display: inline-block;position: relative;}</style><div id=\"sk-ffd4a29e-c85c-447e-be85-4f1ac521c9e1\" class\"sk-top-container\"><div class=\"sk-container\"><div class=\"sk-item sk-dashed-wrapped\"><div class=\"sk-label-container\"><div class=\"sk-label sk-toggleable\"><input class=\"sk-toggleable__control sk-hidden--visually\" id=\"07b6285b-5366-4b54-8c5a-41f98f3cafca\" type=\"checkbox\" ><label class=\"sk-toggleable__label\" for=\"07b6285b-5366-4b54-8c5a-41f98f3cafca\">Pipeline</label><div class=\"sk-toggleable__content\"><pre>Pipeline(steps=[('preparation',\n",
              "                 ColumnTransformer(transformers=[('num', StandardScaler(),\n",
              "                                                  Index(['trip_distance', 'pickup_longitude', 'pickup_latitude',\n",
              "       'dropoff_longitude', 'dropoff_latitude', 'fare_amount', 'total_amount',\n",
              "       'tip_amount', 'tolls_amount', 'extra', 'mta_tax', 'time_of_day',\n",
              "       'ave_speed'],\n",
              "      dtype='object')),\n",
              "                                                 ('cat', OrdinalEncoder(),\n",
              "                                                  Index(['day_of_week'], dtype='object'))])),\n",
              "                ('model', LinearRegression(n_jobs=-1))])</pre></div></div></div><div class=\"sk-serial\"><div class=\"sk-item sk-dashed-wrapped\"><div class=\"sk-label-container\"><div class=\"sk-label sk-toggleable\"><input class=\"sk-toggleable__control sk-hidden--visually\" id=\"b95923e9-4726-40f4-b471-a00434b3ca73\" type=\"checkbox\" ><label class=\"sk-toggleable__label\" for=\"b95923e9-4726-40f4-b471-a00434b3ca73\">preparation: ColumnTransformer</label><div class=\"sk-toggleable__content\"><pre>ColumnTransformer(transformers=[('num', StandardScaler(),\n",
              "                                 Index(['trip_distance', 'pickup_longitude', 'pickup_latitude',\n",
              "       'dropoff_longitude', 'dropoff_latitude', 'fare_amount', 'total_amount',\n",
              "       'tip_amount', 'tolls_amount', 'extra', 'mta_tax', 'time_of_day',\n",
              "       'ave_speed'],\n",
              "      dtype='object')),\n",
              "                                ('cat', OrdinalEncoder(),\n",
              "                                 Index(['day_of_week'], dtype='object'))])</pre></div></div></div><div class=\"sk-parallel\"><div class=\"sk-parallel-item\"><div class=\"sk-item\"><div class=\"sk-label-container\"><div class=\"sk-label sk-toggleable\"><input class=\"sk-toggleable__control sk-hidden--visually\" id=\"ddd16245-75ac-4d35-99b8-d045702111d2\" type=\"checkbox\" ><label class=\"sk-toggleable__label\" for=\"ddd16245-75ac-4d35-99b8-d045702111d2\">num</label><div class=\"sk-toggleable__content\"><pre>Index(['trip_distance', 'pickup_longitude', 'pickup_latitude',\n",
              "       'dropoff_longitude', 'dropoff_latitude', 'fare_amount', 'total_amount',\n",
              "       'tip_amount', 'tolls_amount', 'extra', 'mta_tax', 'time_of_day',\n",
              "       'ave_speed'],\n",
              "      dtype='object')</pre></div></div></div><div class=\"sk-serial\"><div class=\"sk-item\"><div class=\"sk-estimator sk-toggleable\"><input class=\"sk-toggleable__control sk-hidden--visually\" id=\"33f4e4b6-2b27-4b84-b495-1f89b13570f0\" type=\"checkbox\" ><label class=\"sk-toggleable__label\" for=\"33f4e4b6-2b27-4b84-b495-1f89b13570f0\">StandardScaler</label><div class=\"sk-toggleable__content\"><pre>StandardScaler()</pre></div></div></div></div></div></div><div class=\"sk-parallel-item\"><div class=\"sk-item\"><div class=\"sk-label-container\"><div class=\"sk-label sk-toggleable\"><input class=\"sk-toggleable__control sk-hidden--visually\" id=\"0c35e185-0249-4ad6-b4e3-1f105968e39b\" type=\"checkbox\" ><label class=\"sk-toggleable__label\" for=\"0c35e185-0249-4ad6-b4e3-1f105968e39b\">cat</label><div class=\"sk-toggleable__content\"><pre>Index(['day_of_week'], dtype='object')</pre></div></div></div><div class=\"sk-serial\"><div class=\"sk-item\"><div class=\"sk-estimator sk-toggleable\"><input class=\"sk-toggleable__control sk-hidden--visually\" id=\"14b44964-5c8d-4fe0-a3ff-35e9638e15c7\" type=\"checkbox\" ><label class=\"sk-toggleable__label\" for=\"14b44964-5c8d-4fe0-a3ff-35e9638e15c7\">OrdinalEncoder</label><div class=\"sk-toggleable__content\"><pre>OrdinalEncoder()</pre></div></div></div></div></div></div></div></div><div class=\"sk-item\"><div class=\"sk-estimator sk-toggleable\"><input class=\"sk-toggleable__control sk-hidden--visually\" id=\"768dfca5-e0b0-428a-860b-59ed96e7b8f1\" type=\"checkbox\" ><label class=\"sk-toggleable__label\" for=\"768dfca5-e0b0-428a-860b-59ed96e7b8f1\">LinearRegression</label><div class=\"sk-toggleable__content\"><pre>LinearRegression(n_jobs=-1)</pre></div></div></div></div></div></div></div>"
            ],
            "text/plain": [
              "Pipeline(steps=[('preparation',\n",
              "                 ColumnTransformer(transformers=[('num', StandardScaler(),\n",
              "                                                  Index(['trip_distance', 'pickup_longitude', 'pickup_latitude',\n",
              "       'dropoff_longitude', 'dropoff_latitude', 'fare_amount', 'total_amount',\n",
              "       'tip_amount', 'tolls_amount', 'extra', 'mta_tax', 'time_of_day',\n",
              "       'ave_speed'],\n",
              "      dtype='object')),\n",
              "                                                 ('cat', OrdinalEncoder(),\n",
              "                                                  Index(['day_of_week'], dtype='object'))])),\n",
              "                ('model', LinearRegression(n_jobs=-1))])"
            ]
          },
          "metadata": {
            "tags": []
          },
          "execution_count": 32
        }
      ]
    },
    {
      "cell_type": "code",
      "metadata": {
        "colab": {
          "base_uri": "https://localhost:8080/",
          "height": 488
        },
        "id": "EBeVTLLnQ33K",
        "outputId": "e5ff5bf2-7232-44a7-f069-b77f7c38bbef"
      },
      "source": [
        "df_importances = pd.DataFrame(zip(np.array(X.columns.to_list()),\n",
        "                 lr_estimator.named_steps[\"model\"].coef_[0],\n",
        "))\n",
        "df_importances = df_importances.sort_values(by=1).rename(columns={0:'feature', 1:'value'})\n",
        "df_importances"
      ],
      "execution_count": 33,
      "outputs": [
        {
          "output_type": "execute_result",
          "data": {
            "text/html": [
              "<div>\n",
              "<style scoped>\n",
              "    .dataframe tbody tr th:only-of-type {\n",
              "        vertical-align: middle;\n",
              "    }\n",
              "\n",
              "    .dataframe tbody tr th {\n",
              "        vertical-align: top;\n",
              "    }\n",
              "\n",
              "    .dataframe thead th {\n",
              "        text-align: right;\n",
              "    }\n",
              "</style>\n",
              "<table border=\"1\" class=\"dataframe\">\n",
              "  <thead>\n",
              "    <tr style=\"text-align: right;\">\n",
              "      <th></th>\n",
              "      <th>feature</th>\n",
              "      <th>value</th>\n",
              "    </tr>\n",
              "  </thead>\n",
              "  <tbody>\n",
              "    <tr>\n",
              "      <th>6</th>\n",
              "      <td>total_amount</td>\n",
              "      <td>-1.398373e+03</td>\n",
              "    </tr>\n",
              "    <tr>\n",
              "      <th>12</th>\n",
              "      <td>day_of_week</td>\n",
              "      <td>-3.851666e+00</td>\n",
              "    </tr>\n",
              "    <tr>\n",
              "      <th>0</th>\n",
              "      <td>trip_distance</td>\n",
              "      <td>-7.113865e-01</td>\n",
              "    </tr>\n",
              "    <tr>\n",
              "      <th>1</th>\n",
              "      <td>pickup_longitude</td>\n",
              "      <td>-3.328864e-01</td>\n",
              "    </tr>\n",
              "    <tr>\n",
              "      <th>3</th>\n",
              "      <td>dropoff_longitude</td>\n",
              "      <td>-3.149064e-01</td>\n",
              "    </tr>\n",
              "    <tr>\n",
              "      <th>11</th>\n",
              "      <td>time_of_day</td>\n",
              "      <td>-1.243346e-01</td>\n",
              "    </tr>\n",
              "    <tr>\n",
              "      <th>10</th>\n",
              "      <td>mta_tax</td>\n",
              "      <td>1.459604e-07</td>\n",
              "    </tr>\n",
              "    <tr>\n",
              "      <th>13</th>\n",
              "      <td>ave_speed</td>\n",
              "      <td>3.052545e-03</td>\n",
              "    </tr>\n",
              "    <tr>\n",
              "      <th>4</th>\n",
              "      <td>dropoff_latitude</td>\n",
              "      <td>1.899052e-01</td>\n",
              "    </tr>\n",
              "    <tr>\n",
              "      <th>2</th>\n",
              "      <td>pickup_latitude</td>\n",
              "      <td>2.549188e-01</td>\n",
              "    </tr>\n",
              "    <tr>\n",
              "      <th>9</th>\n",
              "      <td>extra</td>\n",
              "      <td>4.224087e+01</td>\n",
              "    </tr>\n",
              "    <tr>\n",
              "      <th>8</th>\n",
              "      <td>tolls_amount</td>\n",
              "      <td>1.414237e+02</td>\n",
              "    </tr>\n",
              "    <tr>\n",
              "      <th>7</th>\n",
              "      <td>tip_amount</td>\n",
              "      <td>2.632174e+02</td>\n",
              "    </tr>\n",
              "    <tr>\n",
              "      <th>5</th>\n",
              "      <td>fare_amount</td>\n",
              "      <td>1.154449e+03</td>\n",
              "    </tr>\n",
              "  </tbody>\n",
              "</table>\n",
              "</div>"
            ],
            "text/plain": [
              "              feature         value\n",
              "6        total_amount -1.398373e+03\n",
              "12        day_of_week -3.851666e+00\n",
              "0       trip_distance -7.113865e-01\n",
              "1    pickup_longitude -3.328864e-01\n",
              "3   dropoff_longitude -3.149064e-01\n",
              "11        time_of_day -1.243346e-01\n",
              "10            mta_tax  1.459604e-07\n",
              "13          ave_speed  3.052545e-03\n",
              "4    dropoff_latitude  1.899052e-01\n",
              "2     pickup_latitude  2.549188e-01\n",
              "9               extra  4.224087e+01\n",
              "8        tolls_amount  1.414237e+02\n",
              "7          tip_amount  2.632174e+02\n",
              "5         fare_amount  1.154449e+03"
            ]
          },
          "metadata": {
            "tags": []
          },
          "execution_count": 33
        }
      ]
    },
    {
      "cell_type": "code",
      "metadata": {
        "colab": {
          "base_uri": "https://localhost:8080/",
          "height": 542
        },
        "id": "dY3O3U6nMHNI",
        "outputId": "f01fcc39-cabe-4942-edb6-99841212f42e"
      },
      "source": [
        "width=750\n",
        "height=None\n",
        "orientation='h'\n",
        "display_imp_value_decimals=1\n",
        "yaxes_tickfont_family='Courier New'\n",
        "yaxes_tickfont_size=15\n",
        "text = df_importances.value.round(1)\n",
        "title_text = f'Top {len(df_importances)} Feature Importances'\n",
        "fig = px.bar(df_importances, \n",
        "            x='value', \n",
        "            y='feature',\n",
        "            orientation=orientation, \n",
        "            width=width, \n",
        "            height=height,\n",
        "             text=text)\n",
        "fig.update_layout(title_text=title_text, title_x=0.5) \n",
        "fig.update(layout_showlegend=False)\n",
        "fig.update_yaxes(tickfont=dict(family=yaxes_tickfont_family, \n",
        "                                size=yaxes_tickfont_size),\n",
        "                    title='')\n",
        "fig.show()"
      ],
      "execution_count": 34,
      "outputs": [
        {
          "output_type": "display_data",
          "data": {
            "text/html": [
              "<html>\n",
              "<head><meta charset=\"utf-8\" /></head>\n",
              "<body>\n",
              "    <div>\n",
              "            <script src=\"https://cdnjs.cloudflare.com/ajax/libs/mathjax/2.7.5/MathJax.js?config=TeX-AMS-MML_SVG\"></script><script type=\"text/javascript\">if (window.MathJax) {MathJax.Hub.Config({SVG: {font: \"STIX-Web\"}});}</script>\n",
              "                <script type=\"text/javascript\">window.PlotlyConfig = {MathJaxConfig: 'local'};</script>\n",
              "        <script src=\"https://cdn.plot.ly/plotly-latest.min.js\"></script>    \n",
              "            <div id=\"1e10ffa4-0685-405d-a4bb-ea8b957eb304\" class=\"plotly-graph-div\" style=\"height:525px; width:750px;\"></div>\n",
              "            <script type=\"text/javascript\">\n",
              "                \n",
              "                    window.PLOTLYENV=window.PLOTLYENV || {};\n",
              "                    \n",
              "                if (document.getElementById(\"1e10ffa4-0685-405d-a4bb-ea8b957eb304\")) {\n",
              "                    Plotly.newPlot(\n",
              "                        '1e10ffa4-0685-405d-a4bb-ea8b957eb304',\n",
              "                        [{\"alignmentgroup\": \"True\", \"hoverlabel\": {\"namelength\": 0}, \"hovertemplate\": \"value=%{x}<br>feature=%{y}<br>text=%{text}\", \"legendgroup\": \"\", \"marker\": {\"color\": \"#636efa\"}, \"name\": \"\", \"offsetgroup\": \"\", \"orientation\": \"h\", \"showlegend\": false, \"text\": [-1398.4, -3.9, -0.7, -0.3, -0.3, -0.1, 0.0, 0.0, 0.2, 0.3, 42.2, 141.4, 263.2, 1154.4], \"textposition\": \"auto\", \"type\": \"bar\", \"x\": [-1398.3734873295389, -3.8516656274417485, -0.7113865254039684, -0.3328864249517043, -0.31490638600249254, -0.1243345506921032, 1.459603566900114e-07, 0.0030525451452179664, 0.18990517596718748, 0.2549188486152848, 42.240869049537736, 141.42372035646386, 263.2174471787701, 1154.448756605542], \"xaxis\": \"x\", \"y\": [\"total_amount\", \"day_of_week\", \"trip_distance\", \"pickup_longitude\", \"dropoff_longitude\", \"time_of_day\", \"mta_tax\", \"ave_speed\", \"dropoff_latitude\", \"pickup_latitude\", \"extra\", \"tolls_amount\", \"tip_amount\", \"fare_amount\"], \"yaxis\": \"y\"}],\n",
              "                        {\"barmode\": \"relative\", \"legend\": {\"tracegroupgap\": 0}, \"margin\": {\"t\": 60}, \"showlegend\": false, \"template\": {\"data\": {\"bar\": [{\"error_x\": {\"color\": \"#2a3f5f\"}, \"error_y\": {\"color\": \"#2a3f5f\"}, \"marker\": {\"line\": {\"color\": \"#E5ECF6\", \"width\": 0.5}}, \"type\": \"bar\"}], \"barpolar\": [{\"marker\": {\"line\": {\"color\": \"#E5ECF6\", \"width\": 0.5}}, \"type\": \"barpolar\"}], \"carpet\": [{\"aaxis\": {\"endlinecolor\": \"#2a3f5f\", \"gridcolor\": \"white\", \"linecolor\": \"white\", \"minorgridcolor\": \"white\", \"startlinecolor\": \"#2a3f5f\"}, \"baxis\": {\"endlinecolor\": \"#2a3f5f\", \"gridcolor\": \"white\", \"linecolor\": \"white\", \"minorgridcolor\": \"white\", \"startlinecolor\": \"#2a3f5f\"}, \"type\": \"carpet\"}], \"choropleth\": [{\"colorbar\": {\"outlinewidth\": 0, \"ticks\": \"\"}, \"type\": \"choropleth\"}], \"contour\": [{\"colorbar\": {\"outlinewidth\": 0, \"ticks\": \"\"}, \"colorscale\": [[0.0, \"#0d0887\"], [0.1111111111111111, \"#46039f\"], [0.2222222222222222, \"#7201a8\"], [0.3333333333333333, \"#9c179e\"], [0.4444444444444444, \"#bd3786\"], [0.5555555555555556, \"#d8576b\"], [0.6666666666666666, \"#ed7953\"], [0.7777777777777778, \"#fb9f3a\"], [0.8888888888888888, \"#fdca26\"], [1.0, \"#f0f921\"]], \"type\": \"contour\"}], \"contourcarpet\": [{\"colorbar\": {\"outlinewidth\": 0, \"ticks\": \"\"}, \"type\": \"contourcarpet\"}], \"heatmap\": [{\"colorbar\": {\"outlinewidth\": 0, \"ticks\": \"\"}, \"colorscale\": [[0.0, \"#0d0887\"], [0.1111111111111111, \"#46039f\"], [0.2222222222222222, \"#7201a8\"], [0.3333333333333333, \"#9c179e\"], [0.4444444444444444, \"#bd3786\"], [0.5555555555555556, \"#d8576b\"], [0.6666666666666666, \"#ed7953\"], [0.7777777777777778, \"#fb9f3a\"], [0.8888888888888888, \"#fdca26\"], [1.0, \"#f0f921\"]], \"type\": \"heatmap\"}], \"heatmapgl\": [{\"colorbar\": {\"outlinewidth\": 0, \"ticks\": \"\"}, \"colorscale\": [[0.0, \"#0d0887\"], [0.1111111111111111, \"#46039f\"], [0.2222222222222222, \"#7201a8\"], [0.3333333333333333, \"#9c179e\"], [0.4444444444444444, \"#bd3786\"], [0.5555555555555556, \"#d8576b\"], [0.6666666666666666, \"#ed7953\"], [0.7777777777777778, \"#fb9f3a\"], [0.8888888888888888, \"#fdca26\"], [1.0, \"#f0f921\"]], \"type\": \"heatmapgl\"}], \"histogram\": [{\"marker\": {\"colorbar\": {\"outlinewidth\": 0, \"ticks\": \"\"}}, \"type\": \"histogram\"}], \"histogram2d\": [{\"colorbar\": {\"outlinewidth\": 0, \"ticks\": \"\"}, \"colorscale\": [[0.0, \"#0d0887\"], [0.1111111111111111, \"#46039f\"], [0.2222222222222222, \"#7201a8\"], [0.3333333333333333, \"#9c179e\"], [0.4444444444444444, \"#bd3786\"], [0.5555555555555556, \"#d8576b\"], [0.6666666666666666, \"#ed7953\"], [0.7777777777777778, \"#fb9f3a\"], [0.8888888888888888, \"#fdca26\"], [1.0, \"#f0f921\"]], \"type\": \"histogram2d\"}], \"histogram2dcontour\": [{\"colorbar\": {\"outlinewidth\": 0, \"ticks\": \"\"}, \"colorscale\": [[0.0, \"#0d0887\"], [0.1111111111111111, \"#46039f\"], [0.2222222222222222, \"#7201a8\"], [0.3333333333333333, \"#9c179e\"], [0.4444444444444444, \"#bd3786\"], [0.5555555555555556, \"#d8576b\"], [0.6666666666666666, \"#ed7953\"], [0.7777777777777778, \"#fb9f3a\"], [0.8888888888888888, \"#fdca26\"], [1.0, \"#f0f921\"]], \"type\": \"histogram2dcontour\"}], \"mesh3d\": [{\"colorbar\": {\"outlinewidth\": 0, \"ticks\": \"\"}, \"type\": \"mesh3d\"}], \"parcoords\": [{\"line\": {\"colorbar\": {\"outlinewidth\": 0, \"ticks\": \"\"}}, \"type\": \"parcoords\"}], \"pie\": [{\"automargin\": true, \"type\": \"pie\"}], \"scatter\": [{\"marker\": {\"colorbar\": {\"outlinewidth\": 0, \"ticks\": \"\"}}, \"type\": \"scatter\"}], \"scatter3d\": [{\"line\": {\"colorbar\": {\"outlinewidth\": 0, \"ticks\": \"\"}}, \"marker\": {\"colorbar\": {\"outlinewidth\": 0, \"ticks\": \"\"}}, \"type\": \"scatter3d\"}], \"scattercarpet\": [{\"marker\": {\"colorbar\": {\"outlinewidth\": 0, \"ticks\": \"\"}}, \"type\": \"scattercarpet\"}], \"scattergeo\": [{\"marker\": {\"colorbar\": {\"outlinewidth\": 0, \"ticks\": \"\"}}, \"type\": \"scattergeo\"}], \"scattergl\": [{\"marker\": {\"colorbar\": {\"outlinewidth\": 0, \"ticks\": \"\"}}, \"type\": \"scattergl\"}], \"scattermapbox\": [{\"marker\": {\"colorbar\": {\"outlinewidth\": 0, \"ticks\": \"\"}}, \"type\": \"scattermapbox\"}], \"scatterpolar\": [{\"marker\": {\"colorbar\": {\"outlinewidth\": 0, \"ticks\": \"\"}}, \"type\": \"scatterpolar\"}], \"scatterpolargl\": [{\"marker\": {\"colorbar\": {\"outlinewidth\": 0, \"ticks\": \"\"}}, \"type\": \"scatterpolargl\"}], \"scatterternary\": [{\"marker\": {\"colorbar\": {\"outlinewidth\": 0, \"ticks\": \"\"}}, \"type\": \"scatterternary\"}], \"surface\": [{\"colorbar\": {\"outlinewidth\": 0, \"ticks\": \"\"}, \"colorscale\": [[0.0, \"#0d0887\"], [0.1111111111111111, \"#46039f\"], [0.2222222222222222, \"#7201a8\"], [0.3333333333333333, \"#9c179e\"], [0.4444444444444444, \"#bd3786\"], [0.5555555555555556, \"#d8576b\"], [0.6666666666666666, \"#ed7953\"], [0.7777777777777778, \"#fb9f3a\"], [0.8888888888888888, \"#fdca26\"], [1.0, \"#f0f921\"]], \"type\": \"surface\"}], \"table\": [{\"cells\": {\"fill\": {\"color\": \"#EBF0F8\"}, \"line\": {\"color\": \"white\"}}, \"header\": {\"fill\": {\"color\": \"#C8D4E3\"}, \"line\": {\"color\": \"white\"}}, \"type\": \"table\"}]}, \"layout\": {\"annotationdefaults\": {\"arrowcolor\": \"#2a3f5f\", \"arrowhead\": 0, \"arrowwidth\": 1}, \"coloraxis\": {\"colorbar\": {\"outlinewidth\": 0, \"ticks\": \"\"}}, \"colorscale\": {\"diverging\": [[0, \"#8e0152\"], [0.1, \"#c51b7d\"], [0.2, \"#de77ae\"], [0.3, \"#f1b6da\"], [0.4, \"#fde0ef\"], [0.5, \"#f7f7f7\"], [0.6, \"#e6f5d0\"], [0.7, \"#b8e186\"], [0.8, \"#7fbc41\"], [0.9, \"#4d9221\"], [1, \"#276419\"]], \"sequential\": [[0.0, \"#0d0887\"], [0.1111111111111111, \"#46039f\"], [0.2222222222222222, \"#7201a8\"], [0.3333333333333333, \"#9c179e\"], [0.4444444444444444, \"#bd3786\"], [0.5555555555555556, \"#d8576b\"], [0.6666666666666666, \"#ed7953\"], [0.7777777777777778, \"#fb9f3a\"], [0.8888888888888888, \"#fdca26\"], [1.0, \"#f0f921\"]], \"sequentialminus\": [[0.0, \"#0d0887\"], [0.1111111111111111, \"#46039f\"], [0.2222222222222222, \"#7201a8\"], [0.3333333333333333, \"#9c179e\"], [0.4444444444444444, \"#bd3786\"], [0.5555555555555556, \"#d8576b\"], [0.6666666666666666, \"#ed7953\"], [0.7777777777777778, \"#fb9f3a\"], [0.8888888888888888, \"#fdca26\"], [1.0, \"#f0f921\"]]}, \"colorway\": [\"#636efa\", \"#EF553B\", \"#00cc96\", \"#ab63fa\", \"#FFA15A\", \"#19d3f3\", \"#FF6692\", \"#B6E880\", \"#FF97FF\", \"#FECB52\"], \"font\": {\"color\": \"#2a3f5f\"}, \"geo\": {\"bgcolor\": \"white\", \"lakecolor\": \"white\", \"landcolor\": \"#E5ECF6\", \"showlakes\": true, \"showland\": true, \"subunitcolor\": \"white\"}, \"hoverlabel\": {\"align\": \"left\"}, \"hovermode\": \"closest\", \"mapbox\": {\"style\": \"light\"}, \"paper_bgcolor\": \"white\", \"plot_bgcolor\": \"#E5ECF6\", \"polar\": {\"angularaxis\": {\"gridcolor\": \"white\", \"linecolor\": \"white\", \"ticks\": \"\"}, \"bgcolor\": \"#E5ECF6\", \"radialaxis\": {\"gridcolor\": \"white\", \"linecolor\": \"white\", \"ticks\": \"\"}}, \"scene\": {\"xaxis\": {\"backgroundcolor\": \"#E5ECF6\", \"gridcolor\": \"white\", \"gridwidth\": 2, \"linecolor\": \"white\", \"showbackground\": true, \"ticks\": \"\", \"zerolinecolor\": \"white\"}, \"yaxis\": {\"backgroundcolor\": \"#E5ECF6\", \"gridcolor\": \"white\", \"gridwidth\": 2, \"linecolor\": \"white\", \"showbackground\": true, \"ticks\": \"\", \"zerolinecolor\": \"white\"}, \"zaxis\": {\"backgroundcolor\": \"#E5ECF6\", \"gridcolor\": \"white\", \"gridwidth\": 2, \"linecolor\": \"white\", \"showbackground\": true, \"ticks\": \"\", \"zerolinecolor\": \"white\"}}, \"shapedefaults\": {\"line\": {\"color\": \"#2a3f5f\"}}, \"ternary\": {\"aaxis\": {\"gridcolor\": \"white\", \"linecolor\": \"white\", \"ticks\": \"\"}, \"baxis\": {\"gridcolor\": \"white\", \"linecolor\": \"white\", \"ticks\": \"\"}, \"bgcolor\": \"#E5ECF6\", \"caxis\": {\"gridcolor\": \"white\", \"linecolor\": \"white\", \"ticks\": \"\"}}, \"title\": {\"x\": 0.05}, \"xaxis\": {\"automargin\": true, \"gridcolor\": \"white\", \"linecolor\": \"white\", \"ticks\": \"\", \"title\": {\"standoff\": 15}, \"zerolinecolor\": \"white\", \"zerolinewidth\": 2}, \"yaxis\": {\"automargin\": true, \"gridcolor\": \"white\", \"linecolor\": \"white\", \"ticks\": \"\", \"title\": {\"standoff\": 15}, \"zerolinecolor\": \"white\", \"zerolinewidth\": 2}}}, \"title\": {\"text\": \"Top 14 Feature Importances\", \"x\": 0.5}, \"width\": 750, \"xaxis\": {\"anchor\": \"y\", \"domain\": [0.0, 1.0], \"title\": {\"text\": \"value\"}}, \"yaxis\": {\"anchor\": \"x\", \"domain\": [0.0, 1.0], \"tickfont\": {\"family\": \"Courier New\", \"size\": 15}, \"title\": {\"text\": \"\"}}},\n",
              "                        {\"responsive\": true}\n",
              "                    ).then(function(){\n",
              "                            \n",
              "var gd = document.getElementById('1e10ffa4-0685-405d-a4bb-ea8b957eb304');\n",
              "var x = new MutationObserver(function (mutations, observer) {{\n",
              "        var display = window.getComputedStyle(gd).display;\n",
              "        if (!display || display === 'none') {{\n",
              "            console.log([gd, 'removed!']);\n",
              "            Plotly.purge(gd);\n",
              "            observer.disconnect();\n",
              "        }}\n",
              "}});\n",
              "\n",
              "// Listen for the removal of the full notebook cells\n",
              "var notebookContainer = gd.closest('#notebook-container');\n",
              "if (notebookContainer) {{\n",
              "    x.observe(notebookContainer, {childList: true});\n",
              "}}\n",
              "\n",
              "// Listen for the clearing of the current output cell\n",
              "var outputEl = gd.closest('.output');\n",
              "if (outputEl) {{\n",
              "    x.observe(outputEl, {childList: true});\n",
              "}}\n",
              "\n",
              "                        })\n",
              "                };\n",
              "                \n",
              "            </script>\n",
              "        </div>\n",
              "</body>\n",
              "</html>"
            ]
          },
          "metadata": {
            "tags": []
          }
        }
      ]
    },
    {
      "cell_type": "code",
      "metadata": {
        "id": "k9MgNYPeFk_g"
      },
      "source": [
        "# predict\n",
        "y_train_pred = lr_estimator.predict(X_train)\n",
        "y_val_pred = lr_estimator.predict(X_val)\n",
        "y_test_pred = lr_estimator.predict(X_test)\n",
        "\n",
        "errors.append(pd.Series({'train': r2_score(y_train_pred, y_train),\n",
        "           'val': r2_score(y_val_pred, y_val),\n",
        "           'test' : r2_score(y_test_pred, y_test)},\n",
        "          name='score_without_poly'))\n",
        "\n",
        "errors.append(pd.Series({'train': mean_squared_error(y_train, y_train_pred, squared=False),\n",
        "           'val': mean_squared_error(y_val_pred, y_val, squared=False),\n",
        "           'test' : mean_squared_error(y_test,  y_test_pred, squared=False)},\n",
        "          name='rmse_without_poly'))"
      ],
      "execution_count": 35,
      "outputs": []
    },
    {
      "cell_type": "markdown",
      "metadata": {
        "id": "DazANwxTPsLw"
      },
      "source": [
        "### With ploynomial Features"
      ]
    },
    {
      "cell_type": "code",
      "metadata": {
        "colab": {
          "base_uri": "https://localhost:8080/",
          "height": 165
        },
        "id": "gfxjHPjwFsTD",
        "outputId": "543439ca-d0f0-4bdd-8d41-719ca53e0636"
      },
      "source": [
        "# With ploynomial Features\n",
        "lr_estimator = Pipeline([('preparation', transformer2), \n",
        "                     ('model', LinearRegression(n_jobs=-1))\n",
        "                     ])\n",
        "lr_estimator.fit(X_train, y_train)"
      ],
      "execution_count": 36,
      "outputs": [
        {
          "output_type": "execute_result",
          "data": {
            "text/html": [
              "<style>#sk-3e86d0a8-3844-47c8-afc8-b382db0970df {color: black;background-color: white;}#sk-3e86d0a8-3844-47c8-afc8-b382db0970df pre{padding: 0;}#sk-3e86d0a8-3844-47c8-afc8-b382db0970df div.sk-toggleable {background-color: white;}#sk-3e86d0a8-3844-47c8-afc8-b382db0970df label.sk-toggleable__label {cursor: pointer;display: block;width: 100%;margin-bottom: 0;padding: 0.2em 0.3em;box-sizing: border-box;text-align: center;}#sk-3e86d0a8-3844-47c8-afc8-b382db0970df div.sk-toggleable__content {max-height: 0;max-width: 0;overflow: hidden;text-align: left;background-color: #f0f8ff;}#sk-3e86d0a8-3844-47c8-afc8-b382db0970df div.sk-toggleable__content pre {margin: 0.2em;color: black;border-radius: 0.25em;background-color: #f0f8ff;}#sk-3e86d0a8-3844-47c8-afc8-b382db0970df input.sk-toggleable__control:checked~div.sk-toggleable__content {max-height: 200px;max-width: 100%;overflow: auto;}#sk-3e86d0a8-3844-47c8-afc8-b382db0970df div.sk-estimator input.sk-toggleable__control:checked~label.sk-toggleable__label {background-color: #d4ebff;}#sk-3e86d0a8-3844-47c8-afc8-b382db0970df div.sk-label input.sk-toggleable__control:checked~label.sk-toggleable__label {background-color: #d4ebff;}#sk-3e86d0a8-3844-47c8-afc8-b382db0970df input.sk-hidden--visually {border: 0;clip: rect(1px 1px 1px 1px);clip: rect(1px, 1px, 1px, 1px);height: 1px;margin: -1px;overflow: hidden;padding: 0;position: absolute;width: 1px;}#sk-3e86d0a8-3844-47c8-afc8-b382db0970df div.sk-estimator {font-family: monospace;background-color: #f0f8ff;margin: 0.25em 0.25em;border: 1px dotted black;border-radius: 0.25em;box-sizing: border-box;}#sk-3e86d0a8-3844-47c8-afc8-b382db0970df div.sk-estimator:hover {background-color: #d4ebff;}#sk-3e86d0a8-3844-47c8-afc8-b382db0970df div.sk-parallel-item::after {content: \"\";width: 100%;border-bottom: 1px solid gray;flex-grow: 1;}#sk-3e86d0a8-3844-47c8-afc8-b382db0970df div.sk-label:hover label.sk-toggleable__label {background-color: #d4ebff;}#sk-3e86d0a8-3844-47c8-afc8-b382db0970df div.sk-serial::before {content: \"\";position: absolute;border-left: 1px solid gray;box-sizing: border-box;top: 2em;bottom: 0;left: 50%;}#sk-3e86d0a8-3844-47c8-afc8-b382db0970df div.sk-serial {display: flex;flex-direction: column;align-items: center;background-color: white;}#sk-3e86d0a8-3844-47c8-afc8-b382db0970df div.sk-item {z-index: 1;}#sk-3e86d0a8-3844-47c8-afc8-b382db0970df div.sk-parallel {display: flex;align-items: stretch;justify-content: center;background-color: white;}#sk-3e86d0a8-3844-47c8-afc8-b382db0970df div.sk-parallel-item {display: flex;flex-direction: column;position: relative;background-color: white;}#sk-3e86d0a8-3844-47c8-afc8-b382db0970df div.sk-parallel-item:first-child::after {align-self: flex-end;width: 50%;}#sk-3e86d0a8-3844-47c8-afc8-b382db0970df div.sk-parallel-item:last-child::after {align-self: flex-start;width: 50%;}#sk-3e86d0a8-3844-47c8-afc8-b382db0970df div.sk-parallel-item:only-child::after {width: 0;}#sk-3e86d0a8-3844-47c8-afc8-b382db0970df div.sk-dashed-wrapped {border: 1px dashed gray;margin: 0.2em;box-sizing: border-box;padding-bottom: 0.1em;background-color: white;position: relative;}#sk-3e86d0a8-3844-47c8-afc8-b382db0970df div.sk-label label {font-family: monospace;font-weight: bold;background-color: white;display: inline-block;line-height: 1.2em;}#sk-3e86d0a8-3844-47c8-afc8-b382db0970df div.sk-label-container {position: relative;z-index: 2;text-align: center;}#sk-3e86d0a8-3844-47c8-afc8-b382db0970df div.sk-container {display: inline-block;position: relative;}</style><div id=\"sk-3e86d0a8-3844-47c8-afc8-b382db0970df\" class\"sk-top-container\"><div class=\"sk-container\"><div class=\"sk-item sk-dashed-wrapped\"><div class=\"sk-label-container\"><div class=\"sk-label sk-toggleable\"><input class=\"sk-toggleable__control sk-hidden--visually\" id=\"0e5696c5-6fd2-4f39-ab6c-91bd4bd35b68\" type=\"checkbox\" ><label class=\"sk-toggleable__label\" for=\"0e5696c5-6fd2-4f39-ab6c-91bd4bd35b68\">Pipeline</label><div class=\"sk-toggleable__content\"><pre>Pipeline(steps=[('preparation',\n",
              "                 ColumnTransformer(transformers=[('poly', PolynomialFeatures(),\n",
              "                                                  Index(['trip_distance', 'pickup_longitude', 'pickup_latitude',\n",
              "       'dropoff_longitude', 'dropoff_latitude', 'fare_amount', 'total_amount',\n",
              "       'tip_amount', 'tolls_amount', 'extra', 'mta_tax', 'time_of_day',\n",
              "       'ave_speed'],\n",
              "      dtype='object')),\n",
              "                                                 ('num', StandardScaler(),\n",
              "                                                  Index(['trip_distance', 'pickup_longitude', 'pickup_latitude',\n",
              "       'dropoff_longitude', 'dropoff_latitude', 'fare_amount', 'total_amount',\n",
              "       'tip_amount', 'tolls_amount', 'extra', 'mta_tax', 'time_of_day',\n",
              "       'ave_speed'],\n",
              "      dtype='object')),\n",
              "                                                 ('cat', OrdinalEncoder(),\n",
              "                                                  Index(['day_of_week'], dtype='object'))])),\n",
              "                ('model', LinearRegression(n_jobs=-1))])</pre></div></div></div><div class=\"sk-serial\"><div class=\"sk-item sk-dashed-wrapped\"><div class=\"sk-label-container\"><div class=\"sk-label sk-toggleable\"><input class=\"sk-toggleable__control sk-hidden--visually\" id=\"70dc486a-7b6d-4342-942c-3a446768f4d2\" type=\"checkbox\" ><label class=\"sk-toggleable__label\" for=\"70dc486a-7b6d-4342-942c-3a446768f4d2\">preparation: ColumnTransformer</label><div class=\"sk-toggleable__content\"><pre>ColumnTransformer(transformers=[('poly', PolynomialFeatures(),\n",
              "                                 Index(['trip_distance', 'pickup_longitude', 'pickup_latitude',\n",
              "       'dropoff_longitude', 'dropoff_latitude', 'fare_amount', 'total_amount',\n",
              "       'tip_amount', 'tolls_amount', 'extra', 'mta_tax', 'time_of_day',\n",
              "       'ave_speed'],\n",
              "      dtype='object')),\n",
              "                                ('num', StandardScaler(),\n",
              "                                 Index(['trip_distance', 'pickup_longitude', 'pickup_latitude',\n",
              "       'dropoff_longitude', 'dropoff_latitude', 'fare_amount', 'total_amount',\n",
              "       'tip_amount', 'tolls_amount', 'extra', 'mta_tax', 'time_of_day',\n",
              "       'ave_speed'],\n",
              "      dtype='object')),\n",
              "                                ('cat', OrdinalEncoder(),\n",
              "                                 Index(['day_of_week'], dtype='object'))])</pre></div></div></div><div class=\"sk-parallel\"><div class=\"sk-parallel-item\"><div class=\"sk-item\"><div class=\"sk-label-container\"><div class=\"sk-label sk-toggleable\"><input class=\"sk-toggleable__control sk-hidden--visually\" id=\"1a51dfce-3ee6-4251-82e9-fddce7df7b0b\" type=\"checkbox\" ><label class=\"sk-toggleable__label\" for=\"1a51dfce-3ee6-4251-82e9-fddce7df7b0b\">poly</label><div class=\"sk-toggleable__content\"><pre>Index(['trip_distance', 'pickup_longitude', 'pickup_latitude',\n",
              "       'dropoff_longitude', 'dropoff_latitude', 'fare_amount', 'total_amount',\n",
              "       'tip_amount', 'tolls_amount', 'extra', 'mta_tax', 'time_of_day',\n",
              "       'ave_speed'],\n",
              "      dtype='object')</pre></div></div></div><div class=\"sk-serial\"><div class=\"sk-item\"><div class=\"sk-estimator sk-toggleable\"><input class=\"sk-toggleable__control sk-hidden--visually\" id=\"e2997893-5b1e-4112-9cd4-92167ba5eba4\" type=\"checkbox\" ><label class=\"sk-toggleable__label\" for=\"e2997893-5b1e-4112-9cd4-92167ba5eba4\">PolynomialFeatures</label><div class=\"sk-toggleable__content\"><pre>PolynomialFeatures()</pre></div></div></div></div></div></div><div class=\"sk-parallel-item\"><div class=\"sk-item\"><div class=\"sk-label-container\"><div class=\"sk-label sk-toggleable\"><input class=\"sk-toggleable__control sk-hidden--visually\" id=\"7af3f75e-2fcd-491d-be0c-2c380910d86b\" type=\"checkbox\" ><label class=\"sk-toggleable__label\" for=\"7af3f75e-2fcd-491d-be0c-2c380910d86b\">num</label><div class=\"sk-toggleable__content\"><pre>Index(['trip_distance', 'pickup_longitude', 'pickup_latitude',\n",
              "       'dropoff_longitude', 'dropoff_latitude', 'fare_amount', 'total_amount',\n",
              "       'tip_amount', 'tolls_amount', 'extra', 'mta_tax', 'time_of_day',\n",
              "       'ave_speed'],\n",
              "      dtype='object')</pre></div></div></div><div class=\"sk-serial\"><div class=\"sk-item\"><div class=\"sk-estimator sk-toggleable\"><input class=\"sk-toggleable__control sk-hidden--visually\" id=\"7b7bb7d7-0259-41f4-8145-9737c2c07920\" type=\"checkbox\" ><label class=\"sk-toggleable__label\" for=\"7b7bb7d7-0259-41f4-8145-9737c2c07920\">StandardScaler</label><div class=\"sk-toggleable__content\"><pre>StandardScaler()</pre></div></div></div></div></div></div><div class=\"sk-parallel-item\"><div class=\"sk-item\"><div class=\"sk-label-container\"><div class=\"sk-label sk-toggleable\"><input class=\"sk-toggleable__control sk-hidden--visually\" id=\"5370b75d-62ee-4df3-9cf0-ab0581b1afb2\" type=\"checkbox\" ><label class=\"sk-toggleable__label\" for=\"5370b75d-62ee-4df3-9cf0-ab0581b1afb2\">cat</label><div class=\"sk-toggleable__content\"><pre>Index(['day_of_week'], dtype='object')</pre></div></div></div><div class=\"sk-serial\"><div class=\"sk-item\"><div class=\"sk-estimator sk-toggleable\"><input class=\"sk-toggleable__control sk-hidden--visually\" id=\"965c5445-7554-43c1-a555-979a3441a26a\" type=\"checkbox\" ><label class=\"sk-toggleable__label\" for=\"965c5445-7554-43c1-a555-979a3441a26a\">OrdinalEncoder</label><div class=\"sk-toggleable__content\"><pre>OrdinalEncoder()</pre></div></div></div></div></div></div></div></div><div class=\"sk-item\"><div class=\"sk-estimator sk-toggleable\"><input class=\"sk-toggleable__control sk-hidden--visually\" id=\"854e1815-d884-470d-9d78-590eb4bea712\" type=\"checkbox\" ><label class=\"sk-toggleable__label\" for=\"854e1815-d884-470d-9d78-590eb4bea712\">LinearRegression</label><div class=\"sk-toggleable__content\"><pre>LinearRegression(n_jobs=-1)</pre></div></div></div></div></div></div></div>"
            ],
            "text/plain": [
              "Pipeline(steps=[('preparation',\n",
              "                 ColumnTransformer(transformers=[('poly', PolynomialFeatures(),\n",
              "                                                  Index(['trip_distance', 'pickup_longitude', 'pickup_latitude',\n",
              "       'dropoff_longitude', 'dropoff_latitude', 'fare_amount', 'total_amount',\n",
              "       'tip_amount', 'tolls_amount', 'extra', 'mta_tax', 'time_of_day',\n",
              "       'ave_speed'],\n",
              "      dtype='object')),\n",
              "                                                 ('num', StandardScaler(),\n",
              "                                                  Index(['trip_distance', 'pickup_longitude', 'pickup_latitude',\n",
              "       'dropoff_longitude', 'dropoff_latitude', 'fare_amount', 'total_amount',\n",
              "       'tip_amount', 'tolls_amount', 'extra', 'mta_tax', 'time_of_day',\n",
              "       'ave_speed'],\n",
              "      dtype='object')),\n",
              "                                                 ('cat', OrdinalEncoder(),\n",
              "                                                  Index(['day_of_week'], dtype='object'))])),\n",
              "                ('model', LinearRegression(n_jobs=-1))])"
            ]
          },
          "metadata": {
            "tags": []
          },
          "execution_count": 36
        }
      ]
    },
    {
      "cell_type": "code",
      "metadata": {
        "id": "xLFcG6YwFy6a"
      },
      "source": [
        "# predict\n",
        "y_train_pred = lr_estimator.predict(X_train)\n",
        "y_val_pred = lr_estimator.predict(X_val)\n",
        "y_test_pred = lr_estimator.predict(X_test)\n",
        "\n",
        "errors.append(pd.Series({'train': r2_score(y_train_pred, y_train),\n",
        "           'val': r2_score(y_val_pred, y_val),\n",
        "           'test' : r2_score(y_test_pred, y_test)},\n",
        "          name='score_without_poly'))\n",
        "\n",
        "errors.append(pd.Series({'train': mean_squared_error(y_train, y_train_pred, squared=False),\n",
        "           'val': mean_squared_error(y_val_pred, y_val, squared=False),\n",
        "           'test' : mean_squared_error(y_test,  y_test_pred, squared=False)},\n",
        "          name='rmse_without_poly'))"
      ],
      "execution_count": 37,
      "outputs": []
    },
    {
      "cell_type": "code",
      "metadata": {
        "id": "w9VEtzf5F24X",
        "colab": {
          "base_uri": "https://localhost:8080/",
          "height": 143
        },
        "outputId": "6ddbe63e-d4a6-43b5-9dc7-5a0459f424a0"
      },
      "source": [
        "pd.concat(errors, axis=1)"
      ],
      "execution_count": 38,
      "outputs": [
        {
          "output_type": "execute_result",
          "data": {
            "text/html": [
              "<div>\n",
              "<style scoped>\n",
              "    .dataframe tbody tr th:only-of-type {\n",
              "        vertical-align: middle;\n",
              "    }\n",
              "\n",
              "    .dataframe tbody tr th {\n",
              "        vertical-align: top;\n",
              "    }\n",
              "\n",
              "    .dataframe thead th {\n",
              "        text-align: right;\n",
              "    }\n",
              "</style>\n",
              "<table border=\"1\" class=\"dataframe\">\n",
              "  <thead>\n",
              "    <tr style=\"text-align: right;\">\n",
              "      <th></th>\n",
              "      <th>score_without_poly</th>\n",
              "      <th>rmse_without_poly</th>\n",
              "      <th>score_without_poly</th>\n",
              "      <th>rmse_without_poly</th>\n",
              "    </tr>\n",
              "  </thead>\n",
              "  <tbody>\n",
              "    <tr>\n",
              "      <th>train</th>\n",
              "      <td>0.897868</td>\n",
              "      <td>3.275742</td>\n",
              "      <td>0.974855</td>\n",
              "      <td>1.685357</td>\n",
              "    </tr>\n",
              "    <tr>\n",
              "      <th>val</th>\n",
              "      <td>0.898042</td>\n",
              "      <td>3.263581</td>\n",
              "      <td>0.975426</td>\n",
              "      <td>1.663812</td>\n",
              "    </tr>\n",
              "    <tr>\n",
              "      <th>test</th>\n",
              "      <td>0.897641</td>\n",
              "      <td>3.277864</td>\n",
              "      <td>0.972906</td>\n",
              "      <td>1.750163</td>\n",
              "    </tr>\n",
              "  </tbody>\n",
              "</table>\n",
              "</div>"
            ],
            "text/plain": [
              "       score_without_poly  ...  rmse_without_poly\n",
              "train            0.897868  ...           1.685357\n",
              "val              0.898042  ...           1.663812\n",
              "test             0.897641  ...           1.750163\n",
              "\n",
              "[3 rows x 4 columns]"
            ]
          },
          "metadata": {
            "tags": []
          },
          "execution_count": 38
        }
      ]
    },
    {
      "cell_type": "code",
      "metadata": {
        "colab": {
          "base_uri": "https://localhost:8080/",
          "height": 376
        },
        "id": "hq6avVHbEFYA",
        "outputId": "78d61590-382d-417e-9fd3-27097d990301"
      },
      "source": [
        "import matplotlib.pyplot as plt\n",
        "import seaborn as sns\n",
        "%matplotlib inline\n",
        "\n",
        "\n",
        "sns.set_context('talk')\n",
        "sns.set_style('ticks')\n",
        "sns.set_palette('dark')\n",
        "\n",
        "ax = plt.axes()\n",
        "# we are going to use y_test, y_test_pred\n",
        "ax.scatter(y_test, y_test_pred, alpha=.5)\n",
        "\n",
        "ax.set(xlabel='Ground truth', \n",
        "       ylabel='Predictions',\n",
        "       title='Yellow taxi, Duration Predictions vs Truth, using Linear Regression')"
      ],
      "execution_count": 39,
      "outputs": [
        {
          "output_type": "execute_result",
          "data": {
            "text/plain": [
              "[Text(0, 0.5, 'Predictions'),\n",
              " Text(0.5, 0, 'Ground truth'),\n",
              " Text(0.5, 1.0, 'Yellow taxi, Duration Predictions vs Truth, using Linear Regression')]"
            ]
          },
          "metadata": {
            "tags": []
          },
          "execution_count": 39
        },
        {
          "output_type": "display_data",
          "data": {
            "image/png": "[encoded data removed]",
            "text/plain": [
              "<Figure size 432x288 with 1 Axes>"
            ]
          },
          "metadata": {
            "tags": []
          }
        }
      ]
    },
    {
      "cell_type": "code",
      "metadata": {
        "colab": {
          "base_uri": "https://localhost:8080/"
        },
        "id": "hFOmoti6Kcgr",
        "outputId": "95fadf6c-cdad-4694-adef-a88e9824825a"
      },
      "source": [
        "lr_estimator.named_steps.model.coef_.shape"
      ],
      "execution_count": 40,
      "outputs": [
        {
          "output_type": "execute_result",
          "data": {
            "text/plain": [
              "(1, 119)"
            ]
          },
          "metadata": {
            "tags": []
          },
          "execution_count": 40
        }
      ]
    },
    {
      "cell_type": "code",
      "metadata": {
        "colab": {
          "base_uri": "https://localhost:8080/"
        },
        "id": "1nlvV4bR_N0x",
        "outputId": "b6929aa8-7000-4423-83f4-f0d61fd62fb4"
      },
      "source": [
        "df_importances = pd.DataFrame(zip(lr_estimator.named_steps.preparation.named_transformers_.poly.get_feature_names(input_features=X.columns),\n",
        "                 lr_estimator.named_steps.model.coef_[0],\n",
        "))\n",
        "df_importances.shape"
      ],
      "execution_count": 41,
      "outputs": [
        {
          "output_type": "execute_result",
          "data": {
            "text/plain": [
              "(105, 2)"
            ]
          },
          "metadata": {
            "tags": []
          },
          "execution_count": 41
        }
      ]
    },
    {
      "cell_type": "code",
      "metadata": {
        "colab": {
          "base_uri": "https://localhost:8080/",
          "height": 424
        },
        "id": "RRpr-8cn-B1B",
        "outputId": "4347d1a8-dff0-4a5a-ceb4-0003fda6618e"
      },
      "source": [
        "df_importances[df_importances.apply(lambda x: abs(x[1]) > 50, axis=1)].sort_values(by=1).reset_index(drop=True)"
      ],
      "execution_count": 42,
      "outputs": [
        {
          "output_type": "execute_result",
          "data": {
            "text/html": [
              "<div>\n",
              "<style scoped>\n",
              "    .dataframe tbody tr th:only-of-type {\n",
              "        vertical-align: middle;\n",
              "    }\n",
              "\n",
              "    .dataframe tbody tr th {\n",
              "        vertical-align: top;\n",
              "    }\n",
              "\n",
              "    .dataframe thead th {\n",
              "        text-align: right;\n",
              "    }\n",
              "</style>\n",
              "<table border=\"1\" class=\"dataframe\">\n",
              "  <thead>\n",
              "    <tr style=\"text-align: right;\">\n",
              "      <th></th>\n",
              "      <th>0</th>\n",
              "      <th>1</th>\n",
              "    </tr>\n",
              "  </thead>\n",
              "  <tbody>\n",
              "    <tr>\n",
              "      <th>0</th>\n",
              "      <td>dropoff_latitude tolls_amount</td>\n",
              "      <td>-3.453688e+08</td>\n",
              "    </tr>\n",
              "    <tr>\n",
              "      <th>1</th>\n",
              "      <td>dropoff_latitude tip_amount</td>\n",
              "      <td>-3.453688e+08</td>\n",
              "    </tr>\n",
              "    <tr>\n",
              "      <th>2</th>\n",
              "      <td>dropoff_latitude fare_amount</td>\n",
              "      <td>-3.453688e+08</td>\n",
              "    </tr>\n",
              "    <tr>\n",
              "      <th>3</th>\n",
              "      <td>dropoff_latitude extra</td>\n",
              "      <td>-3.453688e+08</td>\n",
              "    </tr>\n",
              "    <tr>\n",
              "      <th>4</th>\n",
              "      <td>dropoff_longitude extra</td>\n",
              "      <td>-1.755724e+08</td>\n",
              "    </tr>\n",
              "    <tr>\n",
              "      <th>...</th>\n",
              "      <td>...</td>\n",
              "      <td>...</td>\n",
              "    </tr>\n",
              "    <tr>\n",
              "      <th>72</th>\n",
              "      <td>extra time_of_day</td>\n",
              "      <td>5.795479e+07</td>\n",
              "    </tr>\n",
              "    <tr>\n",
              "      <th>73</th>\n",
              "      <td>pickup_longitude total_amount</td>\n",
              "      <td>1.094154e+08</td>\n",
              "    </tr>\n",
              "    <tr>\n",
              "      <th>74</th>\n",
              "      <td>pickup_latitude total_amount</td>\n",
              "      <td>1.754241e+08</td>\n",
              "    </tr>\n",
              "    <tr>\n",
              "      <th>75</th>\n",
              "      <td>dropoff_longitude total_amount</td>\n",
              "      <td>1.755724e+08</td>\n",
              "    </tr>\n",
              "    <tr>\n",
              "      <th>76</th>\n",
              "      <td>dropoff_latitude total_amount</td>\n",
              "      <td>3.453688e+08</td>\n",
              "    </tr>\n",
              "  </tbody>\n",
              "</table>\n",
              "<p>77 rows × 2 columns</p>\n",
              "</div>"
            ],
            "text/plain": [
              "                                 0             1\n",
              "0    dropoff_latitude tolls_amount -3.453688e+08\n",
              "1      dropoff_latitude tip_amount -3.453688e+08\n",
              "2     dropoff_latitude fare_amount -3.453688e+08\n",
              "3           dropoff_latitude extra -3.453688e+08\n",
              "4          dropoff_longitude extra -1.755724e+08\n",
              "..                             ...           ...\n",
              "72               extra time_of_day  5.795479e+07\n",
              "73   pickup_longitude total_amount  1.094154e+08\n",
              "74    pickup_latitude total_amount  1.754241e+08\n",
              "75  dropoff_longitude total_amount  1.755724e+08\n",
              "76   dropoff_latitude total_amount  3.453688e+08\n",
              "\n",
              "[77 rows x 2 columns]"
            ]
          },
          "metadata": {
            "tags": []
          },
          "execution_count": 42
        }
      ]
    },
    {
      "cell_type": "code",
      "metadata": {
        "colab": {
          "base_uri": "https://localhost:8080/",
          "height": 424
        },
        "id": "uujAga3kLN3x",
        "outputId": "1a90a967-a8cd-4cb3-ccee-62a8a750bd4f"
      },
      "source": [
        "df_importances = pd.DataFrame(zip(lr_estimator.named_steps.preparation.named_transformers_.poly.get_feature_names(input_features=X.columns),\n",
        "                 lr_estimator.named_steps.model.coef_[0],\n",
        "))\n",
        "df_importances = df_importances[df_importances.apply(lambda x: abs(x[1]) > 50, axis=1)].sort_values(by=1).reset_index(drop=True).sort_values(by=1).rename(columns={0:'feature', 1:'value'})\n",
        "df_importances"
      ],
      "execution_count": 43,
      "outputs": [
        {
          "output_type": "execute_result",
          "data": {
            "text/html": [
              "<div>\n",
              "<style scoped>\n",
              "    .dataframe tbody tr th:only-of-type {\n",
              "        vertical-align: middle;\n",
              "    }\n",
              "\n",
              "    .dataframe tbody tr th {\n",
              "        vertical-align: top;\n",
              "    }\n",
              "\n",
              "    .dataframe thead th {\n",
              "        text-align: right;\n",
              "    }\n",
              "</style>\n",
              "<table border=\"1\" class=\"dataframe\">\n",
              "  <thead>\n",
              "    <tr style=\"text-align: right;\">\n",
              "      <th></th>\n",
              "      <th>feature</th>\n",
              "      <th>value</th>\n",
              "    </tr>\n",
              "  </thead>\n",
              "  <tbody>\n",
              "    <tr>\n",
              "      <th>0</th>\n",
              "      <td>dropoff_latitude tolls_amount</td>\n",
              "      <td>-3.453688e+08</td>\n",
              "    </tr>\n",
              "    <tr>\n",
              "      <th>1</th>\n",
              "      <td>dropoff_latitude tip_amount</td>\n",
              "      <td>-3.453688e+08</td>\n",
              "    </tr>\n",
              "    <tr>\n",
              "      <th>2</th>\n",
              "      <td>dropoff_latitude fare_amount</td>\n",
              "      <td>-3.453688e+08</td>\n",
              "    </tr>\n",
              "    <tr>\n",
              "      <th>3</th>\n",
              "      <td>dropoff_latitude extra</td>\n",
              "      <td>-3.453688e+08</td>\n",
              "    </tr>\n",
              "    <tr>\n",
              "      <th>4</th>\n",
              "      <td>dropoff_longitude extra</td>\n",
              "      <td>-1.755724e+08</td>\n",
              "    </tr>\n",
              "    <tr>\n",
              "      <th>...</th>\n",
              "      <td>...</td>\n",
              "      <td>...</td>\n",
              "    </tr>\n",
              "    <tr>\n",
              "      <th>72</th>\n",
              "      <td>extra time_of_day</td>\n",
              "      <td>5.795479e+07</td>\n",
              "    </tr>\n",
              "    <tr>\n",
              "      <th>73</th>\n",
              "      <td>pickup_longitude total_amount</td>\n",
              "      <td>1.094154e+08</td>\n",
              "    </tr>\n",
              "    <tr>\n",
              "      <th>74</th>\n",
              "      <td>pickup_latitude total_amount</td>\n",
              "      <td>1.754241e+08</td>\n",
              "    </tr>\n",
              "    <tr>\n",
              "      <th>75</th>\n",
              "      <td>dropoff_longitude total_amount</td>\n",
              "      <td>1.755724e+08</td>\n",
              "    </tr>\n",
              "    <tr>\n",
              "      <th>76</th>\n",
              "      <td>dropoff_latitude total_amount</td>\n",
              "      <td>3.453688e+08</td>\n",
              "    </tr>\n",
              "  </tbody>\n",
              "</table>\n",
              "<p>77 rows × 2 columns</p>\n",
              "</div>"
            ],
            "text/plain": [
              "                           feature         value\n",
              "0    dropoff_latitude tolls_amount -3.453688e+08\n",
              "1      dropoff_latitude tip_amount -3.453688e+08\n",
              "2     dropoff_latitude fare_amount -3.453688e+08\n",
              "3           dropoff_latitude extra -3.453688e+08\n",
              "4          dropoff_longitude extra -1.755724e+08\n",
              "..                             ...           ...\n",
              "72               extra time_of_day  5.795479e+07\n",
              "73   pickup_longitude total_amount  1.094154e+08\n",
              "74    pickup_latitude total_amount  1.754241e+08\n",
              "75  dropoff_longitude total_amount  1.755724e+08\n",
              "76   dropoff_latitude total_amount  3.453688e+08\n",
              "\n",
              "[77 rows x 2 columns]"
            ]
          },
          "metadata": {
            "tags": []
          },
          "execution_count": 43
        }
      ]
    },
    {
      "cell_type": "code",
      "metadata": {
        "colab": {
          "base_uri": "https://localhost:8080/",
          "height": 542
        },
        "id": "kSrqckIOLGoz",
        "outputId": "22108e67-f792-4985-ea0d-9711c2e1145b"
      },
      "source": [
        "width=750\n",
        "height=None\n",
        "orientation='h'\n",
        "display_imp_value_decimals=1\n",
        "yaxes_tickfont_family='Courier New'\n",
        "yaxes_tickfont_size=15\n",
        "text = df_importances.value.round(1)\n",
        "title_text = f'Top {len(df_importances)} (out of 105) Feature Importances'\n",
        "fig = px.bar(df_importances, \n",
        "            x='value', \n",
        "            y='feature',\n",
        "            orientation=orientation, \n",
        "            width=width, \n",
        "            height=height,\n",
        "             text=text)\n",
        "fig.update_layout(title_text=title_text, title_x=0.5) \n",
        "fig.update(layout_showlegend=False)\n",
        "fig.update_yaxes(tickfont=dict(family=yaxes_tickfont_family, \n",
        "                                size=yaxes_tickfont_size),\n",
        "                    title='')\n",
        "fig.show()"
      ],
      "execution_count": 44,
      "outputs": [
        {
          "output_type": "display_data",
          "data": {
            "text/html": [
              "<html>\n",
              "<head><meta charset=\"utf-8\" /></head>\n",
              "<body>\n",
              "    <div>\n",
              "            <script src=\"https://cdnjs.cloudflare.com/ajax/libs/mathjax/2.7.5/MathJax.js?config=TeX-AMS-MML_SVG\"></script><script type=\"text/javascript\">if (window.MathJax) {MathJax.Hub.Config({SVG: {font: \"STIX-Web\"}});}</script>\n",
              "                <script type=\"text/javascript\">window.PlotlyConfig = {MathJaxConfig: 'local'};</script>\n",
              "        <script src=\"https://cdn.plot.ly/plotly-latest.min.js\"></script>    \n",
              "            <div id=\"27da59b0-0785-4e11-8f04-5f7f56429b18\" class=\"plotly-graph-div\" style=\"height:525px; width:750px;\"></div>\n",
              "            <script type=\"text/javascript\">\n",
              "                \n",
              "                    window.PLOTLYENV=window.PLOTLYENV || {};\n",
              "                    \n",
              "                if (document.getElementById(\"27da59b0-0785-4e11-8f04-5f7f56429b18\")) {\n",
              "                    Plotly.newPlot(\n",
              "                        '27da59b0-0785-4e11-8f04-5f7f56429b18',\n",
              "                        [{\"alignmentgroup\": \"True\", \"hoverlabel\": {\"namelength\": 0}, \"hovertemplate\": \"value=%{x}<br>feature=%{y}<br>text=%{text}\", \"legendgroup\": \"\", \"marker\": {\"color\": \"#636efa\"}, \"name\": \"\", \"offsetgroup\": \"\", \"orientation\": \"h\", \"showlegend\": false, \"text\": [-345368805.9, -345368805.4, -345368804.1, -345368803.9, -175572385.1, -175572384.1, -175572384.1, -175572383.4, -175424097.7, -175424094.3, -175424094.2, -175424092.8, -109415426.4, -109415426.1, -109415426.0, -109415422.0, -57954785.1, -35765057.0, -27312564.6, -23898268.2, -20812963.7, -19450285.7, -16087768.8, -15205838.3, -14629128.5, -13260146.1, -12683436.1, -11223994.1, -10607950.9, -10607950.8, -10607950.8, -10607950.8, -9711783.9, -6771584.4, -3981042.7, -3455408.1, -3288868.5, -2035350.3, -2022066.6, -2007611.3, -1435541.1, -1042714.5, -899050.6, -576709.9, -249560.2, -133230.2, -66851.4, -55030.9, -43681.8, -10833.6, -69.8, 53.4, 1643584.8, 4089927.9, 4471449.6, 6417142.0, 10232800.6, 10323457.0, 10607950.8, 15006769.1, 16664478.8, 18203239.4, 18523868.3, 19100578.2, 20812963.2, 20812963.7, 20812963.8, 20812963.8, 36386279.5, 57954785.1, 57954785.1, 57954785.1, 57954785.1, 109415426.3, 175424094.0, 175572384.3, 345368805.2], \"textposition\": \"auto\", \"type\": \"bar\", \"x\": [-345368805.9458523, -345368805.3765371, -345368804.12809944, -345368803.9450683, -175572385.11708963, -175572384.07544217, -175572384.07110563, -175572383.3901135, -175424097.68194672, -175424094.26973224, -175424094.18076083, -175424092.7940996, -109415426.41753078, -109415426.12827742, -109415425.97720146, -109415421.96512315, -57954785.08847824, -35765056.95080093, -27312564.616091587, -23898268.237625103, -20812963.736720134, -19450285.711538624, -16087768.784556642, -15205838.338475842, -14629128.50836379, -13260146.141465137, -12683436.125140995, -11223994.118990714, -10607950.88854703, -10607950.839013783, -10607950.82853838, -10607950.805740338, -9711783.887569442, -6771584.402404583, -3981042.6683035335, -3455408.08982599, -3288868.5341928666, -2035350.2963037863, -2022066.5968647706, -2007611.298699672, -1435541.0526588913, -1042714.5017837447, -899050.6200353776, -576709.9222620262, -249560.24411045454, -133230.17042781104, -66851.35851376642, -55030.92157127988, -43681.84067341344, -10833.577245713981, -69.81990461982787, 53.39496071578956, 1643584.815382455, 4089927.8954627905, 4471449.627074316, 6417142.03171286, 10232800.647961931, 10323457.012523385, 10607950.84192976, 15006769.105646662, 16664478.794269318, 18203239.38509175, 18523868.34115812, 19100578.17864419, 20812963.172753047, 20812963.710107915, 20812963.782199644, 20812963.828105066, 36386279.487052135, 57954785.08038053, 57954785.08863112, 57954785.0887318, 57954785.10661847, 109415426.34290119, 175424094.0395892, 175572384.2827591, 345368805.227168], \"xaxis\": \"x\", \"y\": [\"dropoff_latitude tolls_amount\", \"dropoff_latitude tip_amount\", \"dropoff_latitude fare_amount\", \"dropoff_latitude extra\", \"dropoff_longitude extra\", \"dropoff_longitude fare_amount\", \"dropoff_longitude tip_amount\", \"dropoff_longitude tolls_amount\", \"pickup_latitude extra\", \"pickup_latitude tolls_amount\", \"pickup_latitude tip_amount\", \"pickup_latitude fare_amount\", \"pickup_longitude fare_amount\", \"pickup_longitude tip_amount\", \"pickup_longitude tolls_amount\", \"pickup_longitude extra\", \"total_amount time_of_day\", \"total_amount tolls_amount\", \"fare_amount tip_amount\", \"fare_amount\", \"trip_distance total_amount\", \"tip_amount\", \"total_amount extra\", \"fare_amount extra\", \"fare_amount^2\", \"tip_amount extra\", \"tip_amount^2\", \"fare_amount mta_tax\", \"fare_amount day_of_week\", \"tip_amount day_of_week\", \"tolls_amount day_of_week\", \"extra day_of_week\", \"tip_amount mta_tax\", \"day_of_week\", \"total_amount tip_amount\", \"pickup_latitude\", \"mta_tax day_of_week\", \"fare_amount total_amount\", \"extra\", \"dropoff_latitude\", \"tolls_amount\", \"extra mta_tax\", \"tolls_amount mta_tax\", \"extra^2\", \"dropoff_longitude\", \"dropoff_latitude mta_tax\", \"dropoff_longitude mta_tax\", \"pickup_latitude mta_tax\", \"pickup_longitude mta_tax\", \"mta_tax\", \"dropoff_longitude dropoff_latitude\", \"pickup_longitude dropoff_latitude\", \"total_amount mta_tax\", \"total_amount\", \"fare_amount tolls_amount\", \"tip_amount tolls_amount\", \"trip_distance\", \"trip_distance mta_tax\", \"total_amount day_of_week\", \"pickup_longitude\", \"total_amount^2\", \"mta_tax time_of_day\", \"tolls_amount extra\", \"tolls_amount^2\", \"trip_distance extra\", \"trip_distance tip_amount\", \"trip_distance fare_amount\", \"trip_distance tolls_amount\", \"time_of_day\", \"tolls_amount time_of_day\", \"tip_amount time_of_day\", \"fare_amount time_of_day\", \"extra time_of_day\", \"pickup_longitude total_amount\", \"pickup_latitude total_amount\", \"dropoff_longitude total_amount\", \"dropoff_latitude total_amount\"], \"yaxis\": \"y\"}],\n",
              "                        {\"barmode\": \"relative\", \"legend\": {\"tracegroupgap\": 0}, \"margin\": {\"t\": 60}, \"showlegend\": false, \"template\": {\"data\": {\"bar\": [{\"error_x\": {\"color\": \"#2a3f5f\"}, \"error_y\": {\"color\": \"#2a3f5f\"}, \"marker\": {\"line\": {\"color\": \"#E5ECF6\", \"width\": 0.5}}, \"type\": \"bar\"}], \"barpolar\": [{\"marker\": {\"line\": {\"color\": \"#E5ECF6\", \"width\": 0.5}}, \"type\": \"barpolar\"}], \"carpet\": [{\"aaxis\": {\"endlinecolor\": \"#2a3f5f\", \"gridcolor\": \"white\", \"linecolor\": \"white\", \"minorgridcolor\": \"white\", \"startlinecolor\": \"#2a3f5f\"}, \"baxis\": {\"endlinecolor\": \"#2a3f5f\", \"gridcolor\": \"white\", \"linecolor\": \"white\", \"minorgridcolor\": \"white\", \"startlinecolor\": \"#2a3f5f\"}, \"type\": \"carpet\"}], \"choropleth\": [{\"colorbar\": {\"outlinewidth\": 0, \"ticks\": \"\"}, \"type\": \"choropleth\"}], \"contour\": [{\"colorbar\": {\"outlinewidth\": 0, \"ticks\": \"\"}, \"colorscale\": [[0.0, \"#0d0887\"], [0.1111111111111111, \"#46039f\"], [0.2222222222222222, \"#7201a8\"], [0.3333333333333333, \"#9c179e\"], [0.4444444444444444, \"#bd3786\"], [0.5555555555555556, \"#d8576b\"], [0.6666666666666666, \"#ed7953\"], [0.7777777777777778, \"#fb9f3a\"], [0.8888888888888888, \"#fdca26\"], [1.0, \"#f0f921\"]], \"type\": \"contour\"}], \"contourcarpet\": [{\"colorbar\": {\"outlinewidth\": 0, \"ticks\": \"\"}, \"type\": \"contourcarpet\"}], \"heatmap\": [{\"colorbar\": {\"outlinewidth\": 0, \"ticks\": \"\"}, \"colorscale\": [[0.0, \"#0d0887\"], [0.1111111111111111, \"#46039f\"], [0.2222222222222222, \"#7201a8\"], [0.3333333333333333, \"#9c179e\"], [0.4444444444444444, \"#bd3786\"], [0.5555555555555556, \"#d8576b\"], [0.6666666666666666, \"#ed7953\"], [0.7777777777777778, \"#fb9f3a\"], [0.8888888888888888, \"#fdca26\"], [1.0, \"#f0f921\"]], \"type\": \"heatmap\"}], \"heatmapgl\": [{\"colorbar\": {\"outlinewidth\": 0, \"ticks\": \"\"}, \"colorscale\": [[0.0, \"#0d0887\"], [0.1111111111111111, \"#46039f\"], [0.2222222222222222, \"#7201a8\"], [0.3333333333333333, \"#9c179e\"], [0.4444444444444444, \"#bd3786\"], [0.5555555555555556, \"#d8576b\"], [0.6666666666666666, \"#ed7953\"], [0.7777777777777778, \"#fb9f3a\"], [0.8888888888888888, \"#fdca26\"], [1.0, \"#f0f921\"]], \"type\": \"heatmapgl\"}], \"histogram\": [{\"marker\": {\"colorbar\": {\"outlinewidth\": 0, \"ticks\": \"\"}}, \"type\": \"histogram\"}], \"histogram2d\": [{\"colorbar\": {\"outlinewidth\": 0, \"ticks\": \"\"}, \"colorscale\": [[0.0, \"#0d0887\"], [0.1111111111111111, \"#46039f\"], [0.2222222222222222, \"#7201a8\"], [0.3333333333333333, \"#9c179e\"], [0.4444444444444444, \"#bd3786\"], [0.5555555555555556, \"#d8576b\"], [0.6666666666666666, \"#ed7953\"], [0.7777777777777778, \"#fb9f3a\"], [0.8888888888888888, \"#fdca26\"], [1.0, \"#f0f921\"]], \"type\": \"histogram2d\"}], \"histogram2dcontour\": [{\"colorbar\": {\"outlinewidth\": 0, \"ticks\": \"\"}, \"colorscale\": [[0.0, \"#0d0887\"], [0.1111111111111111, \"#46039f\"], [0.2222222222222222, \"#7201a8\"], [0.3333333333333333, \"#9c179e\"], [0.4444444444444444, \"#bd3786\"], [0.5555555555555556, \"#d8576b\"], [0.6666666666666666, \"#ed7953\"], [0.7777777777777778, \"#fb9f3a\"], [0.8888888888888888, \"#fdca26\"], [1.0, \"#f0f921\"]], \"type\": \"histogram2dcontour\"}], \"mesh3d\": [{\"colorbar\": {\"outlinewidth\": 0, \"ticks\": \"\"}, \"type\": \"mesh3d\"}], \"parcoords\": [{\"line\": {\"colorbar\": {\"outlinewidth\": 0, \"ticks\": \"\"}}, \"type\": \"parcoords\"}], \"pie\": [{\"automargin\": true, \"type\": \"pie\"}], \"scatter\": [{\"marker\": {\"colorbar\": {\"outlinewidth\": 0, \"ticks\": \"\"}}, \"type\": \"scatter\"}], \"scatter3d\": [{\"line\": {\"colorbar\": {\"outlinewidth\": 0, \"ticks\": \"\"}}, \"marker\": {\"colorbar\": {\"outlinewidth\": 0, \"ticks\": \"\"}}, \"type\": \"scatter3d\"}], \"scattercarpet\": [{\"marker\": {\"colorbar\": {\"outlinewidth\": 0, \"ticks\": \"\"}}, \"type\": \"scattercarpet\"}], \"scattergeo\": [{\"marker\": {\"colorbar\": {\"outlinewidth\": 0, \"ticks\": \"\"}}, \"type\": \"scattergeo\"}], \"scattergl\": [{\"marker\": {\"colorbar\": {\"outlinewidth\": 0, \"ticks\": \"\"}}, \"type\": \"scattergl\"}], \"scattermapbox\": [{\"marker\": {\"colorbar\": {\"outlinewidth\": 0, \"ticks\": \"\"}}, \"type\": \"scattermapbox\"}], \"scatterpolar\": [{\"marker\": {\"colorbar\": {\"outlinewidth\": 0, \"ticks\": \"\"}}, \"type\": \"scatterpolar\"}], \"scatterpolargl\": [{\"marker\": {\"colorbar\": {\"outlinewidth\": 0, \"ticks\": \"\"}}, \"type\": \"scatterpolargl\"}], \"scatterternary\": [{\"marker\": {\"colorbar\": {\"outlinewidth\": 0, \"ticks\": \"\"}}, \"type\": \"scatterternary\"}], \"surface\": [{\"colorbar\": {\"outlinewidth\": 0, \"ticks\": \"\"}, \"colorscale\": [[0.0, \"#0d0887\"], [0.1111111111111111, \"#46039f\"], [0.2222222222222222, \"#7201a8\"], [0.3333333333333333, \"#9c179e\"], [0.4444444444444444, \"#bd3786\"], [0.5555555555555556, \"#d8576b\"], [0.6666666666666666, \"#ed7953\"], [0.7777777777777778, \"#fb9f3a\"], [0.8888888888888888, \"#fdca26\"], [1.0, \"#f0f921\"]], \"type\": \"surface\"}], \"table\": [{\"cells\": {\"fill\": {\"color\": \"#EBF0F8\"}, \"line\": {\"color\": \"white\"}}, \"header\": {\"fill\": {\"color\": \"#C8D4E3\"}, \"line\": {\"color\": \"white\"}}, \"type\": \"table\"}]}, \"layout\": {\"annotationdefaults\": {\"arrowcolor\": \"#2a3f5f\", \"arrowhead\": 0, \"arrowwidth\": 1}, \"coloraxis\": {\"colorbar\": {\"outlinewidth\": 0, \"ticks\": \"\"}}, \"colorscale\": {\"diverging\": [[0, \"#8e0152\"], [0.1, \"#c51b7d\"], [0.2, \"#de77ae\"], [0.3, \"#f1b6da\"], [0.4, \"#fde0ef\"], [0.5, \"#f7f7f7\"], [0.6, \"#e6f5d0\"], [0.7, \"#b8e186\"], [0.8, \"#7fbc41\"], [0.9, \"#4d9221\"], [1, \"#276419\"]], \"sequential\": [[0.0, \"#0d0887\"], [0.1111111111111111, \"#46039f\"], [0.2222222222222222, \"#7201a8\"], [0.3333333333333333, \"#9c179e\"], [0.4444444444444444, \"#bd3786\"], [0.5555555555555556, \"#d8576b\"], [0.6666666666666666, \"#ed7953\"], [0.7777777777777778, \"#fb9f3a\"], [0.8888888888888888, \"#fdca26\"], [1.0, \"#f0f921\"]], \"sequentialminus\": [[0.0, \"#0d0887\"], [0.1111111111111111, \"#46039f\"], [0.2222222222222222, \"#7201a8\"], [0.3333333333333333, \"#9c179e\"], [0.4444444444444444, \"#bd3786\"], [0.5555555555555556, \"#d8576b\"], [0.6666666666666666, \"#ed7953\"], [0.7777777777777778, \"#fb9f3a\"], [0.8888888888888888, \"#fdca26\"], [1.0, \"#f0f921\"]]}, \"colorway\": [\"#636efa\", \"#EF553B\", \"#00cc96\", \"#ab63fa\", \"#FFA15A\", \"#19d3f3\", \"#FF6692\", \"#B6E880\", \"#FF97FF\", \"#FECB52\"], \"font\": {\"color\": \"#2a3f5f\"}, \"geo\": {\"bgcolor\": \"white\", \"lakecolor\": \"white\", \"landcolor\": \"#E5ECF6\", \"showlakes\": true, \"showland\": true, \"subunitcolor\": \"white\"}, \"hoverlabel\": {\"align\": \"left\"}, \"hovermode\": \"closest\", \"mapbox\": {\"style\": \"light\"}, \"paper_bgcolor\": \"white\", \"plot_bgcolor\": \"#E5ECF6\", \"polar\": {\"angularaxis\": {\"gridcolor\": \"white\", \"linecolor\": \"white\", \"ticks\": \"\"}, \"bgcolor\": \"#E5ECF6\", \"radialaxis\": {\"gridcolor\": \"white\", \"linecolor\": \"white\", \"ticks\": \"\"}}, \"scene\": {\"xaxis\": {\"backgroundcolor\": \"#E5ECF6\", \"gridcolor\": \"white\", \"gridwidth\": 2, \"linecolor\": \"white\", \"showbackground\": true, \"ticks\": \"\", \"zerolinecolor\": \"white\"}, \"yaxis\": {\"backgroundcolor\": \"#E5ECF6\", \"gridcolor\": \"white\", \"gridwidth\": 2, \"linecolor\": \"white\", \"showbackground\": true, \"ticks\": \"\", \"zerolinecolor\": \"white\"}, \"zaxis\": {\"backgroundcolor\": \"#E5ECF6\", \"gridcolor\": \"white\", \"gridwidth\": 2, \"linecolor\": \"white\", \"showbackground\": true, \"ticks\": \"\", \"zerolinecolor\": \"white\"}}, \"shapedefaults\": {\"line\": {\"color\": \"#2a3f5f\"}}, \"ternary\": {\"aaxis\": {\"gridcolor\": \"white\", \"linecolor\": \"white\", \"ticks\": \"\"}, \"baxis\": {\"gridcolor\": \"white\", \"linecolor\": \"white\", \"ticks\": \"\"}, \"bgcolor\": \"#E5ECF6\", \"caxis\": {\"gridcolor\": \"white\", \"linecolor\": \"white\", \"ticks\": \"\"}}, \"title\": {\"x\": 0.05}, \"xaxis\": {\"automargin\": true, \"gridcolor\": \"white\", \"linecolor\": \"white\", \"ticks\": \"\", \"title\": {\"standoff\": 15}, \"zerolinecolor\": \"white\", \"zerolinewidth\": 2}, \"yaxis\": {\"automargin\": true, \"gridcolor\": \"white\", \"linecolor\": \"white\", \"ticks\": \"\", \"title\": {\"standoff\": 15}, \"zerolinecolor\": \"white\", \"zerolinewidth\": 2}}}, \"title\": {\"text\": \"Top 77 (out of 105) Feature Importances\", \"x\": 0.5}, \"width\": 750, \"xaxis\": {\"anchor\": \"y\", \"domain\": [0.0, 1.0], \"title\": {\"text\": \"value\"}}, \"yaxis\": {\"anchor\": \"x\", \"domain\": [0.0, 1.0], \"tickfont\": {\"family\": \"Courier New\", \"size\": 15}, \"title\": {\"text\": \"\"}}},\n",
              "                        {\"responsive\": true}\n",
              "                    ).then(function(){\n",
              "                            \n",
              "var gd = document.getElementById('27da59b0-0785-4e11-8f04-5f7f56429b18');\n",
              "var x = new MutationObserver(function (mutations, observer) {{\n",
              "        var display = window.getComputedStyle(gd).display;\n",
              "        if (!display || display === 'none') {{\n",
              "            console.log([gd, 'removed!']);\n",
              "            Plotly.purge(gd);\n",
              "            observer.disconnect();\n",
              "        }}\n",
              "}});\n",
              "\n",
              "// Listen for the removal of the full notebook cells\n",
              "var notebookContainer = gd.closest('#notebook-container');\n",
              "if (notebookContainer) {{\n",
              "    x.observe(notebookContainer, {childList: true});\n",
              "}}\n",
              "\n",
              "// Listen for the clearing of the current output cell\n",
              "var outputEl = gd.closest('.output');\n",
              "if (outputEl) {{\n",
              "    x.observe(outputEl, {childList: true});\n",
              "}}\n",
              "\n",
              "                        })\n",
              "                };\n",
              "                \n",
              "            </script>\n",
              "        </div>\n",
              "</body>\n",
              "</html>"
            ]
          },
          "metadata": {
            "tags": []
          }
        }
      ]
    },
    {
      "cell_type": "markdown",
      "metadata": {
        "id": "oKwZwNrx8hIw"
      },
      "source": [
        "## Fine-tune Model Using Cross Validation"
      ]
    },
    {
      "cell_type": "code",
      "metadata": {
        "id": "KrBZ-vd3pa55"
      },
      "source": [
        "from sklearn.model_selection import KFold, cross_val_predict"
      ],
      "execution_count": 45,
      "outputs": []
    },
    {
      "cell_type": "code",
      "metadata": {
        "id": "x2rQ-LQrK4Ud"
      },
      "source": [
        "kf = KFold(shuffle=True, random_state=42, n_splits=10)"
      ],
      "execution_count": 46,
      "outputs": []
    },
    {
      "cell_type": "code",
      "metadata": {
        "id": "8xTrEj3_LMpE"
      },
      "source": [
        "estimator = Pipeline([('preparation', transformer1), \n",
        "                     ('model', LinearRegression(n_jobs=-1))\n",
        "                     ])"
      ],
      "execution_count": 47,
      "outputs": []
    },
    {
      "cell_type": "code",
      "metadata": {
        "id": "l6Aymf0lLCc5"
      },
      "source": [
        "predictions = cross_val_predict(estimator, X_train, y_train, cv=kf)"
      ],
      "execution_count": 48,
      "outputs": []
    },
    {
      "cell_type": "code",
      "metadata": {
        "colab": {
          "base_uri": "https://localhost:8080/"
        },
        "id": "iKYqNN8DLVXj",
        "outputId": "06201c9e-d496-4a44-b3b9-904dd9cab3cb"
      },
      "source": [
        "r2_score(y_train, predictions)"
      ],
      "execution_count": 49,
      "outputs": [
        {
          "output_type": "execute_result",
          "data": {
            "text/plain": [
              "0.9073212065497832"
            ]
          },
          "metadata": {
            "tags": []
          },
          "execution_count": 49
        }
      ]
    },
    {
      "cell_type": "markdown",
      "metadata": {
        "id": "tZT2-SOqL6pX"
      },
      "source": [
        "## Grid Search for Ridge Regressor"
      ]
    },
    {
      "cell_type": "code",
      "metadata": {
        "colab": {
          "base_uri": "https://localhost:8080/",
          "height": 165
        },
        "id": "PHVSvYwgL5zR",
        "outputId": "ba23289a-73f4-4da4-c95b-81aaad72a2d0"
      },
      "source": [
        "from sklearn.model_selection import GridSearchCV\n",
        "\n",
        "# Same estimator as before\n",
        "alphas = [0.005, 0.05, 0.1, 0.3, 1, 3, 5, 10, 15, 30, 80]\n",
        "estimator = Pipeline([('preparation', transformer1), \n",
        "                      (\"ridge_regression\", Ridge())\n",
        "                      ])\n",
        "\n",
        "params = {\n",
        "    'ridge_regression__alpha': alphas,\n",
        "}\n",
        "\n",
        "grid = GridSearchCV(estimator, params, cv=kf)\n",
        "grid"
      ],
      "execution_count": 50,
      "outputs": [
        {
          "output_type": "execute_result",
          "data": {
            "text/html": [
              "<style>#sk-edf608cb-5baf-4267-a34a-0c485dfdee45 {color: black;background-color: white;}#sk-edf608cb-5baf-4267-a34a-0c485dfdee45 pre{padding: 0;}#sk-edf608cb-5baf-4267-a34a-0c485dfdee45 div.sk-toggleable {background-color: white;}#sk-edf608cb-5baf-4267-a34a-0c485dfdee45 label.sk-toggleable__label {cursor: pointer;display: block;width: 100%;margin-bottom: 0;padding: 0.2em 0.3em;box-sizing: border-box;text-align: center;}#sk-edf608cb-5baf-4267-a34a-0c485dfdee45 div.sk-toggleable__content {max-height: 0;max-width: 0;overflow: hidden;text-align: left;background-color: #f0f8ff;}#sk-edf608cb-5baf-4267-a34a-0c485dfdee45 div.sk-toggleable__content pre {margin: 0.2em;color: black;border-radius: 0.25em;background-color: #f0f8ff;}#sk-edf608cb-5baf-4267-a34a-0c485dfdee45 input.sk-toggleable__control:checked~div.sk-toggleable__content {max-height: 200px;max-width: 100%;overflow: auto;}#sk-edf608cb-5baf-4267-a34a-0c485dfdee45 div.sk-estimator input.sk-toggleable__control:checked~label.sk-toggleable__label {background-color: #d4ebff;}#sk-edf608cb-5baf-4267-a34a-0c485dfdee45 div.sk-label input.sk-toggleable__control:checked~label.sk-toggleable__label {background-color: #d4ebff;}#sk-edf608cb-5baf-4267-a34a-0c485dfdee45 input.sk-hidden--visually {border: 0;clip: rect(1px 1px 1px 1px);clip: rect(1px, 1px, 1px, 1px);height: 1px;margin: -1px;overflow: hidden;padding: 0;position: absolute;width: 1px;}#sk-edf608cb-5baf-4267-a34a-0c485dfdee45 div.sk-estimator {font-family: monospace;background-color: #f0f8ff;margin: 0.25em 0.25em;border: 1px dotted black;border-radius: 0.25em;box-sizing: border-box;}#sk-edf608cb-5baf-4267-a34a-0c485dfdee45 div.sk-estimator:hover {background-color: #d4ebff;}#sk-edf608cb-5baf-4267-a34a-0c485dfdee45 div.sk-parallel-item::after {content: \"\";width: 100%;border-bottom: 1px solid gray;flex-grow: 1;}#sk-edf608cb-5baf-4267-a34a-0c485dfdee45 div.sk-label:hover label.sk-toggleable__label {background-color: #d4ebff;}#sk-edf608cb-5baf-4267-a34a-0c485dfdee45 div.sk-serial::before {content: \"\";position: absolute;border-left: 1px solid gray;box-sizing: border-box;top: 2em;bottom: 0;left: 50%;}#sk-edf608cb-5baf-4267-a34a-0c485dfdee45 div.sk-serial {display: flex;flex-direction: column;align-items: center;background-color: white;}#sk-edf608cb-5baf-4267-a34a-0c485dfdee45 div.sk-item {z-index: 1;}#sk-edf608cb-5baf-4267-a34a-0c485dfdee45 div.sk-parallel {display: flex;align-items: stretch;justify-content: center;background-color: white;}#sk-edf608cb-5baf-4267-a34a-0c485dfdee45 div.sk-parallel-item {display: flex;flex-direction: column;position: relative;background-color: white;}#sk-edf608cb-5baf-4267-a34a-0c485dfdee45 div.sk-parallel-item:first-child::after {align-self: flex-end;width: 50%;}#sk-edf608cb-5baf-4267-a34a-0c485dfdee45 div.sk-parallel-item:last-child::after {align-self: flex-start;width: 50%;}#sk-edf608cb-5baf-4267-a34a-0c485dfdee45 div.sk-parallel-item:only-child::after {width: 0;}#sk-edf608cb-5baf-4267-a34a-0c485dfdee45 div.sk-dashed-wrapped {border: 1px dashed gray;margin: 0.2em;box-sizing: border-box;padding-bottom: 0.1em;background-color: white;position: relative;}#sk-edf608cb-5baf-4267-a34a-0c485dfdee45 div.sk-label label {font-family: monospace;font-weight: bold;background-color: white;display: inline-block;line-height: 1.2em;}#sk-edf608cb-5baf-4267-a34a-0c485dfdee45 div.sk-label-container {position: relative;z-index: 2;text-align: center;}#sk-edf608cb-5baf-4267-a34a-0c485dfdee45 div.sk-container {display: inline-block;position: relative;}</style><div id=\"sk-edf608cb-5baf-4267-a34a-0c485dfdee45\" class\"sk-top-container\"><div class=\"sk-container\"><div class=\"sk-item sk-dashed-wrapped\"><div class=\"sk-label-container\"><div class=\"sk-label sk-toggleable\"><input class=\"sk-toggleable__control sk-hidden--visually\" id=\"5370bab3-b3f2-4285-b03a-6eb63bb1e925\" type=\"checkbox\" ><label class=\"sk-toggleable__label\" for=\"5370bab3-b3f2-4285-b03a-6eb63bb1e925\">GridSearchCV</label><div class=\"sk-toggleable__content\"><pre>GridSearchCV(cv=KFold(n_splits=10, random_state=42, shuffle=True),\n",
              "             estimator=Pipeline(steps=[('preparation',\n",
              "                                        ColumnTransformer(transformers=[('num',\n",
              "                                                                         StandardScaler(),\n",
              "                                                                         Index(['trip_distance', 'pickup_longitude', 'pickup_latitude',\n",
              "       'dropoff_longitude', 'dropoff_latitude', 'fare_amount', 'total_amount',\n",
              "       'tip_amount', 'tolls_amount', 'extra', 'mta_tax', 'time_of_day',\n",
              "       'ave_speed'],\n",
              "      dtype='object')),\n",
              "                                                                        ('cat',\n",
              "                                                                         OrdinalEncoder(),\n",
              "                                                                         Index(['day_of_week'], dtype='object'))])),\n",
              "                                       ('ridge_regression', Ridge())]),\n",
              "             param_grid={'ridge_regression__alpha': [0.005, 0.05, 0.1, 0.3, 1,\n",
              "                                                     3, 5, 10, 15, 30, 80]})</pre></div></div></div><div class=\"sk-parallel\"><div class=\"sk-parallel-item\"><div class=\"sk-item\"><div class=\"sk-serial\"><div class=\"sk-item\"><div class=\"sk-serial\"><div class=\"sk-item sk-dashed-wrapped\"><div class=\"sk-label-container\"><div class=\"sk-label sk-toggleable\"><input class=\"sk-toggleable__control sk-hidden--visually\" id=\"da1b1495-5445-4a1e-940f-0fafc20a0a0b\" type=\"checkbox\" ><label class=\"sk-toggleable__label\" for=\"da1b1495-5445-4a1e-940f-0fafc20a0a0b\">preparation: ColumnTransformer</label><div class=\"sk-toggleable__content\"><pre>ColumnTransformer(transformers=[('num', StandardScaler(),\n",
              "                                 Index(['trip_distance', 'pickup_longitude', 'pickup_latitude',\n",
              "       'dropoff_longitude', 'dropoff_latitude', 'fare_amount', 'total_amount',\n",
              "       'tip_amount', 'tolls_amount', 'extra', 'mta_tax', 'time_of_day',\n",
              "       'ave_speed'],\n",
              "      dtype='object')),\n",
              "                                ('cat', OrdinalEncoder(),\n",
              "                                 Index(['day_of_week'], dtype='object'))])</pre></div></div></div><div class=\"sk-parallel\"><div class=\"sk-parallel-item\"><div class=\"sk-item\"><div class=\"sk-label-container\"><div class=\"sk-label sk-toggleable\"><input class=\"sk-toggleable__control sk-hidden--visually\" id=\"139548f2-77dd-4a5a-b23d-94e46e163529\" type=\"checkbox\" ><label class=\"sk-toggleable__label\" for=\"139548f2-77dd-4a5a-b23d-94e46e163529\">num</label><div class=\"sk-toggleable__content\"><pre>Index(['trip_distance', 'pickup_longitude', 'pickup_latitude',\n",
              "       'dropoff_longitude', 'dropoff_latitude', 'fare_amount', 'total_amount',\n",
              "       'tip_amount', 'tolls_amount', 'extra', 'mta_tax', 'time_of_day',\n",
              "       'ave_speed'],\n",
              "      dtype='object')</pre></div></div></div><div class=\"sk-serial\"><div class=\"sk-item\"><div class=\"sk-estimator sk-toggleable\"><input class=\"sk-toggleable__control sk-hidden--visually\" id=\"5b0e2cd7-97bf-4a1b-977f-d2f8ab4d4868\" type=\"checkbox\" ><label class=\"sk-toggleable__label\" for=\"5b0e2cd7-97bf-4a1b-977f-d2f8ab4d4868\">StandardScaler</label><div class=\"sk-toggleable__content\"><pre>StandardScaler()</pre></div></div></div></div></div></div><div class=\"sk-parallel-item\"><div class=\"sk-item\"><div class=\"sk-label-container\"><div class=\"sk-label sk-toggleable\"><input class=\"sk-toggleable__control sk-hidden--visually\" id=\"92c6d077-257c-4465-b75d-838bdd1c6740\" type=\"checkbox\" ><label class=\"sk-toggleable__label\" for=\"92c6d077-257c-4465-b75d-838bdd1c6740\">cat</label><div class=\"sk-toggleable__content\"><pre>Index(['day_of_week'], dtype='object')</pre></div></div></div><div class=\"sk-serial\"><div class=\"sk-item\"><div class=\"sk-estimator sk-toggleable\"><input class=\"sk-toggleable__control sk-hidden--visually\" id=\"122bee4f-82de-4dcd-837f-0ab841cc84cc\" type=\"checkbox\" ><label class=\"sk-toggleable__label\" for=\"122bee4f-82de-4dcd-837f-0ab841cc84cc\">OrdinalEncoder</label><div class=\"sk-toggleable__content\"><pre>OrdinalEncoder()</pre></div></div></div></div></div></div></div></div><div class=\"sk-item\"><div class=\"sk-estimator sk-toggleable\"><input class=\"sk-toggleable__control sk-hidden--visually\" id=\"526d27ba-ecb3-4407-a7ca-f9e5292e63cc\" type=\"checkbox\" ><label class=\"sk-toggleable__label\" for=\"526d27ba-ecb3-4407-a7ca-f9e5292e63cc\">Ridge</label><div class=\"sk-toggleable__content\"><pre>Ridge()</pre></div></div></div></div></div></div></div></div></div></div></div></div>"
            ],
            "text/plain": [
              "GridSearchCV(cv=KFold(n_splits=10, random_state=42, shuffle=True),\n",
              "             estimator=Pipeline(steps=[('preparation',\n",
              "                                        ColumnTransformer(transformers=[('num',\n",
              "                                                                         StandardScaler(),\n",
              "                                                                         Index(['trip_distance', 'pickup_longitude', 'pickup_latitude',\n",
              "       'dropoff_longitude', 'dropoff_latitude', 'fare_amount', 'total_amount',\n",
              "       'tip_amount', 'tolls_amount', 'extra', 'mta_tax', 'time_of_day',\n",
              "       'ave_speed'],\n",
              "      dtype='object')),\n",
              "                                                                        ('cat',\n",
              "                                                                         OrdinalEncoder(),\n",
              "                                                                         Index(['day_of_week'], dtype='object'))])),\n",
              "                                       ('ridge_regression', Ridge())]),\n",
              "             param_grid={'ridge_regression__alpha': [0.005, 0.05, 0.1, 0.3, 1,\n",
              "                                                     3, 5, 10, 15, 30, 80]})"
            ]
          },
          "metadata": {
            "tags": []
          },
          "execution_count": 50
        }
      ]
    },
    {
      "cell_type": "code",
      "metadata": {
        "colab": {
          "base_uri": "https://localhost:8080/"
        },
        "id": "LkW8iZIrNLwy",
        "outputId": "d5de6096-7ecf-4930-a477-1a7243f684cb"
      },
      "source": [
        "estimator.get_params().keys()"
      ],
      "execution_count": 51,
      "outputs": [
        {
          "output_type": "execute_result",
          "data": {
            "text/plain": [
              "dict_keys(['memory', 'steps', 'verbose', 'preparation', 'ridge_regression', 'preparation__n_jobs', 'preparation__remainder', 'preparation__sparse_threshold', 'preparation__transformer_weights', 'preparation__transformers', 'preparation__verbose', 'preparation__num', 'preparation__cat', 'preparation__num__copy', 'preparation__num__with_mean', 'preparation__num__with_std', 'preparation__cat__categories', 'preparation__cat__dtype', 'preparation__cat__handle_unknown', 'preparation__cat__unknown_value', 'ridge_regression__alpha', 'ridge_regression__copy_X', 'ridge_regression__fit_intercept', 'ridge_regression__max_iter', 'ridge_regression__normalize', 'ridge_regression__random_state', 'ridge_regression__solver', 'ridge_regression__tol'])"
            ]
          },
          "metadata": {
            "tags": []
          },
          "execution_count": 51
        }
      ]
    },
    {
      "cell_type": "code",
      "metadata": {
        "colab": {
          "base_uri": "https://localhost:8080/",
          "height": 165
        },
        "id": "5O1uHmzlMCZy",
        "outputId": "14a8f70d-8abb-4e31-dbb6-023bd482af59"
      },
      "source": [
        "grid.fit(X_train, y_train)"
      ],
      "execution_count": 52,
      "outputs": [
        {
          "output_type": "execute_result",
          "data": {
            "text/html": [
              "<style>#sk-b2ed4316-4357-4574-8b3f-e38c91c99b29 {color: black;background-color: white;}#sk-b2ed4316-4357-4574-8b3f-e38c91c99b29 pre{padding: 0;}#sk-b2ed4316-4357-4574-8b3f-e38c91c99b29 div.sk-toggleable {background-color: white;}#sk-b2ed4316-4357-4574-8b3f-e38c91c99b29 label.sk-toggleable__label {cursor: pointer;display: block;width: 100%;margin-bottom: 0;padding: 0.2em 0.3em;box-sizing: border-box;text-align: center;}#sk-b2ed4316-4357-4574-8b3f-e38c91c99b29 div.sk-toggleable__content {max-height: 0;max-width: 0;overflow: hidden;text-align: left;background-color: #f0f8ff;}#sk-b2ed4316-4357-4574-8b3f-e38c91c99b29 div.sk-toggleable__content pre {margin: 0.2em;color: black;border-radius: 0.25em;background-color: #f0f8ff;}#sk-b2ed4316-4357-4574-8b3f-e38c91c99b29 input.sk-toggleable__control:checked~div.sk-toggleable__content {max-height: 200px;max-width: 100%;overflow: auto;}#sk-b2ed4316-4357-4574-8b3f-e38c91c99b29 div.sk-estimator input.sk-toggleable__control:checked~label.sk-toggleable__label {background-color: #d4ebff;}#sk-b2ed4316-4357-4574-8b3f-e38c91c99b29 div.sk-label input.sk-toggleable__control:checked~label.sk-toggleable__label {background-color: #d4ebff;}#sk-b2ed4316-4357-4574-8b3f-e38c91c99b29 input.sk-hidden--visually {border: 0;clip: rect(1px 1px 1px 1px);clip: rect(1px, 1px, 1px, 1px);height: 1px;margin: -1px;overflow: hidden;padding: 0;position: absolute;width: 1px;}#sk-b2ed4316-4357-4574-8b3f-e38c91c99b29 div.sk-estimator {font-family: monospace;background-color: #f0f8ff;margin: 0.25em 0.25em;border: 1px dotted black;border-radius: 0.25em;box-sizing: border-box;}#sk-b2ed4316-4357-4574-8b3f-e38c91c99b29 div.sk-estimator:hover {background-color: #d4ebff;}#sk-b2ed4316-4357-4574-8b3f-e38c91c99b29 div.sk-parallel-item::after {content: \"\";width: 100%;border-bottom: 1px solid gray;flex-grow: 1;}#sk-b2ed4316-4357-4574-8b3f-e38c91c99b29 div.sk-label:hover label.sk-toggleable__label {background-color: #d4ebff;}#sk-b2ed4316-4357-4574-8b3f-e38c91c99b29 div.sk-serial::before {content: \"\";position: absolute;border-left: 1px solid gray;box-sizing: border-box;top: 2em;bottom: 0;left: 50%;}#sk-b2ed4316-4357-4574-8b3f-e38c91c99b29 div.sk-serial {display: flex;flex-direction: column;align-items: center;background-color: white;}#sk-b2ed4316-4357-4574-8b3f-e38c91c99b29 div.sk-item {z-index: 1;}#sk-b2ed4316-4357-4574-8b3f-e38c91c99b29 div.sk-parallel {display: flex;align-items: stretch;justify-content: center;background-color: white;}#sk-b2ed4316-4357-4574-8b3f-e38c91c99b29 div.sk-parallel-item {display: flex;flex-direction: column;position: relative;background-color: white;}#sk-b2ed4316-4357-4574-8b3f-e38c91c99b29 div.sk-parallel-item:first-child::after {align-self: flex-end;width: 50%;}#sk-b2ed4316-4357-4574-8b3f-e38c91c99b29 div.sk-parallel-item:last-child::after {align-self: flex-start;width: 50%;}#sk-b2ed4316-4357-4574-8b3f-e38c91c99b29 div.sk-parallel-item:only-child::after {width: 0;}#sk-b2ed4316-4357-4574-8b3f-e38c91c99b29 div.sk-dashed-wrapped {border: 1px dashed gray;margin: 0.2em;box-sizing: border-box;padding-bottom: 0.1em;background-color: white;position: relative;}#sk-b2ed4316-4357-4574-8b3f-e38c91c99b29 div.sk-label label {font-family: monospace;font-weight: bold;background-color: white;display: inline-block;line-height: 1.2em;}#sk-b2ed4316-4357-4574-8b3f-e38c91c99b29 div.sk-label-container {position: relative;z-index: 2;text-align: center;}#sk-b2ed4316-4357-4574-8b3f-e38c91c99b29 div.sk-container {display: inline-block;position: relative;}</style><div id=\"sk-b2ed4316-4357-4574-8b3f-e38c91c99b29\" class\"sk-top-container\"><div class=\"sk-container\"><div class=\"sk-item sk-dashed-wrapped\"><div class=\"sk-label-container\"><div class=\"sk-label sk-toggleable\"><input class=\"sk-toggleable__control sk-hidden--visually\" id=\"797aed38-40a4-4616-8e4e-49ecfab35cdc\" type=\"checkbox\" ><label class=\"sk-toggleable__label\" for=\"797aed38-40a4-4616-8e4e-49ecfab35cdc\">GridSearchCV</label><div class=\"sk-toggleable__content\"><pre>GridSearchCV(cv=KFold(n_splits=10, random_state=42, shuffle=True),\n",
              "             estimator=Pipeline(steps=[('preparation',\n",
              "                                        ColumnTransformer(transformers=[('num',\n",
              "                                                                         StandardScaler(),\n",
              "                                                                         Index(['trip_distance', 'pickup_longitude', 'pickup_latitude',\n",
              "       'dropoff_longitude', 'dropoff_latitude', 'fare_amount', 'total_amount',\n",
              "       'tip_amount', 'tolls_amount', 'extra', 'mta_tax', 'time_of_day',\n",
              "       'ave_speed'],\n",
              "      dtype='object')),\n",
              "                                                                        ('cat',\n",
              "                                                                         OrdinalEncoder(),\n",
              "                                                                         Index(['day_of_week'], dtype='object'))])),\n",
              "                                       ('ridge_regression', Ridge())]),\n",
              "             param_grid={'ridge_regression__alpha': [0.005, 0.05, 0.1, 0.3, 1,\n",
              "                                                     3, 5, 10, 15, 30, 80]})</pre></div></div></div><div class=\"sk-parallel\"><div class=\"sk-parallel-item\"><div class=\"sk-item\"><div class=\"sk-serial\"><div class=\"sk-item\"><div class=\"sk-serial\"><div class=\"sk-item sk-dashed-wrapped\"><div class=\"sk-label-container\"><div class=\"sk-label sk-toggleable\"><input class=\"sk-toggleable__control sk-hidden--visually\" id=\"01d80bab-c212-4401-9c9e-632fbff6a0c1\" type=\"checkbox\" ><label class=\"sk-toggleable__label\" for=\"01d80bab-c212-4401-9c9e-632fbff6a0c1\">preparation: ColumnTransformer</label><div class=\"sk-toggleable__content\"><pre>ColumnTransformer(transformers=[('num', StandardScaler(),\n",
              "                                 Index(['trip_distance', 'pickup_longitude', 'pickup_latitude',\n",
              "       'dropoff_longitude', 'dropoff_latitude', 'fare_amount', 'total_amount',\n",
              "       'tip_amount', 'tolls_amount', 'extra', 'mta_tax', 'time_of_day',\n",
              "       'ave_speed'],\n",
              "      dtype='object')),\n",
              "                                ('cat', OrdinalEncoder(),\n",
              "                                 Index(['day_of_week'], dtype='object'))])</pre></div></div></div><div class=\"sk-parallel\"><div class=\"sk-parallel-item\"><div class=\"sk-item\"><div class=\"sk-label-container\"><div class=\"sk-label sk-toggleable\"><input class=\"sk-toggleable__control sk-hidden--visually\" id=\"e4d1f9cd-9e0b-483a-a54a-e3cad56b961a\" type=\"checkbox\" ><label class=\"sk-toggleable__label\" for=\"e4d1f9cd-9e0b-483a-a54a-e3cad56b961a\">num</label><div class=\"sk-toggleable__content\"><pre>Index(['trip_distance', 'pickup_longitude', 'pickup_latitude',\n",
              "       'dropoff_longitude', 'dropoff_latitude', 'fare_amount', 'total_amount',\n",
              "       'tip_amount', 'tolls_amount', 'extra', 'mta_tax', 'time_of_day',\n",
              "       'ave_speed'],\n",
              "      dtype='object')</pre></div></div></div><div class=\"sk-serial\"><div class=\"sk-item\"><div class=\"sk-estimator sk-toggleable\"><input class=\"sk-toggleable__control sk-hidden--visually\" id=\"fbf702a8-4dce-4671-9507-27766d94823a\" type=\"checkbox\" ><label class=\"sk-toggleable__label\" for=\"fbf702a8-4dce-4671-9507-27766d94823a\">StandardScaler</label><div class=\"sk-toggleable__content\"><pre>StandardScaler()</pre></div></div></div></div></div></div><div class=\"sk-parallel-item\"><div class=\"sk-item\"><div class=\"sk-label-container\"><div class=\"sk-label sk-toggleable\"><input class=\"sk-toggleable__control sk-hidden--visually\" id=\"754f3fe3-1f94-469a-aed1-7806369f8469\" type=\"checkbox\" ><label class=\"sk-toggleable__label\" for=\"754f3fe3-1f94-469a-aed1-7806369f8469\">cat</label><div class=\"sk-toggleable__content\"><pre>Index(['day_of_week'], dtype='object')</pre></div></div></div><div class=\"sk-serial\"><div class=\"sk-item\"><div class=\"sk-estimator sk-toggleable\"><input class=\"sk-toggleable__control sk-hidden--visually\" id=\"3cd8c274-e303-4973-87af-b8118f672bf6\" type=\"checkbox\" ><label class=\"sk-toggleable__label\" for=\"3cd8c274-e303-4973-87af-b8118f672bf6\">OrdinalEncoder</label><div class=\"sk-toggleable__content\"><pre>OrdinalEncoder()</pre></div></div></div></div></div></div></div></div><div class=\"sk-item\"><div class=\"sk-estimator sk-toggleable\"><input class=\"sk-toggleable__control sk-hidden--visually\" id=\"9ae415b8-08d9-4398-8d4a-380a1fa5cd1d\" type=\"checkbox\" ><label class=\"sk-toggleable__label\" for=\"9ae415b8-08d9-4398-8d4a-380a1fa5cd1d\">Ridge</label><div class=\"sk-toggleable__content\"><pre>Ridge()</pre></div></div></div></div></div></div></div></div></div></div></div></div>"
            ],
            "text/plain": [
              "GridSearchCV(cv=KFold(n_splits=10, random_state=42, shuffle=True),\n",
              "             estimator=Pipeline(steps=[('preparation',\n",
              "                                        ColumnTransformer(transformers=[('num',\n",
              "                                                                         StandardScaler(),\n",
              "                                                                         Index(['trip_distance', 'pickup_longitude', 'pickup_latitude',\n",
              "       'dropoff_longitude', 'dropoff_latitude', 'fare_amount', 'total_amount',\n",
              "       'tip_amount', 'tolls_amount', 'extra', 'mta_tax', 'time_of_day',\n",
              "       'ave_speed'],\n",
              "      dtype='object')),\n",
              "                                                                        ('cat',\n",
              "                                                                         OrdinalEncoder(),\n",
              "                                                                         Index(['day_of_week'], dtype='object'))])),\n",
              "                                       ('ridge_regression', Ridge())]),\n",
              "             param_grid={'ridge_regression__alpha': [0.005, 0.05, 0.1, 0.3, 1,\n",
              "                                                     3, 5, 10, 15, 30, 80]})"
            ]
          },
          "metadata": {
            "tags": []
          },
          "execution_count": 52
        }
      ]
    },
    {
      "cell_type": "code",
      "metadata": {
        "colab": {
          "base_uri": "https://localhost:8080/"
        },
        "id": "S_RE7bIQMFD9",
        "outputId": "1763fa49-c0f0-4695-c517-8f6c3591f7a3"
      },
      "source": [
        "grid.best_score_, grid.best_params_"
      ],
      "execution_count": 53,
      "outputs": [
        {
          "output_type": "execute_result",
          "data": {
            "text/plain": [
              "(0.9073257453822595, {'ridge_regression__alpha': 30})"
            ]
          },
          "metadata": {
            "tags": []
          },
          "execution_count": 53
        }
      ]
    },
    {
      "cell_type": "code",
      "metadata": {
        "id": "o2OWjldbMGB7"
      },
      "source": [
        "y_predict = grid.predict(X_train)"
      ],
      "execution_count": 54,
      "outputs": []
    },
    {
      "cell_type": "code",
      "metadata": {
        "colab": {
          "base_uri": "https://localhost:8080/"
        },
        "id": "CrlfRCokMP0T",
        "outputId": "c978725a-3b3c-4381-d7ba-a7157b03d3a3"
      },
      "source": [
        "r2_score(y_train, y_predict)"
      ],
      "execution_count": 55,
      "outputs": [
        {
          "output_type": "execute_result",
          "data": {
            "text/plain": [
              "0.9073326469253757"
            ]
          },
          "metadata": {
            "tags": []
          },
          "execution_count": 55
        }
      ]
    },
    {
      "cell_type": "code",
      "metadata": {
        "colab": {
          "base_uri": "https://localhost:8080/",
          "height": 165
        },
        "id": "M9exoBcZaslV",
        "outputId": "07254017-69f6-49b7-8bb9-e5871e5d6176"
      },
      "source": [
        "best_estimator = grid.best_estimator_\n",
        "best_estimator"
      ],
      "execution_count": 56,
      "outputs": [
        {
          "output_type": "execute_result",
          "data": {
            "text/html": [
              "<style>#sk-7c405804-7aab-40be-a8db-3f1aa24123a4 {color: black;background-color: white;}#sk-7c405804-7aab-40be-a8db-3f1aa24123a4 pre{padding: 0;}#sk-7c405804-7aab-40be-a8db-3f1aa24123a4 div.sk-toggleable {background-color: white;}#sk-7c405804-7aab-40be-a8db-3f1aa24123a4 label.sk-toggleable__label {cursor: pointer;display: block;width: 100%;margin-bottom: 0;padding: 0.2em 0.3em;box-sizing: border-box;text-align: center;}#sk-7c405804-7aab-40be-a8db-3f1aa24123a4 div.sk-toggleable__content {max-height: 0;max-width: 0;overflow: hidden;text-align: left;background-color: #f0f8ff;}#sk-7c405804-7aab-40be-a8db-3f1aa24123a4 div.sk-toggleable__content pre {margin: 0.2em;color: black;border-radius: 0.25em;background-color: #f0f8ff;}#sk-7c405804-7aab-40be-a8db-3f1aa24123a4 input.sk-toggleable__control:checked~div.sk-toggleable__content {max-height: 200px;max-width: 100%;overflow: auto;}#sk-7c405804-7aab-40be-a8db-3f1aa24123a4 div.sk-estimator input.sk-toggleable__control:checked~label.sk-toggleable__label {background-color: #d4ebff;}#sk-7c405804-7aab-40be-a8db-3f1aa24123a4 div.sk-label input.sk-toggleable__control:checked~label.sk-toggleable__label {background-color: #d4ebff;}#sk-7c405804-7aab-40be-a8db-3f1aa24123a4 input.sk-hidden--visually {border: 0;clip: rect(1px 1px 1px 1px);clip: rect(1px, 1px, 1px, 1px);height: 1px;margin: -1px;overflow: hidden;padding: 0;position: absolute;width: 1px;}#sk-7c405804-7aab-40be-a8db-3f1aa24123a4 div.sk-estimator {font-family: monospace;background-color: #f0f8ff;margin: 0.25em 0.25em;border: 1px dotted black;border-radius: 0.25em;box-sizing: border-box;}#sk-7c405804-7aab-40be-a8db-3f1aa24123a4 div.sk-estimator:hover {background-color: #d4ebff;}#sk-7c405804-7aab-40be-a8db-3f1aa24123a4 div.sk-parallel-item::after {content: \"\";width: 100%;border-bottom: 1px solid gray;flex-grow: 1;}#sk-7c405804-7aab-40be-a8db-3f1aa24123a4 div.sk-label:hover label.sk-toggleable__label {background-color: #d4ebff;}#sk-7c405804-7aab-40be-a8db-3f1aa24123a4 div.sk-serial::before {content: \"\";position: absolute;border-left: 1px solid gray;box-sizing: border-box;top: 2em;bottom: 0;left: 50%;}#sk-7c405804-7aab-40be-a8db-3f1aa24123a4 div.sk-serial {display: flex;flex-direction: column;align-items: center;background-color: white;}#sk-7c405804-7aab-40be-a8db-3f1aa24123a4 div.sk-item {z-index: 1;}#sk-7c405804-7aab-40be-a8db-3f1aa24123a4 div.sk-parallel {display: flex;align-items: stretch;justify-content: center;background-color: white;}#sk-7c405804-7aab-40be-a8db-3f1aa24123a4 div.sk-parallel-item {display: flex;flex-direction: column;position: relative;background-color: white;}#sk-7c405804-7aab-40be-a8db-3f1aa24123a4 div.sk-parallel-item:first-child::after {align-self: flex-end;width: 50%;}#sk-7c405804-7aab-40be-a8db-3f1aa24123a4 div.sk-parallel-item:last-child::after {align-self: flex-start;width: 50%;}#sk-7c405804-7aab-40be-a8db-3f1aa24123a4 div.sk-parallel-item:only-child::after {width: 0;}#sk-7c405804-7aab-40be-a8db-3f1aa24123a4 div.sk-dashed-wrapped {border: 1px dashed gray;margin: 0.2em;box-sizing: border-box;padding-bottom: 0.1em;background-color: white;position: relative;}#sk-7c405804-7aab-40be-a8db-3f1aa24123a4 div.sk-label label {font-family: monospace;font-weight: bold;background-color: white;display: inline-block;line-height: 1.2em;}#sk-7c405804-7aab-40be-a8db-3f1aa24123a4 div.sk-label-container {position: relative;z-index: 2;text-align: center;}#sk-7c405804-7aab-40be-a8db-3f1aa24123a4 div.sk-container {display: inline-block;position: relative;}</style><div id=\"sk-7c405804-7aab-40be-a8db-3f1aa24123a4\" class\"sk-top-container\"><div class=\"sk-container\"><div class=\"sk-item sk-dashed-wrapped\"><div class=\"sk-label-container\"><div class=\"sk-label sk-toggleable\"><input class=\"sk-toggleable__control sk-hidden--visually\" id=\"816c045b-c786-4dc4-aa02-f9ad93cb5dc9\" type=\"checkbox\" ><label class=\"sk-toggleable__label\" for=\"816c045b-c786-4dc4-aa02-f9ad93cb5dc9\">Pipeline</label><div class=\"sk-toggleable__content\"><pre>Pipeline(steps=[('preparation',\n",
              "                 ColumnTransformer(transformers=[('num', StandardScaler(),\n",
              "                                                  Index(['trip_distance', 'pickup_longitude', 'pickup_latitude',\n",
              "       'dropoff_longitude', 'dropoff_latitude', 'fare_amount', 'total_amount',\n",
              "       'tip_amount', 'tolls_amount', 'extra', 'mta_tax', 'time_of_day',\n",
              "       'ave_speed'],\n",
              "      dtype='object')),\n",
              "                                                 ('cat', OrdinalEncoder(),\n",
              "                                                  Index(['day_of_week'], dtype='object'))])),\n",
              "                ('ridge_regression', Ridge(alpha=30))])</pre></div></div></div><div class=\"sk-serial\"><div class=\"sk-item sk-dashed-wrapped\"><div class=\"sk-label-container\"><div class=\"sk-label sk-toggleable\"><input class=\"sk-toggleable__control sk-hidden--visually\" id=\"64a7dca3-d6c9-46b1-8c0f-cb44fb8935d2\" type=\"checkbox\" ><label class=\"sk-toggleable__label\" for=\"64a7dca3-d6c9-46b1-8c0f-cb44fb8935d2\">preparation: ColumnTransformer</label><div class=\"sk-toggleable__content\"><pre>ColumnTransformer(transformers=[('num', StandardScaler(),\n",
              "                                 Index(['trip_distance', 'pickup_longitude', 'pickup_latitude',\n",
              "       'dropoff_longitude', 'dropoff_latitude', 'fare_amount', 'total_amount',\n",
              "       'tip_amount', 'tolls_amount', 'extra', 'mta_tax', 'time_of_day',\n",
              "       'ave_speed'],\n",
              "      dtype='object')),\n",
              "                                ('cat', OrdinalEncoder(),\n",
              "                                 Index(['day_of_week'], dtype='object'))])</pre></div></div></div><div class=\"sk-parallel\"><div class=\"sk-parallel-item\"><div class=\"sk-item\"><div class=\"sk-label-container\"><div class=\"sk-label sk-toggleable\"><input class=\"sk-toggleable__control sk-hidden--visually\" id=\"e7baa552-aeb5-48a0-b68b-d68d1c27ecab\" type=\"checkbox\" ><label class=\"sk-toggleable__label\" for=\"e7baa552-aeb5-48a0-b68b-d68d1c27ecab\">num</label><div class=\"sk-toggleable__content\"><pre>Index(['trip_distance', 'pickup_longitude', 'pickup_latitude',\n",
              "       'dropoff_longitude', 'dropoff_latitude', 'fare_amount', 'total_amount',\n",
              "       'tip_amount', 'tolls_amount', 'extra', 'mta_tax', 'time_of_day',\n",
              "       'ave_speed'],\n",
              "      dtype='object')</pre></div></div></div><div class=\"sk-serial\"><div class=\"sk-item\"><div class=\"sk-estimator sk-toggleable\"><input class=\"sk-toggleable__control sk-hidden--visually\" id=\"14b358d5-611e-4bd0-afb4-51719dc470fc\" type=\"checkbox\" ><label class=\"sk-toggleable__label\" for=\"14b358d5-611e-4bd0-afb4-51719dc470fc\">StandardScaler</label><div class=\"sk-toggleable__content\"><pre>StandardScaler()</pre></div></div></div></div></div></div><div class=\"sk-parallel-item\"><div class=\"sk-item\"><div class=\"sk-label-container\"><div class=\"sk-label sk-toggleable\"><input class=\"sk-toggleable__control sk-hidden--visually\" id=\"cd3fcb4f-6a12-4c6b-82ad-72259333f363\" type=\"checkbox\" ><label class=\"sk-toggleable__label\" for=\"cd3fcb4f-6a12-4c6b-82ad-72259333f363\">cat</label><div class=\"sk-toggleable__content\"><pre>Index(['day_of_week'], dtype='object')</pre></div></div></div><div class=\"sk-serial\"><div class=\"sk-item\"><div class=\"sk-estimator sk-toggleable\"><input class=\"sk-toggleable__control sk-hidden--visually\" id=\"964c0661-cf93-4972-b5c2-a1366ea881f1\" type=\"checkbox\" ><label class=\"sk-toggleable__label\" for=\"964c0661-cf93-4972-b5c2-a1366ea881f1\">OrdinalEncoder</label><div class=\"sk-toggleable__content\"><pre>OrdinalEncoder()</pre></div></div></div></div></div></div></div></div><div class=\"sk-item\"><div class=\"sk-estimator sk-toggleable\"><input class=\"sk-toggleable__control sk-hidden--visually\" id=\"10431bc3-bf70-4b90-a6fd-9df39059eefc\" type=\"checkbox\" ><label class=\"sk-toggleable__label\" for=\"10431bc3-bf70-4b90-a6fd-9df39059eefc\">Ridge</label><div class=\"sk-toggleable__content\"><pre>Ridge(alpha=30)</pre></div></div></div></div></div></div></div>"
            ],
            "text/plain": [
              "Pipeline(steps=[('preparation',\n",
              "                 ColumnTransformer(transformers=[('num', StandardScaler(),\n",
              "                                                  Index(['trip_distance', 'pickup_longitude', 'pickup_latitude',\n",
              "       'dropoff_longitude', 'dropoff_latitude', 'fare_amount', 'total_amount',\n",
              "       'tip_amount', 'tolls_amount', 'extra', 'mta_tax', 'time_of_day',\n",
              "       'ave_speed'],\n",
              "      dtype='object')),\n",
              "                                                 ('cat', OrdinalEncoder(),\n",
              "                                                  Index(['day_of_week'], dtype='object'))])),\n",
              "                ('ridge_regression', Ridge(alpha=30))])"
            ]
          },
          "metadata": {
            "tags": []
          },
          "execution_count": 56
        }
      ]
    },
    {
      "cell_type": "code",
      "metadata": {
        "id": "pTXN-ccCAbVP"
      },
      "source": [
        "# predict\n",
        "y_train_pred = best_estimator.predict(X_train)\n",
        "y_val_pred = best_estimator.predict(X_val)\n",
        "y_test_pred = best_estimator.predict(X_test)\n",
        "\n",
        "errors.append(pd.Series({'train': r2_score(y_train_pred, y_train),\n",
        "           'val': r2_score(y_val_pred, y_val),\n",
        "           'test' : r2_score(y_test_pred, y_test)},\n",
        "          name='Ridge_score_without_poly'))\n",
        "\n",
        "errors.append(pd.Series({'train': mean_squared_error(y_train, y_train_pred, squared=False),\n",
        "           'val': mean_squared_error(y_val_pred, y_val, squared=False),\n",
        "           'test' : mean_squared_error(y_test,  y_test_pred, squared=False)},\n",
        "          name='Ridge_rmse_without_poly'))"
      ],
      "execution_count": 57,
      "outputs": []
    },
    {
      "cell_type": "code",
      "metadata": {
        "colab": {
          "base_uri": "https://localhost:8080/",
          "height": 143
        },
        "id": "FxtipobtA1K1",
        "outputId": "3094883c-0818-4dc1-ad93-bbc86b4bd3a4"
      },
      "source": [
        "pd.concat(errors, axis=1)"
      ],
      "execution_count": 58,
      "outputs": [
        {
          "output_type": "execute_result",
          "data": {
            "text/html": [
              "<div>\n",
              "<style scoped>\n",
              "    .dataframe tbody tr th:only-of-type {\n",
              "        vertical-align: middle;\n",
              "    }\n",
              "\n",
              "    .dataframe tbody tr th {\n",
              "        vertical-align: top;\n",
              "    }\n",
              "\n",
              "    .dataframe thead th {\n",
              "        text-align: right;\n",
              "    }\n",
              "</style>\n",
              "<table border=\"1\" class=\"dataframe\">\n",
              "  <thead>\n",
              "    <tr style=\"text-align: right;\">\n",
              "      <th></th>\n",
              "      <th>score_without_poly</th>\n",
              "      <th>rmse_without_poly</th>\n",
              "      <th>score_without_poly</th>\n",
              "      <th>rmse_without_poly</th>\n",
              "      <th>Ridge_score_without_poly</th>\n",
              "      <th>Ridge_rmse_without_poly</th>\n",
              "    </tr>\n",
              "  </thead>\n",
              "  <tbody>\n",
              "    <tr>\n",
              "      <th>train</th>\n",
              "      <td>0.897868</td>\n",
              "      <td>3.275742</td>\n",
              "      <td>0.974855</td>\n",
              "      <td>1.685357</td>\n",
              "      <td>0.897864</td>\n",
              "      <td>3.275742</td>\n",
              "    </tr>\n",
              "    <tr>\n",
              "      <th>val</th>\n",
              "      <td>0.898042</td>\n",
              "      <td>3.263581</td>\n",
              "      <td>0.975426</td>\n",
              "      <td>1.663812</td>\n",
              "      <td>0.898038</td>\n",
              "      <td>3.263582</td>\n",
              "    </tr>\n",
              "    <tr>\n",
              "      <th>test</th>\n",
              "      <td>0.897641</td>\n",
              "      <td>3.277864</td>\n",
              "      <td>0.972906</td>\n",
              "      <td>1.750163</td>\n",
              "      <td>0.897637</td>\n",
              "      <td>3.277869</td>\n",
              "    </tr>\n",
              "  </tbody>\n",
              "</table>\n",
              "</div>"
            ],
            "text/plain": [
              "       score_without_poly  ...  Ridge_rmse_without_poly\n",
              "train            0.897868  ...                 3.275742\n",
              "val              0.898042  ...                 3.263582\n",
              "test             0.897641  ...                 3.277869\n",
              "\n",
              "[3 rows x 6 columns]"
            ]
          },
          "metadata": {
            "tags": []
          },
          "execution_count": 58
        }
      ]
    },
    {
      "cell_type": "code",
      "metadata": {
        "colab": {
          "base_uri": "https://localhost:8080/"
        },
        "id": "gUzjoX5Ya1lZ",
        "outputId": "f0649c83-676f-4e70-c03c-9be096842611"
      },
      "source": [
        "best_estimator.named_steps['preparation'].get_params().keys()"
      ],
      "execution_count": 59,
      "outputs": [
        {
          "output_type": "execute_result",
          "data": {
            "text/plain": [
              "dict_keys(['n_jobs', 'remainder', 'sparse_threshold', 'transformer_weights', 'transformers', 'verbose', 'num', 'cat', 'num__copy', 'num__with_mean', 'num__with_std', 'cat__categories', 'cat__dtype', 'cat__handle_unknown', 'cat__unknown_value'])"
            ]
          },
          "metadata": {
            "tags": []
          },
          "execution_count": 59
        }
      ]
    },
    {
      "cell_type": "code",
      "metadata": {
        "colab": {
          "base_uri": "https://localhost:8080/",
          "height": 102
        },
        "id": "KXwtNDLRcSK0",
        "outputId": "178a8125-a2f4-42b4-87b8-ac332ad0900d"
      },
      "source": [
        "best_estimator.named_steps['preparation']"
      ],
      "execution_count": 60,
      "outputs": [
        {
          "output_type": "execute_result",
          "data": {
            "text/html": [
              "<style>#sk-35df5495-bb0b-407b-aaa9-3446c748da7c {color: black;background-color: white;}#sk-35df5495-bb0b-407b-aaa9-3446c748da7c pre{padding: 0;}#sk-35df5495-bb0b-407b-aaa9-3446c748da7c div.sk-toggleable {background-color: white;}#sk-35df5495-bb0b-407b-aaa9-3446c748da7c label.sk-toggleable__label {cursor: pointer;display: block;width: 100%;margin-bottom: 0;padding: 0.2em 0.3em;box-sizing: border-box;text-align: center;}#sk-35df5495-bb0b-407b-aaa9-3446c748da7c div.sk-toggleable__content {max-height: 0;max-width: 0;overflow: hidden;text-align: left;background-color: #f0f8ff;}#sk-35df5495-bb0b-407b-aaa9-3446c748da7c div.sk-toggleable__content pre {margin: 0.2em;color: black;border-radius: 0.25em;background-color: #f0f8ff;}#sk-35df5495-bb0b-407b-aaa9-3446c748da7c input.sk-toggleable__control:checked~div.sk-toggleable__content {max-height: 200px;max-width: 100%;overflow: auto;}#sk-35df5495-bb0b-407b-aaa9-3446c748da7c div.sk-estimator input.sk-toggleable__control:checked~label.sk-toggleable__label {background-color: #d4ebff;}#sk-35df5495-bb0b-407b-aaa9-3446c748da7c div.sk-label input.sk-toggleable__control:checked~label.sk-toggleable__label {background-color: #d4ebff;}#sk-35df5495-bb0b-407b-aaa9-3446c748da7c input.sk-hidden--visually {border: 0;clip: rect(1px 1px 1px 1px);clip: rect(1px, 1px, 1px, 1px);height: 1px;margin: -1px;overflow: hidden;padding: 0;position: absolute;width: 1px;}#sk-35df5495-bb0b-407b-aaa9-3446c748da7c div.sk-estimator {font-family: monospace;background-color: #f0f8ff;margin: 0.25em 0.25em;border: 1px dotted black;border-radius: 0.25em;box-sizing: border-box;}#sk-35df5495-bb0b-407b-aaa9-3446c748da7c div.sk-estimator:hover {background-color: #d4ebff;}#sk-35df5495-bb0b-407b-aaa9-3446c748da7c div.sk-parallel-item::after {content: \"\";width: 100%;border-bottom: 1px solid gray;flex-grow: 1;}#sk-35df5495-bb0b-407b-aaa9-3446c748da7c div.sk-label:hover label.sk-toggleable__label {background-color: #d4ebff;}#sk-35df5495-bb0b-407b-aaa9-3446c748da7c div.sk-serial::before {content: \"\";position: absolute;border-left: 1px solid gray;box-sizing: border-box;top: 2em;bottom: 0;left: 50%;}#sk-35df5495-bb0b-407b-aaa9-3446c748da7c div.sk-serial {display: flex;flex-direction: column;align-items: center;background-color: white;}#sk-35df5495-bb0b-407b-aaa9-3446c748da7c div.sk-item {z-index: 1;}#sk-35df5495-bb0b-407b-aaa9-3446c748da7c div.sk-parallel {display: flex;align-items: stretch;justify-content: center;background-color: white;}#sk-35df5495-bb0b-407b-aaa9-3446c748da7c div.sk-parallel-item {display: flex;flex-direction: column;position: relative;background-color: white;}#sk-35df5495-bb0b-407b-aaa9-3446c748da7c div.sk-parallel-item:first-child::after {align-self: flex-end;width: 50%;}#sk-35df5495-bb0b-407b-aaa9-3446c748da7c div.sk-parallel-item:last-child::after {align-self: flex-start;width: 50%;}#sk-35df5495-bb0b-407b-aaa9-3446c748da7c div.sk-parallel-item:only-child::after {width: 0;}#sk-35df5495-bb0b-407b-aaa9-3446c748da7c div.sk-dashed-wrapped {border: 1px dashed gray;margin: 0.2em;box-sizing: border-box;padding-bottom: 0.1em;background-color: white;position: relative;}#sk-35df5495-bb0b-407b-aaa9-3446c748da7c div.sk-label label {font-family: monospace;font-weight: bold;background-color: white;display: inline-block;line-height: 1.2em;}#sk-35df5495-bb0b-407b-aaa9-3446c748da7c div.sk-label-container {position: relative;z-index: 2;text-align: center;}#sk-35df5495-bb0b-407b-aaa9-3446c748da7c div.sk-container {display: inline-block;position: relative;}</style><div id=\"sk-35df5495-bb0b-407b-aaa9-3446c748da7c\" class\"sk-top-container\"><div class=\"sk-container\"><div class=\"sk-item sk-dashed-wrapped\"><div class=\"sk-label-container\"><div class=\"sk-label sk-toggleable\"><input class=\"sk-toggleable__control sk-hidden--visually\" id=\"746cc687-4c47-4d79-8514-020ff76f3f9f\" type=\"checkbox\" ><label class=\"sk-toggleable__label\" for=\"746cc687-4c47-4d79-8514-020ff76f3f9f\">ColumnTransformer</label><div class=\"sk-toggleable__content\"><pre>ColumnTransformer(transformers=[('num', StandardScaler(),\n",
              "                                 Index(['trip_distance', 'pickup_longitude', 'pickup_latitude',\n",
              "       'dropoff_longitude', 'dropoff_latitude', 'fare_amount', 'total_amount',\n",
              "       'tip_amount', 'tolls_amount', 'extra', 'mta_tax', 'time_of_day',\n",
              "       'ave_speed'],\n",
              "      dtype='object')),\n",
              "                                ('cat', OrdinalEncoder(),\n",
              "                                 Index(['day_of_week'], dtype='object'))])</pre></div></div></div><div class=\"sk-parallel\"><div class=\"sk-parallel-item\"><div class=\"sk-item\"><div class=\"sk-label-container\"><div class=\"sk-label sk-toggleable\"><input class=\"sk-toggleable__control sk-hidden--visually\" id=\"3a3e731c-0356-425f-bcc9-a90b7802e508\" type=\"checkbox\" ><label class=\"sk-toggleable__label\" for=\"3a3e731c-0356-425f-bcc9-a90b7802e508\">num</label><div class=\"sk-toggleable__content\"><pre>Index(['trip_distance', 'pickup_longitude', 'pickup_latitude',\n",
              "       'dropoff_longitude', 'dropoff_latitude', 'fare_amount', 'total_amount',\n",
              "       'tip_amount', 'tolls_amount', 'extra', 'mta_tax', 'time_of_day',\n",
              "       'ave_speed'],\n",
              "      dtype='object')</pre></div></div></div><div class=\"sk-serial\"><div class=\"sk-item\"><div class=\"sk-estimator sk-toggleable\"><input class=\"sk-toggleable__control sk-hidden--visually\" id=\"4f427c42-2f1d-4c9e-a84a-0e1995ccd882\" type=\"checkbox\" ><label class=\"sk-toggleable__label\" for=\"4f427c42-2f1d-4c9e-a84a-0e1995ccd882\">StandardScaler</label><div class=\"sk-toggleable__content\"><pre>StandardScaler()</pre></div></div></div></div></div></div><div class=\"sk-parallel-item\"><div class=\"sk-item\"><div class=\"sk-label-container\"><div class=\"sk-label sk-toggleable\"><input class=\"sk-toggleable__control sk-hidden--visually\" id=\"a4a63d7a-65a7-47ec-b613-fb692128691b\" type=\"checkbox\" ><label class=\"sk-toggleable__label\" for=\"a4a63d7a-65a7-47ec-b613-fb692128691b\">cat</label><div class=\"sk-toggleable__content\"><pre>Index(['day_of_week'], dtype='object')</pre></div></div></div><div class=\"sk-serial\"><div class=\"sk-item\"><div class=\"sk-estimator sk-toggleable\"><input class=\"sk-toggleable__control sk-hidden--visually\" id=\"e0153e2d-4470-49af-98e7-ca5a97c61342\" type=\"checkbox\" ><label class=\"sk-toggleable__label\" for=\"e0153e2d-4470-49af-98e7-ca5a97c61342\">OrdinalEncoder</label><div class=\"sk-toggleable__content\"><pre>OrdinalEncoder()</pre></div></div></div></div></div></div></div></div></div></div>"
            ],
            "text/plain": [
              "ColumnTransformer(transformers=[('num', StandardScaler(),\n",
              "                                 Index(['trip_distance', 'pickup_longitude', 'pickup_latitude',\n",
              "       'dropoff_longitude', 'dropoff_latitude', 'fare_amount', 'total_amount',\n",
              "       'tip_amount', 'tolls_amount', 'extra', 'mta_tax', 'time_of_day',\n",
              "       'ave_speed'],\n",
              "      dtype='object')),\n",
              "                                ('cat', OrdinalEncoder(),\n",
              "                                 Index(['day_of_week'], dtype='object'))])"
            ]
          },
          "metadata": {
            "tags": []
          },
          "execution_count": 60
        }
      ]
    },
    {
      "cell_type": "code",
      "metadata": {
        "colab": {
          "base_uri": "https://localhost:8080/"
        },
        "id": "kiLX_zeab2w-",
        "outputId": "434a9e63-7187-4cab-a029-2565d36e7184"
      },
      "source": [
        "best_estimator.named_steps[\"ridge_regression\"].coef_"
      ],
      "execution_count": 61,
      "outputs": [
        {
          "output_type": "execute_result",
          "data": {
            "text/plain": [
              "array([[-7.08450275e-01, -3.32966992e-01,  2.54980811e-01,\n",
              "        -3.14907251e-01,  1.89891777e-01,  7.94886518e+00,\n",
              "         6.15010022e+00, -1.12503248e+00, -1.25105588e+00,\n",
              "         1.39364886e-02,  0.00000000e+00, -1.24333880e-01,\n",
              "        -3.85211502e+00,  3.05955367e-03]])"
            ]
          },
          "metadata": {
            "tags": []
          },
          "execution_count": 61
        }
      ]
    },
    {
      "cell_type": "code",
      "metadata": {
        "colab": {
          "base_uri": "https://localhost:8080/",
          "height": 488
        },
        "id": "YY3yXCyCOIVI",
        "outputId": "9060342c-a4b1-4f56-c968-d1063eb92271"
      },
      "source": [
        "df_importances = pd.DataFrame(zip(np.array(X.columns.to_list()),\n",
        "                 best_estimator.named_steps[\"ridge_regression\"].coef_[0],\n",
        "))\n",
        "df_importances = df_importances.sort_values(by=1).rename(columns={0:'feature', 1:'value'})\n",
        "df_importances"
      ],
      "execution_count": 62,
      "outputs": [
        {
          "output_type": "execute_result",
          "data": {
            "text/html": [
              "<div>\n",
              "<style scoped>\n",
              "    .dataframe tbody tr th:only-of-type {\n",
              "        vertical-align: middle;\n",
              "    }\n",
              "\n",
              "    .dataframe tbody tr th {\n",
              "        vertical-align: top;\n",
              "    }\n",
              "\n",
              "    .dataframe thead th {\n",
              "        text-align: right;\n",
              "    }\n",
              "</style>\n",
              "<table border=\"1\" class=\"dataframe\">\n",
              "  <thead>\n",
              "    <tr style=\"text-align: right;\">\n",
              "      <th></th>\n",
              "      <th>feature</th>\n",
              "      <th>value</th>\n",
              "    </tr>\n",
              "  </thead>\n",
              "  <tbody>\n",
              "    <tr>\n",
              "      <th>12</th>\n",
              "      <td>day_of_week</td>\n",
              "      <td>-3.852115</td>\n",
              "    </tr>\n",
              "    <tr>\n",
              "      <th>8</th>\n",
              "      <td>tolls_amount</td>\n",
              "      <td>-1.251056</td>\n",
              "    </tr>\n",
              "    <tr>\n",
              "      <th>7</th>\n",
              "      <td>tip_amount</td>\n",
              "      <td>-1.125032</td>\n",
              "    </tr>\n",
              "    <tr>\n",
              "      <th>0</th>\n",
              "      <td>trip_distance</td>\n",
              "      <td>-0.708450</td>\n",
              "    </tr>\n",
              "    <tr>\n",
              "      <th>1</th>\n",
              "      <td>pickup_longitude</td>\n",
              "      <td>-0.332967</td>\n",
              "    </tr>\n",
              "    <tr>\n",
              "      <th>3</th>\n",
              "      <td>dropoff_longitude</td>\n",
              "      <td>-0.314907</td>\n",
              "    </tr>\n",
              "    <tr>\n",
              "      <th>11</th>\n",
              "      <td>time_of_day</td>\n",
              "      <td>-0.124334</td>\n",
              "    </tr>\n",
              "    <tr>\n",
              "      <th>10</th>\n",
              "      <td>mta_tax</td>\n",
              "      <td>0.000000</td>\n",
              "    </tr>\n",
              "    <tr>\n",
              "      <th>13</th>\n",
              "      <td>ave_speed</td>\n",
              "      <td>0.003060</td>\n",
              "    </tr>\n",
              "    <tr>\n",
              "      <th>9</th>\n",
              "      <td>extra</td>\n",
              "      <td>0.013936</td>\n",
              "    </tr>\n",
              "    <tr>\n",
              "      <th>4</th>\n",
              "      <td>dropoff_latitude</td>\n",
              "      <td>0.189892</td>\n",
              "    </tr>\n",
              "    <tr>\n",
              "      <th>2</th>\n",
              "      <td>pickup_latitude</td>\n",
              "      <td>0.254981</td>\n",
              "    </tr>\n",
              "    <tr>\n",
              "      <th>6</th>\n",
              "      <td>total_amount</td>\n",
              "      <td>6.150100</td>\n",
              "    </tr>\n",
              "    <tr>\n",
              "      <th>5</th>\n",
              "      <td>fare_amount</td>\n",
              "      <td>7.948865</td>\n",
              "    </tr>\n",
              "  </tbody>\n",
              "</table>\n",
              "</div>"
            ],
            "text/plain": [
              "              feature     value\n",
              "12        day_of_week -3.852115\n",
              "8        tolls_amount -1.251056\n",
              "7          tip_amount -1.125032\n",
              "0       trip_distance -0.708450\n",
              "1    pickup_longitude -0.332967\n",
              "3   dropoff_longitude -0.314907\n",
              "11        time_of_day -0.124334\n",
              "10            mta_tax  0.000000\n",
              "13          ave_speed  0.003060\n",
              "9               extra  0.013936\n",
              "4    dropoff_latitude  0.189892\n",
              "2     pickup_latitude  0.254981\n",
              "6        total_amount  6.150100\n",
              "5         fare_amount  7.948865"
            ]
          },
          "metadata": {
            "tags": []
          },
          "execution_count": 62
        }
      ]
    },
    {
      "cell_type": "code",
      "metadata": {
        "colab": {
          "base_uri": "https://localhost:8080/",
          "height": 542
        },
        "id": "nP47oLdZFs3L",
        "outputId": "218eb1a1-17bb-43d0-ed3d-a8bbfe7f8209"
      },
      "source": [
        "width=750\n",
        "height=None\n",
        "orientation='h'\n",
        "display_imp_value_decimals=1\n",
        "yaxes_tickfont_family='Courier New'\n",
        "yaxes_tickfont_size=15\n",
        "text = df_importances.value.round(2)\n",
        "title_text = f'Top {len(df_importances)} Feature Importances'\n",
        "fig = px.bar(df_importances, \n",
        "            x='value', \n",
        "            y='feature',\n",
        "            orientation=orientation, \n",
        "            width=width, \n",
        "            height=height,\n",
        "             text=text)\n",
        "fig.update_layout(title_text=title_text, title_x=0.5) \n",
        "fig.update(layout_showlegend=False)\n",
        "fig.update_yaxes(tickfont=dict(family=yaxes_tickfont_family, \n",
        "                                size=yaxes_tickfont_size),\n",
        "                    title='')\n",
        "fig.show()"
      ],
      "execution_count": 63,
      "outputs": [
        {
          "output_type": "display_data",
          "data": {
            "text/html": [
              "<html>\n",
              "<head><meta charset=\"utf-8\" /></head>\n",
              "<body>\n",
              "    <div>\n",
              "            <script src=\"https://cdnjs.cloudflare.com/ajax/libs/mathjax/2.7.5/MathJax.js?config=TeX-AMS-MML_SVG\"></script><script type=\"text/javascript\">if (window.MathJax) {MathJax.Hub.Config({SVG: {font: \"STIX-Web\"}});}</script>\n",
              "                <script type=\"text/javascript\">window.PlotlyConfig = {MathJaxConfig: 'local'};</script>\n",
              "        <script src=\"https://cdn.plot.ly/plotly-latest.min.js\"></script>    \n",
              "            <div id=\"67eb24e2-2b26-4cd3-b518-5c2b0e76c627\" class=\"plotly-graph-div\" style=\"height:525px; width:750px;\"></div>\n",
              "            <script type=\"text/javascript\">\n",
              "                \n",
              "                    window.PLOTLYENV=window.PLOTLYENV || {};\n",
              "                    \n",
              "                if (document.getElementById(\"67eb24e2-2b26-4cd3-b518-5c2b0e76c627\")) {\n",
              "                    Plotly.newPlot(\n",
              "                        '67eb24e2-2b26-4cd3-b518-5c2b0e76c627',\n",
              "                        [{\"alignmentgroup\": \"True\", \"hoverlabel\": {\"namelength\": 0}, \"hovertemplate\": \"value=%{x}<br>feature=%{y}<br>text=%{text}\", \"legendgroup\": \"\", \"marker\": {\"color\": \"#636efa\"}, \"name\": \"\", \"offsetgroup\": \"\", \"orientation\": \"h\", \"showlegend\": false, \"text\": [-3.85, -1.25, -1.13, -0.71, -0.33, -0.31, -0.12, 0.0, 0.0, 0.01, 0.19, 0.25, 6.15, 7.95], \"textposition\": \"auto\", \"type\": \"bar\", \"x\": [-3.852115016986592, -1.2510558771440046, -1.1250324760997803, -0.7084502752922837, -0.33296699241270666, -0.31490725136433345, -0.12433387971096449, 0.0, 0.0030595536656027257, 0.013936488643683438, 0.1898917769281157, 0.25498081111274984, 6.150100224923586, 7.948865181262322], \"xaxis\": \"x\", \"y\": [\"day_of_week\", \"tolls_amount\", \"tip_amount\", \"trip_distance\", \"pickup_longitude\", \"dropoff_longitude\", \"time_of_day\", \"mta_tax\", \"ave_speed\", \"extra\", \"dropoff_latitude\", \"pickup_latitude\", \"total_amount\", \"fare_amount\"], \"yaxis\": \"y\"}],\n",
              "                        {\"barmode\": \"relative\", \"legend\": {\"tracegroupgap\": 0}, \"margin\": {\"t\": 60}, \"showlegend\": false, \"template\": {\"data\": {\"bar\": [{\"error_x\": {\"color\": \"#2a3f5f\"}, \"error_y\": {\"color\": \"#2a3f5f\"}, \"marker\": {\"line\": {\"color\": \"#E5ECF6\", \"width\": 0.5}}, \"type\": \"bar\"}], \"barpolar\": [{\"marker\": {\"line\": {\"color\": \"#E5ECF6\", \"width\": 0.5}}, \"type\": \"barpolar\"}], \"carpet\": [{\"aaxis\": {\"endlinecolor\": \"#2a3f5f\", \"gridcolor\": \"white\", \"linecolor\": \"white\", \"minorgridcolor\": \"white\", \"startlinecolor\": \"#2a3f5f\"}, \"baxis\": {\"endlinecolor\": \"#2a3f5f\", \"gridcolor\": \"white\", \"linecolor\": \"white\", \"minorgridcolor\": \"white\", \"startlinecolor\": \"#2a3f5f\"}, \"type\": \"carpet\"}], \"choropleth\": [{\"colorbar\": {\"outlinewidth\": 0, \"ticks\": \"\"}, \"type\": \"choropleth\"}], \"contour\": [{\"colorbar\": {\"outlinewidth\": 0, \"ticks\": \"\"}, \"colorscale\": [[0.0, \"#0d0887\"], [0.1111111111111111, \"#46039f\"], [0.2222222222222222, \"#7201a8\"], [0.3333333333333333, \"#9c179e\"], [0.4444444444444444, \"#bd3786\"], [0.5555555555555556, \"#d8576b\"], [0.6666666666666666, \"#ed7953\"], [0.7777777777777778, \"#fb9f3a\"], [0.8888888888888888, \"#fdca26\"], [1.0, \"#f0f921\"]], \"type\": \"contour\"}], \"contourcarpet\": [{\"colorbar\": {\"outlinewidth\": 0, \"ticks\": \"\"}, \"type\": \"contourcarpet\"}], \"heatmap\": [{\"colorbar\": {\"outlinewidth\": 0, \"ticks\": \"\"}, \"colorscale\": [[0.0, \"#0d0887\"], [0.1111111111111111, \"#46039f\"], [0.2222222222222222, \"#7201a8\"], [0.3333333333333333, \"#9c179e\"], [0.4444444444444444, \"#bd3786\"], [0.5555555555555556, \"#d8576b\"], [0.6666666666666666, \"#ed7953\"], [0.7777777777777778, \"#fb9f3a\"], [0.8888888888888888, \"#fdca26\"], [1.0, \"#f0f921\"]], \"type\": \"heatmap\"}], \"heatmapgl\": [{\"colorbar\": {\"outlinewidth\": 0, \"ticks\": \"\"}, \"colorscale\": [[0.0, \"#0d0887\"], [0.1111111111111111, \"#46039f\"], [0.2222222222222222, \"#7201a8\"], [0.3333333333333333, \"#9c179e\"], [0.4444444444444444, \"#bd3786\"], [0.5555555555555556, \"#d8576b\"], [0.6666666666666666, \"#ed7953\"], [0.7777777777777778, \"#fb9f3a\"], [0.8888888888888888, \"#fdca26\"], [1.0, \"#f0f921\"]], \"type\": \"heatmapgl\"}], \"histogram\": [{\"marker\": {\"colorbar\": {\"outlinewidth\": 0, \"ticks\": \"\"}}, \"type\": \"histogram\"}], \"histogram2d\": [{\"colorbar\": {\"outlinewidth\": 0, \"ticks\": \"\"}, \"colorscale\": [[0.0, \"#0d0887\"], [0.1111111111111111, \"#46039f\"], [0.2222222222222222, \"#7201a8\"], [0.3333333333333333, \"#9c179e\"], [0.4444444444444444, \"#bd3786\"], [0.5555555555555556, \"#d8576b\"], [0.6666666666666666, \"#ed7953\"], [0.7777777777777778, \"#fb9f3a\"], [0.8888888888888888, \"#fdca26\"], [1.0, \"#f0f921\"]], \"type\": \"histogram2d\"}], \"histogram2dcontour\": [{\"colorbar\": {\"outlinewidth\": 0, \"ticks\": \"\"}, \"colorscale\": [[0.0, \"#0d0887\"], [0.1111111111111111, \"#46039f\"], [0.2222222222222222, \"#7201a8\"], [0.3333333333333333, \"#9c179e\"], [0.4444444444444444, \"#bd3786\"], [0.5555555555555556, \"#d8576b\"], [0.6666666666666666, \"#ed7953\"], [0.7777777777777778, \"#fb9f3a\"], [0.8888888888888888, \"#fdca26\"], [1.0, \"#f0f921\"]], \"type\": \"histogram2dcontour\"}], \"mesh3d\": [{\"colorbar\": {\"outlinewidth\": 0, \"ticks\": \"\"}, \"type\": \"mesh3d\"}], \"parcoords\": [{\"line\": {\"colorbar\": {\"outlinewidth\": 0, \"ticks\": \"\"}}, \"type\": \"parcoords\"}], \"pie\": [{\"automargin\": true, \"type\": \"pie\"}], \"scatter\": [{\"marker\": {\"colorbar\": {\"outlinewidth\": 0, \"ticks\": \"\"}}, \"type\": \"scatter\"}], \"scatter3d\": [{\"line\": {\"colorbar\": {\"outlinewidth\": 0, \"ticks\": \"\"}}, \"marker\": {\"colorbar\": {\"outlinewidth\": 0, \"ticks\": \"\"}}, \"type\": \"scatter3d\"}], \"scattercarpet\": [{\"marker\": {\"colorbar\": {\"outlinewidth\": 0, \"ticks\": \"\"}}, \"type\": \"scattercarpet\"}], \"scattergeo\": [{\"marker\": {\"colorbar\": {\"outlinewidth\": 0, \"ticks\": \"\"}}, \"type\": \"scattergeo\"}], \"scattergl\": [{\"marker\": {\"colorbar\": {\"outlinewidth\": 0, \"ticks\": \"\"}}, \"type\": \"scattergl\"}], \"scattermapbox\": [{\"marker\": {\"colorbar\": {\"outlinewidth\": 0, \"ticks\": \"\"}}, \"type\": \"scattermapbox\"}], \"scatterpolar\": [{\"marker\": {\"colorbar\": {\"outlinewidth\": 0, \"ticks\": \"\"}}, \"type\": \"scatterpolar\"}], \"scatterpolargl\": [{\"marker\": {\"colorbar\": {\"outlinewidth\": 0, \"ticks\": \"\"}}, \"type\": \"scatterpolargl\"}], \"scatterternary\": [{\"marker\": {\"colorbar\": {\"outlinewidth\": 0, \"ticks\": \"\"}}, \"type\": \"scatterternary\"}], \"surface\": [{\"colorbar\": {\"outlinewidth\": 0, \"ticks\": \"\"}, \"colorscale\": [[0.0, \"#0d0887\"], [0.1111111111111111, \"#46039f\"], [0.2222222222222222, \"#7201a8\"], [0.3333333333333333, \"#9c179e\"], [0.4444444444444444, \"#bd3786\"], [0.5555555555555556, \"#d8576b\"], [0.6666666666666666, \"#ed7953\"], [0.7777777777777778, \"#fb9f3a\"], [0.8888888888888888, \"#fdca26\"], [1.0, \"#f0f921\"]], \"type\": \"surface\"}], \"table\": [{\"cells\": {\"fill\": {\"color\": \"#EBF0F8\"}, \"line\": {\"color\": \"white\"}}, \"header\": {\"fill\": {\"color\": \"#C8D4E3\"}, \"line\": {\"color\": \"white\"}}, \"type\": \"table\"}]}, \"layout\": {\"annotationdefaults\": {\"arrowcolor\": \"#2a3f5f\", \"arrowhead\": 0, \"arrowwidth\": 1}, \"coloraxis\": {\"colorbar\": {\"outlinewidth\": 0, \"ticks\": \"\"}}, \"colorscale\": {\"diverging\": [[0, \"#8e0152\"], [0.1, \"#c51b7d\"], [0.2, \"#de77ae\"], [0.3, \"#f1b6da\"], [0.4, \"#fde0ef\"], [0.5, \"#f7f7f7\"], [0.6, \"#e6f5d0\"], [0.7, \"#b8e186\"], [0.8, \"#7fbc41\"], [0.9, \"#4d9221\"], [1, \"#276419\"]], \"sequential\": [[0.0, \"#0d0887\"], [0.1111111111111111, \"#46039f\"], [0.2222222222222222, \"#7201a8\"], [0.3333333333333333, \"#9c179e\"], [0.4444444444444444, \"#bd3786\"], [0.5555555555555556, \"#d8576b\"], [0.6666666666666666, \"#ed7953\"], [0.7777777777777778, \"#fb9f3a\"], [0.8888888888888888, \"#fdca26\"], [1.0, \"#f0f921\"]], \"sequentialminus\": [[0.0, \"#0d0887\"], [0.1111111111111111, \"#46039f\"], [0.2222222222222222, \"#7201a8\"], [0.3333333333333333, \"#9c179e\"], [0.4444444444444444, \"#bd3786\"], [0.5555555555555556, \"#d8576b\"], [0.6666666666666666, \"#ed7953\"], [0.7777777777777778, \"#fb9f3a\"], [0.8888888888888888, \"#fdca26\"], [1.0, \"#f0f921\"]]}, \"colorway\": [\"#636efa\", \"#EF553B\", \"#00cc96\", \"#ab63fa\", \"#FFA15A\", \"#19d3f3\", \"#FF6692\", \"#B6E880\", \"#FF97FF\", \"#FECB52\"], \"font\": {\"color\": \"#2a3f5f\"}, \"geo\": {\"bgcolor\": \"white\", \"lakecolor\": \"white\", \"landcolor\": \"#E5ECF6\", \"showlakes\": true, \"showland\": true, \"subunitcolor\": \"white\"}, \"hoverlabel\": {\"align\": \"left\"}, \"hovermode\": \"closest\", \"mapbox\": {\"style\": \"light\"}, \"paper_bgcolor\": \"white\", \"plot_bgcolor\": \"#E5ECF6\", \"polar\": {\"angularaxis\": {\"gridcolor\": \"white\", \"linecolor\": \"white\", \"ticks\": \"\"}, \"bgcolor\": \"#E5ECF6\", \"radialaxis\": {\"gridcolor\": \"white\", \"linecolor\": \"white\", \"ticks\": \"\"}}, \"scene\": {\"xaxis\": {\"backgroundcolor\": \"#E5ECF6\", \"gridcolor\": \"white\", \"gridwidth\": 2, \"linecolor\": \"white\", \"showbackground\": true, \"ticks\": \"\", \"zerolinecolor\": \"white\"}, \"yaxis\": {\"backgroundcolor\": \"#E5ECF6\", \"gridcolor\": \"white\", \"gridwidth\": 2, \"linecolor\": \"white\", \"showbackground\": true, \"ticks\": \"\", \"zerolinecolor\": \"white\"}, \"zaxis\": {\"backgroundcolor\": \"#E5ECF6\", \"gridcolor\": \"white\", \"gridwidth\": 2, \"linecolor\": \"white\", \"showbackground\": true, \"ticks\": \"\", \"zerolinecolor\": \"white\"}}, \"shapedefaults\": {\"line\": {\"color\": \"#2a3f5f\"}}, \"ternary\": {\"aaxis\": {\"gridcolor\": \"white\", \"linecolor\": \"white\", \"ticks\": \"\"}, \"baxis\": {\"gridcolor\": \"white\", \"linecolor\": \"white\", \"ticks\": \"\"}, \"bgcolor\": \"#E5ECF6\", \"caxis\": {\"gridcolor\": \"white\", \"linecolor\": \"white\", \"ticks\": \"\"}}, \"title\": {\"x\": 0.05}, \"xaxis\": {\"automargin\": true, \"gridcolor\": \"white\", \"linecolor\": \"white\", \"ticks\": \"\", \"title\": {\"standoff\": 15}, \"zerolinecolor\": \"white\", \"zerolinewidth\": 2}, \"yaxis\": {\"automargin\": true, \"gridcolor\": \"white\", \"linecolor\": \"white\", \"ticks\": \"\", \"title\": {\"standoff\": 15}, \"zerolinecolor\": \"white\", \"zerolinewidth\": 2}}}, \"title\": {\"text\": \"Top 14 Feature Importances\", \"x\": 0.5}, \"width\": 750, \"xaxis\": {\"anchor\": \"y\", \"domain\": [0.0, 1.0], \"title\": {\"text\": \"value\"}}, \"yaxis\": {\"anchor\": \"x\", \"domain\": [0.0, 1.0], \"tickfont\": {\"family\": \"Courier New\", \"size\": 15}, \"title\": {\"text\": \"\"}}},\n",
              "                        {\"responsive\": true}\n",
              "                    ).then(function(){\n",
              "                            \n",
              "var gd = document.getElementById('67eb24e2-2b26-4cd3-b518-5c2b0e76c627');\n",
              "var x = new MutationObserver(function (mutations, observer) {{\n",
              "        var display = window.getComputedStyle(gd).display;\n",
              "        if (!display || display === 'none') {{\n",
              "            console.log([gd, 'removed!']);\n",
              "            Plotly.purge(gd);\n",
              "            observer.disconnect();\n",
              "        }}\n",
              "}});\n",
              "\n",
              "// Listen for the removal of the full notebook cells\n",
              "var notebookContainer = gd.closest('#notebook-container');\n",
              "if (notebookContainer) {{\n",
              "    x.observe(notebookContainer, {childList: true});\n",
              "}}\n",
              "\n",
              "// Listen for the clearing of the current output cell\n",
              "var outputEl = gd.closest('.output');\n",
              "if (outputEl) {{\n",
              "    x.observe(outputEl, {childList: true});\n",
              "}}\n",
              "\n",
              "                        })\n",
              "                };\n",
              "                \n",
              "            </script>\n",
              "        </div>\n",
              "</body>\n",
              "</html>"
            ]
          },
          "metadata": {
            "tags": []
          }
        }
      ]
    },
    {
      "cell_type": "markdown",
      "metadata": {
        "id": "hc42WnwaOuAY"
      },
      "source": [
        "## Decision Tree Regressor"
      ]
    },
    {
      "cell_type": "code",
      "metadata": {
        "id": "Rm6-dsTx-tBZ"
      },
      "source": [
        "from sklearn.tree import DecisionTreeRegressor"
      ],
      "execution_count": 64,
      "outputs": []
    },
    {
      "cell_type": "code",
      "metadata": {
        "id": "9TG5Uqv__lBt"
      },
      "source": [
        "tree = DecisionTreeRegressor(max_depth=10)"
      ],
      "execution_count": 65,
      "outputs": []
    },
    {
      "cell_type": "code",
      "metadata": {
        "id": "6izA84bY_HoJ",
        "colab": {
          "base_uri": "https://localhost:8080/",
          "height": 165
        },
        "outputId": "118fc3f6-e0a9-4349-f2c9-8356cf433515"
      },
      "source": [
        "estimator = Pipeline([('preparation', transformer1), \n",
        "                     ('model', tree)\n",
        "                     ])\n",
        "estimator.fit(X_train, y_train)"
      ],
      "execution_count": 66,
      "outputs": [
        {
          "output_type": "execute_result",
          "data": {
            "text/html": [
              "<style>#sk-3c8b1cd7-0807-4f09-a9e0-3efce7a96be3 {color: black;background-color: white;}#sk-3c8b1cd7-0807-4f09-a9e0-3efce7a96be3 pre{padding: 0;}#sk-3c8b1cd7-0807-4f09-a9e0-3efce7a96be3 div.sk-toggleable {background-color: white;}#sk-3c8b1cd7-0807-4f09-a9e0-3efce7a96be3 label.sk-toggleable__label {cursor: pointer;display: block;width: 100%;margin-bottom: 0;padding: 0.2em 0.3em;box-sizing: border-box;text-align: center;}#sk-3c8b1cd7-0807-4f09-a9e0-3efce7a96be3 div.sk-toggleable__content {max-height: 0;max-width: 0;overflow: hidden;text-align: left;background-color: #f0f8ff;}#sk-3c8b1cd7-0807-4f09-a9e0-3efce7a96be3 div.sk-toggleable__content pre {margin: 0.2em;color: black;border-radius: 0.25em;background-color: #f0f8ff;}#sk-3c8b1cd7-0807-4f09-a9e0-3efce7a96be3 input.sk-toggleable__control:checked~div.sk-toggleable__content {max-height: 200px;max-width: 100%;overflow: auto;}#sk-3c8b1cd7-0807-4f09-a9e0-3efce7a96be3 div.sk-estimator input.sk-toggleable__control:checked~label.sk-toggleable__label {background-color: #d4ebff;}#sk-3c8b1cd7-0807-4f09-a9e0-3efce7a96be3 div.sk-label input.sk-toggleable__control:checked~label.sk-toggleable__label {background-color: #d4ebff;}#sk-3c8b1cd7-0807-4f09-a9e0-3efce7a96be3 input.sk-hidden--visually {border: 0;clip: rect(1px 1px 1px 1px);clip: rect(1px, 1px, 1px, 1px);height: 1px;margin: -1px;overflow: hidden;padding: 0;position: absolute;width: 1px;}#sk-3c8b1cd7-0807-4f09-a9e0-3efce7a96be3 div.sk-estimator {font-family: monospace;background-color: #f0f8ff;margin: 0.25em 0.25em;border: 1px dotted black;border-radius: 0.25em;box-sizing: border-box;}#sk-3c8b1cd7-0807-4f09-a9e0-3efce7a96be3 div.sk-estimator:hover {background-color: #d4ebff;}#sk-3c8b1cd7-0807-4f09-a9e0-3efce7a96be3 div.sk-parallel-item::after {content: \"\";width: 100%;border-bottom: 1px solid gray;flex-grow: 1;}#sk-3c8b1cd7-0807-4f09-a9e0-3efce7a96be3 div.sk-label:hover label.sk-toggleable__label {background-color: #d4ebff;}#sk-3c8b1cd7-0807-4f09-a9e0-3efce7a96be3 div.sk-serial::before {content: \"\";position: absolute;border-left: 1px solid gray;box-sizing: border-box;top: 2em;bottom: 0;left: 50%;}#sk-3c8b1cd7-0807-4f09-a9e0-3efce7a96be3 div.sk-serial {display: flex;flex-direction: column;align-items: center;background-color: white;}#sk-3c8b1cd7-0807-4f09-a9e0-3efce7a96be3 div.sk-item {z-index: 1;}#sk-3c8b1cd7-0807-4f09-a9e0-3efce7a96be3 div.sk-parallel {display: flex;align-items: stretch;justify-content: center;background-color: white;}#sk-3c8b1cd7-0807-4f09-a9e0-3efce7a96be3 div.sk-parallel-item {display: flex;flex-direction: column;position: relative;background-color: white;}#sk-3c8b1cd7-0807-4f09-a9e0-3efce7a96be3 div.sk-parallel-item:first-child::after {align-self: flex-end;width: 50%;}#sk-3c8b1cd7-0807-4f09-a9e0-3efce7a96be3 div.sk-parallel-item:last-child::after {align-self: flex-start;width: 50%;}#sk-3c8b1cd7-0807-4f09-a9e0-3efce7a96be3 div.sk-parallel-item:only-child::after {width: 0;}#sk-3c8b1cd7-0807-4f09-a9e0-3efce7a96be3 div.sk-dashed-wrapped {border: 1px dashed gray;margin: 0.2em;box-sizing: border-box;padding-bottom: 0.1em;background-color: white;position: relative;}#sk-3c8b1cd7-0807-4f09-a9e0-3efce7a96be3 div.sk-label label {font-family: monospace;font-weight: bold;background-color: white;display: inline-block;line-height: 1.2em;}#sk-3c8b1cd7-0807-4f09-a9e0-3efce7a96be3 div.sk-label-container {position: relative;z-index: 2;text-align: center;}#sk-3c8b1cd7-0807-4f09-a9e0-3efce7a96be3 div.sk-container {display: inline-block;position: relative;}</style><div id=\"sk-3c8b1cd7-0807-4f09-a9e0-3efce7a96be3\" class\"sk-top-container\"><div class=\"sk-container\"><div class=\"sk-item sk-dashed-wrapped\"><div class=\"sk-label-container\"><div class=\"sk-label sk-toggleable\"><input class=\"sk-toggleable__control sk-hidden--visually\" id=\"6bccd6aa-5aa6-42bd-88b3-88d127815166\" type=\"checkbox\" ><label class=\"sk-toggleable__label\" for=\"6bccd6aa-5aa6-42bd-88b3-88d127815166\">Pipeline</label><div class=\"sk-toggleable__content\"><pre>Pipeline(steps=[('preparation',\n",
              "                 ColumnTransformer(transformers=[('num', StandardScaler(),\n",
              "                                                  Index(['trip_distance', 'pickup_longitude', 'pickup_latitude',\n",
              "       'dropoff_longitude', 'dropoff_latitude', 'fare_amount', 'total_amount',\n",
              "       'tip_amount', 'tolls_amount', 'extra', 'mta_tax', 'time_of_day',\n",
              "       'ave_speed'],\n",
              "      dtype='object')),\n",
              "                                                 ('cat', OrdinalEncoder(),\n",
              "                                                  Index(['day_of_week'], dtype='object'))])),\n",
              "                ('model', DecisionTreeRegressor(max_depth=10))])</pre></div></div></div><div class=\"sk-serial\"><div class=\"sk-item sk-dashed-wrapped\"><div class=\"sk-label-container\"><div class=\"sk-label sk-toggleable\"><input class=\"sk-toggleable__control sk-hidden--visually\" id=\"4fa2c955-50f4-4eef-b9fd-6cee895eba72\" type=\"checkbox\" ><label class=\"sk-toggleable__label\" for=\"4fa2c955-50f4-4eef-b9fd-6cee895eba72\">preparation: ColumnTransformer</label><div class=\"sk-toggleable__content\"><pre>ColumnTransformer(transformers=[('num', StandardScaler(),\n",
              "                                 Index(['trip_distance', 'pickup_longitude', 'pickup_latitude',\n",
              "       'dropoff_longitude', 'dropoff_latitude', 'fare_amount', 'total_amount',\n",
              "       'tip_amount', 'tolls_amount', 'extra', 'mta_tax', 'time_of_day',\n",
              "       'ave_speed'],\n",
              "      dtype='object')),\n",
              "                                ('cat', OrdinalEncoder(),\n",
              "                                 Index(['day_of_week'], dtype='object'))])</pre></div></div></div><div class=\"sk-parallel\"><div class=\"sk-parallel-item\"><div class=\"sk-item\"><div class=\"sk-label-container\"><div class=\"sk-label sk-toggleable\"><input class=\"sk-toggleable__control sk-hidden--visually\" id=\"9f6105a3-417d-4644-b389-1006ef7f1df7\" type=\"checkbox\" ><label class=\"sk-toggleable__label\" for=\"9f6105a3-417d-4644-b389-1006ef7f1df7\">num</label><div class=\"sk-toggleable__content\"><pre>Index(['trip_distance', 'pickup_longitude', 'pickup_latitude',\n",
              "       'dropoff_longitude', 'dropoff_latitude', 'fare_amount', 'total_amount',\n",
              "       'tip_amount', 'tolls_amount', 'extra', 'mta_tax', 'time_of_day',\n",
              "       'ave_speed'],\n",
              "      dtype='object')</pre></div></div></div><div class=\"sk-serial\"><div class=\"sk-item\"><div class=\"sk-estimator sk-toggleable\"><input class=\"sk-toggleable__control sk-hidden--visually\" id=\"4e2df902-a817-44d1-adf2-c49f830deef9\" type=\"checkbox\" ><label class=\"sk-toggleable__label\" for=\"4e2df902-a817-44d1-adf2-c49f830deef9\">StandardScaler</label><div class=\"sk-toggleable__content\"><pre>StandardScaler()</pre></div></div></div></div></div></div><div class=\"sk-parallel-item\"><div class=\"sk-item\"><div class=\"sk-label-container\"><div class=\"sk-label sk-toggleable\"><input class=\"sk-toggleable__control sk-hidden--visually\" id=\"32ff639a-eedd-448d-99c1-a843323b3847\" type=\"checkbox\" ><label class=\"sk-toggleable__label\" for=\"32ff639a-eedd-448d-99c1-a843323b3847\">cat</label><div class=\"sk-toggleable__content\"><pre>Index(['day_of_week'], dtype='object')</pre></div></div></div><div class=\"sk-serial\"><div class=\"sk-item\"><div class=\"sk-estimator sk-toggleable\"><input class=\"sk-toggleable__control sk-hidden--visually\" id=\"609f3ad1-28e6-4cdc-bdf7-d42564deb7cb\" type=\"checkbox\" ><label class=\"sk-toggleable__label\" for=\"609f3ad1-28e6-4cdc-bdf7-d42564deb7cb\">OrdinalEncoder</label><div class=\"sk-toggleable__content\"><pre>OrdinalEncoder()</pre></div></div></div></div></div></div></div></div><div class=\"sk-item\"><div class=\"sk-estimator sk-toggleable\"><input class=\"sk-toggleable__control sk-hidden--visually\" id=\"44afa628-b5ce-4126-b6a6-0ced8cba7ddb\" type=\"checkbox\" ><label class=\"sk-toggleable__label\" for=\"44afa628-b5ce-4126-b6a6-0ced8cba7ddb\">DecisionTreeRegressor</label><div class=\"sk-toggleable__content\"><pre>DecisionTreeRegressor(max_depth=10)</pre></div></div></div></div></div></div></div>"
            ],
            "text/plain": [
              "Pipeline(steps=[('preparation',\n",
              "                 ColumnTransformer(transformers=[('num', StandardScaler(),\n",
              "                                                  Index(['trip_distance', 'pickup_longitude', 'pickup_latitude',\n",
              "       'dropoff_longitude', 'dropoff_latitude', 'fare_amount', 'total_amount',\n",
              "       'tip_amount', 'tolls_amount', 'extra', 'mta_tax', 'time_of_day',\n",
              "       'ave_speed'],\n",
              "      dtype='object')),\n",
              "                                                 ('cat', OrdinalEncoder(),\n",
              "                                                  Index(['day_of_week'], dtype='object'))])),\n",
              "                ('model', DecisionTreeRegressor(max_depth=10))])"
            ]
          },
          "metadata": {
            "tags": []
          },
          "execution_count": 66
        }
      ]
    },
    {
      "cell_type": "code",
      "metadata": {
        "id": "J1bnPX6-BcAl"
      },
      "source": [
        "# predict\n",
        "y_train_pred = estimator.predict(X_train)\n",
        "y_val_pred = estimator.predict(X_val)\n",
        "y_test_pred = estimator.predict(X_test)"
      ],
      "execution_count": 67,
      "outputs": []
    },
    {
      "cell_type": "code",
      "metadata": {
        "colab": {
          "base_uri": "https://localhost:8080/"
        },
        "id": "TYWu2JpZEuy0",
        "outputId": "9540ee1f-9c57-44c2-c9c6-2b2f215691ec"
      },
      "source": [
        "r2_score(y_train_pred, y_train)"
      ],
      "execution_count": 68,
      "outputs": [
        {
          "output_type": "execute_result",
          "data": {
            "text/plain": [
              "0.9926368521686835"
            ]
          },
          "metadata": {
            "tags": []
          },
          "execution_count": 68
        }
      ]
    },
    {
      "cell_type": "code",
      "metadata": {
        "colab": {
          "base_uri": "https://localhost:8080/"
        },
        "id": "WJvj3BWSE79Y",
        "outputId": "0099af2c-c313-4894-8fa5-761a5e020582"
      },
      "source": [
        "r2_score(y_val_pred, y_val)"
      ],
      "execution_count": 69,
      "outputs": [
        {
          "output_type": "execute_result",
          "data": {
            "text/plain": [
              "0.9905872506558232"
            ]
          },
          "metadata": {
            "tags": []
          },
          "execution_count": 69
        }
      ]
    },
    {
      "cell_type": "code",
      "metadata": {
        "colab": {
          "base_uri": "https://localhost:8080/"
        },
        "id": "7-xTrxeVE9At",
        "outputId": "1429372c-5946-4030-e247-3acaaaa5fc2d"
      },
      "source": [
        "r2_score(y_test_pred, y_test)"
      ],
      "execution_count": 70,
      "outputs": [
        {
          "output_type": "execute_result",
          "data": {
            "text/plain": [
              "0.9907309612702905"
            ]
          },
          "metadata": {
            "tags": []
          },
          "execution_count": 70
        }
      ]
    },
    {
      "cell_type": "code",
      "metadata": {
        "id": "S75TXmfQNnJ5"
      },
      "source": [
        "errors.append(pd.Series({'train': r2_score(y_train_pred, y_train),\n",
        "           'val': r2_score(y_val_pred, y_val),\n",
        "           'test' : r2_score(y_test_pred, y_test)},\n",
        "          name='Decision Tree Score'))\n",
        "\n",
        "errors.append(pd.Series({'train': mean_squared_error(y_train, y_train_pred, squared=False),\n",
        "           'val': mean_squared_error(y_val_pred, y_val, squared=False),\n",
        "           'test' : mean_squared_error(y_test,  y_test_pred, squared=False)},\n",
        "          name='Decision Tree rmse'))"
      ],
      "execution_count": 71,
      "outputs": []
    },
    {
      "cell_type": "code",
      "metadata": {
        "colab": {
          "base_uri": "https://localhost:8080/",
          "height": 143
        },
        "id": "l8L3YwwWOKRM",
        "outputId": "85ae34e9-8ba9-47c2-97d6-2922031554d8"
      },
      "source": [
        "pd.concat(errors, axis=1)"
      ],
      "execution_count": 72,
      "outputs": [
        {
          "output_type": "execute_result",
          "data": {
            "text/html": [
              "<div>\n",
              "<style scoped>\n",
              "    .dataframe tbody tr th:only-of-type {\n",
              "        vertical-align: middle;\n",
              "    }\n",
              "\n",
              "    .dataframe tbody tr th {\n",
              "        vertical-align: top;\n",
              "    }\n",
              "\n",
              "    .dataframe thead th {\n",
              "        text-align: right;\n",
              "    }\n",
              "</style>\n",
              "<table border=\"1\" class=\"dataframe\">\n",
              "  <thead>\n",
              "    <tr style=\"text-align: right;\">\n",
              "      <th></th>\n",
              "      <th>score_without_poly</th>\n",
              "      <th>rmse_without_poly</th>\n",
              "      <th>score_without_poly</th>\n",
              "      <th>rmse_without_poly</th>\n",
              "      <th>Ridge_score_without_poly</th>\n",
              "      <th>Ridge_rmse_without_poly</th>\n",
              "      <th>Decision Tree Score</th>\n",
              "      <th>Decision Tree rmse</th>\n",
              "    </tr>\n",
              "  </thead>\n",
              "  <tbody>\n",
              "    <tr>\n",
              "      <th>train</th>\n",
              "      <td>0.897868</td>\n",
              "      <td>3.275742</td>\n",
              "      <td>0.974855</td>\n",
              "      <td>1.685357</td>\n",
              "      <td>0.897864</td>\n",
              "      <td>3.275742</td>\n",
              "      <td>0.992637</td>\n",
              "      <td>0.919994</td>\n",
              "    </tr>\n",
              "    <tr>\n",
              "      <th>val</th>\n",
              "      <td>0.898042</td>\n",
              "      <td>3.263581</td>\n",
              "      <td>0.975426</td>\n",
              "      <td>1.663812</td>\n",
              "      <td>0.898038</td>\n",
              "      <td>3.263582</td>\n",
              "      <td>0.990587</td>\n",
              "      <td>1.037704</td>\n",
              "    </tr>\n",
              "    <tr>\n",
              "      <th>test</th>\n",
              "      <td>0.897641</td>\n",
              "      <td>3.277864</td>\n",
              "      <td>0.972906</td>\n",
              "      <td>1.750163</td>\n",
              "      <td>0.897637</td>\n",
              "      <td>3.277869</td>\n",
              "      <td>0.990731</td>\n",
              "      <td>1.030708</td>\n",
              "    </tr>\n",
              "  </tbody>\n",
              "</table>\n",
              "</div>"
            ],
            "text/plain": [
              "       score_without_poly  ...  Decision Tree rmse\n",
              "train            0.897868  ...            0.919994\n",
              "val              0.898042  ...            1.037704\n",
              "test             0.897641  ...            1.030708\n",
              "\n",
              "[3 rows x 8 columns]"
            ]
          },
          "metadata": {
            "tags": []
          },
          "execution_count": 72
        }
      ]
    },
    {
      "cell_type": "code",
      "metadata": {
        "colab": {
          "base_uri": "https://localhost:8080/",
          "height": 376
        },
        "id": "bQkzgUe8GrQq",
        "outputId": "f438093d-531e-4cf8-e30e-6aab303d3db7"
      },
      "source": [
        "sns.set_context('talk')\n",
        "sns.set_style('ticks')\n",
        "sns.set_palette('dark')\n",
        "\n",
        "ax = plt.axes()\n",
        "# we are going to use y_test, y_test_pred\n",
        "ax.scatter(y_test, y_test_pred, alpha=.5)\n",
        "\n",
        "ax.set(xlabel='Ground truth', \n",
        "       ylabel='Predictions',\n",
        "       title='Yellow taxi, Duration Predictions vs Truth, using Linear Regression')"
      ],
      "execution_count": 73,
      "outputs": [
        {
          "output_type": "execute_result",
          "data": {
            "text/plain": [
              "[Text(0, 0.5, 'Predictions'),\n",
              " Text(0.5, 0, 'Ground truth'),\n",
              " Text(0.5, 1.0, 'Yellow taxi, Duration Predictions vs Truth, using Linear Regression')]"
            ]
          },
          "metadata": {
            "tags": []
          },
          "execution_count": 73
        },
        {
          "output_type": "display_data",
          "data": {
            "image/png": "[encoded data removed]",
            "text/plain": [
              "<Figure size 432x288 with 1 Axes>"
            ]
          },
          "metadata": {
            "tags": []
          }
        }
      ]
    },
    {
      "cell_type": "code",
      "metadata": {
        "colab": {
          "base_uri": "https://localhost:8080/",
          "height": 488
        },
        "id": "RjO-VrclEd8h",
        "outputId": "d3e51c26-140f-4b4f-864d-ceb7a5084568"
      },
      "source": [
        "df_importances = pd.DataFrame(zip(np.array(X.columns.to_list()),\n",
        "                 estimator.named_steps.model.feature_importances_,\n",
        "))\n",
        "df_importances = df_importances.sort_values(by=1).rename(columns={0:'feature', 1:'value'})\n",
        "df_importances"
      ],
      "execution_count": 74,
      "outputs": [
        {
          "output_type": "execute_result",
          "data": {
            "text/html": [
              "<div>\n",
              "<style scoped>\n",
              "    .dataframe tbody tr th:only-of-type {\n",
              "        vertical-align: middle;\n",
              "    }\n",
              "\n",
              "    .dataframe tbody tr th {\n",
              "        vertical-align: top;\n",
              "    }\n",
              "\n",
              "    .dataframe thead th {\n",
              "        text-align: right;\n",
              "    }\n",
              "</style>\n",
              "<table border=\"1\" class=\"dataframe\">\n",
              "  <thead>\n",
              "    <tr style=\"text-align: right;\">\n",
              "      <th></th>\n",
              "      <th>feature</th>\n",
              "      <th>value</th>\n",
              "    </tr>\n",
              "  </thead>\n",
              "  <tbody>\n",
              "    <tr>\n",
              "      <th>10</th>\n",
              "      <td>mta_tax</td>\n",
              "      <td>0.000000</td>\n",
              "    </tr>\n",
              "    <tr>\n",
              "      <th>7</th>\n",
              "      <td>tip_amount</td>\n",
              "      <td>0.000002</td>\n",
              "    </tr>\n",
              "    <tr>\n",
              "      <th>6</th>\n",
              "      <td>total_amount</td>\n",
              "      <td>0.000005</td>\n",
              "    </tr>\n",
              "    <tr>\n",
              "      <th>9</th>\n",
              "      <td>extra</td>\n",
              "      <td>0.000006</td>\n",
              "    </tr>\n",
              "    <tr>\n",
              "      <th>2</th>\n",
              "      <td>pickup_latitude</td>\n",
              "      <td>0.000007</td>\n",
              "    </tr>\n",
              "    <tr>\n",
              "      <th>11</th>\n",
              "      <td>time_of_day</td>\n",
              "      <td>0.000016</td>\n",
              "    </tr>\n",
              "    <tr>\n",
              "      <th>3</th>\n",
              "      <td>dropoff_longitude</td>\n",
              "      <td>0.000022</td>\n",
              "    </tr>\n",
              "    <tr>\n",
              "      <th>13</th>\n",
              "      <td>ave_speed</td>\n",
              "      <td>0.000031</td>\n",
              "    </tr>\n",
              "    <tr>\n",
              "      <th>4</th>\n",
              "      <td>dropoff_latitude</td>\n",
              "      <td>0.000051</td>\n",
              "    </tr>\n",
              "    <tr>\n",
              "      <th>8</th>\n",
              "      <td>tolls_amount</td>\n",
              "      <td>0.000063</td>\n",
              "    </tr>\n",
              "    <tr>\n",
              "      <th>1</th>\n",
              "      <td>pickup_longitude</td>\n",
              "      <td>0.000099</td>\n",
              "    </tr>\n",
              "    <tr>\n",
              "      <th>0</th>\n",
              "      <td>trip_distance</td>\n",
              "      <td>0.038079</td>\n",
              "    </tr>\n",
              "    <tr>\n",
              "      <th>12</th>\n",
              "      <td>day_of_week</td>\n",
              "      <td>0.112600</td>\n",
              "    </tr>\n",
              "    <tr>\n",
              "      <th>5</th>\n",
              "      <td>fare_amount</td>\n",
              "      <td>0.849019</td>\n",
              "    </tr>\n",
              "  </tbody>\n",
              "</table>\n",
              "</div>"
            ],
            "text/plain": [
              "              feature     value\n",
              "10            mta_tax  0.000000\n",
              "7          tip_amount  0.000002\n",
              "6        total_amount  0.000005\n",
              "9               extra  0.000006\n",
              "2     pickup_latitude  0.000007\n",
              "11        time_of_day  0.000016\n",
              "3   dropoff_longitude  0.000022\n",
              "13          ave_speed  0.000031\n",
              "4    dropoff_latitude  0.000051\n",
              "8        tolls_amount  0.000063\n",
              "1    pickup_longitude  0.000099\n",
              "0       trip_distance  0.038079\n",
              "12        day_of_week  0.112600\n",
              "5         fare_amount  0.849019"
            ]
          },
          "metadata": {
            "tags": []
          },
          "execution_count": 74
        }
      ]
    },
    {
      "cell_type": "code",
      "metadata": {
        "colab": {
          "base_uri": "https://localhost:8080/",
          "height": 542
        },
        "id": "g3rTxDynEdON",
        "outputId": "02b743a7-3820-4efa-83d4-8549370c3b75"
      },
      "source": [
        "width=750\n",
        "height=None\n",
        "orientation='h'\n",
        "display_imp_value_decimals=1\n",
        "yaxes_tickfont_family='Courier New'\n",
        "yaxes_tickfont_size=15\n",
        "text = df_importances.value.round(3)\n",
        "title_text = f'Top {len(df_importances)} Feature Importances'\n",
        "fig = px.bar(df_importances, \n",
        "            x='value', \n",
        "            y='feature',\n",
        "            orientation=orientation, \n",
        "            width=width, \n",
        "            height=height,\n",
        "             text=text)\n",
        "fig.update_layout(title_text=title_text, title_x=0.5) \n",
        "fig.update(layout_showlegend=False)\n",
        "fig.update_yaxes(tickfont=dict(family=yaxes_tickfont_family, \n",
        "                                size=yaxes_tickfont_size),\n",
        "                    title='')\n",
        "fig.show()"
      ],
      "execution_count": 75,
      "outputs": [
        {
          "output_type": "display_data",
          "data": {
            "text/html": [
              "<html>\n",
              "<head><meta charset=\"utf-8\" /></head>\n",
              "<body>\n",
              "    <div>\n",
              "            <script src=\"https://cdnjs.cloudflare.com/ajax/libs/mathjax/2.7.5/MathJax.js?config=TeX-AMS-MML_SVG\"></script><script type=\"text/javascript\">if (window.MathJax) {MathJax.Hub.Config({SVG: {font: \"STIX-Web\"}});}</script>\n",
              "                <script type=\"text/javascript\">window.PlotlyConfig = {MathJaxConfig: 'local'};</script>\n",
              "        <script src=\"https://cdn.plot.ly/plotly-latest.min.js\"></script>    \n",
              "            <div id=\"0209fee5-b7e7-48ec-bd80-f7d07b20a8e6\" class=\"plotly-graph-div\" style=\"height:525px; width:750px;\"></div>\n",
              "            <script type=\"text/javascript\">\n",
              "                \n",
              "                    window.PLOTLYENV=window.PLOTLYENV || {};\n",
              "                    \n",
              "                if (document.getElementById(\"0209fee5-b7e7-48ec-bd80-f7d07b20a8e6\")) {\n",
              "                    Plotly.newPlot(\n",
              "                        '0209fee5-b7e7-48ec-bd80-f7d07b20a8e6',\n",
              "                        [{\"alignmentgroup\": \"True\", \"hoverlabel\": {\"namelength\": 0}, \"hovertemplate\": \"value=%{x}<br>feature=%{y}<br>text=%{text}\", \"legendgroup\": \"\", \"marker\": {\"color\": \"#636efa\"}, \"name\": \"\", \"offsetgroup\": \"\", \"orientation\": \"h\", \"showlegend\": false, \"text\": [0.0, 0.0, 0.0, 0.0, 0.0, 0.0, 0.0, 0.0, 0.0, 0.0, 0.0, 0.038, 0.113, 0.849], \"textposition\": \"auto\", \"type\": \"bar\", \"x\": [0.0, 1.7461406610474505e-06, 5.4197424230339485e-06, 6.098769887195666e-06, 7.071845396695287e-06, 1.6206850516679458e-05, 2.2267772887710763e-05, 3.1169994796990564e-05, 5.0785564823970685e-05, 6.27651910136153e-05, 9.899207148239585e-05, 0.038078533514911916, 0.11259967559491295, 0.8490192669462857], \"xaxis\": \"x\", \"y\": [\"mta_tax\", \"tip_amount\", \"total_amount\", \"extra\", \"pickup_latitude\", \"time_of_day\", \"dropoff_longitude\", \"ave_speed\", \"dropoff_latitude\", \"tolls_amount\", \"pickup_longitude\", \"trip_distance\", \"day_of_week\", \"fare_amount\"], \"yaxis\": \"y\"}],\n",
              "                        {\"barmode\": \"relative\", \"legend\": {\"tracegroupgap\": 0}, \"margin\": {\"t\": 60}, \"showlegend\": false, \"template\": {\"data\": {\"bar\": [{\"error_x\": {\"color\": \"#2a3f5f\"}, \"error_y\": {\"color\": \"#2a3f5f\"}, \"marker\": {\"line\": {\"color\": \"#E5ECF6\", \"width\": 0.5}}, \"type\": \"bar\"}], \"barpolar\": [{\"marker\": {\"line\": {\"color\": \"#E5ECF6\", \"width\": 0.5}}, \"type\": \"barpolar\"}], \"carpet\": [{\"aaxis\": {\"endlinecolor\": \"#2a3f5f\", \"gridcolor\": \"white\", \"linecolor\": \"white\", \"minorgridcolor\": \"white\", \"startlinecolor\": \"#2a3f5f\"}, \"baxis\": {\"endlinecolor\": \"#2a3f5f\", \"gridcolor\": \"white\", \"linecolor\": \"white\", \"minorgridcolor\": \"white\", \"startlinecolor\": \"#2a3f5f\"}, \"type\": \"carpet\"}], \"choropleth\": [{\"colorbar\": {\"outlinewidth\": 0, \"ticks\": \"\"}, \"type\": \"choropleth\"}], \"contour\": [{\"colorbar\": {\"outlinewidth\": 0, \"ticks\": \"\"}, \"colorscale\": [[0.0, \"#0d0887\"], [0.1111111111111111, \"#46039f\"], [0.2222222222222222, \"#7201a8\"], [0.3333333333333333, \"#9c179e\"], [0.4444444444444444, \"#bd3786\"], [0.5555555555555556, \"#d8576b\"], [0.6666666666666666, \"#ed7953\"], [0.7777777777777778, \"#fb9f3a\"], [0.8888888888888888, \"#fdca26\"], [1.0, \"#f0f921\"]], \"type\": \"contour\"}], \"contourcarpet\": [{\"colorbar\": {\"outlinewidth\": 0, \"ticks\": \"\"}, \"type\": \"contourcarpet\"}], \"heatmap\": [{\"colorbar\": {\"outlinewidth\": 0, \"ticks\": \"\"}, \"colorscale\": [[0.0, \"#0d0887\"], [0.1111111111111111, \"#46039f\"], [0.2222222222222222, \"#7201a8\"], [0.3333333333333333, \"#9c179e\"], [0.4444444444444444, \"#bd3786\"], [0.5555555555555556, \"#d8576b\"], [0.6666666666666666, \"#ed7953\"], [0.7777777777777778, \"#fb9f3a\"], [0.8888888888888888, \"#fdca26\"], [1.0, \"#f0f921\"]], \"type\": \"heatmap\"}], \"heatmapgl\": [{\"colorbar\": {\"outlinewidth\": 0, \"ticks\": \"\"}, \"colorscale\": [[0.0, \"#0d0887\"], [0.1111111111111111, \"#46039f\"], [0.2222222222222222, \"#7201a8\"], [0.3333333333333333, \"#9c179e\"], [0.4444444444444444, \"#bd3786\"], [0.5555555555555556, \"#d8576b\"], [0.6666666666666666, \"#ed7953\"], [0.7777777777777778, \"#fb9f3a\"], [0.8888888888888888, \"#fdca26\"], [1.0, \"#f0f921\"]], \"type\": \"heatmapgl\"}], \"histogram\": [{\"marker\": {\"colorbar\": {\"outlinewidth\": 0, \"ticks\": \"\"}}, \"type\": \"histogram\"}], \"histogram2d\": [{\"colorbar\": {\"outlinewidth\": 0, \"ticks\": \"\"}, \"colorscale\": [[0.0, \"#0d0887\"], [0.1111111111111111, \"#46039f\"], [0.2222222222222222, \"#7201a8\"], [0.3333333333333333, \"#9c179e\"], [0.4444444444444444, \"#bd3786\"], [0.5555555555555556, \"#d8576b\"], [0.6666666666666666, \"#ed7953\"], [0.7777777777777778, \"#fb9f3a\"], [0.8888888888888888, \"#fdca26\"], [1.0, \"#f0f921\"]], \"type\": \"histogram2d\"}], \"histogram2dcontour\": [{\"colorbar\": {\"outlinewidth\": 0, \"ticks\": \"\"}, \"colorscale\": [[0.0, \"#0d0887\"], [0.1111111111111111, \"#46039f\"], [0.2222222222222222, \"#7201a8\"], [0.3333333333333333, \"#9c179e\"], [0.4444444444444444, \"#bd3786\"], [0.5555555555555556, \"#d8576b\"], [0.6666666666666666, \"#ed7953\"], [0.7777777777777778, \"#fb9f3a\"], [0.8888888888888888, \"#fdca26\"], [1.0, \"#f0f921\"]], \"type\": \"histogram2dcontour\"}], \"mesh3d\": [{\"colorbar\": {\"outlinewidth\": 0, \"ticks\": \"\"}, \"type\": \"mesh3d\"}], \"parcoords\": [{\"line\": {\"colorbar\": {\"outlinewidth\": 0, \"ticks\": \"\"}}, \"type\": \"parcoords\"}], \"pie\": [{\"automargin\": true, \"type\": \"pie\"}], \"scatter\": [{\"marker\": {\"colorbar\": {\"outlinewidth\": 0, \"ticks\": \"\"}}, \"type\": \"scatter\"}], \"scatter3d\": [{\"line\": {\"colorbar\": {\"outlinewidth\": 0, \"ticks\": \"\"}}, \"marker\": {\"colorbar\": {\"outlinewidth\": 0, \"ticks\": \"\"}}, \"type\": \"scatter3d\"}], \"scattercarpet\": [{\"marker\": {\"colorbar\": {\"outlinewidth\": 0, \"ticks\": \"\"}}, \"type\": \"scattercarpet\"}], \"scattergeo\": [{\"marker\": {\"colorbar\": {\"outlinewidth\": 0, \"ticks\": \"\"}}, \"type\": \"scattergeo\"}], \"scattergl\": [{\"marker\": {\"colorbar\": {\"outlinewidth\": 0, \"ticks\": \"\"}}, \"type\": \"scattergl\"}], \"scattermapbox\": [{\"marker\": {\"colorbar\": {\"outlinewidth\": 0, \"ticks\": \"\"}}, \"type\": \"scattermapbox\"}], \"scatterpolar\": [{\"marker\": {\"colorbar\": {\"outlinewidth\": 0, \"ticks\": \"\"}}, \"type\": \"scatterpolar\"}], \"scatterpolargl\": [{\"marker\": {\"colorbar\": {\"outlinewidth\": 0, \"ticks\": \"\"}}, \"type\": \"scatterpolargl\"}], \"scatterternary\": [{\"marker\": {\"colorbar\": {\"outlinewidth\": 0, \"ticks\": \"\"}}, \"type\": \"scatterternary\"}], \"surface\": [{\"colorbar\": {\"outlinewidth\": 0, \"ticks\": \"\"}, \"colorscale\": [[0.0, \"#0d0887\"], [0.1111111111111111, \"#46039f\"], [0.2222222222222222, \"#7201a8\"], [0.3333333333333333, \"#9c179e\"], [0.4444444444444444, \"#bd3786\"], [0.5555555555555556, \"#d8576b\"], [0.6666666666666666, \"#ed7953\"], [0.7777777777777778, \"#fb9f3a\"], [0.8888888888888888, \"#fdca26\"], [1.0, \"#f0f921\"]], \"type\": \"surface\"}], \"table\": [{\"cells\": {\"fill\": {\"color\": \"#EBF0F8\"}, \"line\": {\"color\": \"white\"}}, \"header\": {\"fill\": {\"color\": \"#C8D4E3\"}, \"line\": {\"color\": \"white\"}}, \"type\": \"table\"}]}, \"layout\": {\"annotationdefaults\": {\"arrowcolor\": \"#2a3f5f\", \"arrowhead\": 0, \"arrowwidth\": 1}, \"coloraxis\": {\"colorbar\": {\"outlinewidth\": 0, \"ticks\": \"\"}}, \"colorscale\": {\"diverging\": [[0, \"#8e0152\"], [0.1, \"#c51b7d\"], [0.2, \"#de77ae\"], [0.3, \"#f1b6da\"], [0.4, \"#fde0ef\"], [0.5, \"#f7f7f7\"], [0.6, \"#e6f5d0\"], [0.7, \"#b8e186\"], [0.8, \"#7fbc41\"], [0.9, \"#4d9221\"], [1, \"#276419\"]], \"sequential\": [[0.0, \"#0d0887\"], [0.1111111111111111, \"#46039f\"], [0.2222222222222222, \"#7201a8\"], [0.3333333333333333, \"#9c179e\"], [0.4444444444444444, \"#bd3786\"], [0.5555555555555556, \"#d8576b\"], [0.6666666666666666, \"#ed7953\"], [0.7777777777777778, \"#fb9f3a\"], [0.8888888888888888, \"#fdca26\"], [1.0, \"#f0f921\"]], \"sequentialminus\": [[0.0, \"#0d0887\"], [0.1111111111111111, \"#46039f\"], [0.2222222222222222, \"#7201a8\"], [0.3333333333333333, \"#9c179e\"], [0.4444444444444444, \"#bd3786\"], [0.5555555555555556, \"#d8576b\"], [0.6666666666666666, \"#ed7953\"], [0.7777777777777778, \"#fb9f3a\"], [0.8888888888888888, \"#fdca26\"], [1.0, \"#f0f921\"]]}, \"colorway\": [\"#636efa\", \"#EF553B\", \"#00cc96\", \"#ab63fa\", \"#FFA15A\", \"#19d3f3\", \"#FF6692\", \"#B6E880\", \"#FF97FF\", \"#FECB52\"], \"font\": {\"color\": \"#2a3f5f\"}, \"geo\": {\"bgcolor\": \"white\", \"lakecolor\": \"white\", \"landcolor\": \"#E5ECF6\", \"showlakes\": true, \"showland\": true, \"subunitcolor\": \"white\"}, \"hoverlabel\": {\"align\": \"left\"}, \"hovermode\": \"closest\", \"mapbox\": {\"style\": \"light\"}, \"paper_bgcolor\": \"white\", \"plot_bgcolor\": \"#E5ECF6\", \"polar\": {\"angularaxis\": {\"gridcolor\": \"white\", \"linecolor\": \"white\", \"ticks\": \"\"}, \"bgcolor\": \"#E5ECF6\", \"radialaxis\": {\"gridcolor\": \"white\", \"linecolor\": \"white\", \"ticks\": \"\"}}, \"scene\": {\"xaxis\": {\"backgroundcolor\": \"#E5ECF6\", \"gridcolor\": \"white\", \"gridwidth\": 2, \"linecolor\": \"white\", \"showbackground\": true, \"ticks\": \"\", \"zerolinecolor\": \"white\"}, \"yaxis\": {\"backgroundcolor\": \"#E5ECF6\", \"gridcolor\": \"white\", \"gridwidth\": 2, \"linecolor\": \"white\", \"showbackground\": true, \"ticks\": \"\", \"zerolinecolor\": \"white\"}, \"zaxis\": {\"backgroundcolor\": \"#E5ECF6\", \"gridcolor\": \"white\", \"gridwidth\": 2, \"linecolor\": \"white\", \"showbackground\": true, \"ticks\": \"\", \"zerolinecolor\": \"white\"}}, \"shapedefaults\": {\"line\": {\"color\": \"#2a3f5f\"}}, \"ternary\": {\"aaxis\": {\"gridcolor\": \"white\", \"linecolor\": \"white\", \"ticks\": \"\"}, \"baxis\": {\"gridcolor\": \"white\", \"linecolor\": \"white\", \"ticks\": \"\"}, \"bgcolor\": \"#E5ECF6\", \"caxis\": {\"gridcolor\": \"white\", \"linecolor\": \"white\", \"ticks\": \"\"}}, \"title\": {\"x\": 0.05}, \"xaxis\": {\"automargin\": true, \"gridcolor\": \"white\", \"linecolor\": \"white\", \"ticks\": \"\", \"title\": {\"standoff\": 15}, \"zerolinecolor\": \"white\", \"zerolinewidth\": 2}, \"yaxis\": {\"automargin\": true, \"gridcolor\": \"white\", \"linecolor\": \"white\", \"ticks\": \"\", \"title\": {\"standoff\": 15}, \"zerolinecolor\": \"white\", \"zerolinewidth\": 2}}}, \"title\": {\"text\": \"Top 14 Feature Importances\", \"x\": 0.5}, \"width\": 750, \"xaxis\": {\"anchor\": \"y\", \"domain\": [0.0, 1.0], \"title\": {\"text\": \"value\"}}, \"yaxis\": {\"anchor\": \"x\", \"domain\": [0.0, 1.0], \"tickfont\": {\"family\": \"Courier New\", \"size\": 15}, \"title\": {\"text\": \"\"}}},\n",
              "                        {\"responsive\": true}\n",
              "                    ).then(function(){\n",
              "                            \n",
              "var gd = document.getElementById('0209fee5-b7e7-48ec-bd80-f7d07b20a8e6');\n",
              "var x = new MutationObserver(function (mutations, observer) {{\n",
              "        var display = window.getComputedStyle(gd).display;\n",
              "        if (!display || display === 'none') {{\n",
              "            console.log([gd, 'removed!']);\n",
              "            Plotly.purge(gd);\n",
              "            observer.disconnect();\n",
              "        }}\n",
              "}});\n",
              "\n",
              "// Listen for the removal of the full notebook cells\n",
              "var notebookContainer = gd.closest('#notebook-container');\n",
              "if (notebookContainer) {{\n",
              "    x.observe(notebookContainer, {childList: true});\n",
              "}}\n",
              "\n",
              "// Listen for the clearing of the current output cell\n",
              "var outputEl = gd.closest('.output');\n",
              "if (outputEl) {{\n",
              "    x.observe(outputEl, {childList: true});\n",
              "}}\n",
              "\n",
              "                        })\n",
              "                };\n",
              "                \n",
              "            </script>\n",
              "        </div>\n",
              "</body>\n",
              "</html>"
            ]
          },
          "metadata": {
            "tags": []
          }
        }
      ]
    }
  ]
}