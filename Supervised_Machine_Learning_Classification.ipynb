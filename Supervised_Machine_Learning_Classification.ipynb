{
  "nbformat": 4,
  "nbformat_minor": 0,
  "metadata": {
    "colab": {
      "name": "Supervised Machine Learning: Classification.ipynb",
      "provenance": [],
      "collapsed_sections": [
        "V595j9_VFeTV",
        "5zqVyVHtFq8L",
        "6Fbt-P-uGVhz",
        "jUEhWLEqGxkP",
        "QPVlj2PPHDs9",
        "DF1id6PXHG-K",
        "2GL_PTV5FqrD",
        "7iNBW9ngFqcM",
        "sL24nb1kFqIH",
        "srK5QVWXFpv7",
        "BuqVvDo9KyNC"
      ],
      "authorship_tag": "ABX9TyPpVwARxb4QN4TkMUNantak",
      "include_colab_link": true
    },
    "kernelspec": {
      "display_name": "Python 3",
      "name": "python3"
    },
    "language_info": {
      "name": "python"
    }
  },
  "cells": [
    {
      "cell_type": "markdown",
      "metadata": {
        "id": "view-in-github",
        "colab_type": "text"
      },
      "source": [
        "<a href=\"https://colab.research.google.com/github/kenextra/IBM-MLCert/blob/main/Supervised_Machine_Learning_Classification.ipynb\" target=\"_parent\"><img src=\"https://colab.research.google.com/assets/colab-badge.svg\" alt=\"Open In Colab\"/></a>"
      ]
    },
    {
      "cell_type": "markdown",
      "metadata": {
        "id": "V595j9_VFeTV"
      },
      "source": [
        "# Supervised Machine Learning: Classification"
      ]
    },
    {
      "cell_type": "markdown",
      "metadata": {
        "id": "d0FOfbqdmp3A"
      },
      "source": [
        "## Sections required in your report:\n",
        "\n",
        "1. Main objective of the analysis that specifies whether your model will be focused on prediction or interpretation and the benefits that your analysis provides to the business or stakeholders of this data. \n",
        "\n",
        "2. Brief description of the data set you chose, a summary of its attributes, and an outline of what you are trying to accomplish with this analysis. \n",
        "\n",
        "3. Brief summary of data exploration and actions taken for data cleaning and feature engineering. \n",
        "\n",
        "4. Summary of training at least three different classifier models, preferably of different nature in explainability and predictability. For example, you can start with a simple logistic regression as a baseline, adding other models or ensemble models. Preferably, all your models use the same training and test splits, or the same cross-validation method. \n",
        "\n",
        "5. A paragraph explaining which of your classifier models you recommend as a final model that best fits your needs in terms of accuracy and explainability. \n",
        "\n",
        "6. Summary Key Findings and Insights, which walks your reader through the main drivers of your model and insights from your data derived from your classifier model. \n",
        "\n",
        "7. Suggestions for next steps in analyzing this data, which may include suggesting revisiting this model after adding specific data features that may help you achieve a better explanation or a better prediction. "
      ]
    },
    {
      "cell_type": "markdown",
      "metadata": {
        "id": "6wGY1QFunTjY"
      },
      "source": [
        "## The grading will center around 5 main points:\n",
        "\n",
        "1. Does the report include a section describing the data? \n",
        "\n",
        "2. Does the report include a paragraph detailing the main objective(s) of this analysis?  \n",
        "\n",
        "3. Does the report include a section with variations of classifier models and specifies which one is the model that best suits the main objective(s) of this analysis? \n",
        "\n",
        "4. Does the report include a clear and well-presented section with key findings related to the main objective(s) of the analysis? \n",
        "\n",
        "5. Does the report highlight possible flaws in the model and a plan of action to revisit this analysis with additional data or different predictive modeling techniques?  "
      ]
    },
    {
      "cell_type": "markdown",
      "metadata": {
        "id": "5zqVyVHtFq8L"
      },
      "source": [
        "# General Section"
      ]
    },
    {
      "cell_type": "code",
      "metadata": {
        "colab": {
          "base_uri": "https://localhost:8080/"
        },
        "id": "T6ttYEXLodfs",
        "outputId": "5e74f383-cdc7-4fcf-8802-8d7090e66c48"
      },
      "source": [
        "# install and reset runtime (for colab)\n",
        "!pip install --upgrade pandas --quiet\n",
        "!pip install --upgrade scikit-learn --quiet\n",
        "!pip install pyproj --quiet"
      ],
      "execution_count": 1,
      "outputs": [
        {
          "output_type": "stream",
          "text": [
            "\u001b[K     |████████████████████████████████| 11.3 MB 4.6 MB/s \n",
            "\u001b[31mERROR: pip's dependency resolver does not currently take into account all the packages that are installed. This behaviour is the source of the following dependency conflicts.\n",
            "google-colab 1.0.0 requires pandas~=1.1.0; python_version >= \"3.0\", but you have pandas 1.3.2 which is incompatible.\u001b[0m\n",
            "\u001b[K     |████████████████████████████████| 22.3 MB 1.8 MB/s \n",
            "\u001b[K     |████████████████████████████████| 6.6 MB 5.2 MB/s \n",
            "\u001b[?25h"
          ],
          "name": "stdout"
        }
      ]
    },
    {
      "cell_type": "markdown",
      "metadata": {
        "id": "6Fbt-P-uGVhz"
      },
      "source": [
        "## Import needed libraries"
      ]
    },
    {
      "cell_type": "code",
      "metadata": {
        "id": "40lk3RadryLN"
      },
      "source": [
        "import os\n",
        "import seaborn as sns\n",
        "from colorsetup import colors, palette\n",
        "sns.set_palette(palette)"
      ],
      "execution_count": 3,
      "outputs": []
    },
    {
      "cell_type": "code",
      "metadata": {
        "id": "93QQRIHSCSqo"
      },
      "source": [
        "import matplotlib as mpl\n",
        "import matplotlib.pyplot as plt\n",
        "import matplotlib.patches as patches\n",
        "from matplotlib.patches import ConnectionPatch\n",
        "# from collections import OrderedDict\n",
        "from matplotlib.gridspec import GridSpec\n",
        "plt.rcParams[\"patch.force_edgecolor\"] = True\n",
        "plt.style.use('fivethirtyeight')\n",
        "mpl.rc('patch', edgecolor = 'dimgray', linewidth=1)\n",
        "from IPython.core.interactiveshell import InteractiveShell\n",
        "InteractiveShell.ast_node_interactivity = \"last_expr\"\n",
        "%matplotlib inline"
      ],
      "execution_count": 5,
      "outputs": []
    },
    {
      "cell_type": "code",
      "metadata": {
        "colab": {
          "base_uri": "https://localhost:8080/",
          "height": 36
        },
        "id": "MOj-XQRWkiOL",
        "outputId": "40861033-78c5-4ae0-a1f7-62154652b0bd"
      },
      "source": [
        "import os\n",
        "import pandas as pd\n",
        "import numpy as np\n",
        "import plotly.express as px\n",
        "pd.__version__"
      ],
      "execution_count": 6,
      "outputs": [
        {
          "output_type": "execute_result",
          "data": {
            "application/vnd.google.colaboratory.intrinsic+json": {
              "type": "string"
            },
            "text/plain": [
              "'1.3.2'"
            ]
          },
          "metadata": {},
          "execution_count": 6
        }
      ]
    },
    {
      "cell_type": "code",
      "metadata": {
        "id": "ZKNxrquNmrRv"
      },
      "source": [
        "import urllib.request\n",
        "from zipfile import ZipFile\n",
        "from pathlib import Path\n",
        "from import_dataset import (load_data, basic_preprocessing,\n",
        "                            add_dayof_week, add_timeof_day,\n",
        "                            add_crow_direction, add_avespeed,\n",
        "                            add_toll_source, add_toll_paid, filter_toll)"
      ],
      "execution_count": 7,
      "outputs": []
    },
    {
      "cell_type": "markdown",
      "metadata": {
        "id": "jUEhWLEqGxkP"
      },
      "source": [
        "## Download Data"
      ]
    },
    {
      "cell_type": "code",
      "metadata": {
        "colab": {
          "base_uri": "https://localhost:8080/"
        },
        "id": "tj7Ef6Kg9Dgr",
        "outputId": "790a4adb-dafc-4124-b7b8-44f0e28bede8"
      },
      "source": [
        "DATA_URL = \"https://www.mathworks.com/supportfiles/practicaldsmatlab/taxi/Taxi%20Data.zip\"\n",
        "DATA_NAME = \"TaxiData.zip\"\n",
        "urllib.request.urlretrieve(DATA_URL, DATA_NAME)"
      ],
      "execution_count": null,
      "outputs": [
        {
          "data": {
            "text/plain": [
              "('TaxiData.zip', <http.client.HTTPMessage at 0x7f26fd39ed50>)"
            ]
          },
          "execution_count": 5,
          "metadata": {},
          "output_type": "execute_result"
        }
      ]
    },
    {
      "cell_type": "code",
      "metadata": {
        "id": "dITT8ccZGxPn"
      },
      "source": [
        "# Create a ZipFile Object and load data in it\n",
        "with ZipFile(DATA_NAME, 'r') as zipObj:\n",
        "   # Extract all the contents of zip file in current directory\n",
        "   zipObj.extractall()"
      ],
      "execution_count": null,
      "outputs": []
    },
    {
      "cell_type": "code",
      "metadata": {
        "colab": {
          "base_uri": "https://localhost:8080/"
        },
        "id": "X463HO7GHG9_",
        "outputId": "ca4a1ea6-db98-4852-9610-482c0122f33a"
      },
      "source": [
        "DATA_DIR = Path.cwd() / 'Taxi Data'\n",
        "DATA_DIR"
      ],
      "execution_count": 8,
      "outputs": [
        {
          "output_type": "execute_result",
          "data": {
            "text/plain": [
              "PosixPath('/content/drive/My Drive/Colab Notebooks/IBM/data/Taxi Data')"
            ]
          },
          "metadata": {},
          "execution_count": 8
        }
      ]
    },
    {
      "cell_type": "code",
      "metadata": {
        "id": "X1iAL9aFK2Cj"
      },
      "source": [
        "def save_fig(fig_id, tight_layout=True, fig_extension=\"png\", resolution=300):\n",
        "    path = os.path.join(IMAGES_PATH, fig_id + \".\" + fig_extension)\n",
        "    print(\"Saving figure\", fig_id)\n",
        "    if tight_layout:\n",
        "        plt.tight_layout()\n",
        "    plt.savefig(path, format=fig_extension, dpi=resolution)"
      ],
      "execution_count": 9,
      "outputs": []
    },
    {
      "cell_type": "markdown",
      "metadata": {
        "id": "QPVlj2PPHDs9"
      },
      "source": [
        "## Import and Explore Data"
      ]
    },
    {
      "cell_type": "code",
      "metadata": {
        "id": "wVxjZ5JhHG-B"
      },
      "source": [
        "col_names = [\"Vendor\", \"PickupTime\", \"DropoffTime\", \"Passengers\", \"Distance\", \"PickupLon\", \"PickupLat\",\n",
        "             \"RateCode\", \"HeldFlag\", \"DropoffLon\", \"DropoffLat\", \"PayType\", \"Fare\", \"ExtraCharge\", \"Tax\",\n",
        "             \"Tip\", \"Tolls\", \"ImpSurcharge\", \"TotalCharge\"];"
      ],
      "execution_count": 10,
      "outputs": []
    },
    {
      "cell_type": "code",
      "metadata": {
        "id": "HuwgL4ncHG-B"
      },
      "source": [
        "use_cols = ['VendorID',\n",
        " 'tpep_pickup_datetime',\n",
        " 'tpep_dropoff_datetime',\n",
        " 'passenger_count',\n",
        " 'trip_distance',\n",
        " 'pickup_longitude',\n",
        " 'pickup_latitude',\n",
        " 'RateCodeID',\n",
        " 'store_and_fwd_flag',\n",
        " 'dropoff_longitude',\n",
        " 'dropoff_latitude',\n",
        " 'payment_type',\n",
        " 'fare_amount',\n",
        " 'extra',\n",
        " 'mta_tax',\n",
        " 'tip_amount',\n",
        " 'tolls_amount',\n",
        " 'improvement_surcharge',\n",
        " 'total_amount']\n",
        "\n",
        "parse_dates = [\"tpep_pickup_datetime\", \"tpep_dropoff_datetime\"]"
      ],
      "execution_count": 11,
      "outputs": []
    },
    {
      "cell_type": "code",
      "metadata": {
        "id": "XY1nhWzbHG-C"
      },
      "source": [
        "dtype = {'RateCodeID': str, 'payment_type': str, 'VendorID': str, 'RatecodeID': str,}  # , dtype=dtype"
      ],
      "execution_count": 12,
      "outputs": []
    },
    {
      "cell_type": "code",
      "metadata": {
        "colab": {
          "base_uri": "https://localhost:8080/"
        },
        "id": "xEkw73Y_H3Tv",
        "outputId": "e0c321b3-ca5d-49f1-c544-1bf8b26c53be"
      },
      "source": [
        "original = load_data(path_dir=DATA_DIR, parse_dates=parse_dates, \n",
        "                     usecols=use_cols, dtype=dtype,\n",
        "                      file_substr='yellow', skiprows=1, preprocess=True, )"
      ],
      "execution_count": 13,
      "outputs": [
        {
          "output_type": "stream",
          "text": [
            "Loading all yellow*.csv in /content/drive/My Drive/Colab Notebooks/IBM/data/Taxi Data folder...\n",
            "\n",
            "Converting categorical features to their corresponding values...\n",
            "\n",
            "Removing invalid charges...\n",
            "\n",
            "Removing invalid trip information...\n",
            "\n",
            "Keep trips with pickup and drop off locations inside the region of interest\n",
            "\n",
            "Adding new features: Duration...\n",
            "\n",
            "Only keep trips with typical values..\n",
            "\n"
          ],
          "name": "stdout"
        }
      ]
    },
    {
      "cell_type": "code",
      "metadata": {
        "id": "uZU3p__jH3Tx"
      },
      "source": [
        "df = original.copy(deep=True)"
      ],
      "execution_count": 14,
      "outputs": []
    },
    {
      "cell_type": "code",
      "metadata": {
        "colab": {
          "base_uri": "https://localhost:8080/"
        },
        "id": "4X0ZzrQ6HG-D",
        "outputId": "5e0aa04d-2b75-4ecb-ed5a-d78f7eeeec0e"
      },
      "source": [
        "df.info(show_counts=True)"
      ],
      "execution_count": 15,
      "outputs": [
        {
          "output_type": "stream",
          "text": [
            "<class 'pandas.core.frame.DataFrame'>\n",
            "RangeIndex: 2823895 entries, 0 to 2823894\n",
            "Data columns (total 20 columns):\n",
            " #   Column                 Non-Null Count    Dtype         \n",
            "---  ------                 --------------    -----         \n",
            " 0   VendorID               2823895 non-null  object        \n",
            " 1   tpep_pickup_datetime   2823895 non-null  datetime64[ns]\n",
            " 2   tpep_dropoff_datetime  2823895 non-null  datetime64[ns]\n",
            " 3   passenger_count        2823895 non-null  int64         \n",
            " 4   trip_distance          2823895 non-null  float64       \n",
            " 5   pickup_longitude       2823895 non-null  float64       \n",
            " 6   pickup_latitude        2823895 non-null  float64       \n",
            " 7   RateCodeID             2823895 non-null  object        \n",
            " 8   store_and_fwd_flag     2823895 non-null  object        \n",
            " 9   dropoff_longitude      2823895 non-null  float64       \n",
            " 10  dropoff_latitude       2823895 non-null  float64       \n",
            " 11  payment_type           2823895 non-null  object        \n",
            " 12  fare_amount            2823895 non-null  float64       \n",
            " 13  extra                  2823895 non-null  float64       \n",
            " 14  mta_tax                2823895 non-null  float64       \n",
            " 15  tip_amount             2823895 non-null  float64       \n",
            " 16  tolls_amount           2823895 non-null  float64       \n",
            " 17  improvement_surcharge  2823895 non-null  float64       \n",
            " 18  total_amount           2823895 non-null  float64       \n",
            " 19  duration               2823895 non-null  float64       \n",
            "dtypes: datetime64[ns](2), float64(13), int64(1), object(4)\n",
            "memory usage: 430.9+ MB\n"
          ],
          "name": "stdout"
        }
      ]
    },
    {
      "cell_type": "code",
      "metadata": {
        "colab": {
          "base_uri": "https://localhost:8080/"
        },
        "id": "GaCpjyWh1qLF",
        "outputId": "27f10229-5c43-4878-8845-79dfbab5c163"
      },
      "source": [
        "df.shape"
      ],
      "execution_count": 16,
      "outputs": [
        {
          "output_type": "execute_result",
          "data": {
            "text/plain": [
              "(2823895, 20)"
            ]
          },
          "metadata": {},
          "execution_count": 16
        }
      ]
    },
    {
      "cell_type": "code",
      "metadata": {
        "colab": {
          "base_uri": "https://localhost:8080/",
          "height": 348
        },
        "id": "VJsuX3d1HG-E",
        "outputId": "f74a5e97-ad27-4a75-8f10-153d9809c640"
      },
      "source": [
        "df.head()"
      ],
      "execution_count": 17,
      "outputs": [
        {
          "output_type": "execute_result",
          "data": {
            "text/html": [
              "<div>\n",
              "<style scoped>\n",
              "    .dataframe tbody tr th:only-of-type {\n",
              "        vertical-align: middle;\n",
              "    }\n",
              "\n",
              "    .dataframe tbody tr th {\n",
              "        vertical-align: top;\n",
              "    }\n",
              "\n",
              "    .dataframe thead th {\n",
              "        text-align: right;\n",
              "    }\n",
              "</style>\n",
              "<table border=\"1\" class=\"dataframe\">\n",
              "  <thead>\n",
              "    <tr style=\"text-align: right;\">\n",
              "      <th></th>\n",
              "      <th>VendorID</th>\n",
              "      <th>tpep_pickup_datetime</th>\n",
              "      <th>tpep_dropoff_datetime</th>\n",
              "      <th>passenger_count</th>\n",
              "      <th>trip_distance</th>\n",
              "      <th>pickup_longitude</th>\n",
              "      <th>pickup_latitude</th>\n",
              "      <th>RateCodeID</th>\n",
              "      <th>store_and_fwd_flag</th>\n",
              "      <th>dropoff_longitude</th>\n",
              "      <th>dropoff_latitude</th>\n",
              "      <th>payment_type</th>\n",
              "      <th>fare_amount</th>\n",
              "      <th>extra</th>\n",
              "      <th>mta_tax</th>\n",
              "      <th>tip_amount</th>\n",
              "      <th>tolls_amount</th>\n",
              "      <th>improvement_surcharge</th>\n",
              "      <th>total_amount</th>\n",
              "      <th>duration</th>\n",
              "    </tr>\n",
              "  </thead>\n",
              "  <tbody>\n",
              "    <tr>\n",
              "      <th>0</th>\n",
              "      <td>VeriFone Inc.</td>\n",
              "      <td>2015-01-15 14:00:41</td>\n",
              "      <td>2015-01-15 14:13:48</td>\n",
              "      <td>1</td>\n",
              "      <td>3.00</td>\n",
              "      <td>-73.964272</td>\n",
              "      <td>40.773022</td>\n",
              "      <td>Standard rate</td>\n",
              "      <td>N</td>\n",
              "      <td>-73.965775</td>\n",
              "      <td>40.804668</td>\n",
              "      <td>Cash</td>\n",
              "      <td>12.0</td>\n",
              "      <td>0.0</td>\n",
              "      <td>0.5</td>\n",
              "      <td>0.00</td>\n",
              "      <td>0.0</td>\n",
              "      <td>0.3</td>\n",
              "      <td>12.80</td>\n",
              "      <td>13.116667</td>\n",
              "    </tr>\n",
              "    <tr>\n",
              "      <th>1</th>\n",
              "      <td>VeriFone Inc.</td>\n",
              "      <td>2015-01-15 14:00:42</td>\n",
              "      <td>2015-01-15 14:05:01</td>\n",
              "      <td>1</td>\n",
              "      <td>0.67</td>\n",
              "      <td>-73.970932</td>\n",
              "      <td>40.795921</td>\n",
              "      <td>Standard rate</td>\n",
              "      <td>N</td>\n",
              "      <td>-73.970169</td>\n",
              "      <td>40.789124</td>\n",
              "      <td>Credit card</td>\n",
              "      <td>5.0</td>\n",
              "      <td>0.0</td>\n",
              "      <td>0.5</td>\n",
              "      <td>1.00</td>\n",
              "      <td>0.0</td>\n",
              "      <td>0.3</td>\n",
              "      <td>6.80</td>\n",
              "      <td>4.316667</td>\n",
              "    </tr>\n",
              "    <tr>\n",
              "      <th>2</th>\n",
              "      <td>VeriFone Inc.</td>\n",
              "      <td>2015-01-07 14:58:08</td>\n",
              "      <td>2015-01-07 15:06:36</td>\n",
              "      <td>1</td>\n",
              "      <td>0.98</td>\n",
              "      <td>-73.948692</td>\n",
              "      <td>40.777782</td>\n",
              "      <td>Standard rate</td>\n",
              "      <td>N</td>\n",
              "      <td>-73.955284</td>\n",
              "      <td>40.786869</td>\n",
              "      <td>Credit card</td>\n",
              "      <td>7.0</td>\n",
              "      <td>0.0</td>\n",
              "      <td>0.5</td>\n",
              "      <td>1.40</td>\n",
              "      <td>0.0</td>\n",
              "      <td>0.3</td>\n",
              "      <td>9.20</td>\n",
              "      <td>8.466667</td>\n",
              "    </tr>\n",
              "    <tr>\n",
              "      <th>3</th>\n",
              "      <td>VeriFone Inc.</td>\n",
              "      <td>2015-01-07 14:58:09</td>\n",
              "      <td>2015-01-07 15:12:55</td>\n",
              "      <td>3</td>\n",
              "      <td>4.39</td>\n",
              "      <td>-73.988663</td>\n",
              "      <td>40.722706</td>\n",
              "      <td>Standard rate</td>\n",
              "      <td>N</td>\n",
              "      <td>-73.987221</td>\n",
              "      <td>40.694408</td>\n",
              "      <td>Cash</td>\n",
              "      <td>15.5</td>\n",
              "      <td>0.0</td>\n",
              "      <td>0.5</td>\n",
              "      <td>0.00</td>\n",
              "      <td>0.0</td>\n",
              "      <td>0.3</td>\n",
              "      <td>16.30</td>\n",
              "      <td>14.766667</td>\n",
              "    </tr>\n",
              "    <tr>\n",
              "      <th>4</th>\n",
              "      <td>Creative Mobile Technologies, LLC</td>\n",
              "      <td>2015-01-20 23:08:16</td>\n",
              "      <td>2015-01-20 23:23:56</td>\n",
              "      <td>1</td>\n",
              "      <td>3.90</td>\n",
              "      <td>-73.974998</td>\n",
              "      <td>40.760281</td>\n",
              "      <td>Standard rate</td>\n",
              "      <td>N</td>\n",
              "      <td>-74.008461</td>\n",
              "      <td>40.711468</td>\n",
              "      <td>Credit card</td>\n",
              "      <td>15.0</td>\n",
              "      <td>0.5</td>\n",
              "      <td>0.5</td>\n",
              "      <td>3.25</td>\n",
              "      <td>0.0</td>\n",
              "      <td>0.3</td>\n",
              "      <td>19.55</td>\n",
              "      <td>15.666667</td>\n",
              "    </tr>\n",
              "  </tbody>\n",
              "</table>\n",
              "</div>"
            ],
            "text/plain": [
              "                            VendorID  ...   duration\n",
              "0                      VeriFone Inc.  ...  13.116667\n",
              "1                      VeriFone Inc.  ...   4.316667\n",
              "2                      VeriFone Inc.  ...   8.466667\n",
              "3                      VeriFone Inc.  ...  14.766667\n",
              "4  Creative Mobile Technologies, LLC  ...  15.666667\n",
              "\n",
              "[5 rows x 20 columns]"
            ]
          },
          "metadata": {},
          "execution_count": 17
        }
      ]
    },
    {
      "cell_type": "code",
      "metadata": {
        "colab": {
          "base_uri": "https://localhost:8080/",
          "height": 452
        },
        "id": "H06jo2TRHG-F",
        "outputId": "fed33c47-f748-4b5f-c80a-a27919c80143"
      },
      "source": [
        "df.tail()"
      ],
      "execution_count": 18,
      "outputs": [
        {
          "output_type": "execute_result",
          "data": {
            "text/html": [
              "<div>\n",
              "<style scoped>\n",
              "    .dataframe tbody tr th:only-of-type {\n",
              "        vertical-align: middle;\n",
              "    }\n",
              "\n",
              "    .dataframe tbody tr th {\n",
              "        vertical-align: top;\n",
              "    }\n",
              "\n",
              "    .dataframe thead th {\n",
              "        text-align: right;\n",
              "    }\n",
              "</style>\n",
              "<table border=\"1\" class=\"dataframe\">\n",
              "  <thead>\n",
              "    <tr style=\"text-align: right;\">\n",
              "      <th></th>\n",
              "      <th>VendorID</th>\n",
              "      <th>tpep_pickup_datetime</th>\n",
              "      <th>tpep_dropoff_datetime</th>\n",
              "      <th>passenger_count</th>\n",
              "      <th>trip_distance</th>\n",
              "      <th>pickup_longitude</th>\n",
              "      <th>pickup_latitude</th>\n",
              "      <th>RateCodeID</th>\n",
              "      <th>store_and_fwd_flag</th>\n",
              "      <th>dropoff_longitude</th>\n",
              "      <th>dropoff_latitude</th>\n",
              "      <th>payment_type</th>\n",
              "      <th>fare_amount</th>\n",
              "      <th>extra</th>\n",
              "      <th>mta_tax</th>\n",
              "      <th>tip_amount</th>\n",
              "      <th>tolls_amount</th>\n",
              "      <th>improvement_surcharge</th>\n",
              "      <th>total_amount</th>\n",
              "      <th>duration</th>\n",
              "    </tr>\n",
              "  </thead>\n",
              "  <tbody>\n",
              "    <tr>\n",
              "      <th>2823890</th>\n",
              "      <td>Creative Mobile Technologies, LLC</td>\n",
              "      <td>2015-12-31 23:58:08</td>\n",
              "      <td>2016-01-01 00:05:42</td>\n",
              "      <td>1</td>\n",
              "      <td>1.50</td>\n",
              "      <td>-73.992424</td>\n",
              "      <td>40.753792</td>\n",
              "      <td>Standard rate</td>\n",
              "      <td>N</td>\n",
              "      <td>-74.008942</td>\n",
              "      <td>40.740967</td>\n",
              "      <td>Cash</td>\n",
              "      <td>7.5</td>\n",
              "      <td>0.5</td>\n",
              "      <td>0.5</td>\n",
              "      <td>0.00</td>\n",
              "      <td>0.0</td>\n",
              "      <td>0.3</td>\n",
              "      <td>8.80</td>\n",
              "      <td>7.566667</td>\n",
              "    </tr>\n",
              "    <tr>\n",
              "      <th>2823891</th>\n",
              "      <td>Creative Mobile Technologies, LLC</td>\n",
              "      <td>2015-12-31 23:58:54</td>\n",
              "      <td>2016-01-01 00:02:55</td>\n",
              "      <td>2</td>\n",
              "      <td>0.80</td>\n",
              "      <td>-74.011581</td>\n",
              "      <td>40.702980</td>\n",
              "      <td>Standard rate</td>\n",
              "      <td>N</td>\n",
              "      <td>-74.010216</td>\n",
              "      <td>40.712170</td>\n",
              "      <td>Credit card</td>\n",
              "      <td>5.0</td>\n",
              "      <td>0.5</td>\n",
              "      <td>0.5</td>\n",
              "      <td>1.25</td>\n",
              "      <td>0.0</td>\n",
              "      <td>0.3</td>\n",
              "      <td>7.55</td>\n",
              "      <td>4.016667</td>\n",
              "    </tr>\n",
              "    <tr>\n",
              "      <th>2823892</th>\n",
              "      <td>VeriFone Inc.</td>\n",
              "      <td>2015-12-31 23:58:57</td>\n",
              "      <td>2016-01-01 00:02:36</td>\n",
              "      <td>1</td>\n",
              "      <td>0.75</td>\n",
              "      <td>-73.988808</td>\n",
              "      <td>40.768791</td>\n",
              "      <td>Standard rate</td>\n",
              "      <td>N</td>\n",
              "      <td>-73.996819</td>\n",
              "      <td>40.763008</td>\n",
              "      <td>Cash</td>\n",
              "      <td>4.5</td>\n",
              "      <td>0.5</td>\n",
              "      <td>0.5</td>\n",
              "      <td>0.00</td>\n",
              "      <td>0.0</td>\n",
              "      <td>0.3</td>\n",
              "      <td>5.80</td>\n",
              "      <td>3.650000</td>\n",
              "    </tr>\n",
              "    <tr>\n",
              "      <th>2823893</th>\n",
              "      <td>Creative Mobile Technologies, LLC</td>\n",
              "      <td>2015-12-31 23:59:58</td>\n",
              "      <td>2016-01-01 00:05:19</td>\n",
              "      <td>2</td>\n",
              "      <td>2.00</td>\n",
              "      <td>-73.965271</td>\n",
              "      <td>40.760281</td>\n",
              "      <td>Standard rate</td>\n",
              "      <td>N</td>\n",
              "      <td>-73.939514</td>\n",
              "      <td>40.752388</td>\n",
              "      <td>Cash</td>\n",
              "      <td>7.5</td>\n",
              "      <td>0.5</td>\n",
              "      <td>0.5</td>\n",
              "      <td>0.00</td>\n",
              "      <td>0.0</td>\n",
              "      <td>0.3</td>\n",
              "      <td>8.80</td>\n",
              "      <td>5.350000</td>\n",
              "    </tr>\n",
              "    <tr>\n",
              "      <th>2823894</th>\n",
              "      <td>Creative Mobile Technologies, LLC</td>\n",
              "      <td>2015-12-31 23:59:59</td>\n",
              "      <td>2016-01-01 00:12:55</td>\n",
              "      <td>2</td>\n",
              "      <td>3.80</td>\n",
              "      <td>-73.987297</td>\n",
              "      <td>40.739079</td>\n",
              "      <td>Standard rate</td>\n",
              "      <td>N</td>\n",
              "      <td>-73.988670</td>\n",
              "      <td>40.693298</td>\n",
              "      <td>Cash</td>\n",
              "      <td>13.5</td>\n",
              "      <td>0.5</td>\n",
              "      <td>0.5</td>\n",
              "      <td>0.00</td>\n",
              "      <td>0.0</td>\n",
              "      <td>0.3</td>\n",
              "      <td>14.80</td>\n",
              "      <td>12.933333</td>\n",
              "    </tr>\n",
              "  </tbody>\n",
              "</table>\n",
              "</div>"
            ],
            "text/plain": [
              "                                  VendorID  ...   duration\n",
              "2823890  Creative Mobile Technologies, LLC  ...   7.566667\n",
              "2823891  Creative Mobile Technologies, LLC  ...   4.016667\n",
              "2823892                      VeriFone Inc.  ...   3.650000\n",
              "2823893  Creative Mobile Technologies, LLC  ...   5.350000\n",
              "2823894  Creative Mobile Technologies, LLC  ...  12.933333\n",
              "\n",
              "[5 rows x 20 columns]"
            ]
          },
          "metadata": {},
          "execution_count": 18
        }
      ]
    },
    {
      "cell_type": "code",
      "metadata": {
        "id": "eTig70E1HG-G"
      },
      "source": [
        "# Add features\n",
        "df = add_timeof_day(df)\n",
        "df = add_dayof_week(df)\n",
        "df = add_avespeed(df)\n",
        "df = add_toll_paid(df)\n",
        "df = add_toll_source(df)"
      ],
      "execution_count": 19,
      "outputs": []
    },
    {
      "cell_type": "code",
      "metadata": {
        "colab": {
          "base_uri": "https://localhost:8080/",
          "height": 175
        },
        "id": "JAPg_pvEIPBH",
        "outputId": "b769e520-a870-4fc5-9077-ebdfdbe553e2"
      },
      "source": [
        "df.describe(include=[object, bool], )"
      ],
      "execution_count": 20,
      "outputs": [
        {
          "output_type": "execute_result",
          "data": {
            "text/html": [
              "<div>\n",
              "<style scoped>\n",
              "    .dataframe tbody tr th:only-of-type {\n",
              "        vertical-align: middle;\n",
              "    }\n",
              "\n",
              "    .dataframe tbody tr th {\n",
              "        vertical-align: top;\n",
              "    }\n",
              "\n",
              "    .dataframe thead th {\n",
              "        text-align: right;\n",
              "    }\n",
              "</style>\n",
              "<table border=\"1\" class=\"dataframe\">\n",
              "  <thead>\n",
              "    <tr style=\"text-align: right;\">\n",
              "      <th></th>\n",
              "      <th>VendorID</th>\n",
              "      <th>RateCodeID</th>\n",
              "      <th>store_and_fwd_flag</th>\n",
              "      <th>payment_type</th>\n",
              "      <th>day_of_week</th>\n",
              "      <th>toll_paid</th>\n",
              "      <th>toll_source</th>\n",
              "    </tr>\n",
              "  </thead>\n",
              "  <tbody>\n",
              "    <tr>\n",
              "      <th>count</th>\n",
              "      <td>2823701</td>\n",
              "      <td>2823701</td>\n",
              "      <td>2823701</td>\n",
              "      <td>2823701</td>\n",
              "      <td>2823701</td>\n",
              "      <td>2823701</td>\n",
              "      <td>2823701</td>\n",
              "    </tr>\n",
              "    <tr>\n",
              "      <th>unique</th>\n",
              "      <td>2</td>\n",
              "      <td>6</td>\n",
              "      <td>2</td>\n",
              "      <td>4</td>\n",
              "      <td>7</td>\n",
              "      <td>2</td>\n",
              "      <td>11</td>\n",
              "    </tr>\n",
              "    <tr>\n",
              "      <th>top</th>\n",
              "      <td>VeriFone Inc.</td>\n",
              "      <td>Standard rate</td>\n",
              "      <td>N</td>\n",
              "      <td>Credit card</td>\n",
              "      <td>Saturday</td>\n",
              "      <td>NoToll</td>\n",
              "      <td>NoToll</td>\n",
              "    </tr>\n",
              "    <tr>\n",
              "      <th>freq</th>\n",
              "      <td>1502987</td>\n",
              "      <td>2764846</td>\n",
              "      <td>2801375</td>\n",
              "      <td>1780318</td>\n",
              "      <td>435155</td>\n",
              "      <td>2682515</td>\n",
              "      <td>2682515</td>\n",
              "    </tr>\n",
              "  </tbody>\n",
              "</table>\n",
              "</div>"
            ],
            "text/plain": [
              "             VendorID     RateCodeID  ... toll_paid toll_source\n",
              "count         2823701        2823701  ...   2823701     2823701\n",
              "unique              2              6  ...         2          11\n",
              "top     VeriFone Inc.  Standard rate  ...    NoToll      NoToll\n",
              "freq          1502987        2764846  ...   2682515     2682515\n",
              "\n",
              "[4 rows x 7 columns]"
            ]
          },
          "metadata": {},
          "execution_count": 20
        }
      ]
    },
    {
      "cell_type": "code",
      "metadata": {
        "colab": {
          "base_uri": "https://localhost:8080/",
          "height": 394
        },
        "id": "zlAORtrLIPBJ",
        "outputId": "44ed7938-c42e-4f63-cfe0-8a7dc327754d"
      },
      "source": [
        "df.toll_source.value_counts(normalize=True).to_frame()"
      ],
      "execution_count": 21,
      "outputs": [
        {
          "output_type": "execute_result",
          "data": {
            "text/html": [
              "<div>\n",
              "<style scoped>\n",
              "    .dataframe tbody tr th:only-of-type {\n",
              "        vertical-align: middle;\n",
              "    }\n",
              "\n",
              "    .dataframe tbody tr th {\n",
              "        vertical-align: top;\n",
              "    }\n",
              "\n",
              "    .dataframe thead th {\n",
              "        text-align: right;\n",
              "    }\n",
              "</style>\n",
              "<table border=\"1\" class=\"dataframe\">\n",
              "  <thead>\n",
              "    <tr style=\"text-align: right;\">\n",
              "      <th></th>\n",
              "      <th>toll_source</th>\n",
              "    </tr>\n",
              "  </thead>\n",
              "  <tbody>\n",
              "    <tr>\n",
              "      <th>NoToll</th>\n",
              "      <td>0.950000</td>\n",
              "    </tr>\n",
              "    <tr>\n",
              "      <th>MTA_Other</th>\n",
              "      <td>0.048879</td>\n",
              "    </tr>\n",
              "    <tr>\n",
              "      <th>HH</th>\n",
              "      <td>0.000472</td>\n",
              "    </tr>\n",
              "    <tr>\n",
              "      <th>NYPA</th>\n",
              "      <td>0.000203</td>\n",
              "    </tr>\n",
              "    <tr>\n",
              "      <th>OtherToll</th>\n",
              "      <td>0.000176</td>\n",
              "    </tr>\n",
              "    <tr>\n",
              "      <th>VN</th>\n",
              "      <td>0.000112</td>\n",
              "    </tr>\n",
              "    <tr>\n",
              "      <th>VN_MTA_Other</th>\n",
              "      <td>0.000067</td>\n",
              "    </tr>\n",
              "    <tr>\n",
              "      <th>CBGH</th>\n",
              "      <td>0.000053</td>\n",
              "    </tr>\n",
              "    <tr>\n",
              "      <th>CBGH_MTA_Other</th>\n",
              "      <td>0.000016</td>\n",
              "    </tr>\n",
              "    <tr>\n",
              "      <th>NYPA_MTA_Other</th>\n",
              "      <td>0.000012</td>\n",
              "    </tr>\n",
              "    <tr>\n",
              "      <th>HH_MTA_Other</th>\n",
              "      <td>0.000008</td>\n",
              "    </tr>\n",
              "  </tbody>\n",
              "</table>\n",
              "</div>"
            ],
            "text/plain": [
              "                toll_source\n",
              "NoToll             0.950000\n",
              "MTA_Other          0.048879\n",
              "HH                 0.000472\n",
              "NYPA               0.000203\n",
              "OtherToll          0.000176\n",
              "VN                 0.000112\n",
              "VN_MTA_Other       0.000067\n",
              "CBGH               0.000053\n",
              "CBGH_MTA_Other     0.000016\n",
              "NYPA_MTA_Other     0.000012\n",
              "HH_MTA_Other       0.000008"
            ]
          },
          "metadata": {},
          "execution_count": 21
        }
      ]
    },
    {
      "cell_type": "code",
      "metadata": {
        "colab": {
          "base_uri": "https://localhost:8080/",
          "height": 112
        },
        "id": "VenBsPhJIPBM",
        "outputId": "171855c3-ab26-4d45-9823-97db5b36069a"
      },
      "source": [
        "df.toll_paid.value_counts(normalize=True).to_frame()"
      ],
      "execution_count": 22,
      "outputs": [
        {
          "output_type": "execute_result",
          "data": {
            "text/html": [
              "<div>\n",
              "<style scoped>\n",
              "    .dataframe tbody tr th:only-of-type {\n",
              "        vertical-align: middle;\n",
              "    }\n",
              "\n",
              "    .dataframe tbody tr th {\n",
              "        vertical-align: top;\n",
              "    }\n",
              "\n",
              "    .dataframe thead th {\n",
              "        text-align: right;\n",
              "    }\n",
              "</style>\n",
              "<table border=\"1\" class=\"dataframe\">\n",
              "  <thead>\n",
              "    <tr style=\"text-align: right;\">\n",
              "      <th></th>\n",
              "      <th>toll_paid</th>\n",
              "    </tr>\n",
              "  </thead>\n",
              "  <tbody>\n",
              "    <tr>\n",
              "      <th>NoToll</th>\n",
              "      <td>0.95</td>\n",
              "    </tr>\n",
              "    <tr>\n",
              "      <th>Toll</th>\n",
              "      <td>0.05</td>\n",
              "    </tr>\n",
              "  </tbody>\n",
              "</table>\n",
              "</div>"
            ],
            "text/plain": [
              "        toll_paid\n",
              "NoToll       0.95\n",
              "Toll         0.05"
            ]
          },
          "metadata": {},
          "execution_count": 22
        }
      ]
    },
    {
      "cell_type": "code",
      "metadata": {
        "colab": {
          "base_uri": "https://localhost:8080/",
          "height": 112
        },
        "id": "4VHnJbSXIPBM",
        "outputId": "16e3fba8-f6bd-44c6-a007-8e7708c347cd"
      },
      "source": [
        "df.toll_paid.value_counts().to_frame()"
      ],
      "execution_count": 23,
      "outputs": [
        {
          "output_type": "execute_result",
          "data": {
            "text/html": [
              "<div>\n",
              "<style scoped>\n",
              "    .dataframe tbody tr th:only-of-type {\n",
              "        vertical-align: middle;\n",
              "    }\n",
              "\n",
              "    .dataframe tbody tr th {\n",
              "        vertical-align: top;\n",
              "    }\n",
              "\n",
              "    .dataframe thead th {\n",
              "        text-align: right;\n",
              "    }\n",
              "</style>\n",
              "<table border=\"1\" class=\"dataframe\">\n",
              "  <thead>\n",
              "    <tr style=\"text-align: right;\">\n",
              "      <th></th>\n",
              "      <th>toll_paid</th>\n",
              "    </tr>\n",
              "  </thead>\n",
              "  <tbody>\n",
              "    <tr>\n",
              "      <th>NoToll</th>\n",
              "      <td>2682515</td>\n",
              "    </tr>\n",
              "    <tr>\n",
              "      <th>Toll</th>\n",
              "      <td>141186</td>\n",
              "    </tr>\n",
              "  </tbody>\n",
              "</table>\n",
              "</div>"
            ],
            "text/plain": [
              "        toll_paid\n",
              "NoToll    2682515\n",
              "Toll       141186"
            ]
          },
          "metadata": {},
          "execution_count": 23
        }
      ]
    },
    {
      "cell_type": "markdown",
      "metadata": {
        "id": "rbN7SlV4Ihzg"
      },
      "source": [
        "### Visualize and Calculate metrics"
      ]
    },
    {
      "cell_type": "code",
      "metadata": {
        "id": "yZuRH0ckIhzh"
      },
      "source": [
        "# Extract features base on above correlation\n",
        "label = ['toll_paid']"
      ],
      "execution_count": 24,
      "outputs": []
    },
    {
      "cell_type": "code",
      "metadata": {
        "colab": {
          "base_uri": "https://localhost:8080/",
          "height": 508
        },
        "id": "giUntmzvIhzh",
        "outputId": "83054269-bde0-41b0-ee3f-d961aa847609"
      },
      "source": [
        "bin_size = len(np.unique(df[label].values))\n",
        "df.toll_paid.hist(bins=bin_size, figsize=(12, 8), grid=True)\n",
        "save_fig('toll_paid_dist')"
      ],
      "execution_count": 26,
      "outputs": [
        {
          "output_type": "execute_result",
          "data": {
            "text/plain": [
              "<matplotlib.axes._subplots.AxesSubplot at 0x7f707ee605d0>"
            ]
          },
          "metadata": {},
          "execution_count": 26
        },
        {
          "output_type": "display_data",
          "data": {
            "image/png": "[encoded data removed]",
            "text/plain": [
              "<Figure size 864x576 with 1 Axes>"
            ]
          },
          "metadata": {
            "needs_background": "light"
          }
        }
      ]
    },
    {
      "cell_type": "code",
      "metadata": {
        "colab": {
          "base_uri": "https://localhost:8080/",
          "height": 528
        },
        "id": "n594vSoNIhzi",
        "outputId": "bc5d76c8-8fec-4fcf-d49b-c7fb795acdb8"
      },
      "source": [
        "df['toll_paid'].value_counts().plot(kind='bar', grid=False, figsize=(10, 8))\n",
        "save_fig('toll_paid_bar')"
      ],
      "execution_count": 27,
      "outputs": [
        {
          "output_type": "execute_result",
          "data": {
            "text/plain": [
              "<matplotlib.axes._subplots.AxesSubplot at 0x7f707e981b10>"
            ]
          },
          "metadata": {},
          "execution_count": 27
        },
        {
          "output_type": "display_data",
          "data": {
            "image/png": "[encoded data removed]",
            "text/plain": [
              "<Figure size 720x576 with 1 Axes>"
            ]
          },
          "metadata": {
            "needs_background": "light"
          }
        }
      ]
    },
    {
      "cell_type": "code",
      "metadata": {
        "colab": {
          "base_uri": "https://localhost:8080/",
          "height": 551
        },
        "id": "NSGwGKI7HG-J",
        "outputId": "9f8f23a3-c1e6-4778-aa98-7a5ef216dac0"
      },
      "source": [
        "corr_matrix = df.corr()\n",
        "corr_matrix['duration'].sort_values(ascending=False).to_frame()"
      ],
      "execution_count": 28,
      "outputs": [
        {
          "output_type": "execute_result",
          "data": {
            "text/html": [
              "<div>\n",
              "<style scoped>\n",
              "    .dataframe tbody tr th:only-of-type {\n",
              "        vertical-align: middle;\n",
              "    }\n",
              "\n",
              "    .dataframe tbody tr th {\n",
              "        vertical-align: top;\n",
              "    }\n",
              "\n",
              "    .dataframe thead th {\n",
              "        text-align: right;\n",
              "    }\n",
              "</style>\n",
              "<table border=\"1\" class=\"dataframe\">\n",
              "  <thead>\n",
              "    <tr style=\"text-align: right;\">\n",
              "      <th></th>\n",
              "      <th>duration</th>\n",
              "    </tr>\n",
              "  </thead>\n",
              "  <tbody>\n",
              "    <tr>\n",
              "      <th>duration</th>\n",
              "      <td>1.000000</td>\n",
              "    </tr>\n",
              "    <tr>\n",
              "      <th>fare_amount</th>\n",
              "      <td>0.888203</td>\n",
              "    </tr>\n",
              "    <tr>\n",
              "      <th>total_amount</th>\n",
              "      <td>0.862494</td>\n",
              "    </tr>\n",
              "    <tr>\n",
              "      <th>trip_distance</th>\n",
              "      <td>0.781401</td>\n",
              "    </tr>\n",
              "    <tr>\n",
              "      <th>tip_amount</th>\n",
              "      <td>0.493078</td>\n",
              "    </tr>\n",
              "    <tr>\n",
              "      <th>tolls_amount</th>\n",
              "      <td>0.457660</td>\n",
              "    </tr>\n",
              "    <tr>\n",
              "      <th>pickup_longitude</th>\n",
              "      <td>0.370568</td>\n",
              "    </tr>\n",
              "    <tr>\n",
              "      <th>dropoff_longitude</th>\n",
              "      <td>0.266498</td>\n",
              "    </tr>\n",
              "    <tr>\n",
              "      <th>ave_speed</th>\n",
              "      <td>0.159938</td>\n",
              "    </tr>\n",
              "    <tr>\n",
              "      <th>time_of_day</th>\n",
              "      <td>0.032376</td>\n",
              "    </tr>\n",
              "    <tr>\n",
              "      <th>passenger_count</th>\n",
              "      <td>0.015561</td>\n",
              "    </tr>\n",
              "    <tr>\n",
              "      <th>extra</th>\n",
              "      <td>-0.055389</td>\n",
              "    </tr>\n",
              "    <tr>\n",
              "      <th>dropoff_latitude</th>\n",
              "      <td>-0.179526</td>\n",
              "    </tr>\n",
              "    <tr>\n",
              "      <th>pickup_latitude</th>\n",
              "      <td>-0.233615</td>\n",
              "    </tr>\n",
              "    <tr>\n",
              "      <th>mta_tax</th>\n",
              "      <td>NaN</td>\n",
              "    </tr>\n",
              "    <tr>\n",
              "      <th>improvement_surcharge</th>\n",
              "      <td>NaN</td>\n",
              "    </tr>\n",
              "  </tbody>\n",
              "</table>\n",
              "</div>"
            ],
            "text/plain": [
              "                       duration\n",
              "duration               1.000000\n",
              "fare_amount            0.888203\n",
              "total_amount           0.862494\n",
              "trip_distance          0.781401\n",
              "tip_amount             0.493078\n",
              "tolls_amount           0.457660\n",
              "pickup_longitude       0.370568\n",
              "dropoff_longitude      0.266498\n",
              "ave_speed              0.159938\n",
              "time_of_day            0.032376\n",
              "passenger_count        0.015561\n",
              "extra                 -0.055389\n",
              "dropoff_latitude      -0.179526\n",
              "pickup_latitude       -0.233615\n",
              "mta_tax                     NaN\n",
              "improvement_surcharge       NaN"
            ]
          },
          "metadata": {},
          "execution_count": 28
        }
      ]
    },
    {
      "cell_type": "markdown",
      "metadata": {
        "id": "DF1id6PXHG-K"
      },
      "source": [
        "## Choose target and feature variables/columns"
      ]
    },
    {
      "cell_type": "code",
      "metadata": {
        "id": "PvXZVbfFHG-K"
      },
      "source": [
        "features = ['pickup_longitude', 'pickup_latitude', 'dropoff_longitude', 'dropoff_latitude', ]\n",
        "# 1. without amount\n",
        "features1 = ['trip_distance', 'pickup_longitude', 'pickup_latitude', 'dropoff_longitude', 'dropoff_latitude', ]\n",
        "# 2. without amount + 3 new features (1 categorical variable)\n",
        "features2 = ['trip_distance', 'pickup_longitude', 'pickup_latitude', 'dropoff_longitude', 'dropoff_latitude',\n",
        "             'time_of_day', 'day_of_week', 'ave_speed', ]\n",
        "# 3. Above abs(0.1)\n",
        "features3 = ['trip_distance', 'pickup_longitude', 'pickup_latitude', 'dropoff_longitude', 'dropoff_latitude',\n",
        "             'fare_amount', 'total_amount', 'tip_amount', 'tolls_amount', 'ave_speed',  ]\n",
        "# 4. Above abs(0.1) + 2 new features (1 categorical variable)\n",
        "features4 = ['trip_distance', 'pickup_longitude', 'pickup_latitude', 'dropoff_longitude', 'dropoff_latitude',\n",
        "             'fare_amount', 'total_amount', 'tip_amount', 'tolls_amount', 'extra',\n",
        "             'mta_tax', 'time_of_day', 'day_of_week', 'ave_speed', ]\n",
        "# 5. all features i.e 5 categorical features\n",
        "all_features = list(set(df.columns.to_list()) - set(label + ['tpep_pickup_datetime', 'tpep_dropoff_datetime',]))"
      ],
      "execution_count": 29,
      "outputs": []
    },
    {
      "cell_type": "code",
      "metadata": {
        "id": "6mHzCgk0Rkts"
      },
      "source": [
        "features = ['trip_distance', 'pickup_longitude', 'pickup_latitude', 'dropoff_longitude', 'dropoff_latitude',\n",
        "             'time_of_day', 'day_of_week', 'ave_speed', ]"
      ],
      "execution_count": 30,
      "outputs": []
    },
    {
      "cell_type": "markdown",
      "metadata": {
        "id": "2GL_PTV5FqrD"
      },
      "source": [
        "# General sklearn imports"
      ]
    },
    {
      "cell_type": "code",
      "metadata": {
        "id": "yRVCd0Lt-Cse"
      },
      "source": [
        "from sklearn import set_config\n",
        "set_config(display=\"diagram\")\n",
        "from sklearn.metrics import r2_score, mean_squared_error\n",
        "from sklearn.model_selection import train_test_split\n",
        "from sklearn.preprocessing import (StandardScaler, OrdinalEncoder, OneHotEncoder,\n",
        "                                   PolynomialFeatures, MinMaxScaler, LabelEncoder)"
      ],
      "execution_count": 31,
      "outputs": []
    },
    {
      "cell_type": "markdown",
      "metadata": {
        "id": "WEz3yBu75IKh"
      },
      "source": [
        "## Transform target variable"
      ]
    },
    {
      "cell_type": "code",
      "metadata": {
        "id": "oJrJLLSn5Hv8"
      },
      "source": [
        "le = LabelEncoder()\n",
        "df[label[0]] = le.fit_transform(df[label].values.ravel())"
      ],
      "execution_count": 32,
      "outputs": []
    },
    {
      "cell_type": "code",
      "metadata": {
        "colab": {
          "base_uri": "https://localhost:8080/"
        },
        "id": "9jUvFe0x5nkz",
        "outputId": "f370baba-91a0-4654-b613-feadbf46a359"
      },
      "source": [
        "le.classes_"
      ],
      "execution_count": 33,
      "outputs": [
        {
          "output_type": "execute_result",
          "data": {
            "text/plain": [
              "array(['NoToll', 'Toll'], dtype=object)"
            ]
          },
          "metadata": {},
          "execution_count": 33
        }
      ]
    },
    {
      "cell_type": "markdown",
      "metadata": {
        "id": "7iNBW9ngFqcM"
      },
      "source": [
        "# Train, Val, Split"
      ]
    },
    {
      "cell_type": "code",
      "metadata": {
        "id": "C_GE_Oy06E6l"
      },
      "source": [
        "from sklearn.model_selection import StratifiedKFold, StratifiedShuffleSplit, ShuffleSplit"
      ],
      "execution_count": 34,
      "outputs": []
    },
    {
      "cell_type": "code",
      "metadata": {
        "id": "QMBR2m0JnTBy"
      },
      "source": [
        "y = df[label]\n",
        "X = df[features]"
      ],
      "execution_count": 35,
      "outputs": []
    },
    {
      "cell_type": "code",
      "metadata": {
        "colab": {
          "base_uri": "https://localhost:8080/",
          "height": 206
        },
        "id": "5xiGzvPBngI2",
        "outputId": "ee66ce33-2e4c-4567-a99f-a31ccaac8897"
      },
      "source": [
        "X.head()"
      ],
      "execution_count": 36,
      "outputs": [
        {
          "output_type": "execute_result",
          "data": {
            "text/html": [
              "<div>\n",
              "<style scoped>\n",
              "    .dataframe tbody tr th:only-of-type {\n",
              "        vertical-align: middle;\n",
              "    }\n",
              "\n",
              "    .dataframe tbody tr th {\n",
              "        vertical-align: top;\n",
              "    }\n",
              "\n",
              "    .dataframe thead th {\n",
              "        text-align: right;\n",
              "    }\n",
              "</style>\n",
              "<table border=\"1\" class=\"dataframe\">\n",
              "  <thead>\n",
              "    <tr style=\"text-align: right;\">\n",
              "      <th></th>\n",
              "      <th>trip_distance</th>\n",
              "      <th>pickup_longitude</th>\n",
              "      <th>pickup_latitude</th>\n",
              "      <th>dropoff_longitude</th>\n",
              "      <th>dropoff_latitude</th>\n",
              "      <th>time_of_day</th>\n",
              "      <th>day_of_week</th>\n",
              "      <th>ave_speed</th>\n",
              "    </tr>\n",
              "  </thead>\n",
              "  <tbody>\n",
              "    <tr>\n",
              "      <th>0</th>\n",
              "      <td>3.00</td>\n",
              "      <td>-73.964272</td>\n",
              "      <td>40.773022</td>\n",
              "      <td>-73.965775</td>\n",
              "      <td>40.804668</td>\n",
              "      <td>14.011389</td>\n",
              "      <td>Thursday</td>\n",
              "      <td>13.722999</td>\n",
              "    </tr>\n",
              "    <tr>\n",
              "      <th>1</th>\n",
              "      <td>0.67</td>\n",
              "      <td>-73.970932</td>\n",
              "      <td>40.795921</td>\n",
              "      <td>-73.970169</td>\n",
              "      <td>40.789124</td>\n",
              "      <td>14.011667</td>\n",
              "      <td>Thursday</td>\n",
              "      <td>9.312741</td>\n",
              "    </tr>\n",
              "    <tr>\n",
              "      <th>2</th>\n",
              "      <td>0.98</td>\n",
              "      <td>-73.948692</td>\n",
              "      <td>40.777782</td>\n",
              "      <td>-73.955284</td>\n",
              "      <td>40.786869</td>\n",
              "      <td>14.968889</td>\n",
              "      <td>Wednesday</td>\n",
              "      <td>6.944882</td>\n",
              "    </tr>\n",
              "    <tr>\n",
              "      <th>3</th>\n",
              "      <td>4.39</td>\n",
              "      <td>-73.988663</td>\n",
              "      <td>40.722706</td>\n",
              "      <td>-73.987221</td>\n",
              "      <td>40.694408</td>\n",
              "      <td>14.969167</td>\n",
              "      <td>Wednesday</td>\n",
              "      <td>17.837472</td>\n",
              "    </tr>\n",
              "    <tr>\n",
              "      <th>4</th>\n",
              "      <td>3.90</td>\n",
              "      <td>-73.974998</td>\n",
              "      <td>40.760281</td>\n",
              "      <td>-74.008461</td>\n",
              "      <td>40.711468</td>\n",
              "      <td>23.137778</td>\n",
              "      <td>Tuesday</td>\n",
              "      <td>14.936170</td>\n",
              "    </tr>\n",
              "  </tbody>\n",
              "</table>\n",
              "</div>"
            ],
            "text/plain": [
              "   trip_distance  pickup_longitude  ...  day_of_week  ave_speed\n",
              "0           3.00        -73.964272  ...     Thursday  13.722999\n",
              "1           0.67        -73.970932  ...     Thursday   9.312741\n",
              "2           0.98        -73.948692  ...    Wednesday   6.944882\n",
              "3           4.39        -73.988663  ...    Wednesday  17.837472\n",
              "4           3.90        -73.974998  ...      Tuesday  14.936170\n",
              "\n",
              "[5 rows x 8 columns]"
            ]
          },
          "metadata": {},
          "execution_count": 36
        }
      ]
    },
    {
      "cell_type": "code",
      "metadata": {
        "colab": {
          "base_uri": "https://localhost:8080/"
        },
        "id": "oSUKpALa7IkG",
        "outputId": "ab317b88-134c-4921-c7c8-4cb45f08d96a"
      },
      "source": [
        "y.shape"
      ],
      "execution_count": 37,
      "outputs": [
        {
          "output_type": "execute_result",
          "data": {
            "text/plain": [
              "(2823701, 1)"
            ]
          },
          "metadata": {},
          "execution_count": 37
        }
      ]
    },
    {
      "cell_type": "code",
      "metadata": {
        "id": "qfu1D21n6Vsz"
      },
      "source": [
        "# Get the split indexes\n",
        "strat_split = StratifiedShuffleSplit(n_splits=1, test_size=0.2, random_state=42)\n",
        "\n",
        "train_idx, test_idx = next(strat_split.split(X, y))\n",
        "\n",
        "\n",
        "# Create the dataframes\n",
        "X_train = X.loc[train_idx, :]\n",
        "y_train = y.loc[train_idx, :]\n",
        "\n",
        "X_test  = X.loc[test_idx, :]\n",
        "y_test  = y.loc[test_idx, :]"
      ],
      "execution_count": 38,
      "outputs": []
    },
    {
      "cell_type": "code",
      "metadata": {
        "colab": {
          "base_uri": "https://localhost:8080/"
        },
        "id": "LTKrdWup7VVU",
        "outputId": "b1d8c354-416a-46ff-e75d-32c7462e09da"
      },
      "source": [
        "y_train.value_counts(normalize=True)"
      ],
      "execution_count": 39,
      "outputs": [
        {
          "output_type": "execute_result",
          "data": {
            "text/plain": [
              "toll_paid\n",
              "0            0.95\n",
              "1            0.05\n",
              "dtype: float64"
            ]
          },
          "metadata": {},
          "execution_count": 39
        }
      ]
    },
    {
      "cell_type": "code",
      "metadata": {
        "colab": {
          "base_uri": "https://localhost:8080/"
        },
        "id": "3KRa-zgycrAg",
        "outputId": "18c2fb21-c298-45b2-fa3d-49555206e72b"
      },
      "source": [
        "y_train.value_counts()"
      ],
      "execution_count": 40,
      "outputs": [
        {
          "output_type": "execute_result",
          "data": {
            "text/plain": [
              "toll_paid\n",
              "0            2146011\n",
              "1             112949\n",
              "dtype: int64"
            ]
          },
          "metadata": {},
          "execution_count": 40
        }
      ]
    },
    {
      "cell_type": "code",
      "metadata": {
        "colab": {
          "base_uri": "https://localhost:8080/"
        },
        "id": "M5nPHkJU7cf4",
        "outputId": "214ebc18-fc00-4d4f-9246-efd8fe828cb6"
      },
      "source": [
        "y_test.value_counts(normalize=True)"
      ],
      "execution_count": 41,
      "outputs": [
        {
          "output_type": "execute_result",
          "data": {
            "text/plain": [
              "toll_paid\n",
              "0            0.95\n",
              "1            0.05\n",
              "dtype: float64"
            ]
          },
          "metadata": {},
          "execution_count": 41
        }
      ]
    },
    {
      "cell_type": "code",
      "metadata": {
        "colab": {
          "base_uri": "https://localhost:8080/"
        },
        "id": "q_laflpaCiMy",
        "outputId": "2a581d59-d471-48a5-9f8b-f0446ea8a769"
      },
      "source": [
        "y_test.value_counts()"
      ],
      "execution_count": 42,
      "outputs": [
        {
          "output_type": "execute_result",
          "data": {
            "text/plain": [
              "toll_paid\n",
              "0            536504\n",
              "1             28237\n",
              "dtype: int64"
            ]
          },
          "metadata": {},
          "execution_count": 42
        }
      ]
    },
    {
      "cell_type": "code",
      "metadata": {
        "colab": {
          "base_uri": "https://localhost:8080/"
        },
        "id": "eHnfRVQW-oLn",
        "outputId": "9337f8b0-72e9-4702-f73e-e4890f37ba94"
      },
      "source": [
        "print(f'Train data shape: {X_train.shape}\\n')\n",
        "print(f'Test data shape: {X_test.shape}\\n')"
      ],
      "execution_count": 43,
      "outputs": [
        {
          "output_type": "stream",
          "text": [
            "Train data shape: (2258960, 8)\n",
            "\n",
            "Test data shape: (564741, 8)\n",
            "\n"
          ],
          "name": "stdout"
        }
      ]
    },
    {
      "cell_type": "code",
      "metadata": {
        "colab": {
          "base_uri": "https://localhost:8080/",
          "height": 533
        },
        "id": "Hb1kv6JNcQTZ",
        "outputId": "41ba299a-4592-4e9e-b08e-9d9ee885ceca"
      },
      "source": [
        "y_train.hist(bins=2, figsize=(12, 8))"
      ],
      "execution_count": 44,
      "outputs": [
        {
          "output_type": "execute_result",
          "data": {
            "text/plain": [
              "array([[<matplotlib.axes._subplots.AxesSubplot object at 0x7f707d0bb710>]],\n",
              "      dtype=object)"
            ]
          },
          "metadata": {},
          "execution_count": 44
        },
        {
          "output_type": "display_data",
          "data": {
            "image/png": "[encoded data removed]",
            "text/plain": [
              "<Figure size 864x576 with 1 Axes>"
            ]
          },
          "metadata": {
            "needs_background": "light"
          }
        }
      ]
    },
    {
      "cell_type": "code",
      "metadata": {
        "colab": {
          "base_uri": "https://localhost:8080/",
          "height": 533
        },
        "id": "6HTHhylPcQRN",
        "outputId": "97aa05eb-c5e1-4979-bc04-3ff7349db00e"
      },
      "source": [
        "y_test.hist(bins=2, figsize=(12, 8))\n",
        "save_fig('y_test')"
      ],
      "execution_count": 46,
      "outputs": [
        {
          "output_type": "execute_result",
          "data": {
            "text/plain": [
              "array([[<matplotlib.axes._subplots.AxesSubplot object at 0x7f707c95d050>]],\n",
              "      dtype=object)"
            ]
          },
          "metadata": {},
          "execution_count": 46
        },
        {
          "output_type": "display_data",
          "data": {
            "image/png": "[encoded data removed]",
            "text/plain": [
              "<Figure size 864x576 with 1 Axes>"
            ]
          },
          "metadata": {
            "needs_background": "light"
          }
        }
      ]
    },
    {
      "cell_type": "markdown",
      "metadata": {
        "id": "sL24nb1kFqIH"
      },
      "source": [
        "# General Transformers"
      ]
    },
    {
      "cell_type": "markdown",
      "metadata": {
        "id": "GN7CG8ekyeAe"
      },
      "source": [
        "## Build categorical and numerical pipeline\n",
        "\n"
      ]
    },
    {
      "cell_type": "markdown",
      "metadata": {
        "id": "1qWpfUvg8NmC"
      },
      "source": [
        "### Preprocess Features --> Scaling and encoding"
      ]
    },
    {
      "cell_type": "code",
      "metadata": {
        "id": "SNtENJC-zsZ8"
      },
      "source": [
        "from sklearn.pipeline import Pipeline\n",
        "from sklearn.compose import ColumnTransformer"
      ],
      "execution_count": 47,
      "outputs": []
    },
    {
      "cell_type": "code",
      "metadata": {
        "id": "qq0Z0PFl3NhT"
      },
      "source": [
        "numerical_cols = X.select_dtypes(include=['int64', 'float64']).columns\n",
        "categorical_cols = X.select_dtypes(include=['object', 'bool']).columns"
      ],
      "execution_count": 48,
      "outputs": []
    },
    {
      "cell_type": "code",
      "metadata": {
        "colab": {
          "base_uri": "https://localhost:8080/"
        },
        "id": "KE91jgX93Uly",
        "outputId": "49af1057-6b66-461f-d916-d7b55d720423"
      },
      "source": [
        "numerical_cols, categorical_cols"
      ],
      "execution_count": 49,
      "outputs": [
        {
          "output_type": "execute_result",
          "data": {
            "text/plain": [
              "(Index(['trip_distance', 'pickup_longitude', 'pickup_latitude',\n",
              "        'dropoff_longitude', 'dropoff_latitude', 'time_of_day', 'ave_speed'],\n",
              "       dtype='object'), Index(['day_of_week'], dtype='object'))"
            ]
          },
          "metadata": {},
          "execution_count": 49
        }
      ]
    },
    {
      "cell_type": "code",
      "metadata": {
        "colab": {
          "base_uri": "https://localhost:8080/",
          "height": 102
        },
        "id": "t2SSPYieKP7p",
        "outputId": "6efd9d0e-dd9d-41f8-844e-5bf6e4f25580"
      },
      "source": [
        "transformer = ColumnTransformer([(\"num\", MinMaxScaler(), numerical_cols),\n",
        "                                 (\"cat\", OrdinalEncoder(), categorical_cols)\n",
        "                                 ])\n",
        "transformer"
      ],
      "execution_count": 50,
      "outputs": [
        {
          "output_type": "execute_result",
          "data": {
            "text/html": [
              "<style>#sk-dce48377-d3b4-410a-a222-9a3213ba060d {color: black;background-color: white;}#sk-dce48377-d3b4-410a-a222-9a3213ba060d pre{padding: 0;}#sk-dce48377-d3b4-410a-a222-9a3213ba060d div.sk-toggleable {background-color: white;}#sk-dce48377-d3b4-410a-a222-9a3213ba060d label.sk-toggleable__label {cursor: pointer;display: block;width: 100%;margin-bottom: 0;padding: 0.2em 0.3em;box-sizing: border-box;text-align: center;}#sk-dce48377-d3b4-410a-a222-9a3213ba060d div.sk-toggleable__content {max-height: 0;max-width: 0;overflow: hidden;text-align: left;background-color: #f0f8ff;}#sk-dce48377-d3b4-410a-a222-9a3213ba060d div.sk-toggleable__content pre {margin: 0.2em;color: black;border-radius: 0.25em;background-color: #f0f8ff;}#sk-dce48377-d3b4-410a-a222-9a3213ba060d input.sk-toggleable__control:checked~div.sk-toggleable__content {max-height: 200px;max-width: 100%;overflow: auto;}#sk-dce48377-d3b4-410a-a222-9a3213ba060d div.sk-estimator input.sk-toggleable__control:checked~label.sk-toggleable__label {background-color: #d4ebff;}#sk-dce48377-d3b4-410a-a222-9a3213ba060d div.sk-label input.sk-toggleable__control:checked~label.sk-toggleable__label {background-color: #d4ebff;}#sk-dce48377-d3b4-410a-a222-9a3213ba060d input.sk-hidden--visually {border: 0;clip: rect(1px 1px 1px 1px);clip: rect(1px, 1px, 1px, 1px);height: 1px;margin: -1px;overflow: hidden;padding: 0;position: absolute;width: 1px;}#sk-dce48377-d3b4-410a-a222-9a3213ba060d div.sk-estimator {font-family: monospace;background-color: #f0f8ff;margin: 0.25em 0.25em;border: 1px dotted black;border-radius: 0.25em;box-sizing: border-box;}#sk-dce48377-d3b4-410a-a222-9a3213ba060d div.sk-estimator:hover {background-color: #d4ebff;}#sk-dce48377-d3b4-410a-a222-9a3213ba060d div.sk-parallel-item::after {content: \"\";width: 100%;border-bottom: 1px solid gray;flex-grow: 1;}#sk-dce48377-d3b4-410a-a222-9a3213ba060d div.sk-label:hover label.sk-toggleable__label {background-color: #d4ebff;}#sk-dce48377-d3b4-410a-a222-9a3213ba060d div.sk-serial::before {content: \"\";position: absolute;border-left: 1px solid gray;box-sizing: border-box;top: 2em;bottom: 0;left: 50%;}#sk-dce48377-d3b4-410a-a222-9a3213ba060d div.sk-serial {display: flex;flex-direction: column;align-items: center;background-color: white;}#sk-dce48377-d3b4-410a-a222-9a3213ba060d div.sk-item {z-index: 1;}#sk-dce48377-d3b4-410a-a222-9a3213ba060d div.sk-parallel {display: flex;align-items: stretch;justify-content: center;background-color: white;}#sk-dce48377-d3b4-410a-a222-9a3213ba060d div.sk-parallel-item {display: flex;flex-direction: column;position: relative;background-color: white;}#sk-dce48377-d3b4-410a-a222-9a3213ba060d div.sk-parallel-item:first-child::after {align-self: flex-end;width: 50%;}#sk-dce48377-d3b4-410a-a222-9a3213ba060d div.sk-parallel-item:last-child::after {align-self: flex-start;width: 50%;}#sk-dce48377-d3b4-410a-a222-9a3213ba060d div.sk-parallel-item:only-child::after {width: 0;}#sk-dce48377-d3b4-410a-a222-9a3213ba060d div.sk-dashed-wrapped {border: 1px dashed gray;margin: 0.2em;box-sizing: border-box;padding-bottom: 0.1em;background-color: white;position: relative;}#sk-dce48377-d3b4-410a-a222-9a3213ba060d div.sk-label label {font-family: monospace;font-weight: bold;background-color: white;display: inline-block;line-height: 1.2em;}#sk-dce48377-d3b4-410a-a222-9a3213ba060d div.sk-label-container {position: relative;z-index: 2;text-align: center;}#sk-dce48377-d3b4-410a-a222-9a3213ba060d div.sk-container {display: inline-block;position: relative;}</style><div id=\"sk-dce48377-d3b4-410a-a222-9a3213ba060d\" class\"sk-top-container\"><div class=\"sk-container\"><div class=\"sk-item sk-dashed-wrapped\"><div class=\"sk-label-container\"><div class=\"sk-label sk-toggleable\"><input class=\"sk-toggleable__control sk-hidden--visually\" id=\"0b60a908-6d80-4064-91d2-9a45ed3ec500\" type=\"checkbox\" ><label class=\"sk-toggleable__label\" for=\"0b60a908-6d80-4064-91d2-9a45ed3ec500\">ColumnTransformer</label><div class=\"sk-toggleable__content\"><pre>ColumnTransformer(transformers=[('num', MinMaxScaler(),\n",
              "                                 Index(['trip_distance', 'pickup_longitude', 'pickup_latitude',\n",
              "       'dropoff_longitude', 'dropoff_latitude', 'time_of_day', 'ave_speed'],\n",
              "      dtype='object')),\n",
              "                                ('cat', OrdinalEncoder(),\n",
              "                                 Index(['day_of_week'], dtype='object'))])</pre></div></div></div><div class=\"sk-parallel\"><div class=\"sk-parallel-item\"><div class=\"sk-item\"><div class=\"sk-label-container\"><div class=\"sk-label sk-toggleable\"><input class=\"sk-toggleable__control sk-hidden--visually\" id=\"fce2c6ce-3013-4117-ad92-b46eb7b4dfec\" type=\"checkbox\" ><label class=\"sk-toggleable__label\" for=\"fce2c6ce-3013-4117-ad92-b46eb7b4dfec\">num</label><div class=\"sk-toggleable__content\"><pre>Index(['trip_distance', 'pickup_longitude', 'pickup_latitude',\n",
              "       'dropoff_longitude', 'dropoff_latitude', 'time_of_day', 'ave_speed'],\n",
              "      dtype='object')</pre></div></div></div><div class=\"sk-serial\"><div class=\"sk-item\"><div class=\"sk-estimator sk-toggleable\"><input class=\"sk-toggleable__control sk-hidden--visually\" id=\"93867291-2c15-4e0f-a0ce-eb7129090e1d\" type=\"checkbox\" ><label class=\"sk-toggleable__label\" for=\"93867291-2c15-4e0f-a0ce-eb7129090e1d\">MinMaxScaler</label><div class=\"sk-toggleable__content\"><pre>MinMaxScaler()</pre></div></div></div></div></div></div><div class=\"sk-parallel-item\"><div class=\"sk-item\"><div class=\"sk-label-container\"><div class=\"sk-label sk-toggleable\"><input class=\"sk-toggleable__control sk-hidden--visually\" id=\"a01c9e14-4fa6-468c-85da-a5fc4b71382d\" type=\"checkbox\" ><label class=\"sk-toggleable__label\" for=\"a01c9e14-4fa6-468c-85da-a5fc4b71382d\">cat</label><div class=\"sk-toggleable__content\"><pre>Index(['day_of_week'], dtype='object')</pre></div></div></div><div class=\"sk-serial\"><div class=\"sk-item\"><div class=\"sk-estimator sk-toggleable\"><input class=\"sk-toggleable__control sk-hidden--visually\" id=\"fa6f34b8-8f31-40a1-8097-29a47655425e\" type=\"checkbox\" ><label class=\"sk-toggleable__label\" for=\"fa6f34b8-8f31-40a1-8097-29a47655425e\">OrdinalEncoder</label><div class=\"sk-toggleable__content\"><pre>OrdinalEncoder()</pre></div></div></div></div></div></div></div></div></div></div>"
            ],
            "text/plain": [
              "ColumnTransformer(transformers=[('num', MinMaxScaler(),\n",
              "                                 Index(['trip_distance', 'pickup_longitude', 'pickup_latitude',\n",
              "       'dropoff_longitude', 'dropoff_latitude', 'time_of_day', 'ave_speed'],\n",
              "      dtype='object')),\n",
              "                                ('cat', OrdinalEncoder(),\n",
              "                                 Index(['day_of_week'], dtype='object'))])"
            ]
          },
          "metadata": {},
          "execution_count": 50
        }
      ]
    },
    {
      "cell_type": "markdown",
      "metadata": {
        "id": "srK5QVWXFpv7"
      },
      "source": [
        "# Build and Train Models"
      ]
    },
    {
      "cell_type": "code",
      "metadata": {
        "id": "aGmV_j7wwGRQ"
      },
      "source": [
        "models = dict()"
      ],
      "execution_count": null,
      "outputs": []
    },
    {
      "cell_type": "markdown",
      "metadata": {
        "id": "ZbvFdiB5KgBn"
      },
      "source": [
        "## Logistic Regression Model"
      ]
    },
    {
      "cell_type": "code",
      "metadata": {
        "id": "kKLSXN29K8nS"
      },
      "source": [
        "from sklearn.linear_model import LogisticRegression, LogisticRegressionCV"
      ],
      "execution_count": 64,
      "outputs": []
    },
    {
      "cell_type": "code",
      "metadata": {
        "colab": {
          "base_uri": "https://localhost:8080/",
          "height": 165
        },
        "id": "sHZJoT058hic",
        "outputId": "22f8fb32-fb00-4de2-b2da-996f9d04a0b0"
      },
      "source": [
        "lr = Pipeline([('preparation', transformer), \n",
        "                     ('model', LogisticRegression(solver='liblinear'))\n",
        "                     ])\n",
        "lr.fit(X_train, y_train.values.ravel())"
      ],
      "execution_count": 65,
      "outputs": [
        {
          "output_type": "execute_result",
          "data": {
            "text/html": [
              "<style>#sk-366ddb52-3481-4f70-a884-71fd2970a95c {color: black;background-color: white;}#sk-366ddb52-3481-4f70-a884-71fd2970a95c pre{padding: 0;}#sk-366ddb52-3481-4f70-a884-71fd2970a95c div.sk-toggleable {background-color: white;}#sk-366ddb52-3481-4f70-a884-71fd2970a95c label.sk-toggleable__label {cursor: pointer;display: block;width: 100%;margin-bottom: 0;padding: 0.2em 0.3em;box-sizing: border-box;text-align: center;}#sk-366ddb52-3481-4f70-a884-71fd2970a95c div.sk-toggleable__content {max-height: 0;max-width: 0;overflow: hidden;text-align: left;background-color: #f0f8ff;}#sk-366ddb52-3481-4f70-a884-71fd2970a95c div.sk-toggleable__content pre {margin: 0.2em;color: black;border-radius: 0.25em;background-color: #f0f8ff;}#sk-366ddb52-3481-4f70-a884-71fd2970a95c input.sk-toggleable__control:checked~div.sk-toggleable__content {max-height: 200px;max-width: 100%;overflow: auto;}#sk-366ddb52-3481-4f70-a884-71fd2970a95c div.sk-estimator input.sk-toggleable__control:checked~label.sk-toggleable__label {background-color: #d4ebff;}#sk-366ddb52-3481-4f70-a884-71fd2970a95c div.sk-label input.sk-toggleable__control:checked~label.sk-toggleable__label {background-color: #d4ebff;}#sk-366ddb52-3481-4f70-a884-71fd2970a95c input.sk-hidden--visually {border: 0;clip: rect(1px 1px 1px 1px);clip: rect(1px, 1px, 1px, 1px);height: 1px;margin: -1px;overflow: hidden;padding: 0;position: absolute;width: 1px;}#sk-366ddb52-3481-4f70-a884-71fd2970a95c div.sk-estimator {font-family: monospace;background-color: #f0f8ff;margin: 0.25em 0.25em;border: 1px dotted black;border-radius: 0.25em;box-sizing: border-box;}#sk-366ddb52-3481-4f70-a884-71fd2970a95c div.sk-estimator:hover {background-color: #d4ebff;}#sk-366ddb52-3481-4f70-a884-71fd2970a95c div.sk-parallel-item::after {content: \"\";width: 100%;border-bottom: 1px solid gray;flex-grow: 1;}#sk-366ddb52-3481-4f70-a884-71fd2970a95c div.sk-label:hover label.sk-toggleable__label {background-color: #d4ebff;}#sk-366ddb52-3481-4f70-a884-71fd2970a95c div.sk-serial::before {content: \"\";position: absolute;border-left: 1px solid gray;box-sizing: border-box;top: 2em;bottom: 0;left: 50%;}#sk-366ddb52-3481-4f70-a884-71fd2970a95c div.sk-serial {display: flex;flex-direction: column;align-items: center;background-color: white;}#sk-366ddb52-3481-4f70-a884-71fd2970a95c div.sk-item {z-index: 1;}#sk-366ddb52-3481-4f70-a884-71fd2970a95c div.sk-parallel {display: flex;align-items: stretch;justify-content: center;background-color: white;}#sk-366ddb52-3481-4f70-a884-71fd2970a95c div.sk-parallel-item {display: flex;flex-direction: column;position: relative;background-color: white;}#sk-366ddb52-3481-4f70-a884-71fd2970a95c div.sk-parallel-item:first-child::after {align-self: flex-end;width: 50%;}#sk-366ddb52-3481-4f70-a884-71fd2970a95c div.sk-parallel-item:last-child::after {align-self: flex-start;width: 50%;}#sk-366ddb52-3481-4f70-a884-71fd2970a95c div.sk-parallel-item:only-child::after {width: 0;}#sk-366ddb52-3481-4f70-a884-71fd2970a95c div.sk-dashed-wrapped {border: 1px dashed gray;margin: 0.2em;box-sizing: border-box;padding-bottom: 0.1em;background-color: white;position: relative;}#sk-366ddb52-3481-4f70-a884-71fd2970a95c div.sk-label label {font-family: monospace;font-weight: bold;background-color: white;display: inline-block;line-height: 1.2em;}#sk-366ddb52-3481-4f70-a884-71fd2970a95c div.sk-label-container {position: relative;z-index: 2;text-align: center;}#sk-366ddb52-3481-4f70-a884-71fd2970a95c div.sk-container {display: inline-block;position: relative;}</style><div id=\"sk-366ddb52-3481-4f70-a884-71fd2970a95c\" class\"sk-top-container\"><div class=\"sk-container\"><div class=\"sk-item sk-dashed-wrapped\"><div class=\"sk-label-container\"><div class=\"sk-label sk-toggleable\"><input class=\"sk-toggleable__control sk-hidden--visually\" id=\"78340129-c964-4de5-b48b-3fe59aa63593\" type=\"checkbox\" ><label class=\"sk-toggleable__label\" for=\"78340129-c964-4de5-b48b-3fe59aa63593\">Pipeline</label><div class=\"sk-toggleable__content\"><pre>Pipeline(steps=[('preparation',\n",
              "                 ColumnTransformer(transformers=[('num', MinMaxScaler(),\n",
              "                                                  Index(['trip_distance', 'pickup_longitude', 'pickup_latitude',\n",
              "       'dropoff_longitude', 'dropoff_latitude', 'time_of_day', 'ave_speed'],\n",
              "      dtype='object')),\n",
              "                                                 ('cat', OrdinalEncoder(),\n",
              "                                                  Index(['day_of_week'], dtype='object'))])),\n",
              "                ('model', LogisticRegression(solver='liblinear'))])</pre></div></div></div><div class=\"sk-serial\"><div class=\"sk-item sk-dashed-wrapped\"><div class=\"sk-label-container\"><div class=\"sk-label sk-toggleable\"><input class=\"sk-toggleable__control sk-hidden--visually\" id=\"c3a365eb-1656-41c5-9885-8ee513aabb10\" type=\"checkbox\" ><label class=\"sk-toggleable__label\" for=\"c3a365eb-1656-41c5-9885-8ee513aabb10\">preparation: ColumnTransformer</label><div class=\"sk-toggleable__content\"><pre>ColumnTransformer(transformers=[('num', MinMaxScaler(),\n",
              "                                 Index(['trip_distance', 'pickup_longitude', 'pickup_latitude',\n",
              "       'dropoff_longitude', 'dropoff_latitude', 'time_of_day', 'ave_speed'],\n",
              "      dtype='object')),\n",
              "                                ('cat', OrdinalEncoder(),\n",
              "                                 Index(['day_of_week'], dtype='object'))])</pre></div></div></div><div class=\"sk-parallel\"><div class=\"sk-parallel-item\"><div class=\"sk-item\"><div class=\"sk-label-container\"><div class=\"sk-label sk-toggleable\"><input class=\"sk-toggleable__control sk-hidden--visually\" id=\"378f8a29-3ae3-431f-aa8a-ed655d841b99\" type=\"checkbox\" ><label class=\"sk-toggleable__label\" for=\"378f8a29-3ae3-431f-aa8a-ed655d841b99\">num</label><div class=\"sk-toggleable__content\"><pre>Index(['trip_distance', 'pickup_longitude', 'pickup_latitude',\n",
              "       'dropoff_longitude', 'dropoff_latitude', 'time_of_day', 'ave_speed'],\n",
              "      dtype='object')</pre></div></div></div><div class=\"sk-serial\"><div class=\"sk-item\"><div class=\"sk-estimator sk-toggleable\"><input class=\"sk-toggleable__control sk-hidden--visually\" id=\"7b77fffb-95bc-4a7d-af1c-0c264b14a50e\" type=\"checkbox\" ><label class=\"sk-toggleable__label\" for=\"7b77fffb-95bc-4a7d-af1c-0c264b14a50e\">MinMaxScaler</label><div class=\"sk-toggleable__content\"><pre>MinMaxScaler()</pre></div></div></div></div></div></div><div class=\"sk-parallel-item\"><div class=\"sk-item\"><div class=\"sk-label-container\"><div class=\"sk-label sk-toggleable\"><input class=\"sk-toggleable__control sk-hidden--visually\" id=\"f81aeb93-04e1-4516-a431-018c635ec54c\" type=\"checkbox\" ><label class=\"sk-toggleable__label\" for=\"f81aeb93-04e1-4516-a431-018c635ec54c\">cat</label><div class=\"sk-toggleable__content\"><pre>Index(['day_of_week'], dtype='object')</pre></div></div></div><div class=\"sk-serial\"><div class=\"sk-item\"><div class=\"sk-estimator sk-toggleable\"><input class=\"sk-toggleable__control sk-hidden--visually\" id=\"846eda09-3720-4e27-a7d9-cf55377e5e6d\" type=\"checkbox\" ><label class=\"sk-toggleable__label\" for=\"846eda09-3720-4e27-a7d9-cf55377e5e6d\">OrdinalEncoder</label><div class=\"sk-toggleable__content\"><pre>OrdinalEncoder()</pre></div></div></div></div></div></div></div></div><div class=\"sk-item\"><div class=\"sk-estimator sk-toggleable\"><input class=\"sk-toggleable__control sk-hidden--visually\" id=\"cf7a662e-7791-488e-9c2f-43216f4774eb\" type=\"checkbox\" ><label class=\"sk-toggleable__label\" for=\"cf7a662e-7791-488e-9c2f-43216f4774eb\">LogisticRegression</label><div class=\"sk-toggleable__content\"><pre>LogisticRegression(solver='liblinear')</pre></div></div></div></div></div></div></div>"
            ],
            "text/plain": [
              "Pipeline(steps=[('preparation',\n",
              "                 ColumnTransformer(transformers=[('num', MinMaxScaler(),\n",
              "                                                  Index(['trip_distance', 'pickup_longitude', 'pickup_latitude',\n",
              "       'dropoff_longitude', 'dropoff_latitude', 'time_of_day', 'ave_speed'],\n",
              "      dtype='object')),\n",
              "                                                 ('cat', OrdinalEncoder(),\n",
              "                                                  Index(['day_of_week'], dtype='object'))])),\n",
              "                ('model', LogisticRegression(solver='liblinear'))])"
            ]
          },
          "metadata": {},
          "execution_count": 65
        }
      ]
    },
    {
      "cell_type": "code",
      "metadata": {
        "id": "Lkk6vA2gwRov"
      },
      "source": [
        "models['lr'] = lr"
      ],
      "execution_count": 66,
      "outputs": []
    },
    {
      "cell_type": "code",
      "metadata": {
        "colab": {
          "base_uri": "https://localhost:8080/",
          "height": 165
        },
        "id": "WwxgaX5hb_nS",
        "outputId": "89e3be5d-dbbf-4259-83f6-96191dc5ea29"
      },
      "source": [
        "cv = StratifiedKFold(n_splits=5,)\n",
        "lr_l1 = Pipeline([('preparation', transformer), \n",
        "                     ('model', LogisticRegressionCV(Cs=10, cv=cv, penalty='l1', solver='liblinear', n_jobs=-1, verbose=2,))\n",
        "                     ])\n",
        "lr_l1.fit(X_train, y_train.values.ravel())"
      ],
      "execution_count": null,
      "outputs": [
        {
          "data": {
            "text/html": [
              "<style>#sk-b540e114-5aae-4efa-b694-6dc3af47634a {color: black;background-color: white;}#sk-b540e114-5aae-4efa-b694-6dc3af47634a pre{padding: 0;}#sk-b540e114-5aae-4efa-b694-6dc3af47634a div.sk-toggleable {background-color: white;}#sk-b540e114-5aae-4efa-b694-6dc3af47634a label.sk-toggleable__label {cursor: pointer;display: block;width: 100%;margin-bottom: 0;padding: 0.2em 0.3em;box-sizing: border-box;text-align: center;}#sk-b540e114-5aae-4efa-b694-6dc3af47634a div.sk-toggleable__content {max-height: 0;max-width: 0;overflow: hidden;text-align: left;background-color: #f0f8ff;}#sk-b540e114-5aae-4efa-b694-6dc3af47634a div.sk-toggleable__content pre {margin: 0.2em;color: black;border-radius: 0.25em;background-color: #f0f8ff;}#sk-b540e114-5aae-4efa-b694-6dc3af47634a input.sk-toggleable__control:checked~div.sk-toggleable__content {max-height: 200px;max-width: 100%;overflow: auto;}#sk-b540e114-5aae-4efa-b694-6dc3af47634a div.sk-estimator input.sk-toggleable__control:checked~label.sk-toggleable__label {background-color: #d4ebff;}#sk-b540e114-5aae-4efa-b694-6dc3af47634a div.sk-label input.sk-toggleable__control:checked~label.sk-toggleable__label {background-color: #d4ebff;}#sk-b540e114-5aae-4efa-b694-6dc3af47634a input.sk-hidden--visually {border: 0;clip: rect(1px 1px 1px 1px);clip: rect(1px, 1px, 1px, 1px);height: 1px;margin: -1px;overflow: hidden;padding: 0;position: absolute;width: 1px;}#sk-b540e114-5aae-4efa-b694-6dc3af47634a div.sk-estimator {font-family: monospace;background-color: #f0f8ff;margin: 0.25em 0.25em;border: 1px dotted black;border-radius: 0.25em;box-sizing: border-box;}#sk-b540e114-5aae-4efa-b694-6dc3af47634a div.sk-estimator:hover {background-color: #d4ebff;}#sk-b540e114-5aae-4efa-b694-6dc3af47634a div.sk-parallel-item::after {content: \"\";width: 100%;border-bottom: 1px solid gray;flex-grow: 1;}#sk-b540e114-5aae-4efa-b694-6dc3af47634a div.sk-label:hover label.sk-toggleable__label {background-color: #d4ebff;}#sk-b540e114-5aae-4efa-b694-6dc3af47634a div.sk-serial::before {content: \"\";position: absolute;border-left: 1px solid gray;box-sizing: border-box;top: 2em;bottom: 0;left: 50%;}#sk-b540e114-5aae-4efa-b694-6dc3af47634a div.sk-serial {display: flex;flex-direction: column;align-items: center;background-color: white;}#sk-b540e114-5aae-4efa-b694-6dc3af47634a div.sk-item {z-index: 1;}#sk-b540e114-5aae-4efa-b694-6dc3af47634a div.sk-parallel {display: flex;align-items: stretch;justify-content: center;background-color: white;}#sk-b540e114-5aae-4efa-b694-6dc3af47634a div.sk-parallel-item {display: flex;flex-direction: column;position: relative;background-color: white;}#sk-b540e114-5aae-4efa-b694-6dc3af47634a div.sk-parallel-item:first-child::after {align-self: flex-end;width: 50%;}#sk-b540e114-5aae-4efa-b694-6dc3af47634a div.sk-parallel-item:last-child::after {align-self: flex-start;width: 50%;}#sk-b540e114-5aae-4efa-b694-6dc3af47634a div.sk-parallel-item:only-child::after {width: 0;}#sk-b540e114-5aae-4efa-b694-6dc3af47634a div.sk-dashed-wrapped {border: 1px dashed gray;margin: 0.2em;box-sizing: border-box;padding-bottom: 0.1em;background-color: white;position: relative;}#sk-b540e114-5aae-4efa-b694-6dc3af47634a div.sk-label label {font-family: monospace;font-weight: bold;background-color: white;display: inline-block;line-height: 1.2em;}#sk-b540e114-5aae-4efa-b694-6dc3af47634a div.sk-label-container {position: relative;z-index: 2;text-align: center;}#sk-b540e114-5aae-4efa-b694-6dc3af47634a div.sk-container {display: inline-block;position: relative;}</style><div id=\"sk-b540e114-5aae-4efa-b694-6dc3af47634a\" class\"sk-top-container\"><div class=\"sk-container\"><div class=\"sk-item sk-dashed-wrapped\"><div class=\"sk-label-container\"><div class=\"sk-label sk-toggleable\"><input class=\"sk-toggleable__control sk-hidden--visually\" id=\"2432cf2f-c994-4672-8212-17371e7b3df0\" type=\"checkbox\" ><label class=\"sk-toggleable__label\" for=\"2432cf2f-c994-4672-8212-17371e7b3df0\">Pipeline</label><div class=\"sk-toggleable__content\"><pre>Pipeline(steps=[('preparation',\n",
              "                 ColumnTransformer(transformers=[('num', MinMaxScaler(),\n",
              "                                                  Index(['trip_distance', 'pickup_longitude', 'pickup_latitude',\n",
              "       'dropoff_longitude', 'dropoff_latitude', 'time_of_day', 'ave_speed'],\n",
              "      dtype='object')),\n",
              "                                                 ('cat', OrdinalEncoder(),\n",
              "                                                  Index(['day_of_week'], dtype='object'))])),\n",
              "                ('model',\n",
              "                 LogisticRegression(penalty='l1', solver='liblinear'))])</pre></div></div></div><div class=\"sk-serial\"><div class=\"sk-item sk-dashed-wrapped\"><div class=\"sk-label-container\"><div class=\"sk-label sk-toggleable\"><input class=\"sk-toggleable__control sk-hidden--visually\" id=\"c595f886-a711-48fa-9d2b-15de901c07e2\" type=\"checkbox\" ><label class=\"sk-toggleable__label\" for=\"c595f886-a711-48fa-9d2b-15de901c07e2\">preparation: ColumnTransformer</label><div class=\"sk-toggleable__content\"><pre>ColumnTransformer(transformers=[('num', MinMaxScaler(),\n",
              "                                 Index(['trip_distance', 'pickup_longitude', 'pickup_latitude',\n",
              "       'dropoff_longitude', 'dropoff_latitude', 'time_of_day', 'ave_speed'],\n",
              "      dtype='object')),\n",
              "                                ('cat', OrdinalEncoder(),\n",
              "                                 Index(['day_of_week'], dtype='object'))])</pre></div></div></div><div class=\"sk-parallel\"><div class=\"sk-parallel-item\"><div class=\"sk-item\"><div class=\"sk-label-container\"><div class=\"sk-label sk-toggleable\"><input class=\"sk-toggleable__control sk-hidden--visually\" id=\"44548bfb-ca4c-4801-aec2-f90d77a2c868\" type=\"checkbox\" ><label class=\"sk-toggleable__label\" for=\"44548bfb-ca4c-4801-aec2-f90d77a2c868\">num</label><div class=\"sk-toggleable__content\"><pre>Index(['trip_distance', 'pickup_longitude', 'pickup_latitude',\n",
              "       'dropoff_longitude', 'dropoff_latitude', 'time_of_day', 'ave_speed'],\n",
              "      dtype='object')</pre></div></div></div><div class=\"sk-serial\"><div class=\"sk-item\"><div class=\"sk-estimator sk-toggleable\"><input class=\"sk-toggleable__control sk-hidden--visually\" id=\"d0cdc46a-4633-4c8d-9186-d95f673f27ff\" type=\"checkbox\" ><label class=\"sk-toggleable__label\" for=\"d0cdc46a-4633-4c8d-9186-d95f673f27ff\">MinMaxScaler</label><div class=\"sk-toggleable__content\"><pre>MinMaxScaler()</pre></div></div></div></div></div></div><div class=\"sk-parallel-item\"><div class=\"sk-item\"><div class=\"sk-label-container\"><div class=\"sk-label sk-toggleable\"><input class=\"sk-toggleable__control sk-hidden--visually\" id=\"5da316f0-aa37-4227-93fe-8f7ae99eac44\" type=\"checkbox\" ><label class=\"sk-toggleable__label\" for=\"5da316f0-aa37-4227-93fe-8f7ae99eac44\">cat</label><div class=\"sk-toggleable__content\"><pre>Index(['day_of_week'], dtype='object')</pre></div></div></div><div class=\"sk-serial\"><div class=\"sk-item\"><div class=\"sk-estimator sk-toggleable\"><input class=\"sk-toggleable__control sk-hidden--visually\" id=\"6cfcdb91-b87e-4681-8cb7-52a8231cbeb2\" type=\"checkbox\" ><label class=\"sk-toggleable__label\" for=\"6cfcdb91-b87e-4681-8cb7-52a8231cbeb2\">OrdinalEncoder</label><div class=\"sk-toggleable__content\"><pre>OrdinalEncoder()</pre></div></div></div></div></div></div></div></div><div class=\"sk-item\"><div class=\"sk-estimator sk-toggleable\"><input class=\"sk-toggleable__control sk-hidden--visually\" id=\"583fa88c-71bb-405f-aa74-f8a7e5f04659\" type=\"checkbox\" ><label class=\"sk-toggleable__label\" for=\"583fa88c-71bb-405f-aa74-f8a7e5f04659\">LogisticRegression</label><div class=\"sk-toggleable__content\"><pre>LogisticRegression(penalty='l1', solver='liblinear')</pre></div></div></div></div></div></div></div>"
            ],
            "text/plain": [
              "Pipeline(steps=[('preparation',\n",
              "                 ColumnTransformer(transformers=[('num', MinMaxScaler(),\n",
              "                                                  Index(['trip_distance', 'pickup_longitude', 'pickup_latitude',\n",
              "       'dropoff_longitude', 'dropoff_latitude', 'time_of_day', 'ave_speed'],\n",
              "      dtype='object')),\n",
              "                                                 ('cat', OrdinalEncoder(),\n",
              "                                                  Index(['day_of_week'], dtype='object'))])),\n",
              "                ('model',\n",
              "                 LogisticRegression(penalty='l1', solver='liblinear'))])"
            ]
          },
          "execution_count": 52,
          "metadata": {},
          "output_type": "execute_result"
        }
      ]
    },
    {
      "cell_type": "code",
      "metadata": {
        "id": "mYLse-s6wZVx"
      },
      "source": [
        "models['l1'] = lr_l1"
      ],
      "execution_count": null,
      "outputs": []
    },
    {
      "cell_type": "code",
      "metadata": {
        "colab": {
          "base_uri": "https://localhost:8080/",
          "height": 202
        },
        "id": "sKSe5swD9Ynn",
        "outputId": "c9230d99-f313-4caf-8209-1051ffe5259c"
      },
      "source": [
        "cv = StratifiedKFold(n_splits=5,)\n",
        "lr_l2 = Pipeline([('preparation', transformer), \n",
        "                     ('model', LogisticRegressionCV(Cs=10, cv=cv, penalty='l2', solver='liblinear', n_jobs=-1, verbose=1,))\n",
        "                     ])\n",
        "lr_l2.fit(X_train, y_train.values.ravel())"
      ],
      "execution_count": null,
      "outputs": [
        {
          "name": "stderr",
          "output_type": "stream",
          "text": [
            "[Parallel(n_jobs=-1)]: Using backend LokyBackend with 2 concurrent workers.\n",
            "[Parallel(n_jobs=-1)]: Done   5 out of   5 | elapsed:  4.7min finished\n"
          ]
        },
        {
          "data": {
            "text/html": [
              "<style>#sk-15c0d764-3535-4dae-887c-e3c85bda80fa {color: black;background-color: white;}#sk-15c0d764-3535-4dae-887c-e3c85bda80fa pre{padding: 0;}#sk-15c0d764-3535-4dae-887c-e3c85bda80fa div.sk-toggleable {background-color: white;}#sk-15c0d764-3535-4dae-887c-e3c85bda80fa label.sk-toggleable__label {cursor: pointer;display: block;width: 100%;margin-bottom: 0;padding: 0.2em 0.3em;box-sizing: border-box;text-align: center;}#sk-15c0d764-3535-4dae-887c-e3c85bda80fa div.sk-toggleable__content {max-height: 0;max-width: 0;overflow: hidden;text-align: left;background-color: #f0f8ff;}#sk-15c0d764-3535-4dae-887c-e3c85bda80fa div.sk-toggleable__content pre {margin: 0.2em;color: black;border-radius: 0.25em;background-color: #f0f8ff;}#sk-15c0d764-3535-4dae-887c-e3c85bda80fa input.sk-toggleable__control:checked~div.sk-toggleable__content {max-height: 200px;max-width: 100%;overflow: auto;}#sk-15c0d764-3535-4dae-887c-e3c85bda80fa div.sk-estimator input.sk-toggleable__control:checked~label.sk-toggleable__label {background-color: #d4ebff;}#sk-15c0d764-3535-4dae-887c-e3c85bda80fa div.sk-label input.sk-toggleable__control:checked~label.sk-toggleable__label {background-color: #d4ebff;}#sk-15c0d764-3535-4dae-887c-e3c85bda80fa input.sk-hidden--visually {border: 0;clip: rect(1px 1px 1px 1px);clip: rect(1px, 1px, 1px, 1px);height: 1px;margin: -1px;overflow: hidden;padding: 0;position: absolute;width: 1px;}#sk-15c0d764-3535-4dae-887c-e3c85bda80fa div.sk-estimator {font-family: monospace;background-color: #f0f8ff;margin: 0.25em 0.25em;border: 1px dotted black;border-radius: 0.25em;box-sizing: border-box;}#sk-15c0d764-3535-4dae-887c-e3c85bda80fa div.sk-estimator:hover {background-color: #d4ebff;}#sk-15c0d764-3535-4dae-887c-e3c85bda80fa div.sk-parallel-item::after {content: \"\";width: 100%;border-bottom: 1px solid gray;flex-grow: 1;}#sk-15c0d764-3535-4dae-887c-e3c85bda80fa div.sk-label:hover label.sk-toggleable__label {background-color: #d4ebff;}#sk-15c0d764-3535-4dae-887c-e3c85bda80fa div.sk-serial::before {content: \"\";position: absolute;border-left: 1px solid gray;box-sizing: border-box;top: 2em;bottom: 0;left: 50%;}#sk-15c0d764-3535-4dae-887c-e3c85bda80fa div.sk-serial {display: flex;flex-direction: column;align-items: center;background-color: white;}#sk-15c0d764-3535-4dae-887c-e3c85bda80fa div.sk-item {z-index: 1;}#sk-15c0d764-3535-4dae-887c-e3c85bda80fa div.sk-parallel {display: flex;align-items: stretch;justify-content: center;background-color: white;}#sk-15c0d764-3535-4dae-887c-e3c85bda80fa div.sk-parallel-item {display: flex;flex-direction: column;position: relative;background-color: white;}#sk-15c0d764-3535-4dae-887c-e3c85bda80fa div.sk-parallel-item:first-child::after {align-self: flex-end;width: 50%;}#sk-15c0d764-3535-4dae-887c-e3c85bda80fa div.sk-parallel-item:last-child::after {align-self: flex-start;width: 50%;}#sk-15c0d764-3535-4dae-887c-e3c85bda80fa div.sk-parallel-item:only-child::after {width: 0;}#sk-15c0d764-3535-4dae-887c-e3c85bda80fa div.sk-dashed-wrapped {border: 1px dashed gray;margin: 0.2em;box-sizing: border-box;padding-bottom: 0.1em;background-color: white;position: relative;}#sk-15c0d764-3535-4dae-887c-e3c85bda80fa div.sk-label label {font-family: monospace;font-weight: bold;background-color: white;display: inline-block;line-height: 1.2em;}#sk-15c0d764-3535-4dae-887c-e3c85bda80fa div.sk-label-container {position: relative;z-index: 2;text-align: center;}#sk-15c0d764-3535-4dae-887c-e3c85bda80fa div.sk-container {display: inline-block;position: relative;}</style><div id=\"sk-15c0d764-3535-4dae-887c-e3c85bda80fa\" class\"sk-top-container\"><div class=\"sk-container\"><div class=\"sk-item sk-dashed-wrapped\"><div class=\"sk-label-container\"><div class=\"sk-label sk-toggleable\"><input class=\"sk-toggleable__control sk-hidden--visually\" id=\"53409ce1-1590-484d-8e7f-1a5043671f3b\" type=\"checkbox\" ><label class=\"sk-toggleable__label\" for=\"53409ce1-1590-484d-8e7f-1a5043671f3b\">Pipeline</label><div class=\"sk-toggleable__content\"><pre>Pipeline(steps=[('preparation',\n",
              "                 ColumnTransformer(transformers=[('num', MinMaxScaler(),\n",
              "                                                  Index(['trip_distance', 'pickup_longitude', 'pickup_latitude',\n",
              "       'dropoff_longitude', 'dropoff_latitude', 'time_of_day', 'ave_speed'],\n",
              "      dtype='object')),\n",
              "                                                 ('cat', OrdinalEncoder(),\n",
              "                                                  Index(['day_of_week'], dtype='object'))])),\n",
              "                ('model',\n",
              "                 LogisticRegressionCV(cv=StratifiedKFold(n_splits=5, random_state=None, shuffle=False),\n",
              "                                      n_jobs=-1, solver='liblinear',\n",
              "                                      verbose=1))])</pre></div></div></div><div class=\"sk-serial\"><div class=\"sk-item sk-dashed-wrapped\"><div class=\"sk-label-container\"><div class=\"sk-label sk-toggleable\"><input class=\"sk-toggleable__control sk-hidden--visually\" id=\"c9ba5ee0-9808-431d-9347-ab5cadf325a7\" type=\"checkbox\" ><label class=\"sk-toggleable__label\" for=\"c9ba5ee0-9808-431d-9347-ab5cadf325a7\">preparation: ColumnTransformer</label><div class=\"sk-toggleable__content\"><pre>ColumnTransformer(transformers=[('num', MinMaxScaler(),\n",
              "                                 Index(['trip_distance', 'pickup_longitude', 'pickup_latitude',\n",
              "       'dropoff_longitude', 'dropoff_latitude', 'time_of_day', 'ave_speed'],\n",
              "      dtype='object')),\n",
              "                                ('cat', OrdinalEncoder(),\n",
              "                                 Index(['day_of_week'], dtype='object'))])</pre></div></div></div><div class=\"sk-parallel\"><div class=\"sk-parallel-item\"><div class=\"sk-item\"><div class=\"sk-label-container\"><div class=\"sk-label sk-toggleable\"><input class=\"sk-toggleable__control sk-hidden--visually\" id=\"3ef0fcb4-2b6f-4fb6-b3cd-bb8fd0ceebf8\" type=\"checkbox\" ><label class=\"sk-toggleable__label\" for=\"3ef0fcb4-2b6f-4fb6-b3cd-bb8fd0ceebf8\">num</label><div class=\"sk-toggleable__content\"><pre>Index(['trip_distance', 'pickup_longitude', 'pickup_latitude',\n",
              "       'dropoff_longitude', 'dropoff_latitude', 'time_of_day', 'ave_speed'],\n",
              "      dtype='object')</pre></div></div></div><div class=\"sk-serial\"><div class=\"sk-item\"><div class=\"sk-estimator sk-toggleable\"><input class=\"sk-toggleable__control sk-hidden--visually\" id=\"d28c47f3-287c-4c9d-a989-1df7a33ea54d\" type=\"checkbox\" ><label class=\"sk-toggleable__label\" for=\"d28c47f3-287c-4c9d-a989-1df7a33ea54d\">MinMaxScaler</label><div class=\"sk-toggleable__content\"><pre>MinMaxScaler()</pre></div></div></div></div></div></div><div class=\"sk-parallel-item\"><div class=\"sk-item\"><div class=\"sk-label-container\"><div class=\"sk-label sk-toggleable\"><input class=\"sk-toggleable__control sk-hidden--visually\" id=\"c1aa7ea8-28a0-427d-8d20-d57039e2b185\" type=\"checkbox\" ><label class=\"sk-toggleable__label\" for=\"c1aa7ea8-28a0-427d-8d20-d57039e2b185\">cat</label><div class=\"sk-toggleable__content\"><pre>Index(['day_of_week'], dtype='object')</pre></div></div></div><div class=\"sk-serial\"><div class=\"sk-item\"><div class=\"sk-estimator sk-toggleable\"><input class=\"sk-toggleable__control sk-hidden--visually\" id=\"4e736429-cb00-4d0d-ade8-f140ce751fb3\" type=\"checkbox\" ><label class=\"sk-toggleable__label\" for=\"4e736429-cb00-4d0d-ade8-f140ce751fb3\">OrdinalEncoder</label><div class=\"sk-toggleable__content\"><pre>OrdinalEncoder()</pre></div></div></div></div></div></div></div></div><div class=\"sk-item\"><div class=\"sk-estimator sk-toggleable\"><input class=\"sk-toggleable__control sk-hidden--visually\" id=\"de1aa0e8-b035-45aa-a477-7296bbc0ef3b\" type=\"checkbox\" ><label class=\"sk-toggleable__label\" for=\"de1aa0e8-b035-45aa-a477-7296bbc0ef3b\">LogisticRegressionCV</label><div class=\"sk-toggleable__content\"><pre>LogisticRegressionCV(cv=StratifiedKFold(n_splits=5, random_state=None, shuffle=False),\n",
              "                     n_jobs=-1, solver='liblinear', verbose=1)</pre></div></div></div></div></div></div></div>"
            ],
            "text/plain": [
              "Pipeline(steps=[('preparation',\n",
              "                 ColumnTransformer(transformers=[('num', MinMaxScaler(),\n",
              "                                                  Index(['trip_distance', 'pickup_longitude', 'pickup_latitude',\n",
              "       'dropoff_longitude', 'dropoff_latitude', 'time_of_day', 'ave_speed'],\n",
              "      dtype='object')),\n",
              "                                                 ('cat', OrdinalEncoder(),\n",
              "                                                  Index(['day_of_week'], dtype='object'))])),\n",
              "                ('model',\n",
              "                 LogisticRegressionCV(cv=StratifiedKFold(n_splits=5, random_state=None, shuffle=False),\n",
              "                                      n_jobs=-1, solver='liblinear',\n",
              "                                      verbose=1))])"
            ]
          },
          "execution_count": 53,
          "metadata": {},
          "output_type": "execute_result"
        }
      ]
    },
    {
      "cell_type": "code",
      "metadata": {
        "id": "G27TxoEMwhGn"
      },
      "source": [
        "models['l2'] = lr_l2"
      ],
      "execution_count": null,
      "outputs": []
    },
    {
      "cell_type": "markdown",
      "metadata": {
        "id": "1m_3Jj-OobHq"
      },
      "source": [
        "## Balanced Logistic Regression"
      ]
    },
    {
      "cell_type": "code",
      "metadata": {
        "colab": {
          "base_uri": "https://localhost:8080/",
          "height": 183
        },
        "id": "h3YSsoqPoaVq",
        "outputId": "1930505f-04a9-4cd9-f267-06d316e27b4a"
      },
      "source": [
        "lr_bal = LogisticRegression(solver='liblinear', class_weight='balanced', verbose=1)\n",
        "lr_bal = Pipeline([('preparation', transformer), \n",
        "                     ('model', lr_bal)\n",
        "                     ])\n",
        "\n",
        "lr_bal.fit(X_train, y_train.values.ravel())"
      ],
      "execution_count": null,
      "outputs": [
        {
          "name": "stdout",
          "output_type": "stream",
          "text": [
            "[LibLinear]"
          ]
        },
        {
          "data": {
            "text/html": [
              "<style>#sk-e9ae045e-f88d-4e10-a55f-3f9232555bcd {color: black;background-color: white;}#sk-e9ae045e-f88d-4e10-a55f-3f9232555bcd pre{padding: 0;}#sk-e9ae045e-f88d-4e10-a55f-3f9232555bcd div.sk-toggleable {background-color: white;}#sk-e9ae045e-f88d-4e10-a55f-3f9232555bcd label.sk-toggleable__label {cursor: pointer;display: block;width: 100%;margin-bottom: 0;padding: 0.2em 0.3em;box-sizing: border-box;text-align: center;}#sk-e9ae045e-f88d-4e10-a55f-3f9232555bcd div.sk-toggleable__content {max-height: 0;max-width: 0;overflow: hidden;text-align: left;background-color: #f0f8ff;}#sk-e9ae045e-f88d-4e10-a55f-3f9232555bcd div.sk-toggleable__content pre {margin: 0.2em;color: black;border-radius: 0.25em;background-color: #f0f8ff;}#sk-e9ae045e-f88d-4e10-a55f-3f9232555bcd input.sk-toggleable__control:checked~div.sk-toggleable__content {max-height: 200px;max-width: 100%;overflow: auto;}#sk-e9ae045e-f88d-4e10-a55f-3f9232555bcd div.sk-estimator input.sk-toggleable__control:checked~label.sk-toggleable__label {background-color: #d4ebff;}#sk-e9ae045e-f88d-4e10-a55f-3f9232555bcd div.sk-label input.sk-toggleable__control:checked~label.sk-toggleable__label {background-color: #d4ebff;}#sk-e9ae045e-f88d-4e10-a55f-3f9232555bcd input.sk-hidden--visually {border: 0;clip: rect(1px 1px 1px 1px);clip: rect(1px, 1px, 1px, 1px);height: 1px;margin: -1px;overflow: hidden;padding: 0;position: absolute;width: 1px;}#sk-e9ae045e-f88d-4e10-a55f-3f9232555bcd div.sk-estimator {font-family: monospace;background-color: #f0f8ff;margin: 0.25em 0.25em;border: 1px dotted black;border-radius: 0.25em;box-sizing: border-box;}#sk-e9ae045e-f88d-4e10-a55f-3f9232555bcd div.sk-estimator:hover {background-color: #d4ebff;}#sk-e9ae045e-f88d-4e10-a55f-3f9232555bcd div.sk-parallel-item::after {content: \"\";width: 100%;border-bottom: 1px solid gray;flex-grow: 1;}#sk-e9ae045e-f88d-4e10-a55f-3f9232555bcd div.sk-label:hover label.sk-toggleable__label {background-color: #d4ebff;}#sk-e9ae045e-f88d-4e10-a55f-3f9232555bcd div.sk-serial::before {content: \"\";position: absolute;border-left: 1px solid gray;box-sizing: border-box;top: 2em;bottom: 0;left: 50%;}#sk-e9ae045e-f88d-4e10-a55f-3f9232555bcd div.sk-serial {display: flex;flex-direction: column;align-items: center;background-color: white;}#sk-e9ae045e-f88d-4e10-a55f-3f9232555bcd div.sk-item {z-index: 1;}#sk-e9ae045e-f88d-4e10-a55f-3f9232555bcd div.sk-parallel {display: flex;align-items: stretch;justify-content: center;background-color: white;}#sk-e9ae045e-f88d-4e10-a55f-3f9232555bcd div.sk-parallel-item {display: flex;flex-direction: column;position: relative;background-color: white;}#sk-e9ae045e-f88d-4e10-a55f-3f9232555bcd div.sk-parallel-item:first-child::after {align-self: flex-end;width: 50%;}#sk-e9ae045e-f88d-4e10-a55f-3f9232555bcd div.sk-parallel-item:last-child::after {align-self: flex-start;width: 50%;}#sk-e9ae045e-f88d-4e10-a55f-3f9232555bcd div.sk-parallel-item:only-child::after {width: 0;}#sk-e9ae045e-f88d-4e10-a55f-3f9232555bcd div.sk-dashed-wrapped {border: 1px dashed gray;margin: 0.2em;box-sizing: border-box;padding-bottom: 0.1em;background-color: white;position: relative;}#sk-e9ae045e-f88d-4e10-a55f-3f9232555bcd div.sk-label label {font-family: monospace;font-weight: bold;background-color: white;display: inline-block;line-height: 1.2em;}#sk-e9ae045e-f88d-4e10-a55f-3f9232555bcd div.sk-label-container {position: relative;z-index: 2;text-align: center;}#sk-e9ae045e-f88d-4e10-a55f-3f9232555bcd div.sk-container {display: inline-block;position: relative;}</style><div id=\"sk-e9ae045e-f88d-4e10-a55f-3f9232555bcd\" class\"sk-top-container\"><div class=\"sk-container\"><div class=\"sk-item sk-dashed-wrapped\"><div class=\"sk-label-container\"><div class=\"sk-label sk-toggleable\"><input class=\"sk-toggleable__control sk-hidden--visually\" id=\"6ff269de-d933-46bf-9396-fbb68e870049\" type=\"checkbox\" ><label class=\"sk-toggleable__label\" for=\"6ff269de-d933-46bf-9396-fbb68e870049\">Pipeline</label><div class=\"sk-toggleable__content\"><pre>Pipeline(steps=[('preparation',\n",
              "                 ColumnTransformer(transformers=[('num', MinMaxScaler(),\n",
              "                                                  Index(['trip_distance', 'pickup_longitude', 'pickup_latitude',\n",
              "       'dropoff_longitude', 'dropoff_latitude', 'time_of_day', 'ave_speed'],\n",
              "      dtype='object')),\n",
              "                                                 ('cat', OrdinalEncoder(),\n",
              "                                                  Index(['day_of_week'], dtype='object'))])),\n",
              "                ('model',\n",
              "                 LogisticRegression(class_weight='balanced', solver='liblinear',\n",
              "                                    verbose=1))])</pre></div></div></div><div class=\"sk-serial\"><div class=\"sk-item sk-dashed-wrapped\"><div class=\"sk-label-container\"><div class=\"sk-label sk-toggleable\"><input class=\"sk-toggleable__control sk-hidden--visually\" id=\"3ccbf49c-03c2-425e-9e95-d16e7fe5925c\" type=\"checkbox\" ><label class=\"sk-toggleable__label\" for=\"3ccbf49c-03c2-425e-9e95-d16e7fe5925c\">preparation: ColumnTransformer</label><div class=\"sk-toggleable__content\"><pre>ColumnTransformer(transformers=[('num', MinMaxScaler(),\n",
              "                                 Index(['trip_distance', 'pickup_longitude', 'pickup_latitude',\n",
              "       'dropoff_longitude', 'dropoff_latitude', 'time_of_day', 'ave_speed'],\n",
              "      dtype='object')),\n",
              "                                ('cat', OrdinalEncoder(),\n",
              "                                 Index(['day_of_week'], dtype='object'))])</pre></div></div></div><div class=\"sk-parallel\"><div class=\"sk-parallel-item\"><div class=\"sk-item\"><div class=\"sk-label-container\"><div class=\"sk-label sk-toggleable\"><input class=\"sk-toggleable__control sk-hidden--visually\" id=\"970820e0-718d-4557-87f0-6443ae1f47a3\" type=\"checkbox\" ><label class=\"sk-toggleable__label\" for=\"970820e0-718d-4557-87f0-6443ae1f47a3\">num</label><div class=\"sk-toggleable__content\"><pre>Index(['trip_distance', 'pickup_longitude', 'pickup_latitude',\n",
              "       'dropoff_longitude', 'dropoff_latitude', 'time_of_day', 'ave_speed'],\n",
              "      dtype='object')</pre></div></div></div><div class=\"sk-serial\"><div class=\"sk-item\"><div class=\"sk-estimator sk-toggleable\"><input class=\"sk-toggleable__control sk-hidden--visually\" id=\"d524a127-5d53-400c-9ff3-dcd84c1898fd\" type=\"checkbox\" ><label class=\"sk-toggleable__label\" for=\"d524a127-5d53-400c-9ff3-dcd84c1898fd\">MinMaxScaler</label><div class=\"sk-toggleable__content\"><pre>MinMaxScaler()</pre></div></div></div></div></div></div><div class=\"sk-parallel-item\"><div class=\"sk-item\"><div class=\"sk-label-container\"><div class=\"sk-label sk-toggleable\"><input class=\"sk-toggleable__control sk-hidden--visually\" id=\"29fba176-9d64-4024-81cd-957b2bc6b494\" type=\"checkbox\" ><label class=\"sk-toggleable__label\" for=\"29fba176-9d64-4024-81cd-957b2bc6b494\">cat</label><div class=\"sk-toggleable__content\"><pre>Index(['day_of_week'], dtype='object')</pre></div></div></div><div class=\"sk-serial\"><div class=\"sk-item\"><div class=\"sk-estimator sk-toggleable\"><input class=\"sk-toggleable__control sk-hidden--visually\" id=\"df497b4c-d782-4e07-8a3b-e36166d857b9\" type=\"checkbox\" ><label class=\"sk-toggleable__label\" for=\"df497b4c-d782-4e07-8a3b-e36166d857b9\">OrdinalEncoder</label><div class=\"sk-toggleable__content\"><pre>OrdinalEncoder()</pre></div></div></div></div></div></div></div></div><div class=\"sk-item\"><div class=\"sk-estimator sk-toggleable\"><input class=\"sk-toggleable__control sk-hidden--visually\" id=\"b5cd891a-0474-4ecc-a0d9-037259ee4af3\" type=\"checkbox\" ><label class=\"sk-toggleable__label\" for=\"b5cd891a-0474-4ecc-a0d9-037259ee4af3\">LogisticRegression</label><div class=\"sk-toggleable__content\"><pre>LogisticRegression(class_weight='balanced', solver='liblinear', verbose=1)</pre></div></div></div></div></div></div></div>"
            ],
            "text/plain": [
              "Pipeline(steps=[('preparation',\n",
              "                 ColumnTransformer(transformers=[('num', MinMaxScaler(),\n",
              "                                                  Index(['trip_distance', 'pickup_longitude', 'pickup_latitude',\n",
              "       'dropoff_longitude', 'dropoff_latitude', 'time_of_day', 'ave_speed'],\n",
              "      dtype='object')),\n",
              "                                                 ('cat', OrdinalEncoder(),\n",
              "                                                  Index(['day_of_week'], dtype='object'))])),\n",
              "                ('model',\n",
              "                 LogisticRegression(class_weight='balanced', solver='liblinear',\n",
              "                                    verbose=1))])"
            ]
          },
          "execution_count": 58,
          "metadata": {},
          "output_type": "execute_result"
        }
      ]
    },
    {
      "cell_type": "code",
      "metadata": {
        "id": "zv6B4ObgpaZ5"
      },
      "source": [
        "# coeff_labels = ['lr', 'l1', 'l2', 'lr_bal']\n",
        "# coeff_models = [lr, lr_l1, lr_l2, lr_bal]\n",
        "models['lr_bal'] = lr_bal"
      ],
      "execution_count": null,
      "outputs": []
    },
    {
      "cell_type": "markdown",
      "metadata": {
        "id": "I7nk6unsOnHf"
      },
      "source": [
        "## KNN"
      ]
    },
    {
      "cell_type": "code",
      "metadata": {
        "id": "5v350_ssGSwY"
      },
      "source": [
        "from sklearn.neighbors import KNeighborsClassifier"
      ],
      "execution_count": null,
      "outputs": []
    },
    {
      "cell_type": "code",
      "metadata": {
        "colab": {
          "background_save": true
        },
        "id": "tY-Vt9v5PQqw",
        "outputId": "485444a3-b574-4985-9b6d-e178c585a2f4"
      },
      "source": [
        "# Estimate KNN model and report outcomes\n",
        "knn = KNeighborsClassifier(n_neighbors=10, weights='distance', n_jobs=-1, )\n",
        "knn = Pipeline([('preparation', transformer), \n",
        "                     ('model', knn)\n",
        "                     ])\n",
        "\n",
        "knn.fit(X_train, y_train.values.ravel())"
      ],
      "execution_count": null,
      "outputs": [
        {
          "data": {
            "text/html": [
              "<style>#sk-0750de0f-7bfd-4120-9ce9-5632e83a7042 {color: black;background-color: white;}#sk-0750de0f-7bfd-4120-9ce9-5632e83a7042 pre{padding: 0;}#sk-0750de0f-7bfd-4120-9ce9-5632e83a7042 div.sk-toggleable {background-color: white;}#sk-0750de0f-7bfd-4120-9ce9-5632e83a7042 label.sk-toggleable__label {cursor: pointer;display: block;width: 100%;margin-bottom: 0;padding: 0.2em 0.3em;box-sizing: border-box;text-align: center;}#sk-0750de0f-7bfd-4120-9ce9-5632e83a7042 div.sk-toggleable__content {max-height: 0;max-width: 0;overflow: hidden;text-align: left;background-color: #f0f8ff;}#sk-0750de0f-7bfd-4120-9ce9-5632e83a7042 div.sk-toggleable__content pre {margin: 0.2em;color: black;border-radius: 0.25em;background-color: #f0f8ff;}#sk-0750de0f-7bfd-4120-9ce9-5632e83a7042 input.sk-toggleable__control:checked~div.sk-toggleable__content {max-height: 200px;max-width: 100%;overflow: auto;}#sk-0750de0f-7bfd-4120-9ce9-5632e83a7042 div.sk-estimator input.sk-toggleable__control:checked~label.sk-toggleable__label {background-color: #d4ebff;}#sk-0750de0f-7bfd-4120-9ce9-5632e83a7042 div.sk-label input.sk-toggleable__control:checked~label.sk-toggleable__label {background-color: #d4ebff;}#sk-0750de0f-7bfd-4120-9ce9-5632e83a7042 input.sk-hidden--visually {border: 0;clip: rect(1px 1px 1px 1px);clip: rect(1px, 1px, 1px, 1px);height: 1px;margin: -1px;overflow: hidden;padding: 0;position: absolute;width: 1px;}#sk-0750de0f-7bfd-4120-9ce9-5632e83a7042 div.sk-estimator {font-family: monospace;background-color: #f0f8ff;margin: 0.25em 0.25em;border: 1px dotted black;border-radius: 0.25em;box-sizing: border-box;}#sk-0750de0f-7bfd-4120-9ce9-5632e83a7042 div.sk-estimator:hover {background-color: #d4ebff;}#sk-0750de0f-7bfd-4120-9ce9-5632e83a7042 div.sk-parallel-item::after {content: \"\";width: 100%;border-bottom: 1px solid gray;flex-grow: 1;}#sk-0750de0f-7bfd-4120-9ce9-5632e83a7042 div.sk-label:hover label.sk-toggleable__label {background-color: #d4ebff;}#sk-0750de0f-7bfd-4120-9ce9-5632e83a7042 div.sk-serial::before {content: \"\";position: absolute;border-left: 1px solid gray;box-sizing: border-box;top: 2em;bottom: 0;left: 50%;}#sk-0750de0f-7bfd-4120-9ce9-5632e83a7042 div.sk-serial {display: flex;flex-direction: column;align-items: center;background-color: white;}#sk-0750de0f-7bfd-4120-9ce9-5632e83a7042 div.sk-item {z-index: 1;}#sk-0750de0f-7bfd-4120-9ce9-5632e83a7042 div.sk-parallel {display: flex;align-items: stretch;justify-content: center;background-color: white;}#sk-0750de0f-7bfd-4120-9ce9-5632e83a7042 div.sk-parallel-item {display: flex;flex-direction: column;position: relative;background-color: white;}#sk-0750de0f-7bfd-4120-9ce9-5632e83a7042 div.sk-parallel-item:first-child::after {align-self: flex-end;width: 50%;}#sk-0750de0f-7bfd-4120-9ce9-5632e83a7042 div.sk-parallel-item:last-child::after {align-self: flex-start;width: 50%;}#sk-0750de0f-7bfd-4120-9ce9-5632e83a7042 div.sk-parallel-item:only-child::after {width: 0;}#sk-0750de0f-7bfd-4120-9ce9-5632e83a7042 div.sk-dashed-wrapped {border: 1px dashed gray;margin: 0.2em;box-sizing: border-box;padding-bottom: 0.1em;background-color: white;position: relative;}#sk-0750de0f-7bfd-4120-9ce9-5632e83a7042 div.sk-label label {font-family: monospace;font-weight: bold;background-color: white;display: inline-block;line-height: 1.2em;}#sk-0750de0f-7bfd-4120-9ce9-5632e83a7042 div.sk-label-container {position: relative;z-index: 2;text-align: center;}#sk-0750de0f-7bfd-4120-9ce9-5632e83a7042 div.sk-container {display: inline-block;position: relative;}</style><div id=\"sk-0750de0f-7bfd-4120-9ce9-5632e83a7042\" class\"sk-top-container\"><div class=\"sk-container\"><div class=\"sk-item sk-dashed-wrapped\"><div class=\"sk-label-container\"><div class=\"sk-label sk-toggleable\"><input class=\"sk-toggleable__control sk-hidden--visually\" id=\"f5aa6d50-ef85-4790-83ef-ad5dd3755fbe\" type=\"checkbox\" ><label class=\"sk-toggleable__label\" for=\"f5aa6d50-ef85-4790-83ef-ad5dd3755fbe\">Pipeline</label><div class=\"sk-toggleable__content\"><pre>Pipeline(steps=[('preparation',\n",
              "                 ColumnTransformer(transformers=[('num', MinMaxScaler(),\n",
              "                                                  Index(['trip_distance', 'pickup_longitude', 'pickup_latitude',\n",
              "       'dropoff_longitude', 'dropoff_latitude', 'time_of_day', 'ave_speed'],\n",
              "      dtype='object')),\n",
              "                                                 ('cat', OrdinalEncoder(),\n",
              "                                                  Index(['day_of_week'], dtype='object'))])),\n",
              "                ('model',\n",
              "                 KNeighborsClassifier(n_jobs=-1, n_neighbors=10,\n",
              "                                      weights='distance'))])</pre></div></div></div><div class=\"sk-serial\"><div class=\"sk-item sk-dashed-wrapped\"><div class=\"sk-label-container\"><div class=\"sk-label sk-toggleable\"><input class=\"sk-toggleable__control sk-hidden--visually\" id=\"1045f5d3-eb04-40fb-8e84-8778f3848989\" type=\"checkbox\" ><label class=\"sk-toggleable__label\" for=\"1045f5d3-eb04-40fb-8e84-8778f3848989\">preparation: ColumnTransformer</label><div class=\"sk-toggleable__content\"><pre>ColumnTransformer(transformers=[('num', MinMaxScaler(),\n",
              "                                 Index(['trip_distance', 'pickup_longitude', 'pickup_latitude',\n",
              "       'dropoff_longitude', 'dropoff_latitude', 'time_of_day', 'ave_speed'],\n",
              "      dtype='object')),\n",
              "                                ('cat', OrdinalEncoder(),\n",
              "                                 Index(['day_of_week'], dtype='object'))])</pre></div></div></div><div class=\"sk-parallel\"><div class=\"sk-parallel-item\"><div class=\"sk-item\"><div class=\"sk-label-container\"><div class=\"sk-label sk-toggleable\"><input class=\"sk-toggleable__control sk-hidden--visually\" id=\"779c0ca4-e945-4a57-86b0-b98fcb0524b6\" type=\"checkbox\" ><label class=\"sk-toggleable__label\" for=\"779c0ca4-e945-4a57-86b0-b98fcb0524b6\">num</label><div class=\"sk-toggleable__content\"><pre>Index(['trip_distance', 'pickup_longitude', 'pickup_latitude',\n",
              "       'dropoff_longitude', 'dropoff_latitude', 'time_of_day', 'ave_speed'],\n",
              "      dtype='object')</pre></div></div></div><div class=\"sk-serial\"><div class=\"sk-item\"><div class=\"sk-estimator sk-toggleable\"><input class=\"sk-toggleable__control sk-hidden--visually\" id=\"745e6161-a773-463e-a6b1-505e5dc2a356\" type=\"checkbox\" ><label class=\"sk-toggleable__label\" for=\"745e6161-a773-463e-a6b1-505e5dc2a356\">MinMaxScaler</label><div class=\"sk-toggleable__content\"><pre>MinMaxScaler()</pre></div></div></div></div></div></div><div class=\"sk-parallel-item\"><div class=\"sk-item\"><div class=\"sk-label-container\"><div class=\"sk-label sk-toggleable\"><input class=\"sk-toggleable__control sk-hidden--visually\" id=\"2ea0b1da-9cf3-4904-8399-76f3e8282849\" type=\"checkbox\" ><label class=\"sk-toggleable__label\" for=\"2ea0b1da-9cf3-4904-8399-76f3e8282849\">cat</label><div class=\"sk-toggleable__content\"><pre>Index(['day_of_week'], dtype='object')</pre></div></div></div><div class=\"sk-serial\"><div class=\"sk-item\"><div class=\"sk-estimator sk-toggleable\"><input class=\"sk-toggleable__control sk-hidden--visually\" id=\"1bd91820-e8c0-443f-a728-00d5c145d4b0\" type=\"checkbox\" ><label class=\"sk-toggleable__label\" for=\"1bd91820-e8c0-443f-a728-00d5c145d4b0\">OrdinalEncoder</label><div class=\"sk-toggleable__content\"><pre>OrdinalEncoder()</pre></div></div></div></div></div></div></div></div><div class=\"sk-item\"><div class=\"sk-estimator sk-toggleable\"><input class=\"sk-toggleable__control sk-hidden--visually\" id=\"4de65828-4d53-45be-b25e-a183c0b2f0ac\" type=\"checkbox\" ><label class=\"sk-toggleable__label\" for=\"4de65828-4d53-45be-b25e-a183c0b2f0ac\">KNeighborsClassifier</label><div class=\"sk-toggleable__content\"><pre>KNeighborsClassifier(n_jobs=-1, n_neighbors=10, weights='distance')</pre></div></div></div></div></div></div></div>"
            ],
            "text/plain": [
              "Pipeline(steps=[('preparation',\n",
              "                 ColumnTransformer(transformers=[('num', MinMaxScaler(),\n",
              "                                                  Index(['trip_distance', 'pickup_longitude', 'pickup_latitude',\n",
              "       'dropoff_longitude', 'dropoff_latitude', 'time_of_day', 'ave_speed'],\n",
              "      dtype='object')),\n",
              "                                                 ('cat', OrdinalEncoder(),\n",
              "                                                  Index(['day_of_week'], dtype='object'))])),\n",
              "                ('model',\n",
              "                 KNeighborsClassifier(n_jobs=-1, n_neighbors=10,\n",
              "                                      weights='distance'))])"
            ]
          },
          "execution_count": null,
          "metadata": {},
          "output_type": "execute_result"
        }
      ]
    },
    {
      "cell_type": "code",
      "metadata": {
        "colab": {
          "background_save": true
        },
        "id": "wW5RiscNvNyU"
      },
      "source": [
        "models['knn'] = knn"
      ],
      "execution_count": null,
      "outputs": []
    },
    {
      "cell_type": "markdown",
      "metadata": {
        "id": "DlzOGFjgq9rQ"
      },
      "source": [
        "## SVM --> LinearSVC"
      ]
    },
    {
      "cell_type": "code",
      "metadata": {
        "id": "BBvJWjmvQeIb"
      },
      "source": [
        "from sklearn.svm import LinearSVC, SVC"
      ],
      "execution_count": 67,
      "outputs": []
    },
    {
      "cell_type": "code",
      "metadata": {
        "colab": {
          "base_uri": "https://localhost:8080/",
          "height": 183
        },
        "id": "xSrkzFy0gGiZ",
        "outputId": "d6fb9598-48a0-4512-9550-f78be84583d5"
      },
      "source": [
        "LSVC = LinearSVC(verbose=1, random_state=42, )\n",
        "LSVC = Pipeline([('preparation', transformer), \n",
        "                     ('model', LSVC)\n",
        "                     ])\n",
        "\n",
        "LSVC.fit(X_train, y_train.values.ravel())"
      ],
      "execution_count": 68,
      "outputs": [
        {
          "output_type": "stream",
          "text": [
            "[LibLinear]"
          ],
          "name": "stdout"
        },
        {
          "output_type": "execute_result",
          "data": {
            "text/html": [
              "<style>#sk-ca434798-5b9a-4480-b5fe-dbbe65e4a2ed {color: black;background-color: white;}#sk-ca434798-5b9a-4480-b5fe-dbbe65e4a2ed pre{padding: 0;}#sk-ca434798-5b9a-4480-b5fe-dbbe65e4a2ed div.sk-toggleable {background-color: white;}#sk-ca434798-5b9a-4480-b5fe-dbbe65e4a2ed label.sk-toggleable__label {cursor: pointer;display: block;width: 100%;margin-bottom: 0;padding: 0.2em 0.3em;box-sizing: border-box;text-align: center;}#sk-ca434798-5b9a-4480-b5fe-dbbe65e4a2ed div.sk-toggleable__content {max-height: 0;max-width: 0;overflow: hidden;text-align: left;background-color: #f0f8ff;}#sk-ca434798-5b9a-4480-b5fe-dbbe65e4a2ed div.sk-toggleable__content pre {margin: 0.2em;color: black;border-radius: 0.25em;background-color: #f0f8ff;}#sk-ca434798-5b9a-4480-b5fe-dbbe65e4a2ed input.sk-toggleable__control:checked~div.sk-toggleable__content {max-height: 200px;max-width: 100%;overflow: auto;}#sk-ca434798-5b9a-4480-b5fe-dbbe65e4a2ed div.sk-estimator input.sk-toggleable__control:checked~label.sk-toggleable__label {background-color: #d4ebff;}#sk-ca434798-5b9a-4480-b5fe-dbbe65e4a2ed div.sk-label input.sk-toggleable__control:checked~label.sk-toggleable__label {background-color: #d4ebff;}#sk-ca434798-5b9a-4480-b5fe-dbbe65e4a2ed input.sk-hidden--visually {border: 0;clip: rect(1px 1px 1px 1px);clip: rect(1px, 1px, 1px, 1px);height: 1px;margin: -1px;overflow: hidden;padding: 0;position: absolute;width: 1px;}#sk-ca434798-5b9a-4480-b5fe-dbbe65e4a2ed div.sk-estimator {font-family: monospace;background-color: #f0f8ff;margin: 0.25em 0.25em;border: 1px dotted black;border-radius: 0.25em;box-sizing: border-box;}#sk-ca434798-5b9a-4480-b5fe-dbbe65e4a2ed div.sk-estimator:hover {background-color: #d4ebff;}#sk-ca434798-5b9a-4480-b5fe-dbbe65e4a2ed div.sk-parallel-item::after {content: \"\";width: 100%;border-bottom: 1px solid gray;flex-grow: 1;}#sk-ca434798-5b9a-4480-b5fe-dbbe65e4a2ed div.sk-label:hover label.sk-toggleable__label {background-color: #d4ebff;}#sk-ca434798-5b9a-4480-b5fe-dbbe65e4a2ed div.sk-serial::before {content: \"\";position: absolute;border-left: 1px solid gray;box-sizing: border-box;top: 2em;bottom: 0;left: 50%;}#sk-ca434798-5b9a-4480-b5fe-dbbe65e4a2ed div.sk-serial {display: flex;flex-direction: column;align-items: center;background-color: white;}#sk-ca434798-5b9a-4480-b5fe-dbbe65e4a2ed div.sk-item {z-index: 1;}#sk-ca434798-5b9a-4480-b5fe-dbbe65e4a2ed div.sk-parallel {display: flex;align-items: stretch;justify-content: center;background-color: white;}#sk-ca434798-5b9a-4480-b5fe-dbbe65e4a2ed div.sk-parallel-item {display: flex;flex-direction: column;position: relative;background-color: white;}#sk-ca434798-5b9a-4480-b5fe-dbbe65e4a2ed div.sk-parallel-item:first-child::after {align-self: flex-end;width: 50%;}#sk-ca434798-5b9a-4480-b5fe-dbbe65e4a2ed div.sk-parallel-item:last-child::after {align-self: flex-start;width: 50%;}#sk-ca434798-5b9a-4480-b5fe-dbbe65e4a2ed div.sk-parallel-item:only-child::after {width: 0;}#sk-ca434798-5b9a-4480-b5fe-dbbe65e4a2ed div.sk-dashed-wrapped {border: 1px dashed gray;margin: 0.2em;box-sizing: border-box;padding-bottom: 0.1em;background-color: white;position: relative;}#sk-ca434798-5b9a-4480-b5fe-dbbe65e4a2ed div.sk-label label {font-family: monospace;font-weight: bold;background-color: white;display: inline-block;line-height: 1.2em;}#sk-ca434798-5b9a-4480-b5fe-dbbe65e4a2ed div.sk-label-container {position: relative;z-index: 2;text-align: center;}#sk-ca434798-5b9a-4480-b5fe-dbbe65e4a2ed div.sk-container {display: inline-block;position: relative;}</style><div id=\"sk-ca434798-5b9a-4480-b5fe-dbbe65e4a2ed\" class\"sk-top-container\"><div class=\"sk-container\"><div class=\"sk-item sk-dashed-wrapped\"><div class=\"sk-label-container\"><div class=\"sk-label sk-toggleable\"><input class=\"sk-toggleable__control sk-hidden--visually\" id=\"605c66c7-83a2-4395-9652-1974003eb028\" type=\"checkbox\" ><label class=\"sk-toggleable__label\" for=\"605c66c7-83a2-4395-9652-1974003eb028\">Pipeline</label><div class=\"sk-toggleable__content\"><pre>Pipeline(steps=[('preparation',\n",
              "                 ColumnTransformer(transformers=[('num', MinMaxScaler(),\n",
              "                                                  Index(['trip_distance', 'pickup_longitude', 'pickup_latitude',\n",
              "       'dropoff_longitude', 'dropoff_latitude', 'time_of_day', 'ave_speed'],\n",
              "      dtype='object')),\n",
              "                                                 ('cat', OrdinalEncoder(),\n",
              "                                                  Index(['day_of_week'], dtype='object'))])),\n",
              "                ('model', LinearSVC(random_state=42, verbose=1))])</pre></div></div></div><div class=\"sk-serial\"><div class=\"sk-item sk-dashed-wrapped\"><div class=\"sk-label-container\"><div class=\"sk-label sk-toggleable\"><input class=\"sk-toggleable__control sk-hidden--visually\" id=\"7d6f0f3d-4040-4a35-968a-eef6dd7bb52d\" type=\"checkbox\" ><label class=\"sk-toggleable__label\" for=\"7d6f0f3d-4040-4a35-968a-eef6dd7bb52d\">preparation: ColumnTransformer</label><div class=\"sk-toggleable__content\"><pre>ColumnTransformer(transformers=[('num', MinMaxScaler(),\n",
              "                                 Index(['trip_distance', 'pickup_longitude', 'pickup_latitude',\n",
              "       'dropoff_longitude', 'dropoff_latitude', 'time_of_day', 'ave_speed'],\n",
              "      dtype='object')),\n",
              "                                ('cat', OrdinalEncoder(),\n",
              "                                 Index(['day_of_week'], dtype='object'))])</pre></div></div></div><div class=\"sk-parallel\"><div class=\"sk-parallel-item\"><div class=\"sk-item\"><div class=\"sk-label-container\"><div class=\"sk-label sk-toggleable\"><input class=\"sk-toggleable__control sk-hidden--visually\" id=\"d662a43c-5eac-4614-83d7-c7e83f17a02e\" type=\"checkbox\" ><label class=\"sk-toggleable__label\" for=\"d662a43c-5eac-4614-83d7-c7e83f17a02e\">num</label><div class=\"sk-toggleable__content\"><pre>Index(['trip_distance', 'pickup_longitude', 'pickup_latitude',\n",
              "       'dropoff_longitude', 'dropoff_latitude', 'time_of_day', 'ave_speed'],\n",
              "      dtype='object')</pre></div></div></div><div class=\"sk-serial\"><div class=\"sk-item\"><div class=\"sk-estimator sk-toggleable\"><input class=\"sk-toggleable__control sk-hidden--visually\" id=\"7c34fb3c-1d5b-41ea-bdf7-3f56d815db3f\" type=\"checkbox\" ><label class=\"sk-toggleable__label\" for=\"7c34fb3c-1d5b-41ea-bdf7-3f56d815db3f\">MinMaxScaler</label><div class=\"sk-toggleable__content\"><pre>MinMaxScaler()</pre></div></div></div></div></div></div><div class=\"sk-parallel-item\"><div class=\"sk-item\"><div class=\"sk-label-container\"><div class=\"sk-label sk-toggleable\"><input class=\"sk-toggleable__control sk-hidden--visually\" id=\"e1b03221-a6bb-4aa2-8a64-e12d6fea7a62\" type=\"checkbox\" ><label class=\"sk-toggleable__label\" for=\"e1b03221-a6bb-4aa2-8a64-e12d6fea7a62\">cat</label><div class=\"sk-toggleable__content\"><pre>Index(['day_of_week'], dtype='object')</pre></div></div></div><div class=\"sk-serial\"><div class=\"sk-item\"><div class=\"sk-estimator sk-toggleable\"><input class=\"sk-toggleable__control sk-hidden--visually\" id=\"9a03e0cc-d8a7-4dec-89ce-7e2bba76cf3d\" type=\"checkbox\" ><label class=\"sk-toggleable__label\" for=\"9a03e0cc-d8a7-4dec-89ce-7e2bba76cf3d\">OrdinalEncoder</label><div class=\"sk-toggleable__content\"><pre>OrdinalEncoder()</pre></div></div></div></div></div></div></div></div><div class=\"sk-item\"><div class=\"sk-estimator sk-toggleable\"><input class=\"sk-toggleable__control sk-hidden--visually\" id=\"844845b6-1dac-4e16-9699-cceb5c3a7cb3\" type=\"checkbox\" ><label class=\"sk-toggleable__label\" for=\"844845b6-1dac-4e16-9699-cceb5c3a7cb3\">LinearSVC</label><div class=\"sk-toggleable__content\"><pre>LinearSVC(random_state=42, verbose=1)</pre></div></div></div></div></div></div></div>"
            ],
            "text/plain": [
              "Pipeline(steps=[('preparation',\n",
              "                 ColumnTransformer(transformers=[('num', MinMaxScaler(),\n",
              "                                                  Index(['trip_distance', 'pickup_longitude', 'pickup_latitude',\n",
              "       'dropoff_longitude', 'dropoff_latitude', 'time_of_day', 'ave_speed'],\n",
              "      dtype='object')),\n",
              "                                                 ('cat', OrdinalEncoder(),\n",
              "                                                  Index(['day_of_week'], dtype='object'))])),\n",
              "                ('model', LinearSVC(random_state=42, verbose=1))])"
            ]
          },
          "metadata": {},
          "execution_count": 68
        }
      ]
    },
    {
      "cell_type": "code",
      "metadata": {
        "id": "rciI_PfUxO2Q"
      },
      "source": [
        "models['lsvc'] = LSVC"
      ],
      "execution_count": 69,
      "outputs": []
    },
    {
      "cell_type": "markdown",
      "metadata": {
        "id": "18vaYMVwqj1N"
      },
      "source": [
        "## SGDClassifier"
      ]
    },
    {
      "cell_type": "code",
      "metadata": {
        "id": "OfVfso_ZMFmC"
      },
      "source": [
        "from sklearn.kernel_approximation import Nystroem\n",
        "from sklearn.linear_model import SGDClassifier"
      ],
      "execution_count": 70,
      "outputs": []
    },
    {
      "cell_type": "code",
      "metadata": {
        "id": "4n0nAm-xPL4k"
      },
      "source": [
        "kwargs = {'kernel': 'rbf', 'n_components': 100, 'n_jobs': -1, 'random_state': 42, }\n",
        "nystroem = Nystroem(**kwargs)"
      ],
      "execution_count": 71,
      "outputs": []
    },
    {
      "cell_type": "code",
      "metadata": {
        "colab": {
          "base_uri": "https://localhost:8080/",
          "height": 111
        },
        "id": "kEwTi4TO4wNI",
        "outputId": "907768de-16ec-4738-d288-d0d7d62445c2"
      },
      "source": [
        "num_pipeline = Pipeline([(\"num\",  MinMaxScaler()),\n",
        "                         ('nys', nystroem),\n",
        "                         ])\n",
        "num_pipeline"
      ],
      "execution_count": 72,
      "outputs": [
        {
          "output_type": "execute_result",
          "data": {
            "text/html": [
              "<style>#sk-7d3882d6-8e73-46aa-84d5-f1857660d565 {color: black;background-color: white;}#sk-7d3882d6-8e73-46aa-84d5-f1857660d565 pre{padding: 0;}#sk-7d3882d6-8e73-46aa-84d5-f1857660d565 div.sk-toggleable {background-color: white;}#sk-7d3882d6-8e73-46aa-84d5-f1857660d565 label.sk-toggleable__label {cursor: pointer;display: block;width: 100%;margin-bottom: 0;padding: 0.2em 0.3em;box-sizing: border-box;text-align: center;}#sk-7d3882d6-8e73-46aa-84d5-f1857660d565 div.sk-toggleable__content {max-height: 0;max-width: 0;overflow: hidden;text-align: left;background-color: #f0f8ff;}#sk-7d3882d6-8e73-46aa-84d5-f1857660d565 div.sk-toggleable__content pre {margin: 0.2em;color: black;border-radius: 0.25em;background-color: #f0f8ff;}#sk-7d3882d6-8e73-46aa-84d5-f1857660d565 input.sk-toggleable__control:checked~div.sk-toggleable__content {max-height: 200px;max-width: 100%;overflow: auto;}#sk-7d3882d6-8e73-46aa-84d5-f1857660d565 div.sk-estimator input.sk-toggleable__control:checked~label.sk-toggleable__label {background-color: #d4ebff;}#sk-7d3882d6-8e73-46aa-84d5-f1857660d565 div.sk-label input.sk-toggleable__control:checked~label.sk-toggleable__label {background-color: #d4ebff;}#sk-7d3882d6-8e73-46aa-84d5-f1857660d565 input.sk-hidden--visually {border: 0;clip: rect(1px 1px 1px 1px);clip: rect(1px, 1px, 1px, 1px);height: 1px;margin: -1px;overflow: hidden;padding: 0;position: absolute;width: 1px;}#sk-7d3882d6-8e73-46aa-84d5-f1857660d565 div.sk-estimator {font-family: monospace;background-color: #f0f8ff;margin: 0.25em 0.25em;border: 1px dotted black;border-radius: 0.25em;box-sizing: border-box;}#sk-7d3882d6-8e73-46aa-84d5-f1857660d565 div.sk-estimator:hover {background-color: #d4ebff;}#sk-7d3882d6-8e73-46aa-84d5-f1857660d565 div.sk-parallel-item::after {content: \"\";width: 100%;border-bottom: 1px solid gray;flex-grow: 1;}#sk-7d3882d6-8e73-46aa-84d5-f1857660d565 div.sk-label:hover label.sk-toggleable__label {background-color: #d4ebff;}#sk-7d3882d6-8e73-46aa-84d5-f1857660d565 div.sk-serial::before {content: \"\";position: absolute;border-left: 1px solid gray;box-sizing: border-box;top: 2em;bottom: 0;left: 50%;}#sk-7d3882d6-8e73-46aa-84d5-f1857660d565 div.sk-serial {display: flex;flex-direction: column;align-items: center;background-color: white;}#sk-7d3882d6-8e73-46aa-84d5-f1857660d565 div.sk-item {z-index: 1;}#sk-7d3882d6-8e73-46aa-84d5-f1857660d565 div.sk-parallel {display: flex;align-items: stretch;justify-content: center;background-color: white;}#sk-7d3882d6-8e73-46aa-84d5-f1857660d565 div.sk-parallel-item {display: flex;flex-direction: column;position: relative;background-color: white;}#sk-7d3882d6-8e73-46aa-84d5-f1857660d565 div.sk-parallel-item:first-child::after {align-self: flex-end;width: 50%;}#sk-7d3882d6-8e73-46aa-84d5-f1857660d565 div.sk-parallel-item:last-child::after {align-self: flex-start;width: 50%;}#sk-7d3882d6-8e73-46aa-84d5-f1857660d565 div.sk-parallel-item:only-child::after {width: 0;}#sk-7d3882d6-8e73-46aa-84d5-f1857660d565 div.sk-dashed-wrapped {border: 1px dashed gray;margin: 0.2em;box-sizing: border-box;padding-bottom: 0.1em;background-color: white;position: relative;}#sk-7d3882d6-8e73-46aa-84d5-f1857660d565 div.sk-label label {font-family: monospace;font-weight: bold;background-color: white;display: inline-block;line-height: 1.2em;}#sk-7d3882d6-8e73-46aa-84d5-f1857660d565 div.sk-label-container {position: relative;z-index: 2;text-align: center;}#sk-7d3882d6-8e73-46aa-84d5-f1857660d565 div.sk-container {display: inline-block;position: relative;}</style><div id=\"sk-7d3882d6-8e73-46aa-84d5-f1857660d565\" class\"sk-top-container\"><div class=\"sk-container\"><div class=\"sk-item sk-dashed-wrapped\"><div class=\"sk-label-container\"><div class=\"sk-label sk-toggleable\"><input class=\"sk-toggleable__control sk-hidden--visually\" id=\"eebe1b03-181e-4b09-b8a6-ced1b0298a16\" type=\"checkbox\" ><label class=\"sk-toggleable__label\" for=\"eebe1b03-181e-4b09-b8a6-ced1b0298a16\">Pipeline</label><div class=\"sk-toggleable__content\"><pre>Pipeline(steps=[('num', MinMaxScaler()),\n",
              "                ('nys', Nystroem(n_jobs=-1, random_state=42))])</pre></div></div></div><div class=\"sk-serial\"><div class=\"sk-item\"><div class=\"sk-estimator sk-toggleable\"><input class=\"sk-toggleable__control sk-hidden--visually\" id=\"4262d412-575c-4e36-98c3-d6e24eaf1604\" type=\"checkbox\" ><label class=\"sk-toggleable__label\" for=\"4262d412-575c-4e36-98c3-d6e24eaf1604\">MinMaxScaler</label><div class=\"sk-toggleable__content\"><pre>MinMaxScaler()</pre></div></div></div><div class=\"sk-item\"><div class=\"sk-estimator sk-toggleable\"><input class=\"sk-toggleable__control sk-hidden--visually\" id=\"377eaa2e-7755-46d6-8a11-ec0b8e64efed\" type=\"checkbox\" ><label class=\"sk-toggleable__label\" for=\"377eaa2e-7755-46d6-8a11-ec0b8e64efed\">Nystroem</label><div class=\"sk-toggleable__content\"><pre>Nystroem(n_jobs=-1, random_state=42)</pre></div></div></div></div></div></div></div>"
            ],
            "text/plain": [
              "Pipeline(steps=[('num', MinMaxScaler()),\n",
              "                ('nys', Nystroem(n_jobs=-1, random_state=42))])"
            ]
          },
          "metadata": {},
          "execution_count": 72
        }
      ]
    },
    {
      "cell_type": "code",
      "metadata": {
        "colab": {
          "base_uri": "https://localhost:8080/",
          "height": 79
        },
        "id": "ETBdXbNelXxY",
        "outputId": "6d747596-b9bf-4754-eff7-d52358e9bdb5"
      },
      "source": [
        "cat_pipeline = Pipeline([(\"cat\", OrdinalEncoder()),\n",
        "                         ])\n",
        "cat_pipeline"
      ],
      "execution_count": 73,
      "outputs": [
        {
          "output_type": "execute_result",
          "data": {
            "text/html": [
              "<style>#sk-4680edde-6de8-4d75-993a-f67bd3149123 {color: black;background-color: white;}#sk-4680edde-6de8-4d75-993a-f67bd3149123 pre{padding: 0;}#sk-4680edde-6de8-4d75-993a-f67bd3149123 div.sk-toggleable {background-color: white;}#sk-4680edde-6de8-4d75-993a-f67bd3149123 label.sk-toggleable__label {cursor: pointer;display: block;width: 100%;margin-bottom: 0;padding: 0.2em 0.3em;box-sizing: border-box;text-align: center;}#sk-4680edde-6de8-4d75-993a-f67bd3149123 div.sk-toggleable__content {max-height: 0;max-width: 0;overflow: hidden;text-align: left;background-color: #f0f8ff;}#sk-4680edde-6de8-4d75-993a-f67bd3149123 div.sk-toggleable__content pre {margin: 0.2em;color: black;border-radius: 0.25em;background-color: #f0f8ff;}#sk-4680edde-6de8-4d75-993a-f67bd3149123 input.sk-toggleable__control:checked~div.sk-toggleable__content {max-height: 200px;max-width: 100%;overflow: auto;}#sk-4680edde-6de8-4d75-993a-f67bd3149123 div.sk-estimator input.sk-toggleable__control:checked~label.sk-toggleable__label {background-color: #d4ebff;}#sk-4680edde-6de8-4d75-993a-f67bd3149123 div.sk-label input.sk-toggleable__control:checked~label.sk-toggleable__label {background-color: #d4ebff;}#sk-4680edde-6de8-4d75-993a-f67bd3149123 input.sk-hidden--visually {border: 0;clip: rect(1px 1px 1px 1px);clip: rect(1px, 1px, 1px, 1px);height: 1px;margin: -1px;overflow: hidden;padding: 0;position: absolute;width: 1px;}#sk-4680edde-6de8-4d75-993a-f67bd3149123 div.sk-estimator {font-family: monospace;background-color: #f0f8ff;margin: 0.25em 0.25em;border: 1px dotted black;border-radius: 0.25em;box-sizing: border-box;}#sk-4680edde-6de8-4d75-993a-f67bd3149123 div.sk-estimator:hover {background-color: #d4ebff;}#sk-4680edde-6de8-4d75-993a-f67bd3149123 div.sk-parallel-item::after {content: \"\";width: 100%;border-bottom: 1px solid gray;flex-grow: 1;}#sk-4680edde-6de8-4d75-993a-f67bd3149123 div.sk-label:hover label.sk-toggleable__label {background-color: #d4ebff;}#sk-4680edde-6de8-4d75-993a-f67bd3149123 div.sk-serial::before {content: \"\";position: absolute;border-left: 1px solid gray;box-sizing: border-box;top: 2em;bottom: 0;left: 50%;}#sk-4680edde-6de8-4d75-993a-f67bd3149123 div.sk-serial {display: flex;flex-direction: column;align-items: center;background-color: white;}#sk-4680edde-6de8-4d75-993a-f67bd3149123 div.sk-item {z-index: 1;}#sk-4680edde-6de8-4d75-993a-f67bd3149123 div.sk-parallel {display: flex;align-items: stretch;justify-content: center;background-color: white;}#sk-4680edde-6de8-4d75-993a-f67bd3149123 div.sk-parallel-item {display: flex;flex-direction: column;position: relative;background-color: white;}#sk-4680edde-6de8-4d75-993a-f67bd3149123 div.sk-parallel-item:first-child::after {align-self: flex-end;width: 50%;}#sk-4680edde-6de8-4d75-993a-f67bd3149123 div.sk-parallel-item:last-child::after {align-self: flex-start;width: 50%;}#sk-4680edde-6de8-4d75-993a-f67bd3149123 div.sk-parallel-item:only-child::after {width: 0;}#sk-4680edde-6de8-4d75-993a-f67bd3149123 div.sk-dashed-wrapped {border: 1px dashed gray;margin: 0.2em;box-sizing: border-box;padding-bottom: 0.1em;background-color: white;position: relative;}#sk-4680edde-6de8-4d75-993a-f67bd3149123 div.sk-label label {font-family: monospace;font-weight: bold;background-color: white;display: inline-block;line-height: 1.2em;}#sk-4680edde-6de8-4d75-993a-f67bd3149123 div.sk-label-container {position: relative;z-index: 2;text-align: center;}#sk-4680edde-6de8-4d75-993a-f67bd3149123 div.sk-container {display: inline-block;position: relative;}</style><div id=\"sk-4680edde-6de8-4d75-993a-f67bd3149123\" class\"sk-top-container\"><div class=\"sk-container\"><div class=\"sk-item sk-dashed-wrapped\"><div class=\"sk-label-container\"><div class=\"sk-label sk-toggleable\"><input class=\"sk-toggleable__control sk-hidden--visually\" id=\"ca0c6e2b-f692-46af-8594-0efdb7b4ff5d\" type=\"checkbox\" ><label class=\"sk-toggleable__label\" for=\"ca0c6e2b-f692-46af-8594-0efdb7b4ff5d\">Pipeline</label><div class=\"sk-toggleable__content\"><pre>Pipeline(steps=[('cat', OrdinalEncoder())])</pre></div></div></div><div class=\"sk-serial\"><div class=\"sk-item\"><div class=\"sk-estimator sk-toggleable\"><input class=\"sk-toggleable__control sk-hidden--visually\" id=\"1aa54d61-aefd-4239-9266-9257d2c8e3e5\" type=\"checkbox\" ><label class=\"sk-toggleable__label\" for=\"1aa54d61-aefd-4239-9266-9257d2c8e3e5\">OrdinalEncoder</label><div class=\"sk-toggleable__content\"><pre>OrdinalEncoder()</pre></div></div></div></div></div></div></div>"
            ],
            "text/plain": [
              "Pipeline(steps=[('cat', OrdinalEncoder())])"
            ]
          },
          "metadata": {},
          "execution_count": 73
        }
      ]
    },
    {
      "cell_type": "code",
      "metadata": {
        "colab": {
          "base_uri": "https://localhost:8080/",
          "height": 134
        },
        "id": "cXHK8WCBMkHR",
        "outputId": "d457e5ae-0b2f-4ea6-cf87-dabe7611becc"
      },
      "source": [
        "transformer = ColumnTransformer([(\"num_pipe\", num_pipeline, numerical_cols),\n",
        "                                 (\"cat_pipe\", cat_pipeline, categorical_cols),\n",
        "                                 ])\n",
        "transformer"
      ],
      "execution_count": 74,
      "outputs": [
        {
          "output_type": "execute_result",
          "data": {
            "text/html": [
              "<style>#sk-365cf9c9-0b31-4a8a-9871-08b2e949d1ab {color: black;background-color: white;}#sk-365cf9c9-0b31-4a8a-9871-08b2e949d1ab pre{padding: 0;}#sk-365cf9c9-0b31-4a8a-9871-08b2e949d1ab div.sk-toggleable {background-color: white;}#sk-365cf9c9-0b31-4a8a-9871-08b2e949d1ab label.sk-toggleable__label {cursor: pointer;display: block;width: 100%;margin-bottom: 0;padding: 0.2em 0.3em;box-sizing: border-box;text-align: center;}#sk-365cf9c9-0b31-4a8a-9871-08b2e949d1ab div.sk-toggleable__content {max-height: 0;max-width: 0;overflow: hidden;text-align: left;background-color: #f0f8ff;}#sk-365cf9c9-0b31-4a8a-9871-08b2e949d1ab div.sk-toggleable__content pre {margin: 0.2em;color: black;border-radius: 0.25em;background-color: #f0f8ff;}#sk-365cf9c9-0b31-4a8a-9871-08b2e949d1ab input.sk-toggleable__control:checked~div.sk-toggleable__content {max-height: 200px;max-width: 100%;overflow: auto;}#sk-365cf9c9-0b31-4a8a-9871-08b2e949d1ab div.sk-estimator input.sk-toggleable__control:checked~label.sk-toggleable__label {background-color: #d4ebff;}#sk-365cf9c9-0b31-4a8a-9871-08b2e949d1ab div.sk-label input.sk-toggleable__control:checked~label.sk-toggleable__label {background-color: #d4ebff;}#sk-365cf9c9-0b31-4a8a-9871-08b2e949d1ab input.sk-hidden--visually {border: 0;clip: rect(1px 1px 1px 1px);clip: rect(1px, 1px, 1px, 1px);height: 1px;margin: -1px;overflow: hidden;padding: 0;position: absolute;width: 1px;}#sk-365cf9c9-0b31-4a8a-9871-08b2e949d1ab div.sk-estimator {font-family: monospace;background-color: #f0f8ff;margin: 0.25em 0.25em;border: 1px dotted black;border-radius: 0.25em;box-sizing: border-box;}#sk-365cf9c9-0b31-4a8a-9871-08b2e949d1ab div.sk-estimator:hover {background-color: #d4ebff;}#sk-365cf9c9-0b31-4a8a-9871-08b2e949d1ab div.sk-parallel-item::after {content: \"\";width: 100%;border-bottom: 1px solid gray;flex-grow: 1;}#sk-365cf9c9-0b31-4a8a-9871-08b2e949d1ab div.sk-label:hover label.sk-toggleable__label {background-color: #d4ebff;}#sk-365cf9c9-0b31-4a8a-9871-08b2e949d1ab div.sk-serial::before {content: \"\";position: absolute;border-left: 1px solid gray;box-sizing: border-box;top: 2em;bottom: 0;left: 50%;}#sk-365cf9c9-0b31-4a8a-9871-08b2e949d1ab div.sk-serial {display: flex;flex-direction: column;align-items: center;background-color: white;}#sk-365cf9c9-0b31-4a8a-9871-08b2e949d1ab div.sk-item {z-index: 1;}#sk-365cf9c9-0b31-4a8a-9871-08b2e949d1ab div.sk-parallel {display: flex;align-items: stretch;justify-content: center;background-color: white;}#sk-365cf9c9-0b31-4a8a-9871-08b2e949d1ab div.sk-parallel-item {display: flex;flex-direction: column;position: relative;background-color: white;}#sk-365cf9c9-0b31-4a8a-9871-08b2e949d1ab div.sk-parallel-item:first-child::after {align-self: flex-end;width: 50%;}#sk-365cf9c9-0b31-4a8a-9871-08b2e949d1ab div.sk-parallel-item:last-child::after {align-self: flex-start;width: 50%;}#sk-365cf9c9-0b31-4a8a-9871-08b2e949d1ab div.sk-parallel-item:only-child::after {width: 0;}#sk-365cf9c9-0b31-4a8a-9871-08b2e949d1ab div.sk-dashed-wrapped {border: 1px dashed gray;margin: 0.2em;box-sizing: border-box;padding-bottom: 0.1em;background-color: white;position: relative;}#sk-365cf9c9-0b31-4a8a-9871-08b2e949d1ab div.sk-label label {font-family: monospace;font-weight: bold;background-color: white;display: inline-block;line-height: 1.2em;}#sk-365cf9c9-0b31-4a8a-9871-08b2e949d1ab div.sk-label-container {position: relative;z-index: 2;text-align: center;}#sk-365cf9c9-0b31-4a8a-9871-08b2e949d1ab div.sk-container {display: inline-block;position: relative;}</style><div id=\"sk-365cf9c9-0b31-4a8a-9871-08b2e949d1ab\" class\"sk-top-container\"><div class=\"sk-container\"><div class=\"sk-item sk-dashed-wrapped\"><div class=\"sk-label-container\"><div class=\"sk-label sk-toggleable\"><input class=\"sk-toggleable__control sk-hidden--visually\" id=\"79a0484c-05a1-419a-beea-e1b4f82d30b5\" type=\"checkbox\" ><label class=\"sk-toggleable__label\" for=\"79a0484c-05a1-419a-beea-e1b4f82d30b5\">ColumnTransformer</label><div class=\"sk-toggleable__content\"><pre>ColumnTransformer(transformers=[('num_pipe',\n",
              "                                 Pipeline(steps=[('num', MinMaxScaler()),\n",
              "                                                 ('nys',\n",
              "                                                  Nystroem(n_jobs=-1,\n",
              "                                                           random_state=42))]),\n",
              "                                 Index(['trip_distance', 'pickup_longitude', 'pickup_latitude',\n",
              "       'dropoff_longitude', 'dropoff_latitude', 'time_of_day', 'ave_speed'],\n",
              "      dtype='object')),\n",
              "                                ('cat_pipe',\n",
              "                                 Pipeline(steps=[('cat', OrdinalEncoder())]),\n",
              "                                 Index(['day_of_week'], dtype='object'))])</pre></div></div></div><div class=\"sk-parallel\"><div class=\"sk-parallel-item\"><div class=\"sk-item\"><div class=\"sk-label-container\"><div class=\"sk-label sk-toggleable\"><input class=\"sk-toggleable__control sk-hidden--visually\" id=\"02e79eda-6195-4a4c-8969-b7a0528a8bb9\" type=\"checkbox\" ><label class=\"sk-toggleable__label\" for=\"02e79eda-6195-4a4c-8969-b7a0528a8bb9\">num_pipe</label><div class=\"sk-toggleable__content\"><pre>Index(['trip_distance', 'pickup_longitude', 'pickup_latitude',\n",
              "       'dropoff_longitude', 'dropoff_latitude', 'time_of_day', 'ave_speed'],\n",
              "      dtype='object')</pre></div></div></div><div class=\"sk-serial\"><div class=\"sk-item\"><div class=\"sk-serial\"><div class=\"sk-item\"><div class=\"sk-estimator sk-toggleable\"><input class=\"sk-toggleable__control sk-hidden--visually\" id=\"b02e04c2-8cd3-4b75-8bc9-dcbf4c9fbaf2\" type=\"checkbox\" ><label class=\"sk-toggleable__label\" for=\"b02e04c2-8cd3-4b75-8bc9-dcbf4c9fbaf2\">MinMaxScaler</label><div class=\"sk-toggleable__content\"><pre>MinMaxScaler()</pre></div></div></div><div class=\"sk-item\"><div class=\"sk-estimator sk-toggleable\"><input class=\"sk-toggleable__control sk-hidden--visually\" id=\"f428e1a8-fe67-412c-ab64-b36ec52793dd\" type=\"checkbox\" ><label class=\"sk-toggleable__label\" for=\"f428e1a8-fe67-412c-ab64-b36ec52793dd\">Nystroem</label><div class=\"sk-toggleable__content\"><pre>Nystroem(n_jobs=-1, random_state=42)</pre></div></div></div></div></div></div></div></div><div class=\"sk-parallel-item\"><div class=\"sk-item\"><div class=\"sk-label-container\"><div class=\"sk-label sk-toggleable\"><input class=\"sk-toggleable__control sk-hidden--visually\" id=\"5341d0f5-6668-4d61-bd76-2c975ec41a90\" type=\"checkbox\" ><label class=\"sk-toggleable__label\" for=\"5341d0f5-6668-4d61-bd76-2c975ec41a90\">cat_pipe</label><div class=\"sk-toggleable__content\"><pre>Index(['day_of_week'], dtype='object')</pre></div></div></div><div class=\"sk-serial\"><div class=\"sk-item\"><div class=\"sk-serial\"><div class=\"sk-item\"><div class=\"sk-estimator sk-toggleable\"><input class=\"sk-toggleable__control sk-hidden--visually\" id=\"e1410bc4-90c6-43b5-93d4-c152a26e4d6c\" type=\"checkbox\" ><label class=\"sk-toggleable__label\" for=\"e1410bc4-90c6-43b5-93d4-c152a26e4d6c\">OrdinalEncoder</label><div class=\"sk-toggleable__content\"><pre>OrdinalEncoder()</pre></div></div></div></div></div></div></div></div></div></div></div></div>"
            ],
            "text/plain": [
              "ColumnTransformer(transformers=[('num_pipe',\n",
              "                                 Pipeline(steps=[('num', MinMaxScaler()),\n",
              "                                                 ('nys',\n",
              "                                                  Nystroem(n_jobs=-1,\n",
              "                                                           random_state=42))]),\n",
              "                                 Index(['trip_distance', 'pickup_longitude', 'pickup_latitude',\n",
              "       'dropoff_longitude', 'dropoff_latitude', 'time_of_day', 'ave_speed'],\n",
              "      dtype='object')),\n",
              "                                ('cat_pipe',\n",
              "                                 Pipeline(steps=[('cat', OrdinalEncoder())]),\n",
              "                                 Index(['day_of_week'], dtype='object'))])"
            ]
          },
          "metadata": {},
          "execution_count": 74
        }
      ]
    },
    {
      "cell_type": "code",
      "metadata": {
        "colab": {
          "base_uri": "https://localhost:8080/",
          "height": 547
        },
        "id": "QQdXkOwvhXEP",
        "outputId": "c270d779-e0e2-4f5b-dc7a-c249f5028a9c"
      },
      "source": [
        "sgd = SGDClassifier(verbose=1, n_jobs=-1, early_stopping=True, random_state=42, )\n",
        "sgd = Pipeline([('preparation', transformer), \n",
        "                     ('model', sgd)\n",
        "                     ])\n",
        "\n",
        "sgd.fit(X_train, y_train.values.ravel())"
      ],
      "execution_count": 75,
      "outputs": [
        {
          "output_type": "stream",
          "text": [
            "-- Epoch 1\n",
            "Norm: 12.86, NNZs: 101, Bias: -3.162119, T: 2033064, Avg. loss: 0.085792\n",
            "Total training time: 1.88 seconds.\n",
            "-- Epoch 2\n",
            "Norm: 12.49, NNZs: 101, Bias: -3.190890, T: 4066128, Avg. loss: 0.073280\n",
            "Total training time: 4.77 seconds.\n",
            "-- Epoch 3\n",
            "Norm: 12.38, NNZs: 101, Bias: -3.157956, T: 6099192, Avg. loss: 0.073036\n",
            "Total training time: 7.70 seconds.\n",
            "-- Epoch 4\n",
            "Norm: 12.29, NNZs: 101, Bias: -3.154508, T: 8132256, Avg. loss: 0.072955\n",
            "Total training time: 10.63 seconds.\n",
            "-- Epoch 5\n",
            "Norm: 12.24, NNZs: 101, Bias: -3.122379, T: 10165320, Avg. loss: 0.072905\n",
            "Total training time: 13.53 seconds.\n",
            "-- Epoch 6\n",
            "Norm: 12.20, NNZs: 101, Bias: -3.134510, T: 12198384, Avg. loss: 0.072892\n",
            "Total training time: 16.10 seconds.\n",
            "Convergence after 6 epochs took 17.06 seconds\n"
          ],
          "name": "stdout"
        },
        {
          "output_type": "execute_result",
          "data": {
            "text/html": [
              "<style>#sk-f27df060-c52d-4c8e-bfac-9bef3227bbb5 {color: black;background-color: white;}#sk-f27df060-c52d-4c8e-bfac-9bef3227bbb5 pre{padding: 0;}#sk-f27df060-c52d-4c8e-bfac-9bef3227bbb5 div.sk-toggleable {background-color: white;}#sk-f27df060-c52d-4c8e-bfac-9bef3227bbb5 label.sk-toggleable__label {cursor: pointer;display: block;width: 100%;margin-bottom: 0;padding: 0.2em 0.3em;box-sizing: border-box;text-align: center;}#sk-f27df060-c52d-4c8e-bfac-9bef3227bbb5 div.sk-toggleable__content {max-height: 0;max-width: 0;overflow: hidden;text-align: left;background-color: #f0f8ff;}#sk-f27df060-c52d-4c8e-bfac-9bef3227bbb5 div.sk-toggleable__content pre {margin: 0.2em;color: black;border-radius: 0.25em;background-color: #f0f8ff;}#sk-f27df060-c52d-4c8e-bfac-9bef3227bbb5 input.sk-toggleable__control:checked~div.sk-toggleable__content {max-height: 200px;max-width: 100%;overflow: auto;}#sk-f27df060-c52d-4c8e-bfac-9bef3227bbb5 div.sk-estimator input.sk-toggleable__control:checked~label.sk-toggleable__label {background-color: #d4ebff;}#sk-f27df060-c52d-4c8e-bfac-9bef3227bbb5 div.sk-label input.sk-toggleable__control:checked~label.sk-toggleable__label {background-color: #d4ebff;}#sk-f27df060-c52d-4c8e-bfac-9bef3227bbb5 input.sk-hidden--visually {border: 0;clip: rect(1px 1px 1px 1px);clip: rect(1px, 1px, 1px, 1px);height: 1px;margin: -1px;overflow: hidden;padding: 0;position: absolute;width: 1px;}#sk-f27df060-c52d-4c8e-bfac-9bef3227bbb5 div.sk-estimator {font-family: monospace;background-color: #f0f8ff;margin: 0.25em 0.25em;border: 1px dotted black;border-radius: 0.25em;box-sizing: border-box;}#sk-f27df060-c52d-4c8e-bfac-9bef3227bbb5 div.sk-estimator:hover {background-color: #d4ebff;}#sk-f27df060-c52d-4c8e-bfac-9bef3227bbb5 div.sk-parallel-item::after {content: \"\";width: 100%;border-bottom: 1px solid gray;flex-grow: 1;}#sk-f27df060-c52d-4c8e-bfac-9bef3227bbb5 div.sk-label:hover label.sk-toggleable__label {background-color: #d4ebff;}#sk-f27df060-c52d-4c8e-bfac-9bef3227bbb5 div.sk-serial::before {content: \"\";position: absolute;border-left: 1px solid gray;box-sizing: border-box;top: 2em;bottom: 0;left: 50%;}#sk-f27df060-c52d-4c8e-bfac-9bef3227bbb5 div.sk-serial {display: flex;flex-direction: column;align-items: center;background-color: white;}#sk-f27df060-c52d-4c8e-bfac-9bef3227bbb5 div.sk-item {z-index: 1;}#sk-f27df060-c52d-4c8e-bfac-9bef3227bbb5 div.sk-parallel {display: flex;align-items: stretch;justify-content: center;background-color: white;}#sk-f27df060-c52d-4c8e-bfac-9bef3227bbb5 div.sk-parallel-item {display: flex;flex-direction: column;position: relative;background-color: white;}#sk-f27df060-c52d-4c8e-bfac-9bef3227bbb5 div.sk-parallel-item:first-child::after {align-self: flex-end;width: 50%;}#sk-f27df060-c52d-4c8e-bfac-9bef3227bbb5 div.sk-parallel-item:last-child::after {align-self: flex-start;width: 50%;}#sk-f27df060-c52d-4c8e-bfac-9bef3227bbb5 div.sk-parallel-item:only-child::after {width: 0;}#sk-f27df060-c52d-4c8e-bfac-9bef3227bbb5 div.sk-dashed-wrapped {border: 1px dashed gray;margin: 0.2em;box-sizing: border-box;padding-bottom: 0.1em;background-color: white;position: relative;}#sk-f27df060-c52d-4c8e-bfac-9bef3227bbb5 div.sk-label label {font-family: monospace;font-weight: bold;background-color: white;display: inline-block;line-height: 1.2em;}#sk-f27df060-c52d-4c8e-bfac-9bef3227bbb5 div.sk-label-container {position: relative;z-index: 2;text-align: center;}#sk-f27df060-c52d-4c8e-bfac-9bef3227bbb5 div.sk-container {display: inline-block;position: relative;}</style><div id=\"sk-f27df060-c52d-4c8e-bfac-9bef3227bbb5\" class\"sk-top-container\"><div class=\"sk-container\"><div class=\"sk-item sk-dashed-wrapped\"><div class=\"sk-label-container\"><div class=\"sk-label sk-toggleable\"><input class=\"sk-toggleable__control sk-hidden--visually\" id=\"00046319-b1f2-4f53-a6c5-52731319a4b6\" type=\"checkbox\" ><label class=\"sk-toggleable__label\" for=\"00046319-b1f2-4f53-a6c5-52731319a4b6\">Pipeline</label><div class=\"sk-toggleable__content\"><pre>Pipeline(steps=[('preparation',\n",
              "                 ColumnTransformer(transformers=[('num_pipe',\n",
              "                                                  Pipeline(steps=[('num',\n",
              "                                                                   MinMaxScaler()),\n",
              "                                                                  ('nys',\n",
              "                                                                   Nystroem(n_jobs=-1,\n",
              "                                                                            random_state=42))]),\n",
              "                                                  Index(['trip_distance', 'pickup_longitude', 'pickup_latitude',\n",
              "       'dropoff_longitude', 'dropoff_latitude', 'time_of_day', 'ave_speed'],\n",
              "      dtype='object')),\n",
              "                                                 ('cat_pipe',\n",
              "                                                  Pipeline(steps=[('cat',\n",
              "                                                                   OrdinalEncoder())]),\n",
              "                                                  Index(['day_of_week'], dtype='object'))])),\n",
              "                ('model',\n",
              "                 SGDClassifier(early_stopping=True, n_jobs=-1, random_state=42,\n",
              "                               verbose=1))])</pre></div></div></div><div class=\"sk-serial\"><div class=\"sk-item sk-dashed-wrapped\"><div class=\"sk-label-container\"><div class=\"sk-label sk-toggleable\"><input class=\"sk-toggleable__control sk-hidden--visually\" id=\"8de258c8-7893-49c2-8a9a-2b249878db5a\" type=\"checkbox\" ><label class=\"sk-toggleable__label\" for=\"8de258c8-7893-49c2-8a9a-2b249878db5a\">preparation: ColumnTransformer</label><div class=\"sk-toggleable__content\"><pre>ColumnTransformer(transformers=[('num_pipe',\n",
              "                                 Pipeline(steps=[('num', MinMaxScaler()),\n",
              "                                                 ('nys',\n",
              "                                                  Nystroem(n_jobs=-1,\n",
              "                                                           random_state=42))]),\n",
              "                                 Index(['trip_distance', 'pickup_longitude', 'pickup_latitude',\n",
              "       'dropoff_longitude', 'dropoff_latitude', 'time_of_day', 'ave_speed'],\n",
              "      dtype='object')),\n",
              "                                ('cat_pipe',\n",
              "                                 Pipeline(steps=[('cat', OrdinalEncoder())]),\n",
              "                                 Index(['day_of_week'], dtype='object'))])</pre></div></div></div><div class=\"sk-parallel\"><div class=\"sk-parallel-item\"><div class=\"sk-item\"><div class=\"sk-label-container\"><div class=\"sk-label sk-toggleable\"><input class=\"sk-toggleable__control sk-hidden--visually\" id=\"3d9ad0fe-7164-47ad-a700-be01cb5d11bf\" type=\"checkbox\" ><label class=\"sk-toggleable__label\" for=\"3d9ad0fe-7164-47ad-a700-be01cb5d11bf\">num_pipe</label><div class=\"sk-toggleable__content\"><pre>Index(['trip_distance', 'pickup_longitude', 'pickup_latitude',\n",
              "       'dropoff_longitude', 'dropoff_latitude', 'time_of_day', 'ave_speed'],\n",
              "      dtype='object')</pre></div></div></div><div class=\"sk-serial\"><div class=\"sk-item\"><div class=\"sk-serial\"><div class=\"sk-item\"><div class=\"sk-estimator sk-toggleable\"><input class=\"sk-toggleable__control sk-hidden--visually\" id=\"7ff646fc-867d-4f5d-a8a6-d08357164754\" type=\"checkbox\" ><label class=\"sk-toggleable__label\" for=\"7ff646fc-867d-4f5d-a8a6-d08357164754\">MinMaxScaler</label><div class=\"sk-toggleable__content\"><pre>MinMaxScaler()</pre></div></div></div><div class=\"sk-item\"><div class=\"sk-estimator sk-toggleable\"><input class=\"sk-toggleable__control sk-hidden--visually\" id=\"172c213b-21e1-4601-8d09-115043d580bc\" type=\"checkbox\" ><label class=\"sk-toggleable__label\" for=\"172c213b-21e1-4601-8d09-115043d580bc\">Nystroem</label><div class=\"sk-toggleable__content\"><pre>Nystroem(n_jobs=-1, random_state=42)</pre></div></div></div></div></div></div></div></div><div class=\"sk-parallel-item\"><div class=\"sk-item\"><div class=\"sk-label-container\"><div class=\"sk-label sk-toggleable\"><input class=\"sk-toggleable__control sk-hidden--visually\" id=\"70d5701f-60d6-49bb-8b5e-17451d976032\" type=\"checkbox\" ><label class=\"sk-toggleable__label\" for=\"70d5701f-60d6-49bb-8b5e-17451d976032\">cat_pipe</label><div class=\"sk-toggleable__content\"><pre>Index(['day_of_week'], dtype='object')</pre></div></div></div><div class=\"sk-serial\"><div class=\"sk-item\"><div class=\"sk-serial\"><div class=\"sk-item\"><div class=\"sk-estimator sk-toggleable\"><input class=\"sk-toggleable__control sk-hidden--visually\" id=\"5e71b70d-37bf-4681-be67-b708f602e3c4\" type=\"checkbox\" ><label class=\"sk-toggleable__label\" for=\"5e71b70d-37bf-4681-be67-b708f602e3c4\">OrdinalEncoder</label><div class=\"sk-toggleable__content\"><pre>OrdinalEncoder()</pre></div></div></div></div></div></div></div></div></div></div><div class=\"sk-item\"><div class=\"sk-estimator sk-toggleable\"><input class=\"sk-toggleable__control sk-hidden--visually\" id=\"ea155735-310c-4f29-9355-e1155151ca5d\" type=\"checkbox\" ><label class=\"sk-toggleable__label\" for=\"ea155735-310c-4f29-9355-e1155151ca5d\">SGDClassifier</label><div class=\"sk-toggleable__content\"><pre>SGDClassifier(early_stopping=True, n_jobs=-1, random_state=42, verbose=1)</pre></div></div></div></div></div></div></div>"
            ],
            "text/plain": [
              "Pipeline(steps=[('preparation',\n",
              "                 ColumnTransformer(transformers=[('num_pipe',\n",
              "                                                  Pipeline(steps=[('num',\n",
              "                                                                   MinMaxScaler()),\n",
              "                                                                  ('nys',\n",
              "                                                                   Nystroem(n_jobs=-1,\n",
              "                                                                            random_state=42))]),\n",
              "                                                  Index(['trip_distance', 'pickup_longitude', 'pickup_latitude',\n",
              "       'dropoff_longitude', 'dropoff_latitude', 'time_of_day', 'ave_speed'],\n",
              "      dtype='object')),\n",
              "                                                 ('cat_pipe',\n",
              "                                                  Pipeline(steps=[('cat',\n",
              "                                                                   OrdinalEncoder())]),\n",
              "                                                  Index(['day_of_week'], dtype='object'))])),\n",
              "                ('model',\n",
              "                 SGDClassifier(early_stopping=True, n_jobs=-1, random_state=42,\n",
              "                               verbose=1))])"
            ]
          },
          "metadata": {},
          "execution_count": 75
        }
      ]
    },
    {
      "cell_type": "code",
      "metadata": {
        "id": "Z0g8Gki_zhGp"
      },
      "source": [
        "models['sgd'] = sgd"
      ],
      "execution_count": 76,
      "outputs": []
    },
    {
      "cell_type": "markdown",
      "metadata": {
        "id": "WcsIKPg1rBey"
      },
      "source": [
        "## Ensemble Model --> Decision tree"
      ]
    },
    {
      "cell_type": "code",
      "metadata": {
        "id": "KR9_Nwyd5lLN"
      },
      "source": [
        "from sklearn.tree import DecisionTreeClassifier"
      ],
      "execution_count": 77,
      "outputs": []
    },
    {
      "cell_type": "code",
      "metadata": {
        "colab": {
          "base_uri": "https://localhost:8080/",
          "height": 102
        },
        "id": "td6PyP3A5T7n",
        "outputId": "34d16b42-f91a-4a44-e404-90f7e7451ee1"
      },
      "source": [
        "transformer = ColumnTransformer([(\"num\", MinMaxScaler(), numerical_cols),\n",
        "                                 (\"cat\", OrdinalEncoder(), categorical_cols),\n",
        "                                 ])\n",
        "transformer"
      ],
      "execution_count": 78,
      "outputs": [
        {
          "output_type": "execute_result",
          "data": {
            "text/html": [
              "<style>#sk-f8264596-3f39-4a48-91ab-f019c46f1376 {color: black;background-color: white;}#sk-f8264596-3f39-4a48-91ab-f019c46f1376 pre{padding: 0;}#sk-f8264596-3f39-4a48-91ab-f019c46f1376 div.sk-toggleable {background-color: white;}#sk-f8264596-3f39-4a48-91ab-f019c46f1376 label.sk-toggleable__label {cursor: pointer;display: block;width: 100%;margin-bottom: 0;padding: 0.2em 0.3em;box-sizing: border-box;text-align: center;}#sk-f8264596-3f39-4a48-91ab-f019c46f1376 div.sk-toggleable__content {max-height: 0;max-width: 0;overflow: hidden;text-align: left;background-color: #f0f8ff;}#sk-f8264596-3f39-4a48-91ab-f019c46f1376 div.sk-toggleable__content pre {margin: 0.2em;color: black;border-radius: 0.25em;background-color: #f0f8ff;}#sk-f8264596-3f39-4a48-91ab-f019c46f1376 input.sk-toggleable__control:checked~div.sk-toggleable__content {max-height: 200px;max-width: 100%;overflow: auto;}#sk-f8264596-3f39-4a48-91ab-f019c46f1376 div.sk-estimator input.sk-toggleable__control:checked~label.sk-toggleable__label {background-color: #d4ebff;}#sk-f8264596-3f39-4a48-91ab-f019c46f1376 div.sk-label input.sk-toggleable__control:checked~label.sk-toggleable__label {background-color: #d4ebff;}#sk-f8264596-3f39-4a48-91ab-f019c46f1376 input.sk-hidden--visually {border: 0;clip: rect(1px 1px 1px 1px);clip: rect(1px, 1px, 1px, 1px);height: 1px;margin: -1px;overflow: hidden;padding: 0;position: absolute;width: 1px;}#sk-f8264596-3f39-4a48-91ab-f019c46f1376 div.sk-estimator {font-family: monospace;background-color: #f0f8ff;margin: 0.25em 0.25em;border: 1px dotted black;border-radius: 0.25em;box-sizing: border-box;}#sk-f8264596-3f39-4a48-91ab-f019c46f1376 div.sk-estimator:hover {background-color: #d4ebff;}#sk-f8264596-3f39-4a48-91ab-f019c46f1376 div.sk-parallel-item::after {content: \"\";width: 100%;border-bottom: 1px solid gray;flex-grow: 1;}#sk-f8264596-3f39-4a48-91ab-f019c46f1376 div.sk-label:hover label.sk-toggleable__label {background-color: #d4ebff;}#sk-f8264596-3f39-4a48-91ab-f019c46f1376 div.sk-serial::before {content: \"\";position: absolute;border-left: 1px solid gray;box-sizing: border-box;top: 2em;bottom: 0;left: 50%;}#sk-f8264596-3f39-4a48-91ab-f019c46f1376 div.sk-serial {display: flex;flex-direction: column;align-items: center;background-color: white;}#sk-f8264596-3f39-4a48-91ab-f019c46f1376 div.sk-item {z-index: 1;}#sk-f8264596-3f39-4a48-91ab-f019c46f1376 div.sk-parallel {display: flex;align-items: stretch;justify-content: center;background-color: white;}#sk-f8264596-3f39-4a48-91ab-f019c46f1376 div.sk-parallel-item {display: flex;flex-direction: column;position: relative;background-color: white;}#sk-f8264596-3f39-4a48-91ab-f019c46f1376 div.sk-parallel-item:first-child::after {align-self: flex-end;width: 50%;}#sk-f8264596-3f39-4a48-91ab-f019c46f1376 div.sk-parallel-item:last-child::after {align-self: flex-start;width: 50%;}#sk-f8264596-3f39-4a48-91ab-f019c46f1376 div.sk-parallel-item:only-child::after {width: 0;}#sk-f8264596-3f39-4a48-91ab-f019c46f1376 div.sk-dashed-wrapped {border: 1px dashed gray;margin: 0.2em;box-sizing: border-box;padding-bottom: 0.1em;background-color: white;position: relative;}#sk-f8264596-3f39-4a48-91ab-f019c46f1376 div.sk-label label {font-family: monospace;font-weight: bold;background-color: white;display: inline-block;line-height: 1.2em;}#sk-f8264596-3f39-4a48-91ab-f019c46f1376 div.sk-label-container {position: relative;z-index: 2;text-align: center;}#sk-f8264596-3f39-4a48-91ab-f019c46f1376 div.sk-container {display: inline-block;position: relative;}</style><div id=\"sk-f8264596-3f39-4a48-91ab-f019c46f1376\" class\"sk-top-container\"><div class=\"sk-container\"><div class=\"sk-item sk-dashed-wrapped\"><div class=\"sk-label-container\"><div class=\"sk-label sk-toggleable\"><input class=\"sk-toggleable__control sk-hidden--visually\" id=\"2dd907bf-b243-426d-b9f0-e8740c859b60\" type=\"checkbox\" ><label class=\"sk-toggleable__label\" for=\"2dd907bf-b243-426d-b9f0-e8740c859b60\">ColumnTransformer</label><div class=\"sk-toggleable__content\"><pre>ColumnTransformer(transformers=[('num', MinMaxScaler(),\n",
              "                                 Index(['trip_distance', 'pickup_longitude', 'pickup_latitude',\n",
              "       'dropoff_longitude', 'dropoff_latitude', 'time_of_day', 'ave_speed'],\n",
              "      dtype='object')),\n",
              "                                ('cat', OrdinalEncoder(),\n",
              "                                 Index(['day_of_week'], dtype='object'))])</pre></div></div></div><div class=\"sk-parallel\"><div class=\"sk-parallel-item\"><div class=\"sk-item\"><div class=\"sk-label-container\"><div class=\"sk-label sk-toggleable\"><input class=\"sk-toggleable__control sk-hidden--visually\" id=\"69d7d53c-2245-44c5-ab75-5e54fca92d4f\" type=\"checkbox\" ><label class=\"sk-toggleable__label\" for=\"69d7d53c-2245-44c5-ab75-5e54fca92d4f\">num</label><div class=\"sk-toggleable__content\"><pre>Index(['trip_distance', 'pickup_longitude', 'pickup_latitude',\n",
              "       'dropoff_longitude', 'dropoff_latitude', 'time_of_day', 'ave_speed'],\n",
              "      dtype='object')</pre></div></div></div><div class=\"sk-serial\"><div class=\"sk-item\"><div class=\"sk-estimator sk-toggleable\"><input class=\"sk-toggleable__control sk-hidden--visually\" id=\"c58a4971-fc5a-45f0-b3f3-25118b387018\" type=\"checkbox\" ><label class=\"sk-toggleable__label\" for=\"c58a4971-fc5a-45f0-b3f3-25118b387018\">MinMaxScaler</label><div class=\"sk-toggleable__content\"><pre>MinMaxScaler()</pre></div></div></div></div></div></div><div class=\"sk-parallel-item\"><div class=\"sk-item\"><div class=\"sk-label-container\"><div class=\"sk-label sk-toggleable\"><input class=\"sk-toggleable__control sk-hidden--visually\" id=\"742c6f90-5f30-4491-af48-c1063a98510f\" type=\"checkbox\" ><label class=\"sk-toggleable__label\" for=\"742c6f90-5f30-4491-af48-c1063a98510f\">cat</label><div class=\"sk-toggleable__content\"><pre>Index(['day_of_week'], dtype='object')</pre></div></div></div><div class=\"sk-serial\"><div class=\"sk-item\"><div class=\"sk-estimator sk-toggleable\"><input class=\"sk-toggleable__control sk-hidden--visually\" id=\"64743dde-b873-49d4-bc89-90087694ef51\" type=\"checkbox\" ><label class=\"sk-toggleable__label\" for=\"64743dde-b873-49d4-bc89-90087694ef51\">OrdinalEncoder</label><div class=\"sk-toggleable__content\"><pre>OrdinalEncoder()</pre></div></div></div></div></div></div></div></div></div></div>"
            ],
            "text/plain": [
              "ColumnTransformer(transformers=[('num', MinMaxScaler(),\n",
              "                                 Index(['trip_distance', 'pickup_longitude', 'pickup_latitude',\n",
              "       'dropoff_longitude', 'dropoff_latitude', 'time_of_day', 'ave_speed'],\n",
              "      dtype='object')),\n",
              "                                ('cat', OrdinalEncoder(),\n",
              "                                 Index(['day_of_week'], dtype='object'))])"
            ]
          },
          "metadata": {},
          "execution_count": 78
        }
      ]
    },
    {
      "cell_type": "code",
      "metadata": {
        "colab": {
          "base_uri": "https://localhost:8080/",
          "height": 165
        },
        "id": "5VxtUDG65T73",
        "outputId": "04bef175-a633-41a5-e5ca-12121b5fd450"
      },
      "source": [
        "dt = DecisionTreeClassifier(random_state=42, )\n",
        "dt = Pipeline([('preparation', transformer), \n",
        "                     ('model', dt)\n",
        "                     ])\n",
        "\n",
        "dt.fit(X_train, y_train.values.ravel())"
      ],
      "execution_count": 79,
      "outputs": [
        {
          "output_type": "execute_result",
          "data": {
            "text/html": [
              "<style>#sk-013b7441-27fa-45c1-9881-7e622b2e4c50 {color: black;background-color: white;}#sk-013b7441-27fa-45c1-9881-7e622b2e4c50 pre{padding: 0;}#sk-013b7441-27fa-45c1-9881-7e622b2e4c50 div.sk-toggleable {background-color: white;}#sk-013b7441-27fa-45c1-9881-7e622b2e4c50 label.sk-toggleable__label {cursor: pointer;display: block;width: 100%;margin-bottom: 0;padding: 0.2em 0.3em;box-sizing: border-box;text-align: center;}#sk-013b7441-27fa-45c1-9881-7e622b2e4c50 div.sk-toggleable__content {max-height: 0;max-width: 0;overflow: hidden;text-align: left;background-color: #f0f8ff;}#sk-013b7441-27fa-45c1-9881-7e622b2e4c50 div.sk-toggleable__content pre {margin: 0.2em;color: black;border-radius: 0.25em;background-color: #f0f8ff;}#sk-013b7441-27fa-45c1-9881-7e622b2e4c50 input.sk-toggleable__control:checked~div.sk-toggleable__content {max-height: 200px;max-width: 100%;overflow: auto;}#sk-013b7441-27fa-45c1-9881-7e622b2e4c50 div.sk-estimator input.sk-toggleable__control:checked~label.sk-toggleable__label {background-color: #d4ebff;}#sk-013b7441-27fa-45c1-9881-7e622b2e4c50 div.sk-label input.sk-toggleable__control:checked~label.sk-toggleable__label {background-color: #d4ebff;}#sk-013b7441-27fa-45c1-9881-7e622b2e4c50 input.sk-hidden--visually {border: 0;clip: rect(1px 1px 1px 1px);clip: rect(1px, 1px, 1px, 1px);height: 1px;margin: -1px;overflow: hidden;padding: 0;position: absolute;width: 1px;}#sk-013b7441-27fa-45c1-9881-7e622b2e4c50 div.sk-estimator {font-family: monospace;background-color: #f0f8ff;margin: 0.25em 0.25em;border: 1px dotted black;border-radius: 0.25em;box-sizing: border-box;}#sk-013b7441-27fa-45c1-9881-7e622b2e4c50 div.sk-estimator:hover {background-color: #d4ebff;}#sk-013b7441-27fa-45c1-9881-7e622b2e4c50 div.sk-parallel-item::after {content: \"\";width: 100%;border-bottom: 1px solid gray;flex-grow: 1;}#sk-013b7441-27fa-45c1-9881-7e622b2e4c50 div.sk-label:hover label.sk-toggleable__label {background-color: #d4ebff;}#sk-013b7441-27fa-45c1-9881-7e622b2e4c50 div.sk-serial::before {content: \"\";position: absolute;border-left: 1px solid gray;box-sizing: border-box;top: 2em;bottom: 0;left: 50%;}#sk-013b7441-27fa-45c1-9881-7e622b2e4c50 div.sk-serial {display: flex;flex-direction: column;align-items: center;background-color: white;}#sk-013b7441-27fa-45c1-9881-7e622b2e4c50 div.sk-item {z-index: 1;}#sk-013b7441-27fa-45c1-9881-7e622b2e4c50 div.sk-parallel {display: flex;align-items: stretch;justify-content: center;background-color: white;}#sk-013b7441-27fa-45c1-9881-7e622b2e4c50 div.sk-parallel-item {display: flex;flex-direction: column;position: relative;background-color: white;}#sk-013b7441-27fa-45c1-9881-7e622b2e4c50 div.sk-parallel-item:first-child::after {align-self: flex-end;width: 50%;}#sk-013b7441-27fa-45c1-9881-7e622b2e4c50 div.sk-parallel-item:last-child::after {align-self: flex-start;width: 50%;}#sk-013b7441-27fa-45c1-9881-7e622b2e4c50 div.sk-parallel-item:only-child::after {width: 0;}#sk-013b7441-27fa-45c1-9881-7e622b2e4c50 div.sk-dashed-wrapped {border: 1px dashed gray;margin: 0.2em;box-sizing: border-box;padding-bottom: 0.1em;background-color: white;position: relative;}#sk-013b7441-27fa-45c1-9881-7e622b2e4c50 div.sk-label label {font-family: monospace;font-weight: bold;background-color: white;display: inline-block;line-height: 1.2em;}#sk-013b7441-27fa-45c1-9881-7e622b2e4c50 div.sk-label-container {position: relative;z-index: 2;text-align: center;}#sk-013b7441-27fa-45c1-9881-7e622b2e4c50 div.sk-container {display: inline-block;position: relative;}</style><div id=\"sk-013b7441-27fa-45c1-9881-7e622b2e4c50\" class\"sk-top-container\"><div class=\"sk-container\"><div class=\"sk-item sk-dashed-wrapped\"><div class=\"sk-label-container\"><div class=\"sk-label sk-toggleable\"><input class=\"sk-toggleable__control sk-hidden--visually\" id=\"47cf6356-8476-42c7-ba26-00481a15b5a6\" type=\"checkbox\" ><label class=\"sk-toggleable__label\" for=\"47cf6356-8476-42c7-ba26-00481a15b5a6\">Pipeline</label><div class=\"sk-toggleable__content\"><pre>Pipeline(steps=[('preparation',\n",
              "                 ColumnTransformer(transformers=[('num', MinMaxScaler(),\n",
              "                                                  Index(['trip_distance', 'pickup_longitude', 'pickup_latitude',\n",
              "       'dropoff_longitude', 'dropoff_latitude', 'time_of_day', 'ave_speed'],\n",
              "      dtype='object')),\n",
              "                                                 ('cat', OrdinalEncoder(),\n",
              "                                                  Index(['day_of_week'], dtype='object'))])),\n",
              "                ('model', DecisionTreeClassifier(random_state=42))])</pre></div></div></div><div class=\"sk-serial\"><div class=\"sk-item sk-dashed-wrapped\"><div class=\"sk-label-container\"><div class=\"sk-label sk-toggleable\"><input class=\"sk-toggleable__control sk-hidden--visually\" id=\"2f7a60c2-a894-42a0-82a0-165553610e6e\" type=\"checkbox\" ><label class=\"sk-toggleable__label\" for=\"2f7a60c2-a894-42a0-82a0-165553610e6e\">preparation: ColumnTransformer</label><div class=\"sk-toggleable__content\"><pre>ColumnTransformer(transformers=[('num', MinMaxScaler(),\n",
              "                                 Index(['trip_distance', 'pickup_longitude', 'pickup_latitude',\n",
              "       'dropoff_longitude', 'dropoff_latitude', 'time_of_day', 'ave_speed'],\n",
              "      dtype='object')),\n",
              "                                ('cat', OrdinalEncoder(),\n",
              "                                 Index(['day_of_week'], dtype='object'))])</pre></div></div></div><div class=\"sk-parallel\"><div class=\"sk-parallel-item\"><div class=\"sk-item\"><div class=\"sk-label-container\"><div class=\"sk-label sk-toggleable\"><input class=\"sk-toggleable__control sk-hidden--visually\" id=\"04b5e28f-c46f-49e4-9d7f-460855a231e7\" type=\"checkbox\" ><label class=\"sk-toggleable__label\" for=\"04b5e28f-c46f-49e4-9d7f-460855a231e7\">num</label><div class=\"sk-toggleable__content\"><pre>Index(['trip_distance', 'pickup_longitude', 'pickup_latitude',\n",
              "       'dropoff_longitude', 'dropoff_latitude', 'time_of_day', 'ave_speed'],\n",
              "      dtype='object')</pre></div></div></div><div class=\"sk-serial\"><div class=\"sk-item\"><div class=\"sk-estimator sk-toggleable\"><input class=\"sk-toggleable__control sk-hidden--visually\" id=\"79d96af7-3200-4040-b505-a26aa63c19ae\" type=\"checkbox\" ><label class=\"sk-toggleable__label\" for=\"79d96af7-3200-4040-b505-a26aa63c19ae\">MinMaxScaler</label><div class=\"sk-toggleable__content\"><pre>MinMaxScaler()</pre></div></div></div></div></div></div><div class=\"sk-parallel-item\"><div class=\"sk-item\"><div class=\"sk-label-container\"><div class=\"sk-label sk-toggleable\"><input class=\"sk-toggleable__control sk-hidden--visually\" id=\"33757bf8-9b52-48b1-a66a-2f7c9bee6c59\" type=\"checkbox\" ><label class=\"sk-toggleable__label\" for=\"33757bf8-9b52-48b1-a66a-2f7c9bee6c59\">cat</label><div class=\"sk-toggleable__content\"><pre>Index(['day_of_week'], dtype='object')</pre></div></div></div><div class=\"sk-serial\"><div class=\"sk-item\"><div class=\"sk-estimator sk-toggleable\"><input class=\"sk-toggleable__control sk-hidden--visually\" id=\"ed651898-5a01-4ed1-a1b6-7382e03de2be\" type=\"checkbox\" ><label class=\"sk-toggleable__label\" for=\"ed651898-5a01-4ed1-a1b6-7382e03de2be\">OrdinalEncoder</label><div class=\"sk-toggleable__content\"><pre>OrdinalEncoder()</pre></div></div></div></div></div></div></div></div><div class=\"sk-item\"><div class=\"sk-estimator sk-toggleable\"><input class=\"sk-toggleable__control sk-hidden--visually\" id=\"adfe5ca8-16e6-4121-bae5-e65396c8cf72\" type=\"checkbox\" ><label class=\"sk-toggleable__label\" for=\"adfe5ca8-16e6-4121-bae5-e65396c8cf72\">DecisionTreeClassifier</label><div class=\"sk-toggleable__content\"><pre>DecisionTreeClassifier(random_state=42)</pre></div></div></div></div></div></div></div>"
            ],
            "text/plain": [
              "Pipeline(steps=[('preparation',\n",
              "                 ColumnTransformer(transformers=[('num', MinMaxScaler(),\n",
              "                                                  Index(['trip_distance', 'pickup_longitude', 'pickup_latitude',\n",
              "       'dropoff_longitude', 'dropoff_latitude', 'time_of_day', 'ave_speed'],\n",
              "      dtype='object')),\n",
              "                                                 ('cat', OrdinalEncoder(),\n",
              "                                                  Index(['day_of_week'], dtype='object'))])),\n",
              "                ('model', DecisionTreeClassifier(random_state=42))])"
            ]
          },
          "metadata": {},
          "execution_count": 79
        }
      ]
    },
    {
      "cell_type": "code",
      "metadata": {
        "id": "gL8PQx915T77"
      },
      "source": [
        "models['dtree'] = dt"
      ],
      "execution_count": 81,
      "outputs": []
    },
    {
      "cell_type": "markdown",
      "metadata": {
        "id": "EWN3pbewf6oh"
      },
      "source": [
        "## Random Forest Classifier"
      ]
    },
    {
      "cell_type": "code",
      "metadata": {
        "id": "vSC04nLHgCkh"
      },
      "source": [
        "from sklearn.ensemble import RandomForestClassifier, ExtraTreesClassifier, BaggingClassifier"
      ],
      "execution_count": 82,
      "outputs": []
    },
    {
      "cell_type": "code",
      "metadata": {
        "colab": {
          "base_uri": "https://localhost:8080/",
          "height": 220
        },
        "id": "0y4jJZR5gATm",
        "outputId": "3d4f70e8-be63-43c3-f0b5-70bba5a240db"
      },
      "source": [
        "rfc = RandomForestClassifier(random_state=42, n_estimators=100, verbose=1, n_jobs=-1)\n",
        "rfc = Pipeline([('preparation', transformer), \n",
        "                     ('model', rfc)\n",
        "                     ])\n",
        "\n",
        "rfc.fit(X_train, y_train.values.ravel())"
      ],
      "execution_count": 83,
      "outputs": [
        {
          "output_type": "stream",
          "text": [
            "[Parallel(n_jobs=-1)]: Using backend ThreadingBackend with 2 concurrent workers.\n",
            "[Parallel(n_jobs=-1)]: Done  46 tasks      | elapsed: 10.7min\n",
            "[Parallel(n_jobs=-1)]: Done 100 out of 100 | elapsed: 22.0min finished\n"
          ],
          "name": "stderr"
        },
        {
          "output_type": "execute_result",
          "data": {
            "text/html": [
              "<style>#sk-150fe344-6074-4a54-926d-64df5ad97f81 {color: black;background-color: white;}#sk-150fe344-6074-4a54-926d-64df5ad97f81 pre{padding: 0;}#sk-150fe344-6074-4a54-926d-64df5ad97f81 div.sk-toggleable {background-color: white;}#sk-150fe344-6074-4a54-926d-64df5ad97f81 label.sk-toggleable__label {cursor: pointer;display: block;width: 100%;margin-bottom: 0;padding: 0.2em 0.3em;box-sizing: border-box;text-align: center;}#sk-150fe344-6074-4a54-926d-64df5ad97f81 div.sk-toggleable__content {max-height: 0;max-width: 0;overflow: hidden;text-align: left;background-color: #f0f8ff;}#sk-150fe344-6074-4a54-926d-64df5ad97f81 div.sk-toggleable__content pre {margin: 0.2em;color: black;border-radius: 0.25em;background-color: #f0f8ff;}#sk-150fe344-6074-4a54-926d-64df5ad97f81 input.sk-toggleable__control:checked~div.sk-toggleable__content {max-height: 200px;max-width: 100%;overflow: auto;}#sk-150fe344-6074-4a54-926d-64df5ad97f81 div.sk-estimator input.sk-toggleable__control:checked~label.sk-toggleable__label {background-color: #d4ebff;}#sk-150fe344-6074-4a54-926d-64df5ad97f81 div.sk-label input.sk-toggleable__control:checked~label.sk-toggleable__label {background-color: #d4ebff;}#sk-150fe344-6074-4a54-926d-64df5ad97f81 input.sk-hidden--visually {border: 0;clip: rect(1px 1px 1px 1px);clip: rect(1px, 1px, 1px, 1px);height: 1px;margin: -1px;overflow: hidden;padding: 0;position: absolute;width: 1px;}#sk-150fe344-6074-4a54-926d-64df5ad97f81 div.sk-estimator {font-family: monospace;background-color: #f0f8ff;margin: 0.25em 0.25em;border: 1px dotted black;border-radius: 0.25em;box-sizing: border-box;}#sk-150fe344-6074-4a54-926d-64df5ad97f81 div.sk-estimator:hover {background-color: #d4ebff;}#sk-150fe344-6074-4a54-926d-64df5ad97f81 div.sk-parallel-item::after {content: \"\";width: 100%;border-bottom: 1px solid gray;flex-grow: 1;}#sk-150fe344-6074-4a54-926d-64df5ad97f81 div.sk-label:hover label.sk-toggleable__label {background-color: #d4ebff;}#sk-150fe344-6074-4a54-926d-64df5ad97f81 div.sk-serial::before {content: \"\";position: absolute;border-left: 1px solid gray;box-sizing: border-box;top: 2em;bottom: 0;left: 50%;}#sk-150fe344-6074-4a54-926d-64df5ad97f81 div.sk-serial {display: flex;flex-direction: column;align-items: center;background-color: white;}#sk-150fe344-6074-4a54-926d-64df5ad97f81 div.sk-item {z-index: 1;}#sk-150fe344-6074-4a54-926d-64df5ad97f81 div.sk-parallel {display: flex;align-items: stretch;justify-content: center;background-color: white;}#sk-150fe344-6074-4a54-926d-64df5ad97f81 div.sk-parallel-item {display: flex;flex-direction: column;position: relative;background-color: white;}#sk-150fe344-6074-4a54-926d-64df5ad97f81 div.sk-parallel-item:first-child::after {align-self: flex-end;width: 50%;}#sk-150fe344-6074-4a54-926d-64df5ad97f81 div.sk-parallel-item:last-child::after {align-self: flex-start;width: 50%;}#sk-150fe344-6074-4a54-926d-64df5ad97f81 div.sk-parallel-item:only-child::after {width: 0;}#sk-150fe344-6074-4a54-926d-64df5ad97f81 div.sk-dashed-wrapped {border: 1px dashed gray;margin: 0.2em;box-sizing: border-box;padding-bottom: 0.1em;background-color: white;position: relative;}#sk-150fe344-6074-4a54-926d-64df5ad97f81 div.sk-label label {font-family: monospace;font-weight: bold;background-color: white;display: inline-block;line-height: 1.2em;}#sk-150fe344-6074-4a54-926d-64df5ad97f81 div.sk-label-container {position: relative;z-index: 2;text-align: center;}#sk-150fe344-6074-4a54-926d-64df5ad97f81 div.sk-container {display: inline-block;position: relative;}</style><div id=\"sk-150fe344-6074-4a54-926d-64df5ad97f81\" class\"sk-top-container\"><div class=\"sk-container\"><div class=\"sk-item sk-dashed-wrapped\"><div class=\"sk-label-container\"><div class=\"sk-label sk-toggleable\"><input class=\"sk-toggleable__control sk-hidden--visually\" id=\"cfb7e2ef-1e18-4f3f-9e97-9497c7afc638\" type=\"checkbox\" ><label class=\"sk-toggleable__label\" for=\"cfb7e2ef-1e18-4f3f-9e97-9497c7afc638\">Pipeline</label><div class=\"sk-toggleable__content\"><pre>Pipeline(steps=[('preparation',\n",
              "                 ColumnTransformer(transformers=[('num', MinMaxScaler(),\n",
              "                                                  Index(['trip_distance', 'pickup_longitude', 'pickup_latitude',\n",
              "       'dropoff_longitude', 'dropoff_latitude', 'time_of_day', 'ave_speed'],\n",
              "      dtype='object')),\n",
              "                                                 ('cat', OrdinalEncoder(),\n",
              "                                                  Index(['day_of_week'], dtype='object'))])),\n",
              "                ('model',\n",
              "                 RandomForestClassifier(n_jobs=-1, random_state=42,\n",
              "                                        verbose=1))])</pre></div></div></div><div class=\"sk-serial\"><div class=\"sk-item sk-dashed-wrapped\"><div class=\"sk-label-container\"><div class=\"sk-label sk-toggleable\"><input class=\"sk-toggleable__control sk-hidden--visually\" id=\"c1a34b4b-31fc-449c-8855-af7381ba76e9\" type=\"checkbox\" ><label class=\"sk-toggleable__label\" for=\"c1a34b4b-31fc-449c-8855-af7381ba76e9\">preparation: ColumnTransformer</label><div class=\"sk-toggleable__content\"><pre>ColumnTransformer(transformers=[('num', MinMaxScaler(),\n",
              "                                 Index(['trip_distance', 'pickup_longitude', 'pickup_latitude',\n",
              "       'dropoff_longitude', 'dropoff_latitude', 'time_of_day', 'ave_speed'],\n",
              "      dtype='object')),\n",
              "                                ('cat', OrdinalEncoder(),\n",
              "                                 Index(['day_of_week'], dtype='object'))])</pre></div></div></div><div class=\"sk-parallel\"><div class=\"sk-parallel-item\"><div class=\"sk-item\"><div class=\"sk-label-container\"><div class=\"sk-label sk-toggleable\"><input class=\"sk-toggleable__control sk-hidden--visually\" id=\"4af2e0a1-a2fd-4f0d-98d1-a039d85c7e13\" type=\"checkbox\" ><label class=\"sk-toggleable__label\" for=\"4af2e0a1-a2fd-4f0d-98d1-a039d85c7e13\">num</label><div class=\"sk-toggleable__content\"><pre>Index(['trip_distance', 'pickup_longitude', 'pickup_latitude',\n",
              "       'dropoff_longitude', 'dropoff_latitude', 'time_of_day', 'ave_speed'],\n",
              "      dtype='object')</pre></div></div></div><div class=\"sk-serial\"><div class=\"sk-item\"><div class=\"sk-estimator sk-toggleable\"><input class=\"sk-toggleable__control sk-hidden--visually\" id=\"c7291d2a-833b-407a-ac94-ce18af2bcce5\" type=\"checkbox\" ><label class=\"sk-toggleable__label\" for=\"c7291d2a-833b-407a-ac94-ce18af2bcce5\">MinMaxScaler</label><div class=\"sk-toggleable__content\"><pre>MinMaxScaler()</pre></div></div></div></div></div></div><div class=\"sk-parallel-item\"><div class=\"sk-item\"><div class=\"sk-label-container\"><div class=\"sk-label sk-toggleable\"><input class=\"sk-toggleable__control sk-hidden--visually\" id=\"b9fc92d0-acca-4913-841d-ff9d5f73077a\" type=\"checkbox\" ><label class=\"sk-toggleable__label\" for=\"b9fc92d0-acca-4913-841d-ff9d5f73077a\">cat</label><div class=\"sk-toggleable__content\"><pre>Index(['day_of_week'], dtype='object')</pre></div></div></div><div class=\"sk-serial\"><div class=\"sk-item\"><div class=\"sk-estimator sk-toggleable\"><input class=\"sk-toggleable__control sk-hidden--visually\" id=\"fcfbeca7-1b77-4a30-8eca-81f2ce7543b3\" type=\"checkbox\" ><label class=\"sk-toggleable__label\" for=\"fcfbeca7-1b77-4a30-8eca-81f2ce7543b3\">OrdinalEncoder</label><div class=\"sk-toggleable__content\"><pre>OrdinalEncoder()</pre></div></div></div></div></div></div></div></div><div class=\"sk-item\"><div class=\"sk-estimator sk-toggleable\"><input class=\"sk-toggleable__control sk-hidden--visually\" id=\"a199e22a-64cd-472b-a088-2efdf743dbf3\" type=\"checkbox\" ><label class=\"sk-toggleable__label\" for=\"a199e22a-64cd-472b-a088-2efdf743dbf3\">RandomForestClassifier</label><div class=\"sk-toggleable__content\"><pre>RandomForestClassifier(n_jobs=-1, random_state=42, verbose=1)</pre></div></div></div></div></div></div></div>"
            ],
            "text/plain": [
              "Pipeline(steps=[('preparation',\n",
              "                 ColumnTransformer(transformers=[('num', MinMaxScaler(),\n",
              "                                                  Index(['trip_distance', 'pickup_longitude', 'pickup_latitude',\n",
              "       'dropoff_longitude', 'dropoff_latitude', 'time_of_day', 'ave_speed'],\n",
              "      dtype='object')),\n",
              "                                                 ('cat', OrdinalEncoder(),\n",
              "                                                  Index(['day_of_week'], dtype='object'))])),\n",
              "                ('model',\n",
              "                 RandomForestClassifier(n_jobs=-1, random_state=42,\n",
              "                                        verbose=1))])"
            ]
          },
          "metadata": {},
          "execution_count": 83
        }
      ]
    },
    {
      "cell_type": "code",
      "metadata": {
        "id": "GwgFfe0sgATv"
      },
      "source": [
        "models['rfc'] = rfc"
      ],
      "execution_count": 84,
      "outputs": []
    },
    {
      "cell_type": "markdown",
      "metadata": {
        "id": "wusNNC2olrjC"
      },
      "source": [
        "## Extra Trees Classifier"
      ]
    },
    {
      "cell_type": "code",
      "metadata": {
        "colab": {
          "base_uri": "https://localhost:8080/",
          "height": 220
        },
        "id": "arQYR9Ohlp3t",
        "outputId": "879786ef-c1b8-4968-b662-6b4eaee9bb24"
      },
      "source": [
        "etc = ExtraTreesClassifier(random_state=42, n_estimators=100, verbose=1, n_jobs=-1, )\n",
        "etc = Pipeline([('preparation', transformer), \n",
        "                     ('model', etc)\n",
        "                     ])\n",
        "\n",
        "etc.fit(X_train, y_train.values.ravel())"
      ],
      "execution_count": 85,
      "outputs": [
        {
          "output_type": "stream",
          "text": [
            "[Parallel(n_jobs=-1)]: Using backend ThreadingBackend with 2 concurrent workers.\n",
            "[Parallel(n_jobs=-1)]: Done  46 tasks      | elapsed:  1.8min\n",
            "[Parallel(n_jobs=-1)]: Done 100 out of 100 | elapsed:  3.8min finished\n"
          ],
          "name": "stderr"
        },
        {
          "output_type": "execute_result",
          "data": {
            "text/html": [
              "<style>#sk-a9c91fd2-7315-4c87-80f4-3fc4fb4e7f68 {color: black;background-color: white;}#sk-a9c91fd2-7315-4c87-80f4-3fc4fb4e7f68 pre{padding: 0;}#sk-a9c91fd2-7315-4c87-80f4-3fc4fb4e7f68 div.sk-toggleable {background-color: white;}#sk-a9c91fd2-7315-4c87-80f4-3fc4fb4e7f68 label.sk-toggleable__label {cursor: pointer;display: block;width: 100%;margin-bottom: 0;padding: 0.2em 0.3em;box-sizing: border-box;text-align: center;}#sk-a9c91fd2-7315-4c87-80f4-3fc4fb4e7f68 div.sk-toggleable__content {max-height: 0;max-width: 0;overflow: hidden;text-align: left;background-color: #f0f8ff;}#sk-a9c91fd2-7315-4c87-80f4-3fc4fb4e7f68 div.sk-toggleable__content pre {margin: 0.2em;color: black;border-radius: 0.25em;background-color: #f0f8ff;}#sk-a9c91fd2-7315-4c87-80f4-3fc4fb4e7f68 input.sk-toggleable__control:checked~div.sk-toggleable__content {max-height: 200px;max-width: 100%;overflow: auto;}#sk-a9c91fd2-7315-4c87-80f4-3fc4fb4e7f68 div.sk-estimator input.sk-toggleable__control:checked~label.sk-toggleable__label {background-color: #d4ebff;}#sk-a9c91fd2-7315-4c87-80f4-3fc4fb4e7f68 div.sk-label input.sk-toggleable__control:checked~label.sk-toggleable__label {background-color: #d4ebff;}#sk-a9c91fd2-7315-4c87-80f4-3fc4fb4e7f68 input.sk-hidden--visually {border: 0;clip: rect(1px 1px 1px 1px);clip: rect(1px, 1px, 1px, 1px);height: 1px;margin: -1px;overflow: hidden;padding: 0;position: absolute;width: 1px;}#sk-a9c91fd2-7315-4c87-80f4-3fc4fb4e7f68 div.sk-estimator {font-family: monospace;background-color: #f0f8ff;margin: 0.25em 0.25em;border: 1px dotted black;border-radius: 0.25em;box-sizing: border-box;}#sk-a9c91fd2-7315-4c87-80f4-3fc4fb4e7f68 div.sk-estimator:hover {background-color: #d4ebff;}#sk-a9c91fd2-7315-4c87-80f4-3fc4fb4e7f68 div.sk-parallel-item::after {content: \"\";width: 100%;border-bottom: 1px solid gray;flex-grow: 1;}#sk-a9c91fd2-7315-4c87-80f4-3fc4fb4e7f68 div.sk-label:hover label.sk-toggleable__label {background-color: #d4ebff;}#sk-a9c91fd2-7315-4c87-80f4-3fc4fb4e7f68 div.sk-serial::before {content: \"\";position: absolute;border-left: 1px solid gray;box-sizing: border-box;top: 2em;bottom: 0;left: 50%;}#sk-a9c91fd2-7315-4c87-80f4-3fc4fb4e7f68 div.sk-serial {display: flex;flex-direction: column;align-items: center;background-color: white;}#sk-a9c91fd2-7315-4c87-80f4-3fc4fb4e7f68 div.sk-item {z-index: 1;}#sk-a9c91fd2-7315-4c87-80f4-3fc4fb4e7f68 div.sk-parallel {display: flex;align-items: stretch;justify-content: center;background-color: white;}#sk-a9c91fd2-7315-4c87-80f4-3fc4fb4e7f68 div.sk-parallel-item {display: flex;flex-direction: column;position: relative;background-color: white;}#sk-a9c91fd2-7315-4c87-80f4-3fc4fb4e7f68 div.sk-parallel-item:first-child::after {align-self: flex-end;width: 50%;}#sk-a9c91fd2-7315-4c87-80f4-3fc4fb4e7f68 div.sk-parallel-item:last-child::after {align-self: flex-start;width: 50%;}#sk-a9c91fd2-7315-4c87-80f4-3fc4fb4e7f68 div.sk-parallel-item:only-child::after {width: 0;}#sk-a9c91fd2-7315-4c87-80f4-3fc4fb4e7f68 div.sk-dashed-wrapped {border: 1px dashed gray;margin: 0.2em;box-sizing: border-box;padding-bottom: 0.1em;background-color: white;position: relative;}#sk-a9c91fd2-7315-4c87-80f4-3fc4fb4e7f68 div.sk-label label {font-family: monospace;font-weight: bold;background-color: white;display: inline-block;line-height: 1.2em;}#sk-a9c91fd2-7315-4c87-80f4-3fc4fb4e7f68 div.sk-label-container {position: relative;z-index: 2;text-align: center;}#sk-a9c91fd2-7315-4c87-80f4-3fc4fb4e7f68 div.sk-container {display: inline-block;position: relative;}</style><div id=\"sk-a9c91fd2-7315-4c87-80f4-3fc4fb4e7f68\" class\"sk-top-container\"><div class=\"sk-container\"><div class=\"sk-item sk-dashed-wrapped\"><div class=\"sk-label-container\"><div class=\"sk-label sk-toggleable\"><input class=\"sk-toggleable__control sk-hidden--visually\" id=\"a6fda9e7-c566-45ad-8c4c-648ecc01c511\" type=\"checkbox\" ><label class=\"sk-toggleable__label\" for=\"a6fda9e7-c566-45ad-8c4c-648ecc01c511\">Pipeline</label><div class=\"sk-toggleable__content\"><pre>Pipeline(steps=[('preparation',\n",
              "                 ColumnTransformer(transformers=[('num', MinMaxScaler(),\n",
              "                                                  Index(['trip_distance', 'pickup_longitude', 'pickup_latitude',\n",
              "       'dropoff_longitude', 'dropoff_latitude', 'time_of_day', 'ave_speed'],\n",
              "      dtype='object')),\n",
              "                                                 ('cat', OrdinalEncoder(),\n",
              "                                                  Index(['day_of_week'], dtype='object'))])),\n",
              "                ('model',\n",
              "                 ExtraTreesClassifier(n_jobs=-1, random_state=42, verbose=1))])</pre></div></div></div><div class=\"sk-serial\"><div class=\"sk-item sk-dashed-wrapped\"><div class=\"sk-label-container\"><div class=\"sk-label sk-toggleable\"><input class=\"sk-toggleable__control sk-hidden--visually\" id=\"95ca9537-2c6b-4b20-bdcc-ebb16ab5915e\" type=\"checkbox\" ><label class=\"sk-toggleable__label\" for=\"95ca9537-2c6b-4b20-bdcc-ebb16ab5915e\">preparation: ColumnTransformer</label><div class=\"sk-toggleable__content\"><pre>ColumnTransformer(transformers=[('num', MinMaxScaler(),\n",
              "                                 Index(['trip_distance', 'pickup_longitude', 'pickup_latitude',\n",
              "       'dropoff_longitude', 'dropoff_latitude', 'time_of_day', 'ave_speed'],\n",
              "      dtype='object')),\n",
              "                                ('cat', OrdinalEncoder(),\n",
              "                                 Index(['day_of_week'], dtype='object'))])</pre></div></div></div><div class=\"sk-parallel\"><div class=\"sk-parallel-item\"><div class=\"sk-item\"><div class=\"sk-label-container\"><div class=\"sk-label sk-toggleable\"><input class=\"sk-toggleable__control sk-hidden--visually\" id=\"3a162346-d616-4b33-a925-2b20ce9cdbeb\" type=\"checkbox\" ><label class=\"sk-toggleable__label\" for=\"3a162346-d616-4b33-a925-2b20ce9cdbeb\">num</label><div class=\"sk-toggleable__content\"><pre>Index(['trip_distance', 'pickup_longitude', 'pickup_latitude',\n",
              "       'dropoff_longitude', 'dropoff_latitude', 'time_of_day', 'ave_speed'],\n",
              "      dtype='object')</pre></div></div></div><div class=\"sk-serial\"><div class=\"sk-item\"><div class=\"sk-estimator sk-toggleable\"><input class=\"sk-toggleable__control sk-hidden--visually\" id=\"d480b7e1-03bc-4d03-aa1b-21ecea1a1d1b\" type=\"checkbox\" ><label class=\"sk-toggleable__label\" for=\"d480b7e1-03bc-4d03-aa1b-21ecea1a1d1b\">MinMaxScaler</label><div class=\"sk-toggleable__content\"><pre>MinMaxScaler()</pre></div></div></div></div></div></div><div class=\"sk-parallel-item\"><div class=\"sk-item\"><div class=\"sk-label-container\"><div class=\"sk-label sk-toggleable\"><input class=\"sk-toggleable__control sk-hidden--visually\" id=\"7d300a32-d85b-4d14-85c9-2c0b3e2a9dfb\" type=\"checkbox\" ><label class=\"sk-toggleable__label\" for=\"7d300a32-d85b-4d14-85c9-2c0b3e2a9dfb\">cat</label><div class=\"sk-toggleable__content\"><pre>Index(['day_of_week'], dtype='object')</pre></div></div></div><div class=\"sk-serial\"><div class=\"sk-item\"><div class=\"sk-estimator sk-toggleable\"><input class=\"sk-toggleable__control sk-hidden--visually\" id=\"32fa980d-54b8-41bf-b87f-11ef7c5f6f0d\" type=\"checkbox\" ><label class=\"sk-toggleable__label\" for=\"32fa980d-54b8-41bf-b87f-11ef7c5f6f0d\">OrdinalEncoder</label><div class=\"sk-toggleable__content\"><pre>OrdinalEncoder()</pre></div></div></div></div></div></div></div></div><div class=\"sk-item\"><div class=\"sk-estimator sk-toggleable\"><input class=\"sk-toggleable__control sk-hidden--visually\" id=\"f77da710-2bf8-4a9a-8cec-0b761dee1cef\" type=\"checkbox\" ><label class=\"sk-toggleable__label\" for=\"f77da710-2bf8-4a9a-8cec-0b761dee1cef\">ExtraTreesClassifier</label><div class=\"sk-toggleable__content\"><pre>ExtraTreesClassifier(n_jobs=-1, random_state=42, verbose=1)</pre></div></div></div></div></div></div></div>"
            ],
            "text/plain": [
              "Pipeline(steps=[('preparation',\n",
              "                 ColumnTransformer(transformers=[('num', MinMaxScaler(),\n",
              "                                                  Index(['trip_distance', 'pickup_longitude', 'pickup_latitude',\n",
              "       'dropoff_longitude', 'dropoff_latitude', 'time_of_day', 'ave_speed'],\n",
              "      dtype='object')),\n",
              "                                                 ('cat', OrdinalEncoder(),\n",
              "                                                  Index(['day_of_week'], dtype='object'))])),\n",
              "                ('model',\n",
              "                 ExtraTreesClassifier(n_jobs=-1, random_state=42, verbose=1))])"
            ]
          },
          "metadata": {},
          "execution_count": 85
        }
      ]
    },
    {
      "cell_type": "code",
      "metadata": {
        "id": "UO1ow3tUlp4A"
      },
      "source": [
        "models['etc'] = etc"
      ],
      "execution_count": 86,
      "outputs": []
    },
    {
      "cell_type": "markdown",
      "metadata": {
        "id": "BuqVvDo9KyNC"
      },
      "source": [
        "# Evaluation metrics"
      ]
    },
    {
      "cell_type": "code",
      "metadata": {
        "colab": {
          "base_uri": "https://localhost:8080/",
          "height": 165
        },
        "id": "tvob8aNkuDF5",
        "outputId": "f1da6bd6-9a4d-48a4-ab22-b1e711549468"
      },
      "source": [
        "models.get('lr')"
      ],
      "execution_count": 57,
      "outputs": [
        {
          "output_type": "execute_result",
          "data": {
            "text/html": [
              "<style>#sk-51bae146-45dc-4a60-9a20-03e6eedf0dd0 {color: black;background-color: white;}#sk-51bae146-45dc-4a60-9a20-03e6eedf0dd0 pre{padding: 0;}#sk-51bae146-45dc-4a60-9a20-03e6eedf0dd0 div.sk-toggleable {background-color: white;}#sk-51bae146-45dc-4a60-9a20-03e6eedf0dd0 label.sk-toggleable__label {cursor: pointer;display: block;width: 100%;margin-bottom: 0;padding: 0.2em 0.3em;box-sizing: border-box;text-align: center;}#sk-51bae146-45dc-4a60-9a20-03e6eedf0dd0 div.sk-toggleable__content {max-height: 0;max-width: 0;overflow: hidden;text-align: left;background-color: #f0f8ff;}#sk-51bae146-45dc-4a60-9a20-03e6eedf0dd0 div.sk-toggleable__content pre {margin: 0.2em;color: black;border-radius: 0.25em;background-color: #f0f8ff;}#sk-51bae146-45dc-4a60-9a20-03e6eedf0dd0 input.sk-toggleable__control:checked~div.sk-toggleable__content {max-height: 200px;max-width: 100%;overflow: auto;}#sk-51bae146-45dc-4a60-9a20-03e6eedf0dd0 div.sk-estimator input.sk-toggleable__control:checked~label.sk-toggleable__label {background-color: #d4ebff;}#sk-51bae146-45dc-4a60-9a20-03e6eedf0dd0 div.sk-label input.sk-toggleable__control:checked~label.sk-toggleable__label {background-color: #d4ebff;}#sk-51bae146-45dc-4a60-9a20-03e6eedf0dd0 input.sk-hidden--visually {border: 0;clip: rect(1px 1px 1px 1px);clip: rect(1px, 1px, 1px, 1px);height: 1px;margin: -1px;overflow: hidden;padding: 0;position: absolute;width: 1px;}#sk-51bae146-45dc-4a60-9a20-03e6eedf0dd0 div.sk-estimator {font-family: monospace;background-color: #f0f8ff;margin: 0.25em 0.25em;border: 1px dotted black;border-radius: 0.25em;box-sizing: border-box;}#sk-51bae146-45dc-4a60-9a20-03e6eedf0dd0 div.sk-estimator:hover {background-color: #d4ebff;}#sk-51bae146-45dc-4a60-9a20-03e6eedf0dd0 div.sk-parallel-item::after {content: \"\";width: 100%;border-bottom: 1px solid gray;flex-grow: 1;}#sk-51bae146-45dc-4a60-9a20-03e6eedf0dd0 div.sk-label:hover label.sk-toggleable__label {background-color: #d4ebff;}#sk-51bae146-45dc-4a60-9a20-03e6eedf0dd0 div.sk-serial::before {content: \"\";position: absolute;border-left: 1px solid gray;box-sizing: border-box;top: 2em;bottom: 0;left: 50%;}#sk-51bae146-45dc-4a60-9a20-03e6eedf0dd0 div.sk-serial {display: flex;flex-direction: column;align-items: center;background-color: white;}#sk-51bae146-45dc-4a60-9a20-03e6eedf0dd0 div.sk-item {z-index: 1;}#sk-51bae146-45dc-4a60-9a20-03e6eedf0dd0 div.sk-parallel {display: flex;align-items: stretch;justify-content: center;background-color: white;}#sk-51bae146-45dc-4a60-9a20-03e6eedf0dd0 div.sk-parallel-item {display: flex;flex-direction: column;position: relative;background-color: white;}#sk-51bae146-45dc-4a60-9a20-03e6eedf0dd0 div.sk-parallel-item:first-child::after {align-self: flex-end;width: 50%;}#sk-51bae146-45dc-4a60-9a20-03e6eedf0dd0 div.sk-parallel-item:last-child::after {align-self: flex-start;width: 50%;}#sk-51bae146-45dc-4a60-9a20-03e6eedf0dd0 div.sk-parallel-item:only-child::after {width: 0;}#sk-51bae146-45dc-4a60-9a20-03e6eedf0dd0 div.sk-dashed-wrapped {border: 1px dashed gray;margin: 0.2em;box-sizing: border-box;padding-bottom: 0.1em;background-color: white;position: relative;}#sk-51bae146-45dc-4a60-9a20-03e6eedf0dd0 div.sk-label label {font-family: monospace;font-weight: bold;background-color: white;display: inline-block;line-height: 1.2em;}#sk-51bae146-45dc-4a60-9a20-03e6eedf0dd0 div.sk-label-container {position: relative;z-index: 2;text-align: center;}#sk-51bae146-45dc-4a60-9a20-03e6eedf0dd0 div.sk-container {display: inline-block;position: relative;}</style><div id=\"sk-51bae146-45dc-4a60-9a20-03e6eedf0dd0\" class\"sk-top-container\"><div class=\"sk-container\"><div class=\"sk-item sk-dashed-wrapped\"><div class=\"sk-label-container\"><div class=\"sk-label sk-toggleable\"><input class=\"sk-toggleable__control sk-hidden--visually\" id=\"f6ca9c7a-8567-4fbd-8f2f-bb566bbde369\" type=\"checkbox\" ><label class=\"sk-toggleable__label\" for=\"f6ca9c7a-8567-4fbd-8f2f-bb566bbde369\">Pipeline</label><div class=\"sk-toggleable__content\"><pre>Pipeline(steps=[('preparation',\n",
              "                 ColumnTransformer(transformers=[('num', MinMaxScaler(),\n",
              "                                                  Index(['trip_distance', 'pickup_longitude', 'pickup_latitude',\n",
              "       'dropoff_longitude', 'dropoff_latitude', 'time_of_day', 'ave_speed'],\n",
              "      dtype='object')),\n",
              "                                                 ('cat', OrdinalEncoder(),\n",
              "                                                  Index(['day_of_week'], dtype='object'))])),\n",
              "                ('model', LogisticRegression(solver='liblinear'))])</pre></div></div></div><div class=\"sk-serial\"><div class=\"sk-item sk-dashed-wrapped\"><div class=\"sk-label-container\"><div class=\"sk-label sk-toggleable\"><input class=\"sk-toggleable__control sk-hidden--visually\" id=\"1ca3cbb8-7fa1-40b6-8a99-4128079d8011\" type=\"checkbox\" ><label class=\"sk-toggleable__label\" for=\"1ca3cbb8-7fa1-40b6-8a99-4128079d8011\">preparation: ColumnTransformer</label><div class=\"sk-toggleable__content\"><pre>ColumnTransformer(transformers=[('num', MinMaxScaler(),\n",
              "                                 Index(['trip_distance', 'pickup_longitude', 'pickup_latitude',\n",
              "       'dropoff_longitude', 'dropoff_latitude', 'time_of_day', 'ave_speed'],\n",
              "      dtype='object')),\n",
              "                                ('cat', OrdinalEncoder(),\n",
              "                                 Index(['day_of_week'], dtype='object'))])</pre></div></div></div><div class=\"sk-parallel\"><div class=\"sk-parallel-item\"><div class=\"sk-item\"><div class=\"sk-label-container\"><div class=\"sk-label sk-toggleable\"><input class=\"sk-toggleable__control sk-hidden--visually\" id=\"e5829b33-cd61-42a6-8f42-96dea0dab654\" type=\"checkbox\" ><label class=\"sk-toggleable__label\" for=\"e5829b33-cd61-42a6-8f42-96dea0dab654\">num</label><div class=\"sk-toggleable__content\"><pre>Index(['trip_distance', 'pickup_longitude', 'pickup_latitude',\n",
              "       'dropoff_longitude', 'dropoff_latitude', 'time_of_day', 'ave_speed'],\n",
              "      dtype='object')</pre></div></div></div><div class=\"sk-serial\"><div class=\"sk-item\"><div class=\"sk-estimator sk-toggleable\"><input class=\"sk-toggleable__control sk-hidden--visually\" id=\"77209d87-9cea-4dad-8fad-aca2c8d4ac03\" type=\"checkbox\" ><label class=\"sk-toggleable__label\" for=\"77209d87-9cea-4dad-8fad-aca2c8d4ac03\">MinMaxScaler</label><div class=\"sk-toggleable__content\"><pre>MinMaxScaler()</pre></div></div></div></div></div></div><div class=\"sk-parallel-item\"><div class=\"sk-item\"><div class=\"sk-label-container\"><div class=\"sk-label sk-toggleable\"><input class=\"sk-toggleable__control sk-hidden--visually\" id=\"a0f8b411-c079-45f4-a17b-645776e812d3\" type=\"checkbox\" ><label class=\"sk-toggleable__label\" for=\"a0f8b411-c079-45f4-a17b-645776e812d3\">cat</label><div class=\"sk-toggleable__content\"><pre>Index(['day_of_week'], dtype='object')</pre></div></div></div><div class=\"sk-serial\"><div class=\"sk-item\"><div class=\"sk-estimator sk-toggleable\"><input class=\"sk-toggleable__control sk-hidden--visually\" id=\"76ae7201-e3ee-4819-95b4-6ce514952737\" type=\"checkbox\" ><label class=\"sk-toggleable__label\" for=\"76ae7201-e3ee-4819-95b4-6ce514952737\">OrdinalEncoder</label><div class=\"sk-toggleable__content\"><pre>OrdinalEncoder()</pre></div></div></div></div></div></div></div></div><div class=\"sk-item\"><div class=\"sk-estimator sk-toggleable\"><input class=\"sk-toggleable__control sk-hidden--visually\" id=\"b73a7289-f2f7-4178-bea3-e946eaacc2e4\" type=\"checkbox\" ><label class=\"sk-toggleable__label\" for=\"b73a7289-f2f7-4178-bea3-e946eaacc2e4\">LogisticRegression</label><div class=\"sk-toggleable__content\"><pre>LogisticRegression(solver='liblinear')</pre></div></div></div></div></div></div></div>"
            ],
            "text/plain": [
              "Pipeline(steps=[('preparation',\n",
              "                 ColumnTransformer(transformers=[('num', MinMaxScaler(),\n",
              "                                                  Index(['trip_distance', 'pickup_longitude', 'pickup_latitude',\n",
              "       'dropoff_longitude', 'dropoff_latitude', 'time_of_day', 'ave_speed'],\n",
              "      dtype='object')),\n",
              "                                                 ('cat', OrdinalEncoder(),\n",
              "                                                  Index(['day_of_week'], dtype='object'))])),\n",
              "                ('model', LogisticRegression(solver='liblinear'))])"
            ]
          },
          "metadata": {},
          "execution_count": 57
        }
      ]
    },
    {
      "cell_type": "code",
      "metadata": {
        "colab": {
          "base_uri": "https://localhost:8080/"
        },
        "id": "a7VGF6NrvW3R",
        "outputId": "c533b41f-0e87-4de0-e02a-f82977de3541"
      },
      "source": [
        "list(models.keys())"
      ],
      "execution_count": 87,
      "outputs": [
        {
          "output_type": "execute_result",
          "data": {
            "text/plain": [
              "['lr', 'l1', 'l2', 'knn', 'lsvc', 'sgd', 'dtree', 'rfc', 'etc', 'lr_bal']"
            ]
          },
          "metadata": {},
          "execution_count": 87
        }
      ]
    },
    {
      "cell_type": "code",
      "metadata": {
        "id": "B_cPZAV-rcBW"
      },
      "source": [
        "coeff_labels = list(models.keys())\n",
        "coeff_models = list(models.values())"
      ],
      "execution_count": 97,
      "outputs": []
    },
    {
      "cell_type": "code",
      "metadata": {
        "id": "3JiYET8cKyND"
      },
      "source": [
        "from sklearn.metrics import precision_recall_fscore_support as score\n",
        "from sklearn.metrics import confusion_matrix, accuracy_score, roc_auc_score, classification_report, f1_score, precision_score, recall_score\n",
        "from sklearn.preprocessing import label_binarize"
      ],
      "execution_count": 98,
      "outputs": []
    },
    {
      "cell_type": "code",
      "metadata": {
        "id": "A4pU73xEOSYd"
      },
      "source": [
        "def measure_error(y_true, y_pred, label):\n",
        "    return pd.Series({'accuracy':accuracy_score(y_true, y_pred),\n",
        "                      'precision': precision_score(y_true, y_pred, zero_division=0, average='binary'),\n",
        "                      'recall': recall_score(y_true, y_pred, zero_division=0, average='binary'),\n",
        "                      'f1': f1_score(y_true, y_pred, zero_division=0, average='binary'),\n",
        "                      'auc': roc_auc_score(y_true, y_pred)\n",
        "                      },\n",
        "                     name=label)"
      ],
      "execution_count": 99,
      "outputs": []
    },
    {
      "cell_type": "code",
      "metadata": {
        "id": "Dki1N7gWKyNH",
        "colab": {
          "base_uri": "https://localhost:8080/",
          "height": 445
        },
        "outputId": "b890514e-d0a0-441b-eeaf-c10219f837cf"
      },
      "source": [
        "evaluations = []\n",
        "predictions = dict()\n",
        "\n",
        "for lab, model in zip(coeff_labels, coeff_models):\n",
        "    y_pred_train = model.predict(X_train)\n",
        "    y_pred_test = model.predict(X_test)\n",
        "\n",
        "    evaluations.append(measure_error(y_train, y_pred_train, f\"{lab} train\"))\n",
        "    evaluations.append(measure_error(y_test, y_pred_test, f\"{lab} test\"))\n",
        "    predictions[lab] = [y_pred_train, y_pred_test]\n",
        "\n",
        "metrics = pd.concat(evaluations, axis=1)\n",
        "metrics"
      ],
      "execution_count": 102,
      "outputs": [
        {
          "output_type": "stream",
          "text": [
            "[Parallel(n_jobs=2)]: Using backend ThreadingBackend with 2 concurrent workers.\n",
            "[Parallel(n_jobs=2)]: Done  46 tasks      | elapsed:   15.6s\n",
            "[Parallel(n_jobs=2)]: Done 100 out of 100 | elapsed:   35.0s finished\n",
            "[Parallel(n_jobs=2)]: Using backend ThreadingBackend with 2 concurrent workers.\n",
            "[Parallel(n_jobs=2)]: Done  46 tasks      | elapsed:    4.4s\n",
            "[Parallel(n_jobs=2)]: Done 100 out of 100 | elapsed:    8.8s finished\n",
            "[Parallel(n_jobs=2)]: Using backend ThreadingBackend with 2 concurrent workers.\n",
            "[Parallel(n_jobs=2)]: Done  46 tasks      | elapsed:   25.3s\n",
            "[Parallel(n_jobs=2)]: Done 100 out of 100 | elapsed:   53.8s finished\n",
            "[Parallel(n_jobs=2)]: Using backend ThreadingBackend with 2 concurrent workers.\n",
            "[Parallel(n_jobs=2)]: Done  46 tasks      | elapsed:    6.4s\n",
            "[Parallel(n_jobs=2)]: Done 100 out of 100 | elapsed:   12.9s finished\n"
          ],
          "name": "stderr"
        },
        {
          "output_type": "execute_result",
          "data": {
            "text/html": [
              "<div>\n",
              "<style scoped>\n",
              "    .dataframe tbody tr th:only-of-type {\n",
              "        vertical-align: middle;\n",
              "    }\n",
              "\n",
              "    .dataframe tbody tr th {\n",
              "        vertical-align: top;\n",
              "    }\n",
              "\n",
              "    .dataframe thead th {\n",
              "        text-align: right;\n",
              "    }\n",
              "</style>\n",
              "<table border=\"1\" class=\"dataframe\">\n",
              "  <thead>\n",
              "    <tr style=\"text-align: right;\">\n",
              "      <th></th>\n",
              "      <th>lr train</th>\n",
              "      <th>lr test</th>\n",
              "      <th>l1 train</th>\n",
              "      <th>l1 test</th>\n",
              "      <th>l2 train</th>\n",
              "      <th>l2 test</th>\n",
              "      <th>knn train</th>\n",
              "      <th>knn test</th>\n",
              "      <th>lsvc train</th>\n",
              "      <th>lsvc test</th>\n",
              "      <th>sgd train</th>\n",
              "      <th>sgd test</th>\n",
              "      <th>dtree train</th>\n",
              "      <th>dtree test</th>\n",
              "      <th>rfc train</th>\n",
              "      <th>rfc test</th>\n",
              "      <th>etc train</th>\n",
              "      <th>etc test</th>\n",
              "      <th>lr_bal train</th>\n",
              "      <th>lr_bal test</th>\n",
              "    </tr>\n",
              "  </thead>\n",
              "  <tbody>\n",
              "    <tr>\n",
              "      <th>accuracy</th>\n",
              "      <td>0.966464</td>\n",
              "      <td>0.966427</td>\n",
              "      <td>0.966511</td>\n",
              "      <td>0.966491</td>\n",
              "      <td>0.966520</td>\n",
              "      <td>0.966512</td>\n",
              "      <td>0.998482</td>\n",
              "      <td>0.987759</td>\n",
              "      <td>0.964873</td>\n",
              "      <td>0.964777</td>\n",
              "      <td>0.960863</td>\n",
              "      <td>0.960619</td>\n",
              "      <td>1.0</td>\n",
              "      <td>0.986380</td>\n",
              "      <td>0.999997</td>\n",
              "      <td>0.990764</td>\n",
              "      <td>1.0</td>\n",
              "      <td>0.989073</td>\n",
              "      <td>0.946083</td>\n",
              "      <td>0.946367</td>\n",
              "    </tr>\n",
              "    <tr>\n",
              "      <th>precision</th>\n",
              "      <td>0.698820</td>\n",
              "      <td>0.700047</td>\n",
              "      <td>0.698786</td>\n",
              "      <td>0.700254</td>\n",
              "      <td>0.698773</td>\n",
              "      <td>0.700357</td>\n",
              "      <td>0.984971</td>\n",
              "      <td>0.879647</td>\n",
              "      <td>0.688220</td>\n",
              "      <td>0.689186</td>\n",
              "      <td>0.684031</td>\n",
              "      <td>0.681849</td>\n",
              "      <td>1.0</td>\n",
              "      <td>0.864519</td>\n",
              "      <td>0.999965</td>\n",
              "      <td>0.915347</td>\n",
              "      <td>1.0</td>\n",
              "      <td>0.905894</td>\n",
              "      <td>0.480033</td>\n",
              "      <td>0.481373</td>\n",
              "    </tr>\n",
              "    <tr>\n",
              "      <th>recall</th>\n",
              "      <td>0.578686</td>\n",
              "      <td>0.574849</td>\n",
              "      <td>0.580421</td>\n",
              "      <td>0.576655</td>\n",
              "      <td>0.580775</td>\n",
              "      <td>0.577186</td>\n",
              "      <td>0.984674</td>\n",
              "      <td>0.874880</td>\n",
              "      <td>0.543830</td>\n",
              "      <td>0.538301</td>\n",
              "      <td>0.403766</td>\n",
              "      <td>0.398166</td>\n",
              "      <td>1.0</td>\n",
              "      <td>0.862804</td>\n",
              "      <td>0.999973</td>\n",
              "      <td>0.898360</td>\n",
              "      <td>1.0</td>\n",
              "      <td>0.872047</td>\n",
              "      <td>0.941655</td>\n",
              "      <td>0.939016</td>\n",
              "    </tr>\n",
              "    <tr>\n",
              "      <th>f1</th>\n",
              "      <td>0.633104</td>\n",
              "      <td>0.631301</td>\n",
              "      <td>0.634127</td>\n",
              "      <td>0.632472</td>\n",
              "      <td>0.634333</td>\n",
              "      <td>0.632834</td>\n",
              "      <td>0.984823</td>\n",
              "      <td>0.877257</td>\n",
              "      <td>0.607564</td>\n",
              "      <td>0.604470</td>\n",
              "      <td>0.507794</td>\n",
              "      <td>0.502750</td>\n",
              "      <td>1.0</td>\n",
              "      <td>0.863661</td>\n",
              "      <td>0.999969</td>\n",
              "      <td>0.906774</td>\n",
              "      <td>1.0</td>\n",
              "      <td>0.888648</td>\n",
              "      <td>0.635900</td>\n",
              "      <td>0.636469</td>\n",
              "    </tr>\n",
              "    <tr>\n",
              "      <th>auc</th>\n",
              "      <td>0.782780</td>\n",
              "      <td>0.780943</td>\n",
              "      <td>0.783627</td>\n",
              "      <td>0.781832</td>\n",
              "      <td>0.783799</td>\n",
              "      <td>0.782094</td>\n",
              "      <td>0.991942</td>\n",
              "      <td>0.934290</td>\n",
              "      <td>0.765431</td>\n",
              "      <td>0.762762</td>\n",
              "      <td>0.696975</td>\n",
              "      <td>0.694194</td>\n",
              "      <td>1.0</td>\n",
              "      <td>0.927844</td>\n",
              "      <td>0.999986</td>\n",
              "      <td>0.946994</td>\n",
              "      <td>1.0</td>\n",
              "      <td>0.933640</td>\n",
              "      <td>0.943985</td>\n",
              "      <td>0.942885</td>\n",
              "    </tr>\n",
              "  </tbody>\n",
              "</table>\n",
              "</div>"
            ],
            "text/plain": [
              "           lr train   lr test  l1 train  ...  etc test  lr_bal train  lr_bal test\n",
              "accuracy   0.966464  0.966427  0.966511  ...  0.989073      0.946083     0.946367\n",
              "precision  0.698820  0.700047  0.698786  ...  0.905894      0.480033     0.481373\n",
              "recall     0.578686  0.574849  0.580421  ...  0.872047      0.941655     0.939016\n",
              "f1         0.633104  0.631301  0.634127  ...  0.888648      0.635900     0.636469\n",
              "auc        0.782780  0.780943  0.783627  ...  0.933640      0.943985     0.942885\n",
              "\n",
              "[5 rows x 20 columns]"
            ]
          },
          "metadata": {},
          "execution_count": 102
        }
      ]
    },
    {
      "cell_type": "markdown",
      "metadata": {
        "id": "7CoHMVnEKI54"
      },
      "source": [
        "## Classification Report"
      ]
    },
    {
      "cell_type": "code",
      "metadata": {
        "id": "-ZQS7N88kf3h"
      },
      "source": [
        "from sklearn.metrics import precision_score, recall_score, f1_score, precision_recall_curve, roc_curve\n",
        "from sklearn.model_selection import cross_val_predict, cross_val_score"
      ],
      "execution_count": 101,
      "outputs": []
    },
    {
      "cell_type": "markdown",
      "metadata": {
        "id": "eaeblJEBKTiD"
      },
      "source": [
        "### Training Classification Report"
      ]
    },
    {
      "cell_type": "code",
      "metadata": {
        "colab": {
          "base_uri": "https://localhost:8080/"
        },
        "id": "wyXiuGPvTV-n",
        "outputId": "0c9cb059-3289-4bda-caa6-f3bf2372bb72"
      },
      "source": [
        "for lab in coeff_labels:\n",
        "    print(f'Classification report for {lab} model Training:\\n\\n{classification_report(y_train, predictions.get(lab)[0], zero_division=0, target_names=le.classes_)}')"
      ],
      "execution_count": 103,
      "outputs": [
        {
          "output_type": "stream",
          "text": [
            "Classification report for lr model Training:\n",
            "\n",
            "              precision    recall  f1-score   support\n",
            "\n",
            "      NoToll       0.98      0.99      0.98   2146011\n",
            "        Toll       0.70      0.58      0.63    112949\n",
            "\n",
            "    accuracy                           0.97   2258960\n",
            "   macro avg       0.84      0.78      0.81   2258960\n",
            "weighted avg       0.96      0.97      0.96   2258960\n",
            "\n",
            "Classification report for l1 model Training:\n",
            "\n",
            "              precision    recall  f1-score   support\n",
            "\n",
            "      NoToll       0.98      0.99      0.98   2146011\n",
            "        Toll       0.70      0.58      0.63    112949\n",
            "\n",
            "    accuracy                           0.97   2258960\n",
            "   macro avg       0.84      0.78      0.81   2258960\n",
            "weighted avg       0.96      0.97      0.97   2258960\n",
            "\n",
            "Classification report for l2 model Training:\n",
            "\n",
            "              precision    recall  f1-score   support\n",
            "\n",
            "      NoToll       0.98      0.99      0.98   2146011\n",
            "        Toll       0.70      0.58      0.63    112949\n",
            "\n",
            "    accuracy                           0.97   2258960\n",
            "   macro avg       0.84      0.78      0.81   2258960\n",
            "weighted avg       0.96      0.97      0.97   2258960\n",
            "\n",
            "Classification report for knn model Training:\n",
            "\n",
            "              precision    recall  f1-score   support\n",
            "\n",
            "      NoToll       1.00      1.00      1.00   2146011\n",
            "        Toll       0.98      0.98      0.98    112949\n",
            "\n",
            "    accuracy                           1.00   2258960\n",
            "   macro avg       0.99      0.99      0.99   2258960\n",
            "weighted avg       1.00      1.00      1.00   2258960\n",
            "\n",
            "Classification report for lsvc model Training:\n",
            "\n",
            "              precision    recall  f1-score   support\n",
            "\n",
            "      NoToll       0.98      0.99      0.98   2146011\n",
            "        Toll       0.69      0.54      0.61    112949\n",
            "\n",
            "    accuracy                           0.96   2258960\n",
            "   macro avg       0.83      0.77      0.79   2258960\n",
            "weighted avg       0.96      0.96      0.96   2258960\n",
            "\n",
            "Classification report for sgd model Training:\n",
            "\n",
            "              precision    recall  f1-score   support\n",
            "\n",
            "      NoToll       0.97      0.99      0.98   2146011\n",
            "        Toll       0.68      0.40      0.51    112949\n",
            "\n",
            "    accuracy                           0.96   2258960\n",
            "   macro avg       0.83      0.70      0.74   2258960\n",
            "weighted avg       0.96      0.96      0.96   2258960\n",
            "\n",
            "Classification report for dtree model Training:\n",
            "\n",
            "              precision    recall  f1-score   support\n",
            "\n",
            "      NoToll       1.00      1.00      1.00   2146011\n",
            "        Toll       1.00      1.00      1.00    112949\n",
            "\n",
            "    accuracy                           1.00   2258960\n",
            "   macro avg       1.00      1.00      1.00   2258960\n",
            "weighted avg       1.00      1.00      1.00   2258960\n",
            "\n",
            "Classification report for rfc model Training:\n",
            "\n",
            "              precision    recall  f1-score   support\n",
            "\n",
            "      NoToll       1.00      1.00      1.00   2146011\n",
            "        Toll       1.00      1.00      1.00    112949\n",
            "\n",
            "    accuracy                           1.00   2258960\n",
            "   macro avg       1.00      1.00      1.00   2258960\n",
            "weighted avg       1.00      1.00      1.00   2258960\n",
            "\n",
            "Classification report for etc model Training:\n",
            "\n",
            "              precision    recall  f1-score   support\n",
            "\n",
            "      NoToll       1.00      1.00      1.00   2146011\n",
            "        Toll       1.00      1.00      1.00    112949\n",
            "\n",
            "    accuracy                           1.00   2258960\n",
            "   macro avg       1.00      1.00      1.00   2258960\n",
            "weighted avg       1.00      1.00      1.00   2258960\n",
            "\n",
            "Classification report for lr_bal model Training:\n",
            "\n",
            "              precision    recall  f1-score   support\n",
            "\n",
            "      NoToll       1.00      0.95      0.97   2146011\n",
            "        Toll       0.48      0.94      0.64    112949\n",
            "\n",
            "    accuracy                           0.95   2258960\n",
            "   macro avg       0.74      0.94      0.80   2258960\n",
            "weighted avg       0.97      0.95      0.95   2258960\n",
            "\n"
          ],
          "name": "stdout"
        }
      ]
    },
    {
      "cell_type": "markdown",
      "metadata": {
        "id": "vxI37wleKZtm"
      },
      "source": [
        "### Test Classification Report"
      ]
    },
    {
      "cell_type": "code",
      "metadata": {
        "colab": {
          "base_uri": "https://localhost:8080/"
        },
        "id": "3d7r-SnvQw-Y",
        "outputId": "550f4d04-16ee-4a4c-d0c4-0276b2f24673"
      },
      "source": [
        "for lab in coeff_labels:\n",
        "    print(f'Classification report for {lab} model Testing:\\n\\n{classification_report(y_test, predictions.get(lab)[1], zero_division=0, target_names=le.classes_)}')"
      ],
      "execution_count": 104,
      "outputs": [
        {
          "output_type": "stream",
          "text": [
            "Classification report for lr model Testing:\n",
            "\n",
            "              precision    recall  f1-score   support\n",
            "\n",
            "      NoToll       0.98      0.99      0.98    536504\n",
            "        Toll       0.70      0.57      0.63     28237\n",
            "\n",
            "    accuracy                           0.97    564741\n",
            "   macro avg       0.84      0.78      0.81    564741\n",
            "weighted avg       0.96      0.97      0.96    564741\n",
            "\n",
            "Classification report for l1 model Testing:\n",
            "\n",
            "              precision    recall  f1-score   support\n",
            "\n",
            "      NoToll       0.98      0.99      0.98    536504\n",
            "        Toll       0.70      0.58      0.63     28237\n",
            "\n",
            "    accuracy                           0.97    564741\n",
            "   macro avg       0.84      0.78      0.81    564741\n",
            "weighted avg       0.96      0.97      0.96    564741\n",
            "\n",
            "Classification report for l2 model Testing:\n",
            "\n",
            "              precision    recall  f1-score   support\n",
            "\n",
            "      NoToll       0.98      0.99      0.98    536504\n",
            "        Toll       0.70      0.58      0.63     28237\n",
            "\n",
            "    accuracy                           0.97    564741\n",
            "   macro avg       0.84      0.78      0.81    564741\n",
            "weighted avg       0.96      0.97      0.96    564741\n",
            "\n",
            "Classification report for knn model Testing:\n",
            "\n",
            "              precision    recall  f1-score   support\n",
            "\n",
            "      NoToll       0.99      0.99      0.99    536504\n",
            "        Toll       0.88      0.87      0.88     28237\n",
            "\n",
            "    accuracy                           0.99    564741\n",
            "   macro avg       0.94      0.93      0.94    564741\n",
            "weighted avg       0.99      0.99      0.99    564741\n",
            "\n",
            "Classification report for lsvc model Testing:\n",
            "\n",
            "              precision    recall  f1-score   support\n",
            "\n",
            "      NoToll       0.98      0.99      0.98    536504\n",
            "        Toll       0.69      0.54      0.60     28237\n",
            "\n",
            "    accuracy                           0.96    564741\n",
            "   macro avg       0.83      0.76      0.79    564741\n",
            "weighted avg       0.96      0.96      0.96    564741\n",
            "\n",
            "Classification report for sgd model Testing:\n",
            "\n",
            "              precision    recall  f1-score   support\n",
            "\n",
            "      NoToll       0.97      0.99      0.98    536504\n",
            "        Toll       0.68      0.40      0.50     28237\n",
            "\n",
            "    accuracy                           0.96    564741\n",
            "   macro avg       0.83      0.69      0.74    564741\n",
            "weighted avg       0.95      0.96      0.96    564741\n",
            "\n",
            "Classification report for dtree model Testing:\n",
            "\n",
            "              precision    recall  f1-score   support\n",
            "\n",
            "      NoToll       0.99      0.99      0.99    536504\n",
            "        Toll       0.86      0.86      0.86     28237\n",
            "\n",
            "    accuracy                           0.99    564741\n",
            "   macro avg       0.93      0.93      0.93    564741\n",
            "weighted avg       0.99      0.99      0.99    564741\n",
            "\n",
            "Classification report for rfc model Testing:\n",
            "\n",
            "              precision    recall  f1-score   support\n",
            "\n",
            "      NoToll       0.99      1.00      1.00    536504\n",
            "        Toll       0.92      0.90      0.91     28237\n",
            "\n",
            "    accuracy                           0.99    564741\n",
            "   macro avg       0.96      0.95      0.95    564741\n",
            "weighted avg       0.99      0.99      0.99    564741\n",
            "\n",
            "Classification report for etc model Testing:\n",
            "\n",
            "              precision    recall  f1-score   support\n",
            "\n",
            "      NoToll       0.99      1.00      0.99    536504\n",
            "        Toll       0.91      0.87      0.89     28237\n",
            "\n",
            "    accuracy                           0.99    564741\n",
            "   macro avg       0.95      0.93      0.94    564741\n",
            "weighted avg       0.99      0.99      0.99    564741\n",
            "\n",
            "Classification report for lr_bal model Testing:\n",
            "\n",
            "              precision    recall  f1-score   support\n",
            "\n",
            "      NoToll       1.00      0.95      0.97    536504\n",
            "        Toll       0.48      0.94      0.64     28237\n",
            "\n",
            "    accuracy                           0.95    564741\n",
            "   macro avg       0.74      0.94      0.80    564741\n",
            "weighted avg       0.97      0.95      0.95    564741\n",
            "\n"
          ],
          "name": "stdout"
        }
      ]
    },
    {
      "cell_type": "markdown",
      "metadata": {
        "id": "E_5fWeBIKuZ6"
      },
      "source": [
        "## Training Confusion Matrix"
      ]
    },
    {
      "cell_type": "code",
      "metadata": {
        "colab": {
          "base_uri": "https://localhost:8080/",
          "height": 945
        },
        "id": "_7mqNDcdSQ1b",
        "outputId": "2e9c246f-872e-4c12-af12-d6c7e88fca02"
      },
      "source": [
        "fig, axList = plt.subplots(nrows=5, ncols=2)\n",
        "axList = axList.flatten()\n",
        "fig.set_size_inches(13, 13)\n",
        "\n",
        "axList[-1].axis('off')\n",
        "\n",
        "for ax,lab in zip(axList[:-1], coeff_labels):\n",
        "    sns.heatmap(confusion_matrix(y_train, predictions.get(lab)[0]),\n",
        "                ax=ax, annot=True, fmt='d', cmap=colors,\n",
        "                xticklabels=le.classes_, yticklabels=le.classes_)\n",
        "    ax.set(title=lab)\n",
        "    \n",
        "plt.tight_layout()"
      ],
      "execution_count": 105,
      "outputs": [
        {
          "output_type": "display_data",
          "data": {
            "image/png": "[encoded data removed]",
            "text/plain": [
              "<Figure size 936x936 with 19 Axes>"
            ]
          },
          "metadata": {
            "needs_background": "light"
          }
        }
      ]
    },
    {
      "cell_type": "code",
      "metadata": {
        "colab": {
          "base_uri": "https://localhost:8080/",
          "height": 945
        },
        "id": "jAVR31alHBo5",
        "outputId": "0fed4a67-87dc-4acd-b047-5ac05e3a7833"
      },
      "source": [
        "fig, axList = plt.subplots(nrows=5, ncols=2)\n",
        "axList = axList.flatten()\n",
        "fig.set_size_inches(13, 13)\n",
        "\n",
        "axList[-1].axis('off')\n",
        "\n",
        "for ax,lab in zip(axList[:-1], coeff_labels):\n",
        "    cm = confusion_matrix(y_train, predictions.get(lab)[0])\n",
        "    cmn = cm.astype('float') / cm.sum(axis=1)[:, np.newaxis]\n",
        "    sns.heatmap(cmn,\n",
        "                ax=ax, annot=True, fmt='.2%', cmap=colors,\n",
        "                xticklabels=le.classes_, yticklabels=le.classes_)\n",
        "    ax.set(title=lab)\n",
        "    \n",
        "plt.tight_layout()"
      ],
      "execution_count": 119,
      "outputs": [
        {
          "output_type": "display_data",
          "data": {
            "image/png": "[encoded data removed]",
            "text/plain": [
              "<Figure size 936x936 with 19 Axes>"
            ]
          },
          "metadata": {
            "needs_background": "light"
          }
        }
      ]
    },
    {
      "cell_type": "markdown",
      "metadata": {
        "id": "L8nD2NkjK1v5"
      },
      "source": [
        "## Test Confusion Matrix"
      ]
    },
    {
      "cell_type": "code",
      "metadata": {
        "colab": {
          "base_uri": "https://localhost:8080/",
          "height": 945
        },
        "id": "9IVgYydj_qNJ",
        "outputId": "4c232d52-390a-4318-ff95-7394d43151da"
      },
      "source": [
        "fig, axList = plt.subplots(nrows=5, ncols=2)\n",
        "axList = axList.flatten()\n",
        "fig.set_size_inches(13, 13)\n",
        "\n",
        "axList[-1].axis('off')\n",
        "\n",
        "for ax,lab in zip(axList[:-1], coeff_labels):\n",
        "    sns.heatmap(confusion_matrix(y_test, predictions.get(lab)[1]),\n",
        "                ax=ax, annot=True, fmt='d', cmap=colors,\n",
        "                xticklabels=le.classes_, yticklabels=le.classes_)\n",
        "    ax.set(title=lab)\n",
        "    \n",
        "plt.tight_layout()"
      ],
      "execution_count": 106,
      "outputs": [
        {
          "output_type": "display_data",
          "data": {
            "image/png": "[encoded data removed]",
            "text/plain": [
              "<Figure size 936x936 with 19 Axes>"
            ]
          },
          "metadata": {
            "needs_background": "light"
          }
        }
      ]
    },
    {
      "cell_type": "code",
      "metadata": {
        "colab": {
          "base_uri": "https://localhost:8080/",
          "height": 945
        },
        "id": "e9UrQXEkoFiv",
        "outputId": "7413dd16-5b3d-44b4-dd98-2a4ac2a73995"
      },
      "source": [
        "fig, axList = plt.subplots(nrows=5, ncols=2)\n",
        "axList = axList.flatten()\n",
        "fig.set_size_inches(13, 13)\n",
        "\n",
        "axList[-1].axis('off')\n",
        "\n",
        "for ax,lab in zip(axList[:-1], coeff_labels):\n",
        "    cm = confusion_matrix(y_test, predictions.get(lab)[1])\n",
        "    cmn = cm.astype('float') / cm.sum(axis=1)[:, np.newaxis]\n",
        "    sns.heatmap(cmn,\n",
        "                ax=ax, annot=True, fmt='.2%', cmap=colors,\n",
        "                xticklabels=le.classes_, yticklabels=le.classes_)\n",
        "    ax.set(title=lab)\n",
        "    \n",
        "plt.tight_layout()"
      ],
      "execution_count": 116,
      "outputs": [
        {
          "output_type": "display_data",
          "data": {
            "image/png": "[encoded data removed]",
            "text/plain": [
              "<Figure size 936x936 with 19 Axes>"
            ]
          },
          "metadata": {
            "needs_background": "light"
          }
        }
      ]
    },
    {
      "cell_type": "code",
      "metadata": {
        "id": "qFuYEdee_yTq"
      },
      "source": [
        "from sklearn.metrics import plot_confusion_matrix"
      ],
      "execution_count": 107,
      "outputs": []
    },
    {
      "cell_type": "code",
      "metadata": {
        "colab": {
          "base_uri": "https://localhost:8080/",
          "height": 729
        },
        "id": "q6NS0-ToFrDe",
        "outputId": "c789cd25-2f5a-4fbe-ad26-e9535a7c15a1"
      },
      "source": [
        "fig, axList = plt.subplots(nrows=3, ncols=2)\n",
        "axList = axList.flatten()\n",
        "fig.set_size_inches(12, 10)\n",
        "\n",
        "axList[-1].axis('off')\n",
        "\n",
        "for ax, lab, model in zip(axList[:-1], coeff_labels, coeff_models):\n",
        "    disp = plot_confusion_matrix(model, X_test, y_test,\n",
        "                                 display_labels=le.classes_,\n",
        "                                 normalize='true',\n",
        "                                 ax=ax, values_format='.2%')\n",
        "    disp.ax_.set_title(lab)\n",
        "    disp.ax_.grid(False)\n",
        "    \n",
        "plt.tight_layout()"
      ],
      "execution_count": 117,
      "outputs": [
        {
          "output_type": "display_data",
          "data": {
            "image/png": "[encoded data removed]",
            "text/plain": [
              "<Figure size 864x720 with 11 Axes>"
            ]
          },
          "metadata": {
            "needs_background": "light"
          }
        }
      ]
    }
  ]
}