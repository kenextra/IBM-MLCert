{
  "nbformat": 4,
  "nbformat_minor": 0,
  "metadata": {
    "colab": {
      "name": "Build Model.ipynb",
      "provenance": [],
      "collapsed_sections": [
        "62QwWgstxGES",
        "K5kIJSDHp6Fc",
        "LRHbX--3OWPe",
        "dq712Zl576tw",
        "39G6aIuG983Z",
        "i7VKgvfE73Iy",
        "9OxgSlQ-I3LT"
      ],
      "authorship_tag": "ABX9TyONjwe0XJXo5r4dutn1PoqY",
      "include_colab_link": true
    },
    "kernelspec": {
      "name": "python3",
      "display_name": "Python 3"
    },
    "language_info": {
      "name": "python"
    }
  },
  "cells": [
    {
      "cell_type": "markdown",
      "metadata": {
        "id": "view-in-github",
        "colab_type": "text"
      },
      "source": [
        "<a href=\"https://colab.research.google.com/github/kenextra/IBM-MLCert/blob/main/Build_Model.ipynb\" target=\"_parent\"><img src=\"https://colab.research.google.com/assets/colab-badge.svg\" alt=\"Open In Colab\"/></a>"
      ]
    },
    {
      "cell_type": "markdown",
      "metadata": {
        "id": "S72rYuEBoKzx"
      },
      "source": [
        "# General Section"
      ]
    },
    {
      "cell_type": "code",
      "metadata": {
        "id": "T6ttYEXLodfs",
        "colab": {
          "base_uri": "https://localhost:8080/"
        },
        "outputId": "207db657-6f62-4fb3-9773-e2c9e59aed23"
      },
      "source": [
        "# install and reset runtime\n",
        "%%bash\n",
        "pip install --upgrade pandas --quiet\n",
        "pip install --upgrade scikit-learn==0.24.0 --quiet\n",
        "pip install --upgrade pyproj --quiet"
      ],
      "execution_count": 1,
      "outputs": [
        {
          "output_type": "stream",
          "text": [
            "ERROR: pip's dependency resolver does not currently take into account all the packages that are installed. This behaviour is the source of the following dependency conflicts.\n",
            "google-colab 1.0.0 requires pandas~=1.1.0; python_version >= \"3.0\", but you have pandas 1.3.2 which is incompatible.\n"
          ],
          "name": "stderr"
        }
      ]
    },
    {
      "cell_type": "markdown",
      "metadata": {
        "id": "jt6bBlCTw3Nn"
      },
      "source": [
        "## Import needed libraries"
      ]
    },
    {
      "cell_type": "code",
      "metadata": {
        "id": "93QQRIHSCSqo"
      },
      "source": [
        "import matplotlib as mpl\n",
        "import matplotlib.pyplot as plt\n",
        "import matplotlib.patches as patches\n",
        "from matplotlib.patches import ConnectionPatch\n",
        "# from collections import OrderedDict\n",
        "from matplotlib.gridspec import GridSpec\n",
        "plt.rcParams[\"patch.force_edgecolor\"] = True\n",
        "plt.style.use('fivethirtyeight')\n",
        "mpl.rc('patch', edgecolor = 'dimgray', linewidth=1)\n",
        "from IPython.core.interactiveshell import InteractiveShell\n",
        "InteractiveShell.ast_node_interactivity = \"last_expr\"\n",
        "%matplotlib inline"
      ],
      "execution_count": 2,
      "outputs": []
    },
    {
      "cell_type": "code",
      "metadata": {
        "id": "MOj-XQRWkiOL",
        "colab": {
          "base_uri": "https://localhost:8080/",
          "height": 36
        },
        "outputId": "fa3c87e4-1568-40ed-96d4-98117dcc2180"
      },
      "source": [
        "import pandas as pd\n",
        "import numpy as np\n",
        "import seaborn as sns\n",
        "import sklearn\n",
        "import plotly.express as px\n",
        "sklearn.__version__"
      ],
      "execution_count": 3,
      "outputs": [
        {
          "output_type": "execute_result",
          "data": {
            "application/vnd.google.colaboratory.intrinsic+json": {
              "type": "string"
            },
            "text/plain": [
              "'0.24.0'"
            ]
          },
          "metadata": {
            "tags": []
          },
          "execution_count": 3
        }
      ]
    },
    {
      "cell_type": "code",
      "metadata": {
        "id": "ZKNxrquNmrRv"
      },
      "source": [
        "import os\n",
        "import urllib.request\n",
        "from zipfile import ZipFile\n",
        "from pathlib import Path\n",
        "from import_dataset import (load_data, basic_preprocessing,\n",
        "                            add_dayof_week, add_timeof_day,\n",
        "                            add_crow_direction, add_avespeed)"
      ],
      "execution_count": 4,
      "outputs": []
    },
    {
      "cell_type": "markdown",
      "metadata": {
        "id": "62QwWgstxGES"
      },
      "source": [
        "## Download Data"
      ]
    },
    {
      "cell_type": "code",
      "metadata": {
        "colab": {
          "base_uri": "https://localhost:8080/"
        },
        "id": "tj7Ef6Kg9Dgr",
        "outputId": "5947bae9-e29e-4685-db9d-c7637fceb486"
      },
      "source": [
        "DATA_URL = \"https://www.mathworks.com/supportfiles/practicaldsmatlab/taxi/Taxi%20Data.zip\"\n",
        "DATA_NAME = \"TaxiData.zip\"\n",
        "urllib.request.urlretrieve(DATA_URL, DATA_NAME)"
      ],
      "execution_count": 5,
      "outputs": [
        {
          "output_type": "execute_result",
          "data": {
            "text/plain": [
              "('TaxiData.zip', <http.client.HTTPMessage at 0x7f5548209d10>)"
            ]
          },
          "metadata": {
            "tags": []
          },
          "execution_count": 5
        }
      ]
    },
    {
      "cell_type": "code",
      "metadata": {
        "id": "dITT8ccZGxPn"
      },
      "source": [
        "# Create a ZipFile Object and load data in it\n",
        "with ZipFile(DATA_NAME, 'r') as zipObj:\n",
        "   # Extract all the contents of zip file in current directory\n",
        "   zipObj.extractall()"
      ],
      "execution_count": 6,
      "outputs": []
    },
    {
      "cell_type": "code",
      "metadata": {
        "colab": {
          "base_uri": "https://localhost:8080/"
        },
        "id": "lZ4I7fRnrHdf",
        "outputId": "de51bfc0-1c55-4e0f-ed44-2b3f089d16a7"
      },
      "source": [
        "from pathlib import Path\n",
        "DATA_DIR = Path.cwd() / 'Taxi Data'\n",
        "DATA_DIR"
      ],
      "execution_count": 7,
      "outputs": [
        {
          "output_type": "execute_result",
          "data": {
            "text/plain": [
              "PosixPath('/content/Taxi Data')"
            ]
          },
          "metadata": {
            "tags": []
          },
          "execution_count": 7
        }
      ]
    },
    {
      "cell_type": "code",
      "metadata": {
        "colab": {
          "base_uri": "https://localhost:8080/",
          "height": 36
        },
        "id": "z0u6YVJmHVoz",
        "outputId": "e9a3957d-3e18-499e-fb4c-7ae18e6431ba"
      },
      "source": [
        "PROJECT_ROOT_DIR = Path.cwd()\n",
        "COURSE_ID = \"Deploy\"\n",
        "IMAGES_PATH = os.path.join(PROJECT_ROOT_DIR, COURSE_ID, \"images\")\n",
        "IMAGES_PATH"
      ],
      "execution_count": 8,
      "outputs": [
        {
          "output_type": "execute_result",
          "data": {
            "application/vnd.google.colaboratory.intrinsic+json": {
              "type": "string"
            },
            "text/plain": [
              "'/content/Deploy/images'"
            ]
          },
          "metadata": {
            "tags": []
          },
          "execution_count": 8
        }
      ]
    },
    {
      "cell_type": "code",
      "metadata": {
        "id": "-0w715bNHgCK"
      },
      "source": [
        "os.makedirs(IMAGES_PATH, exist_ok=True)"
      ],
      "execution_count": 9,
      "outputs": []
    },
    {
      "cell_type": "code",
      "metadata": {
        "id": "tnW2FOF3HhS9"
      },
      "source": [
        "def save_fig(fig_id, tight_layout=True, fig_extension=\"png\", resolution=300):\n",
        "    path = os.path.join(IMAGES_PATH, fig_id + \".\" + fig_extension)\n",
        "    print(\"Saving figure\", fig_id)\n",
        "    if tight_layout:\n",
        "        plt.tight_layout()\n",
        "    plt.savefig(path, format=fig_extension, dpi=resolution)"
      ],
      "execution_count": 10,
      "outputs": []
    },
    {
      "cell_type": "markdown",
      "metadata": {
        "id": "K5kIJSDHp6Fc"
      },
      "source": [
        "## Import and Explore Data"
      ]
    },
    {
      "cell_type": "code",
      "metadata": {
        "id": "PrlT0O7hGzdb"
      },
      "source": [
        "col_names = [\"Vendor\", \"PickupTime\", \"DropoffTime\", \"Passengers\", \"Distance\", \"PickupLon\", \"PickupLat\",\n",
        "             \"RateCode\", \"HeldFlag\", \"DropoffLon\", \"DropoffLat\", \"PayType\", \"Fare\", \"ExtraCharge\", \"Tax\",\n",
        "             \"Tip\", \"Tolls\", \"ImpSurcharge\", \"TotalCharge\"];"
      ],
      "execution_count": 11,
      "outputs": []
    },
    {
      "cell_type": "code",
      "metadata": {
        "id": "Ts6F7EoA7T3t"
      },
      "source": [
        "use_cols = ['VendorID',\n",
        " 'tpep_pickup_datetime',\n",
        " 'tpep_dropoff_datetime',\n",
        " 'passenger_count',\n",
        " 'trip_distance',\n",
        " 'pickup_longitude',\n",
        " 'pickup_latitude',\n",
        " 'RateCodeID',\n",
        " 'store_and_fwd_flag',\n",
        " 'dropoff_longitude',\n",
        " 'dropoff_latitude',\n",
        " 'payment_type',\n",
        " 'fare_amount',\n",
        " 'extra',\n",
        " 'mta_tax',\n",
        " 'tip_amount',\n",
        " 'tolls_amount',\n",
        " 'improvement_surcharge',\n",
        " 'total_amount']\n",
        "\n",
        "parse_dates = [\"tpep_pickup_datetime\", \"tpep_dropoff_datetime\"]"
      ],
      "execution_count": 12,
      "outputs": []
    },
    {
      "cell_type": "code",
      "metadata": {
        "id": "hS8OBqp3VSg5"
      },
      "source": [
        "dtype = {'RateCodeID': str, 'payment_type': str, 'VendorID': str, 'RatecodeID': str,}  # , dtype=dtype"
      ],
      "execution_count": 13,
      "outputs": []
    },
    {
      "cell_type": "code",
      "metadata": {
        "colab": {
          "base_uri": "https://localhost:8080/"
        },
        "id": "f3q7hCat4cUJ",
        "outputId": "f69b36f5-5bb5-4a61-c824-e3ff80fc9d89"
      },
      "source": [
        "df = load_data(path_dir=DATA_DIR, parse_dates=parse_dates, \n",
        "                     usecols=use_cols, dtype=dtype,\n",
        "                      file_substr='yellow', skiprows=1, preprocess=True)"
      ],
      "execution_count": 14,
      "outputs": [
        {
          "output_type": "stream",
          "text": [
            "Loading all yellow*.csv in /content/Taxi Data folder...\n",
            "\n",
            "Converting categorical features to their corresponding values...\n",
            "\n",
            "Removing invalid charges...\n",
            "\n",
            "Removing invalid trip information...\n",
            "\n",
            "Keep trips with pickup and drop off locations inside the region of interest\n",
            "\n",
            "Adding new features: Duration...\n",
            "\n",
            "Only keep trips with typical values..\n",
            "\n"
          ],
          "name": "stdout"
        }
      ]
    },
    {
      "cell_type": "code",
      "metadata": {
        "colab": {
          "base_uri": "https://localhost:8080/"
        },
        "id": "y0Ht_ips1eoo",
        "outputId": "2705d6b5-45de-40ed-acff-5dc453e9a937"
      },
      "source": [
        "df.info(show_counts=True)"
      ],
      "execution_count": 15,
      "outputs": [
        {
          "output_type": "stream",
          "text": [
            "<class 'pandas.core.frame.DataFrame'>\n",
            "RangeIndex: 2823895 entries, 0 to 2823894\n",
            "Data columns (total 20 columns):\n",
            " #   Column                 Non-Null Count    Dtype         \n",
            "---  ------                 --------------    -----         \n",
            " 0   VendorID               2823895 non-null  object        \n",
            " 1   tpep_pickup_datetime   2823895 non-null  datetime64[ns]\n",
            " 2   tpep_dropoff_datetime  2823895 non-null  datetime64[ns]\n",
            " 3   passenger_count        2823895 non-null  int64         \n",
            " 4   trip_distance          2823895 non-null  float64       \n",
            " 5   pickup_longitude       2823895 non-null  float64       \n",
            " 6   pickup_latitude        2823895 non-null  float64       \n",
            " 7   RateCodeID             2823895 non-null  object        \n",
            " 8   store_and_fwd_flag     2823895 non-null  object        \n",
            " 9   dropoff_longitude      2823895 non-null  float64       \n",
            " 10  dropoff_latitude       2823895 non-null  float64       \n",
            " 11  payment_type           2823895 non-null  object        \n",
            " 12  fare_amount            2823895 non-null  float64       \n",
            " 13  extra                  2823895 non-null  float64       \n",
            " 14  mta_tax                2823895 non-null  float64       \n",
            " 15  tip_amount             2823895 non-null  float64       \n",
            " 16  tolls_amount           2823895 non-null  float64       \n",
            " 17  improvement_surcharge  2823895 non-null  float64       \n",
            " 18  total_amount           2823895 non-null  float64       \n",
            " 19  duration               2823895 non-null  float64       \n",
            "dtypes: datetime64[ns](2), float64(13), int64(1), object(4)\n",
            "memory usage: 430.9+ MB\n"
          ],
          "name": "stdout"
        }
      ]
    },
    {
      "cell_type": "code",
      "metadata": {
        "colab": {
          "base_uri": "https://localhost:8080/",
          "height": 313
        },
        "id": "wHC8iiqiNQf2",
        "outputId": "bc1912d0-51f8-4fc9-bafe-21e8145dba7c"
      },
      "source": [
        "df = add_timeof_day(df)\n",
        "df.head()"
      ],
      "execution_count": 16,
      "outputs": [
        {
          "output_type": "execute_result",
          "data": {
            "text/html": [
              "<div>\n",
              "<style scoped>\n",
              "    .dataframe tbody tr th:only-of-type {\n",
              "        vertical-align: middle;\n",
              "    }\n",
              "\n",
              "    .dataframe tbody tr th {\n",
              "        vertical-align: top;\n",
              "    }\n",
              "\n",
              "    .dataframe thead th {\n",
              "        text-align: right;\n",
              "    }\n",
              "</style>\n",
              "<table border=\"1\" class=\"dataframe\">\n",
              "  <thead>\n",
              "    <tr style=\"text-align: right;\">\n",
              "      <th></th>\n",
              "      <th>VendorID</th>\n",
              "      <th>tpep_pickup_datetime</th>\n",
              "      <th>tpep_dropoff_datetime</th>\n",
              "      <th>passenger_count</th>\n",
              "      <th>trip_distance</th>\n",
              "      <th>pickup_longitude</th>\n",
              "      <th>pickup_latitude</th>\n",
              "      <th>RateCodeID</th>\n",
              "      <th>store_and_fwd_flag</th>\n",
              "      <th>dropoff_longitude</th>\n",
              "      <th>dropoff_latitude</th>\n",
              "      <th>payment_type</th>\n",
              "      <th>fare_amount</th>\n",
              "      <th>extra</th>\n",
              "      <th>mta_tax</th>\n",
              "      <th>tip_amount</th>\n",
              "      <th>tolls_amount</th>\n",
              "      <th>improvement_surcharge</th>\n",
              "      <th>total_amount</th>\n",
              "      <th>duration</th>\n",
              "      <th>time_of_day</th>\n",
              "    </tr>\n",
              "  </thead>\n",
              "  <tbody>\n",
              "    <tr>\n",
              "      <th>0</th>\n",
              "      <td>VeriFone Inc.</td>\n",
              "      <td>2015-10-01 00:00:02</td>\n",
              "      <td>2015-10-01 00:17:37</td>\n",
              "      <td>2</td>\n",
              "      <td>5.68</td>\n",
              "      <td>-73.997597</td>\n",
              "      <td>40.756248</td>\n",
              "      <td>Standard rate</td>\n",
              "      <td>N</td>\n",
              "      <td>-73.941002</td>\n",
              "      <td>40.815140</td>\n",
              "      <td>Cash</td>\n",
              "      <td>18.5</td>\n",
              "      <td>0.5</td>\n",
              "      <td>0.5</td>\n",
              "      <td>0.00</td>\n",
              "      <td>0.0</td>\n",
              "      <td>0.3</td>\n",
              "      <td>19.80</td>\n",
              "      <td>17.583333</td>\n",
              "      <td>0.000556</td>\n",
              "    </tr>\n",
              "    <tr>\n",
              "      <th>1</th>\n",
              "      <td>VeriFone Inc.</td>\n",
              "      <td>2015-10-01 00:00:23</td>\n",
              "      <td>2015-10-01 00:13:12</td>\n",
              "      <td>5</td>\n",
              "      <td>7.13</td>\n",
              "      <td>-74.016586</td>\n",
              "      <td>40.709816</td>\n",
              "      <td>Standard rate</td>\n",
              "      <td>N</td>\n",
              "      <td>-73.959991</td>\n",
              "      <td>40.766918</td>\n",
              "      <td>Cash</td>\n",
              "      <td>20.5</td>\n",
              "      <td>0.5</td>\n",
              "      <td>0.5</td>\n",
              "      <td>0.00</td>\n",
              "      <td>0.0</td>\n",
              "      <td>0.3</td>\n",
              "      <td>21.80</td>\n",
              "      <td>12.816667</td>\n",
              "      <td>0.006389</td>\n",
              "    </tr>\n",
              "    <tr>\n",
              "      <th>2</th>\n",
              "      <td>VeriFone Inc.</td>\n",
              "      <td>2015-10-01 00:00:35</td>\n",
              "      <td>2015-10-01 00:12:17</td>\n",
              "      <td>2</td>\n",
              "      <td>1.72</td>\n",
              "      <td>-74.008247</td>\n",
              "      <td>40.714821</td>\n",
              "      <td>Standard rate</td>\n",
              "      <td>N</td>\n",
              "      <td>-73.984581</td>\n",
              "      <td>40.720299</td>\n",
              "      <td>Cash</td>\n",
              "      <td>9.5</td>\n",
              "      <td>0.5</td>\n",
              "      <td>0.5</td>\n",
              "      <td>0.00</td>\n",
              "      <td>0.0</td>\n",
              "      <td>0.3</td>\n",
              "      <td>10.80</td>\n",
              "      <td>11.700000</td>\n",
              "      <td>0.009722</td>\n",
              "    </tr>\n",
              "    <tr>\n",
              "      <th>3</th>\n",
              "      <td>VeriFone Inc.</td>\n",
              "      <td>2015-10-01 00:00:36</td>\n",
              "      <td>2015-10-01 00:09:45</td>\n",
              "      <td>1</td>\n",
              "      <td>1.06</td>\n",
              "      <td>-73.992363</td>\n",
              "      <td>40.737640</td>\n",
              "      <td>Standard rate</td>\n",
              "      <td>N</td>\n",
              "      <td>-73.993813</td>\n",
              "      <td>40.745838</td>\n",
              "      <td>Credit card</td>\n",
              "      <td>7.5</td>\n",
              "      <td>0.5</td>\n",
              "      <td>0.5</td>\n",
              "      <td>1.76</td>\n",
              "      <td>0.0</td>\n",
              "      <td>0.3</td>\n",
              "      <td>10.56</td>\n",
              "      <td>9.150000</td>\n",
              "      <td>0.010000</td>\n",
              "    </tr>\n",
              "    <tr>\n",
              "      <th>4</th>\n",
              "      <td>VeriFone Inc.</td>\n",
              "      <td>2015-10-14 10:23:37</td>\n",
              "      <td>2015-10-14 10:34:56</td>\n",
              "      <td>6</td>\n",
              "      <td>1.07</td>\n",
              "      <td>-74.001839</td>\n",
              "      <td>40.715561</td>\n",
              "      <td>Standard rate</td>\n",
              "      <td>N</td>\n",
              "      <td>-73.989189</td>\n",
              "      <td>40.714081</td>\n",
              "      <td>Credit card</td>\n",
              "      <td>8.5</td>\n",
              "      <td>0.0</td>\n",
              "      <td>0.5</td>\n",
              "      <td>1.00</td>\n",
              "      <td>0.0</td>\n",
              "      <td>0.3</td>\n",
              "      <td>10.30</td>\n",
              "      <td>11.316667</td>\n",
              "      <td>10.393611</td>\n",
              "    </tr>\n",
              "  </tbody>\n",
              "</table>\n",
              "</div>"
            ],
            "text/plain": [
              "        VendorID tpep_pickup_datetime  ...   duration  time_of_day\n",
              "0  VeriFone Inc.  2015-10-01 00:00:02  ...  17.583333     0.000556\n",
              "1  VeriFone Inc.  2015-10-01 00:00:23  ...  12.816667     0.006389\n",
              "2  VeriFone Inc.  2015-10-01 00:00:35  ...  11.700000     0.009722\n",
              "3  VeriFone Inc.  2015-10-01 00:00:36  ...   9.150000     0.010000\n",
              "4  VeriFone Inc.  2015-10-14 10:23:37  ...  11.316667    10.393611\n",
              "\n",
              "[5 rows x 21 columns]"
            ]
          },
          "metadata": {
            "tags": []
          },
          "execution_count": 16
        }
      ]
    },
    {
      "cell_type": "code",
      "metadata": {
        "id": "tDRElapGeO73"
      },
      "source": [
        "df = add_dayof_week(df)"
      ],
      "execution_count": 17,
      "outputs": []
    },
    {
      "cell_type": "code",
      "metadata": {
        "id": "PFoIrH-dOQXL"
      },
      "source": [
        "# drop mta_tax and improvement_surchage\n",
        "df.drop(columns=['mta_tax', 'improvement_surcharge'], axis=1, inplace=True)"
      ],
      "execution_count": 18,
      "outputs": []
    },
    {
      "cell_type": "code",
      "metadata": {
        "id": "fTWMwN4VQxlq"
      },
      "source": [
        "df['time_of_day'] = df.tpep_pickup_datetime.dt.hour\n",
        "df['dayofmonth'] = df.tpep_pickup_datetime.dt.day\n",
        "df['dayofyear'] = df.tpep_pickup_datetime.dt.dayofyear"
      ],
      "execution_count": 19,
      "outputs": []
    },
    {
      "cell_type": "markdown",
      "metadata": {
        "id": "LRHbX--3OWPe"
      },
      "source": [
        "## Engineer new features"
      ]
    },
    {
      "cell_type": "code",
      "metadata": {
        "id": "TdjYzGmf0e2t"
      },
      "source": [
        "import math\n",
        "import pyproj\n",
        "from geopy.distance import distance, geodesic\n",
        "from pyproj import Geod\n",
        "from scipy.spatial import distance"
      ],
      "execution_count": 20,
      "outputs": []
    },
    {
      "cell_type": "code",
      "metadata": {
        "id": "71XCHLZHS90E"
      },
      "source": [
        "def add_dist(x):\n",
        "    longg = x['pickup_longitude'] - x['dropoff_longitude']\n",
        "    lat = x['pickup_latitude'] - x['dropoff_latitude']\n",
        "    return math.sqrt(math.pow(longg, 2) + math.pow(lat, 2))\n",
        "\n",
        "\n",
        "def add_long_euclid(x):\n",
        "    longg = x['pickup_longitude'] - x['dropoff_longitude']\n",
        "    return math.sqrt(math.pow(longg , 2))\n",
        "\n",
        "\n",
        "def add_lat_euclid(x):\n",
        "    lat = x['pickup_latitude'] - x['dropoff_latitude']\n",
        "    return math.sqrt(math.pow(lat , 2))"
      ],
      "execution_count": 21,
      "outputs": []
    },
    {
      "cell_type": "code",
      "metadata": {
        "id": "Y3ghUDQhT3Gc"
      },
      "source": [
        "df['dist'] = df.apply(add_dist, axis=1)"
      ],
      "execution_count": 22,
      "outputs": []
    },
    {
      "cell_type": "code",
      "metadata": {
        "id": "Ryr4iSfrVKiC"
      },
      "source": [
        "df['longitude'] = df.apply(add_long_euclid, axis=1)"
      ],
      "execution_count": 23,
      "outputs": []
    },
    {
      "cell_type": "code",
      "metadata": {
        "id": "h2PY07mUVboL"
      },
      "source": [
        "df['latitude'] = df.apply(add_lat_euclid, axis=1)"
      ],
      "execution_count": 24,
      "outputs": []
    },
    {
      "cell_type": "code",
      "metadata": {
        "id": "ravH5Hk2xgMP"
      },
      "source": [
        "# Keep only duration between 1 and 65 (inclusive)\n",
        "df.query('duration > 1 & duration <= 65', inplace=True)"
      ],
      "execution_count": 25,
      "outputs": []
    },
    {
      "cell_type": "code",
      "metadata": {
        "colab": {
          "base_uri": "https://localhost:8080/",
          "height": 614
        },
        "id": "AV4wIiVRPIDF",
        "outputId": "f6f94c69-6492-4069-aee0-6b627b9c5b11"
      },
      "source": [
        "corr_matrix = df.corr()\n",
        "corr_matrix['duration'].sort_values(ascending=False).to_frame()"
      ],
      "execution_count": 26,
      "outputs": [
        {
          "output_type": "execute_result",
          "data": {
            "text/html": [
              "<div>\n",
              "<style scoped>\n",
              "    .dataframe tbody tr th:only-of-type {\n",
              "        vertical-align: middle;\n",
              "    }\n",
              "\n",
              "    .dataframe tbody tr th {\n",
              "        vertical-align: top;\n",
              "    }\n",
              "\n",
              "    .dataframe thead th {\n",
              "        text-align: right;\n",
              "    }\n",
              "</style>\n",
              "<table border=\"1\" class=\"dataframe\">\n",
              "  <thead>\n",
              "    <tr style=\"text-align: right;\">\n",
              "      <th></th>\n",
              "      <th>duration</th>\n",
              "    </tr>\n",
              "  </thead>\n",
              "  <tbody>\n",
              "    <tr>\n",
              "      <th>duration</th>\n",
              "      <td>1.000000</td>\n",
              "    </tr>\n",
              "    <tr>\n",
              "      <th>fare_amount</th>\n",
              "      <td>0.888158</td>\n",
              "    </tr>\n",
              "    <tr>\n",
              "      <th>total_amount</th>\n",
              "      <td>0.860891</td>\n",
              "    </tr>\n",
              "    <tr>\n",
              "      <th>trip_distance</th>\n",
              "      <td>0.769640</td>\n",
              "    </tr>\n",
              "    <tr>\n",
              "      <th>dist</th>\n",
              "      <td>0.746093</td>\n",
              "    </tr>\n",
              "    <tr>\n",
              "      <th>longitude</th>\n",
              "      <td>0.664580</td>\n",
              "    </tr>\n",
              "    <tr>\n",
              "      <th>latitude</th>\n",
              "      <td>0.628793</td>\n",
              "    </tr>\n",
              "    <tr>\n",
              "      <th>tip_amount</th>\n",
              "      <td>0.493901</td>\n",
              "    </tr>\n",
              "    <tr>\n",
              "      <th>tolls_amount</th>\n",
              "      <td>0.434800</td>\n",
              "    </tr>\n",
              "    <tr>\n",
              "      <th>pickup_longitude</th>\n",
              "      <td>0.339413</td>\n",
              "    </tr>\n",
              "    <tr>\n",
              "      <th>dropoff_longitude</th>\n",
              "      <td>0.256501</td>\n",
              "    </tr>\n",
              "    <tr>\n",
              "      <th>dayofyear</th>\n",
              "      <td>0.040553</td>\n",
              "    </tr>\n",
              "    <tr>\n",
              "      <th>time_of_day</th>\n",
              "      <td>0.035102</td>\n",
              "    </tr>\n",
              "    <tr>\n",
              "      <th>passenger_count</th>\n",
              "      <td>0.015363</td>\n",
              "    </tr>\n",
              "    <tr>\n",
              "      <th>dayofmonth</th>\n",
              "      <td>-0.002526</td>\n",
              "    </tr>\n",
              "    <tr>\n",
              "      <th>extra</th>\n",
              "      <td>-0.045612</td>\n",
              "    </tr>\n",
              "    <tr>\n",
              "      <th>dropoff_latitude</th>\n",
              "      <td>-0.170694</td>\n",
              "    </tr>\n",
              "    <tr>\n",
              "      <th>pickup_latitude</th>\n",
              "      <td>-0.205959</td>\n",
              "    </tr>\n",
              "  </tbody>\n",
              "</table>\n",
              "</div>"
            ],
            "text/plain": [
              "                   duration\n",
              "duration           1.000000\n",
              "fare_amount        0.888158\n",
              "total_amount       0.860891\n",
              "trip_distance      0.769640\n",
              "dist               0.746093\n",
              "longitude          0.664580\n",
              "latitude           0.628793\n",
              "tip_amount         0.493901\n",
              "tolls_amount       0.434800\n",
              "pickup_longitude   0.339413\n",
              "dropoff_longitude  0.256501\n",
              "dayofyear          0.040553\n",
              "time_of_day        0.035102\n",
              "passenger_count    0.015363\n",
              "dayofmonth        -0.002526\n",
              "extra             -0.045612\n",
              "dropoff_latitude  -0.170694\n",
              "pickup_latitude   -0.205959"
            ]
          },
          "metadata": {
            "tags": []
          },
          "execution_count": 26
        }
      ]
    },
    {
      "cell_type": "code",
      "metadata": {
        "colab": {
          "base_uri": "https://localhost:8080/",
          "height": 634
        },
        "id": "qhYdVjwLNviP",
        "outputId": "b593bbdc-2553-4d28-9a04-f72e4ea3f28d"
      },
      "source": [
        "for x in range(corr_matrix.shape[0]):\n",
        "    corr_matrix.iloc[x,x] = 0.0\n",
        "    \n",
        "corr_matrix"
      ],
      "execution_count": 27,
      "outputs": [
        {
          "output_type": "execute_result",
          "data": {
            "text/html": [
              "<div>\n",
              "<style scoped>\n",
              "    .dataframe tbody tr th:only-of-type {\n",
              "        vertical-align: middle;\n",
              "    }\n",
              "\n",
              "    .dataframe tbody tr th {\n",
              "        vertical-align: top;\n",
              "    }\n",
              "\n",
              "    .dataframe thead th {\n",
              "        text-align: right;\n",
              "    }\n",
              "</style>\n",
              "<table border=\"1\" class=\"dataframe\">\n",
              "  <thead>\n",
              "    <tr style=\"text-align: right;\">\n",
              "      <th></th>\n",
              "      <th>passenger_count</th>\n",
              "      <th>trip_distance</th>\n",
              "      <th>pickup_longitude</th>\n",
              "      <th>pickup_latitude</th>\n",
              "      <th>dropoff_longitude</th>\n",
              "      <th>dropoff_latitude</th>\n",
              "      <th>fare_amount</th>\n",
              "      <th>extra</th>\n",
              "      <th>tip_amount</th>\n",
              "      <th>tolls_amount</th>\n",
              "      <th>total_amount</th>\n",
              "      <th>duration</th>\n",
              "      <th>time_of_day</th>\n",
              "      <th>dayofmonth</th>\n",
              "      <th>dayofyear</th>\n",
              "      <th>dist</th>\n",
              "      <th>longitude</th>\n",
              "      <th>latitude</th>\n",
              "    </tr>\n",
              "  </thead>\n",
              "  <tbody>\n",
              "    <tr>\n",
              "      <th>passenger_count</th>\n",
              "      <td>0.000000</td>\n",
              "      <td>0.014851</td>\n",
              "      <td>0.004079</td>\n",
              "      <td>-0.005532</td>\n",
              "      <td>0.000958</td>\n",
              "      <td>-0.002666</td>\n",
              "      <td>0.014525</td>\n",
              "      <td>0.002325</td>\n",
              "      <td>-0.006147</td>\n",
              "      <td>0.011870</td>\n",
              "      <td>0.011961</td>\n",
              "      <td>0.015363</td>\n",
              "      <td>0.009584</td>\n",
              "      <td>0.000086</td>\n",
              "      <td>-0.000766</td>\n",
              "      <td>0.011609</td>\n",
              "      <td>0.010313</td>\n",
              "      <td>0.009740</td>\n",
              "    </tr>\n",
              "    <tr>\n",
              "      <th>trip_distance</th>\n",
              "      <td>0.014851</td>\n",
              "      <td>0.000000</td>\n",
              "      <td>0.537816</td>\n",
              "      <td>-0.299000</td>\n",
              "      <td>0.437519</td>\n",
              "      <td>-0.183904</td>\n",
              "      <td>0.959887</td>\n",
              "      <td>-0.046980</td>\n",
              "      <td>0.550848</td>\n",
              "      <td>0.624418</td>\n",
              "      <td>0.949552</td>\n",
              "      <td>0.769640</td>\n",
              "      <td>-0.025022</td>\n",
              "      <td>-0.001235</td>\n",
              "      <td>0.016090</td>\n",
              "      <td>0.971902</td>\n",
              "      <td>0.897287</td>\n",
              "      <td>0.785555</td>\n",
              "    </tr>\n",
              "    <tr>\n",
              "      <th>pickup_longitude</th>\n",
              "      <td>0.004079</td>\n",
              "      <td>0.537816</td>\n",
              "      <td>0.000000</td>\n",
              "      <td>-0.100889</td>\n",
              "      <td>0.271521</td>\n",
              "      <td>0.044432</td>\n",
              "      <td>0.490951</td>\n",
              "      <td>-0.062136</td>\n",
              "      <td>0.260538</td>\n",
              "      <td>0.421789</td>\n",
              "      <td>0.490941</td>\n",
              "      <td>0.339413</td>\n",
              "      <td>0.022420</td>\n",
              "      <td>-0.001920</td>\n",
              "      <td>0.010544</td>\n",
              "      <td>0.535705</td>\n",
              "      <td>0.568769</td>\n",
              "      <td>0.315645</td>\n",
              "    </tr>\n",
              "    <tr>\n",
              "      <th>pickup_latitude</th>\n",
              "      <td>-0.005532</td>\n",
              "      <td>-0.299000</td>\n",
              "      <td>-0.100889</td>\n",
              "      <td>0.000000</td>\n",
              "      <td>0.059946</td>\n",
              "      <td>0.423634</td>\n",
              "      <td>-0.276161</td>\n",
              "      <td>-0.011583</td>\n",
              "      <td>-0.140450</td>\n",
              "      <td>-0.090297</td>\n",
              "      <td>-0.261395</td>\n",
              "      <td>-0.205959</td>\n",
              "      <td>0.018919</td>\n",
              "      <td>-0.000565</td>\n",
              "      <td>-0.004071</td>\n",
              "      <td>-0.297580</td>\n",
              "      <td>-0.279331</td>\n",
              "      <td>-0.252369</td>\n",
              "    </tr>\n",
              "    <tr>\n",
              "      <th>dropoff_longitude</th>\n",
              "      <td>0.000958</td>\n",
              "      <td>0.437519</td>\n",
              "      <td>0.271521</td>\n",
              "      <td>0.059946</td>\n",
              "      <td>0.000000</td>\n",
              "      <td>0.128153</td>\n",
              "      <td>0.400861</td>\n",
              "      <td>-0.011830</td>\n",
              "      <td>0.203279</td>\n",
              "      <td>0.301938</td>\n",
              "      <td>0.395922</td>\n",
              "      <td>0.256501</td>\n",
              "      <td>-0.057515</td>\n",
              "      <td>-0.001491</td>\n",
              "      <td>0.006594</td>\n",
              "      <td>0.454038</td>\n",
              "      <td>0.474455</td>\n",
              "      <td>0.276422</td>\n",
              "    </tr>\n",
              "    <tr>\n",
              "      <th>dropoff_latitude</th>\n",
              "      <td>-0.002666</td>\n",
              "      <td>-0.183904</td>\n",
              "      <td>0.044432</td>\n",
              "      <td>0.423634</td>\n",
              "      <td>0.128153</td>\n",
              "      <td>0.000000</td>\n",
              "      <td>-0.189522</td>\n",
              "      <td>-0.006796</td>\n",
              "      <td>-0.126961</td>\n",
              "      <td>-0.047900</td>\n",
              "      <td>-0.183718</td>\n",
              "      <td>-0.170694</td>\n",
              "      <td>0.020630</td>\n",
              "      <td>-0.001095</td>\n",
              "      <td>-0.001256</td>\n",
              "      <td>-0.163558</td>\n",
              "      <td>-0.146384</td>\n",
              "      <td>-0.124221</td>\n",
              "    </tr>\n",
              "    <tr>\n",
              "      <th>fare_amount</th>\n",
              "      <td>0.014525</td>\n",
              "      <td>0.959887</td>\n",
              "      <td>0.490951</td>\n",
              "      <td>-0.276161</td>\n",
              "      <td>0.400861</td>\n",
              "      <td>-0.189522</td>\n",
              "      <td>0.000000</td>\n",
              "      <td>-0.056312</td>\n",
              "      <td>0.565932</td>\n",
              "      <td>0.595955</td>\n",
              "      <td>0.981909</td>\n",
              "      <td>0.888158</td>\n",
              "      <td>-0.007772</td>\n",
              "      <td>-0.001301</td>\n",
              "      <td>0.028314</td>\n",
              "      <td>0.935507</td>\n",
              "      <td>0.856849</td>\n",
              "      <td>0.761598</td>\n",
              "    </tr>\n",
              "    <tr>\n",
              "      <th>extra</th>\n",
              "      <td>0.002325</td>\n",
              "      <td>-0.046980</td>\n",
              "      <td>-0.062136</td>\n",
              "      <td>-0.011583</td>\n",
              "      <td>-0.011830</td>\n",
              "      <td>-0.006796</td>\n",
              "      <td>-0.056312</td>\n",
              "      <td>0.000000</td>\n",
              "      <td>-0.006460</td>\n",
              "      <td>-0.067335</td>\n",
              "      <td>-0.022894</td>\n",
              "      <td>-0.045612</td>\n",
              "      <td>0.319875</td>\n",
              "      <td>0.001579</td>\n",
              "      <td>-0.001511</td>\n",
              "      <td>-0.048332</td>\n",
              "      <td>-0.064496</td>\n",
              "      <td>-0.018213</td>\n",
              "    </tr>\n",
              "    <tr>\n",
              "      <th>tip_amount</th>\n",
              "      <td>-0.006147</td>\n",
              "      <td>0.550848</td>\n",
              "      <td>0.260538</td>\n",
              "      <td>-0.140450</td>\n",
              "      <td>0.203279</td>\n",
              "      <td>-0.126961</td>\n",
              "      <td>0.565932</td>\n",
              "      <td>-0.006460</td>\n",
              "      <td>0.000000</td>\n",
              "      <td>0.427990</td>\n",
              "      <td>0.694852</td>\n",
              "      <td>0.493901</td>\n",
              "      <td>0.014060</td>\n",
              "      <td>-0.002856</td>\n",
              "      <td>0.016551</td>\n",
              "      <td>0.536724</td>\n",
              "      <td>0.508263</td>\n",
              "      <td>0.400876</td>\n",
              "    </tr>\n",
              "    <tr>\n",
              "      <th>tolls_amount</th>\n",
              "      <td>0.011870</td>\n",
              "      <td>0.624418</td>\n",
              "      <td>0.421789</td>\n",
              "      <td>-0.090297</td>\n",
              "      <td>0.301938</td>\n",
              "      <td>-0.047900</td>\n",
              "      <td>0.595955</td>\n",
              "      <td>-0.067335</td>\n",
              "      <td>0.427990</td>\n",
              "      <td>0.000000</td>\n",
              "      <td>0.667389</td>\n",
              "      <td>0.434800</td>\n",
              "      <td>0.002165</td>\n",
              "      <td>-0.002705</td>\n",
              "      <td>0.015614</td>\n",
              "      <td>0.606061</td>\n",
              "      <td>0.648121</td>\n",
              "      <td>0.313895</td>\n",
              "    </tr>\n",
              "    <tr>\n",
              "      <th>total_amount</th>\n",
              "      <td>0.011961</td>\n",
              "      <td>0.949552</td>\n",
              "      <td>0.490941</td>\n",
              "      <td>-0.261395</td>\n",
              "      <td>0.395922</td>\n",
              "      <td>-0.183718</td>\n",
              "      <td>0.981909</td>\n",
              "      <td>-0.022894</td>\n",
              "      <td>0.694852</td>\n",
              "      <td>0.667389</td>\n",
              "      <td>0.000000</td>\n",
              "      <td>0.860891</td>\n",
              "      <td>0.006515</td>\n",
              "      <td>-0.001830</td>\n",
              "      <td>0.027775</td>\n",
              "      <td>0.925074</td>\n",
              "      <td>0.859355</td>\n",
              "      <td>0.728530</td>\n",
              "    </tr>\n",
              "    <tr>\n",
              "      <th>duration</th>\n",
              "      <td>0.015363</td>\n",
              "      <td>0.769640</td>\n",
              "      <td>0.339413</td>\n",
              "      <td>-0.205959</td>\n",
              "      <td>0.256501</td>\n",
              "      <td>-0.170694</td>\n",
              "      <td>0.888158</td>\n",
              "      <td>-0.045612</td>\n",
              "      <td>0.493901</td>\n",
              "      <td>0.434800</td>\n",
              "      <td>0.860891</td>\n",
              "      <td>0.000000</td>\n",
              "      <td>0.035102</td>\n",
              "      <td>-0.002526</td>\n",
              "      <td>0.040553</td>\n",
              "      <td>0.746093</td>\n",
              "      <td>0.664580</td>\n",
              "      <td>0.628793</td>\n",
              "    </tr>\n",
              "    <tr>\n",
              "      <th>time_of_day</th>\n",
              "      <td>0.009584</td>\n",
              "      <td>-0.025022</td>\n",
              "      <td>0.022420</td>\n",
              "      <td>0.018919</td>\n",
              "      <td>-0.057515</td>\n",
              "      <td>0.020630</td>\n",
              "      <td>-0.007772</td>\n",
              "      <td>0.319875</td>\n",
              "      <td>0.014060</td>\n",
              "      <td>0.002165</td>\n",
              "      <td>0.006515</td>\n",
              "      <td>0.035102</td>\n",
              "      <td>0.000000</td>\n",
              "      <td>0.002525</td>\n",
              "      <td>-0.001892</td>\n",
              "      <td>-0.026344</td>\n",
              "      <td>-0.025223</td>\n",
              "      <td>-0.018793</td>\n",
              "    </tr>\n",
              "    <tr>\n",
              "      <th>dayofmonth</th>\n",
              "      <td>0.000086</td>\n",
              "      <td>-0.001235</td>\n",
              "      <td>-0.001920</td>\n",
              "      <td>-0.000565</td>\n",
              "      <td>-0.001491</td>\n",
              "      <td>-0.001095</td>\n",
              "      <td>-0.001301</td>\n",
              "      <td>0.001579</td>\n",
              "      <td>-0.002856</td>\n",
              "      <td>-0.002705</td>\n",
              "      <td>-0.001830</td>\n",
              "      <td>-0.002526</td>\n",
              "      <td>0.002525</td>\n",
              "      <td>0.000000</td>\n",
              "      <td>0.063000</td>\n",
              "      <td>-0.000978</td>\n",
              "      <td>-0.001564</td>\n",
              "      <td>0.000544</td>\n",
              "    </tr>\n",
              "    <tr>\n",
              "      <th>dayofyear</th>\n",
              "      <td>-0.000766</td>\n",
              "      <td>0.016090</td>\n",
              "      <td>0.010544</td>\n",
              "      <td>-0.004071</td>\n",
              "      <td>0.006594</td>\n",
              "      <td>-0.001256</td>\n",
              "      <td>0.028314</td>\n",
              "      <td>-0.001511</td>\n",
              "      <td>0.016551</td>\n",
              "      <td>0.015614</td>\n",
              "      <td>0.027775</td>\n",
              "      <td>0.040553</td>\n",
              "      <td>-0.001892</td>\n",
              "      <td>0.063000</td>\n",
              "      <td>0.000000</td>\n",
              "      <td>0.016236</td>\n",
              "      <td>0.015562</td>\n",
              "      <td>0.012607</td>\n",
              "    </tr>\n",
              "    <tr>\n",
              "      <th>dist</th>\n",
              "      <td>0.011609</td>\n",
              "      <td>0.971902</td>\n",
              "      <td>0.535705</td>\n",
              "      <td>-0.297580</td>\n",
              "      <td>0.454038</td>\n",
              "      <td>-0.163558</td>\n",
              "      <td>0.935507</td>\n",
              "      <td>-0.048332</td>\n",
              "      <td>0.536724</td>\n",
              "      <td>0.606061</td>\n",
              "      <td>0.925074</td>\n",
              "      <td>0.746093</td>\n",
              "      <td>-0.026344</td>\n",
              "      <td>-0.000978</td>\n",
              "      <td>0.016236</td>\n",
              "      <td>0.000000</td>\n",
              "      <td>0.937131</td>\n",
              "      <td>0.797953</td>\n",
              "    </tr>\n",
              "    <tr>\n",
              "      <th>longitude</th>\n",
              "      <td>0.010313</td>\n",
              "      <td>0.897287</td>\n",
              "      <td>0.568769</td>\n",
              "      <td>-0.279331</td>\n",
              "      <td>0.474455</td>\n",
              "      <td>-0.146384</td>\n",
              "      <td>0.856849</td>\n",
              "      <td>-0.064496</td>\n",
              "      <td>0.508263</td>\n",
              "      <td>0.648121</td>\n",
              "      <td>0.859355</td>\n",
              "      <td>0.664580</td>\n",
              "      <td>-0.025223</td>\n",
              "      <td>-0.001564</td>\n",
              "      <td>0.015562</td>\n",
              "      <td>0.937131</td>\n",
              "      <td>0.000000</td>\n",
              "      <td>0.556809</td>\n",
              "    </tr>\n",
              "    <tr>\n",
              "      <th>latitude</th>\n",
              "      <td>0.009740</td>\n",
              "      <td>0.785555</td>\n",
              "      <td>0.315645</td>\n",
              "      <td>-0.252369</td>\n",
              "      <td>0.276422</td>\n",
              "      <td>-0.124221</td>\n",
              "      <td>0.761598</td>\n",
              "      <td>-0.018213</td>\n",
              "      <td>0.400876</td>\n",
              "      <td>0.313895</td>\n",
              "      <td>0.728530</td>\n",
              "      <td>0.628793</td>\n",
              "      <td>-0.018793</td>\n",
              "      <td>0.000544</td>\n",
              "      <td>0.012607</td>\n",
              "      <td>0.797953</td>\n",
              "      <td>0.556809</td>\n",
              "      <td>0.000000</td>\n",
              "    </tr>\n",
              "  </tbody>\n",
              "</table>\n",
              "</div>"
            ],
            "text/plain": [
              "                   passenger_count  trip_distance  ...  longitude  latitude\n",
              "passenger_count           0.000000       0.014851  ...   0.010313  0.009740\n",
              "trip_distance             0.014851       0.000000  ...   0.897287  0.785555\n",
              "pickup_longitude          0.004079       0.537816  ...   0.568769  0.315645\n",
              "pickup_latitude          -0.005532      -0.299000  ...  -0.279331 -0.252369\n",
              "dropoff_longitude         0.000958       0.437519  ...   0.474455  0.276422\n",
              "dropoff_latitude         -0.002666      -0.183904  ...  -0.146384 -0.124221\n",
              "fare_amount               0.014525       0.959887  ...   0.856849  0.761598\n",
              "extra                     0.002325      -0.046980  ...  -0.064496 -0.018213\n",
              "tip_amount               -0.006147       0.550848  ...   0.508263  0.400876\n",
              "tolls_amount              0.011870       0.624418  ...   0.648121  0.313895\n",
              "total_amount              0.011961       0.949552  ...   0.859355  0.728530\n",
              "duration                  0.015363       0.769640  ...   0.664580  0.628793\n",
              "time_of_day               0.009584      -0.025022  ...  -0.025223 -0.018793\n",
              "dayofmonth                0.000086      -0.001235  ...  -0.001564  0.000544\n",
              "dayofyear                -0.000766       0.016090  ...   0.015562  0.012607\n",
              "dist                      0.011609       0.971902  ...   0.937131  0.797953\n",
              "longitude                 0.010313       0.897287  ...   0.000000  0.556809\n",
              "latitude                  0.009740       0.785555  ...   0.556809  0.000000\n",
              "\n",
              "[18 rows x 18 columns]"
            ]
          },
          "metadata": {
            "tags": []
          },
          "execution_count": 27
        }
      ]
    },
    {
      "cell_type": "code",
      "metadata": {
        "colab": {
          "base_uri": "https://localhost:8080/"
        },
        "id": "3Kc5yFytN7FU",
        "outputId": "85403200-ca64-4eda-e025-8472781b93a2"
      },
      "source": [
        "corr_matrix.abs().idxmax()"
      ],
      "execution_count": 28,
      "outputs": [
        {
          "output_type": "execute_result",
          "data": {
            "text/plain": [
              "passenger_count              duration\n",
              "trip_distance                    dist\n",
              "pickup_longitude            longitude\n",
              "pickup_latitude      dropoff_latitude\n",
              "dropoff_longitude           longitude\n",
              "dropoff_latitude      pickup_latitude\n",
              "fare_amount              total_amount\n",
              "extra                     time_of_day\n",
              "tip_amount               total_amount\n",
              "tolls_amount             total_amount\n",
              "total_amount              fare_amount\n",
              "duration                  fare_amount\n",
              "time_of_day                     extra\n",
              "dayofmonth                  dayofyear\n",
              "dayofyear                  dayofmonth\n",
              "dist                    trip_distance\n",
              "longitude                        dist\n",
              "latitude                         dist\n",
              "dtype: object"
            ]
          },
          "metadata": {
            "tags": []
          },
          "execution_count": 28
        }
      ]
    },
    {
      "cell_type": "code",
      "metadata": {
        "colab": {
          "base_uri": "https://localhost:8080/",
          "height": 320
        },
        "id": "y8G-R-4VVx8-",
        "outputId": "21b134fc-2d6f-47f2-d2c8-f23229393e8f"
      },
      "source": [
        "df.describe()"
      ],
      "execution_count": 29,
      "outputs": [
        {
          "output_type": "execute_result",
          "data": {
            "text/html": [
              "<div>\n",
              "<style scoped>\n",
              "    .dataframe tbody tr th:only-of-type {\n",
              "        vertical-align: middle;\n",
              "    }\n",
              "\n",
              "    .dataframe tbody tr th {\n",
              "        vertical-align: top;\n",
              "    }\n",
              "\n",
              "    .dataframe thead th {\n",
              "        text-align: right;\n",
              "    }\n",
              "</style>\n",
              "<table border=\"1\" class=\"dataframe\">\n",
              "  <thead>\n",
              "    <tr style=\"text-align: right;\">\n",
              "      <th></th>\n",
              "      <th>passenger_count</th>\n",
              "      <th>trip_distance</th>\n",
              "      <th>pickup_longitude</th>\n",
              "      <th>pickup_latitude</th>\n",
              "      <th>dropoff_longitude</th>\n",
              "      <th>dropoff_latitude</th>\n",
              "      <th>fare_amount</th>\n",
              "      <th>extra</th>\n",
              "      <th>tip_amount</th>\n",
              "      <th>tolls_amount</th>\n",
              "      <th>total_amount</th>\n",
              "      <th>duration</th>\n",
              "      <th>time_of_day</th>\n",
              "      <th>dayofmonth</th>\n",
              "      <th>dayofyear</th>\n",
              "      <th>dist</th>\n",
              "      <th>longitude</th>\n",
              "      <th>latitude</th>\n",
              "    </tr>\n",
              "  </thead>\n",
              "  <tbody>\n",
              "    <tr>\n",
              "      <th>count</th>\n",
              "      <td>2.811182e+06</td>\n",
              "      <td>2.811182e+06</td>\n",
              "      <td>2.811182e+06</td>\n",
              "      <td>2.811182e+06</td>\n",
              "      <td>2.811182e+06</td>\n",
              "      <td>2.811182e+06</td>\n",
              "      <td>2.811182e+06</td>\n",
              "      <td>2.811182e+06</td>\n",
              "      <td>2.811182e+06</td>\n",
              "      <td>2.811182e+06</td>\n",
              "      <td>2.811182e+06</td>\n",
              "      <td>2.811182e+06</td>\n",
              "      <td>2.811182e+06</td>\n",
              "      <td>2.811182e+06</td>\n",
              "      <td>2.811182e+06</td>\n",
              "      <td>2.811182e+06</td>\n",
              "      <td>2.811182e+06</td>\n",
              "      <td>2.811182e+06</td>\n",
              "    </tr>\n",
              "    <tr>\n",
              "      <th>mean</th>\n",
              "      <td>1.688307e+00</td>\n",
              "      <td>2.894729e+00</td>\n",
              "      <td>-7.397441e+01</td>\n",
              "      <td>4.075099e+01</td>\n",
              "      <td>-7.397358e+01</td>\n",
              "      <td>4.075167e+01</td>\n",
              "      <td>1.252901e+01</td>\n",
              "      <td>3.168561e-01</td>\n",
              "      <td>1.656223e+00</td>\n",
              "      <td>2.627318e-01</td>\n",
              "      <td>1.556483e+01</td>\n",
              "      <td>1.373390e+01</td>\n",
              "      <td>1.355762e+01</td>\n",
              "      <td>1.569921e+01</td>\n",
              "      <td>1.780464e+02</td>\n",
              "      <td>3.468955e-02</td>\n",
              "      <td>2.353565e-02</td>\n",
              "      <td>2.134464e-02</td>\n",
              "    </tr>\n",
              "    <tr>\n",
              "      <th>std</th>\n",
              "      <td>1.341573e+00</td>\n",
              "      <td>3.368760e+00</td>\n",
              "      <td>3.630811e-02</td>\n",
              "      <td>2.723918e-02</td>\n",
              "      <td>3.319511e-02</td>\n",
              "      <td>3.126977e-02</td>\n",
              "      <td>9.477949e+00</td>\n",
              "      <td>3.619762e-01</td>\n",
              "      <td>2.207920e+00</td>\n",
              "      <td>1.190760e+00</td>\n",
              "      <td>1.162708e+01</td>\n",
              "      <td>9.917867e+00</td>\n",
              "      <td>6.476197e+00</td>\n",
              "      <td>8.675092e+00</td>\n",
              "      <td>1.046562e+02</td>\n",
              "      <td>3.951670e-02</td>\n",
              "      <td>3.482014e-02</td>\n",
              "      <td>2.330176e-02</td>\n",
              "    </tr>\n",
              "    <tr>\n",
              "      <th>min</th>\n",
              "      <td>1.000000e+00</td>\n",
              "      <td>1.000000e-02</td>\n",
              "      <td>-7.419228e+01</td>\n",
              "      <td>4.057098e+01</td>\n",
              "      <td>-7.419228e+01</td>\n",
              "      <td>4.056189e+01</td>\n",
              "      <td>1.000000e-02</td>\n",
              "      <td>0.000000e+00</td>\n",
              "      <td>0.000000e+00</td>\n",
              "      <td>0.000000e+00</td>\n",
              "      <td>8.100000e-01</td>\n",
              "      <td>1.016667e+00</td>\n",
              "      <td>0.000000e+00</td>\n",
              "      <td>1.000000e+00</td>\n",
              "      <td>1.000000e+00</td>\n",
              "      <td>0.000000e+00</td>\n",
              "      <td>0.000000e+00</td>\n",
              "      <td>0.000000e+00</td>\n",
              "    </tr>\n",
              "    <tr>\n",
              "      <th>25%</th>\n",
              "      <td>1.000000e+00</td>\n",
              "      <td>1.020000e+00</td>\n",
              "      <td>-7.399207e+01</td>\n",
              "      <td>4.073722e+01</td>\n",
              "      <td>-7.399138e+01</td>\n",
              "      <td>4.073590e+01</td>\n",
              "      <td>6.500000e+00</td>\n",
              "      <td>0.000000e+00</td>\n",
              "      <td>0.000000e+00</td>\n",
              "      <td>0.000000e+00</td>\n",
              "      <td>8.750000e+00</td>\n",
              "      <td>6.716667e+00</td>\n",
              "      <td>9.000000e+00</td>\n",
              "      <td>8.000000e+00</td>\n",
              "      <td>8.700000e+01</td>\n",
              "      <td>1.289214e-02</td>\n",
              "      <td>6.370544e-03</td>\n",
              "      <td>7.045746e-03</td>\n",
              "    </tr>\n",
              "    <tr>\n",
              "      <th>50%</th>\n",
              "      <td>1.000000e+00</td>\n",
              "      <td>1.720000e+00</td>\n",
              "      <td>-7.398198e+01</td>\n",
              "      <td>4.075372e+01</td>\n",
              "      <td>-7.398005e+01</td>\n",
              "      <td>4.075419e+01</td>\n",
              "      <td>9.500000e+00</td>\n",
              "      <td>0.000000e+00</td>\n",
              "      <td>1.160000e+00</td>\n",
              "      <td>0.000000e+00</td>\n",
              "      <td>1.180000e+01</td>\n",
              "      <td>1.110000e+01</td>\n",
              "      <td>1.400000e+01</td>\n",
              "      <td>1.600000e+01</td>\n",
              "      <td>1.720000e+02</td>\n",
              "      <td>2.161374e-02</td>\n",
              "      <td>1.280212e-02</td>\n",
              "      <td>1.398849e-02</td>\n",
              "    </tr>\n",
              "    <tr>\n",
              "      <th>75%</th>\n",
              "      <td>2.000000e+00</td>\n",
              "      <td>3.200000e+00</td>\n",
              "      <td>-7.396791e+01</td>\n",
              "      <td>4.076805e+01</td>\n",
              "      <td>-7.396358e+01</td>\n",
              "      <td>4.076916e+01</td>\n",
              "      <td>1.450000e+01</td>\n",
              "      <td>5.000000e-01</td>\n",
              "      <td>2.300000e+00</td>\n",
              "      <td>0.000000e+00</td>\n",
              "      <td>1.776000e+01</td>\n",
              "      <td>1.783333e+01</td>\n",
              "      <td>1.900000e+01</td>\n",
              "      <td>2.300000e+01</td>\n",
              "      <td>2.700000e+02</td>\n",
              "      <td>3.866529e-02</td>\n",
              "      <td>2.423096e-02</td>\n",
              "      <td>2.680206e-02</td>\n",
              "    </tr>\n",
              "    <tr>\n",
              "      <th>max</th>\n",
              "      <td>9.000000e+00</td>\n",
              "      <td>4.080000e+01</td>\n",
              "      <td>-7.363151e+01</td>\n",
              "      <td>4.096010e+01</td>\n",
              "      <td>-7.359824e+01</td>\n",
              "      <td>4.096333e+01</td>\n",
              "      <td>1.000000e+02</td>\n",
              "      <td>7.000000e+00</td>\n",
              "      <td>1.100000e+02</td>\n",
              "      <td>2.000000e+01</td>\n",
              "      <td>1.200000e+02</td>\n",
              "      <td>6.500000e+01</td>\n",
              "      <td>2.300000e+01</td>\n",
              "      <td>3.100000e+01</td>\n",
              "      <td>3.650000e+02</td>\n",
              "      <td>4.054989e-01</td>\n",
              "      <td>4.014664e-01</td>\n",
              "      <td>3.080673e-01</td>\n",
              "    </tr>\n",
              "  </tbody>\n",
              "</table>\n",
              "</div>"
            ],
            "text/plain": [
              "       passenger_count  trip_distance  ...     longitude      latitude\n",
              "count     2.811182e+06   2.811182e+06  ...  2.811182e+06  2.811182e+06\n",
              "mean      1.688307e+00   2.894729e+00  ...  2.353565e-02  2.134464e-02\n",
              "std       1.341573e+00   3.368760e+00  ...  3.482014e-02  2.330176e-02\n",
              "min       1.000000e+00   1.000000e-02  ...  0.000000e+00  0.000000e+00\n",
              "25%       1.000000e+00   1.020000e+00  ...  6.370544e-03  7.045746e-03\n",
              "50%       1.000000e+00   1.720000e+00  ...  1.280212e-02  1.398849e-02\n",
              "75%       2.000000e+00   3.200000e+00  ...  2.423096e-02  2.680206e-02\n",
              "max       9.000000e+00   4.080000e+01  ...  4.014664e-01  3.080673e-01\n",
              "\n",
              "[8 rows x 18 columns]"
            ]
          },
          "metadata": {
            "tags": []
          },
          "execution_count": 29
        }
      ]
    },
    {
      "cell_type": "code",
      "metadata": {
        "colab": {
          "base_uri": "https://localhost:8080/"
        },
        "id": "SDxp-N0g0EIr",
        "outputId": "9f83fdcd-bfc8-4384-d70e-97c08bb4c136"
      },
      "source": [
        "df.shape"
      ],
      "execution_count": 30,
      "outputs": [
        {
          "output_type": "execute_result",
          "data": {
            "text/plain": [
              "(2811182, 25)"
            ]
          },
          "metadata": {
            "tags": []
          },
          "execution_count": 30
        }
      ]
    },
    {
      "cell_type": "markdown",
      "metadata": {
        "id": "dq712Zl576tw"
      },
      "source": [
        "## Choose target and feature variables/columns"
      ]
    },
    {
      "cell_type": "code",
      "metadata": {
        "id": "38jkQ-CafeP0",
        "colab": {
          "base_uri": "https://localhost:8080/"
        },
        "outputId": "11922b17-c605-4f6c-e4a1-1343bc5a92c8"
      },
      "source": [
        "# Extract features base on above correlation\n",
        "label = ['duration']\n",
        "features = ['longitude', 'latitude', 'dist', 'trip_distance',\n",
        "            'time_of_day', 'day_of_week', 'passenger_count',\n",
        "            'dayofmonth', 'dayofyear']\n",
        "features"
      ],
      "execution_count": 31,
      "outputs": [
        {
          "output_type": "execute_result",
          "data": {
            "text/plain": [
              "['longitude',\n",
              " 'latitude',\n",
              " 'dist',\n",
              " 'trip_distance',\n",
              " 'time_of_day',\n",
              " 'day_of_week',\n",
              " 'passenger_count',\n",
              " 'dayofmonth',\n",
              " 'dayofyear']"
            ]
          },
          "metadata": {
            "tags": []
          },
          "execution_count": 31
        }
      ]
    },
    {
      "cell_type": "markdown",
      "metadata": {
        "id": "39G6aIuG983Z"
      },
      "source": [
        "# General sklearn imports"
      ]
    },
    {
      "cell_type": "code",
      "metadata": {
        "id": "yRVCd0Lt-Cse"
      },
      "source": [
        "from sklearn import set_config\n",
        "set_config(display=\"diagram\")\n",
        "from sklearn.metrics import r2_score, mean_squared_error\n",
        "from sklearn.model_selection import train_test_split\n",
        "from sklearn.preprocessing import StandardScaler, OrdinalEncoder, OneHotEncoder, PolynomialFeatures, MinMaxScaler"
      ],
      "execution_count": 32,
      "outputs": []
    },
    {
      "cell_type": "markdown",
      "metadata": {
        "id": "i7VKgvfE73Iy"
      },
      "source": [
        "# Train, Val, Split"
      ]
    },
    {
      "cell_type": "code",
      "metadata": {
        "colab": {
          "base_uri": "https://localhost:8080/"
        },
        "id": "twZvyR-Vrh3x",
        "outputId": "84ffc9cd-36b6-42bd-df80-9dd94845342a"
      },
      "source": [
        "len(features)"
      ],
      "execution_count": 33,
      "outputs": [
        {
          "output_type": "execute_result",
          "data": {
            "text/plain": [
              "9"
            ]
          },
          "metadata": {
            "tags": []
          },
          "execution_count": 33
        }
      ]
    },
    {
      "cell_type": "code",
      "metadata": {
        "id": "QMBR2m0JnTBy"
      },
      "source": [
        "y = df[label]\n",
        "X = df[features]"
      ],
      "execution_count": 34,
      "outputs": []
    },
    {
      "cell_type": "code",
      "metadata": {
        "colab": {
          "base_uri": "https://localhost:8080/",
          "height": 206
        },
        "id": "5xiGzvPBngI2",
        "outputId": "0656d146-d252-4bc3-a6f5-35c96a25bb87"
      },
      "source": [
        "X.head()"
      ],
      "execution_count": 35,
      "outputs": [
        {
          "output_type": "execute_result",
          "data": {
            "text/html": [
              "<div>\n",
              "<style scoped>\n",
              "    .dataframe tbody tr th:only-of-type {\n",
              "        vertical-align: middle;\n",
              "    }\n",
              "\n",
              "    .dataframe tbody tr th {\n",
              "        vertical-align: top;\n",
              "    }\n",
              "\n",
              "    .dataframe thead th {\n",
              "        text-align: right;\n",
              "    }\n",
              "</style>\n",
              "<table border=\"1\" class=\"dataframe\">\n",
              "  <thead>\n",
              "    <tr style=\"text-align: right;\">\n",
              "      <th></th>\n",
              "      <th>longitude</th>\n",
              "      <th>latitude</th>\n",
              "      <th>dist</th>\n",
              "      <th>trip_distance</th>\n",
              "      <th>time_of_day</th>\n",
              "      <th>day_of_week</th>\n",
              "      <th>passenger_count</th>\n",
              "      <th>dayofmonth</th>\n",
              "      <th>dayofyear</th>\n",
              "    </tr>\n",
              "  </thead>\n",
              "  <tbody>\n",
              "    <tr>\n",
              "      <th>0</th>\n",
              "      <td>0.056595</td>\n",
              "      <td>0.058891</td>\n",
              "      <td>0.081677</td>\n",
              "      <td>5.68</td>\n",
              "      <td>0</td>\n",
              "      <td>Thursday</td>\n",
              "      <td>2</td>\n",
              "      <td>1</td>\n",
              "      <td>274</td>\n",
              "    </tr>\n",
              "    <tr>\n",
              "      <th>1</th>\n",
              "      <td>0.056595</td>\n",
              "      <td>0.057102</td>\n",
              "      <td>0.080397</td>\n",
              "      <td>7.13</td>\n",
              "      <td>0</td>\n",
              "      <td>Thursday</td>\n",
              "      <td>5</td>\n",
              "      <td>1</td>\n",
              "      <td>274</td>\n",
              "    </tr>\n",
              "    <tr>\n",
              "      <th>2</th>\n",
              "      <td>0.023666</td>\n",
              "      <td>0.005478</td>\n",
              "      <td>0.024292</td>\n",
              "      <td>1.72</td>\n",
              "      <td>0</td>\n",
              "      <td>Thursday</td>\n",
              "      <td>2</td>\n",
              "      <td>1</td>\n",
              "      <td>274</td>\n",
              "    </tr>\n",
              "    <tr>\n",
              "      <th>3</th>\n",
              "      <td>0.001450</td>\n",
              "      <td>0.008198</td>\n",
              "      <td>0.008325</td>\n",
              "      <td>1.06</td>\n",
              "      <td>0</td>\n",
              "      <td>Thursday</td>\n",
              "      <td>1</td>\n",
              "      <td>1</td>\n",
              "      <td>274</td>\n",
              "    </tr>\n",
              "    <tr>\n",
              "      <th>4</th>\n",
              "      <td>0.012650</td>\n",
              "      <td>0.001480</td>\n",
              "      <td>0.012736</td>\n",
              "      <td>1.07</td>\n",
              "      <td>10</td>\n",
              "      <td>Wednesday</td>\n",
              "      <td>6</td>\n",
              "      <td>14</td>\n",
              "      <td>287</td>\n",
              "    </tr>\n",
              "  </tbody>\n",
              "</table>\n",
              "</div>"
            ],
            "text/plain": [
              "   longitude  latitude      dist  ...  passenger_count  dayofmonth dayofyear\n",
              "0   0.056595  0.058891  0.081677  ...                2           1       274\n",
              "1   0.056595  0.057102  0.080397  ...                5           1       274\n",
              "2   0.023666  0.005478  0.024292  ...                2           1       274\n",
              "3   0.001450  0.008198  0.008325  ...                1           1       274\n",
              "4   0.012650  0.001480  0.012736  ...                6          14       287\n",
              "\n",
              "[5 rows x 9 columns]"
            ]
          },
          "metadata": {
            "tags": []
          },
          "execution_count": 35
        }
      ]
    },
    {
      "cell_type": "code",
      "metadata": {
        "colab": {
          "base_uri": "https://localhost:8080/",
          "height": 206
        },
        "id": "vWCLcYtRHtBN",
        "outputId": "d0952a3f-691a-4ee8-b3b5-cd68ccd8f039"
      },
      "source": [
        "X.tail()"
      ],
      "execution_count": 36,
      "outputs": [
        {
          "output_type": "execute_result",
          "data": {
            "text/html": [
              "<div>\n",
              "<style scoped>\n",
              "    .dataframe tbody tr th:only-of-type {\n",
              "        vertical-align: middle;\n",
              "    }\n",
              "\n",
              "    .dataframe tbody tr th {\n",
              "        vertical-align: top;\n",
              "    }\n",
              "\n",
              "    .dataframe thead th {\n",
              "        text-align: right;\n",
              "    }\n",
              "</style>\n",
              "<table border=\"1\" class=\"dataframe\">\n",
              "  <thead>\n",
              "    <tr style=\"text-align: right;\">\n",
              "      <th></th>\n",
              "      <th>longitude</th>\n",
              "      <th>latitude</th>\n",
              "      <th>dist</th>\n",
              "      <th>trip_distance</th>\n",
              "      <th>time_of_day</th>\n",
              "      <th>day_of_week</th>\n",
              "      <th>passenger_count</th>\n",
              "      <th>dayofmonth</th>\n",
              "      <th>dayofyear</th>\n",
              "    </tr>\n",
              "  </thead>\n",
              "  <tbody>\n",
              "    <tr>\n",
              "      <th>2823890</th>\n",
              "      <td>0.007011</td>\n",
              "      <td>0.003113</td>\n",
              "      <td>0.007671</td>\n",
              "      <td>2.34</td>\n",
              "      <td>12</td>\n",
              "      <td>Saturday</td>\n",
              "      <td>1</td>\n",
              "      <td>2</td>\n",
              "      <td>122</td>\n",
              "    </tr>\n",
              "    <tr>\n",
              "      <th>2823891</th>\n",
              "      <td>0.006577</td>\n",
              "      <td>0.001022</td>\n",
              "      <td>0.006656</td>\n",
              "      <td>1.65</td>\n",
              "      <td>23</td>\n",
              "      <td>Sunday</td>\n",
              "      <td>2</td>\n",
              "      <td>10</td>\n",
              "      <td>130</td>\n",
              "    </tr>\n",
              "    <tr>\n",
              "      <th>2823892</th>\n",
              "      <td>0.004700</td>\n",
              "      <td>0.018711</td>\n",
              "      <td>0.019292</td>\n",
              "      <td>1.78</td>\n",
              "      <td>10</td>\n",
              "      <td>Saturday</td>\n",
              "      <td>2</td>\n",
              "      <td>2</td>\n",
              "      <td>122</td>\n",
              "    </tr>\n",
              "    <tr>\n",
              "      <th>2823893</th>\n",
              "      <td>0.018097</td>\n",
              "      <td>0.000603</td>\n",
              "      <td>0.018107</td>\n",
              "      <td>1.30</td>\n",
              "      <td>15</td>\n",
              "      <td>Friday</td>\n",
              "      <td>2</td>\n",
              "      <td>8</td>\n",
              "      <td>128</td>\n",
              "    </tr>\n",
              "    <tr>\n",
              "      <th>2823894</th>\n",
              "      <td>0.019424</td>\n",
              "      <td>0.022137</td>\n",
              "      <td>0.029451</td>\n",
              "      <td>2.23</td>\n",
              "      <td>19</td>\n",
              "      <td>Thursday</td>\n",
              "      <td>1</td>\n",
              "      <td>21</td>\n",
              "      <td>141</td>\n",
              "    </tr>\n",
              "  </tbody>\n",
              "</table>\n",
              "</div>"
            ],
            "text/plain": [
              "         longitude  latitude      dist  ...  passenger_count  dayofmonth dayofyear\n",
              "2823890   0.007011  0.003113  0.007671  ...                1           2       122\n",
              "2823891   0.006577  0.001022  0.006656  ...                2          10       130\n",
              "2823892   0.004700  0.018711  0.019292  ...                2           2       122\n",
              "2823893   0.018097  0.000603  0.018107  ...                2           8       128\n",
              "2823894   0.019424  0.022137  0.029451  ...                1          21       141\n",
              "\n",
              "[5 rows x 9 columns]"
            ]
          },
          "metadata": {
            "tags": []
          },
          "execution_count": 36
        }
      ]
    },
    {
      "cell_type": "code",
      "metadata": {
        "colab": {
          "base_uri": "https://localhost:8080/"
        },
        "id": "eHnfRVQW-oLn",
        "outputId": "30e18c59-a1c4-42dd-8591-e5888a945647"
      },
      "source": [
        "X_train, X_val_test, y_train, y_val_test = train_test_split(X, y, test_size=0.4,\n",
        "                                                            random_state=42)\n",
        "X_val, X_test, y_val, y_test = train_test_split(X_val_test, y_val_test,\n",
        "                                                test_size=0.4, random_state=42)\n",
        "print(f'Train data shape: {X_train.shape}\\n')\n",
        "print(f'Validation data shape: {X_val.shape}\\n')\n",
        "print(f'Test data shape: {X_test.shape}\\n')"
      ],
      "execution_count": 37,
      "outputs": [
        {
          "output_type": "stream",
          "text": [
            "Train data shape: (1686709, 9)\n",
            "\n",
            "Validation data shape: (674683, 9)\n",
            "\n",
            "Test data shape: (449790, 9)\n",
            "\n"
          ],
          "name": "stdout"
        }
      ]
    },
    {
      "cell_type": "markdown",
      "metadata": {
        "id": "9OxgSlQ-I3LT"
      },
      "source": [
        "# General Transformers"
      ]
    },
    {
      "cell_type": "markdown",
      "metadata": {
        "id": "geoXBPKsQ1pU"
      },
      "source": [
        "## Transform label variable"
      ]
    },
    {
      "cell_type": "code",
      "metadata": {
        "id": "T3u1RKvnQ73o"
      },
      "source": [
        "from scipy import stats\n",
        "from scipy.stats.mstats import normaltest # D'Agostino K^2 Test\n",
        "import scipy as sp"
      ],
      "execution_count": 38,
      "outputs": []
    },
    {
      "cell_type": "code",
      "metadata": {
        "colab": {
          "base_uri": "https://localhost:8080/",
          "height": 316
        },
        "id": "5ozbbTu3REkM",
        "outputId": "15706b7e-26e2-4c27-d28b-69f19ee255ee"
      },
      "source": [
        "y_train.hist()\n",
        "# save_fig('target')"
      ],
      "execution_count": 39,
      "outputs": [
        {
          "output_type": "execute_result",
          "data": {
            "text/plain": [
              "array([[<matplotlib.axes._subplots.AxesSubplot object at 0x7f5529988350>]],\n",
              "      dtype=object)"
            ]
          },
          "metadata": {
            "tags": []
          },
          "execution_count": 39
        },
        {
          "output_type": "display_data",
          "data": {
            "image/png": "[encoded data removed]",
            "text/plain": [
              "<Figure size 432x288 with 1 Axes>"
            ]
          },
          "metadata": {
            "tags": [],
            "needs_background": "light"
          }
        }
      ]
    },
    {
      "cell_type": "code",
      "metadata": {
        "colab": {
          "base_uri": "https://localhost:8080/"
        },
        "id": "_9qTQvKBRSQS",
        "outputId": "837386e8-8226-4096-b6d8-dcb7f6686602"
      },
      "source": [
        "normaltest(y_train.values.ravel())"
      ],
      "execution_count": 40,
      "outputs": [
        {
          "output_type": "execute_result",
          "data": {
            "text/plain": [
              "NormaltestResult(statistic=540734.5616564872, pvalue=0.0)"
            ]
          },
          "metadata": {
            "tags": []
          },
          "execution_count": 40
        }
      ]
    },
    {
      "cell_type": "code",
      "metadata": {
        "colab": {
          "base_uri": "https://localhost:8080/",
          "height": 281
        },
        "id": "vNSsTuRyxR8m",
        "outputId": "d23519b6-5ffb-4020-fc46-297da41af264"
      },
      "source": [
        "plt.hist(np.log10(y_train.values.ravel()))\n",
        "normaltest(np.log10(y_train.values.ravel()))"
      ],
      "execution_count": 41,
      "outputs": [
        {
          "output_type": "execute_result",
          "data": {
            "text/plain": [
              "NormaltestResult(statistic=13120.404727117795, pvalue=0.0)"
            ]
          },
          "metadata": {
            "tags": []
          },
          "execution_count": 41
        },
        {
          "output_type": "display_data",
          "data": {
            "image/png": "[encoded data removed]",
            "text/plain": [
              "<Figure size 432x288 with 1 Axes>"
            ]
          },
          "metadata": {
            "tags": [],
            "needs_background": "light"
          }
        }
      ]
    },
    {
      "cell_type": "markdown",
      "metadata": {
        "id": "GN7CG8ekyeAe"
      },
      "source": [
        "## Build categorical and numerical pipeline\n",
        "\n"
      ]
    },
    {
      "cell_type": "markdown",
      "metadata": {
        "id": "1qWpfUvg8NmC"
      },
      "source": [
        "## Preprocess Features --> Scaling and encoding"
      ]
    },
    {
      "cell_type": "code",
      "metadata": {
        "id": "SNtENJC-zsZ8"
      },
      "source": [
        "from sklearn.decomposition import PCA\n",
        "from sklearn.model_selection import GridSearchCV\n",
        "from sklearn.pipeline import Pipeline\n",
        "from sklearn.compose import ColumnTransformer, TransformedTargetRegressor"
      ],
      "execution_count": 42,
      "outputs": []
    },
    {
      "cell_type": "code",
      "metadata": {
        "id": "qq0Z0PFl3NhT",
        "colab": {
          "base_uri": "https://localhost:8080/"
        },
        "outputId": "8a54bea6-3ddb-4419-d1d4-a9bf9d18b883"
      },
      "source": [
        "numerical_cols = X.select_dtypes(include=['int64', 'float64']).columns\n",
        "categorical_cols = X.select_dtypes(include=['object', 'bool']).columns\n",
        "numerical_cols, categorical_cols"
      ],
      "execution_count": 43,
      "outputs": [
        {
          "output_type": "execute_result",
          "data": {
            "text/plain": [
              "(Index(['longitude', 'latitude', 'dist', 'trip_distance', 'time_of_day',\n",
              "        'passenger_count', 'dayofmonth', 'dayofyear'],\n",
              "       dtype='object'), Index(['day_of_week'], dtype='object'))"
            ]
          },
          "metadata": {
            "tags": []
          },
          "execution_count": 43
        }
      ]
    },
    {
      "cell_type": "code",
      "metadata": {
        "id": "VqBpMSc_TUgZ",
        "colab": {
          "base_uri": "https://localhost:8080/"
        },
        "outputId": "1df429d1-817a-46bf-de92-e6c6bc624bfc"
      },
      "source": [
        "numerical_ix = [X.columns.get_loc(col) for col in numerical_cols]\n",
        "categorical_ix = [X.columns.get_loc(col) for col in categorical_cols]\n",
        "numerical_ix, categorical_ix"
      ],
      "execution_count": 44,
      "outputs": [
        {
          "output_type": "execute_result",
          "data": {
            "text/plain": [
              "([0, 1, 2, 3, 4, 6, 7, 8], [5])"
            ]
          },
          "metadata": {
            "tags": []
          },
          "execution_count": 44
        }
      ]
    },
    {
      "cell_type": "code",
      "metadata": {
        "colab": {
          "base_uri": "https://localhost:8080/",
          "height": 80
        },
        "id": "kEwTi4TO4wNI",
        "outputId": "890cf769-d88c-47d1-d9ea-3f3a1d77fa52"
      },
      "source": [
        "num_pipeline = Pipeline([(\"num\", StandardScaler()),\n",
        "                          # (\"pca\", PCA(n_components=11,random_state=42)),\n",
        "                          # (\"poly\", PolynomialFeatures(degree=2)),\n",
        "                         ])\n",
        "num_pipeline"
      ],
      "execution_count": 45,
      "outputs": [
        {
          "output_type": "execute_result",
          "data": {
            "text/html": [
              "<style>div.sk-top-container {color: black;background-color: white;}div.sk-toggleable {background-color: white;}label.sk-toggleable__label {cursor: pointer;display: block;width: 100%;margin-bottom: 0;padding: 0.2em 0.3em;box-sizing: border-box;text-align: center;}div.sk-toggleable__content {max-height: 0;max-width: 0;overflow: hidden;text-align: left;background-color: #f0f8ff;}div.sk-toggleable__content pre {margin: 0.2em;color: black;border-radius: 0.25em;background-color: #f0f8ff;}input.sk-toggleable__control:checked~div.sk-toggleable__content {max-height: 200px;max-width: 100%;overflow: auto;}div.sk-estimator input.sk-toggleable__control:checked~label.sk-toggleable__label {background-color: #d4ebff;}div.sk-label input.sk-toggleable__control:checked~label.sk-toggleable__label {background-color: #d4ebff;}input.sk-hidden--visually {border: 0;clip: rect(1px 1px 1px 1px);clip: rect(1px, 1px, 1px, 1px);height: 1px;margin: -1px;overflow: hidden;padding: 0;position: absolute;width: 1px;}div.sk-estimator {font-family: monospace;background-color: #f0f8ff;margin: 0.25em 0.25em;border: 1px dotted black;border-radius: 0.25em;box-sizing: border-box;}div.sk-estimator:hover {background-color: #d4ebff;}div.sk-parallel-item::after {content: \"\";width: 100%;border-bottom: 1px solid gray;flex-grow: 1;}div.sk-label:hover label.sk-toggleable__label {background-color: #d4ebff;}div.sk-serial::before {content: \"\";position: absolute;border-left: 1px solid gray;box-sizing: border-box;top: 2em;bottom: 0;left: 50%;}div.sk-serial {display: flex;flex-direction: column;align-items: center;background-color: white;}div.sk-item {z-index: 1;}div.sk-parallel {display: flex;align-items: stretch;justify-content: center;background-color: white;}div.sk-parallel-item {display: flex;flex-direction: column;position: relative;background-color: white;}div.sk-parallel-item:first-child::after {align-self: flex-end;width: 50%;}div.sk-parallel-item:last-child::after {align-self: flex-start;width: 50%;}div.sk-parallel-item:only-child::after {width: 0;}div.sk-dashed-wrapped {border: 1px dashed gray;margin: 0.2em;box-sizing: border-box;padding-bottom: 0.1em;background-color: white;position: relative;}div.sk-label label {font-family: monospace;font-weight: bold;background-color: white;display: inline-block;line-height: 1.2em;}div.sk-label-container {position: relative;z-index: 2;text-align: center;}div.sk-container {display: inline-block;position: relative;}</style><div class=\"sk-top-container\"><div class=\"sk-container\"><div class=\"sk-item sk-dashed-wrapped\"><div class=\"sk-label-container\"><div class=\"sk-label sk-toggleable\"><input class=\"sk-toggleable__control sk-hidden--visually\" id=\"b15fe73c-f102-4370-9055-af6b92d98722\" type=\"checkbox\" ><label class=\"sk-toggleable__label\" for=\"b15fe73c-f102-4370-9055-af6b92d98722\">Pipeline</label><div class=\"sk-toggleable__content\"><pre>Pipeline(steps=[('num', StandardScaler())])</pre></div></div></div><div class=\"sk-serial\"><div class=\"sk-item\"><div class=\"sk-estimator sk-toggleable\"><input class=\"sk-toggleable__control sk-hidden--visually\" id=\"8f9078a7-1c84-4ac6-b2cb-2f2c2b830491\" type=\"checkbox\" ><label class=\"sk-toggleable__label\" for=\"8f9078a7-1c84-4ac6-b2cb-2f2c2b830491\">StandardScaler</label><div class=\"sk-toggleable__content\"><pre>StandardScaler()</pre></div></div></div></div></div></div></div>"
            ],
            "text/plain": [
              "Pipeline(steps=[('num', StandardScaler())])"
            ]
          },
          "metadata": {
            "tags": []
          },
          "execution_count": 45
        }
      ]
    },
    {
      "cell_type": "code",
      "metadata": {
        "colab": {
          "base_uri": "https://localhost:8080/",
          "height": 80
        },
        "id": "ETBdXbNelXxY",
        "outputId": "26404e76-94fd-4faa-f84a-034445247049"
      },
      "source": [
        "cat_pipeline = Pipeline([(\"cat\", OrdinalEncoder()),\n",
        "                         ])\n",
        "cat_pipeline"
      ],
      "execution_count": 46,
      "outputs": [
        {
          "output_type": "execute_result",
          "data": {
            "text/html": [
              "<style>div.sk-top-container {color: black;background-color: white;}div.sk-toggleable {background-color: white;}label.sk-toggleable__label {cursor: pointer;display: block;width: 100%;margin-bottom: 0;padding: 0.2em 0.3em;box-sizing: border-box;text-align: center;}div.sk-toggleable__content {max-height: 0;max-width: 0;overflow: hidden;text-align: left;background-color: #f0f8ff;}div.sk-toggleable__content pre {margin: 0.2em;color: black;border-radius: 0.25em;background-color: #f0f8ff;}input.sk-toggleable__control:checked~div.sk-toggleable__content {max-height: 200px;max-width: 100%;overflow: auto;}div.sk-estimator input.sk-toggleable__control:checked~label.sk-toggleable__label {background-color: #d4ebff;}div.sk-label input.sk-toggleable__control:checked~label.sk-toggleable__label {background-color: #d4ebff;}input.sk-hidden--visually {border: 0;clip: rect(1px 1px 1px 1px);clip: rect(1px, 1px, 1px, 1px);height: 1px;margin: -1px;overflow: hidden;padding: 0;position: absolute;width: 1px;}div.sk-estimator {font-family: monospace;background-color: #f0f8ff;margin: 0.25em 0.25em;border: 1px dotted black;border-radius: 0.25em;box-sizing: border-box;}div.sk-estimator:hover {background-color: #d4ebff;}div.sk-parallel-item::after {content: \"\";width: 100%;border-bottom: 1px solid gray;flex-grow: 1;}div.sk-label:hover label.sk-toggleable__label {background-color: #d4ebff;}div.sk-serial::before {content: \"\";position: absolute;border-left: 1px solid gray;box-sizing: border-box;top: 2em;bottom: 0;left: 50%;}div.sk-serial {display: flex;flex-direction: column;align-items: center;background-color: white;}div.sk-item {z-index: 1;}div.sk-parallel {display: flex;align-items: stretch;justify-content: center;background-color: white;}div.sk-parallel-item {display: flex;flex-direction: column;position: relative;background-color: white;}div.sk-parallel-item:first-child::after {align-self: flex-end;width: 50%;}div.sk-parallel-item:last-child::after {align-self: flex-start;width: 50%;}div.sk-parallel-item:only-child::after {width: 0;}div.sk-dashed-wrapped {border: 1px dashed gray;margin: 0.2em;box-sizing: border-box;padding-bottom: 0.1em;background-color: white;position: relative;}div.sk-label label {font-family: monospace;font-weight: bold;background-color: white;display: inline-block;line-height: 1.2em;}div.sk-label-container {position: relative;z-index: 2;text-align: center;}div.sk-container {display: inline-block;position: relative;}</style><div class=\"sk-top-container\"><div class=\"sk-container\"><div class=\"sk-item sk-dashed-wrapped\"><div class=\"sk-label-container\"><div class=\"sk-label sk-toggleable\"><input class=\"sk-toggleable__control sk-hidden--visually\" id=\"8c40601e-c4b5-4d1e-b68c-18e9c3f681eb\" type=\"checkbox\" ><label class=\"sk-toggleable__label\" for=\"8c40601e-c4b5-4d1e-b68c-18e9c3f681eb\">Pipeline</label><div class=\"sk-toggleable__content\"><pre>Pipeline(steps=[('cat', OrdinalEncoder())])</pre></div></div></div><div class=\"sk-serial\"><div class=\"sk-item\"><div class=\"sk-estimator sk-toggleable\"><input class=\"sk-toggleable__control sk-hidden--visually\" id=\"fb573ad5-944c-4d1b-91a0-268231b16156\" type=\"checkbox\" ><label class=\"sk-toggleable__label\" for=\"fb573ad5-944c-4d1b-91a0-268231b16156\">OrdinalEncoder</label><div class=\"sk-toggleable__content\"><pre>OrdinalEncoder()</pre></div></div></div></div></div></div></div>"
            ],
            "text/plain": [
              "Pipeline(steps=[('cat', OrdinalEncoder())])"
            ]
          },
          "metadata": {
            "tags": []
          },
          "execution_count": 46
        }
      ]
    },
    {
      "cell_type": "code",
      "metadata": {
        "colab": {
          "base_uri": "https://localhost:8080/",
          "height": 103
        },
        "id": "P0LwUHKwU8yl",
        "outputId": "4c0a7ef4-fb0c-4d51-a76b-efcc037d6831"
      },
      "source": [
        "transformer = ColumnTransformer([\n",
        "                 (\"num_pipe\", num_pipeline, numerical_ix),\n",
        "                 (\"cat_pipe\", cat_pipeline, categorical_ix),\n",
        "                 ])\n",
        "transformer"
      ],
      "execution_count": 47,
      "outputs": [
        {
          "output_type": "execute_result",
          "data": {
            "text/html": [
              "<style>div.sk-top-container {color: black;background-color: white;}div.sk-toggleable {background-color: white;}label.sk-toggleable__label {cursor: pointer;display: block;width: 100%;margin-bottom: 0;padding: 0.2em 0.3em;box-sizing: border-box;text-align: center;}div.sk-toggleable__content {max-height: 0;max-width: 0;overflow: hidden;text-align: left;background-color: #f0f8ff;}div.sk-toggleable__content pre {margin: 0.2em;color: black;border-radius: 0.25em;background-color: #f0f8ff;}input.sk-toggleable__control:checked~div.sk-toggleable__content {max-height: 200px;max-width: 100%;overflow: auto;}div.sk-estimator input.sk-toggleable__control:checked~label.sk-toggleable__label {background-color: #d4ebff;}div.sk-label input.sk-toggleable__control:checked~label.sk-toggleable__label {background-color: #d4ebff;}input.sk-hidden--visually {border: 0;clip: rect(1px 1px 1px 1px);clip: rect(1px, 1px, 1px, 1px);height: 1px;margin: -1px;overflow: hidden;padding: 0;position: absolute;width: 1px;}div.sk-estimator {font-family: monospace;background-color: #f0f8ff;margin: 0.25em 0.25em;border: 1px dotted black;border-radius: 0.25em;box-sizing: border-box;}div.sk-estimator:hover {background-color: #d4ebff;}div.sk-parallel-item::after {content: \"\";width: 100%;border-bottom: 1px solid gray;flex-grow: 1;}div.sk-label:hover label.sk-toggleable__label {background-color: #d4ebff;}div.sk-serial::before {content: \"\";position: absolute;border-left: 1px solid gray;box-sizing: border-box;top: 2em;bottom: 0;left: 50%;}div.sk-serial {display: flex;flex-direction: column;align-items: center;background-color: white;}div.sk-item {z-index: 1;}div.sk-parallel {display: flex;align-items: stretch;justify-content: center;background-color: white;}div.sk-parallel-item {display: flex;flex-direction: column;position: relative;background-color: white;}div.sk-parallel-item:first-child::after {align-self: flex-end;width: 50%;}div.sk-parallel-item:last-child::after {align-self: flex-start;width: 50%;}div.sk-parallel-item:only-child::after {width: 0;}div.sk-dashed-wrapped {border: 1px dashed gray;margin: 0.2em;box-sizing: border-box;padding-bottom: 0.1em;background-color: white;position: relative;}div.sk-label label {font-family: monospace;font-weight: bold;background-color: white;display: inline-block;line-height: 1.2em;}div.sk-label-container {position: relative;z-index: 2;text-align: center;}div.sk-container {display: inline-block;position: relative;}</style><div class=\"sk-top-container\"><div class=\"sk-container\"><div class=\"sk-item sk-dashed-wrapped\"><div class=\"sk-label-container\"><div class=\"sk-label sk-toggleable\"><input class=\"sk-toggleable__control sk-hidden--visually\" id=\"ea3167d6-9695-47b1-97b6-f8b9631d9b93\" type=\"checkbox\" ><label class=\"sk-toggleable__label\" for=\"ea3167d6-9695-47b1-97b6-f8b9631d9b93\">ColumnTransformer</label><div class=\"sk-toggleable__content\"><pre>ColumnTransformer(transformers=[('num_pipe',\n",
              "                                 Pipeline(steps=[('num', StandardScaler())]),\n",
              "                                 [0, 1, 2, 3, 4, 6, 7, 8]),\n",
              "                                ('cat_pipe',\n",
              "                                 Pipeline(steps=[('cat', OrdinalEncoder())]),\n",
              "                                 [5])])</pre></div></div></div><div class=\"sk-parallel\"><div class=\"sk-parallel-item\"><div class=\"sk-item\"><div class=\"sk-label-container\"><div class=\"sk-label sk-toggleable\"><input class=\"sk-toggleable__control sk-hidden--visually\" id=\"e4de5691-75ff-48b7-bb5c-58f9ec3aee1e\" type=\"checkbox\" ><label class=\"sk-toggleable__label\" for=\"e4de5691-75ff-48b7-bb5c-58f9ec3aee1e\">num_pipe</label><div class=\"sk-toggleable__content\"><pre>[0, 1, 2, 3, 4, 6, 7, 8]</pre></div></div></div><div class=\"sk-serial\"><div class=\"sk-item\"><div class=\"sk-serial\"><div class=\"sk-item\"><div class=\"sk-estimator sk-toggleable\"><input class=\"sk-toggleable__control sk-hidden--visually\" id=\"8b7c287e-bb8a-4863-95ba-7969bb307954\" type=\"checkbox\" ><label class=\"sk-toggleable__label\" for=\"8b7c287e-bb8a-4863-95ba-7969bb307954\">StandardScaler</label><div class=\"sk-toggleable__content\"><pre>StandardScaler()</pre></div></div></div></div></div></div></div></div><div class=\"sk-parallel-item\"><div class=\"sk-item\"><div class=\"sk-label-container\"><div class=\"sk-label sk-toggleable\"><input class=\"sk-toggleable__control sk-hidden--visually\" id=\"3d569bb0-9a22-41e2-8992-3b4643c39fae\" type=\"checkbox\" ><label class=\"sk-toggleable__label\" for=\"3d569bb0-9a22-41e2-8992-3b4643c39fae\">cat_pipe</label><div class=\"sk-toggleable__content\"><pre>[5]</pre></div></div></div><div class=\"sk-serial\"><div class=\"sk-item\"><div class=\"sk-serial\"><div class=\"sk-item\"><div class=\"sk-estimator sk-toggleable\"><input class=\"sk-toggleable__control sk-hidden--visually\" id=\"7a9f1174-a453-43c0-8484-fee493755e83\" type=\"checkbox\" ><label class=\"sk-toggleable__label\" for=\"7a9f1174-a453-43c0-8484-fee493755e83\">OrdinalEncoder</label><div class=\"sk-toggleable__content\"><pre>OrdinalEncoder()</pre></div></div></div></div></div></div></div></div></div></div></div></div>"
            ],
            "text/plain": [
              "ColumnTransformer(transformers=[('num_pipe',\n",
              "                                 Pipeline(steps=[('num', StandardScaler())]),\n",
              "                                 [0, 1, 2, 3, 4, 6, 7, 8]),\n",
              "                                ('cat_pipe',\n",
              "                                 Pipeline(steps=[('cat', OrdinalEncoder())]),\n",
              "                                 [5])])"
            ]
          },
          "metadata": {
            "tags": []
          },
          "execution_count": 47
        }
      ]
    },
    {
      "cell_type": "markdown",
      "metadata": {
        "id": "XPp3eiZe9SHE"
      },
      "source": [
        "# Build Regression Model"
      ]
    },
    {
      "cell_type": "markdown",
      "metadata": {
        "id": "xGxdRFkY8XyG"
      },
      "source": [
        "## Build and test simple model"
      ]
    },
    {
      "cell_type": "code",
      "metadata": {
        "id": "azxa7Djiu-Yq"
      },
      "source": [
        "errors = list()\n",
        "scores = list()"
      ],
      "execution_count": 134,
      "outputs": []
    },
    {
      "cell_type": "markdown",
      "metadata": {
        "id": "iCZypV6a55Zf"
      },
      "source": [
        "### Linear Regression(First model)"
      ]
    },
    {
      "cell_type": "code",
      "metadata": {
        "id": "6aNbMYKQ9z-3"
      },
      "source": [
        "from sklearn.linear_model import LinearRegression, Lasso, Ridge\n",
        "from sklearn.model_selection import KFold"
      ],
      "execution_count": 135,
      "outputs": []
    },
    {
      "cell_type": "code",
      "metadata": {
        "id": "1spx89i6wttm"
      },
      "source": [
        "lr = LinearRegression(n_jobs=1, )\n",
        "model = TransformedTargetRegressor(regressor=lr,\n",
        "                                   func=np.log10,\n",
        "                                   inverse_func=sp.special.exp10\n",
        "                                   )"
      ],
      "execution_count": 136,
      "outputs": []
    },
    {
      "cell_type": "code",
      "metadata": {
        "id": "2zyoUoM77kM6"
      },
      "source": [
        "lr_estimator = Pipeline([('preparation', transformer), \n",
        "                     ('model', model)\n",
        "                     ])"
      ],
      "execution_count": 137,
      "outputs": []
    },
    {
      "cell_type": "code",
      "metadata": {
        "colab": {
          "base_uri": "https://localhost:8080/"
        },
        "id": "O-etwJIhEKWz",
        "outputId": "f0f240f1-8166-4414-e40a-4b3dd56718f7"
      },
      "source": [
        "lr_estimator.get_params().keys()"
      ],
      "execution_count": 138,
      "outputs": [
        {
          "output_type": "execute_result",
          "data": {
            "text/plain": [
              "dict_keys(['memory', 'steps', 'verbose', 'preparation', 'model', 'preparation__n_jobs', 'preparation__remainder', 'preparation__sparse_threshold', 'preparation__transformer_weights', 'preparation__transformers', 'preparation__verbose', 'preparation__num_pipe', 'preparation__cat_pipe', 'preparation__num_pipe__memory', 'preparation__num_pipe__steps', 'preparation__num_pipe__verbose', 'preparation__num_pipe__num', 'preparation__num_pipe__num__copy', 'preparation__num_pipe__num__with_mean', 'preparation__num_pipe__num__with_std', 'preparation__cat_pipe__memory', 'preparation__cat_pipe__steps', 'preparation__cat_pipe__verbose', 'preparation__cat_pipe__cat', 'preparation__cat_pipe__cat__categories', 'preparation__cat_pipe__cat__dtype', 'preparation__cat_pipe__cat__handle_unknown', 'preparation__cat_pipe__cat__unknown_value', 'model__check_inverse', 'model__func', 'model__inverse_func', 'model__regressor__copy_X', 'model__regressor__fit_intercept', 'model__regressor__n_jobs', 'model__regressor__normalize', 'model__regressor__positive', 'model__regressor', 'model__transformer'])"
            ]
          },
          "metadata": {
            "tags": []
          },
          "execution_count": 138
        }
      ]
    },
    {
      "cell_type": "code",
      "metadata": {
        "colab": {
          "base_uri": "https://localhost:8080/",
          "height": 199
        },
        "id": "z83pHce-vVQ6",
        "outputId": "24204d07-7235-419f-f6ca-1a1a67411812"
      },
      "source": [
        "lr_estimator.fit(X_train, y_train)"
      ],
      "execution_count": 139,
      "outputs": [
        {
          "output_type": "execute_result",
          "data": {
            "text/html": [
              "<style>div.sk-top-container {color: black;background-color: white;}div.sk-toggleable {background-color: white;}label.sk-toggleable__label {cursor: pointer;display: block;width: 100%;margin-bottom: 0;padding: 0.2em 0.3em;box-sizing: border-box;text-align: center;}div.sk-toggleable__content {max-height: 0;max-width: 0;overflow: hidden;text-align: left;background-color: #f0f8ff;}div.sk-toggleable__content pre {margin: 0.2em;color: black;border-radius: 0.25em;background-color: #f0f8ff;}input.sk-toggleable__control:checked~div.sk-toggleable__content {max-height: 200px;max-width: 100%;overflow: auto;}div.sk-estimator input.sk-toggleable__control:checked~label.sk-toggleable__label {background-color: #d4ebff;}div.sk-label input.sk-toggleable__control:checked~label.sk-toggleable__label {background-color: #d4ebff;}input.sk-hidden--visually {border: 0;clip: rect(1px 1px 1px 1px);clip: rect(1px, 1px, 1px, 1px);height: 1px;margin: -1px;overflow: hidden;padding: 0;position: absolute;width: 1px;}div.sk-estimator {font-family: monospace;background-color: #f0f8ff;margin: 0.25em 0.25em;border: 1px dotted black;border-radius: 0.25em;box-sizing: border-box;}div.sk-estimator:hover {background-color: #d4ebff;}div.sk-parallel-item::after {content: \"\";width: 100%;border-bottom: 1px solid gray;flex-grow: 1;}div.sk-label:hover label.sk-toggleable__label {background-color: #d4ebff;}div.sk-serial::before {content: \"\";position: absolute;border-left: 1px solid gray;box-sizing: border-box;top: 2em;bottom: 0;left: 50%;}div.sk-serial {display: flex;flex-direction: column;align-items: center;background-color: white;}div.sk-item {z-index: 1;}div.sk-parallel {display: flex;align-items: stretch;justify-content: center;background-color: white;}div.sk-parallel-item {display: flex;flex-direction: column;position: relative;background-color: white;}div.sk-parallel-item:first-child::after {align-self: flex-end;width: 50%;}div.sk-parallel-item:last-child::after {align-self: flex-start;width: 50%;}div.sk-parallel-item:only-child::after {width: 0;}div.sk-dashed-wrapped {border: 1px dashed gray;margin: 0.2em;box-sizing: border-box;padding-bottom: 0.1em;background-color: white;position: relative;}div.sk-label label {font-family: monospace;font-weight: bold;background-color: white;display: inline-block;line-height: 1.2em;}div.sk-label-container {position: relative;z-index: 2;text-align: center;}div.sk-container {display: inline-block;position: relative;}</style><div class=\"sk-top-container\"><div class=\"sk-container\"><div class=\"sk-item sk-dashed-wrapped\"><div class=\"sk-label-container\"><div class=\"sk-label sk-toggleable\"><input class=\"sk-toggleable__control sk-hidden--visually\" id=\"26df2266-0859-4b1f-bae1-ea11278f9582\" type=\"checkbox\" ><label class=\"sk-toggleable__label\" for=\"26df2266-0859-4b1f-bae1-ea11278f9582\">Pipeline</label><div class=\"sk-toggleable__content\"><pre>Pipeline(steps=[('preparation',\n",
              "                 ColumnTransformer(transformers=[('num_pipe',\n",
              "                                                  Pipeline(steps=[('num',\n",
              "                                                                   StandardScaler())]),\n",
              "                                                  [0, 1, 2, 3, 4, 6, 7, 8]),\n",
              "                                                 ('cat_pipe',\n",
              "                                                  Pipeline(steps=[('cat',\n",
              "                                                                   OrdinalEncoder())]),\n",
              "                                                  [5])])),\n",
              "                ('model',\n",
              "                 TransformedTargetRegressor(func=<ufunc 'log10'>,\n",
              "                                            inverse_func=<ufunc 'exp10'>,\n",
              "                                            regressor=LinearRegression(n_jobs=1)))])</pre></div></div></div><div class=\"sk-serial\"><div class=\"sk-item sk-dashed-wrapped\"><div class=\"sk-label-container\"><div class=\"sk-label sk-toggleable\"><input class=\"sk-toggleable__control sk-hidden--visually\" id=\"aa153a1c-b75a-45d0-ac5a-bebaceae1b7e\" type=\"checkbox\" ><label class=\"sk-toggleable__label\" for=\"aa153a1c-b75a-45d0-ac5a-bebaceae1b7e\">preparation: ColumnTransformer</label><div class=\"sk-toggleable__content\"><pre>ColumnTransformer(transformers=[('num_pipe',\n",
              "                                 Pipeline(steps=[('num', StandardScaler())]),\n",
              "                                 [0, 1, 2, 3, 4, 6, 7, 8]),\n",
              "                                ('cat_pipe',\n",
              "                                 Pipeline(steps=[('cat', OrdinalEncoder())]),\n",
              "                                 [5])])</pre></div></div></div><div class=\"sk-parallel\"><div class=\"sk-parallel-item\"><div class=\"sk-item\"><div class=\"sk-label-container\"><div class=\"sk-label sk-toggleable\"><input class=\"sk-toggleable__control sk-hidden--visually\" id=\"7a1f1403-8eec-4e1c-8806-9bae5c08f06f\" type=\"checkbox\" ><label class=\"sk-toggleable__label\" for=\"7a1f1403-8eec-4e1c-8806-9bae5c08f06f\">num_pipe</label><div class=\"sk-toggleable__content\"><pre>[0, 1, 2, 3, 4, 6, 7, 8]</pre></div></div></div><div class=\"sk-serial\"><div class=\"sk-item\"><div class=\"sk-serial\"><div class=\"sk-item\"><div class=\"sk-estimator sk-toggleable\"><input class=\"sk-toggleable__control sk-hidden--visually\" id=\"63642f7b-ef5e-4679-8421-daa13ccaaced\" type=\"checkbox\" ><label class=\"sk-toggleable__label\" for=\"63642f7b-ef5e-4679-8421-daa13ccaaced\">StandardScaler</label><div class=\"sk-toggleable__content\"><pre>StandardScaler()</pre></div></div></div></div></div></div></div></div><div class=\"sk-parallel-item\"><div class=\"sk-item\"><div class=\"sk-label-container\"><div class=\"sk-label sk-toggleable\"><input class=\"sk-toggleable__control sk-hidden--visually\" id=\"f5d24ba6-0255-4034-8a5a-1a85c37044d2\" type=\"checkbox\" ><label class=\"sk-toggleable__label\" for=\"f5d24ba6-0255-4034-8a5a-1a85c37044d2\">cat_pipe</label><div class=\"sk-toggleable__content\"><pre>[5]</pre></div></div></div><div class=\"sk-serial\"><div class=\"sk-item\"><div class=\"sk-serial\"><div class=\"sk-item\"><div class=\"sk-estimator sk-toggleable\"><input class=\"sk-toggleable__control sk-hidden--visually\" id=\"5c986c61-cef6-4e80-93fe-4fedecd2d68d\" type=\"checkbox\" ><label class=\"sk-toggleable__label\" for=\"5c986c61-cef6-4e80-93fe-4fedecd2d68d\">OrdinalEncoder</label><div class=\"sk-toggleable__content\"><pre>OrdinalEncoder()</pre></div></div></div></div></div></div></div></div></div></div><div class=\"sk-item sk-dashed-wrapped\"><div class=\"sk-label-container\"><div class=\"sk-label sk-toggleable\"><input class=\"sk-toggleable__control sk-hidden--visually\" id=\"f83905ed-7d36-4be3-a013-9f1b12072986\" type=\"checkbox\" ><label class=\"sk-toggleable__label\" for=\"f83905ed-7d36-4be3-a013-9f1b12072986\">model: TransformedTargetRegressor</label><div class=\"sk-toggleable__content\"><pre>TransformedTargetRegressor(func=<ufunc 'log10'>, inverse_func=<ufunc 'exp10'>,\n",
              "                           regressor=LinearRegression(n_jobs=1))</pre></div></div></div><div class=\"sk-parallel\"><div class=\"sk-parallel-item\"><div class=\"sk-item\"><div class=\"sk-serial\"><div class=\"sk-item\"><div class=\"sk-estimator sk-toggleable\"><input class=\"sk-toggleable__control sk-hidden--visually\" id=\"eccb1497-65b2-495f-87e2-9697d0afce0e\" type=\"checkbox\" ><label class=\"sk-toggleable__label\" for=\"eccb1497-65b2-495f-87e2-9697d0afce0e\">LinearRegression</label><div class=\"sk-toggleable__content\"><pre>LinearRegression(n_jobs=1)</pre></div></div></div></div></div></div></div></div></div></div></div></div>"
            ],
            "text/plain": [
              "Pipeline(steps=[('preparation',\n",
              "                 ColumnTransformer(transformers=[('num_pipe',\n",
              "                                                  Pipeline(steps=[('num',\n",
              "                                                                   StandardScaler())]),\n",
              "                                                  [0, 1, 2, 3, 4, 6, 7, 8]),\n",
              "                                                 ('cat_pipe',\n",
              "                                                  Pipeline(steps=[('cat',\n",
              "                                                                   OrdinalEncoder())]),\n",
              "                                                  [5])])),\n",
              "                ('model',\n",
              "                 TransformedTargetRegressor(func=<ufunc 'log10'>,\n",
              "                                            inverse_func=<ufunc 'exp10'>,\n",
              "                                            regressor=LinearRegression(n_jobs=1)))])"
            ]
          },
          "metadata": {
            "tags": []
          },
          "execution_count": 139
        }
      ]
    },
    {
      "cell_type": "code",
      "metadata": {
        "id": "AC0OviYKKTwU"
      },
      "source": [
        "# predict\n",
        "y_train_pred = lr_estimator.predict(X_train)\n",
        "y_val_pred = lr_estimator.predict(X_val)\n",
        "y_test_pred = lr_estimator.predict(X_test)"
      ],
      "execution_count": 140,
      "outputs": []
    },
    {
      "cell_type": "code",
      "metadata": {
        "colab": {
          "base_uri": "https://localhost:8080/",
          "height": 441
        },
        "id": "wugRe-1cJKVn",
        "outputId": "67662b40-0577-44fa-de4e-fbaaabd95e70"
      },
      "source": [
        "fig, axList = plt.subplots(nrows=1, ncols=2)\n",
        "axList = axList.flatten()\n",
        "fig.set_size_inches(10, 6)\n",
        "\n",
        "# axList[-1].axis('off')\n",
        "\n",
        "data = [[y_train, y_train_pred], [y_test, y_test_pred]]\n",
        "for ax, y_value in zip(axList, data):\n",
        "    ax.scatter(y_value[0], y_value[1], alpha=.5)\n",
        "\n",
        "    ax.set(xlabel='Ground truth', \n",
        "        ylabel='Predictions',\n",
        "        title='Predictions vs Truth')\n",
        "plt.tight_layout()\n",
        "# save_fig('linearRegression')"
      ],
      "execution_count": 141,
      "outputs": [
        {
          "output_type": "display_data",
          "data": {
            "image/png": "[encoded data removed]",
            "text/plain": [
              "<Figure size 720x432 with 2 Axes>"
            ]
          },
          "metadata": {
            "tags": [],
            "needs_background": "light"
          }
        }
      ]
    },
    {
      "cell_type": "code",
      "metadata": {
        "id": "k9MgNYPeFk_g"
      },
      "source": [
        "errors.append(pd.Series({'train': r2_score(y_train, y_train_pred),\n",
        "           'val': r2_score(y_val, y_val_pred,),\n",
        "           'test' : r2_score(y_test, y_test_pred)},\n",
        "          name='LR_score'))\n",
        "\n",
        "errors.append(pd.Series({'train': mean_squared_error(y_train, y_train_pred, squared=False),\n",
        "           'val': mean_squared_error(y_val_pred, y_val, squared=False),\n",
        "           'test' : mean_squared_error(y_test,  y_test_pred, squared=False)},\n",
        "          name='LR_rmse'))"
      ],
      "execution_count": 142,
      "outputs": []
    },
    {
      "cell_type": "code",
      "metadata": {
        "colab": {
          "base_uri": "https://localhost:8080/",
          "height": 143
        },
        "id": "QTiTexr_bNUH",
        "outputId": "33454f9e-1056-49d5-e1db-2e2be9aa26c5"
      },
      "source": [
        "pd.concat(errors, axis=1)"
      ],
      "execution_count": 143,
      "outputs": [
        {
          "output_type": "execute_result",
          "data": {
            "text/html": [
              "<div>\n",
              "<style scoped>\n",
              "    .dataframe tbody tr th:only-of-type {\n",
              "        vertical-align: middle;\n",
              "    }\n",
              "\n",
              "    .dataframe tbody tr th {\n",
              "        vertical-align: top;\n",
              "    }\n",
              "\n",
              "    .dataframe thead th {\n",
              "        text-align: right;\n",
              "    }\n",
              "</style>\n",
              "<table border=\"1\" class=\"dataframe\">\n",
              "  <thead>\n",
              "    <tr style=\"text-align: right;\">\n",
              "      <th></th>\n",
              "      <th>LR_score</th>\n",
              "      <th>LR_rmse</th>\n",
              "    </tr>\n",
              "  </thead>\n",
              "  <tbody>\n",
              "    <tr>\n",
              "      <th>train</th>\n",
              "      <td>-1.359818</td>\n",
              "      <td>15.232537</td>\n",
              "    </tr>\n",
              "    <tr>\n",
              "      <th>val</th>\n",
              "      <td>-1.179206</td>\n",
              "      <td>14.650705</td>\n",
              "    </tr>\n",
              "    <tr>\n",
              "      <th>test</th>\n",
              "      <td>-1.126861</td>\n",
              "      <td>14.460062</td>\n",
              "    </tr>\n",
              "  </tbody>\n",
              "</table>\n",
              "</div>"
            ],
            "text/plain": [
              "       LR_score    LR_rmse\n",
              "train -1.359818  15.232537\n",
              "val   -1.179206  14.650705\n",
              "test  -1.126861  14.460062"
            ]
          },
          "metadata": {
            "tags": []
          },
          "execution_count": 143
        }
      ]
    },
    {
      "cell_type": "code",
      "metadata": {
        "colab": {
          "base_uri": "https://localhost:8080/"
        },
        "id": "g2rPZpK5VY9Q",
        "outputId": "d0fb5bea-44e7-4dce-e95d-353cadc5a170"
      },
      "source": [
        "lr_estimator.predict([[0.0, 0.0, 0.0, 0.0, 12, 'Thursday', 1, 12, 224]])"
      ],
      "execution_count": 144,
      "outputs": [
        {
          "output_type": "execute_result",
          "data": {
            "text/plain": [
              "array([[6.97905219]])"
            ]
          },
          "metadata": {
            "tags": []
          },
          "execution_count": 144
        }
      ]
    },
    {
      "cell_type": "markdown",
      "metadata": {
        "id": "w6ffBh84TXlQ"
      },
      "source": [
        "### Random Forest Regressor"
      ]
    },
    {
      "cell_type": "code",
      "metadata": {
        "id": "q0S_zEsFOV1s"
      },
      "source": [
        "from sklearn.ensemble import RandomForestRegressor"
      ],
      "execution_count": 145,
      "outputs": []
    },
    {
      "cell_type": "markdown",
      "metadata": {
        "id": "bgaigKD9Uarj"
      },
      "source": [
        "#### Grid search"
      ]
    },
    {
      "cell_type": "code",
      "metadata": {
        "id": "PUGmXDcTKcfr"
      },
      "source": [
        "rfr = RandomForestRegressor(random_state=42,n_jobs=-1)\n",
        "model = TransformedTargetRegressor(regressor=rfr,\n",
        "                                   func=np.log10,\n",
        "                                   inverse_func=sp.special.exp10\n",
        "                                   )"
      ],
      "execution_count": 146,
      "outputs": []
    },
    {
      "cell_type": "code",
      "metadata": {
        "id": "ICGIgcBdKcfy"
      },
      "source": [
        "estimator = Pipeline([('preparation', transformer), \n",
        "                     ('model', model)\n",
        "                     ])"
      ],
      "execution_count": 147,
      "outputs": []
    },
    {
      "cell_type": "code",
      "metadata": {
        "colab": {
          "base_uri": "https://localhost:8080/"
        },
        "id": "b5Cq0Jd0Kcf0",
        "outputId": "7dacae18-c40a-4872-e225-8fcff2797808"
      },
      "source": [
        "estimator.get_params().keys()"
      ],
      "execution_count": 148,
      "outputs": [
        {
          "output_type": "execute_result",
          "data": {
            "text/plain": [
              "dict_keys(['memory', 'steps', 'verbose', 'preparation', 'model', 'preparation__n_jobs', 'preparation__remainder', 'preparation__sparse_threshold', 'preparation__transformer_weights', 'preparation__transformers', 'preparation__verbose', 'preparation__num_pipe', 'preparation__cat_pipe', 'preparation__num_pipe__memory', 'preparation__num_pipe__steps', 'preparation__num_pipe__verbose', 'preparation__num_pipe__num', 'preparation__num_pipe__num__copy', 'preparation__num_pipe__num__with_mean', 'preparation__num_pipe__num__with_std', 'preparation__cat_pipe__memory', 'preparation__cat_pipe__steps', 'preparation__cat_pipe__verbose', 'preparation__cat_pipe__cat', 'preparation__cat_pipe__cat__categories', 'preparation__cat_pipe__cat__dtype', 'preparation__cat_pipe__cat__handle_unknown', 'preparation__cat_pipe__cat__unknown_value', 'model__check_inverse', 'model__func', 'model__inverse_func', 'model__regressor__bootstrap', 'model__regressor__ccp_alpha', 'model__regressor__criterion', 'model__regressor__max_depth', 'model__regressor__max_features', 'model__regressor__max_leaf_nodes', 'model__regressor__max_samples', 'model__regressor__min_impurity_decrease', 'model__regressor__min_impurity_split', 'model__regressor__min_samples_leaf', 'model__regressor__min_samples_split', 'model__regressor__min_weight_fraction_leaf', 'model__regressor__n_estimators', 'model__regressor__n_jobs', 'model__regressor__oob_score', 'model__regressor__random_state', 'model__regressor__verbose', 'model__regressor__warm_start', 'model__regressor', 'model__transformer'])"
            ]
          },
          "metadata": {
            "tags": []
          },
          "execution_count": 148
        }
      ]
    },
    {
      "cell_type": "code",
      "metadata": {
        "id": "e_6vWHuMh-2K"
      },
      "source": [
        "# Set parameters\n",
        "MAX_DEPTH_OPTIONS = [15, 20]\n",
        "N_ESTIMATORS = [10, 15]\n",
        "params = {\n",
        "    'model__regressor__max_depth': MAX_DEPTH_OPTIONS,\n",
        "    'model__regressor__n_estimators': N_ESTIMATORS,\n",
        "}\n",
        "\n",
        "kf = KFold(shuffle=True, random_state=42, n_splits=5)"
      ],
      "execution_count": 149,
      "outputs": []
    },
    {
      "cell_type": "code",
      "metadata": {
        "id": "f1uKNX-7h-2S"
      },
      "source": [
        "grid = GridSearchCV(estimator, params, verbose=10, n_jobs=1, cv=kf,\n",
        "                    scoring='neg_mean_squared_error', return_train_score=True)"
      ],
      "execution_count": 150,
      "outputs": []
    },
    {
      "cell_type": "code",
      "metadata": {
        "colab": {
          "base_uri": "https://localhost:8080/",
          "height": 968
        },
        "id": "SFV30RpGh-2U",
        "outputId": "8cee47ff-acd1-4210-880e-ef006d8f9ad5"
      },
      "source": [
        "grid.fit(X_train, y_train.values.ravel())"
      ],
      "execution_count": 151,
      "outputs": [
        {
          "output_type": "stream",
          "text": [
            "Fitting 5 folds for each of 4 candidates, totalling 20 fits\n",
            "[CV 1/5; 1/4] START model__regressor__max_depth=15, model__regressor__n_estimators=10\n",
            "[CV 1/5; 1/4] END model__regressor__max_depth=15, model__regressor__n_estimators=10; total time= 1.4min\n",
            "[CV 2/5; 1/4] START model__regressor__max_depth=15, model__regressor__n_estimators=10\n",
            "[CV 2/5; 1/4] END model__regressor__max_depth=15, model__regressor__n_estimators=10; total time= 1.5min\n",
            "[CV 3/5; 1/4] START model__regressor__max_depth=15, model__regressor__n_estimators=10\n",
            "[CV 3/5; 1/4] END model__regressor__max_depth=15, model__regressor__n_estimators=10; total time= 1.5min\n",
            "[CV 4/5; 1/4] START model__regressor__max_depth=15, model__regressor__n_estimators=10\n",
            "[CV 4/5; 1/4] END model__regressor__max_depth=15, model__regressor__n_estimators=10; total time= 1.5min\n",
            "[CV 5/5; 1/4] START model__regressor__max_depth=15, model__regressor__n_estimators=10\n",
            "[CV 5/5; 1/4] END model__regressor__max_depth=15, model__regressor__n_estimators=10; total time= 1.5min\n",
            "[CV 1/5; 2/4] START model__regressor__max_depth=15, model__regressor__n_estimators=15\n",
            "[CV 1/5; 2/4] END model__regressor__max_depth=15, model__regressor__n_estimators=15; total time= 2.2min\n",
            "[CV 2/5; 2/4] START model__regressor__max_depth=15, model__regressor__n_estimators=15\n",
            "[CV 2/5; 2/4] END model__regressor__max_depth=15, model__regressor__n_estimators=15; total time= 2.2min\n",
            "[CV 3/5; 2/4] START model__regressor__max_depth=15, model__regressor__n_estimators=15\n",
            "[CV 3/5; 2/4] END model__regressor__max_depth=15, model__regressor__n_estimators=15; total time= 2.2min\n",
            "[CV 4/5; 2/4] START model__regressor__max_depth=15, model__regressor__n_estimators=15\n",
            "[CV 4/5; 2/4] END model__regressor__max_depth=15, model__regressor__n_estimators=15; total time= 2.2min\n",
            "[CV 5/5; 2/4] START model__regressor__max_depth=15, model__regressor__n_estimators=15\n",
            "[CV 5/5; 2/4] END model__regressor__max_depth=15, model__regressor__n_estimators=15; total time= 2.2min\n",
            "[CV 1/5; 3/4] START model__regressor__max_depth=20, model__regressor__n_estimators=10\n",
            "[CV 1/5; 3/4] END model__regressor__max_depth=20, model__regressor__n_estimators=10; total time= 1.8min\n",
            "[CV 2/5; 3/4] START model__regressor__max_depth=20, model__regressor__n_estimators=10\n",
            "[CV 2/5; 3/4] END model__regressor__max_depth=20, model__regressor__n_estimators=10; total time= 1.7min\n",
            "[CV 3/5; 3/4] START model__regressor__max_depth=20, model__regressor__n_estimators=10\n",
            "[CV 3/5; 3/4] END model__regressor__max_depth=20, model__regressor__n_estimators=10; total time= 1.7min\n",
            "[CV 4/5; 3/4] START model__regressor__max_depth=20, model__regressor__n_estimators=10\n",
            "[CV 4/5; 3/4] END model__regressor__max_depth=20, model__regressor__n_estimators=10; total time= 1.7min\n",
            "[CV 5/5; 3/4] START model__regressor__max_depth=20, model__regressor__n_estimators=10\n",
            "[CV 5/5; 3/4] END model__regressor__max_depth=20, model__regressor__n_estimators=10; total time= 1.7min\n",
            "[CV 1/5; 4/4] START model__regressor__max_depth=20, model__regressor__n_estimators=15\n",
            "[CV 1/5; 4/4] END model__regressor__max_depth=20, model__regressor__n_estimators=15; total time= 2.6min\n",
            "[CV 2/5; 4/4] START model__regressor__max_depth=20, model__regressor__n_estimators=15\n",
            "[CV 2/5; 4/4] END model__regressor__max_depth=20, model__regressor__n_estimators=15; total time= 2.6min\n",
            "[CV 3/5; 4/4] START model__regressor__max_depth=20, model__regressor__n_estimators=15\n",
            "[CV 3/5; 4/4] END model__regressor__max_depth=20, model__regressor__n_estimators=15; total time= 2.6min\n",
            "[CV 4/5; 4/4] START model__regressor__max_depth=20, model__regressor__n_estimators=15\n",
            "[CV 4/5; 4/4] END model__regressor__max_depth=20, model__regressor__n_estimators=15; total time= 2.6min\n",
            "[CV 5/5; 4/4] START model__regressor__max_depth=20, model__regressor__n_estimators=15\n",
            "[CV 5/5; 4/4] END model__regressor__max_depth=20, model__regressor__n_estimators=15; total time= 2.6min\n"
          ],
          "name": "stdout"
        },
        {
          "output_type": "execute_result",
          "data": {
            "text/html": [
              "<style>div.sk-top-container {color: black;background-color: white;}div.sk-toggleable {background-color: white;}label.sk-toggleable__label {cursor: pointer;display: block;width: 100%;margin-bottom: 0;padding: 0.2em 0.3em;box-sizing: border-box;text-align: center;}div.sk-toggleable__content {max-height: 0;max-width: 0;overflow: hidden;text-align: left;background-color: #f0f8ff;}div.sk-toggleable__content pre {margin: 0.2em;color: black;border-radius: 0.25em;background-color: #f0f8ff;}input.sk-toggleable__control:checked~div.sk-toggleable__content {max-height: 200px;max-width: 100%;overflow: auto;}div.sk-estimator input.sk-toggleable__control:checked~label.sk-toggleable__label {background-color: #d4ebff;}div.sk-label input.sk-toggleable__control:checked~label.sk-toggleable__label {background-color: #d4ebff;}input.sk-hidden--visually {border: 0;clip: rect(1px 1px 1px 1px);clip: rect(1px, 1px, 1px, 1px);height: 1px;margin: -1px;overflow: hidden;padding: 0;position: absolute;width: 1px;}div.sk-estimator {font-family: monospace;background-color: #f0f8ff;margin: 0.25em 0.25em;border: 1px dotted black;border-radius: 0.25em;box-sizing: border-box;}div.sk-estimator:hover {background-color: #d4ebff;}div.sk-parallel-item::after {content: \"\";width: 100%;border-bottom: 1px solid gray;flex-grow: 1;}div.sk-label:hover label.sk-toggleable__label {background-color: #d4ebff;}div.sk-serial::before {content: \"\";position: absolute;border-left: 1px solid gray;box-sizing: border-box;top: 2em;bottom: 0;left: 50%;}div.sk-serial {display: flex;flex-direction: column;align-items: center;background-color: white;}div.sk-item {z-index: 1;}div.sk-parallel {display: flex;align-items: stretch;justify-content: center;background-color: white;}div.sk-parallel-item {display: flex;flex-direction: column;position: relative;background-color: white;}div.sk-parallel-item:first-child::after {align-self: flex-end;width: 50%;}div.sk-parallel-item:last-child::after {align-self: flex-start;width: 50%;}div.sk-parallel-item:only-child::after {width: 0;}div.sk-dashed-wrapped {border: 1px dashed gray;margin: 0.2em;box-sizing: border-box;padding-bottom: 0.1em;background-color: white;position: relative;}div.sk-label label {font-family: monospace;font-weight: bold;background-color: white;display: inline-block;line-height: 1.2em;}div.sk-label-container {position: relative;z-index: 2;text-align: center;}div.sk-container {display: inline-block;position: relative;}</style><div class=\"sk-top-container\"><div class=\"sk-container\"><div class=\"sk-item sk-dashed-wrapped\"><div class=\"sk-label-container\"><div class=\"sk-label sk-toggleable\"><input class=\"sk-toggleable__control sk-hidden--visually\" id=\"5dc6195a-ea01-48ba-838f-054e87868550\" type=\"checkbox\" ><label class=\"sk-toggleable__label\" for=\"5dc6195a-ea01-48ba-838f-054e87868550\">GridSearchCV</label><div class=\"sk-toggleable__content\"><pre>GridSearchCV(cv=KFold(n_splits=5, random_state=42, shuffle=True),\n",
              "             estimator=Pipeline(steps=[('preparation',\n",
              "                                        ColumnTransformer(transformers=[('num_pipe',\n",
              "                                                                         Pipeline(steps=[('num',\n",
              "                                                                                          StandardScaler())]),\n",
              "                                                                         [0, 1,\n",
              "                                                                          2, 3,\n",
              "                                                                          4, 6,\n",
              "                                                                          7,\n",
              "                                                                          8]),\n",
              "                                                                        ('cat_pipe',\n",
              "                                                                         Pipeline(steps=[('cat',\n",
              "                                                                                          OrdinalEncoder())]),\n",
              "                                                                         [5])])),\n",
              "                                       ('model',\n",
              "                                        TransformedTargetRegressor(func=<ufunc 'log10'>,\n",
              "                                                                   inverse_func=<ufunc 'exp10'>,\n",
              "                                                                   regressor=RandomForestRegressor(n_jobs=-1,\n",
              "                                                                                                   random_state=42)))]),\n",
              "             n_jobs=1,\n",
              "             param_grid={'model__regressor__max_depth': [15, 20],\n",
              "                         'model__regressor__n_estimators': [10, 15]},\n",
              "             return_train_score=True, scoring='neg_mean_squared_error',\n",
              "             verbose=10)</pre></div></div></div><div class=\"sk-parallel\"><div class=\"sk-parallel-item\"><div class=\"sk-item\"><div class=\"sk-serial\"><div class=\"sk-item\"><div class=\"sk-serial\"><div class=\"sk-item sk-dashed-wrapped\"><div class=\"sk-label-container\"><div class=\"sk-label sk-toggleable\"><input class=\"sk-toggleable__control sk-hidden--visually\" id=\"afab95eb-a081-47d2-a182-4bcfe8fa74e9\" type=\"checkbox\" ><label class=\"sk-toggleable__label\" for=\"afab95eb-a081-47d2-a182-4bcfe8fa74e9\">preparation: ColumnTransformer</label><div class=\"sk-toggleable__content\"><pre>ColumnTransformer(transformers=[('num_pipe',\n",
              "                                 Pipeline(steps=[('num', StandardScaler())]),\n",
              "                                 [0, 1, 2, 3, 4, 6, 7, 8]),\n",
              "                                ('cat_pipe',\n",
              "                                 Pipeline(steps=[('cat', OrdinalEncoder())]),\n",
              "                                 [5])])</pre></div></div></div><div class=\"sk-parallel\"><div class=\"sk-parallel-item\"><div class=\"sk-item\"><div class=\"sk-label-container\"><div class=\"sk-label sk-toggleable\"><input class=\"sk-toggleable__control sk-hidden--visually\" id=\"dfa00b00-ac2d-4c56-b131-d3f6bc38b42c\" type=\"checkbox\" ><label class=\"sk-toggleable__label\" for=\"dfa00b00-ac2d-4c56-b131-d3f6bc38b42c\">num_pipe</label><div class=\"sk-toggleable__content\"><pre>[0, 1, 2, 3, 4, 6, 7, 8]</pre></div></div></div><div class=\"sk-serial\"><div class=\"sk-item\"><div class=\"sk-serial\"><div class=\"sk-item\"><div class=\"sk-estimator sk-toggleable\"><input class=\"sk-toggleable__control sk-hidden--visually\" id=\"bed96356-d65d-4746-b99d-01928352f42a\" type=\"checkbox\" ><label class=\"sk-toggleable__label\" for=\"bed96356-d65d-4746-b99d-01928352f42a\">StandardScaler</label><div class=\"sk-toggleable__content\"><pre>StandardScaler()</pre></div></div></div></div></div></div></div></div><div class=\"sk-parallel-item\"><div class=\"sk-item\"><div class=\"sk-label-container\"><div class=\"sk-label sk-toggleable\"><input class=\"sk-toggleable__control sk-hidden--visually\" id=\"e9b3ead5-ae9c-4478-95bf-03cda604e734\" type=\"checkbox\" ><label class=\"sk-toggleable__label\" for=\"e9b3ead5-ae9c-4478-95bf-03cda604e734\">cat_pipe</label><div class=\"sk-toggleable__content\"><pre>[5]</pre></div></div></div><div class=\"sk-serial\"><div class=\"sk-item\"><div class=\"sk-serial\"><div class=\"sk-item\"><div class=\"sk-estimator sk-toggleable\"><input class=\"sk-toggleable__control sk-hidden--visually\" id=\"c20cf17e-ba21-4346-8c29-ed6144ef675a\" type=\"checkbox\" ><label class=\"sk-toggleable__label\" for=\"c20cf17e-ba21-4346-8c29-ed6144ef675a\">OrdinalEncoder</label><div class=\"sk-toggleable__content\"><pre>OrdinalEncoder()</pre></div></div></div></div></div></div></div></div></div></div><div class=\"sk-item sk-dashed-wrapped\"><div class=\"sk-label-container\"><div class=\"sk-label sk-toggleable\"><input class=\"sk-toggleable__control sk-hidden--visually\" id=\"c6a37e8f-037b-419a-aecf-22d080d6478e\" type=\"checkbox\" ><label class=\"sk-toggleable__label\" for=\"c6a37e8f-037b-419a-aecf-22d080d6478e\">model: TransformedTargetRegressor</label><div class=\"sk-toggleable__content\"><pre>TransformedTargetRegressor(func=<ufunc 'log10'>, inverse_func=<ufunc 'exp10'>,\n",
              "                           regressor=RandomForestRegressor(n_jobs=-1,\n",
              "                                                           random_state=42))</pre></div></div></div><div class=\"sk-parallel\"><div class=\"sk-parallel-item\"><div class=\"sk-item\"><div class=\"sk-serial\"><div class=\"sk-item\"><div class=\"sk-estimator sk-toggleable\"><input class=\"sk-toggleable__control sk-hidden--visually\" id=\"a15c185c-f9c8-4dd6-a061-f4badf647b2c\" type=\"checkbox\" ><label class=\"sk-toggleable__label\" for=\"a15c185c-f9c8-4dd6-a061-f4badf647b2c\">RandomForestRegressor</label><div class=\"sk-toggleable__content\"><pre>RandomForestRegressor(n_jobs=-1, random_state=42)</pre></div></div></div></div></div></div></div></div></div></div></div></div></div></div></div></div></div>"
            ],
            "text/plain": [
              "GridSearchCV(cv=KFold(n_splits=5, random_state=42, shuffle=True),\n",
              "             estimator=Pipeline(steps=[('preparation',\n",
              "                                        ColumnTransformer(transformers=[('num_pipe',\n",
              "                                                                         Pipeline(steps=[('num',\n",
              "                                                                                          StandardScaler())]),\n",
              "                                                                         [0, 1,\n",
              "                                                                          2, 3,\n",
              "                                                                          4, 6,\n",
              "                                                                          7,\n",
              "                                                                          8]),\n",
              "                                                                        ('cat_pipe',\n",
              "                                                                         Pipeline(steps=[('cat',\n",
              "                                                                                          OrdinalEncoder())]),\n",
              "                                                                         [5])])),\n",
              "                                       ('model',\n",
              "                                        TransformedTargetRegressor(func=<ufunc 'log10'>,\n",
              "                                                                   inverse_func=<ufunc 'exp10'>,\n",
              "                                                                   regressor=RandomForestRegressor(n_jobs=-1,\n",
              "                                                                                                   random_state=42)))]),\n",
              "             n_jobs=1,\n",
              "             param_grid={'model__regressor__max_depth': [15, 20],\n",
              "                         'model__regressor__n_estimators': [10, 15]},\n",
              "             return_train_score=True, scoring='neg_mean_squared_error',\n",
              "             verbose=10)"
            ]
          },
          "metadata": {
            "tags": []
          },
          "execution_count": 151
        }
      ]
    },
    {
      "cell_type": "code",
      "metadata": {
        "colab": {
          "base_uri": "https://localhost:8080/"
        },
        "id": "erxiLTtjh-2W",
        "outputId": "299c7844-cd9a-4354-94a6-d00a534bf953"
      },
      "source": [
        "grid.best_score_, grid.best_params_"
      ],
      "execution_count": 152,
      "outputs": [
        {
          "output_type": "execute_result",
          "data": {
            "text/plain": [
              "(-23.449333726023394,\n",
              " {'model__regressor__max_depth': 20, 'model__regressor__n_estimators': 15})"
            ]
          },
          "metadata": {
            "tags": []
          },
          "execution_count": 152
        }
      ]
    },
    {
      "cell_type": "code",
      "metadata": {
        "id": "b7fcN0Ihh-2Y"
      },
      "source": [
        "# predict\n",
        "y_train_pred = grid.predict(X_train)\n",
        "y_val_pred = grid.predict(X_val)\n",
        "y_test_pred = grid.predict(X_test)"
      ],
      "execution_count": 153,
      "outputs": []
    },
    {
      "cell_type": "code",
      "metadata": {
        "colab": {
          "base_uri": "https://localhost:8080/",
          "height": 441
        },
        "id": "iZ6jwr6xJ5JT",
        "outputId": "2ed98285-0e40-4b54-922a-a4f469bb27eb"
      },
      "source": [
        "fig, axList = plt.subplots(nrows=1, ncols=2)\n",
        "axList = axList.flatten()\n",
        "fig.set_size_inches(10, 6)\n",
        "\n",
        "# axList[-1].axis('off')\n",
        "\n",
        "data = [[y_train, y_train_pred], [y_test, y_test_pred]]\n",
        "for ax, y_value in zip(axList, data):\n",
        "    ax.scatter(y_value[0], y_value[1], alpha=.5)\n",
        "\n",
        "    ax.set(xlabel='Ground truth', \n",
        "        ylabel='Predictions',\n",
        "        title='Predictions vs Truth')\n",
        "plt.tight_layout()\n",
        "# save_fig('randomForest')"
      ],
      "execution_count": 154,
      "outputs": [
        {
          "output_type": "display_data",
          "data": {
            "image/png": "[encoded data removed]",
            "text/plain": [
              "<Figure size 720x432 with 2 Axes>"
            ]
          },
          "metadata": {
            "tags": [],
            "needs_background": "light"
          }
        }
      ]
    },
    {
      "cell_type": "code",
      "metadata": {
        "colab": {
          "base_uri": "https://localhost:8080/",
          "height": 143
        },
        "id": "7dgeF64wJ5JZ",
        "outputId": "32569868-29dd-4a3d-f8a7-b54e29f24315"
      },
      "source": [
        "errors.append(pd.Series({'train': r2_score(y_train_pred, y_train),\n",
        "           'val': r2_score(y_val_pred, y_val),\n",
        "           'test' : r2_score(y_test_pred, y_test)},\n",
        "          name='RFR_Grid_score'))\n",
        "\n",
        "errors.append(pd.Series({'train': mean_squared_error(y_train, y_train_pred, squared=False),\n",
        "           'val': mean_squared_error(y_val_pred, y_val, squared=False),\n",
        "           'test' : mean_squared_error(y_test,  y_test_pred, squared=False)},\n",
        "          name='RFR_Grid_rmse'))\n",
        "\n",
        "pd.concat(errors, axis=1)"
      ],
      "execution_count": 155,
      "outputs": [
        {
          "output_type": "execute_result",
          "data": {
            "text/html": [
              "<div>\n",
              "<style scoped>\n",
              "    .dataframe tbody tr th:only-of-type {\n",
              "        vertical-align: middle;\n",
              "    }\n",
              "\n",
              "    .dataframe tbody tr th {\n",
              "        vertical-align: top;\n",
              "    }\n",
              "\n",
              "    .dataframe thead th {\n",
              "        text-align: right;\n",
              "    }\n",
              "</style>\n",
              "<table border=\"1\" class=\"dataframe\">\n",
              "  <thead>\n",
              "    <tr style=\"text-align: right;\">\n",
              "      <th></th>\n",
              "      <th>LR_score</th>\n",
              "      <th>LR_rmse</th>\n",
              "      <th>RFR_Grid_score</th>\n",
              "      <th>RFR_Grid_rmse</th>\n",
              "    </tr>\n",
              "  </thead>\n",
              "  <tbody>\n",
              "    <tr>\n",
              "      <th>train</th>\n",
              "      <td>-1.359818</td>\n",
              "      <td>15.232537</td>\n",
              "      <td>0.807447</td>\n",
              "      <td>3.801263</td>\n",
              "    </tr>\n",
              "    <tr>\n",
              "      <th>val</th>\n",
              "      <td>-1.179206</td>\n",
              "      <td>14.650705</td>\n",
              "      <td>0.680037</td>\n",
              "      <td>4.838000</td>\n",
              "    </tr>\n",
              "    <tr>\n",
              "      <th>test</th>\n",
              "      <td>-1.126861</td>\n",
              "      <td>14.460062</td>\n",
              "      <td>0.678085</td>\n",
              "      <td>4.844768</td>\n",
              "    </tr>\n",
              "  </tbody>\n",
              "</table>\n",
              "</div>"
            ],
            "text/plain": [
              "       LR_score    LR_rmse  RFR_Grid_score  RFR_Grid_rmse\n",
              "train -1.359818  15.232537        0.807447       3.801263\n",
              "val   -1.179206  14.650705        0.680037       4.838000\n",
              "test  -1.126861  14.460062        0.678085       4.844768"
            ]
          },
          "metadata": {
            "tags": []
          },
          "execution_count": 155
        }
      ]
    },
    {
      "cell_type": "markdown",
      "metadata": {
        "id": "peD3wotlJrsF"
      },
      "source": [
        "#### Retrain best Model"
      ]
    },
    {
      "cell_type": "code",
      "metadata": {
        "colab": {
          "base_uri": "https://localhost:8080/"
        },
        "id": "N3bX36YV0Vpp",
        "outputId": "1537f2ab-79ac-4bd7-834b-2de23a15b2d5"
      },
      "source": [
        "parameters = grid.best_params_\n",
        "n_estimators = parameters['model__regressor__n_estimators']\n",
        "max_depth = parameters['model__regressor__max_depth']\n",
        "max_depth, n_estimators"
      ],
      "execution_count": 156,
      "outputs": [
        {
          "output_type": "execute_result",
          "data": {
            "text/plain": [
              "(20, 15)"
            ]
          },
          "metadata": {
            "tags": []
          },
          "execution_count": 156
        }
      ]
    },
    {
      "cell_type": "code",
      "metadata": {
        "id": "k2-668iP8cwR"
      },
      "source": [
        "rfr = RandomForestRegressor(n_estimators=n_estimators,  max_depth=max_depth, random_state=42,)\n",
        "model = TransformedTargetRegressor(regressor=rfr,\n",
        "                                   func=np.log10,\n",
        "                                   inverse_func=sp.special.exp10\n",
        "                                   )"
      ],
      "execution_count": 157,
      "outputs": []
    },
    {
      "cell_type": "code",
      "metadata": {
        "id": "AvCI7RuJTba2"
      },
      "source": [
        "rfr_estimator = Pipeline([('preparation', transformer), \n",
        "                     ('model', model)\n",
        "                     ])"
      ],
      "execution_count": 158,
      "outputs": []
    },
    {
      "cell_type": "code",
      "metadata": {
        "colab": {
          "base_uri": "https://localhost:8080/"
        },
        "id": "xpCUstJSTba6",
        "outputId": "8c0982fa-0c80-48e7-a3d9-b1460fa88ab9"
      },
      "source": [
        "rfr_estimator.get_params().keys()"
      ],
      "execution_count": 159,
      "outputs": [
        {
          "output_type": "execute_result",
          "data": {
            "text/plain": [
              "dict_keys(['memory', 'steps', 'verbose', 'preparation', 'model', 'preparation__n_jobs', 'preparation__remainder', 'preparation__sparse_threshold', 'preparation__transformer_weights', 'preparation__transformers', 'preparation__verbose', 'preparation__num_pipe', 'preparation__cat_pipe', 'preparation__num_pipe__memory', 'preparation__num_pipe__steps', 'preparation__num_pipe__verbose', 'preparation__num_pipe__num', 'preparation__num_pipe__num__copy', 'preparation__num_pipe__num__with_mean', 'preparation__num_pipe__num__with_std', 'preparation__cat_pipe__memory', 'preparation__cat_pipe__steps', 'preparation__cat_pipe__verbose', 'preparation__cat_pipe__cat', 'preparation__cat_pipe__cat__categories', 'preparation__cat_pipe__cat__dtype', 'preparation__cat_pipe__cat__handle_unknown', 'preparation__cat_pipe__cat__unknown_value', 'model__check_inverse', 'model__func', 'model__inverse_func', 'model__regressor__bootstrap', 'model__regressor__ccp_alpha', 'model__regressor__criterion', 'model__regressor__max_depth', 'model__regressor__max_features', 'model__regressor__max_leaf_nodes', 'model__regressor__max_samples', 'model__regressor__min_impurity_decrease', 'model__regressor__min_impurity_split', 'model__regressor__min_samples_leaf', 'model__regressor__min_samples_split', 'model__regressor__min_weight_fraction_leaf', 'model__regressor__n_estimators', 'model__regressor__n_jobs', 'model__regressor__oob_score', 'model__regressor__random_state', 'model__regressor__verbose', 'model__regressor__warm_start', 'model__regressor', 'model__transformer'])"
            ]
          },
          "metadata": {
            "tags": []
          },
          "execution_count": 159
        }
      ]
    },
    {
      "cell_type": "code",
      "metadata": {
        "colab": {
          "base_uri": "https://localhost:8080/",
          "height": 199
        },
        "id": "dh1G2msdTba-",
        "outputId": "8fcf98f4-ce23-48ef-d93e-90c190e73104"
      },
      "source": [
        "rfr_estimator.fit(X_train, y_train.values.ravel())"
      ],
      "execution_count": 160,
      "outputs": [
        {
          "output_type": "execute_result",
          "data": {
            "text/html": [
              "<style>div.sk-top-container {color: black;background-color: white;}div.sk-toggleable {background-color: white;}label.sk-toggleable__label {cursor: pointer;display: block;width: 100%;margin-bottom: 0;padding: 0.2em 0.3em;box-sizing: border-box;text-align: center;}div.sk-toggleable__content {max-height: 0;max-width: 0;overflow: hidden;text-align: left;background-color: #f0f8ff;}div.sk-toggleable__content pre {margin: 0.2em;color: black;border-radius: 0.25em;background-color: #f0f8ff;}input.sk-toggleable__control:checked~div.sk-toggleable__content {max-height: 200px;max-width: 100%;overflow: auto;}div.sk-estimator input.sk-toggleable__control:checked~label.sk-toggleable__label {background-color: #d4ebff;}div.sk-label input.sk-toggleable__control:checked~label.sk-toggleable__label {background-color: #d4ebff;}input.sk-hidden--visually {border: 0;clip: rect(1px 1px 1px 1px);clip: rect(1px, 1px, 1px, 1px);height: 1px;margin: -1px;overflow: hidden;padding: 0;position: absolute;width: 1px;}div.sk-estimator {font-family: monospace;background-color: #f0f8ff;margin: 0.25em 0.25em;border: 1px dotted black;border-radius: 0.25em;box-sizing: border-box;}div.sk-estimator:hover {background-color: #d4ebff;}div.sk-parallel-item::after {content: \"\";width: 100%;border-bottom: 1px solid gray;flex-grow: 1;}div.sk-label:hover label.sk-toggleable__label {background-color: #d4ebff;}div.sk-serial::before {content: \"\";position: absolute;border-left: 1px solid gray;box-sizing: border-box;top: 2em;bottom: 0;left: 50%;}div.sk-serial {display: flex;flex-direction: column;align-items: center;background-color: white;}div.sk-item {z-index: 1;}div.sk-parallel {display: flex;align-items: stretch;justify-content: center;background-color: white;}div.sk-parallel-item {display: flex;flex-direction: column;position: relative;background-color: white;}div.sk-parallel-item:first-child::after {align-self: flex-end;width: 50%;}div.sk-parallel-item:last-child::after {align-self: flex-start;width: 50%;}div.sk-parallel-item:only-child::after {width: 0;}div.sk-dashed-wrapped {border: 1px dashed gray;margin: 0.2em;box-sizing: border-box;padding-bottom: 0.1em;background-color: white;position: relative;}div.sk-label label {font-family: monospace;font-weight: bold;background-color: white;display: inline-block;line-height: 1.2em;}div.sk-label-container {position: relative;z-index: 2;text-align: center;}div.sk-container {display: inline-block;position: relative;}</style><div class=\"sk-top-container\"><div class=\"sk-container\"><div class=\"sk-item sk-dashed-wrapped\"><div class=\"sk-label-container\"><div class=\"sk-label sk-toggleable\"><input class=\"sk-toggleable__control sk-hidden--visually\" id=\"e8d6f0c3-3157-4913-97bf-3d68131bf77d\" type=\"checkbox\" ><label class=\"sk-toggleable__label\" for=\"e8d6f0c3-3157-4913-97bf-3d68131bf77d\">Pipeline</label><div class=\"sk-toggleable__content\"><pre>Pipeline(steps=[('preparation',\n",
              "                 ColumnTransformer(transformers=[('num_pipe',\n",
              "                                                  Pipeline(steps=[('num',\n",
              "                                                                   StandardScaler())]),\n",
              "                                                  [0, 1, 2, 3, 4, 6, 7, 8]),\n",
              "                                                 ('cat_pipe',\n",
              "                                                  Pipeline(steps=[('cat',\n",
              "                                                                   OrdinalEncoder())]),\n",
              "                                                  [5])])),\n",
              "                ('model',\n",
              "                 TransformedTargetRegressor(func=<ufunc 'log10'>,\n",
              "                                            inverse_func=<ufunc 'exp10'>,\n",
              "                                            regressor=RandomForestRegressor(max_depth=20,\n",
              "                                                                            n_estimators=15,\n",
              "                                                                            random_state=42)))])</pre></div></div></div><div class=\"sk-serial\"><div class=\"sk-item sk-dashed-wrapped\"><div class=\"sk-label-container\"><div class=\"sk-label sk-toggleable\"><input class=\"sk-toggleable__control sk-hidden--visually\" id=\"f5197f21-a796-409a-9ac9-8daadccd0266\" type=\"checkbox\" ><label class=\"sk-toggleable__label\" for=\"f5197f21-a796-409a-9ac9-8daadccd0266\">preparation: ColumnTransformer</label><div class=\"sk-toggleable__content\"><pre>ColumnTransformer(transformers=[('num_pipe',\n",
              "                                 Pipeline(steps=[('num', StandardScaler())]),\n",
              "                                 [0, 1, 2, 3, 4, 6, 7, 8]),\n",
              "                                ('cat_pipe',\n",
              "                                 Pipeline(steps=[('cat', OrdinalEncoder())]),\n",
              "                                 [5])])</pre></div></div></div><div class=\"sk-parallel\"><div class=\"sk-parallel-item\"><div class=\"sk-item\"><div class=\"sk-label-container\"><div class=\"sk-label sk-toggleable\"><input class=\"sk-toggleable__control sk-hidden--visually\" id=\"337ee8fa-6dd1-4cbf-9066-a031b385345a\" type=\"checkbox\" ><label class=\"sk-toggleable__label\" for=\"337ee8fa-6dd1-4cbf-9066-a031b385345a\">num_pipe</label><div class=\"sk-toggleable__content\"><pre>[0, 1, 2, 3, 4, 6, 7, 8]</pre></div></div></div><div class=\"sk-serial\"><div class=\"sk-item\"><div class=\"sk-serial\"><div class=\"sk-item\"><div class=\"sk-estimator sk-toggleable\"><input class=\"sk-toggleable__control sk-hidden--visually\" id=\"16c67fd3-3578-40b6-ab2f-d9a36b0759ef\" type=\"checkbox\" ><label class=\"sk-toggleable__label\" for=\"16c67fd3-3578-40b6-ab2f-d9a36b0759ef\">StandardScaler</label><div class=\"sk-toggleable__content\"><pre>StandardScaler()</pre></div></div></div></div></div></div></div></div><div class=\"sk-parallel-item\"><div class=\"sk-item\"><div class=\"sk-label-container\"><div class=\"sk-label sk-toggleable\"><input class=\"sk-toggleable__control sk-hidden--visually\" id=\"bfdda75e-30c2-4ca4-899e-78afd6991ba8\" type=\"checkbox\" ><label class=\"sk-toggleable__label\" for=\"bfdda75e-30c2-4ca4-899e-78afd6991ba8\">cat_pipe</label><div class=\"sk-toggleable__content\"><pre>[5]</pre></div></div></div><div class=\"sk-serial\"><div class=\"sk-item\"><div class=\"sk-serial\"><div class=\"sk-item\"><div class=\"sk-estimator sk-toggleable\"><input class=\"sk-toggleable__control sk-hidden--visually\" id=\"159e8d1c-233d-4c89-8b57-ef8b9f6f6da2\" type=\"checkbox\" ><label class=\"sk-toggleable__label\" for=\"159e8d1c-233d-4c89-8b57-ef8b9f6f6da2\">OrdinalEncoder</label><div class=\"sk-toggleable__content\"><pre>OrdinalEncoder()</pre></div></div></div></div></div></div></div></div></div></div><div class=\"sk-item sk-dashed-wrapped\"><div class=\"sk-label-container\"><div class=\"sk-label sk-toggleable\"><input class=\"sk-toggleable__control sk-hidden--visually\" id=\"5bbbaab9-ca52-44a4-9ba4-710db168ef63\" type=\"checkbox\" ><label class=\"sk-toggleable__label\" for=\"5bbbaab9-ca52-44a4-9ba4-710db168ef63\">model: TransformedTargetRegressor</label><div class=\"sk-toggleable__content\"><pre>TransformedTargetRegressor(func=<ufunc 'log10'>, inverse_func=<ufunc 'exp10'>,\n",
              "                           regressor=RandomForestRegressor(max_depth=20,\n",
              "                                                           n_estimators=15,\n",
              "                                                           random_state=42))</pre></div></div></div><div class=\"sk-parallel\"><div class=\"sk-parallel-item\"><div class=\"sk-item\"><div class=\"sk-serial\"><div class=\"sk-item\"><div class=\"sk-estimator sk-toggleable\"><input class=\"sk-toggleable__control sk-hidden--visually\" id=\"5fab0361-1d65-4169-95a5-c3cb77cdd9f7\" type=\"checkbox\" ><label class=\"sk-toggleable__label\" for=\"5fab0361-1d65-4169-95a5-c3cb77cdd9f7\">RandomForestRegressor</label><div class=\"sk-toggleable__content\"><pre>RandomForestRegressor(max_depth=20, n_estimators=15, random_state=42)</pre></div></div></div></div></div></div></div></div></div></div></div></div>"
            ],
            "text/plain": [
              "Pipeline(steps=[('preparation',\n",
              "                 ColumnTransformer(transformers=[('num_pipe',\n",
              "                                                  Pipeline(steps=[('num',\n",
              "                                                                   StandardScaler())]),\n",
              "                                                  [0, 1, 2, 3, 4, 6, 7, 8]),\n",
              "                                                 ('cat_pipe',\n",
              "                                                  Pipeline(steps=[('cat',\n",
              "                                                                   OrdinalEncoder())]),\n",
              "                                                  [5])])),\n",
              "                ('model',\n",
              "                 TransformedTargetRegressor(func=<ufunc 'log10'>,\n",
              "                                            inverse_func=<ufunc 'exp10'>,\n",
              "                                            regressor=RandomForestRegressor(max_depth=20,\n",
              "                                                                            n_estimators=15,\n",
              "                                                                            random_state=42)))])"
            ]
          },
          "metadata": {
            "tags": []
          },
          "execution_count": 160
        }
      ]
    },
    {
      "cell_type": "markdown",
      "metadata": {
        "id": "hbXYqJmAYKB2"
      },
      "source": [
        "#### predict"
      ]
    },
    {
      "cell_type": "code",
      "metadata": {
        "id": "zVkY0_DfTbbC"
      },
      "source": [
        "# predict\n",
        "y_train_pred = rfr_estimator.predict(X_train)\n",
        "y_val_pred = rfr_estimator.predict(X_val)\n",
        "y_test_pred = rfr_estimator.predict(X_test)"
      ],
      "execution_count": 161,
      "outputs": []
    },
    {
      "cell_type": "code",
      "metadata": {
        "colab": {
          "base_uri": "https://localhost:8080/"
        },
        "id": "VLqkfPW_XcQa",
        "outputId": "584d0da4-2521-4f87-fa49-fd106ef813a9"
      },
      "source": [
        "rfr_estimator.predict([[0.0, 0.0, 0.0, 0.0, 12, 'Thursday', 1, 12, 224]])"
      ],
      "execution_count": 162,
      "outputs": [
        {
          "output_type": "execute_result",
          "data": {
            "text/plain": [
              "array([2.31099686])"
            ]
          },
          "metadata": {
            "tags": []
          },
          "execution_count": 162
        }
      ]
    },
    {
      "cell_type": "code",
      "metadata": {
        "colab": {
          "base_uri": "https://localhost:8080/",
          "height": 441
        },
        "id": "JZ2rch-sTbbD",
        "outputId": "5fb7bce0-7439-4f75-ee95-bcbab6f56949"
      },
      "source": [
        "fig, axList = plt.subplots(nrows=1, ncols=2)\n",
        "axList = axList.flatten()\n",
        "fig.set_size_inches(10, 6)\n",
        "\n",
        "# axList[-1].axis('off')\n",
        "\n",
        "data = [[y_train, y_train_pred], [y_test, y_test_pred]]\n",
        "for ax, y_value in zip(axList, data):\n",
        "    ax.scatter(y_value[0], y_value[1], alpha=.5)\n",
        "\n",
        "    ax.set(xlabel='Ground truth', \n",
        "        ylabel='Predictions',\n",
        "        title='Predictions vs Truth')\n",
        "plt.tight_layout()\n",
        "# save_fig('randomForest')"
      ],
      "execution_count": 163,
      "outputs": [
        {
          "output_type": "display_data",
          "data": {
            "image/png": "[encoded data removed]",
            "text/plain": [
              "<Figure size 720x432 with 2 Axes>"
            ]
          },
          "metadata": {
            "tags": [],
            "needs_background": "light"
          }
        }
      ]
    },
    {
      "cell_type": "code",
      "metadata": {
        "id": "R374CYLMTbbE"
      },
      "source": [
        "errors.append(pd.Series({'train': r2_score(y_train_pred, y_train),\n",
        "           'val': r2_score(y_val_pred, y_val),\n",
        "           'test' : r2_score(y_test_pred, y_test)},\n",
        "          name='RFC_score'))\n",
        "\n",
        "errors.append(pd.Series({'train': mean_squared_error(y_train, y_train_pred, squared=False),\n",
        "           'val': mean_squared_error(y_val_pred, y_val, squared=False),\n",
        "           'test' : mean_squared_error(y_test,  y_test_pred, squared=False)},\n",
        "          name='RFC_rmse'))"
      ],
      "execution_count": 164,
      "outputs": []
    },
    {
      "cell_type": "code",
      "metadata": {
        "colab": {
          "base_uri": "https://localhost:8080/",
          "height": 143
        },
        "id": "0ovfKC0DTbbG",
        "outputId": "c69b3bfc-e197-4121-85fd-473998ff329f"
      },
      "source": [
        "pd.concat(errors, axis=1)"
      ],
      "execution_count": 165,
      "outputs": [
        {
          "output_type": "execute_result",
          "data": {
            "text/html": [
              "<div>\n",
              "<style scoped>\n",
              "    .dataframe tbody tr th:only-of-type {\n",
              "        vertical-align: middle;\n",
              "    }\n",
              "\n",
              "    .dataframe tbody tr th {\n",
              "        vertical-align: top;\n",
              "    }\n",
              "\n",
              "    .dataframe thead th {\n",
              "        text-align: right;\n",
              "    }\n",
              "</style>\n",
              "<table border=\"1\" class=\"dataframe\">\n",
              "  <thead>\n",
              "    <tr style=\"text-align: right;\">\n",
              "      <th></th>\n",
              "      <th>LR_score</th>\n",
              "      <th>LR_rmse</th>\n",
              "      <th>RFR_Grid_score</th>\n",
              "      <th>RFR_Grid_rmse</th>\n",
              "      <th>RFC_score</th>\n",
              "      <th>RFC_rmse</th>\n",
              "    </tr>\n",
              "  </thead>\n",
              "  <tbody>\n",
              "    <tr>\n",
              "      <th>train</th>\n",
              "      <td>-1.359818</td>\n",
              "      <td>15.232537</td>\n",
              "      <td>0.807447</td>\n",
              "      <td>3.801263</td>\n",
              "      <td>0.807447</td>\n",
              "      <td>3.801263</td>\n",
              "    </tr>\n",
              "    <tr>\n",
              "      <th>val</th>\n",
              "      <td>-1.179206</td>\n",
              "      <td>14.650705</td>\n",
              "      <td>0.680037</td>\n",
              "      <td>4.838000</td>\n",
              "      <td>0.680037</td>\n",
              "      <td>4.838000</td>\n",
              "    </tr>\n",
              "    <tr>\n",
              "      <th>test</th>\n",
              "      <td>-1.126861</td>\n",
              "      <td>14.460062</td>\n",
              "      <td>0.678085</td>\n",
              "      <td>4.844768</td>\n",
              "      <td>0.678085</td>\n",
              "      <td>4.844768</td>\n",
              "    </tr>\n",
              "  </tbody>\n",
              "</table>\n",
              "</div>"
            ],
            "text/plain": [
              "       LR_score    LR_rmse  RFR_Grid_score  RFR_Grid_rmse  RFC_score  RFC_rmse\n",
              "train -1.359818  15.232537        0.807447       3.801263   0.807447  3.801263\n",
              "val   -1.179206  14.650705        0.680037       4.838000   0.680037  4.838000\n",
              "test  -1.126861  14.460062        0.678085       4.844768   0.678085  4.844768"
            ]
          },
          "metadata": {
            "tags": []
          },
          "execution_count": 165
        }
      ]
    },
    {
      "cell_type": "markdown",
      "metadata": {
        "id": "BEIAs4gnYY6o"
      },
      "source": [
        "#### Save model"
      ]
    },
    {
      "cell_type": "code",
      "metadata": {
        "id": "5EPZSXBpYbew",
        "colab": {
          "base_uri": "https://localhost:8080/",
          "height": 36
        },
        "outputId": "a15196ea-a1a1-47ee-8182-878a8602f4f5"
      },
      "source": [
        "import joblib\n",
        "joblib.__version__"
      ],
      "execution_count": 166,
      "outputs": [
        {
          "output_type": "execute_result",
          "data": {
            "application/vnd.google.colaboratory.intrinsic+json": {
              "type": "string"
            },
            "text/plain": [
              "'1.0.1'"
            ]
          },
          "metadata": {
            "tags": []
          },
          "execution_count": 166
        }
      ]
    },
    {
      "cell_type": "code",
      "metadata": {
        "colab": {
          "base_uri": "https://localhost:8080/"
        },
        "id": "fft-ojmeYvYu",
        "outputId": "a8324954-5522-4c5f-9c6d-59646a50c74d"
      },
      "source": [
        "joblib.dump(rfc_estimator, 'Deploy/model.joblib')"
      ],
      "execution_count": 167,
      "outputs": [
        {
          "output_type": "execute_result",
          "data": {
            "text/plain": [
              "['Deploy/model.joblib']"
            ]
          },
          "metadata": {
            "tags": []
          },
          "execution_count": 167
        }
      ]
    },
    {
      "cell_type": "markdown",
      "metadata": {
        "id": "HPM4oPdTimL4"
      },
      "source": [
        "### Extra Tree Regressor"
      ]
    },
    {
      "cell_type": "code",
      "metadata": {
        "id": "5zUgiJ1LpYfR"
      },
      "source": [
        "from sklearn.ensemble import ExtraTreesRegressor"
      ],
      "execution_count": 168,
      "outputs": []
    },
    {
      "cell_type": "code",
      "metadata": {
        "id": "zCOHgDqWA6DN"
      },
      "source": [
        "etr = ExtraTreesRegressor(random_state=42, n_estimators=n_estimators, max_depth=max_depth, verbose=10,)\n",
        "model = TransformedTargetRegressor(regressor=etr,\n",
        "                                   func=np.log10,\n",
        "                                   inverse_func=sp.special.exp10\n",
        "                                   )"
      ],
      "execution_count": 169,
      "outputs": []
    },
    {
      "cell_type": "code",
      "metadata": {
        "id": "fYtShhNCi463"
      },
      "source": [
        "etr_estimator = Pipeline([('preparation', transformer), \n",
        "                     ('model', model)\n",
        "                     ])"
      ],
      "execution_count": 170,
      "outputs": []
    },
    {
      "cell_type": "code",
      "metadata": {
        "colab": {
          "base_uri": "https://localhost:8080/"
        },
        "id": "s4EQzLsSi465",
        "outputId": "beb87bad-a302-42e6-acde-358b15faa91d"
      },
      "source": [
        "etr_estimator.get_params().keys()"
      ],
      "execution_count": 171,
      "outputs": [
        {
          "output_type": "execute_result",
          "data": {
            "text/plain": [
              "dict_keys(['memory', 'steps', 'verbose', 'preparation', 'model', 'preparation__n_jobs', 'preparation__remainder', 'preparation__sparse_threshold', 'preparation__transformer_weights', 'preparation__transformers', 'preparation__verbose', 'preparation__num_pipe', 'preparation__cat_pipe', 'preparation__num_pipe__memory', 'preparation__num_pipe__steps', 'preparation__num_pipe__verbose', 'preparation__num_pipe__num', 'preparation__num_pipe__num__copy', 'preparation__num_pipe__num__with_mean', 'preparation__num_pipe__num__with_std', 'preparation__cat_pipe__memory', 'preparation__cat_pipe__steps', 'preparation__cat_pipe__verbose', 'preparation__cat_pipe__cat', 'preparation__cat_pipe__cat__categories', 'preparation__cat_pipe__cat__dtype', 'preparation__cat_pipe__cat__handle_unknown', 'preparation__cat_pipe__cat__unknown_value', 'model__check_inverse', 'model__func', 'model__inverse_func', 'model__regressor__bootstrap', 'model__regressor__ccp_alpha', 'model__regressor__criterion', 'model__regressor__max_depth', 'model__regressor__max_features', 'model__regressor__max_leaf_nodes', 'model__regressor__max_samples', 'model__regressor__min_impurity_decrease', 'model__regressor__min_impurity_split', 'model__regressor__min_samples_leaf', 'model__regressor__min_samples_split', 'model__regressor__min_weight_fraction_leaf', 'model__regressor__n_estimators', 'model__regressor__n_jobs', 'model__regressor__oob_score', 'model__regressor__random_state', 'model__regressor__verbose', 'model__regressor__warm_start', 'model__regressor', 'model__transformer'])"
            ]
          },
          "metadata": {
            "tags": []
          },
          "execution_count": 171
        }
      ]
    },
    {
      "cell_type": "code",
      "metadata": {
        "colab": {
          "base_uri": "https://localhost:8080/",
          "height": 686
        },
        "id": "nUQRM0TCi468",
        "outputId": "40454b3d-4c41-442d-bf4f-c30e4b85edd1"
      },
      "source": [
        "etr_estimator.fit(X_train, y_train.values.ravel())"
      ],
      "execution_count": 172,
      "outputs": [
        {
          "output_type": "stream",
          "text": [
            "[Parallel(n_jobs=1)]: Using backend SequentialBackend with 1 concurrent workers.\n"
          ],
          "name": "stderr"
        },
        {
          "output_type": "stream",
          "text": [
            "building tree 1 of 15\n"
          ],
          "name": "stdout"
        },
        {
          "output_type": "stream",
          "text": [
            "[Parallel(n_jobs=1)]: Done   1 out of   1 | elapsed:    5.3s remaining:    0.0s\n"
          ],
          "name": "stderr"
        },
        {
          "output_type": "stream",
          "text": [
            "building tree 2 of 15\n"
          ],
          "name": "stdout"
        },
        {
          "output_type": "stream",
          "text": [
            "[Parallel(n_jobs=1)]: Done   2 out of   2 | elapsed:   10.5s remaining:    0.0s\n"
          ],
          "name": "stderr"
        },
        {
          "output_type": "stream",
          "text": [
            "building tree 3 of 15\n"
          ],
          "name": "stdout"
        },
        {
          "output_type": "stream",
          "text": [
            "[Parallel(n_jobs=1)]: Done   3 out of   3 | elapsed:   15.4s remaining:    0.0s\n"
          ],
          "name": "stderr"
        },
        {
          "output_type": "stream",
          "text": [
            "building tree 4 of 15\n"
          ],
          "name": "stdout"
        },
        {
          "output_type": "stream",
          "text": [
            "[Parallel(n_jobs=1)]: Done   4 out of   4 | elapsed:   20.5s remaining:    0.0s\n"
          ],
          "name": "stderr"
        },
        {
          "output_type": "stream",
          "text": [
            "building tree 5 of 15\n"
          ],
          "name": "stdout"
        },
        {
          "output_type": "stream",
          "text": [
            "[Parallel(n_jobs=1)]: Done   5 out of   5 | elapsed:   25.8s remaining:    0.0s\n"
          ],
          "name": "stderr"
        },
        {
          "output_type": "stream",
          "text": [
            "building tree 6 of 15\n"
          ],
          "name": "stdout"
        },
        {
          "output_type": "stream",
          "text": [
            "[Parallel(n_jobs=1)]: Done   6 out of   6 | elapsed:   31.2s remaining:    0.0s\n"
          ],
          "name": "stderr"
        },
        {
          "output_type": "stream",
          "text": [
            "building tree 7 of 15\n"
          ],
          "name": "stdout"
        },
        {
          "output_type": "stream",
          "text": [
            "[Parallel(n_jobs=1)]: Done   7 out of   7 | elapsed:   36.7s remaining:    0.0s\n"
          ],
          "name": "stderr"
        },
        {
          "output_type": "stream",
          "text": [
            "building tree 8 of 15\n"
          ],
          "name": "stdout"
        },
        {
          "output_type": "stream",
          "text": [
            "[Parallel(n_jobs=1)]: Done   8 out of   8 | elapsed:   41.8s remaining:    0.0s\n"
          ],
          "name": "stderr"
        },
        {
          "output_type": "stream",
          "text": [
            "building tree 9 of 15\n"
          ],
          "name": "stdout"
        },
        {
          "output_type": "stream",
          "text": [
            "[Parallel(n_jobs=1)]: Done   9 out of   9 | elapsed:   47.3s remaining:    0.0s\n"
          ],
          "name": "stderr"
        },
        {
          "output_type": "stream",
          "text": [
            "building tree 10 of 15\n",
            "building tree 11 of 15\n",
            "building tree 12 of 15\n",
            "building tree 13 of 15\n",
            "building tree 14 of 15\n",
            "building tree 15 of 15\n"
          ],
          "name": "stdout"
        },
        {
          "output_type": "stream",
          "text": [
            "[Parallel(n_jobs=1)]: Done  15 out of  15 | elapsed:  1.3min finished\n"
          ],
          "name": "stderr"
        },
        {
          "output_type": "execute_result",
          "data": {
            "text/html": [
              "<style>div.sk-top-container {color: black;background-color: white;}div.sk-toggleable {background-color: white;}label.sk-toggleable__label {cursor: pointer;display: block;width: 100%;margin-bottom: 0;padding: 0.2em 0.3em;box-sizing: border-box;text-align: center;}div.sk-toggleable__content {max-height: 0;max-width: 0;overflow: hidden;text-align: left;background-color: #f0f8ff;}div.sk-toggleable__content pre {margin: 0.2em;color: black;border-radius: 0.25em;background-color: #f0f8ff;}input.sk-toggleable__control:checked~div.sk-toggleable__content {max-height: 200px;max-width: 100%;overflow: auto;}div.sk-estimator input.sk-toggleable__control:checked~label.sk-toggleable__label {background-color: #d4ebff;}div.sk-label input.sk-toggleable__control:checked~label.sk-toggleable__label {background-color: #d4ebff;}input.sk-hidden--visually {border: 0;clip: rect(1px 1px 1px 1px);clip: rect(1px, 1px, 1px, 1px);height: 1px;margin: -1px;overflow: hidden;padding: 0;position: absolute;width: 1px;}div.sk-estimator {font-family: monospace;background-color: #f0f8ff;margin: 0.25em 0.25em;border: 1px dotted black;border-radius: 0.25em;box-sizing: border-box;}div.sk-estimator:hover {background-color: #d4ebff;}div.sk-parallel-item::after {content: \"\";width: 100%;border-bottom: 1px solid gray;flex-grow: 1;}div.sk-label:hover label.sk-toggleable__label {background-color: #d4ebff;}div.sk-serial::before {content: \"\";position: absolute;border-left: 1px solid gray;box-sizing: border-box;top: 2em;bottom: 0;left: 50%;}div.sk-serial {display: flex;flex-direction: column;align-items: center;background-color: white;}div.sk-item {z-index: 1;}div.sk-parallel {display: flex;align-items: stretch;justify-content: center;background-color: white;}div.sk-parallel-item {display: flex;flex-direction: column;position: relative;background-color: white;}div.sk-parallel-item:first-child::after {align-self: flex-end;width: 50%;}div.sk-parallel-item:last-child::after {align-self: flex-start;width: 50%;}div.sk-parallel-item:only-child::after {width: 0;}div.sk-dashed-wrapped {border: 1px dashed gray;margin: 0.2em;box-sizing: border-box;padding-bottom: 0.1em;background-color: white;position: relative;}div.sk-label label {font-family: monospace;font-weight: bold;background-color: white;display: inline-block;line-height: 1.2em;}div.sk-label-container {position: relative;z-index: 2;text-align: center;}div.sk-container {display: inline-block;position: relative;}</style><div class=\"sk-top-container\"><div class=\"sk-container\"><div class=\"sk-item sk-dashed-wrapped\"><div class=\"sk-label-container\"><div class=\"sk-label sk-toggleable\"><input class=\"sk-toggleable__control sk-hidden--visually\" id=\"1dfe5041-de47-47a4-a24b-59a113e124f0\" type=\"checkbox\" ><label class=\"sk-toggleable__label\" for=\"1dfe5041-de47-47a4-a24b-59a113e124f0\">Pipeline</label><div class=\"sk-toggleable__content\"><pre>Pipeline(steps=[('preparation',\n",
              "                 ColumnTransformer(transformers=[('num_pipe',\n",
              "                                                  Pipeline(steps=[('num',\n",
              "                                                                   StandardScaler())]),\n",
              "                                                  [0, 1, 2, 3, 4, 6, 7, 8]),\n",
              "                                                 ('cat_pipe',\n",
              "                                                  Pipeline(steps=[('cat',\n",
              "                                                                   OrdinalEncoder())]),\n",
              "                                                  [5])])),\n",
              "                ('model',\n",
              "                 TransformedTargetRegressor(func=<ufunc 'log10'>,\n",
              "                                            inverse_func=<ufunc 'exp10'>,\n",
              "                                            regressor=ExtraTreesRegressor(max_depth=20,\n",
              "                                                                          n_estimators=15,\n",
              "                                                                          random_state=42,\n",
              "                                                                          verbose=10)))])</pre></div></div></div><div class=\"sk-serial\"><div class=\"sk-item sk-dashed-wrapped\"><div class=\"sk-label-container\"><div class=\"sk-label sk-toggleable\"><input class=\"sk-toggleable__control sk-hidden--visually\" id=\"b2298236-8bed-42d9-8dff-f003dbf23a93\" type=\"checkbox\" ><label class=\"sk-toggleable__label\" for=\"b2298236-8bed-42d9-8dff-f003dbf23a93\">preparation: ColumnTransformer</label><div class=\"sk-toggleable__content\"><pre>ColumnTransformer(transformers=[('num_pipe',\n",
              "                                 Pipeline(steps=[('num', StandardScaler())]),\n",
              "                                 [0, 1, 2, 3, 4, 6, 7, 8]),\n",
              "                                ('cat_pipe',\n",
              "                                 Pipeline(steps=[('cat', OrdinalEncoder())]),\n",
              "                                 [5])])</pre></div></div></div><div class=\"sk-parallel\"><div class=\"sk-parallel-item\"><div class=\"sk-item\"><div class=\"sk-label-container\"><div class=\"sk-label sk-toggleable\"><input class=\"sk-toggleable__control sk-hidden--visually\" id=\"70e51262-cd3b-4efa-9adb-3b0ed4e9d04b\" type=\"checkbox\" ><label class=\"sk-toggleable__label\" for=\"70e51262-cd3b-4efa-9adb-3b0ed4e9d04b\">num_pipe</label><div class=\"sk-toggleable__content\"><pre>[0, 1, 2, 3, 4, 6, 7, 8]</pre></div></div></div><div class=\"sk-serial\"><div class=\"sk-item\"><div class=\"sk-serial\"><div class=\"sk-item\"><div class=\"sk-estimator sk-toggleable\"><input class=\"sk-toggleable__control sk-hidden--visually\" id=\"b1b039f8-efe6-4f3f-adb6-b9f4d6d568ec\" type=\"checkbox\" ><label class=\"sk-toggleable__label\" for=\"b1b039f8-efe6-4f3f-adb6-b9f4d6d568ec\">StandardScaler</label><div class=\"sk-toggleable__content\"><pre>StandardScaler()</pre></div></div></div></div></div></div></div></div><div class=\"sk-parallel-item\"><div class=\"sk-item\"><div class=\"sk-label-container\"><div class=\"sk-label sk-toggleable\"><input class=\"sk-toggleable__control sk-hidden--visually\" id=\"097f5c8d-0ff7-44e2-b297-8cb54924a80e\" type=\"checkbox\" ><label class=\"sk-toggleable__label\" for=\"097f5c8d-0ff7-44e2-b297-8cb54924a80e\">cat_pipe</label><div class=\"sk-toggleable__content\"><pre>[5]</pre></div></div></div><div class=\"sk-serial\"><div class=\"sk-item\"><div class=\"sk-serial\"><div class=\"sk-item\"><div class=\"sk-estimator sk-toggleable\"><input class=\"sk-toggleable__control sk-hidden--visually\" id=\"7fdd3677-5c72-47b8-987f-5b0c673c1888\" type=\"checkbox\" ><label class=\"sk-toggleable__label\" for=\"7fdd3677-5c72-47b8-987f-5b0c673c1888\">OrdinalEncoder</label><div class=\"sk-toggleable__content\"><pre>OrdinalEncoder()</pre></div></div></div></div></div></div></div></div></div></div><div class=\"sk-item sk-dashed-wrapped\"><div class=\"sk-label-container\"><div class=\"sk-label sk-toggleable\"><input class=\"sk-toggleable__control sk-hidden--visually\" id=\"b5e67a93-f289-45e9-a2e3-fdb33859769b\" type=\"checkbox\" ><label class=\"sk-toggleable__label\" for=\"b5e67a93-f289-45e9-a2e3-fdb33859769b\">model: TransformedTargetRegressor</label><div class=\"sk-toggleable__content\"><pre>TransformedTargetRegressor(func=<ufunc 'log10'>, inverse_func=<ufunc 'exp10'>,\n",
              "                           regressor=ExtraTreesRegressor(max_depth=20,\n",
              "                                                         n_estimators=15,\n",
              "                                                         random_state=42,\n",
              "                                                         verbose=10))</pre></div></div></div><div class=\"sk-parallel\"><div class=\"sk-parallel-item\"><div class=\"sk-item\"><div class=\"sk-serial\"><div class=\"sk-item\"><div class=\"sk-estimator sk-toggleable\"><input class=\"sk-toggleable__control sk-hidden--visually\" id=\"00843783-4422-4cfa-9a80-3aac291d2582\" type=\"checkbox\" ><label class=\"sk-toggleable__label\" for=\"00843783-4422-4cfa-9a80-3aac291d2582\">ExtraTreesRegressor</label><div class=\"sk-toggleable__content\"><pre>ExtraTreesRegressor(max_depth=20, n_estimators=15, random_state=42, verbose=10)</pre></div></div></div></div></div></div></div></div></div></div></div></div>"
            ],
            "text/plain": [
              "Pipeline(steps=[('preparation',\n",
              "                 ColumnTransformer(transformers=[('num_pipe',\n",
              "                                                  Pipeline(steps=[('num',\n",
              "                                                                   StandardScaler())]),\n",
              "                                                  [0, 1, 2, 3, 4, 6, 7, 8]),\n",
              "                                                 ('cat_pipe',\n",
              "                                                  Pipeline(steps=[('cat',\n",
              "                                                                   OrdinalEncoder())]),\n",
              "                                                  [5])])),\n",
              "                ('model',\n",
              "                 TransformedTargetRegressor(func=<ufunc 'log10'>,\n",
              "                                            inverse_func=<ufunc 'exp10'>,\n",
              "                                            regressor=ExtraTreesRegressor(max_depth=20,\n",
              "                                                                          n_estimators=15,\n",
              "                                                                          random_state=42,\n",
              "                                                                          verbose=10)))])"
            ]
          },
          "metadata": {
            "tags": []
          },
          "execution_count": 172
        }
      ]
    },
    {
      "cell_type": "code",
      "metadata": {
        "id": "L6z2qwDQi47E",
        "colab": {
          "base_uri": "https://localhost:8080/"
        },
        "outputId": "6d5c08af-14c5-4c41-9b87-b3a9744465d8"
      },
      "source": [
        "# predict\n",
        "y_train_pred = etr_estimator.predict(X_train)\n",
        "y_val_pred = etr_estimator.predict(X_val)\n",
        "y_test_pred = etr_estimator.predict(X_test)"
      ],
      "execution_count": 173,
      "outputs": [
        {
          "output_type": "stream",
          "text": [
            "[Parallel(n_jobs=1)]: Using backend SequentialBackend with 1 concurrent workers.\n",
            "[Parallel(n_jobs=1)]: Done   1 out of   1 | elapsed:    0.6s remaining:    0.0s\n",
            "[Parallel(n_jobs=1)]: Done   2 out of   2 | elapsed:    1.4s remaining:    0.0s\n",
            "[Parallel(n_jobs=1)]: Done   3 out of   3 | elapsed:    2.2s remaining:    0.0s\n",
            "[Parallel(n_jobs=1)]: Done   4 out of   4 | elapsed:    2.7s remaining:    0.0s\n",
            "[Parallel(n_jobs=1)]: Done   5 out of   5 | elapsed:    3.5s remaining:    0.0s\n",
            "[Parallel(n_jobs=1)]: Done   6 out of   6 | elapsed:    4.2s remaining:    0.0s\n",
            "[Parallel(n_jobs=1)]: Done   7 out of   7 | elapsed:    4.9s remaining:    0.0s\n",
            "[Parallel(n_jobs=1)]: Done   8 out of   8 | elapsed:    5.6s remaining:    0.0s\n",
            "[Parallel(n_jobs=1)]: Done   9 out of   9 | elapsed:    6.2s remaining:    0.0s\n",
            "[Parallel(n_jobs=1)]: Done  15 out of  15 | elapsed:   10.5s finished\n",
            "[Parallel(n_jobs=1)]: Using backend SequentialBackend with 1 concurrent workers.\n",
            "[Parallel(n_jobs=1)]: Done   1 out of   1 | elapsed:    0.3s remaining:    0.0s\n",
            "[Parallel(n_jobs=1)]: Done   2 out of   2 | elapsed:    0.6s remaining:    0.0s\n",
            "[Parallel(n_jobs=1)]: Done   3 out of   3 | elapsed:    0.9s remaining:    0.0s\n",
            "[Parallel(n_jobs=1)]: Done   4 out of   4 | elapsed:    1.2s remaining:    0.0s\n",
            "[Parallel(n_jobs=1)]: Done   5 out of   5 | elapsed:    1.5s remaining:    0.0s\n",
            "[Parallel(n_jobs=1)]: Done   6 out of   6 | elapsed:    1.7s remaining:    0.0s\n",
            "[Parallel(n_jobs=1)]: Done   7 out of   7 | elapsed:    2.0s remaining:    0.0s\n",
            "[Parallel(n_jobs=1)]: Done   8 out of   8 | elapsed:    2.3s remaining:    0.0s\n",
            "[Parallel(n_jobs=1)]: Done   9 out of   9 | elapsed:    2.6s remaining:    0.0s\n",
            "[Parallel(n_jobs=1)]: Done  15 out of  15 | elapsed:    4.3s finished\n",
            "[Parallel(n_jobs=1)]: Using backend SequentialBackend with 1 concurrent workers.\n",
            "[Parallel(n_jobs=1)]: Done   1 out of   1 | elapsed:    0.2s remaining:    0.0s\n",
            "[Parallel(n_jobs=1)]: Done   2 out of   2 | elapsed:    0.4s remaining:    0.0s\n",
            "[Parallel(n_jobs=1)]: Done   3 out of   3 | elapsed:    0.6s remaining:    0.0s\n",
            "[Parallel(n_jobs=1)]: Done   4 out of   4 | elapsed:    0.8s remaining:    0.0s\n",
            "[Parallel(n_jobs=1)]: Done   5 out of   5 | elapsed:    1.0s remaining:    0.0s\n",
            "[Parallel(n_jobs=1)]: Done   6 out of   6 | elapsed:    1.2s remaining:    0.0s\n",
            "[Parallel(n_jobs=1)]: Done   7 out of   7 | elapsed:    1.4s remaining:    0.0s\n",
            "[Parallel(n_jobs=1)]: Done   8 out of   8 | elapsed:    1.6s remaining:    0.0s\n",
            "[Parallel(n_jobs=1)]: Done   9 out of   9 | elapsed:    1.8s remaining:    0.0s\n",
            "[Parallel(n_jobs=1)]: Done  15 out of  15 | elapsed:    2.9s finished\n"
          ],
          "name": "stderr"
        }
      ]
    },
    {
      "cell_type": "code",
      "metadata": {
        "colab": {
          "base_uri": "https://localhost:8080/",
          "height": 441
        },
        "id": "YEqg0EvSi47F",
        "outputId": "fd858a8e-5cbc-40be-f70d-f5fa7fe57af7"
      },
      "source": [
        "fig, axList = plt.subplots(nrows=1, ncols=2)\n",
        "axList = axList.flatten()\n",
        "fig.set_size_inches(10, 6)\n",
        "\n",
        "# axList[-1].axis('off')\n",
        "\n",
        "data = [[y_train, y_train_pred], [y_test, y_test_pred]]\n",
        "for ax, y_value in zip(axList, data):\n",
        "    ax.scatter(y_value[0], y_value[1], alpha=.5)\n",
        "\n",
        "    ax.set(xlabel='Ground truth', \n",
        "        ylabel='Predictions',\n",
        "        title='Predictions vs Truth')\n",
        "plt.tight_layout()"
      ],
      "execution_count": 174,
      "outputs": [
        {
          "output_type": "display_data",
          "data": {
            "image/png": "[encoded data removed]",
            "text/plain": [
              "<Figure size 720x432 with 2 Axes>"
            ]
          },
          "metadata": {
            "tags": [],
            "needs_background": "light"
          }
        }
      ]
    },
    {
      "cell_type": "code",
      "metadata": {
        "id": "ktn_5-UOi47H"
      },
      "source": [
        "errors.append(pd.Series({'train': r2_score(y_train_pred, y_train),\n",
        "           'val': r2_score(y_val_pred, y_val),\n",
        "           'test' : r2_score(y_test_pred, y_test)},\n",
        "          name='ETC_score'))\n",
        "\n",
        "errors.append(pd.Series({'train': mean_squared_error(y_train, y_train_pred, squared=False),\n",
        "           'val': mean_squared_error(y_val_pred, y_val, squared=False),\n",
        "           'test' : mean_squared_error(y_test,  y_test_pred, squared=False)},\n",
        "          name='ETC_rmse'))"
      ],
      "execution_count": 175,
      "outputs": []
    },
    {
      "cell_type": "code",
      "metadata": {
        "colab": {
          "base_uri": "https://localhost:8080/",
          "height": 143
        },
        "id": "pcBNvON6i47J",
        "outputId": "bfb725fb-cc6c-4b22-c7ab-28fd2b625fe7"
      },
      "source": [
        "pd.concat(errors, axis=1)"
      ],
      "execution_count": 176,
      "outputs": [
        {
          "output_type": "execute_result",
          "data": {
            "text/html": [
              "<div>\n",
              "<style scoped>\n",
              "    .dataframe tbody tr th:only-of-type {\n",
              "        vertical-align: middle;\n",
              "    }\n",
              "\n",
              "    .dataframe tbody tr th {\n",
              "        vertical-align: top;\n",
              "    }\n",
              "\n",
              "    .dataframe thead th {\n",
              "        text-align: right;\n",
              "    }\n",
              "</style>\n",
              "<table border=\"1\" class=\"dataframe\">\n",
              "  <thead>\n",
              "    <tr style=\"text-align: right;\">\n",
              "      <th></th>\n",
              "      <th>LR_score</th>\n",
              "      <th>LR_rmse</th>\n",
              "      <th>RFR_Grid_score</th>\n",
              "      <th>RFR_Grid_rmse</th>\n",
              "      <th>RFC_score</th>\n",
              "      <th>RFC_rmse</th>\n",
              "      <th>ETC_score</th>\n",
              "      <th>ETC_rmse</th>\n",
              "    </tr>\n",
              "  </thead>\n",
              "  <tbody>\n",
              "    <tr>\n",
              "      <th>train</th>\n",
              "      <td>-1.359818</td>\n",
              "      <td>15.232537</td>\n",
              "      <td>0.807447</td>\n",
              "      <td>3.801263</td>\n",
              "      <td>0.807447</td>\n",
              "      <td>3.801263</td>\n",
              "      <td>0.789330</td>\n",
              "      <td>3.944965</td>\n",
              "    </tr>\n",
              "    <tr>\n",
              "      <th>val</th>\n",
              "      <td>-1.179206</td>\n",
              "      <td>14.650705</td>\n",
              "      <td>0.680037</td>\n",
              "      <td>4.838000</td>\n",
              "      <td>0.680037</td>\n",
              "      <td>4.838000</td>\n",
              "      <td>0.668129</td>\n",
              "      <td>4.855416</td>\n",
              "    </tr>\n",
              "    <tr>\n",
              "      <th>test</th>\n",
              "      <td>-1.126861</td>\n",
              "      <td>14.460062</td>\n",
              "      <td>0.678085</td>\n",
              "      <td>4.844768</td>\n",
              "      <td>0.678085</td>\n",
              "      <td>4.844768</td>\n",
              "      <td>0.666071</td>\n",
              "      <td>4.862690</td>\n",
              "    </tr>\n",
              "  </tbody>\n",
              "</table>\n",
              "</div>"
            ],
            "text/plain": [
              "       LR_score    LR_rmse  RFR_Grid_score  ...  RFC_rmse  ETC_score  ETC_rmse\n",
              "train -1.359818  15.232537        0.807447  ...  3.801263   0.789330  3.944965\n",
              "val   -1.179206  14.650705        0.680037  ...  4.838000   0.668129  4.855416\n",
              "test  -1.126861  14.460062        0.678085  ...  4.844768   0.666071  4.862690\n",
              "\n",
              "[3 rows x 8 columns]"
            ]
          },
          "metadata": {
            "tags": []
          },
          "execution_count": 176
        }
      ]
    },
    {
      "cell_type": "code",
      "metadata": {
        "id": "aJuME81u0g2d"
      },
      "source": [
        ""
      ],
      "execution_count": null,
      "outputs": []
    }
  ]
}